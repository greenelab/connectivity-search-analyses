{
 "cells": [
  {
   "cell_type": "code",
   "execution_count": 1,
   "metadata": {
    "collapsed": true
   },
   "outputs": [],
   "source": [
    "from hetmech.matrix import *\n",
    "from hetmech.degree_weight import *"
   ]
  },
  {
   "cell_type": "code",
   "execution_count": 2,
   "metadata": {
    "collapsed": true
   },
   "outputs": [],
   "source": [
    "import json\n",
    "import urllib.request\n",
    "import numpy as np\n",
    "from scipy import sparse\n",
    "import hetio.readwrite\n",
    "import hetio.hetnet\n",
    "import pandas as pd\n",
    "import time\n",
    "import random\n",
    "import regex as re\n",
    "import matplotlib.pyplot as plt\n",
    "%matplotlib inline"
   ]
  },
  {
   "cell_type": "markdown",
   "metadata": {},
   "source": [
    "## Load the graph and metaedges"
   ]
  },
  {
   "cell_type": "code",
   "execution_count": 3,
   "metadata": {},
   "outputs": [
    {
     "name": "stdout",
     "output_type": "stream",
     "text": [
      "CPU times: user 1min 6s, sys: 1.48 s, total: 1min 8s\n",
      "Wall time: 1min 10s\n"
     ]
    }
   ],
   "source": [
    "%%time\n",
    "url = 'https://github.com/dhimmel/hetionet/raw/76550e6c93fbe92124edc71725e8c7dd4ca8b1f5/hetnet/json/hetionet-v1.0.json.bz2'\n",
    "graph = hetio.readwrite.read_graph(url)\n",
    "metagraph = graph.metagraph"
   ]
  },
  {
   "cell_type": "markdown",
   "metadata": {},
   "source": [
    "## Load Metapaths"
   ]
  },
  {
   "cell_type": "code",
   "execution_count": 13,
   "metadata": {
    "collapsed": true
   },
   "outputs": [],
   "source": [
    "def load_metapaths():\n",
    "    \"\"\"Load 1206 Rephetio metapaths\"\"\"\n",
    "    with urllib.request.urlopen(\n",
    "        'https://github.com/dhimmel/learn/raw/25093893ed53730ab5cfdac49561c4b6bd3376c5/all-features/data/metapaths.json'\n",
    "    ) as data_file:\n",
    "        metapaths = json.loads(data_file.read().decode())\n",
    "    assert len(metapaths) == 1206\n",
    "    abbrevs = [metapath['abbreviation'] for metapath in metapaths] # extract str from list(dicts)\n",
    "    return abbrevs"
   ]
  },
  {
   "cell_type": "markdown",
   "metadata": {},
   "source": [
    "## See what the breakdown of Rephetio metapaths looks like.\n",
    "\n",
    "How many are BAAB, etc.\n",
    "1. No node repeats\n",
    "2. Any number of nodes repeated once, but disjoint: AXABYBCZC\n",
    "3. two nodes repeated once, nested: BAAB\n",
    "4. two nodes repeated once, interleaved: BABA\n",
    "5. any other situation"
   ]
  },
  {
   "cell_type": "code",
   "execution_count": 14,
   "metadata": {
    "collapsed": true
   },
   "outputs": [],
   "source": [
    "all_metapaths = load_metapaths()"
   ]
  },
  {
   "cell_type": "code",
   "execution_count": 15,
   "metadata": {},
   "outputs": [
    {
     "data": {
      "text/plain": [
       "['CbGaD', 'CbGdD', 'CbGuD', 'CdGaD', 'CdGdD', 'CdGuD']"
      ]
     },
     "execution_count": 15,
     "metadata": {},
     "output_type": "execute_result"
    }
   ],
   "source": [
    "all_metapaths[:6]"
   ]
  },
  {
   "cell_type": "code",
   "execution_count": 7,
   "metadata": {
    "collapsed": true
   },
   "outputs": [],
   "source": [
    "def remove_unnecessary(string):\n",
    "    \"\"\"Removes all characters not integral to the characterization of\n",
    "    a given metapath. Edges are automatically removed.\n",
    "\n",
    "    Examples:\n",
    "    ---------\n",
    "    'AxByBzC' -> ['B', 'B']\n",
    "    'AABBCC' -> ['A', 'A', 'B', 'B', 'C', 'C']\n",
    "    'ABBA' -> ['A', 'B', 'B', 'A']\n",
    "    'BABA' -> ['B', 'A', 'B', 'A']\n",
    "    'ABCDEFA' -> ['A', 'A']\n",
    "    \"\"\"\n",
    "    nodes = re.split('[a-z<>]{1,2}', string)\n",
    "    node_repeats = [v for i, v in enumerate(nodes) if v in nodes[i+1:]]\n",
    "    ordered_repeats = [node for node in nodes if node in node_repeats]\n",
    "\n",
    "    return ordered_repeats\n"
   ]
  },
  {
   "cell_type": "code",
   "execution_count": 9,
   "metadata": {
    "collapsed": true
   },
   "outputs": [],
   "source": [
    "disjoint = \"AxAxBxB\"\n",
    "no_repeats = \"AxBxCxD\"\n",
    "common = \"AxBxCxB\"\n",
    "baab = \"AxBxBxA\"\n",
    "baba = \"AxBxAxB\"\n",
    "triple = \"AxAxBxBxDxCxCxA\"\n",
    "multi = \"AxAxBxBxDxD\"\n",
    "type_list = [disjoint, no_repeats, common, baab, baba, triple, multi]"
   ]
  },
  {
   "cell_type": "code",
   "execution_count": 19,
   "metadata": {
    "collapsed": true
   },
   "outputs": [],
   "source": [
    "def reformat(string):\n",
    "    \"\"\"Returns a list of repeated nodes grouped\n",
    "\n",
    "    Example outputs:\n",
    "    ----------------\n",
    "    ['AA', 'BB', 'CC']\n",
    "    ['ABBA'], ['ABAB'], ['']\n",
    "    \"\"\"\n",
    "    chars_list = remove_unnecessary(string)\n",
    "    \n",
    "    # actual functionality to test if the element is part of a repeat    \n",
    "    repeats_list = [''.join(list(v)) for i, v in itertools.groupby(chars_list)]            \n",
    "    if len(chars_list) - len(repeats_list) <= 1:\n",
    "        repeats_list = [''.join(repeats_list)]\n",
    "\n",
    "    return repeats_list    "
   ]
  },
  {
   "cell_type": "code",
   "execution_count": 10,
   "metadata": {
    "collapsed": true
   },
   "outputs": [],
   "source": [
    "def characterize(string):\n",
    "    \"\"\"Takes a metapath string and returns a string categorization\n",
    "\n",
    "    Outputs:\n",
    "    --------\n",
    "    no_repeats\n",
    "        eg. 'ABCD'\n",
    "    disjoint\n",
    "        eg. 'ABACDC'\n",
    "    abba\n",
    "        eg. 'BAAB'\n",
    "    abab\n",
    "        eg. 'BABA'\n",
    "    Other\n",
    "        eg. 'ABCABC', 'ABBCCA', 'ABCCBA', etc.\n",
    "    \"\"\"\n",
    "    formatted = reformat(string)\n",
    "    if not formatted[0]:\n",
    "        category = \"no_repeats\"\n",
    "    elif len(formatted) == 1:\n",
    "        if len(formatted[0]) < 4:\n",
    "            category = 'disjoint'\n",
    "        elif formatted[0][0] == formatted[0][-1]:\n",
    "            category = 'abba'\n",
    "        else:\n",
    "            category = 'abab'\n",
    "    else:\n",
    "        if all([i == len(i) * i[0] and len(i) != 1 for i in formatted]):\n",
    "            category = 'disjoint'\n",
    "        else:\n",
    "            category = 'Other'\n",
    "\n",
    "    return category"
   ]
  },
  {
   "cell_type": "code",
   "execution_count": 41,
   "metadata": {},
   "outputs": [
    {
     "name": "stdout",
     "output_type": "stream",
     "text": [
      "AxAxBxB ['A', 'A', 'B', 'B'] ['AA', 'BB'] True disjoint\n",
      "AxBxCxD [] [''] True no_repeats\n",
      "AxBxCxB ['B', 'B'] ['BB'] True disjoint\n",
      "AxBxBxA ['A', 'B', 'B', 'A'] ['ABBA'] True abba\n",
      "AxBxAxB ['A', 'B', 'A', 'B'] ['ABAB'] True abab\n",
      "AxAxBxBxDxCxCxA ['A', 'A', 'B', 'B', 'C', 'C', 'A'] ['AA', 'BB', 'CC', 'A'] False Other\n",
      "AxAxBxBxDxD ['A', 'A', 'B', 'B', 'D', 'D'] ['AA', 'BB', 'DD'] True disjoint\n"
     ]
    }
   ],
   "source": [
    "for i in type_list:\n",
    "    print(i, remove_unnecessary(i), reformat(i), all([not len(j)%2 for j in reformat(i)]), characterize(i))"
   ]
  },
  {
   "cell_type": "code",
   "execution_count": 13,
   "metadata": {},
   "outputs": [
    {
     "data": {
      "text/html": [
       "<div>\n",
       "<style>\n",
       "    .dataframe thead tr:only-child th {\n",
       "        text-align: right;\n",
       "    }\n",
       "\n",
       "    .dataframe thead th {\n",
       "        text-align: left;\n",
       "    }\n",
       "\n",
       "    .dataframe tbody tr th {\n",
       "        vertical-align: top;\n",
       "    }\n",
       "</style>\n",
       "<table border=\"1\" class=\"dataframe\">\n",
       "  <thead>\n",
       "    <tr style=\"text-align: right;\">\n",
       "      <th></th>\n",
       "      <th>metapath</th>\n",
       "      <th>type</th>\n",
       "    </tr>\n",
       "  </thead>\n",
       "  <tbody>\n",
       "    <tr>\n",
       "      <th>0</th>\n",
       "      <td>CbGaD</td>\n",
       "      <td>no_repeats</td>\n",
       "    </tr>\n",
       "    <tr>\n",
       "      <th>1</th>\n",
       "      <td>CbGdD</td>\n",
       "      <td>no_repeats</td>\n",
       "    </tr>\n",
       "    <tr>\n",
       "      <th>2</th>\n",
       "      <td>CbGuD</td>\n",
       "      <td>no_repeats</td>\n",
       "    </tr>\n",
       "    <tr>\n",
       "      <th>3</th>\n",
       "      <td>CdGaD</td>\n",
       "      <td>no_repeats</td>\n",
       "    </tr>\n",
       "    <tr>\n",
       "      <th>4</th>\n",
       "      <td>CdGdD</td>\n",
       "      <td>no_repeats</td>\n",
       "    </tr>\n",
       "  </tbody>\n",
       "</table>\n",
       "</div>"
      ],
      "text/plain": [
       "  metapath        type\n",
       "0    CbGaD  no_repeats\n",
       "1    CbGdD  no_repeats\n",
       "2    CbGuD  no_repeats\n",
       "3    CdGaD  no_repeats\n",
       "4    CdGdD  no_repeats"
      ]
     },
     "execution_count": 13,
     "metadata": {},
     "output_type": "execute_result"
    }
   ],
   "source": [
    "categories = pd.DataFrame([[v, characterize(v)] for v in all_metapaths], columns=['metapath', 'type'])\n",
    "categories.head()"
   ]
  },
  {
   "cell_type": "code",
   "execution_count": 14,
   "metadata": {},
   "outputs": [
    {
     "data": {
      "text/plain": [
       "<matplotlib.axes._subplots.AxesSubplot at 0x7f05b6274550>"
      ]
     },
     "execution_count": 14,
     "metadata": {},
     "output_type": "execute_result"
    },
    {
     "data": {
      "image/png": "[encoded data removed]",
      "text/plain": [
       "<matplotlib.figure.Figure at 0x7f05b62653c8>"
      ]
     },
     "metadata": {},
     "output_type": "display_data"
    }
   ],
   "source": [
    "categories.type.value_counts().plot(kind='bar')"
   ]
  },
  {
   "cell_type": "code",
   "execution_count": 15,
   "metadata": {
    "scrolled": true
   },
   "outputs": [
    {
     "data": {
      "text/html": [
       "<div>\n",
       "<style>\n",
       "    .dataframe thead tr:only-child th {\n",
       "        text-align: right;\n",
       "    }\n",
       "\n",
       "    .dataframe thead th {\n",
       "        text-align: left;\n",
       "    }\n",
       "\n",
       "    .dataframe tbody tr th {\n",
       "        vertical-align: top;\n",
       "    }\n",
       "</style>\n",
       "<table border=\"1\" class=\"dataframe\">\n",
       "  <thead>\n",
       "    <tr style=\"text-align: right;\">\n",
       "      <th></th>\n",
       "      <th>metapath</th>\n",
       "      <th>type</th>\n",
       "    </tr>\n",
       "  </thead>\n",
       "  <tbody>\n",
       "    <tr>\n",
       "      <th>6</th>\n",
       "      <td>CpDrD</td>\n",
       "      <td>disjoint</td>\n",
       "    </tr>\n",
       "    <tr>\n",
       "      <th>7</th>\n",
       "      <td>CrCpD</td>\n",
       "      <td>disjoint</td>\n",
       "    </tr>\n",
       "    <tr>\n",
       "      <th>8</th>\n",
       "      <td>CrCtD</td>\n",
       "      <td>disjoint</td>\n",
       "    </tr>\n",
       "    <tr>\n",
       "      <th>9</th>\n",
       "      <td>CtDrD</td>\n",
       "      <td>disjoint</td>\n",
       "    </tr>\n",
       "    <tr>\n",
       "      <th>13</th>\n",
       "      <td>CbG&lt;rGaD</td>\n",
       "      <td>disjoint</td>\n",
       "    </tr>\n",
       "  </tbody>\n",
       "</table>\n",
       "</div>"
      ],
      "text/plain": [
       "    metapath      type\n",
       "6      CpDrD  disjoint\n",
       "7      CrCpD  disjoint\n",
       "8      CrCtD  disjoint\n",
       "9      CtDrD  disjoint\n",
       "13  CbG<rGaD  disjoint"
      ]
     },
     "execution_count": 15,
     "metadata": {},
     "output_type": "execute_result"
    }
   ],
   "source": [
    "categories.loc[categories['type'] == 'disjoint'].head()"
   ]
  },
  {
   "cell_type": "code",
   "execution_count": 6,
   "metadata": {
    "collapsed": true
   },
   "outputs": [],
   "source": [
    "metanodes = list(metagraph.metapath_from_abbrev('CtDrD').get_nodes())"
   ]
  },
  {
   "cell_type": "code",
   "execution_count": 7,
   "metadata": {},
   "outputs": [
    {
     "data": {
      "text/plain": [
       "True"
      ]
     },
     "execution_count": 7,
     "metadata": {},
     "output_type": "execute_result"
    }
   ],
   "source": [
    "metanodes[1] == metanodes[2]"
   ]
  },
  {
   "cell_type": "code",
   "execution_count": 3,
   "metadata": {
    "collapsed": true
   },
   "outputs": [],
   "source": [
    "def categorize(metapath):\n",
    "    metanodes = list(metapath.get_nodes())\n",
    "\n",
    "    if len(metanodes) > 5:\n",
    "        raise NotImplementedError(\n",
    "            \"Metapaths of that length are not yet supported\")\n",
    "\n",
    "    repeated_nodes = {v for i, v in enumerate(metanodes) if\n",
    "                      v in metanodes[i + 1:]}\n",
    "\n",
    "    if len(repeated_nodes) > 2:\n",
    "        raise NotImplementedError(\"Only two repeats supported at the moment\")\n",
    "\n",
    "    if not repeated_nodes:\n",
    "        return 'no_repeats'\n",
    "    if len(repeated_nodes) == 1:\n",
    "        return 'disjoint'  # just one repeat = disjoint\n",
    "\n",
    "    repeats_only = [node for node in metanodes if node in repeated_nodes]\n",
    "\n",
    "    # Group neighbors if they are the same\n",
    "    grouped = [list(v) for k, v in itertools.groupby(repeats_only)]\n",
    "\n",
    "    # Group [A, BB, A] or [A, B, A, B] into one\n",
    "    if len(repeats_only) - len(grouped) <= 1:\n",
    "        grouped = [[item for sublist in grouped for item in sublist]]\n",
    "\n",
    "    # Categorize the reformatted metapath\n",
    "    if len(grouped) == 1 and len(grouped[0]) == 4:\n",
    "        if grouped[0][0] == grouped[0][-1]:\n",
    "            return 'BAAB'\n",
    "        else:\n",
    "            return 'BABA'\n",
    "    else:\n",
    "        if all([len(set(i)) == 1 and len(i) != 1 for i in grouped]):\n",
    "            return 'disjoint'\n",
    "        else:\n",
    "            return 'other'"
   ]
  },
  {
   "cell_type": "code",
   "execution_count": 291,
   "metadata": {
    "scrolled": true
   },
   "outputs": [
    {
     "ename": "AttributeError",
     "evalue": "'str' object has no attribute 'get_nodes'",
     "output_type": "error",
     "traceback": [
      "\u001b[0;31m---------------------------------------------------------------------------\u001b[0m",
      "\u001b[0;31mAttributeError\u001b[0m                            Traceback (most recent call last)",
      "\u001b[0;32m<ipython-input-291-db0e857741e2>\u001b[0m in \u001b[0;36m<module>\u001b[0;34m()\u001b[0m\n\u001b[1;32m      1\u001b[0m \u001b[0;32mfor\u001b[0m \u001b[0mi\u001b[0m \u001b[0;32min\u001b[0m \u001b[0mall_metapaths\u001b[0m\u001b[0;34m:\u001b[0m\u001b[0;34m\u001b[0m\u001b[0m\n\u001b[0;32m----> 2\u001b[0;31m     \u001b[0mprint\u001b[0m\u001b[0;34m(\u001b[0m\u001b[0mi\u001b[0m\u001b[0;34m,\u001b[0m \u001b[0mcategorize\u001b[0m\u001b[0;34m(\u001b[0m\u001b[0mi\u001b[0m\u001b[0;34m)\u001b[0m\u001b[0;34m)\u001b[0m\u001b[0;34m\u001b[0m\u001b[0m\n\u001b[0m",
      "\u001b[0;32m<ipython-input-290-6980376c2248>\u001b[0m in \u001b[0;36mcategorize\u001b[0;34m(metapath)\u001b[0m\n\u001b[1;32m      1\u001b[0m \u001b[0;32mdef\u001b[0m \u001b[0mcategorize\u001b[0m\u001b[0;34m(\u001b[0m\u001b[0mmetapath\u001b[0m\u001b[0;34m)\u001b[0m\u001b[0;34m:\u001b[0m\u001b[0;34m\u001b[0m\u001b[0m\n\u001b[0;32m----> 2\u001b[0;31m     \u001b[0mmetanodes\u001b[0m \u001b[0;34m=\u001b[0m \u001b[0mlist\u001b[0m\u001b[0;34m(\u001b[0m\u001b[0mmetapath\u001b[0m\u001b[0;34m.\u001b[0m\u001b[0mget_nodes\u001b[0m\u001b[0;34m(\u001b[0m\u001b[0;34m)\u001b[0m\u001b[0;34m)\u001b[0m\u001b[0;34m\u001b[0m\u001b[0m\n\u001b[0m\u001b[1;32m      3\u001b[0m \u001b[0;34m\u001b[0m\u001b[0m\n\u001b[1;32m      4\u001b[0m     \u001b[0;32mif\u001b[0m \u001b[0mlen\u001b[0m\u001b[0;34m(\u001b[0m\u001b[0mmetanodes\u001b[0m\u001b[0;34m)\u001b[0m \u001b[0;34m>\u001b[0m \u001b[0;36m5\u001b[0m\u001b[0;34m:\u001b[0m\u001b[0;34m\u001b[0m\u001b[0m\n\u001b[1;32m      5\u001b[0m         raise NotImplementedError(\n",
      "\u001b[0;31mAttributeError\u001b[0m: 'str' object has no attribute 'get_nodes'"
     ]
    }
   ],
   "source": [
    "for i in all_metapaths:\n",
    "    print(i, categorize(i))"
   ]
  },
  {
   "cell_type": "code",
   "execution_count": 262,
   "metadata": {},
   "outputs": [
    {
     "ename": "AttributeError",
     "evalue": "'str' object has no attribute 'get_nodes'",
     "output_type": "error",
     "traceback": [
      "\u001b[0;31m---------------------------------------------------------------------------\u001b[0m",
      "\u001b[0;31mAttributeError\u001b[0m                            Traceback (most recent call last)",
      "\u001b[0;32m<ipython-input-262-7ba07abd0400>\u001b[0m in \u001b[0;36m<module>\u001b[0;34m()\u001b[0m\n\u001b[0;32m----> 1\u001b[0;31m \u001b[0mcategories\u001b[0m \u001b[0;34m=\u001b[0m \u001b[0mpd\u001b[0m\u001b[0;34m.\u001b[0m\u001b[0mDataFrame\u001b[0m\u001b[0;34m(\u001b[0m\u001b[0;34m[\u001b[0m\u001b[0;34m[\u001b[0m\u001b[0mv\u001b[0m\u001b[0;34m,\u001b[0m \u001b[0mcategorize\u001b[0m\u001b[0;34m(\u001b[0m\u001b[0mv\u001b[0m\u001b[0;34m)\u001b[0m\u001b[0;34m]\u001b[0m \u001b[0;32mfor\u001b[0m \u001b[0mv\u001b[0m \u001b[0;32min\u001b[0m \u001b[0mall_metapaths\u001b[0m\u001b[0;34m]\u001b[0m\u001b[0;34m,\u001b[0m \u001b[0mcolumns\u001b[0m\u001b[0;34m=\u001b[0m\u001b[0;34m[\u001b[0m\u001b[0;34m'metapath'\u001b[0m\u001b[0;34m,\u001b[0m \u001b[0;34m'type'\u001b[0m\u001b[0;34m]\u001b[0m\u001b[0;34m)\u001b[0m\u001b[0;34m\u001b[0m\u001b[0m\n\u001b[0m\u001b[1;32m      2\u001b[0m \u001b[0mcategories\u001b[0m\u001b[0;34m.\u001b[0m\u001b[0mhead\u001b[0m\u001b[0;34m(\u001b[0m\u001b[0;34m)\u001b[0m\u001b[0;34m\u001b[0m\u001b[0m\n",
      "\u001b[0;32m<ipython-input-262-7ba07abd0400>\u001b[0m in \u001b[0;36m<listcomp>\u001b[0;34m(.0)\u001b[0m\n\u001b[0;32m----> 1\u001b[0;31m \u001b[0mcategories\u001b[0m \u001b[0;34m=\u001b[0m \u001b[0mpd\u001b[0m\u001b[0;34m.\u001b[0m\u001b[0mDataFrame\u001b[0m\u001b[0;34m(\u001b[0m\u001b[0;34m[\u001b[0m\u001b[0;34m[\u001b[0m\u001b[0mv\u001b[0m\u001b[0;34m,\u001b[0m \u001b[0mcategorize\u001b[0m\u001b[0;34m(\u001b[0m\u001b[0mv\u001b[0m\u001b[0;34m)\u001b[0m\u001b[0;34m]\u001b[0m \u001b[0;32mfor\u001b[0m \u001b[0mv\u001b[0m \u001b[0;32min\u001b[0m \u001b[0mall_metapaths\u001b[0m\u001b[0;34m]\u001b[0m\u001b[0;34m,\u001b[0m \u001b[0mcolumns\u001b[0m\u001b[0;34m=\u001b[0m\u001b[0;34m[\u001b[0m\u001b[0;34m'metapath'\u001b[0m\u001b[0;34m,\u001b[0m \u001b[0;34m'type'\u001b[0m\u001b[0;34m]\u001b[0m\u001b[0;34m)\u001b[0m\u001b[0;34m\u001b[0m\u001b[0m\n\u001b[0m\u001b[1;32m      2\u001b[0m \u001b[0mcategories\u001b[0m\u001b[0;34m.\u001b[0m\u001b[0mhead\u001b[0m\u001b[0;34m(\u001b[0m\u001b[0;34m)\u001b[0m\u001b[0;34m\u001b[0m\u001b[0m\n",
      "\u001b[0;32m<ipython-input-260-0709b4b1bdcf>\u001b[0m in \u001b[0;36mcategorize\u001b[0;34m(metapath)\u001b[0m\n\u001b[1;32m      1\u001b[0m \u001b[0;32mdef\u001b[0m \u001b[0mcategorize\u001b[0m\u001b[0;34m(\u001b[0m\u001b[0mmetapath\u001b[0m\u001b[0;34m)\u001b[0m\u001b[0;34m:\u001b[0m\u001b[0;34m\u001b[0m\u001b[0m\n\u001b[0;32m----> 2\u001b[0;31m     \u001b[0mmetanodes\u001b[0m \u001b[0;34m=\u001b[0m \u001b[0mlist\u001b[0m\u001b[0;34m(\u001b[0m\u001b[0mmetapath\u001b[0m\u001b[0;34m.\u001b[0m\u001b[0mget_nodes\u001b[0m\u001b[0;34m(\u001b[0m\u001b[0;34m)\u001b[0m\u001b[0;34m)\u001b[0m\u001b[0;34m\u001b[0m\u001b[0m\n\u001b[0m\u001b[1;32m      3\u001b[0m \u001b[0;34m\u001b[0m\u001b[0m\n\u001b[1;32m      4\u001b[0m     \u001b[0;32mif\u001b[0m \u001b[0mlen\u001b[0m\u001b[0;34m(\u001b[0m\u001b[0mmetanodes\u001b[0m\u001b[0;34m)\u001b[0m \u001b[0;34m>\u001b[0m \u001b[0;36m5\u001b[0m\u001b[0;34m:\u001b[0m\u001b[0;34m\u001b[0m\u001b[0m\n\u001b[1;32m      5\u001b[0m         raise NotImplementedError(\n",
      "\u001b[0;31mAttributeError\u001b[0m: 'str' object has no attribute 'get_nodes'"
     ]
    }
   ],
   "source": [
    "categories = pd.DataFrame([[v, categorize(v)] for v in all_metapaths], columns=['metapath', 'type'])\n",
    "categories.head()"
   ]
  },
  {
   "cell_type": "code",
   "execution_count": 263,
   "metadata": {},
   "outputs": [
    {
     "data": {
      "text/html": [
       "<div>\n",
       "<style>\n",
       "    .dataframe thead tr:only-child th {\n",
       "        text-align: right;\n",
       "    }\n",
       "\n",
       "    .dataframe thead th {\n",
       "        text-align: left;\n",
       "    }\n",
       "\n",
       "    .dataframe tbody tr th {\n",
       "        vertical-align: top;\n",
       "    }\n",
       "</style>\n",
       "<table border=\"1\" class=\"dataframe\">\n",
       "  <thead>\n",
       "    <tr style=\"text-align: right;\">\n",
       "      <th></th>\n",
       "      <th>metapath</th>\n",
       "      <th>type</th>\n",
       "    </tr>\n",
       "  </thead>\n",
       "  <tbody>\n",
       "  </tbody>\n",
       "</table>\n",
       "</div>"
      ],
      "text/plain": [
       "Empty DataFrame\n",
       "Columns: [metapath, type]\n",
       "Index: []"
      ]
     },
     "execution_count": 263,
     "metadata": {},
     "output_type": "execute_result"
    }
   ],
   "source": [
    "categories.loc[categories['type'] == 'disjoint2']"
   ]
  },
  {
   "cell_type": "code",
   "execution_count": 264,
   "metadata": {},
   "outputs": [
    {
     "data": {
      "text/plain": [
       "<matplotlib.axes._subplots.AxesSubplot at 0x7f946827dfd0>"
      ]
     },
     "execution_count": 264,
     "metadata": {},
     "output_type": "execute_result"
    },
    {
     "data": {
      "image/png": "[encoded data removed]",
      "text/plain": [
       "<matplotlib.figure.Figure at 0x7f946827dd68>"
      ]
     },
     "metadata": {},
     "output_type": "display_data"
    }
   ],
   "source": [
    "categories.type.value_counts().plot(kind='bar')"
   ]
  },
  {
   "cell_type": "code",
   "execution_count": null,
   "metadata": {
    "collapsed": true
   },
   "outputs": [],
   "source": []
  },
  {
   "cell_type": "code",
   "execution_count": null,
   "metadata": {
    "collapsed": true
   },
   "outputs": [],
   "source": []
  },
  {
   "cell_type": "code",
   "execution_count": null,
   "metadata": {
    "collapsed": true
   },
   "outputs": [],
   "source": []
  },
  {
   "cell_type": "code",
   "execution_count": null,
   "metadata": {
    "collapsed": true
   },
   "outputs": [],
   "source": []
  },
  {
   "cell_type": "code",
   "execution_count": null,
   "metadata": {
    "collapsed": true
   },
   "outputs": [],
   "source": []
  },
  {
   "cell_type": "code",
   "execution_count": null,
   "metadata": {
    "collapsed": true
   },
   "outputs": [],
   "source": []
  },
  {
   "cell_type": "code",
   "execution_count": null,
   "metadata": {
    "collapsed": true
   },
   "outputs": [],
   "source": []
  },
  {
   "cell_type": "code",
   "execution_count": null,
   "metadata": {
    "collapsed": true
   },
   "outputs": [],
   "source": []
  },
  {
   "cell_type": "code",
   "execution_count": null,
   "metadata": {
    "collapsed": true
   },
   "outputs": [],
   "source": []
  },
  {
   "cell_type": "code",
   "execution_count": null,
   "metadata": {
    "collapsed": true
   },
   "outputs": [],
   "source": []
  },
  {
   "cell_type": "code",
   "execution_count": 265,
   "metadata": {
    "collapsed": true
   },
   "outputs": [],
   "source": [
    "df = []\n",
    "for i in list(\"ABC\"):\n",
    "    for j in list(\"ABC\"):\n",
    "        for k in list(\"ABC\"):\n",
    "            for l in list(\"ABC\"):\n",
    "                for m in list(\"ABC\"):\n",
    "                    for n in list(\"ABC\"):\n",
    "                        df.append([i+j+k+l+m+n, len(i+j+k+l+m+n), len(list(itertools.groupby(i+j+k+l+m+n))), \n",
    "                              len(i+j+k+l+m+n) - len(list(itertools.groupby(i+j+k+l+m+n)))])\n",
    "\n",
    "df = pd.DataFrame(df, columns=['path', 'len', 'grouped', 'diff'])"
   ]
  },
  {
   "cell_type": "code",
   "execution_count": 266,
   "metadata": {},
   "outputs": [
    {
     "data": {
      "text/html": [
       "<div>\n",
       "<style>\n",
       "    .dataframe thead tr:only-child th {\n",
       "        text-align: right;\n",
       "    }\n",
       "\n",
       "    .dataframe thead th {\n",
       "        text-align: left;\n",
       "    }\n",
       "\n",
       "    .dataframe tbody tr th {\n",
       "        vertical-align: top;\n",
       "    }\n",
       "</style>\n",
       "<table border=\"1\" class=\"dataframe\">\n",
       "  <thead>\n",
       "    <tr style=\"text-align: right;\">\n",
       "      <th></th>\n",
       "      <th>path</th>\n",
       "      <th>len</th>\n",
       "      <th>grouped</th>\n",
       "      <th>diff</th>\n",
       "    </tr>\n",
       "  </thead>\n",
       "  <tbody>\n",
       "    <tr>\n",
       "      <th>30</th>\n",
       "      <td>AABABA</td>\n",
       "      <td>6</td>\n",
       "      <td>5</td>\n",
       "      <td>1</td>\n",
       "    </tr>\n",
       "    <tr>\n",
       "      <th>32</th>\n",
       "      <td>AABABC</td>\n",
       "      <td>6</td>\n",
       "      <td>5</td>\n",
       "      <td>1</td>\n",
       "    </tr>\n",
       "    <tr>\n",
       "      <th>33</th>\n",
       "      <td>AABACA</td>\n",
       "      <td>6</td>\n",
       "      <td>5</td>\n",
       "      <td>1</td>\n",
       "    </tr>\n",
       "    <tr>\n",
       "      <th>34</th>\n",
       "      <td>AABACB</td>\n",
       "      <td>6</td>\n",
       "      <td>5</td>\n",
       "      <td>1</td>\n",
       "    </tr>\n",
       "    <tr>\n",
       "      <th>46</th>\n",
       "      <td>AABCAB</td>\n",
       "      <td>6</td>\n",
       "      <td>5</td>\n",
       "      <td>1</td>\n",
       "    </tr>\n",
       "    <tr>\n",
       "      <th>47</th>\n",
       "      <td>AABCAC</td>\n",
       "      <td>6</td>\n",
       "      <td>5</td>\n",
       "      <td>1</td>\n",
       "    </tr>\n",
       "    <tr>\n",
       "      <th>48</th>\n",
       "      <td>AABCBA</td>\n",
       "      <td>6</td>\n",
       "      <td>5</td>\n",
       "      <td>1</td>\n",
       "    </tr>\n",
       "    <tr>\n",
       "      <th>50</th>\n",
       "      <td>AABCBC</td>\n",
       "      <td>6</td>\n",
       "      <td>5</td>\n",
       "      <td>1</td>\n",
       "    </tr>\n",
       "    <tr>\n",
       "      <th>57</th>\n",
       "      <td>AACABA</td>\n",
       "      <td>6</td>\n",
       "      <td>5</td>\n",
       "      <td>1</td>\n",
       "    </tr>\n",
       "    <tr>\n",
       "      <th>59</th>\n",
       "      <td>AACABC</td>\n",
       "      <td>6</td>\n",
       "      <td>5</td>\n",
       "      <td>1</td>\n",
       "    </tr>\n",
       "    <tr>\n",
       "      <th>60</th>\n",
       "      <td>AACACA</td>\n",
       "      <td>6</td>\n",
       "      <td>5</td>\n",
       "      <td>1</td>\n",
       "    </tr>\n",
       "    <tr>\n",
       "      <th>61</th>\n",
       "      <td>AACACB</td>\n",
       "      <td>6</td>\n",
       "      <td>5</td>\n",
       "      <td>1</td>\n",
       "    </tr>\n",
       "    <tr>\n",
       "      <th>64</th>\n",
       "      <td>AACBAB</td>\n",
       "      <td>6</td>\n",
       "      <td>5</td>\n",
       "      <td>1</td>\n",
       "    </tr>\n",
       "    <tr>\n",
       "      <th>65</th>\n",
       "      <td>AACBAC</td>\n",
       "      <td>6</td>\n",
       "      <td>5</td>\n",
       "      <td>1</td>\n",
       "    </tr>\n",
       "    <tr>\n",
       "      <th>69</th>\n",
       "      <td>AACBCA</td>\n",
       "      <td>6</td>\n",
       "      <td>5</td>\n",
       "      <td>1</td>\n",
       "    </tr>\n",
       "    <tr>\n",
       "      <th>70</th>\n",
       "      <td>AACBCB</td>\n",
       "      <td>6</td>\n",
       "      <td>5</td>\n",
       "      <td>1</td>\n",
       "    </tr>\n",
       "    <tr>\n",
       "      <th>84</th>\n",
       "      <td>ABAABA</td>\n",
       "      <td>6</td>\n",
       "      <td>5</td>\n",
       "      <td>1</td>\n",
       "    </tr>\n",
       "    <tr>\n",
       "      <th>86</th>\n",
       "      <td>ABAABC</td>\n",
       "      <td>6</td>\n",
       "      <td>5</td>\n",
       "      <td>1</td>\n",
       "    </tr>\n",
       "    <tr>\n",
       "      <th>87</th>\n",
       "      <td>ABAACA</td>\n",
       "      <td>6</td>\n",
       "      <td>5</td>\n",
       "      <td>1</td>\n",
       "    </tr>\n",
       "    <tr>\n",
       "      <th>88</th>\n",
       "      <td>ABAACB</td>\n",
       "      <td>6</td>\n",
       "      <td>5</td>\n",
       "      <td>1</td>\n",
       "    </tr>\n",
       "    <tr>\n",
       "      <th>90</th>\n",
       "      <td>ABABAA</td>\n",
       "      <td>6</td>\n",
       "      <td>5</td>\n",
       "      <td>1</td>\n",
       "    </tr>\n",
       "    <tr>\n",
       "      <th>91</th>\n",
       "      <td>ABABAB</td>\n",
       "      <td>6</td>\n",
       "      <td>6</td>\n",
       "      <td>0</td>\n",
       "    </tr>\n",
       "    <tr>\n",
       "      <th>92</th>\n",
       "      <td>ABABAC</td>\n",
       "      <td>6</td>\n",
       "      <td>6</td>\n",
       "      <td>0</td>\n",
       "    </tr>\n",
       "    <tr>\n",
       "      <th>93</th>\n",
       "      <td>ABABBA</td>\n",
       "      <td>6</td>\n",
       "      <td>5</td>\n",
       "      <td>1</td>\n",
       "    </tr>\n",
       "    <tr>\n",
       "      <th>95</th>\n",
       "      <td>ABABBC</td>\n",
       "      <td>6</td>\n",
       "      <td>5</td>\n",
       "      <td>1</td>\n",
       "    </tr>\n",
       "    <tr>\n",
       "      <th>96</th>\n",
       "      <td>ABABCA</td>\n",
       "      <td>6</td>\n",
       "      <td>6</td>\n",
       "      <td>0</td>\n",
       "    </tr>\n",
       "    <tr>\n",
       "      <th>97</th>\n",
       "      <td>ABABCB</td>\n",
       "      <td>6</td>\n",
       "      <td>6</td>\n",
       "      <td>0</td>\n",
       "    </tr>\n",
       "    <tr>\n",
       "      <th>98</th>\n",
       "      <td>ABABCC</td>\n",
       "      <td>6</td>\n",
       "      <td>5</td>\n",
       "      <td>1</td>\n",
       "    </tr>\n",
       "    <tr>\n",
       "      <th>99</th>\n",
       "      <td>ABACAA</td>\n",
       "      <td>6</td>\n",
       "      <td>5</td>\n",
       "      <td>1</td>\n",
       "    </tr>\n",
       "    <tr>\n",
       "      <th>100</th>\n",
       "      <td>ABACAB</td>\n",
       "      <td>6</td>\n",
       "      <td>6</td>\n",
       "      <td>0</td>\n",
       "    </tr>\n",
       "    <tr>\n",
       "      <th>...</th>\n",
       "      <td>...</td>\n",
       "      <td>...</td>\n",
       "      <td>...</td>\n",
       "      <td>...</td>\n",
       "    </tr>\n",
       "    <tr>\n",
       "      <th>628</th>\n",
       "      <td>CBCACB</td>\n",
       "      <td>6</td>\n",
       "      <td>6</td>\n",
       "      <td>0</td>\n",
       "    </tr>\n",
       "    <tr>\n",
       "      <th>629</th>\n",
       "      <td>CBCACC</td>\n",
       "      <td>6</td>\n",
       "      <td>5</td>\n",
       "      <td>1</td>\n",
       "    </tr>\n",
       "    <tr>\n",
       "      <th>630</th>\n",
       "      <td>CBCBAA</td>\n",
       "      <td>6</td>\n",
       "      <td>5</td>\n",
       "      <td>1</td>\n",
       "    </tr>\n",
       "    <tr>\n",
       "      <th>631</th>\n",
       "      <td>CBCBAB</td>\n",
       "      <td>6</td>\n",
       "      <td>6</td>\n",
       "      <td>0</td>\n",
       "    </tr>\n",
       "    <tr>\n",
       "      <th>632</th>\n",
       "      <td>CBCBAC</td>\n",
       "      <td>6</td>\n",
       "      <td>6</td>\n",
       "      <td>0</td>\n",
       "    </tr>\n",
       "    <tr>\n",
       "      <th>633</th>\n",
       "      <td>CBCBBA</td>\n",
       "      <td>6</td>\n",
       "      <td>5</td>\n",
       "      <td>1</td>\n",
       "    </tr>\n",
       "    <tr>\n",
       "      <th>635</th>\n",
       "      <td>CBCBBC</td>\n",
       "      <td>6</td>\n",
       "      <td>5</td>\n",
       "      <td>1</td>\n",
       "    </tr>\n",
       "    <tr>\n",
       "      <th>636</th>\n",
       "      <td>CBCBCA</td>\n",
       "      <td>6</td>\n",
       "      <td>6</td>\n",
       "      <td>0</td>\n",
       "    </tr>\n",
       "    <tr>\n",
       "      <th>637</th>\n",
       "      <td>CBCBCB</td>\n",
       "      <td>6</td>\n",
       "      <td>6</td>\n",
       "      <td>0</td>\n",
       "    </tr>\n",
       "    <tr>\n",
       "      <th>638</th>\n",
       "      <td>CBCBCC</td>\n",
       "      <td>6</td>\n",
       "      <td>5</td>\n",
       "      <td>1</td>\n",
       "    </tr>\n",
       "    <tr>\n",
       "      <th>640</th>\n",
       "      <td>CBCCAB</td>\n",
       "      <td>6</td>\n",
       "      <td>5</td>\n",
       "      <td>1</td>\n",
       "    </tr>\n",
       "    <tr>\n",
       "      <th>641</th>\n",
       "      <td>CBCCAC</td>\n",
       "      <td>6</td>\n",
       "      <td>5</td>\n",
       "      <td>1</td>\n",
       "    </tr>\n",
       "    <tr>\n",
       "      <th>642</th>\n",
       "      <td>CBCCBA</td>\n",
       "      <td>6</td>\n",
       "      <td>5</td>\n",
       "      <td>1</td>\n",
       "    </tr>\n",
       "    <tr>\n",
       "      <th>644</th>\n",
       "      <td>CBCCBC</td>\n",
       "      <td>6</td>\n",
       "      <td>5</td>\n",
       "      <td>1</td>\n",
       "    </tr>\n",
       "    <tr>\n",
       "      <th>658</th>\n",
       "      <td>CCABAB</td>\n",
       "      <td>6</td>\n",
       "      <td>5</td>\n",
       "      <td>1</td>\n",
       "    </tr>\n",
       "    <tr>\n",
       "      <th>659</th>\n",
       "      <td>CCABAC</td>\n",
       "      <td>6</td>\n",
       "      <td>5</td>\n",
       "      <td>1</td>\n",
       "    </tr>\n",
       "    <tr>\n",
       "      <th>663</th>\n",
       "      <td>CCABCA</td>\n",
       "      <td>6</td>\n",
       "      <td>5</td>\n",
       "      <td>1</td>\n",
       "    </tr>\n",
       "    <tr>\n",
       "      <th>664</th>\n",
       "      <td>CCABCB</td>\n",
       "      <td>6</td>\n",
       "      <td>5</td>\n",
       "      <td>1</td>\n",
       "    </tr>\n",
       "    <tr>\n",
       "      <th>667</th>\n",
       "      <td>CCACAB</td>\n",
       "      <td>6</td>\n",
       "      <td>5</td>\n",
       "      <td>1</td>\n",
       "    </tr>\n",
       "    <tr>\n",
       "      <th>668</th>\n",
       "      <td>CCACAC</td>\n",
       "      <td>6</td>\n",
       "      <td>5</td>\n",
       "      <td>1</td>\n",
       "    </tr>\n",
       "    <tr>\n",
       "      <th>669</th>\n",
       "      <td>CCACBA</td>\n",
       "      <td>6</td>\n",
       "      <td>5</td>\n",
       "      <td>1</td>\n",
       "    </tr>\n",
       "    <tr>\n",
       "      <th>671</th>\n",
       "      <td>CCACBC</td>\n",
       "      <td>6</td>\n",
       "      <td>5</td>\n",
       "      <td>1</td>\n",
       "    </tr>\n",
       "    <tr>\n",
       "      <th>678</th>\n",
       "      <td>CCBABA</td>\n",
       "      <td>6</td>\n",
       "      <td>5</td>\n",
       "      <td>1</td>\n",
       "    </tr>\n",
       "    <tr>\n",
       "      <th>680</th>\n",
       "      <td>CCBABC</td>\n",
       "      <td>6</td>\n",
       "      <td>5</td>\n",
       "      <td>1</td>\n",
       "    </tr>\n",
       "    <tr>\n",
       "      <th>681</th>\n",
       "      <td>CCBACA</td>\n",
       "      <td>6</td>\n",
       "      <td>5</td>\n",
       "      <td>1</td>\n",
       "    </tr>\n",
       "    <tr>\n",
       "      <th>682</th>\n",
       "      <td>CCBACB</td>\n",
       "      <td>6</td>\n",
       "      <td>5</td>\n",
       "      <td>1</td>\n",
       "    </tr>\n",
       "    <tr>\n",
       "      <th>694</th>\n",
       "      <td>CCBCAB</td>\n",
       "      <td>6</td>\n",
       "      <td>5</td>\n",
       "      <td>1</td>\n",
       "    </tr>\n",
       "    <tr>\n",
       "      <th>695</th>\n",
       "      <td>CCBCAC</td>\n",
       "      <td>6</td>\n",
       "      <td>5</td>\n",
       "      <td>1</td>\n",
       "    </tr>\n",
       "    <tr>\n",
       "      <th>696</th>\n",
       "      <td>CCBCBA</td>\n",
       "      <td>6</td>\n",
       "      <td>5</td>\n",
       "      <td>1</td>\n",
       "    </tr>\n",
       "    <tr>\n",
       "      <th>698</th>\n",
       "      <td>CCBCBC</td>\n",
       "      <td>6</td>\n",
       "      <td>5</td>\n",
       "      <td>1</td>\n",
       "    </tr>\n",
       "  </tbody>\n",
       "</table>\n",
       "<p>336 rows × 4 columns</p>\n",
       "</div>"
      ],
      "text/plain": [
       "       path  len  grouped  diff\n",
       "30   AABABA    6        5     1\n",
       "32   AABABC    6        5     1\n",
       "33   AABACA    6        5     1\n",
       "34   AABACB    6        5     1\n",
       "46   AABCAB    6        5     1\n",
       "47   AABCAC    6        5     1\n",
       "48   AABCBA    6        5     1\n",
       "50   AABCBC    6        5     1\n",
       "57   AACABA    6        5     1\n",
       "59   AACABC    6        5     1\n",
       "60   AACACA    6        5     1\n",
       "61   AACACB    6        5     1\n",
       "64   AACBAB    6        5     1\n",
       "65   AACBAC    6        5     1\n",
       "69   AACBCA    6        5     1\n",
       "70   AACBCB    6        5     1\n",
       "84   ABAABA    6        5     1\n",
       "86   ABAABC    6        5     1\n",
       "87   ABAACA    6        5     1\n",
       "88   ABAACB    6        5     1\n",
       "90   ABABAA    6        5     1\n",
       "91   ABABAB    6        6     0\n",
       "92   ABABAC    6        6     0\n",
       "93   ABABBA    6        5     1\n",
       "95   ABABBC    6        5     1\n",
       "96   ABABCA    6        6     0\n",
       "97   ABABCB    6        6     0\n",
       "98   ABABCC    6        5     1\n",
       "99   ABACAA    6        5     1\n",
       "100  ABACAB    6        6     0\n",
       "..      ...  ...      ...   ...\n",
       "628  CBCACB    6        6     0\n",
       "629  CBCACC    6        5     1\n",
       "630  CBCBAA    6        5     1\n",
       "631  CBCBAB    6        6     0\n",
       "632  CBCBAC    6        6     0\n",
       "633  CBCBBA    6        5     1\n",
       "635  CBCBBC    6        5     1\n",
       "636  CBCBCA    6        6     0\n",
       "637  CBCBCB    6        6     0\n",
       "638  CBCBCC    6        5     1\n",
       "640  CBCCAB    6        5     1\n",
       "641  CBCCAC    6        5     1\n",
       "642  CBCCBA    6        5     1\n",
       "644  CBCCBC    6        5     1\n",
       "658  CCABAB    6        5     1\n",
       "659  CCABAC    6        5     1\n",
       "663  CCABCA    6        5     1\n",
       "664  CCABCB    6        5     1\n",
       "667  CCACAB    6        5     1\n",
       "668  CCACAC    6        5     1\n",
       "669  CCACBA    6        5     1\n",
       "671  CCACBC    6        5     1\n",
       "678  CCBABA    6        5     1\n",
       "680  CCBABC    6        5     1\n",
       "681  CCBACA    6        5     1\n",
       "682  CCBACB    6        5     1\n",
       "694  CCBCAB    6        5     1\n",
       "695  CCBCAC    6        5     1\n",
       "696  CCBCBA    6        5     1\n",
       "698  CCBCBC    6        5     1\n",
       "\n",
       "[336 rows x 4 columns]"
      ]
     },
     "execution_count": 266,
     "metadata": {},
     "output_type": "execute_result"
    }
   ],
   "source": [
    "df.loc[df['diff'] <= 1]"
   ]
  },
  {
   "cell_type": "code",
   "execution_count": 267,
   "metadata": {
    "collapsed": true
   },
   "outputs": [],
   "source": [
    "a = metagraph.metapath_from_abbrev('CrCrCrCtD')"
   ]
  },
  {
   "cell_type": "code",
   "execution_count": 268,
   "metadata": {},
   "outputs": [
    {
     "data": {
      "text/plain": [
       "hetio.hetnet.MetaPath"
      ]
     },
     "execution_count": 268,
     "metadata": {},
     "output_type": "execute_result"
    }
   ],
   "source": [
    "type(a)"
   ]
  },
  {
   "cell_type": "code",
   "execution_count": 269,
   "metadata": {
    "collapsed": true
   },
   "outputs": [],
   "source": [
    "a, b = (1,2 )"
   ]
  },
  {
   "cell_type": "code",
   "execution_count": 270,
   "metadata": {},
   "outputs": [
    {
     "data": {
      "text/plain": [
       "1"
      ]
     },
     "execution_count": 270,
     "metadata": {},
     "output_type": "execute_result"
    }
   ],
   "source": [
    "a"
   ]
  },
  {
   "cell_type": "code",
   "execution_count": 271,
   "metadata": {},
   "outputs": [
    {
     "data": {
      "text/plain": [
       "2"
      ]
     },
     "execution_count": 271,
     "metadata": {},
     "output_type": "execute_result"
    }
   ],
   "source": [
    "b"
   ]
  },
  {
   "cell_type": "code",
   "execution_count": 4,
   "metadata": {
    "collapsed": true
   },
   "outputs": [],
   "source": [
    "url = 'https://github.com/dhimmel/hetio/raw/{}/{}'.format(\n",
    "        '9dc747b8fc4e23ef3437829ffde4d047f2e1bdde',\n",
    "        'test/data/disease-gene-example-graph.json',\n",
    "    )\n",
    "graph = hetio.readwrite.read_graph(url)"
   ]
  },
  {
   "cell_type": "code",
   "execution_count": 5,
   "metadata": {
    "collapsed": true
   },
   "outputs": [],
   "source": [
    "edge = ['DlT', 'GaD', 'GiG', 'GeT']\n",
    "edges = []\n",
    "for i in edge:\n",
    "    edges.append(i)\n",
    "    edges.append(i[::-1])"
   ]
  },
  {
   "cell_type": "code",
   "execution_count": 6,
   "metadata": {},
   "outputs": [
    {
     "data": {
      "text/plain": [
       "['DlT', 'TlD', 'GaD', 'DaG', 'GiG', 'GiG', 'GeT', 'TeG']"
      ]
     },
     "execution_count": 6,
     "metadata": {},
     "output_type": "execute_result"
    }
   ],
   "source": [
    "edges"
   ]
  },
  {
   "cell_type": "code",
   "execution_count": 7,
   "metadata": {
    "collapsed": true
   },
   "outputs": [],
   "source": [
    "def follow_one(start):\n",
    "    ret = list()\n",
    "    for i, v in enumerate(start):\n",
    "        start[i] = [v[:-1]+e for e in edges if e[0] == v[-1]]\n",
    "    start = [i for sublist in start for i in sublist]\n",
    "    return start"
   ]
  },
  {
   "cell_type": "code",
   "execution_count": 8,
   "metadata": {},
   "outputs": [
    {
     "data": {
      "text/plain": [
       "['DlT', 'DaG', 'TlD', 'TeG']"
      ]
     },
     "execution_count": 8,
     "metadata": {},
     "output_type": "execute_result"
    }
   ],
   "source": [
    "follow_one([\"D\", \"T\"])"
   ]
  },
  {
   "cell_type": "code",
   "execution_count": 9,
   "metadata": {},
   "outputs": [
    {
     "data": {
      "text/plain": [
       "['DlTlDlTlD',\n",
       " 'DlTlDlTeG',\n",
       " 'DlTlDaGaD',\n",
       " 'DlTlDaGiG',\n",
       " 'DlTlDaGiG',\n",
       " 'DlTlDaGeT',\n",
       " 'DlTeGaDlT',\n",
       " 'DlTeGaDaG',\n",
       " 'DlTeGiGaD',\n",
       " 'DlTeGiGiG',\n",
       " 'DlTeGiGiG',\n",
       " 'DlTeGiGeT',\n",
       " 'DlTeGiGaD',\n",
       " 'DlTeGiGiG',\n",
       " 'DlTeGiGiG',\n",
       " 'DlTeGiGeT',\n",
       " 'DlTeGeTlD',\n",
       " 'DlTeGeTeG',\n",
       " 'DaGaDlTlD',\n",
       " 'DaGaDlTeG',\n",
       " 'DaGaDaGaD',\n",
       " 'DaGaDaGiG',\n",
       " 'DaGaDaGiG',\n",
       " 'DaGaDaGeT',\n",
       " 'DaGiGaDlT',\n",
       " 'DaGiGaDaG',\n",
       " 'DaGiGiGaD',\n",
       " 'DaGiGiGiG',\n",
       " 'DaGiGiGiG',\n",
       " 'DaGiGiGeT',\n",
       " 'DaGiGiGaD',\n",
       " 'DaGiGiGiG',\n",
       " 'DaGiGiGiG',\n",
       " 'DaGiGiGeT',\n",
       " 'DaGiGeTlD',\n",
       " 'DaGiGeTeG',\n",
       " 'DaGiGaDlT',\n",
       " 'DaGiGaDaG',\n",
       " 'DaGiGiGaD',\n",
       " 'DaGiGiGiG',\n",
       " 'DaGiGiGiG',\n",
       " 'DaGiGiGeT',\n",
       " 'DaGiGiGaD',\n",
       " 'DaGiGiGiG',\n",
       " 'DaGiGiGiG',\n",
       " 'DaGiGiGeT',\n",
       " 'DaGiGeTlD',\n",
       " 'DaGiGeTeG',\n",
       " 'DaGeTlDlT',\n",
       " 'DaGeTlDaG',\n",
       " 'DaGeTeGaD',\n",
       " 'DaGeTeGiG',\n",
       " 'DaGeTeGiG',\n",
       " 'DaGeTeGeT',\n",
       " 'TlDlTlDlT',\n",
       " 'TlDlTlDaG',\n",
       " 'TlDlTeGaD',\n",
       " 'TlDlTeGiG',\n",
       " 'TlDlTeGiG',\n",
       " 'TlDlTeGeT',\n",
       " 'TlDaGaDlT',\n",
       " 'TlDaGaDaG',\n",
       " 'TlDaGiGaD',\n",
       " 'TlDaGiGiG',\n",
       " 'TlDaGiGiG',\n",
       " 'TlDaGiGeT',\n",
       " 'TlDaGiGaD',\n",
       " 'TlDaGiGiG',\n",
       " 'TlDaGiGiG',\n",
       " 'TlDaGiGeT',\n",
       " 'TlDaGeTlD',\n",
       " 'TlDaGeTeG',\n",
       " 'TeGaDlTlD',\n",
       " 'TeGaDlTeG',\n",
       " 'TeGaDaGaD',\n",
       " 'TeGaDaGiG',\n",
       " 'TeGaDaGiG',\n",
       " 'TeGaDaGeT',\n",
       " 'TeGiGaDlT',\n",
       " 'TeGiGaDaG',\n",
       " 'TeGiGiGaD',\n",
       " 'TeGiGiGiG',\n",
       " 'TeGiGiGiG',\n",
       " 'TeGiGiGeT',\n",
       " 'TeGiGiGaD',\n",
       " 'TeGiGiGiG',\n",
       " 'TeGiGiGiG',\n",
       " 'TeGiGiGeT',\n",
       " 'TeGiGeTlD',\n",
       " 'TeGiGeTeG',\n",
       " 'TeGiGaDlT',\n",
       " 'TeGiGaDaG',\n",
       " 'TeGiGiGaD',\n",
       " 'TeGiGiGiG',\n",
       " 'TeGiGiGiG',\n",
       " 'TeGiGiGeT',\n",
       " 'TeGiGiGaD',\n",
       " 'TeGiGiGiG',\n",
       " 'TeGiGiGiG',\n",
       " 'TeGiGiGeT',\n",
       " 'TeGiGeTlD',\n",
       " 'TeGiGeTeG',\n",
       " 'TeGeTlDlT',\n",
       " 'TeGeTlDaG',\n",
       " 'TeGeTeGaD',\n",
       " 'TeGeTeGiG',\n",
       " 'TeGeTeGiG',\n",
       " 'TeGeTeGeT',\n",
       " 'GaDlTlDlT',\n",
       " 'GaDlTlDaG',\n",
       " 'GaDlTeGaD',\n",
       " 'GaDlTeGiG',\n",
       " 'GaDlTeGiG',\n",
       " 'GaDlTeGeT',\n",
       " 'GaDaGaDlT',\n",
       " 'GaDaGaDaG',\n",
       " 'GaDaGiGaD',\n",
       " 'GaDaGiGiG',\n",
       " 'GaDaGiGiG',\n",
       " 'GaDaGiGeT',\n",
       " 'GaDaGiGaD',\n",
       " 'GaDaGiGiG',\n",
       " 'GaDaGiGiG',\n",
       " 'GaDaGiGeT',\n",
       " 'GaDaGeTlD',\n",
       " 'GaDaGeTeG',\n",
       " 'GiGaDlTlD',\n",
       " 'GiGaDlTeG',\n",
       " 'GiGaDaGaD',\n",
       " 'GiGaDaGiG',\n",
       " 'GiGaDaGiG',\n",
       " 'GiGaDaGeT',\n",
       " 'GiGiGaDlT',\n",
       " 'GiGiGaDaG',\n",
       " 'GiGiGiGaD',\n",
       " 'GiGiGiGiG',\n",
       " 'GiGiGiGiG',\n",
       " 'GiGiGiGeT',\n",
       " 'GiGiGiGaD',\n",
       " 'GiGiGiGiG',\n",
       " 'GiGiGiGiG',\n",
       " 'GiGiGiGeT',\n",
       " 'GiGiGeTlD',\n",
       " 'GiGiGeTeG',\n",
       " 'GiGiGaDlT',\n",
       " 'GiGiGaDaG',\n",
       " 'GiGiGiGaD',\n",
       " 'GiGiGiGiG',\n",
       " 'GiGiGiGiG',\n",
       " 'GiGiGiGeT',\n",
       " 'GiGiGiGaD',\n",
       " 'GiGiGiGiG',\n",
       " 'GiGiGiGiG',\n",
       " 'GiGiGiGeT',\n",
       " 'GiGiGeTlD',\n",
       " 'GiGiGeTeG',\n",
       " 'GiGeTlDlT',\n",
       " 'GiGeTlDaG',\n",
       " 'GiGeTeGaD',\n",
       " 'GiGeTeGiG',\n",
       " 'GiGeTeGiG',\n",
       " 'GiGeTeGeT',\n",
       " 'GiGaDlTlD',\n",
       " 'GiGaDlTeG',\n",
       " 'GiGaDaGaD',\n",
       " 'GiGaDaGiG',\n",
       " 'GiGaDaGiG',\n",
       " 'GiGaDaGeT',\n",
       " 'GiGiGaDlT',\n",
       " 'GiGiGaDaG',\n",
       " 'GiGiGiGaD',\n",
       " 'GiGiGiGiG',\n",
       " 'GiGiGiGiG',\n",
       " 'GiGiGiGeT',\n",
       " 'GiGiGiGaD',\n",
       " 'GiGiGiGiG',\n",
       " 'GiGiGiGiG',\n",
       " 'GiGiGiGeT',\n",
       " 'GiGiGeTlD',\n",
       " 'GiGiGeTeG',\n",
       " 'GiGiGaDlT',\n",
       " 'GiGiGaDaG',\n",
       " 'GiGiGiGaD',\n",
       " 'GiGiGiGiG',\n",
       " 'GiGiGiGiG',\n",
       " 'GiGiGiGeT',\n",
       " 'GiGiGiGaD',\n",
       " 'GiGiGiGiG',\n",
       " 'GiGiGiGiG',\n",
       " 'GiGiGiGeT',\n",
       " 'GiGiGeTlD',\n",
       " 'GiGiGeTeG',\n",
       " 'GiGeTlDlT',\n",
       " 'GiGeTlDaG',\n",
       " 'GiGeTeGaD',\n",
       " 'GiGeTeGiG',\n",
       " 'GiGeTeGiG',\n",
       " 'GiGeTeGeT',\n",
       " 'GeTlDlTlD',\n",
       " 'GeTlDlTeG',\n",
       " 'GeTlDaGaD',\n",
       " 'GeTlDaGiG',\n",
       " 'GeTlDaGiG',\n",
       " 'GeTlDaGeT',\n",
       " 'GeTeGaDlT',\n",
       " 'GeTeGaDaG',\n",
       " 'GeTeGiGaD',\n",
       " 'GeTeGiGiG',\n",
       " 'GeTeGiGiG',\n",
       " 'GeTeGiGeT',\n",
       " 'GeTeGiGaD',\n",
       " 'GeTeGiGiG',\n",
       " 'GeTeGiGiG',\n",
       " 'GeTeGiGeT',\n",
       " 'GeTeGeTlD',\n",
       " 'GeTeGeTeG']"
      ]
     },
     "execution_count": 9,
     "metadata": {},
     "output_type": "execute_result"
    }
   ],
   "source": [
    "lst = list(\"DTG\")\n",
    "while len(lst[-1]) <= 7:\n",
    "    lst = follow_one(lst)\n",
    "lst"
   ]
  },
  {
   "cell_type": "code",
   "execution_count": 10,
   "metadata": {},
   "outputs": [
    {
     "data": {
      "text/plain": [
       "216"
      ]
     },
     "execution_count": 10,
     "metadata": {},
     "output_type": "execute_result"
    }
   ],
   "source": [
    "len(lst)"
   ]
  },
  {
   "cell_type": "code",
   "execution_count": 11,
   "metadata": {
    "scrolled": true
   },
   "outputs": [
    {
     "name": "stdout",
     "output_type": "stream",
     "text": [
      "DlTlDlTlD other\n",
      "DlTlDlTeG BABA\n",
      "DlTlDaGaD disjoint\n",
      "DlTlDaGiG disjoint\n",
      "DlTlDaGiG disjoint\n",
      "DlTlDaGeT BABA\n",
      "DlTeGaDlT BABA\n",
      "DlTeGaDaG BABA\n",
      "DlTeGiGaD BAAB\n",
      "DlTeGiGiG disjoint\n",
      "DlTeGiGiG disjoint\n",
      "DlTeGiGeT BAAB\n",
      "DlTeGiGaD BAAB\n",
      "DlTeGiGiG disjoint\n",
      "DlTeGiGiG disjoint\n",
      "DlTeGiGeT BAAB\n",
      "DlTeGeTlD BAAB\n",
      "DlTeGeTeG BABA\n",
      "DaGaDlTlD disjoint\n",
      "DaGaDlTeG BABA\n",
      "DaGaDaGaD other\n",
      "DaGaDaGiG other\n",
      "DaGaDaGiG other\n",
      "DaGaDaGeT BABA\n",
      "DaGiGaDlT BAAB\n",
      "DaGiGaDaG other\n",
      "DaGiGiGaD other\n",
      "DaGiGiGiG disjoint\n",
      "DaGiGiGiG disjoint\n",
      "DaGiGiGeT disjoint\n",
      "DaGiGiGaD other\n",
      "DaGiGiGiG disjoint\n",
      "DaGiGiGiG disjoint\n",
      "DaGiGiGeT disjoint\n",
      "DaGiGeTlD BAAB\n",
      "DaGiGeTeG disjoint\n",
      "DaGiGaDlT BAAB\n",
      "DaGiGaDaG other\n",
      "DaGiGiGaD other\n",
      "DaGiGiGiG disjoint\n",
      "DaGiGiGiG disjoint\n",
      "DaGiGiGeT disjoint\n",
      "DaGiGiGaD other\n",
      "DaGiGiGiG disjoint\n",
      "DaGiGiGiG disjoint\n",
      "DaGiGiGeT disjoint\n",
      "DaGiGeTlD BAAB\n",
      "DaGiGeTeG disjoint\n",
      "DaGeTlDlT BABA\n",
      "DaGeTlDaG BABA\n",
      "DaGeTeGaD BAAB\n",
      "DaGeTeGiG disjoint\n",
      "DaGeTeGiG disjoint\n",
      "DaGeTeGeT BABA\n",
      "TlDlTlDlT other\n",
      "TlDlTlDaG BABA\n",
      "TlDlTeGaD BABA\n",
      "TlDlTeGiG disjoint\n",
      "TlDlTeGiG disjoint\n",
      "TlDlTeGeT disjoint\n",
      "TlDaGaDlT BAAB\n",
      "TlDaGaDaG BABA\n",
      "TlDaGiGaD BAAB\n",
      "TlDaGiGiG disjoint\n",
      "TlDaGiGiG disjoint\n",
      "TlDaGiGeT BAAB\n",
      "TlDaGiGaD BAAB\n",
      "TlDaGiGiG disjoint\n",
      "TlDaGiGiG disjoint\n",
      "TlDaGiGeT BAAB\n",
      "TlDaGeTlD BABA\n",
      "TlDaGeTeG BABA\n",
      "TeGaDlTlD BABA\n",
      "TeGaDlTeG BABA\n",
      "TeGaDaGaD BABA\n",
      "TeGaDaGiG disjoint\n",
      "TeGaDaGiG disjoint\n",
      "TeGaDaGeT BAAB\n",
      "TeGiGaDlT BAAB\n",
      "TeGiGaDaG disjoint\n",
      "TeGiGiGaD disjoint\n",
      "TeGiGiGiG disjoint\n",
      "TeGiGiGiG disjoint\n",
      "TeGiGiGeT other\n",
      "TeGiGiGaD disjoint\n",
      "TeGiGiGiG disjoint\n",
      "TeGiGiGiG disjoint\n",
      "TeGiGiGeT other\n",
      "TeGiGeTlD BAAB\n",
      "TeGiGeTeG other\n",
      "TeGiGaDlT BAAB\n",
      "TeGiGaDaG disjoint\n",
      "TeGiGiGaD disjoint\n",
      "TeGiGiGiG disjoint\n",
      "TeGiGiGiG disjoint\n",
      "TeGiGiGeT other\n",
      "TeGiGiGaD disjoint\n",
      "TeGiGiGiG disjoint\n",
      "TeGiGiGiG disjoint\n",
      "TeGiGiGeT other\n",
      "TeGiGeTlD BAAB\n",
      "TeGiGeTeG other\n",
      "TeGeTlDlT disjoint\n",
      "TeGeTlDaG BABA\n",
      "TeGeTeGaD BABA\n",
      "TeGeTeGiG other\n",
      "TeGeTeGiG other\n",
      "TeGeTeGeT other\n",
      "GaDlTlDlT BABA\n",
      "GaDlTlDaG BAAB\n",
      "GaDlTeGaD BABA\n",
      "GaDlTeGiG disjoint\n",
      "GaDlTeGiG disjoint\n",
      "GaDlTeGeT BABA\n",
      "GaDaGaDlT BABA\n",
      "GaDaGaDaG other\n",
      "GaDaGiGaD other\n",
      "GaDaGiGiG disjoint\n",
      "GaDaGiGiG disjoint\n",
      "GaDaGiGeT disjoint\n",
      "GaDaGiGaD other\n",
      "GaDaGiGiG disjoint\n",
      "GaDaGiGiG disjoint\n",
      "GaDaGiGeT disjoint\n",
      "GaDaGeTlD BABA\n",
      "GaDaGeTeG disjoint\n",
      "GiGaDlTlD disjoint\n",
      "GiGaDlTeG disjoint\n",
      "GiGaDaGaD other\n",
      "GiGaDaGiG disjoint\n",
      "GiGaDaGiG disjoint\n",
      "GiGaDaGeT disjoint\n",
      "GiGiGaDlT disjoint\n",
      "GiGiGaDaG disjoint\n",
      "GiGiGiGaD disjoint\n",
      "GiGiGiGiG disjoint\n",
      "GiGiGiGiG disjoint\n",
      "GiGiGiGeT disjoint\n",
      "GiGiGiGaD disjoint\n",
      "GiGiGiGiG disjoint\n",
      "GiGiGiGiG disjoint\n",
      "GiGiGiGeT disjoint\n",
      "GiGiGeTlD disjoint\n",
      "GiGiGeTeG disjoint\n",
      "GiGiGaDlT disjoint\n",
      "GiGiGaDaG disjoint\n",
      "GiGiGiGaD disjoint\n",
      "GiGiGiGiG disjoint\n",
      "GiGiGiGiG disjoint\n",
      "GiGiGiGeT disjoint\n",
      "GiGiGiGaD disjoint\n",
      "GiGiGiGiG disjoint\n",
      "GiGiGiGiG disjoint\n",
      "GiGiGiGeT disjoint\n",
      "GiGiGeTlD disjoint\n",
      "GiGiGeTeG disjoint\n",
      "GiGeTlDlT disjoint\n",
      "GiGeTlDaG disjoint\n",
      "GiGeTeGaD disjoint\n",
      "GiGeTeGiG disjoint\n",
      "GiGeTeGiG disjoint\n",
      "GiGeTeGeT other\n",
      "GiGaDlTlD disjoint\n",
      "GiGaDlTeG disjoint\n",
      "GiGaDaGaD other\n",
      "GiGaDaGiG disjoint\n",
      "GiGaDaGiG disjoint\n",
      "GiGaDaGeT disjoint\n",
      "GiGiGaDlT disjoint\n",
      "GiGiGaDaG disjoint\n",
      "GiGiGiGaD disjoint\n",
      "GiGiGiGiG disjoint\n",
      "GiGiGiGiG disjoint\n",
      "GiGiGiGeT disjoint\n",
      "GiGiGiGaD disjoint\n",
      "GiGiGiGiG disjoint\n",
      "GiGiGiGiG disjoint\n",
      "GiGiGiGeT disjoint\n",
      "GiGiGeTlD disjoint\n",
      "GiGiGeTeG disjoint\n",
      "GiGiGaDlT disjoint\n",
      "GiGiGaDaG disjoint\n",
      "GiGiGiGaD disjoint\n",
      "GiGiGiGiG disjoint\n",
      "GiGiGiGiG disjoint\n",
      "GiGiGiGeT disjoint\n",
      "GiGiGiGaD disjoint\n",
      "GiGiGiGiG disjoint\n",
      "GiGiGiGiG disjoint\n",
      "GiGiGiGeT disjoint\n",
      "GiGiGeTlD disjoint\n",
      "GiGiGeTeG disjoint\n",
      "GiGeTlDlT disjoint\n",
      "GiGeTlDaG disjoint\n",
      "GiGeTeGaD disjoint\n",
      "GiGeTeGiG disjoint\n",
      "GiGeTeGiG disjoint\n",
      "GiGeTeGeT other\n",
      "GeTlDlTlD BABA\n",
      "GeTlDlTeG BAAB\n",
      "GeTlDaGaD BABA\n",
      "GeTlDaGiG disjoint\n",
      "GeTlDaGiG disjoint\n",
      "GeTlDaGeT BABA\n",
      "GeTeGaDlT BABA\n",
      "GeTeGaDaG disjoint\n",
      "GeTeGiGaD disjoint\n",
      "GeTeGiGiG disjoint\n",
      "GeTeGiGiG disjoint\n",
      "GeTeGiGeT other\n",
      "GeTeGiGaD disjoint\n",
      "GeTeGiGiG disjoint\n",
      "GeTeGiGiG disjoint\n",
      "GeTeGiGeT other\n",
      "GeTeGeTlD BABA\n",
      "GeTeGeTeG other\n"
     ]
    }
   ],
   "source": [
    "for i in lst:\n",
    "    print(i, categorize(graph.metagraph.metapath_from_abbrev(i)))"
   ]
  },
  {
   "cell_type": "code",
   "execution_count": 252,
   "metadata": {},
   "outputs": [
    {
     "data": {
      "text/plain": [
       "['Gene', 'Tissue', 'Disease']"
      ]
     },
     "execution_count": 252,
     "metadata": {},
     "output_type": "execute_result"
    }
   ],
   "source": [
    "[i.get_id() for i in graph.metagraph.get_nodes()]"
   ]
  },
  {
   "cell_type": "code",
   "execution_count": 14,
   "metadata": {},
   "outputs": [
    {
     "ename": "NameError",
     "evalue": "name 'arr' is not defined",
     "output_type": "error",
     "traceback": [
      "\u001b[0;31m---------------------------------------------------------------------------\u001b[0m",
      "\u001b[0;31mNameError\u001b[0m                                 Traceback (most recent call last)",
      "\u001b[0;32m<ipython-input-14-e1483d9e89a2>\u001b[0m in \u001b[0;36m<module>\u001b[0;34m()\u001b[0m\n\u001b[0;32m----> 1\u001b[0;31m \u001b[0marr\u001b[0m\u001b[0;34m\u001b[0m\u001b[0m\n\u001b[0m",
      "\u001b[0;31mNameError\u001b[0m: name 'arr' is not defined"
     ]
    }
   ],
   "source": [
    "arr"
   ]
  },
  {
   "cell_type": "code",
   "execution_count": null,
   "metadata": {
    "collapsed": true
   },
   "outputs": [],
   "source": []
  }
 ],
 "metadata": {
  "kernelspec": {
   "display_name": "Python [conda env:hetmech]",
   "language": "python",
   "name": "conda-env-hetmech-py"
  },
  "language_info": {
   "codemirror_mode": {
    "name": "ipython",
    "version": 3
   },
   "file_extension": ".py",
   "mimetype": "text/x-python",
   "name": "python",
   "nbconvert_exporter": "python",
   "pygments_lexer": "ipython3",
   "version": "3.6.0"
  }
 },
 "nbformat": 4,
 "nbformat_minor": 2
}
