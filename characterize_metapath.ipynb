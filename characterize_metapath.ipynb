{
 "cells": [
  {
   "cell_type": "code",
   "execution_count": 1,
   "metadata": {
    "collapsed": true
   },
   "outputs": [],
   "source": [
    "from hetmech.matrix import *\n",
    "from hetmech.degree_weight import *"
   ]
  },
  {
   "cell_type": "code",
   "execution_count": 2,
   "metadata": {
    "collapsed": true
   },
   "outputs": [],
   "source": [
    "import json\n",
    "import urllib.request\n",
    "import numpy as np\n",
    "from scipy import sparse\n",
    "import hetio.readwrite\n",
    "import hetio.hetnet\n",
    "import pandas as pd\n",
    "import time\n",
    "import random\n",
    "import regex as re\n",
    "import matplotlib.pyplot as plt\n",
    "%matplotlib inline"
   ]
  },
  {
   "cell_type": "markdown",
   "metadata": {},
   "source": [
    "## Load the graph and metaedges"
   ]
  },
  {
   "cell_type": "code",
   "execution_count": 3,
   "metadata": {},
   "outputs": [
    {
     "name": "stdout",
     "output_type": "stream",
     "text": [
      "CPU times: user 1min 19s, sys: 1.37 s, total: 1min 21s\n",
      "Wall time: 1min 23s\n"
     ]
    }
   ],
   "source": [
    "%%time\n",
    "url = 'https://github.com/dhimmel/hetionet/raw/76550e6c93fbe92124edc71725e8c7dd4ca8b1f5/hetnet/json/hetionet-v1.0.json.bz2'\n",
    "graph = hetio.readwrite.read_graph(url)\n",
    "metagraph = graph.metagraph"
   ]
  },
  {
   "cell_type": "markdown",
   "metadata": {},
   "source": [
    "# Load Metapaths"
   ]
  },
  {
   "cell_type": "code",
   "execution_count": 14,
   "metadata": {
    "collapsed": true
   },
   "outputs": [],
   "source": [
    "def get_specific_paths(startnode, endnode, minlen, maxlen):\n",
    "    \"\"\"Returns a list of metapaths from a start- to an end-node with shortest and \n",
    "    longest lengths specified\"\"\"\n",
    "    paths = list()\n",
    "    working_paths = list()\n",
    "    for length in range(minlen, maxlen+1):\n",
    "        working_paths = get_all_paths(length)\n",
    "        paths += [i for i in working_paths \n",
    "                  if re.findall('^[A-Z]{1,2}', i)[0] == startnode \n",
    "                  and re.findall('[A-Z]{1,2}$', i)[0] == endnode]\n",
    "    return paths"
   ]
  },
  {
   "cell_type": "code",
   "execution_count": 18,
   "metadata": {},
   "outputs": [
    {
     "name": "stdout",
     "output_type": "stream",
     "text": [
      "First path -- CbG<rG<rGaD\n",
      "752 are compatible\n",
      "454 not compatible\n"
     ]
    }
   ],
   "source": [
    "## Load metapaths\n",
    "\n",
    "def load_metapaths():\n",
    "    \"\"\"Load 1206 Rephetio metapaths\"\"\"\n",
    "    with urllib.request.urlopen(\n",
    "        'https://github.com/dhimmel/learn/raw/25093893ed53730ab5cfdac49561c4b6bd3376c5/all-features/data/metapaths.json'\n",
    "    ) as data_file:\n",
    "        metapaths = json.loads(data_file.read().decode())\n",
    "    assert len(metapaths) == 1206\n",
    "    abbrevs = [metapath['abbreviation'] for metapath in metapaths] # extract str from list(dicts)\n",
    "    return abbrevs\n",
    "\n",
    "def filter_compatible(metapaths):\n",
    "    \"\"\"Returns a list of paths within the input list which currently work\n",
    "    with hetmech's DWPC implementation\"\"\"\n",
    "    incompatible_metapaths = []\n",
    "    for metapath in metapaths:\n",
    "        try:\n",
    "            get_segments(graph.metagraph, metagraph.metapath_from_abbrev(metapath))\n",
    "        except ValueError:\n",
    "            incompatible_metapaths.append(metapath)\n",
    "    compatible_metapaths = sorted(list(set(metapaths) - set(incompatible_metapaths)))\n",
    "    print(\"First path -- {}\\n{} are compatible\\n{} not compatible\".format(\n",
    "        compatible_metapaths[0], len(compatible_metapaths), len(metapaths)-len(compatible_metapaths)))\n",
    "    return compatible_metapaths\n",
    "\n",
    "compatible_metapaths = filter_compatible(load_metapaths())"
   ]
  },
  {
   "cell_type": "code",
   "execution_count": 16,
   "metadata": {},
   "outputs": [
    {
     "name": "stdout",
     "output_type": "stream",
     "text": [
      "First path -- CbG<rG<rGaD\n",
      "752 are compatible\n",
      "454 not compatible\n"
     ]
    }
   ],
   "source": [
    "def get_node_edge_dict():\n",
    "    \"\"\"Return a dictionary with keys=start_metanodes and values=list of\n",
    "    corresponding metaedge/end_metanode combinations\"\"\"\n",
    "    metaedges = list(set([\n",
    "        'DuG', 'G<rG', 'CpD', 'GpMF', 'GpBP', 'AuG', 'DdG', \n",
    "        'SEcC', 'BPpG', 'CrC', 'CcSE', 'MFpG', 'AdG', 'GdA', \n",
    "        'DpS', 'SpD', 'DrD', 'PCiC', 'CbG', 'GbC', 'GuD', 'GcG', \n",
    "        'GuC', 'CtD', 'GuA', 'CiPC', 'PWpG', 'GdC', 'GpPW', \n",
    "        'Gr>G', 'AlD', 'GiG', 'GaD', 'AeG', 'CCpG', 'CuG', 'CdG', \n",
    "        'DaG', 'DtC', 'DpC', 'DlA', 'GdD', 'GeA', 'GpCC']\n",
    "    ))\n",
    "    metanodes = sorted(list(set(\n",
    "        [re.match('^[A-Z]{1,2}', i)[0] for i in metaedges]\n",
    "    )))\n",
    "    node_to_edge = dict()\n",
    "    for node in metanodes:\n",
    "        node_to_edge[node] = []\n",
    "        for edge in metaedges:\n",
    "            if re.match('^[A-Z]{1,2}', edge)[0] == node:\n",
    "                node_to_edge[node] = \\\n",
    "                    node_to_edge[node] + re.findall('(?<=[A-Z]{1,2})[/>/<a-z]{1,2}[A-Z]{1,2}', edge)\n",
    "    return node_to_edge\n",
    "\n",
    "def build_paths(start, maxlen):\n",
    "    \"\"\"Return all metapaths of length maxlen starting with start metanode\"\"\"\n",
    "    node_to_edge = get_node_edge_dict()\n",
    "    paths = [start]\n",
    "    def step(lst):\n",
    "        newpaths = list()\n",
    "        for base in lst:\n",
    "            endnode = re.findall('[A-Z]{1,2}$', base)[0] # Re expression to find the endnode\n",
    "            for next_node in node_to_edge[endnode]:\n",
    "                if len(re.findall('[A-Z]{1,2}', base+next_node)) <= maxlen: # next path is not too long\n",
    "                    newpaths += [base+next_node] \n",
    "                else:\n",
    "                    return lst\n",
    "        return step(newpaths)\n",
    "    return step(paths)\n",
    "\n",
    "build_paths('G', 4)[:10]\n",
    "\n",
    "def get_all_paths(maxlen):\n",
    "    \"\"\"Returns all potential metapaths of a certain length.\n",
    "    Setting maxlen=2 return a list of metaedges\"\"\"\n",
    "    node_to_edge = get_node_edge_dict()\n",
    "    metapaths = list()\n",
    "    for node in node_to_edge.keys():\n",
    "        metapaths += build_paths(node, maxlen)\n",
    "    return metapaths\n",
    "\n",
    "get_all_paths(4)[:10]\n",
    "\n",
    "# Create a function to find all paths between two metanodes with len in a range\n",
    "\n",
    "def get_specific_paths(startnode, endnode, minlen, maxlen):\n",
    "    \"\"\"Returns a list of metapaths from a start- to an end-node with shortest and \n",
    "    longest lengths specified\"\"\"\n",
    "    paths = list()\n",
    "    working_paths = list()\n",
    "    for length in range(minlen, maxlen+1):\n",
    "        working_paths = get_all_paths(length)\n",
    "        paths += [i for i in working_paths \n",
    "                  if re.findall('^[A-Z]{1,2}', i)[0] == startnode \n",
    "                  and re.findall('[A-Z]{1,2}$', i)[0] == endnode]\n",
    "    return paths"
   ]
  },
  {
   "cell_type": "markdown",
   "metadata": {},
   "source": [
    "## See what the breakdown of Rephetio metapaths looks like.\n",
    "\n",
    "How many are BAAB, etc.\n",
    "1. No node repeats\n",
    "2. Any number of nodes repeated once, but disjoint: AXABYBCZC\n",
    "3. two nodes repeated once, nested: BAAB\n",
    "4. two nodes repeated once, interleaved: BABA\n",
    "5. any other situation"
   ]
  },
  {
   "cell_type": "code",
   "execution_count": 485,
   "metadata": {},
   "outputs": [],
   "source": [
    "all_metapaths = load_metapaths()"
   ]
  },
  {
   "cell_type": "code",
   "execution_count": 566,
   "metadata": {},
   "outputs": [
    {
     "data": {
      "text/plain": [
       "['CbGaD', 'CbGdD', 'CbGuD', 'CdGaD', 'CdGdD', 'CdGuD']"
      ]
     },
     "execution_count": 566,
     "metadata": {},
     "output_type": "execute_result"
    }
   ],
   "source": [
    "all_metapaths[:6]"
   ]
  },
  {
   "cell_type": "code",
   "execution_count": 559,
   "metadata": {
    "collapsed": true
   },
   "outputs": [],
   "source": [
    "def remove_unnecessary(string):\n",
    "    \"\"\"Removes all characters not integral to the characterization of\n",
    "    a given metapath. Edges are automatically removed.\n",
    "    \n",
    "    Examples:\n",
    "    ---------\n",
    "    'AxByBzC' -> ['BB']\n",
    "    'AABBCC' -> ['AA', 'BB', 'CC']\n",
    "    'ABBA' -> ['ABBA']\n",
    "    'BABA' -> ['BABA']\n",
    "    'ABCDEFA' -> ['AA']\n",
    "    \"\"\"\n",
    "    nodes = re.split('[a-z<>]{1,2}', string)\n",
    "    node_repeats = [v for i, v in enumerate(nodes) if v in nodes[i+1:]]\n",
    "    ordered_repeats = [node for node in nodes if node in node_repeats]\n",
    "    return ordered_repeats\n"
   ]
  },
  {
   "cell_type": "code",
   "execution_count": 395,
   "metadata": {
    "collapsed": true
   },
   "outputs": [],
   "source": [
    "disjoint = \"AxAxBxB\"\n",
    "no_repeats = \"AxBxCxD\"\n",
    "common = \"AxBxCxB\"\n",
    "baab = \"AxBxBxA\"\n",
    "baba = \"AxBxAxB\"\n",
    "triple = \"AxAxBxBxDxCxCxA\"\n",
    "multi = \"AxAxBxBxDxD\"\n",
    "type_list = [disjoint, no_repeats, common, baab, baba, triple, multi]"
   ]
  },
  {
   "cell_type": "code",
   "execution_count": 560,
   "metadata": {},
   "outputs": [],
   "source": [
    "def reformat(string):\n",
    "    \"\"\"Returns a list of repeated nodes grouped\n",
    "    \n",
    "    Example outputs:\n",
    "    ----------------\n",
    "    ['AA', 'BB', 'CC']\n",
    "    ['ABBA'], ['ABAB'], ['']\n",
    "\n",
    "    \"\"\"\n",
    "    chars_list = remove_unnecessary(string)\n",
    "    \n",
    "    # actual functionality to test if the element is part of a repeat    \n",
    "    repeats_list = [''.join(list(v)) for i, v in itertools.groupby(chars_list)]            \n",
    "    if len(chars_list) - len(repeats_list) <= 1:\n",
    "        repeats_list = [''.join(repeats_list)]\n",
    "    \n",
    "    \n",
    "    return repeats_list    "
   ]
  },
  {
   "cell_type": "code",
   "execution_count": 561,
   "metadata": {},
   "outputs": [],
   "source": [
    "def characterize(string):\n",
    "    \"\"\"Takes a metapath string and returns a string categorization\n",
    "    \n",
    "    Outputs:\n",
    "    --------\n",
    "    no_repeats\n",
    "        eg. 'ABCD'\n",
    "    disjoint\n",
    "        eg. 'ABACDC'\n",
    "    abba\n",
    "        eg. 'BAAB'\n",
    "    abab\n",
    "        eg. 'BABA'\n",
    "    Other\n",
    "        eg. 'ABCABC', 'ABBCCA', 'ABCCBA', etc.\n",
    "    \"\"\"\n",
    "    try:\n",
    "        formatted = reformat(string)\n",
    "    except NotImplementedError:\n",
    "        return \"Other\"\n",
    "    if not formatted[0]:\n",
    "        category = \"no_repeats\"\n",
    "    elif len(formatted) == 1:\n",
    "        if len(formatted[0]) < 4:\n",
    "            category = 'disjoint'\n",
    "        elif formatted[0][0] == formatted[0][-1]:\n",
    "            category = 'abba'\n",
    "        else:\n",
    "            category = 'abab'\n",
    "    else:\n",
    "        if all([i==len(i)*i[0] and len(i) != 1 for i in formatted]):\n",
    "            category = 'disjoint'\n",
    "        else:\n",
    "            category = 'Other'\n",
    "    return category"
   ]
  },
  {
   "cell_type": "code",
   "execution_count": 562,
   "metadata": {},
   "outputs": [
    {
     "name": "stdout",
     "output_type": "stream",
     "text": [
      "AxAxBxB ['AA', 'BB'] disjoint\n",
      "AxBxCxD [''] no_repeats\n",
      "AxBxCxB ['BB'] disjoint\n",
      "AxBxBxA ['ABBA'] abba\n",
      "AxBxAxB ['ABAB'] abab\n",
      "AxAxBxBxDxCxCxA ['AA', 'BB', 'CC', 'A'] Other\n",
      "AxAxBxBxDxD ['AA', 'BB', 'DD'] disjoint\n"
     ]
    }
   ],
   "source": [
    "for i in type_list:\n",
    "    print(i, reformat(i), characterize(i))"
   ]
  },
  {
   "cell_type": "code",
   "execution_count": 563,
   "metadata": {},
   "outputs": [
    {
     "data": {
      "text/html": [
       "<div>\n",
       "<style>\n",
       "    .dataframe thead tr:only-child th {\n",
       "        text-align: right;\n",
       "    }\n",
       "\n",
       "    .dataframe thead th {\n",
       "        text-align: left;\n",
       "    }\n",
       "\n",
       "    .dataframe tbody tr th {\n",
       "        vertical-align: top;\n",
       "    }\n",
       "</style>\n",
       "<table border=\"1\" class=\"dataframe\">\n",
       "  <thead>\n",
       "    <tr style=\"text-align: right;\">\n",
       "      <th></th>\n",
       "      <th>metapath</th>\n",
       "      <th>type</th>\n",
       "    </tr>\n",
       "  </thead>\n",
       "  <tbody>\n",
       "    <tr>\n",
       "      <th>0</th>\n",
       "      <td>CbGaD</td>\n",
       "      <td>no_repeats</td>\n",
       "    </tr>\n",
       "    <tr>\n",
       "      <th>1</th>\n",
       "      <td>CbGdD</td>\n",
       "      <td>no_repeats</td>\n",
       "    </tr>\n",
       "    <tr>\n",
       "      <th>2</th>\n",
       "      <td>CbGuD</td>\n",
       "      <td>no_repeats</td>\n",
       "    </tr>\n",
       "    <tr>\n",
       "      <th>3</th>\n",
       "      <td>CdGaD</td>\n",
       "      <td>no_repeats</td>\n",
       "    </tr>\n",
       "    <tr>\n",
       "      <th>4</th>\n",
       "      <td>CdGdD</td>\n",
       "      <td>no_repeats</td>\n",
       "    </tr>\n",
       "  </tbody>\n",
       "</table>\n",
       "</div>"
      ],
      "text/plain": [
       "  metapath        type\n",
       "0    CbGaD  no_repeats\n",
       "1    CbGdD  no_repeats\n",
       "2    CbGuD  no_repeats\n",
       "3    CdGaD  no_repeats\n",
       "4    CdGdD  no_repeats"
      ]
     },
     "execution_count": 563,
     "metadata": {},
     "output_type": "execute_result"
    }
   ],
   "source": [
    "categories = pd.DataFrame([[v,characterize(v)] for v in all_metapaths], columns=['metapath', 'type'])\n",
    "categories.head()"
   ]
  },
  {
   "cell_type": "code",
   "execution_count": 564,
   "metadata": {},
   "outputs": [
    {
     "data": {
      "text/plain": [
       "<matplotlib.axes._subplots.AxesSubplot at 0x7f75aaad77b8>"
      ]
     },
     "execution_count": 564,
     "metadata": {},
     "output_type": "execute_result"
    },
    {
     "data": {
      "image/png": "[encoded data removed]",
      "text/plain": [
       "<matplotlib.figure.Figure at 0x7f75aaad1588>"
      ]
     },
     "metadata": {},
     "output_type": "display_data"
    }
   ],
   "source": [
    "categories.type.value_counts().plot(kind='bar')"
   ]
  },
  {
   "cell_type": "code",
   "execution_count": 573,
   "metadata": {
    "scrolled": true
   },
   "outputs": [
    {
     "data": {
      "text/html": [
       "<div>\n",
       "<style>\n",
       "    .dataframe thead tr:only-child th {\n",
       "        text-align: right;\n",
       "    }\n",
       "\n",
       "    .dataframe thead th {\n",
       "        text-align: left;\n",
       "    }\n",
       "\n",
       "    .dataframe tbody tr th {\n",
       "        vertical-align: top;\n",
       "    }\n",
       "</style>\n",
       "<table border=\"1\" class=\"dataframe\">\n",
       "  <thead>\n",
       "    <tr style=\"text-align: right;\">\n",
       "      <th></th>\n",
       "      <th>metapath</th>\n",
       "      <th>type</th>\n",
       "    </tr>\n",
       "  </thead>\n",
       "  <tbody>\n",
       "    <tr>\n",
       "      <th>6</th>\n",
       "      <td>CpDrD</td>\n",
       "      <td>disjoint</td>\n",
       "    </tr>\n",
       "    <tr>\n",
       "      <th>7</th>\n",
       "      <td>CrCpD</td>\n",
       "      <td>disjoint</td>\n",
       "    </tr>\n",
       "    <tr>\n",
       "      <th>8</th>\n",
       "      <td>CrCtD</td>\n",
       "      <td>disjoint</td>\n",
       "    </tr>\n",
       "    <tr>\n",
       "      <th>9</th>\n",
       "      <td>CtDrD</td>\n",
       "      <td>disjoint</td>\n",
       "    </tr>\n",
       "    <tr>\n",
       "      <th>13</th>\n",
       "      <td>CbG&lt;rGaD</td>\n",
       "      <td>disjoint</td>\n",
       "    </tr>\n",
       "  </tbody>\n",
       "</table>\n",
       "</div>"
      ],
      "text/plain": [
       "    metapath      type\n",
       "6      CpDrD  disjoint\n",
       "7      CrCpD  disjoint\n",
       "8      CrCtD  disjoint\n",
       "9      CtDrD  disjoint\n",
       "13  CbG<rGaD  disjoint"
      ]
     },
     "execution_count": 573,
     "metadata": {},
     "output_type": "execute_result"
    }
   ],
   "source": [
    "categories.loc[categories['type'] == 'disjoint'].head()"
   ]
  },
  {
   "cell_type": "code",
   "execution_count": null,
   "metadata": {
    "collapsed": true
   },
   "outputs": [],
   "source": []
  }
 ],
 "metadata": {
  "kernelspec": {
   "display_name": "Python [conda env:hetmech]",
   "language": "python",
   "name": "conda-env-hetmech-py"
  },
  "language_info": {
   "codemirror_mode": {
    "name": "ipython",
    "version": 3
   },
   "file_extension": ".py",
   "mimetype": "text/x-python",
   "name": "python",
   "nbconvert_exporter": "python",
   "pygments_lexer": "ipython3",
   "version": "3.6.0"
  }
 },
 "nbformat": 4,
 "nbformat_minor": 2
}
