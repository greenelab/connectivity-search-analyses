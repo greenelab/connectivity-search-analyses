{
 "cells": [
  {
   "cell_type": "code",
   "execution_count": 1,
   "metadata": {
    "collapsed": false,
    "deletable": true,
    "editable": true
   },
   "outputs": [
    {
     "data": {
      "text/plain": [
       "\"\\nWorked example showing why our previous approach won't work when a metapath\\ncontains multiple repeated node types that interleave.\\n\\nConstruct a graph below with two different node sets, A = [0,1] and B = [2,3,4].\\nLook at the metapath BABA.\\n\""
      ]
     },
     "execution_count": 1,
     "metadata": {},
     "output_type": "execute_result"
    }
   ],
   "source": [
    "import networkx as nx\n",
    "import numpy as np\n",
    "import scipy as sp\n",
    "import matplotlib.pyplot as plt\n",
    "\"\"\"\n",
    "Worked example showing why our previous approach won't work when a metapath\n",
    "contains multiple repeated node types that interleave.\n",
    "\n",
    "Construct a graph below with two different node sets, A = [0,1] and B = [2,3,4].\n",
    "Look at the metapath BABA.\n",
    "\"\"\""
   ]
  },
  {
   "cell_type": "code",
   "execution_count": 2,
   "metadata": {
    "collapsed": false,
    "deletable": true,
    "editable": true
   },
   "outputs": [
    {
     "data": {
      "image/png": "[encoded data removed]",
      "text/plain": [
       "<matplotlib.figure.Figure at 0x7f81456efeb8>"
      ]
     },
     "metadata": {},
     "output_type": "display_data"
    },
    {
     "name": "stdout",
     "output_type": "stream",
     "text": [
      "[[0 0 1 1 0]\n",
      " [0 0 1 0 1]\n",
      " [0 0 0 0 0]\n",
      " [0 0 0 0 0]\n",
      " [0 0 0 0 0]]\n"
     ]
    }
   ],
   "source": [
    "# Make first set of edges, from A to B\n",
    "\n",
    "G1 = nx.DiGraph()\n",
    "\n",
    "G1.add_nodes_from([0,1,2,3,4])\n",
    "G1.add_edges_from([[0,2], [0,3], [1,4], [1,2]])\n",
    "\n",
    "plt.clf()\n",
    "nx.draw_networkx(G1)\n",
    "plt.show()\n",
    "\n",
    "A = nx.adjacency_matrix(G1)\n",
    "print(A.todense())"
   ]
  },
  {
   "cell_type": "code",
   "execution_count": 3,
   "metadata": {
    "collapsed": false,
    "deletable": true,
    "editable": true
   },
   "outputs": [
    {
     "data": {
      "image/png": "[encoded data removed]",
      "text/plain": [
       "<matplotlib.figure.Figure at 0x7f81456efdd8>"
      ]
     },
     "metadata": {},
     "output_type": "display_data"
    },
    {
     "name": "stdout",
     "output_type": "stream",
     "text": [
      "[[0 0 0 0 0]\n",
      " [0 0 0 0 0]\n",
      " [0 1 0 0 0]\n",
      " [0 1 0 0 0]\n",
      " [1 0 0 0 0]]\n"
     ]
    }
   ],
   "source": [
    "# Edges from B to A\n",
    "G2 = nx.DiGraph()\n",
    "\n",
    "G2.add_nodes_from([0,1,2,3,4])\n",
    "G2.add_edges_from([[2,1], [3,1], [4,0]])\n",
    "\n",
    "plt.clf()\n",
    "nx.draw_networkx(G2)\n",
    "plt.show()\n",
    "\n",
    "B = nx.adjacency_matrix(G2)\n",
    "print(B.todense())"
   ]
  },
  {
   "cell_type": "code",
   "execution_count": 4,
   "metadata": {
    "collapsed": false,
    "deletable": true,
    "editable": true
   },
   "outputs": [
    {
     "name": "stdout",
     "output_type": "stream",
     "text": [
      "[[0 0 0 0 0]\n",
      " [0 0 0 0 0]\n",
      " [1 1 0 0 0]\n",
      " [1 1 0 0 0]\n",
      " [0 2 0 0 0]]\n"
     ]
    }
   ],
   "source": [
    "# Walk count matrix\n",
    "# This displays all walks from B to A to B to A\n",
    "print( (B@A@B).todense() )"
   ]
  },
  {
   "cell_type": "code",
   "execution_count": 5,
   "metadata": {
    "collapsed": false,
    "deletable": true,
    "editable": true
   },
   "outputs": [
    {
     "name": "stdout",
     "output_type": "stream",
     "text": [
      "[[0 0 0 0 0]\n",
      " [0 0 0 0 0]\n",
      " [1 0 0 0 0]\n",
      " [1 1 0 0 0]\n",
      " [0 2 0 0 0]]\n"
     ]
    }
   ],
   "source": [
    "# Path count when subtracting loops at B nodes\n",
    "print((B@A - np.diag((B@A).diagonal()) )@B)"
   ]
  },
  {
   "cell_type": "code",
   "execution_count": 6,
   "metadata": {
    "collapsed": false,
    "deletable": true,
    "editable": true
   },
   "outputs": [
    {
     "name": "stdout",
     "output_type": "stream",
     "text": [
      "[[0 0 0 0 0]\n",
      " [0 0 0 0 0]\n",
      " [1 0 0 0 0]\n",
      " [1 0 0 0 0]\n",
      " [0 2 0 0 0]]\n"
     ]
    }
   ],
   "source": [
    "# Path count when subtracting loops at A nodes\n",
    "# NOTE: it turns out this matrix equals the correct matrix,\n",
    "# although that is a coincidence and will not hold in general\n",
    "print( B@(A@B - np.diag((A@B).diagonal())) )"
   ]
  },
  {
   "cell_type": "code",
   "execution_count": 7,
   "metadata": {
    "collapsed": false,
    "deletable": true,
    "editable": true
   },
   "outputs": [
    {
     "name": "stdout",
     "output_type": "stream",
     "text": [
      "[[ 0  0  0  0  0]\n",
      " [ 0  0  0  0  0]\n",
      " [ 1 -1  0  0  0]\n",
      " [ 1  0  0  0  0]\n",
      " [ 0  2  0  0  0]]\n"
     ]
    }
   ],
   "source": [
    "# When we subtract loops at A nodes and at B nodes, we overcompensate and get the wrong result\n",
    "print(  B@A@B - np.diag((B@A).diagonal())@B  -  B@np.diag((A@B).diagonal())  )"
   ]
  }
 ],
 "metadata": {
  "kernelspec": {
   "display_name": "Python 3",
   "language": "python",
   "name": "python3"
  },
  "language_info": {
   "codemirror_mode": {
    "name": "ipython",
    "version": 3
   },
   "file_extension": ".py",
   "mimetype": "text/x-python",
   "name": "python",
   "nbconvert_exporter": "python",
   "pygments_lexer": "ipython3",
   "version": "3.6.0"
  }
 },
 "nbformat": 4,
 "nbformat_minor": 2
}
