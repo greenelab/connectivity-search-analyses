{
 "cells": [
  {
   "cell_type": "markdown",
   "metadata": {},
   "source": [
    "# Exploratory statistics and summaries of the pQTL data and loci"
   ]
  },
  {
   "cell_type": "code",
   "execution_count": 1,
   "metadata": {},
   "outputs": [
    {
     "name": "stderr",
     "output_type": "stream",
     "text": [
      "/home/dhimmel/anaconda3/envs/hetmech/lib/python3.6/site-packages/statsmodels/compat/pandas.py:56: FutureWarning: The pandas.core.datetools module is deprecated and will be removed in a future version. Please use the pandas.tseries module instead.\n",
      "  from pandas.core import datetools\n"
     ]
    }
   ],
   "source": [
    "import numpy\n",
    "import pandas\n",
    "import plotnine\n",
    "\n",
    "%matplotlib inline"
   ]
  },
  {
   "cell_type": "markdown",
   "metadata": {},
   "source": [
    "## Read loci"
   ]
  },
  {
   "cell_type": "code",
   "execution_count": 2,
   "metadata": {},
   "outputs": [
    {
     "data": {
      "text/html": [
       "<div>\n",
       "<style scoped>\n",
       "    .dataframe tbody tr th:only-of-type {\n",
       "        vertical-align: middle;\n",
       "    }\n",
       "\n",
       "    .dataframe tbody tr th {\n",
       "        vertical-align: top;\n",
       "    }\n",
       "\n",
       "    .dataframe thead th {\n",
       "        text-align: right;\n",
       "    }\n",
       "</style>\n",
       "<table border=\"1\" class=\"dataframe\">\n",
       "  <thead>\n",
       "    <tr style=\"text-align: right;\">\n",
       "      <th></th>\n",
       "      <th>snp</th>\n",
       "      <th>locus_gene</th>\n",
       "      <th>locus_entrez_id</th>\n",
       "      <th>distance_to_snp</th>\n",
       "    </tr>\n",
       "  </thead>\n",
       "  <tbody>\n",
       "    <tr>\n",
       "      <th>0</th>\n",
       "      <td>rs651007</td>\n",
       "      <td>ABO</td>\n",
       "      <td>28</td>\n",
       "      <td>3217</td>\n",
       "    </tr>\n",
       "    <tr>\n",
       "      <th>1</th>\n",
       "      <td>rs651007</td>\n",
       "      <td>SURF6</td>\n",
       "      <td>6838</td>\n",
       "      <td>50343</td>\n",
       "    </tr>\n",
       "  </tbody>\n",
       "</table>\n",
       "</div>"
      ],
      "text/plain": [
       "        snp locus_gene  locus_entrez_id  distance_to_snp\n",
       "0  rs651007        ABO               28             3217\n",
       "1  rs651007      SURF6             6838            50343"
      ]
     },
     "execution_count": 2,
     "metadata": {},
     "output_type": "execute_result"
    }
   ],
   "source": [
    "locus_df = pandas.read_table('snps-to-locus-genes.tsv')\n",
    "locus_df.head(2)"
   ]
  },
  {
   "cell_type": "code",
   "execution_count": 3,
   "metadata": {},
   "outputs": [
    {
     "data": {
      "text/plain": [
       "131465"
      ]
     },
     "execution_count": 3,
     "metadata": {},
     "output_type": "execute_result"
    }
   ],
   "source": [
    "## Number of loci (lead SNPs)\n",
    "len(locus_df)"
   ]
  },
  {
   "cell_type": "code",
   "execution_count": 4,
   "metadata": {},
   "outputs": [
    {
     "data": {
      "text/plain": [
       "999962"
      ]
     },
     "execution_count": 4,
     "metadata": {},
     "output_type": "execute_result"
    }
   ],
   "source": [
    "locus_df.distance_to_snp.max()"
   ]
  },
  {
   "cell_type": "code",
   "execution_count": 5,
   "metadata": {},
   "outputs": [
    {
     "data": {
      "text/html": [
       "<div>\n",
       "<style scoped>\n",
       "    .dataframe tbody tr th:only-of-type {\n",
       "        vertical-align: middle;\n",
       "    }\n",
       "\n",
       "    .dataframe tbody tr th {\n",
       "        vertical-align: top;\n",
       "    }\n",
       "\n",
       "    .dataframe thead th {\n",
       "        text-align: right;\n",
       "    }\n",
       "</style>\n",
       "<table border=\"1\" class=\"dataframe\">\n",
       "  <thead>\n",
       "    <tr style=\"text-align: right;\">\n",
       "      <th></th>\n",
       "      <th>locus_entrez_id</th>\n",
       "      <th>locus_gene</th>\n",
       "      <th>n_snps</th>\n",
       "    </tr>\n",
       "  </thead>\n",
       "  <tbody>\n",
       "    <tr>\n",
       "      <th>0</th>\n",
       "      <td>2</td>\n",
       "      <td>A2M</td>\n",
       "      <td>2</td>\n",
       "    </tr>\n",
       "    <tr>\n",
       "      <th>1</th>\n",
       "      <td>3</td>\n",
       "      <td>A2MP1</td>\n",
       "      <td>2</td>\n",
       "    </tr>\n",
       "  </tbody>\n",
       "</table>\n",
       "</div>"
      ],
      "text/plain": [
       "   locus_entrez_id locus_gene  n_snps\n",
       "0                2        A2M       2\n",
       "1                3      A2MP1       2"
      ]
     },
     "execution_count": 5,
     "metadata": {},
     "output_type": "execute_result"
    }
   ],
   "source": [
    "snps_per_locus_df = locus_df.groupby(['locus_entrez_id', 'locus_gene']).snp.count().rename('n_snps').reset_index()\n",
    "snps_per_locus_df.head(2)"
   ]
  },
  {
   "cell_type": "code",
   "execution_count": 6,
   "metadata": {},
   "outputs": [
    {
     "data": {
      "image/png": "[encoded data removed]",
      "text/plain": [
       "<matplotlib.figure.Figure at 0x7f5e23428978>"
      ]
     },
     "metadata": {},
     "output_type": "display_data"
    }
   ],
   "source": [
    "# Under the naive assumption that every gene in a locus is equally likely to be causual, plot the prior probability of causility for genes for each locus\n",
    "(1 / snps_per_locus_df.n_snps).hist(bins=numpy.arange(0, 1.01, 0.025));"
   ]
  },
  {
   "cell_type": "markdown",
   "metadata": {},
   "source": [
    "## Plot number of SNPs per locus at various distance cutoffs"
   ]
  },
  {
   "cell_type": "code",
   "execution_count": 7,
   "metadata": {},
   "outputs": [
    {
     "data": {
      "text/html": [
       "<div>\n",
       "<style scoped>\n",
       "    .dataframe tbody tr th:only-of-type {\n",
       "        vertical-align: middle;\n",
       "    }\n",
       "\n",
       "    .dataframe tbody tr th {\n",
       "        vertical-align: top;\n",
       "    }\n",
       "\n",
       "    .dataframe thead th {\n",
       "        text-align: right;\n",
       "    }\n",
       "</style>\n",
       "<table border=\"1\" class=\"dataframe\">\n",
       "  <thead>\n",
       "    <tr style=\"text-align: right;\">\n",
       "      <th></th>\n",
       "      <th>2</th>\n",
       "      <th>3</th>\n",
       "      <th>9</th>\n",
       "      <th>10</th>\n",
       "      <th>12</th>\n",
       "      <th>15</th>\n",
       "      <th>16</th>\n",
       "      <th>20</th>\n",
       "      <th>21</th>\n",
       "      <th>23</th>\n",
       "      <th>...</th>\n",
       "      <th>110384692</th>\n",
       "      <th>110599563</th>\n",
       "      <th>110599588</th>\n",
       "      <th>110806283</th>\n",
       "      <th>110806285</th>\n",
       "      <th>110841583</th>\n",
       "      <th>111082988</th>\n",
       "      <th>111082989</th>\n",
       "      <th>111082992</th>\n",
       "      <th>111089941</th>\n",
       "    </tr>\n",
       "  </thead>\n",
       "  <tbody>\n",
       "    <tr>\n",
       "      <th>999000</th>\n",
       "      <td>2</td>\n",
       "      <td>2</td>\n",
       "      <td>1</td>\n",
       "      <td>1</td>\n",
       "      <td>31</td>\n",
       "      <td>1</td>\n",
       "      <td>1</td>\n",
       "      <td>5</td>\n",
       "      <td>2</td>\n",
       "      <td>21</td>\n",
       "      <td>...</td>\n",
       "      <td>59</td>\n",
       "      <td>116</td>\n",
       "      <td>2</td>\n",
       "      <td>1</td>\n",
       "      <td>3</td>\n",
       "      <td>2</td>\n",
       "      <td>1</td>\n",
       "      <td>1</td>\n",
       "      <td>1</td>\n",
       "      <td>4</td>\n",
       "    </tr>\n",
       "    <tr>\n",
       "      <th>1000000</th>\n",
       "      <td>2</td>\n",
       "      <td>2</td>\n",
       "      <td>1</td>\n",
       "      <td>1</td>\n",
       "      <td>31</td>\n",
       "      <td>1</td>\n",
       "      <td>1</td>\n",
       "      <td>5</td>\n",
       "      <td>2</td>\n",
       "      <td>21</td>\n",
       "      <td>...</td>\n",
       "      <td>59</td>\n",
       "      <td>116</td>\n",
       "      <td>2</td>\n",
       "      <td>1</td>\n",
       "      <td>3</td>\n",
       "      <td>2</td>\n",
       "      <td>1</td>\n",
       "      <td>1</td>\n",
       "      <td>1</td>\n",
       "      <td>4</td>\n",
       "    </tr>\n",
       "  </tbody>\n",
       "</table>\n",
       "<p>2 rows × 14312 columns</p>\n",
       "</div>"
      ],
      "text/plain": [
       "         2          3          9          10         12         15         \\\n",
       "999000           2          2          1          1         31          1   \n",
       "1000000          2          2          1          1         31          1   \n",
       "\n",
       "         16         20         21         23           ...      110384692  \\\n",
       "999000           1          5          2         21    ...             59   \n",
       "1000000          1          5          2         21    ...             59   \n",
       "\n",
       "         110599563  110599588  110806283  110806285  110841583  111082988  \\\n",
       "999000         116          2          1          3          2          1   \n",
       "1000000        116          2          1          3          2          1   \n",
       "\n",
       "         111082989  111082992  111089941  \n",
       "999000           1          1          4  \n",
       "1000000          1          1          4  \n",
       "\n",
       "[2 rows x 14312 columns]"
      ]
     },
     "execution_count": 7,
     "metadata": {},
     "output_type": "execute_result"
    }
   ],
   "source": [
    "bin_edges = numpy.arange(start=0, stop=1_000_001, step=1_000)\n",
    "\n",
    "def summarize_distance(df):\n",
    "    \"\"\"\n",
    "    An inefficient method for counting the number of SNPs within\n",
    "    various distances.\n",
    "    \"\"\"\n",
    "    counts, _ = numpy.histogram(df.distance_to_snp, bins=bin_edges)\n",
    "    return numpy.cumsum(counts)\n",
    "\n",
    "results = locus_df.groupby('locus_entrez_id').apply(summarize_distance)\n",
    "n_snps_df = pandas.DataFrame(dict(zip(results.index, results.values)), index=bin_edges[1:])\n",
    "n_snps_df.tail(2)"
   ]
  },
  {
   "cell_type": "code",
   "execution_count": 8,
   "metadata": {},
   "outputs": [
    {
     "data": {
      "text/html": [
       "<div>\n",
       "<style scoped>\n",
       "    .dataframe tbody tr th:only-of-type {\n",
       "        vertical-align: middle;\n",
       "    }\n",
       "\n",
       "    .dataframe tbody tr th {\n",
       "        vertical-align: top;\n",
       "    }\n",
       "\n",
       "    .dataframe thead th {\n",
       "        text-align: right;\n",
       "    }\n",
       "</style>\n",
       "<table border=\"1\" class=\"dataframe\">\n",
       "  <thead>\n",
       "    <tr style=\"text-align: right;\">\n",
       "      <th></th>\n",
       "      <th>distance</th>\n",
       "      <th>n_snps</th>\n",
       "    </tr>\n",
       "  </thead>\n",
       "  <tbody>\n",
       "    <tr>\n",
       "      <th>0</th>\n",
       "      <td>1000</td>\n",
       "      <td>0.039407</td>\n",
       "    </tr>\n",
       "    <tr>\n",
       "      <th>1</th>\n",
       "      <td>2000</td>\n",
       "      <td>0.059251</td>\n",
       "    </tr>\n",
       "  </tbody>\n",
       "</table>\n",
       "</div>"
      ],
      "text/plain": [
       "   distance    n_snps\n",
       "0      1000  0.039407\n",
       "1      2000  0.059251"
      ]
     },
     "execution_count": 8,
     "metadata": {},
     "output_type": "execute_result"
    }
   ],
   "source": [
    "mean_snp_df = n_snps_df.mean(axis='columns').rename('n_snps').reset_index().rename(columns={'index': 'distance'})\n",
    "mean_snp_df.head(2)"
   ]
  },
  {
   "cell_type": "code",
   "execution_count": 9,
   "metadata": {},
   "outputs": [
    {
     "data": {
      "text/html": [
       "<div>\n",
       "<style scoped>\n",
       "    .dataframe tbody tr th:only-of-type {\n",
       "        vertical-align: middle;\n",
       "    }\n",
       "\n",
       "    .dataframe tbody tr th {\n",
       "        vertical-align: top;\n",
       "    }\n",
       "\n",
       "    .dataframe thead th {\n",
       "        text-align: right;\n",
       "    }\n",
       "</style>\n",
       "<table border=\"1\" class=\"dataframe\">\n",
       "  <thead>\n",
       "    <tr style=\"text-align: right;\">\n",
       "      <th></th>\n",
       "      <th>quantile</th>\n",
       "      <th>distance</th>\n",
       "      <th>n_snps</th>\n",
       "    </tr>\n",
       "  </thead>\n",
       "  <tbody>\n",
       "    <tr>\n",
       "      <th>2998</th>\n",
       "      <td>0.75</td>\n",
       "      <td>999000</td>\n",
       "      <td>5.0</td>\n",
       "    </tr>\n",
       "    <tr>\n",
       "      <th>2999</th>\n",
       "      <td>0.75</td>\n",
       "      <td>1000000</td>\n",
       "      <td>5.0</td>\n",
       "    </tr>\n",
       "  </tbody>\n",
       "</table>\n",
       "</div>"
      ],
      "text/plain": [
       "      quantile  distance  n_snps\n",
       "2998      0.75    999000     5.0\n",
       "2999      0.75   1000000     5.0"
      ]
     },
     "execution_count": 9,
     "metadata": {},
     "output_type": "execute_result"
    }
   ],
   "source": [
    "quantile_df = n_snps_df.quantile(q=[0.25, 0.5, 0.75], axis='columns')\n",
    "quantile_df = quantile_df.stack().reset_index()\n",
    "quantile_df.columns = 'quantile', 'distance', 'n_snps'\n",
    "quantile_df.tail(2)"
   ]
  },
  {
   "cell_type": "code",
   "execution_count": 10,
   "metadata": {},
   "outputs": [
    {
     "data": {
      "image/png": "[encoded data removed]",
      "text/plain": [
       "<matplotlib.figure.Figure at 0x7f5e593b7710>"
      ]
     },
     "metadata": {},
     "output_type": "display_data"
    },
    {
     "data": {
      "text/plain": [
       "<ggplot: (-9223363284213712808)>"
      ]
     },
     "execution_count": 10,
     "metadata": {},
     "output_type": "execute_result"
    }
   ],
   "source": [
    "# Plot quartiles and mean number of SNPs within a given distance\n",
    "(\n",
    "    plotnine.ggplot(mapping=plotnine.aes(x='distance', y='n_snps', group='quantile'), data=quantile_df) + \n",
    "    plotnine.geom_path() +\n",
    "    plotnine.geom_path(mapping=plotnine.aes(group=False), data=mean_snp_df, color='purple') +\n",
    "    plotnine.coord_cartesian(ylim=(0, 8)) +\n",
    "    plotnine.theme_bw()\n",
    ")"
   ]
  },
  {
   "cell_type": "markdown",
   "metadata": {},
   "source": [
    "## Read pQTLs"
   ]
  },
  {
   "cell_type": "code",
   "execution_count": 11,
   "metadata": {
    "scrolled": true
   },
   "outputs": [
    {
     "data": {
      "text/html": [
       "<div>\n",
       "<style scoped>\n",
       "    .dataframe tbody tr th:only-of-type {\n",
       "        vertical-align: middle;\n",
       "    }\n",
       "\n",
       "    .dataframe tbody tr th {\n",
       "        vertical-align: top;\n",
       "    }\n",
       "\n",
       "    .dataframe thead th {\n",
       "        text-align: right;\n",
       "    }\n",
       "</style>\n",
       "<table border=\"1\" class=\"dataframe\">\n",
       "  <thead>\n",
       "    <tr style=\"text-align: right;\">\n",
       "      <th></th>\n",
       "      <th>snp</th>\n",
       "      <th>pqtl_gene</th>\n",
       "      <th>pqtl_entrez_id</th>\n",
       "      <th>neg_log10_p</th>\n",
       "      <th>gwas_source</th>\n",
       "    </tr>\n",
       "  </thead>\n",
       "  <tbody>\n",
       "    <tr>\n",
       "      <th>0</th>\n",
       "      <td>rs651007</td>\n",
       "      <td>SELE</td>\n",
       "      <td>6401</td>\n",
       "      <td>102.728</td>\n",
       "      <td>23300549</td>\n",
       "    </tr>\n",
       "    <tr>\n",
       "      <th>1</th>\n",
       "      <td>rs5985</td>\n",
       "      <td>F13A1,F13B</td>\n",
       "      <td>2165,2162</td>\n",
       "      <td>185.587</td>\n",
       "      <td>23381943</td>\n",
       "    </tr>\n",
       "  </tbody>\n",
       "</table>\n",
       "</div>"
      ],
      "text/plain": [
       "        snp   pqtl_gene pqtl_entrez_id  neg_log10_p gwas_source\n",
       "0  rs651007        SELE           6401      102.728    23300549\n",
       "1    rs5985  F13A1,F13B      2165,2162      185.587    23381943"
      ]
     },
     "execution_count": 11,
     "metadata": {},
     "output_type": "execute_result"
    }
   ],
   "source": [
    "pqtl_df = pandas.read_table('pqtl.tsv')\n",
    "pqtl_df.head(2)"
   ]
  },
  {
   "cell_type": "code",
   "execution_count": 12,
   "metadata": {},
   "outputs": [
    {
     "data": {
      "text/html": [
       "<div>\n",
       "<style scoped>\n",
       "    .dataframe tbody tr th:only-of-type {\n",
       "        vertical-align: middle;\n",
       "    }\n",
       "\n",
       "    .dataframe tbody tr th {\n",
       "        vertical-align: top;\n",
       "    }\n",
       "\n",
       "    .dataframe thead th {\n",
       "        text-align: right;\n",
       "    }\n",
       "</style>\n",
       "<table border=\"1\" class=\"dataframe\">\n",
       "  <thead>\n",
       "    <tr style=\"text-align: right;\">\n",
       "      <th></th>\n",
       "      <th>snp</th>\n",
       "      <th>pqtl_gene</th>\n",
       "      <th>pqtl_entrez_id</th>\n",
       "      <th>neg_log10_p</th>\n",
       "      <th>gwas_source</th>\n",
       "      <th>locus_gene</th>\n",
       "      <th>locus_entrez_id</th>\n",
       "      <th>distance_to_snp</th>\n",
       "    </tr>\n",
       "  </thead>\n",
       "  <tbody>\n",
       "    <tr>\n",
       "      <th>0</th>\n",
       "      <td>rs651007</td>\n",
       "      <td>SELE</td>\n",
       "      <td>6401</td>\n",
       "      <td>102.728</td>\n",
       "      <td>23300549</td>\n",
       "      <td>ABO</td>\n",
       "      <td>28</td>\n",
       "      <td>3217</td>\n",
       "    </tr>\n",
       "    <tr>\n",
       "      <th>1</th>\n",
       "      <td>rs651007</td>\n",
       "      <td>SELE</td>\n",
       "      <td>6401</td>\n",
       "      <td>102.728</td>\n",
       "      <td>23300549</td>\n",
       "      <td>SURF6</td>\n",
       "      <td>6838</td>\n",
       "      <td>50343</td>\n",
       "    </tr>\n",
       "    <tr>\n",
       "      <th>2</th>\n",
       "      <td>rs651007</td>\n",
       "      <td>SELE</td>\n",
       "      <td>6401</td>\n",
       "      <td>102.728</td>\n",
       "      <td>23300549</td>\n",
       "      <td>MED22</td>\n",
       "      <td>6837</td>\n",
       "      <td>59892</td>\n",
       "    </tr>\n",
       "    <tr>\n",
       "      <th>3</th>\n",
       "      <td>rs651007</td>\n",
       "      <td>SELE</td>\n",
       "      <td>6401</td>\n",
       "      <td>102.728</td>\n",
       "      <td>23300549</td>\n",
       "      <td>OBP2B</td>\n",
       "      <td>29989</td>\n",
       "      <td>69181</td>\n",
       "    </tr>\n",
       "    <tr>\n",
       "      <th>4</th>\n",
       "      <td>rs651007</td>\n",
       "      <td>SELE</td>\n",
       "      <td>6401</td>\n",
       "      <td>102.728</td>\n",
       "      <td>23300549</td>\n",
       "      <td>RPL7A</td>\n",
       "      <td>6130</td>\n",
       "      <td>69783</td>\n",
       "    </tr>\n",
       "  </tbody>\n",
       "</table>\n",
       "</div>"
      ],
      "text/plain": [
       "        snp pqtl_gene pqtl_entrez_id  neg_log10_p gwas_source locus_gene  \\\n",
       "0  rs651007      SELE           6401      102.728    23300549        ABO   \n",
       "1  rs651007      SELE           6401      102.728    23300549      SURF6   \n",
       "2  rs651007      SELE           6401      102.728    23300549      MED22   \n",
       "3  rs651007      SELE           6401      102.728    23300549      OBP2B   \n",
       "4  rs651007      SELE           6401      102.728    23300549      RPL7A   \n",
       "\n",
       "   locus_entrez_id  distance_to_snp  \n",
       "0               28             3217  \n",
       "1             6838            50343  \n",
       "2             6837            59892  \n",
       "3            29989            69181  \n",
       "4             6130            69783  "
      ]
     },
     "execution_count": 12,
     "metadata": {},
     "output_type": "execute_result"
    }
   ],
   "source": [
    "pqtl_locus_df = pqtl_df.merge(locus_df)\n",
    "pqtl_locus_df.head()"
   ]
  },
  {
   "cell_type": "code",
   "execution_count": 13,
   "metadata": {},
   "outputs": [
    {
     "data": {
      "text/plain": [
       "1607"
      ]
     },
     "execution_count": 13,
     "metadata": {},
     "output_type": "execute_result"
    }
   ],
   "source": [
    "pqtl_locus_df.pqtl_gene.nunique()"
   ]
  },
  {
   "cell_type": "code",
   "execution_count": 14,
   "metadata": {},
   "outputs": [
    {
     "data": {
      "text/plain": [
       "14219"
      ]
     },
     "execution_count": 14,
     "metadata": {},
     "output_type": "execute_result"
    }
   ],
   "source": [
    "pqtl_locus_df.locus_gene.nunique()"
   ]
  }
 ],
 "metadata": {
  "kernelspec": {
   "display_name": "Python [conda env:hetmech]",
   "language": "python",
   "name": "conda-env-hetmech-py"
  },
  "language_info": {
   "codemirror_mode": {
    "name": "ipython",
    "version": 3
   },
   "file_extension": ".py",
   "mimetype": "text/x-python",
   "name": "python",
   "nbconvert_exporter": "python",
   "pygments_lexer": "ipython3",
   "version": "3.6.4"
  }
 },
 "nbformat": 4,
 "nbformat_minor": 2
}
