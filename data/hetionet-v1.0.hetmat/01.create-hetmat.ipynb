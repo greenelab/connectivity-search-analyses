{
 "cells": [
  {
   "cell_type": "markdown",
   "metadata": {},
   "source": [
    "# Export Hetionet v1.0 to hetmat format"
   ]
  },
  {
   "cell_type": "code",
   "execution_count": 1,
   "metadata": {},
   "outputs": [],
   "source": [
    "import hetio.readwrite\n",
    "import hetmech.hetmat\n",
    "\n",
    "%load_ext autoreload\n",
    "%autoreload 2"
   ]
  },
  {
   "cell_type": "code",
   "execution_count": 2,
   "metadata": {},
   "outputs": [],
   "source": [
    "# Read Hetionet v1.0\n",
    "url = 'https://github.com/dhimmel/hetionet/raw/76550e6c93fbe92124edc71725e8c7dd4ca8b1f5/hetnet/json/hetionet-v1.0.json.bz2'\n",
    "graph = hetio.readwrite.read_graph(url)"
   ]
  },
  {
   "cell_type": "code",
   "execution_count": 3,
   "metadata": {},
   "outputs": [],
   "source": [
    "path = '.'\n",
    "hetmat = hetmech.hetmat.hetmat_from_graph(graph, path)"
   ]
  },
  {
   "cell_type": "code",
   "execution_count": 4,
   "metadata": {},
   "outputs": [
    {
     "data": {
      "text/plain": [
       "['Molecular Function',\n",
       " 'Pathway',\n",
       " 'Disease',\n",
       " 'Symptom',\n",
       " 'Biological Process',\n",
       " 'Pharmacologic Class',\n",
       " 'Gene',\n",
       " 'Side Effect',\n",
       " 'Compound',\n",
       " 'Cellular Component',\n",
       " 'Anatomy']"
      ]
     },
     "execution_count": 4,
     "metadata": {},
     "output_type": "execute_result"
    }
   ],
   "source": [
    "# Get lists of metanodes and metaedges\n",
    "metanodes = list(hetmat.metagraph.get_nodes())\n",
    "metaedges = list(hetmat.metagraph.get_edges(exclude_inverts=True))\n",
    "list(map(str, metanodes))"
   ]
  },
  {
   "cell_type": "markdown",
   "metadata": {},
   "source": [
    "## Demonstrate metaedge_to_adjacency_matrix"
   ]
  },
  {
   "cell_type": "code",
   "execution_count": 5,
   "metadata": {},
   "outputs": [
    {
     "data": {
      "text/plain": [
       "array([[False, False, False, False, False],\n",
       "       [False, False, False, False, False],\n",
       "       [False, False, False, False, False],\n",
       "       [False, False, False, False, False],\n",
       "       [False, False, False, False, False]])"
      ]
     },
     "execution_count": 5,
     "metadata": {},
     "output_type": "execute_result"
    }
   ],
   "source": [
    "rows, cols, matrix = hetmat.metaedge_to_adjacency_matrix('CtD', dense_threshold=0)\n",
    "matrix[:5, :5]"
   ]
  },
  {
   "cell_type": "code",
   "execution_count": 6,
   "metadata": {},
   "outputs": [
    {
     "data": {
      "text/plain": [
       "0.0035508691398901345"
      ]
     },
     "execution_count": 6,
     "metadata": {},
     "output_type": "execute_result"
    }
   ],
   "source": [
    "# Density\n",
    "matrix.mean()"
   ]
  },
  {
   "cell_type": "code",
   "execution_count": 7,
   "metadata": {},
   "outputs": [
    {
     "data": {
      "text/plain": [
       "(['DB00014', 'DB00035', 'DB00050', 'DB00091', 'DB00093'],\n",
       " ['DOID:0050156',\n",
       "  'DOID:0050425',\n",
       "  'DOID:0050741',\n",
       "  'DOID:0050742',\n",
       "  'DOID:0060073'])"
      ]
     },
     "execution_count": 7,
     "metadata": {},
     "output_type": "execute_result"
    }
   ],
   "source": [
    "# row and column identities\n",
    "rows[:5], cols[:5]"
   ]
  }
 ],
 "metadata": {
  "kernelspec": {
   "display_name": "Python [conda env:hetmech]",
   "language": "python",
   "name": "conda-env-hetmech-py"
  },
  "language_info": {
   "codemirror_mode": {
    "name": "ipython",
    "version": 3
   },
   "file_extension": ".py",
   "mimetype": "text/x-python",
   "name": "python",
   "nbconvert_exporter": "python",
   "pygments_lexer": "ipython3",
   "version": "3.6.4"
  }
 },
 "nbformat": 4,
 "nbformat_minor": 2
}
