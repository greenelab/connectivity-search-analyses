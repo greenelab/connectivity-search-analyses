{
 "cells": [
  {
   "cell_type": "code",
   "execution_count": 1,
   "metadata": {},
   "outputs": [],
   "source": [
    "import pathlib\n",
    "\n",
    "import hetmech.hetmat\n",
    "import hetmech.hetmat.archive"
   ]
  },
  {
   "cell_type": "code",
   "execution_count": 3,
   "metadata": {},
   "outputs": [],
   "source": [
    "hetmat = hetmech.hetmat.HetMat('.')"
   ]
  },
  {
   "cell_type": "markdown",
   "metadata": {},
   "source": [
    "### Archive degree-grouped permutations"
   ]
  },
  {
   "cell_type": "code",
   "execution_count": 2,
   "metadata": {},
   "outputs": [],
   "source": [
    "hetmech.hetmat.archive.create_archive_by_globs(\n",
    "    'degree-grouped-permutations-0.5-len-3.zip', '.', \n",
    "    include_globs=['adjusted-path-counts/dwpc-0.5/degree-grouped-permutations/*'])"
   ]
  },
  {
   "cell_type": "markdown",
   "metadata": {},
   "source": [
    "### Archive DWPC files"
   ]
  },
  {
   "cell_type": "code",
   "execution_count": 4,
   "metadata": {},
   "outputs": [],
   "source": [
    "all_paths_1 = hetmat.metagraph.extract_all_metapaths(1)\n",
    "all_paths_2 = set(hetmat.metagraph.extract_all_metapaths(2)) - set(all_paths_1)\n",
    "all_paths_3 = set(hetmat.metagraph.extract_all_metapaths(3)) - set(all_paths_2)"
   ]
  },
  {
   "cell_type": "code",
   "execution_count": null,
   "metadata": {},
   "outputs": [],
   "source": [
    "for damping in ('0.0', '0.5'):\n",
    "    paths_1 = []\n",
    "    paths_2 = []\n",
    "    paths_3 = []\n",
    "\n",
    "    for old, new in zip([all_paths_1, all_paths_2, all_paths_3], [paths_1, paths_2, paths_3]):\n",
    "        for path in old:\n",
    "            path = pathlib.Path(f'path-counts/dwpc-{damping}/{path}.sparse.npz')\n",
    "            if path.exists():\n",
    "                new.append(path)\n",
    "\n",
    "    hetmech.hetmat.archive.create_archive_by_globs(\n",
    "        f'dwpc-{damping}-len-1.zip', '.', include_paths=paths_1)\n",
    "\n",
    "    hetmech.hetmat.archive.create_archive_by_globs(\n",
    "        f'dwpc-{damping}-len-2.zip', '.', include_paths=paths_2)\n",
    "\n",
    "    hetmech.hetmat.archive.create_archive_by_globs(\n",
    "        f'dwpc-{damping}-len-3.zip', '.', include_paths=paths_3)"
   ]
  },
  {
   "cell_type": "code",
   "execution_count": null,
   "metadata": {
    "scrolled": true
   },
   "outputs": [],
   "source": [
    "len(paths_1), len(paths_2), len(paths_3)"
   ]
  },
  {
   "cell_type": "markdown",
   "metadata": {},
   "source": [
    "### Archive permats"
   ]
  },
  {
   "cell_type": "code",
   "execution_count": null,
   "metadata": {},
   "outputs": [],
   "source": [
    "permutation_path = hetmat.directory.joinpath(hetmat.permutations_directory)\n",
    "\n",
    "hetmech.hetmat.archive.create_archive_by_globs('permuted_hetmats.zip', '.', include_paths=[permutation_path])"
   ]
  },
  {
   "cell_type": "code",
   "execution_count": null,
   "metadata": {},
   "outputs": [],
   "source": []
  }
 ],
 "metadata": {
  "kernelspec": {
   "display_name": "Python 3",
   "language": "python",
   "name": "python3"
  },
  "language_info": {
   "codemirror_mode": {
    "name": "ipython",
    "version": 3
   },
   "file_extension": ".py",
   "mimetype": "text/x-python",
   "name": "python",
   "nbconvert_exporter": "python",
   "pygments_lexer": "ipython3",
   "version": "3.6.4"
  }
 },
 "nbformat": 4,
 "nbformat_minor": 2
}
