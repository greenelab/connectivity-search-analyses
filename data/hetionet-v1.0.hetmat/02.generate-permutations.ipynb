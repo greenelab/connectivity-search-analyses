{
 "cells": [
  {
   "cell_type": "code",
   "execution_count": 1,
   "metadata": {},
   "outputs": [],
   "source": [
    "import itertools\n",
    "\n",
    "import pandas as pd\n",
    "import hetio.readwrite\n",
    "\n",
    "import hetmech.hetmat"
   ]
  },
  {
   "cell_type": "markdown",
   "metadata": {},
   "source": [
    "## Export Hetionet permutations"
   ]
  },
  {
   "cell_type": "code",
   "execution_count": 2,
   "metadata": {},
   "outputs": [
    {
     "name": "stdout",
     "output_type": "stream",
     "text": [
      "001\n",
      "002\n",
      "003\n",
      "004\n",
      "005\n"
     ]
    }
   ],
   "source": [
    "url_template = 'https://github.com/dhimmel/hetionet/raw/76550e6c93fbe92124edc71725e8c7dd4ca8b1f5/hetnet/permuted/json/hetionet-v1.0-perm-{}.json.bz2'\n",
    "hetmat = hetmech.hetmat.HetMat('')\n",
    "for i in range(1, 6):\n",
    "    permutation_id = f'{i:03}'\n",
    "    print(permutation_id)\n",
    "    url = url_template.format(i)\n",
    "    perm_graph = hetio.readwrite.read_graph(url)\n",
    "    permat = hetmech.hetmat.hetmat_from_permuted_graph(hetmat, permutation_id=permutation_id, permuted_graph=perm_graph)"
   ]
  },
  {
   "cell_type": "markdown",
   "metadata": {},
   "source": [
    "## Generate 20 new permutations"
   ]
  },
  {
   "cell_type": "code",
   "execution_count": 3,
   "metadata": {},
   "outputs": [],
   "source": [
    "hetmat = hetmech.hetmat.HetMat('.')"
   ]
  },
  {
   "cell_type": "code",
   "execution_count": 4,
   "metadata": {},
   "outputs": [],
   "source": [
    "namer = (f'{x:03}' for x in itertools.count(start=6))"
   ]
  },
  {
   "cell_type": "code",
   "execution_count": 5,
   "metadata": {
    "scrolled": true
   },
   "outputs": [
    {
     "name": "stdout",
     "output_type": "stream",
     "text": [
      "CPU times: user 17h 27min 30s, sys: 26.8 s, total: 17h 27min 57s\n",
      "Wall time: 17h 28min 1s\n"
     ]
    }
   ],
   "source": [
    "%%time\n",
    "stats = hetmat.permute_graph(20, namer)"
   ]
  },
  {
   "cell_type": "code",
   "execution_count": 6,
   "metadata": {},
   "outputs": [
    {
     "data": {
      "text/html": [
       "<div>\n",
       "<style scoped>\n",
       "    .dataframe tbody tr th:only-of-type {\n",
       "        vertical-align: middle;\n",
       "    }\n",
       "\n",
       "    .dataframe tbody tr th {\n",
       "        vertical-align: top;\n",
       "    }\n",
       "\n",
       "    .dataframe thead th {\n",
       "        text-align: right;\n",
       "    }\n",
       "</style>\n",
       "<table border=\"1\" class=\"dataframe\">\n",
       "  <thead>\n",
       "    <tr style=\"text-align: right;\">\n",
       "      <th></th>\n",
       "      <th>cumulative_attempts</th>\n",
       "      <th>attempts</th>\n",
       "      <th>complete</th>\n",
       "      <th>unchanged</th>\n",
       "      <th>same_edge</th>\n",
       "      <th>self_loop</th>\n",
       "      <th>duplicate</th>\n",
       "      <th>undirected_duplicate</th>\n",
       "      <th>excluded</th>\n",
       "      <th>metaedge</th>\n",
       "      <th>abbrev</th>\n",
       "      <th>permutation</th>\n",
       "    </tr>\n",
       "  </thead>\n",
       "  <tbody>\n",
       "    <tr>\n",
       "      <th>0</th>\n",
       "      <td>102240</td>\n",
       "      <td>102241</td>\n",
       "      <td>0.100001</td>\n",
       "      <td>0.508108</td>\n",
       "      <td>0.00002</td>\n",
       "      <td>0.000117</td>\n",
       "      <td>0.549056</td>\n",
       "      <td>0.000430</td>\n",
       "      <td>0.0</td>\n",
       "      <td>Anatomy - downregulates - Gene</td>\n",
       "      <td>AdG</td>\n",
       "      <td>006</td>\n",
       "    </tr>\n",
       "    <tr>\n",
       "      <th>1</th>\n",
       "      <td>204480</td>\n",
       "      <td>102240</td>\n",
       "      <td>0.200001</td>\n",
       "      <td>0.384165</td>\n",
       "      <td>0.00000</td>\n",
       "      <td>0.000088</td>\n",
       "      <td>0.556182</td>\n",
       "      <td>0.000489</td>\n",
       "      <td>0.0</td>\n",
       "      <td>Anatomy - downregulates - Gene</td>\n",
       "      <td>AdG</td>\n",
       "      <td>006</td>\n",
       "    </tr>\n",
       "    <tr>\n",
       "      <th>2</th>\n",
       "      <td>306720</td>\n",
       "      <td>102240</td>\n",
       "      <td>0.300001</td>\n",
       "      <td>0.351007</td>\n",
       "      <td>0.00000</td>\n",
       "      <td>0.000108</td>\n",
       "      <td>0.560994</td>\n",
       "      <td>0.000587</td>\n",
       "      <td>0.0</td>\n",
       "      <td>Anatomy - downregulates - Gene</td>\n",
       "      <td>AdG</td>\n",
       "      <td>006</td>\n",
       "    </tr>\n",
       "    <tr>\n",
       "      <th>3</th>\n",
       "      <td>408960</td>\n",
       "      <td>102240</td>\n",
       "      <td>0.400001</td>\n",
       "      <td>0.341725</td>\n",
       "      <td>0.00002</td>\n",
       "      <td>0.000088</td>\n",
       "      <td>0.557746</td>\n",
       "      <td>0.000734</td>\n",
       "      <td>0.0</td>\n",
       "      <td>Anatomy - downregulates - Gene</td>\n",
       "      <td>AdG</td>\n",
       "      <td>006</td>\n",
       "    </tr>\n",
       "    <tr>\n",
       "      <th>4</th>\n",
       "      <td>511200</td>\n",
       "      <td>102240</td>\n",
       "      <td>0.500001</td>\n",
       "      <td>0.337979</td>\n",
       "      <td>0.00000</td>\n",
       "      <td>0.000059</td>\n",
       "      <td>0.560475</td>\n",
       "      <td>0.000499</td>\n",
       "      <td>0.0</td>\n",
       "      <td>Anatomy - downregulates - Gene</td>\n",
       "      <td>AdG</td>\n",
       "      <td>006</td>\n",
       "    </tr>\n",
       "  </tbody>\n",
       "</table>\n",
       "</div>"
      ],
      "text/plain": [
       "   cumulative_attempts  attempts  complete  unchanged  same_edge  self_loop  \\\n",
       "0               102240    102241  0.100001   0.508108    0.00002   0.000117   \n",
       "1               204480    102240  0.200001   0.384165    0.00000   0.000088   \n",
       "2               306720    102240  0.300001   0.351007    0.00000   0.000108   \n",
       "3               408960    102240  0.400001   0.341725    0.00002   0.000088   \n",
       "4               511200    102240  0.500001   0.337979    0.00000   0.000059   \n",
       "\n",
       "   duplicate  undirected_duplicate  excluded                        metaedge  \\\n",
       "0   0.549056              0.000430       0.0  Anatomy - downregulates - Gene   \n",
       "1   0.556182              0.000489       0.0  Anatomy - downregulates - Gene   \n",
       "2   0.560994              0.000587       0.0  Anatomy - downregulates - Gene   \n",
       "3   0.557746              0.000734       0.0  Anatomy - downregulates - Gene   \n",
       "4   0.560475              0.000499       0.0  Anatomy - downregulates - Gene   \n",
       "\n",
       "  abbrev permutation  \n",
       "0    AdG         006  \n",
       "1    AdG         006  \n",
       "2    AdG         006  \n",
       "3    AdG         006  \n",
       "4    AdG         006  "
      ]
     },
     "execution_count": 6,
     "metadata": {},
     "output_type": "execute_result"
    }
   ],
   "source": [
    "stats.head()"
   ]
  },
  {
   "cell_type": "code",
   "execution_count": 7,
   "metadata": {},
   "outputs": [],
   "source": [
    "stats.to_csv('permutations/stats.tsv', sep='\\t', index=False, float_format='%.5g')"
   ]
  }
 ],
 "metadata": {
  "kernelspec": {
   "display_name": "Python 3",
   "language": "python",
   "name": "python3"
  },
  "language_info": {
   "codemirror_mode": {
    "name": "ipython",
    "version": 3
   },
   "file_extension": ".py",
   "mimetype": "text/x-python",
   "name": "python",
   "nbconvert_exporter": "python",
   "pygments_lexer": "ipython3",
   "version": "3.6.4"
  }
 },
 "nbformat": 4,
 "nbformat_minor": 2
}
