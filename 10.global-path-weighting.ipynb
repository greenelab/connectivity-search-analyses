{
 "cells": [
  {
   "cell_type": "markdown",
   "metadata": {},
   "source": [
    "# Global Path Weighting\n",
    "---\n",
    "This notebook will implement and evaluate a method to weight hetnet paths in such a way that they can be compared between metapaths. This is an improvement on ranking by path degree product (pdp), as pdps are not comparable for paths that are part of different metapaths.\n",
    "\n",
    "## Proposed Weighting Method\n",
    "---\n",
    "Thanks to the work done on [generating empirical p-values for metapaths](https://github.com/greenelab/hetmech/issues/134), we can compare the relative importance of different metapaths for a given node pair in a hetnet. To allow comparison between individual paths, we can take the negative log of the p-value (for readability), multiply it for the path degree product for the node pair, and adjust the result based on the number of metapaths of that length."
   ]
  },
  {
   "cell_type": "code",
   "execution_count": 1,
   "metadata": {},
   "outputs": [],
   "source": [
    "from neo4j.v1 import GraphDatabase\n",
    "import hetio.readwrite\n",
    "import hetio.neo4j"
   ]
  },
  {
   "cell_type": "code",
   "execution_count": 2,
   "metadata": {},
   "outputs": [],
   "source": [
    "compound = 'DB01156'  # Bupropion\n",
    "disease = 'DOID:0050742'  # nicotine dependences"
   ]
  },
  {
   "cell_type": "code",
   "execution_count": 3,
   "metadata": {},
   "outputs": [],
   "source": [
    "# Query db with psycopg2 to get the top ten metapaths for this pair, and their p-values\n",
    "# Take the negative log of the p-values\n",
    "# Return a list of log p-value, metapath pairs"
   ]
  },
  {
   "cell_type": "code",
   "execution_count": 4,
   "metadata": {},
   "outputs": [],
   "source": [
    "# Given a list of metapaths, run construct_pdp_query to retrieve \n",
    "#   the fraction of dwpc values for each path\n",
    "# Multiply the fraction of dwpc values by the metapath importance\n",
    "# Sort the resulting paths"
   ]
  },
  {
   "cell_type": "code",
   "execution_count": null,
   "metadata": {},
   "outputs": [],
   "source": [
    "# Figure out a biological ground truth dataset to evalutate on"
   ]
  }
 ],
 "metadata": {
  "kernelspec": {
   "display_name": "Python [conda env:hetmech]",
   "language": "python",
   "name": "conda-env-hetmech-py"
  },
  "language_info": {
   "codemirror_mode": {
    "name": "ipython",
    "version": 3
   },
   "file_extension": ".py",
   "mimetype": "text/x-python",
   "name": "python",
   "nbconvert_exporter": "python",
   "pygments_lexer": "ipython3",
   "version": "3.6.6"
  }
 },
 "nbformat": 4,
 "nbformat_minor": 2
}
