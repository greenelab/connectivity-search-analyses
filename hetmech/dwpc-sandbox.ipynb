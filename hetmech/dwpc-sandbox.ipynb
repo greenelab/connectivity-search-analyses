{
 "cells": [
  {
   "cell_type": "code",
   "execution_count": 9,
   "metadata": {
    "collapsed": true
   },
   "outputs": [],
   "source": [
    "l = [0,1,2,3]"
   ]
  },
  {
   "cell_type": "code",
   "execution_count": 10,
   "metadata": {},
   "outputs": [
    {
     "data": {
      "text/plain": [
       "[0]"
      ]
     },
     "execution_count": 10,
     "metadata": {},
     "output_type": "execute_result"
    }
   ],
   "source": [
    "l[0:1]"
   ]
  },
  {
   "cell_type": "code",
   "execution_count": 11,
   "metadata": {},
   "outputs": [
    {
     "data": {
      "text/plain": [
       "slice(2, 4, 0)"
      ]
     },
     "execution_count": 11,
     "metadata": {},
     "output_type": "execute_result"
    }
   ],
   "source": [
    "slice(2, 4, 0)"
   ]
  },
  {
   "cell_type": "code",
   "execution_count": 12,
   "metadata": {},
   "outputs": [
    {
     "data": {
      "text/plain": [
       "array([[ 0.41488351,  0.50812645,  0.71859932],\n",
       "       [ 0.5223379 ,  0.63973066,  0.        ],\n",
       "       [ 0.71922309,  0.        ,  0.        ]])"
      ]
     },
     "execution_count": 12,
     "metadata": {},
     "output_type": "execute_result"
    }
   ],
   "source": [
    "import numpy\n",
    "import scipy.sparse\n",
    "pc = 0.5\n",
    "pr = 0.4\n",
    "expect = [\n",
    "    [(1/3**pc) / (1/3**pc + 1/2**pc + 1)**pr,\n",
    "     (1/2**pc) / (1/3**pc + 1/2**pc + 1)**pr,\n",
    "     1 / (1/3**pc + 1/2**pc + 1)**pr],\n",
    "    [(1/3**pc) / (1/3**pc + 1/2**pc)**pr,\n",
    "     (1/2**pc) / (1/3**pc + 1/2**pc)**pr,\n",
    "     0],\n",
    "    [(1/3**pc) / (1/3**pc)**pr, 0, 0],\n",
    "]\n",
    "expect = numpy.array(expect, dtype='float64')\n",
    "expect"
   ]
  },
  {
   "cell_type": "code",
   "execution_count": 25,
   "metadata": {},
   "outputs": [
    {
     "data": {
      "text/plain": [
       "array([2, 1, 0])"
      ]
     },
     "execution_count": 25,
     "metadata": {},
     "output_type": "execute_result"
    }
   ],
   "source": [
    "expect.argmax(axis=0)"
   ]
  },
  {
   "cell_type": "code",
   "execution_count": 20,
   "metadata": {},
   "outputs": [
    {
     "data": {
      "text/plain": [
       "array([[ 0.41488351,  0.        ,  0.        ],\n",
       "       [ 0.        ,  0.63973066,  0.        ],\n",
       "       [ 0.        ,  0.        ,  0.        ]])"
      ]
     },
     "execution_count": 20,
     "metadata": {},
     "output_type": "execute_result"
    }
   ],
   "source": [
    "numpy.diag(expect.diagonal())"
   ]
  },
  {
   "cell_type": "code",
   "execution_count": 15,
   "metadata": {},
   "outputs": [
    {
     "data": {
      "text/plain": [
       "<3x3 sparse matrix of type '<class 'numpy.float64'>'\n",
       "\twith 3 stored elements (1 diagonals) in DIAgonal format>"
      ]
     },
     "execution_count": 15,
     "metadata": {},
     "output_type": "execute_result"
    }
   ],
   "source": [
    "scipy.sparse.diags(expect.diagonal())"
   ]
  },
  {
   "cell_type": "code",
   "execution_count": 17,
   "metadata": {},
   "outputs": [
    {
     "data": {
      "text/plain": [
       "matrix([[-0.41488351,  0.        ,  0.        ],\n",
       "        [ 0.        , -0.63973066,  0.        ],\n",
       "        [ 0.        ,  0.        ,  0.        ]])"
      ]
     },
     "execution_count": 17,
     "metadata": {},
     "output_type": "execute_result"
    }
   ],
   "source": [
    "numpy.zeros_like(expect) - scipy.sparse.diags(expect.diagonal())"
   ]
  },
  {
   "cell_type": "code",
   "execution_count": 27,
   "metadata": {
    "collapsed": true
   },
   "outputs": [],
   "source": [
    "import hetio.readwrite\n",
    "import collections\n",
    "\n",
    "url = 'https://github.com/dhimmel/hetio/raw/{}/{}'.format(\n",
    "    'c1d47a942f2387cde4ee40c67b7dc5bd93b598f8',\n",
    "    'test/data/bupropion-CbGpPWpGaD-subgraph.json.xz',\n",
    ")\n",
    "graph = hetio.readwrite.read_graph(url)\n",
    "metapath = graph.metagraph.metapath_from_abbrev('CbGpPWpGaD')"
   ]
  },
  {
   "cell_type": "code",
   "execution_count": 49,
   "metadata": {
    "collapsed": true
   },
   "outputs": [],
   "source": [
    "def pairwise(iterable):\n",
    "    \"\"\"\n",
    "    Recipe from itertools docs at\n",
    "    https://docs.python.org/3/library/itertools.html\n",
    "\n",
    "    s -> (s0,s1), (s1,s2), (s2, s3), ...\n",
    "    \"\"\"\n",
    "    a, b = itertools.tee(iterable)\n",
    "    next(b, None)\n",
    "    return zip(a, b)"
   ]
  },
  {
   "cell_type": "code",
   "execution_count": 48,
   "metadata": {},
   "outputs": [
    {
     "name": "stdout",
     "output_type": "stream",
     "text": [
      "2\n"
     ]
    },
    {
     "ename": "IndexError",
     "evalue": "tuple index out of range",
     "output_type": "error",
     "traceback": [
      "\u001b[0;31m---------------------------------------------------------------------------\u001b[0m",
      "\u001b[0;31mIndexError\u001b[0m                                Traceback (most recent call last)",
      "\u001b[0;32m<ipython-input-48-56a7e08a1cc5>\u001b[0m in \u001b[0;36m<module>\u001b[0;34m()\u001b[0m\n\u001b[1;32m     33\u001b[0m         \u001b[0mduplicates\u001b[0m\u001b[0;34m.\u001b[0m\u001b[0mappend\u001b[0m\u001b[0;34m(\u001b[0m\u001b[0mmetanode\u001b[0m\u001b[0;34m)\u001b[0m\u001b[0;34m\u001b[0m\u001b[0m\n\u001b[1;32m     34\u001b[0m     \u001b[0;32melse\u001b[0m\u001b[0;34m:\u001b[0m\u001b[0;34m\u001b[0m\u001b[0m\n\u001b[0;32m---> 35\u001b[0;31m         \u001b[0msegment\u001b[0m\u001b[0;34m.\u001b[0m\u001b[0mappend\u001b[0m\u001b[0;34m(\u001b[0m\u001b[0mmetapath\u001b[0m\u001b[0;34m[\u001b[0m\u001b[0mindexes\u001b[0m\u001b[0;34m[\u001b[0m\u001b[0;36m0\u001b[0m\u001b[0;34m]\u001b[0m\u001b[0;34m]\u001b[0m\u001b[0;34m)\u001b[0m\u001b[0;34m\u001b[0m\u001b[0m\n\u001b[0m\u001b[1;32m     36\u001b[0m \u001b[0;32mif\u001b[0m \u001b[0msegment\u001b[0m\u001b[0;34m:\u001b[0m\u001b[0;34m\u001b[0m\u001b[0m\n\u001b[1;32m     37\u001b[0m     \u001b[0msegments\u001b[0m\u001b[0;34m.\u001b[0m\u001b[0mappend\u001b[0m\u001b[0;34m(\u001b[0m\u001b[0msegment\u001b[0m\u001b[0;34m)\u001b[0m\u001b[0;34m\u001b[0m\u001b[0m\n",
      "\u001b[0;32m/home/dhimmel/Documents/github/hetio/hetio/hetnet.py\u001b[0m in \u001b[0;36m__getitem__\u001b[0;34m(self, key)\u001b[0m\n\u001b[1;32m    190\u001b[0m \u001b[0;34m\u001b[0m\u001b[0m\n\u001b[1;32m    191\u001b[0m     \u001b[0;32mdef\u001b[0m \u001b[0m__getitem__\u001b[0m\u001b[0;34m(\u001b[0m\u001b[0mself\u001b[0m\u001b[0;34m,\u001b[0m \u001b[0mkey\u001b[0m\u001b[0;34m)\u001b[0m\u001b[0;34m:\u001b[0m\u001b[0;34m\u001b[0m\u001b[0m\n\u001b[0;32m--> 192\u001b[0;31m         \u001b[0;32mreturn\u001b[0m \u001b[0mself\u001b[0m\u001b[0;34m.\u001b[0m\u001b[0medges\u001b[0m\u001b[0;34m[\u001b[0m\u001b[0mkey\u001b[0m\u001b[0;34m]\u001b[0m\u001b[0;34m\u001b[0m\u001b[0m\n\u001b[0m\u001b[1;32m    193\u001b[0m \u001b[0;34m\u001b[0m\u001b[0m\n\u001b[1;32m    194\u001b[0m     \u001b[0;32mdef\u001b[0m \u001b[0m__len__\u001b[0m\u001b[0;34m(\u001b[0m\u001b[0mself\u001b[0m\u001b[0;34m)\u001b[0m\u001b[0;34m:\u001b[0m\u001b[0;34m\u001b[0m\u001b[0m\n",
      "\u001b[0;31mIndexError\u001b[0m: tuple index out of range"
     ]
    }
   ],
   "source": [
    "metanodes = metapath.get_nodes()\n",
    "metanode_to_indexes = collections.OrderedDict()\n",
    "for i, metanode in enumerate(metanodes):\n",
    "    indexes = metanode_to_indexes.setdefault(metanode, [])\n",
    "    indexes.append(i)\n",
    "\n",
    "# If there are no duplicate metanodes, use DWWC\n",
    "print(max(map(len, metanode_to_indexes.values())))\n",
    "\n",
    "# Ensure no overlapping metanode duplications\n",
    "last_stop = -1\n",
    "for metanode, indexes in metanode_to_indexes.items():\n",
    "    if len(indexes) == 1:\n",
    "        continue\n",
    "    if max(indexes) <= last_stop:\n",
    "        msg = ('Metapath f{metapath} contains overlapping'\n",
    "               'segments with duplicate metanodes.')\n",
    "        raise NotImplementedError(msg)\n",
    "    last_stop = max(indexes)\n",
    "\n"
   ]
  },
  {
   "cell_type": "code",
   "execution_count": 54,
   "metadata": {},
   "outputs": [
    {
     "data": {
      "text/plain": [
       "[0, 1, 3, 4]"
      ]
     },
     "execution_count": 54,
     "metadata": {},
     "output_type": "execute_result"
    }
   ],
   "source": [
    "split_at = [0]\n",
    "for metanode, indexes in metanode_to_indexes.items():\n",
    "    if len(indexes) == 1:\n",
    "        continue\n",
    "    split_at.append(min(indexes))\n",
    "    split_at.append(max(indexes))\n",
    "split_at.append(len(metapath))\n",
    "split_at"
   ]
  },
  {
   "cell_type": "code",
   "execution_count": 57,
   "metadata": {},
   "outputs": [
    {
     "data": {
      "text/plain": [
       "[(0, 1), (1, 3), (3, 4)]"
      ]
     },
     "execution_count": 57,
     "metadata": {},
     "output_type": "execute_result"
    }
   ],
   "source": [
    "import itertools\n",
    "list(pairwise(split_at))"
   ]
  },
  {
   "cell_type": "code",
   "execution_count": 68,
   "metadata": {},
   "outputs": [
    {
     "data": {
      "text/plain": [
       "[CbG, GpPWpG, GaD]"
      ]
     },
     "execution_count": 68,
     "metadata": {},
     "output_type": "execute_result"
    }
   ],
   "source": [
    "segments = (metapath[start:stop] for start, stop in pairwise(split_at))\n",
    "segments = [graph.metagraph.get_metapath(metaedges) for metaedges in segments]\n",
    "segments"
   ]
  },
  {
   "cell_type": "code",
   "execution_count": 59,
   "metadata": {},
   "outputs": [
    {
     "data": {
      "text/plain": [
       "CbGpPWpGaD"
      ]
     },
     "execution_count": 59,
     "metadata": {},
     "output_type": "execute_result"
    }
   ],
   "source": [
    "metapath"
   ]
  },
  {
   "cell_type": "code",
   "execution_count": 61,
   "metadata": {},
   "outputs": [
    {
     "data": {
      "text/plain": [
       "[(0, 1), (1, 3), (3, 4)]"
      ]
     },
     "execution_count": 61,
     "metadata": {},
     "output_type": "execute_result"
    }
   ],
   "source": [
    "[(start, stop) for start, stop in pairwise(split_at)]"
   ]
  },
  {
   "cell_type": "code",
   "execution_count": 90,
   "metadata": {
    "collapsed": true
   },
   "outputs": [],
   "source": [
    "def pairwise(iterable):\n",
    "    \"\"\"\n",
    "    Yield consequitive pairs of items from the iterable, but skip pairs where\n",
    "    the items are equal.\n",
    "    Modified from recipe in itertools docs at\n",
    "    https://docs.python.org/3/library/itertools.html\n",
    "\n",
    "    s -> (s0,s1), (s1,s2), (s2, s3), ...\n",
    "    \"\"\"\n",
    "    a, b = itertools.tee(iterable)\n",
    "    next(b, None)\n",
    "    for a, b in zip(a, b):\n",
    "        if b != a:\n",
    "            yield a, b\n"
   ]
  },
  {
   "cell_type": "code",
   "execution_count": 92,
   "metadata": {},
   "outputs": [
    {
     "data": {
      "text/plain": [
       "([CbGpPW], [None])"
      ]
     },
     "execution_count": 92,
     "metadata": {},
     "output_type": "execute_result"
    }
   ],
   "source": [
    "metapath = metagraph.metapath_from_abbrev('CbGpPW')\n",
    "metagraph = graph.metagraph\n",
    "metanodes = metapath.get_nodes()\n",
    "metanode_to_indexes = collections.OrderedDict()\n",
    "for i, metanode in enumerate(metanodes):\n",
    "    indexes = metanode_to_indexes.setdefault(metanode, [])\n",
    "    indexes.append(i)\n",
    "\n",
    "# Ensure no overlapping metanode duplications\n",
    "last_stop = -1\n",
    "for metanode, indexes in metanode_to_indexes.items():\n",
    "    if len(indexes) == 1:\n",
    "        continue\n",
    "    if min(indexes) <= last_stop:\n",
    "        msg = ('Metapath f{metapath} contains overlapping'\n",
    "               'segments with duplicate metanodes.')\n",
    "        raise NotImplementedError(msg)\n",
    "    last_stop = max(indexes)\n",
    "\n",
    "# Split into segments\n",
    "split_at = [0]\n",
    "range_to_duplicate = collections.OrderedDict()\n",
    "for metanode, indexes in metanode_to_indexes.items():\n",
    "    if len(indexes) == 1:\n",
    "        continue\n",
    "    start = min(indexes)\n",
    "    stop = max(indexes)\n",
    "    range_to_duplicate[(start, stop)] = metanode\n",
    "    split_at.append(start)\n",
    "    split_at.append(stop)\n",
    "split_at.append(len(metapath))\n",
    "ranges = list(pairwise(split_at))\n",
    "segments = (metapath[start:stop] for start, stop in ranges)\n",
    "segments = [metagraph.get_metapath(metaedges) for metaedges in segments]\n",
    "duplicates = [range_to_duplicate.get(range, None) for range in ranges]\n",
    "segments, duplicates"
   ]
  },
  {
   "cell_type": "code",
   "execution_count": 95,
   "metadata": {
    "collapsed": true
   },
   "outputs": [],
   "source": [
    "def pairwise(iterable):\n",
    "    \"\"\"\n",
    "    Yield consequitive pairs of items from the iterable, but skip pairs where\n",
    "    the items are equal.\n",
    "    Modified from recipe in itertools docs at\n",
    "    https://docs.python.org/3/library/itertools.html\n",
    "\n",
    "    s -> (s0,s1), (s1,s2), (s2, s3), ...\n",
    "    \"\"\"\n",
    "    a, b = itertools.tee(iterable)\n",
    "    next(b, None)\n",
    "    for a, b in zip(a, b):\n",
    "        if b != a:\n",
    "            yield a, b\n",
    "\n",
    "\n",
    "def get_segments(graph, metapath):\n",
    "    \"\"\"\n",
    "    Break metapath into sub-metapaths that have at most one duplicate\n",
    "    node type.\n",
    "    \"\"\"\n",
    "    metagraph = graph.metagraph\n",
    "    metanodes = metapath.get_nodes()\n",
    "    metanode_to_indexes = collections.OrderedDict()\n",
    "    for i, metanode in enumerate(metanodes):\n",
    "        indexes = metanode_to_indexes.setdefault(metanode, [])\n",
    "        indexes.append(i)\n",
    "\n",
    "    # If there are no duplicate metanodes, use DWWC\n",
    "    if max(map(len, metanode_to_indexes.values())) < 2:\n",
    "        return dwwc(graph, metapath, damping)\n",
    "\n",
    "    # Ensure no overlapping metanode duplications\n",
    "    last_stop = -1\n",
    "    for metanode, indexes in metanode_to_indexes.items():\n",
    "        if len(indexes) == 1:\n",
    "            continue\n",
    "        if min(indexes) <= last_stop:\n",
    "            msg = ('Metapath f{metapath} contains overlapping'\n",
    "                   'segments with duplicate metanodes.')\n",
    "            raise ValueError(msg)\n",
    "        last_stop = max(indexes)\n",
    "\n",
    "    # Find indices to split at\n",
    "    split_at = [0]\n",
    "    range_to_duplicate = collections.OrderedDict()\n",
    "    for metanode, indexes in metanode_to_indexes.items():\n",
    "        if len(indexes) == 1:\n",
    "            continue\n",
    "        start = min(indexes)\n",
    "        stop = max(indexes)\n",
    "        range_to_duplicate[(start, stop)] = metanode\n",
    "        split_at.append(start)\n",
    "        split_at.append(stop)\n",
    "    split_at.append(len(metapath))\n",
    "\n",
    "    # Split at indices\n",
    "    ranges = list(pairwise(split_at))\n",
    "    segments = (metapath[start:stop] for start, stop in ranges)\n",
    "    segments = [metagraph.get_metapath(metaedges) for metaedges in segments]\n",
    "    duplicates = [range_to_duplicate.get(range, None) for range in ranges]\n",
    "    return segments, duplicates\n"
   ]
  },
  {
   "cell_type": "code",
   "execution_count": 97,
   "metadata": {},
   "outputs": [
    {
     "data": {
      "text/plain": [
       "([CbG, GpPWpG], [None, <hetio.hetnet.MetaNode at 0x7f78f5ec42b0>])"
      ]
     },
     "execution_count": 97,
     "metadata": {},
     "output_type": "execute_result"
    }
   ],
   "source": [
    "metapath = metagraph.metapath_from_abbrev('CbGpPWpG')\n",
    "get_segments(graph, metapath)"
   ]
  },
  {
   "cell_type": "code",
   "execution_count": 5,
   "metadata": {},
   "outputs": [],
   "source": [
    "import matrix"
   ]
  },
  {
   "cell_type": "code",
   "execution_count": 3,
   "metadata": {},
   "outputs": [
    {
     "ename": "ImportError",
     "evalue": "attempted relative import with no known parent package",
     "output_type": "error",
     "traceback": [
      "\u001b[0;31m---------------------------------------------------------------------------\u001b[0m",
      "\u001b[0;31mImportError\u001b[0m                               Traceback (most recent call last)",
      "\u001b[0;32m<ipython-input-3-310ba7d07c67>\u001b[0m in \u001b[0;36m<module>\u001b[0;34m()\u001b[0m\n\u001b[0;32m----> 1\u001b[0;31m \u001b[0;32mfrom\u001b[0m \u001b[0mdegree_weight\u001b[0m \u001b[0;32mimport\u001b[0m \u001b[0mdwpc\u001b[0m\u001b[0;34m\u001b[0m\u001b[0m\n\u001b[0m",
      "\u001b[0;32m/home/dhimmel/Documents/greene/hetmech/hetmech/degree_weight.py\u001b[0m in \u001b[0;36m<module>\u001b[0;34m()\u001b[0m\n\u001b[1;32m      7\u001b[0m \u001b[0;32mimport\u001b[0m \u001b[0mscipy\u001b[0m\u001b[0;34m.\u001b[0m\u001b[0msparse\u001b[0m\u001b[0;34m\u001b[0m\u001b[0m\n\u001b[1;32m      8\u001b[0m \u001b[0;34m\u001b[0m\u001b[0m\n\u001b[0;32m----> 9\u001b[0;31m \u001b[0;32mfrom\u001b[0m \u001b[0;34m.\u001b[0m\u001b[0mmatrix\u001b[0m \u001b[0;32mimport\u001b[0m \u001b[0mnormalize\u001b[0m\u001b[0;34m,\u001b[0m \u001b[0mmetaedge_to_adjacency_matrix\u001b[0m\u001b[0;34m\u001b[0m\u001b[0m\n\u001b[0m\u001b[1;32m     10\u001b[0m \u001b[0;34m\u001b[0m\u001b[0m\n\u001b[1;32m     11\u001b[0m \u001b[0;34m\u001b[0m\u001b[0m\n",
      "\u001b[0;31mImportError\u001b[0m: attempted relative import with no known parent package"
     ]
    }
   ],
   "source": [
    "from degree_weight import dwpc"
   ]
  },
  {
   "cell_type": "code",
   "execution_count": 98,
   "metadata": {},
   "outputs": [
    {
     "ename": "NameError",
     "evalue": "name 'dwpc' is not defined",
     "output_type": "error",
     "traceback": [
      "\u001b[0;31m---------------------------------------------------------------------------\u001b[0m",
      "\u001b[0;31mNameError\u001b[0m                                 Traceback (most recent call last)",
      "\u001b[0;32m<ipython-input-98-52a906dc4c04>\u001b[0m in \u001b[0;36m<module>\u001b[0;34m()\u001b[0m\n\u001b[1;32m     13\u001b[0m \u001b[0mdisease\u001b[0m \u001b[0;34m=\u001b[0m \u001b[0;34m'DOID:0050742'\u001b[0m  \u001b[0;31m# nicotine dependences\u001b[0m\u001b[0;34m\u001b[0m\u001b[0m\n\u001b[1;32m     14\u001b[0m \u001b[0mmetapath\u001b[0m \u001b[0;34m=\u001b[0m \u001b[0mgraph\u001b[0m\u001b[0;34m.\u001b[0m\u001b[0mmetagraph\u001b[0m\u001b[0;34m.\u001b[0m\u001b[0mmetapath_from_abbrev\u001b[0m\u001b[0;34m(\u001b[0m\u001b[0;34m'CbGpPWpGaD'\u001b[0m\u001b[0;34m)\u001b[0m\u001b[0;34m\u001b[0m\u001b[0m\n\u001b[0;32m---> 15\u001b[0;31m \u001b[0mout\u001b[0m \u001b[0;34m=\u001b[0m \u001b[0mdwpc\u001b[0m\u001b[0;34m(\u001b[0m\u001b[0mgraph\u001b[0m\u001b[0;34m,\u001b[0m \u001b[0mmetapath\u001b[0m\u001b[0;34m,\u001b[0m \u001b[0mdamping\u001b[0m\u001b[0;34m=\u001b[0m\u001b[0;36m0\u001b[0m\u001b[0;34m)\u001b[0m\u001b[0;34m\u001b[0m\u001b[0m\n\u001b[0m\u001b[1;32m     16\u001b[0m \u001b[0mprint\u001b[0m\u001b[0;34m(\u001b[0m\u001b[0mout\u001b[0m\u001b[0;34m)\u001b[0m\u001b[0;34m\u001b[0m\u001b[0m\n\u001b[1;32m     17\u001b[0m \u001b[0mrows\u001b[0m\u001b[0;34m,\u001b[0m \u001b[0mcols\u001b[0m\u001b[0;34m,\u001b[0m \u001b[0mpc_matrix\u001b[0m \u001b[0;34m=\u001b[0m \u001b[0mdwpc\u001b[0m\u001b[0;34m(\u001b[0m\u001b[0mgraph\u001b[0m\u001b[0;34m,\u001b[0m \u001b[0mmetapath\u001b[0m\u001b[0;34m,\u001b[0m \u001b[0mdamping\u001b[0m\u001b[0;34m=\u001b[0m\u001b[0;36m0\u001b[0m\u001b[0;34m)\u001b[0m\u001b[0;34m\u001b[0m\u001b[0m\n",
      "\u001b[0;31mNameError\u001b[0m: name 'dwpc' is not defined"
     ]
    }
   ],
   "source": [
    "def get_bupropion_subgraph():\n",
    "    \"\"\"\n",
    "    Read the bupropion and nicotine dependence Hetionet v1.0 subgraph.\n",
    "    \"\"\"\n",
    "    url = 'https://github.com/dhimmel/hetio/raw/{}/{}'.format(\n",
    "        'c1d47a942f2387cde4ee40c67b7dc5bd93b598f8',\n",
    "        'test/data/bupropion-CbGpPWpGaD-subgraph.json.xz',\n",
    "    )\n",
    "    return hetio.readwrite.read_graph(url)\n",
    "\n",
    "graph = get_bupropion_subgraph()\n",
    "compound = 'DB01156'  # Bupropion\n",
    "disease = 'DOID:0050742'  # nicotine dependences\n",
    "metapath = graph.metagraph.metapath_from_abbrev('CbGpPWpGaD')\n",
    "out = dwpc(graph, metapath, damping=0)\n",
    "print(out)\n",
    "rows, cols, pc_matrix = dwpc(graph, metapath, damping=0)\n"
   ]
  },
  {
   "cell_type": "code",
   "execution_count": null,
   "metadata": {
    "collapsed": true
   },
   "outputs": [],
   "source": []
  }
 ],
 "metadata": {
  "kernelspec": {
   "display_name": "Python [default]",
   "language": "python",
   "name": "python3"
  },
  "language_info": {
   "codemirror_mode": {
    "name": "ipython",
    "version": 3
   },
   "file_extension": ".py",
   "mimetype": "text/x-python",
   "name": "python",
   "nbconvert_exporter": "python",
   "pygments_lexer": "ipython3",
   "version": "3.6.0"
  }
 },
 "nbformat": 4,
 "nbformat_minor": 2
}
