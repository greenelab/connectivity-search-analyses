{
 "cells": [
  {
   "cell_type": "markdown",
   "metadata": {},
   "source": [
    "# Proof of concept DWWC matrix computation"
   ]
  },
  {
   "cell_type": "code",
   "execution_count": 1,
   "metadata": {
    "collapsed": false
   },
   "outputs": [],
   "source": [
    "import pandas\n",
    "from neo4j.v1 import GraphDatabase\n",
    "import hetio.readwrite\n",
    "import hetio.neo4j\n",
    "\n",
    "from hetmech.diffusion import dwwc, get_node_to_position"
   ]
  },
  {
   "cell_type": "code",
   "execution_count": 2,
   "metadata": {
    "collapsed": false
   },
   "outputs": [],
   "source": [
    "url = 'https://github.com/dhimmel/hetionet/raw/76550e6c93fbe92124edc71725e8c7dd4ca8b1f5/hetnet/json/hetionet-v1.0.json.bz2'\n",
    "graph = hetio.readwrite.read_graph(url)\n",
    "metagraph = graph.metagraph"
   ]
  },
  {
   "cell_type": "code",
   "execution_count": 3,
   "metadata": {
    "collapsed": false
   },
   "outputs": [
    {
     "data": {
      "text/plain": [
       "'Compound–binds–Gene–expresses–Anatomy–localizes–Disease'"
      ]
     },
     "execution_count": 3,
     "metadata": {},
     "output_type": "execute_result"
    }
   ],
   "source": [
    "damping_exponent = 0.4\n",
    "# CbGeAlD does not contain duplicate nodes, so DWWC is equivalent to DWPC\n",
    "metapath = metagraph.metapath_from_abbrev('CbGeAlD')\n",
    "metapath.get_unicode_str()"
   ]
  },
  {
   "cell_type": "code",
   "execution_count": 4,
   "metadata": {
    "collapsed": false
   },
   "outputs": [
    {
     "name": "stdout",
     "output_type": "stream",
     "text": [
      "CPU times: user 6.09 s, sys: 648 ms, total: 6.74 s\n",
      "Wall time: 5.81 s\n"
     ]
    }
   ],
   "source": [
    "%%time\n",
    "CbGeAlD_pc = dwwc(graph, metapath, damping=0).astype(int)\n",
    "CbGeAlD_dwwc = dwwc(graph, metapath, damping=damping_exponent)"
   ]
  },
  {
   "cell_type": "code",
   "execution_count": 5,
   "metadata": {
    "collapsed": false
   },
   "outputs": [
    {
     "data": {
      "text/plain": [
       "(137, 1552)"
      ]
     },
     "execution_count": 5,
     "metadata": {},
     "output_type": "execute_result"
    }
   ],
   "source": [
    "CbGeAlD_dwwc.shape"
   ]
  },
  {
   "cell_type": "code",
   "execution_count": 6,
   "metadata": {
    "collapsed": false
   },
   "outputs": [
    {
     "data": {
      "text/plain": [
       "0.80004609075174959"
      ]
     },
     "execution_count": 6,
     "metadata": {},
     "output_type": "execute_result"
    }
   ],
   "source": [
    "# Density\n",
    "CbGeAlD_dwwc.astype(bool).mean()"
   ]
  },
  {
   "cell_type": "code",
   "execution_count": 7,
   "metadata": {
    "collapsed": false
   },
   "outputs": [
    {
     "data": {
      "text/plain": [
       "array([[ 0,  8,  0, ...,  0,  0,  5],\n",
       "       [ 4, 16,  4, ...,  0,  0, 24],\n",
       "       [11, 29, 11, ...,  0,  4, 46],\n",
       "       ..., \n",
       "       [ 0,  3,  0, ...,  0,  0,  5],\n",
       "       [ 0,  0,  0, ...,  0,  0,  0],\n",
       "       [ 6, 25,  6, ...,  0,  2, 19]])"
      ]
     },
     "execution_count": 7,
     "metadata": {},
     "output_type": "execute_result"
    }
   ],
   "source": [
    "# Path count matrix\n",
    "CbGeAlD_pc"
   ]
  },
  {
   "cell_type": "code",
   "execution_count": 8,
   "metadata": {
    "collapsed": false
   },
   "outputs": [
    {
     "data": {
      "text/plain": [
       "array([[ 0.        ,  0.02988823,  0.        , ...,  0.        ,\n",
       "         0.        ,  0.01392936],\n",
       "       [ 0.012456  ,  0.0217836 ,  0.012456  , ...,  0.        ,\n",
       "         0.        ,  0.04430506],\n",
       "       [ 0.02499535,  0.01942093,  0.02499535, ...,  0.        ,\n",
       "         0.03016969,  0.05443763],\n",
       "       ..., \n",
       "       [ 0.        ,  0.00398213,  0.        , ...,  0.        ,\n",
       "         0.        ,  0.02561832],\n",
       "       [ 0.        ,  0.        ,  0.        , ...,  0.        ,\n",
       "         0.        ,  0.        ],\n",
       "       [ 0.05142607,  0.02868431,  0.05142607, ...,  0.        ,\n",
       "         0.01563081,  0.0410031 ]])"
      ]
     },
     "execution_count": 8,
     "metadata": {},
     "output_type": "execute_result"
    }
   ],
   "source": [
    "# DWWC count matrix\n",
    "CbGeAlD_dwwc"
   ]
  },
  {
   "cell_type": "markdown",
   "metadata": {},
   "source": [
    "### Neo4j DWPC query"
   ]
  },
  {
   "cell_type": "code",
   "execution_count": 9,
   "metadata": {
    "collapsed": false
   },
   "outputs": [
    {
     "name": "stdout",
     "output_type": "stream",
     "text": [
      "MATCH path = (n0:Compound)-[:BINDS_CbG]-(n1)-[:EXPRESSES_AeG]-(n2)-[:LOCALIZES_DlA]-(n3:Disease)\n",
      "USING JOIN ON n1\n",
      "WHERE n0.identifier = { source }\n",
      "AND n3.identifier = { target }\n",
      "WITH\n",
      "[\n",
      "size((n0)-[:BINDS_CbG]-()),\n",
      "size(()-[:BINDS_CbG]-(n1)),\n",
      "size((n1)-[:EXPRESSES_AeG]-()),\n",
      "size(()-[:EXPRESSES_AeG]-(n2)),\n",
      "size((n2)-[:LOCALIZES_DlA]-()),\n",
      "size(()-[:LOCALIZES_DlA]-(n3))\n",
      "] AS degrees, path\n",
      "RETURN\n",
      "count(path) AS PC,\n",
      "sum(reduce(pdp = 1.0, d in degrees| pdp * d ^ -{ w })) AS DWPC\n"
     ]
    }
   ],
   "source": [
    "compound = 'DB00050'\n",
    "disease = 'DOID:0050425'\n",
    "query = hetio.neo4j.construct_dwpc_query(metapath, property='identifier')\n",
    "print(query)"
   ]
  },
  {
   "cell_type": "code",
   "execution_count": 10,
   "metadata": {
    "collapsed": false
   },
   "outputs": [
    {
     "data": {
      "text/plain": [
       "<Record PC=4 DWPC=0.0014783782118662789>"
      ]
     },
     "execution_count": 10,
     "metadata": {},
     "output_type": "execute_result"
    }
   ],
   "source": [
    "driver = GraphDatabase.driver(\"bolt://neo4j.het.io\")\n",
    "params = {\n",
    "    'source': compound,\n",
    "    'target': disease,\n",
    "    'w': damping_exponent,\n",
    "}\n",
    "with driver.session() as session:\n",
    "    result = session.run(query, params)\n",
    "    result = result.single()\n",
    "result"
   ]
  },
  {
   "cell_type": "code",
   "execution_count": 11,
   "metadata": {
    "collapsed": false
   },
   "outputs": [],
   "source": [
    "compound_to_position = {x.identifier: i for x, i in get_node_to_position(graph, 'Compound').items()}\n",
    "disease_to_position = {x.identifier: i for x, i in get_node_to_position(graph, 'Disease').items()}\n",
    "j = compound_to_position[compound]\n",
    "i = disease_to_position[disease]"
   ]
  },
  {
   "cell_type": "code",
   "execution_count": 12,
   "metadata": {
    "collapsed": false
   },
   "outputs": [
    {
     "data": {
      "text/plain": [
       "(4, 4)"
      ]
     },
     "execution_count": 12,
     "metadata": {},
     "output_type": "execute_result"
    }
   ],
   "source": [
    "result['PC'], CbGeAlD_pc[i, j]"
   ]
  },
  {
   "cell_type": "code",
   "execution_count": 14,
   "metadata": {
    "collapsed": false
   },
   "outputs": [
    {
     "data": {
      "text/plain": [
       "(0.0014783782118662789, 0.012455997962816732)"
      ]
     },
     "execution_count": 14,
     "metadata": {},
     "output_type": "execute_result"
    }
   ],
   "source": [
    "result['DWPC'], CbGeAlD_dwwc[i, j]"
   ]
  }
 ],
 "metadata": {
  "kernelspec": {
   "display_name": "Python [conda env:hetmech]",
   "language": "python",
   "name": "conda-env-hetmech-py"
  },
  "language_info": {
   "codemirror_mode": {
    "name": "ipython",
    "version": 3
   },
   "file_extension": ".py",
   "mimetype": "text/x-python",
   "name": "python",
   "nbconvert_exporter": "python",
   "pygments_lexer": "ipython3",
   "version": "3.6.0"
  }
 },
 "nbformat": 4,
 "nbformat_minor": 2
}
