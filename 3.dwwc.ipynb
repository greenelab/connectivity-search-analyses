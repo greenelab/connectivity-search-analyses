{
 "cells": [
  {
   "cell_type": "markdown",
   "metadata": {},
   "source": [
    "# Proof of concept DWWC matrix computation"
   ]
  },
  {
   "cell_type": "code",
   "execution_count": 1,
   "metadata": {},
   "outputs": [],
   "source": [
    "import pandas\n",
    "from neo4j.v1 import GraphDatabase\n",
    "import hetio.readwrite\n",
    "import hetio.neo4j\n",
    "import hetio.pathtools\n",
    "\n",
    "from hetmech.degree_weight import dwwc\n",
    "from hetio.matrix import get_node_to_position"
   ]
  },
  {
   "cell_type": "code",
   "execution_count": 2,
   "metadata": {},
   "outputs": [],
   "source": [
    "url = 'https://github.com/dhimmel/hetionet/raw/76550e6c93fbe92124edc71725e8c7dd4ca8b1f5/hetnet/json/hetionet-v1.0.json.bz2'\n",
    "graph = hetio.readwrite.read_graph(url)\n",
    "metagraph = graph.metagraph"
   ]
  },
  {
   "cell_type": "code",
   "execution_count": 3,
   "metadata": {},
   "outputs": [],
   "source": [
    "compound = 'DB00050'\n",
    "disease = 'DOID:0050425'\n",
    "\n",
    "damping_exponent = 0.4\n",
    "\n",
    "# CbGeAlD does not contain duplicate nodes, so DWWC is equivalent to DWPC\n",
    "metapath = metagraph.metapath_from_abbrev('CbGeAlD')"
   ]
  },
  {
   "cell_type": "code",
   "execution_count": 4,
   "metadata": {},
   "outputs": [
    {
     "name": "stdout",
     "output_type": "stream",
     "text": [
      "CPU times: user 6.96 s, sys: 1.42 s, total: 8.38 s\n",
      "Wall time: 8.23 s\n"
     ]
    }
   ],
   "source": [
    "%%time\n",
    "rows, cols, CbGeAlD_pc = dwwc(graph, metapath, damping=0)\n",
    "rows, cols, CbGeAlD_dwwc = dwwc(graph, metapath, damping=damping_exponent)"
   ]
  },
  {
   "cell_type": "code",
   "execution_count": 5,
   "metadata": {},
   "outputs": [
    {
     "data": {
      "text/plain": [
       "(1552, 137)"
      ]
     },
     "execution_count": 5,
     "metadata": {},
     "output_type": "execute_result"
    }
   ],
   "source": [
    "CbGeAlD_dwwc.shape"
   ]
  },
  {
   "cell_type": "code",
   "execution_count": 6,
   "metadata": {},
   "outputs": [
    {
     "data": {
      "text/plain": [
       "0.8000460907517496"
      ]
     },
     "execution_count": 6,
     "metadata": {},
     "output_type": "execute_result"
    }
   ],
   "source": [
    "# Density\n",
    "CbGeAlD_dwwc.astype(bool).mean()"
   ]
  },
  {
   "cell_type": "code",
   "execution_count": 7,
   "metadata": {},
   "outputs": [
    {
     "data": {
      "text/plain": [
       "array([[ 0,  4, 11, ...,  0,  0,  6],\n",
       "       [ 8, 16, 29, ...,  3,  0, 25],\n",
       "       [ 0,  4, 11, ...,  0,  0,  6],\n",
       "       ...,\n",
       "       [ 0,  0,  0, ...,  0,  0,  0],\n",
       "       [ 0,  0,  4, ...,  0,  0,  2],\n",
       "       [ 5, 24, 46, ...,  5,  0, 19]])"
      ]
     },
     "execution_count": 7,
     "metadata": {},
     "output_type": "execute_result"
    }
   ],
   "source": [
    "# Path count matrix\n",
    "CbGeAlD_pc = CbGeAlD_pc.astype(int)\n",
    "CbGeAlD_pc"
   ]
  },
  {
   "cell_type": "code",
   "execution_count": 8,
   "metadata": {},
   "outputs": [
    {
     "data": {
      "text/plain": [
       "array([[0.        , 0.00147838, 0.00330918, ..., 0.        , 0.        ,\n",
       "        0.00799022],\n",
       "       [0.00361256, 0.00259965, 0.00223441, ..., 0.00050951, 0.        ,\n",
       "        0.00339391],\n",
       "       [0.        , 0.00147838, 0.00330918, ..., 0.        , 0.        ,\n",
       "        0.00799022],\n",
       "       ...,\n",
       "       [0.        , 0.        , 0.        , ..., 0.        , 0.        ,\n",
       "        0.        ],\n",
       "       [0.        , 0.        , 0.00417945, ..., 0.        , 0.        ,\n",
       "        0.0020825 ],\n",
       "       [0.00174624, 0.00516953, 0.00621809, ..., 0.00277799, 0.        ,\n",
       "        0.00517235]])"
      ]
     },
     "execution_count": 8,
     "metadata": {},
     "output_type": "execute_result"
    }
   ],
   "source": [
    "# DWWC matrix\n",
    "CbGeAlD_dwwc"
   ]
  },
  {
   "cell_type": "code",
   "execution_count": 9,
   "metadata": {},
   "outputs": [],
   "source": [
    "i = rows.index(compound)\n",
    "j = cols.index(disease)"
   ]
  },
  {
   "cell_type": "code",
   "execution_count": 10,
   "metadata": {},
   "outputs": [
    {
     "data": {
      "text/plain": [
       "4"
      ]
     },
     "execution_count": 10,
     "metadata": {},
     "output_type": "execute_result"
    }
   ],
   "source": [
    "# Path count\n",
    "CbGeAlD_pc[i, j]"
   ]
  },
  {
   "cell_type": "code",
   "execution_count": 11,
   "metadata": {},
   "outputs": [
    {
     "data": {
      "text/plain": [
       "0.0014783782118662787"
      ]
     },
     "execution_count": 11,
     "metadata": {},
     "output_type": "execute_result"
    }
   ],
   "source": [
    "# degree-weighted walk count\n",
    "CbGeAlD_dwwc[i, j]"
   ]
  },
  {
   "cell_type": "markdown",
   "metadata": {},
   "source": [
    "### Cypher DWPC implementation"
   ]
  },
  {
   "cell_type": "code",
   "execution_count": 12,
   "metadata": {},
   "outputs": [
    {
     "name": "stdout",
     "output_type": "stream",
     "text": [
      "MATCH path = (n0:Compound)-[:BINDS_CbG]-(n1)-[:EXPRESSES_AeG]-(n2)-[:LOCALIZES_DlA]-(n3:Disease)\n",
      "USING JOIN ON n1\n",
      "WHERE n0.identifier = { source }\n",
      "AND n3.identifier = { target }\n",
      "WITH\n",
      "[\n",
      "size((n0)-[:BINDS_CbG]-()),\n",
      "size(()-[:BINDS_CbG]-(n1)),\n",
      "size((n1)-[:EXPRESSES_AeG]-()),\n",
      "size(()-[:EXPRESSES_AeG]-(n2)),\n",
      "size((n2)-[:LOCALIZES_DlA]-()),\n",
      "size(()-[:LOCALIZES_DlA]-(n3))\n",
      "] AS degrees, path\n",
      "RETURN\n",
      "count(path) AS PC,\n",
      "sum(reduce(pdp = 1.0, d in degrees| pdp * d ^ -{ w })) AS DWPC\n"
     ]
    }
   ],
   "source": [
    "query = hetio.neo4j.construct_dwpc_query(metapath, property='identifier')\n",
    "print(query)"
   ]
  },
  {
   "cell_type": "code",
   "execution_count": 13,
   "metadata": {},
   "outputs": [
    {
     "data": {
      "text/plain": [
       "<Record PC=4 DWPC=0.0014783782118662789>"
      ]
     },
     "execution_count": 13,
     "metadata": {},
     "output_type": "execute_result"
    }
   ],
   "source": [
    "driver = GraphDatabase.driver(\"bolt://neo4j.het.io\")\n",
    "params = {\n",
    "    'source': compound,\n",
    "    'target': disease,\n",
    "    'w': damping_exponent,\n",
    "}\n",
    "with driver.session() as session:\n",
    "    result = session.run(query, params)\n",
    "    result = result.single()\n",
    "result"
   ]
  },
  {
   "cell_type": "markdown",
   "metadata": {},
   "source": [
    "### hetio DWWC implementation"
   ]
  },
  {
   "cell_type": "code",
   "execution_count": 14,
   "metadata": {},
   "outputs": [],
   "source": [
    "compound_id = 'Compound', 'DB00050'\n",
    "disease_id = 'Disease', 'DOID:0050425'\n",
    "paths = hetio.pathtools.paths_between(\n",
    "    graph,\n",
    "    source=graph.node_dict[compound_id],\n",
    "    target=graph.node_dict[disease_id],\n",
    "    metapath=metapath,\n",
    "    duplicates=True,\n",
    ")"
   ]
  },
  {
   "cell_type": "code",
   "execution_count": 15,
   "metadata": {},
   "outputs": [
    {
     "data": {
      "text/plain": [
       "[Compound::DB00050 - binds - Gene::2798 - expresses - Anatomy::UBERON:0001016 - localizes - Disease::DOID:0050425,\n",
       " Compound::DB00050 - binds - Gene::2798 - expresses - Anatomy::UBERON:0000955 - localizes - Disease::DOID:0050425,\n",
       " Compound::DB00050 - binds - Gene::2798 - expresses - Anatomy::UBERON:0002298 - localizes - Disease::DOID:0050425,\n",
       " Compound::DB00050 - binds - Gene::2798 - expresses - Anatomy::UBERON:0001017 - localizes - Disease::DOID:0050425]"
      ]
     },
     "execution_count": 15,
     "metadata": {},
     "output_type": "execute_result"
    }
   ],
   "source": [
    "paths"
   ]
  },
  {
   "cell_type": "code",
   "execution_count": 16,
   "metadata": {},
   "outputs": [
    {
     "data": {
      "text/plain": [
       "4"
      ]
     },
     "execution_count": 16,
     "metadata": {},
     "output_type": "execute_result"
    }
   ],
   "source": [
    "# Path count\n",
    "len(paths)"
   ]
  },
  {
   "cell_type": "code",
   "execution_count": 17,
   "metadata": {},
   "outputs": [
    {
     "data": {
      "text/plain": [
       "0.001478378211866279"
      ]
     },
     "execution_count": 17,
     "metadata": {},
     "output_type": "execute_result"
    }
   ],
   "source": [
    "# DWWC\n",
    "hetio.pathtools.DWPC(paths, damping_exponent=damping_exponent)"
   ]
  }
 ],
 "metadata": {
  "kernelspec": {
   "display_name": "Python [conda env:hetmech]",
   "language": "python",
   "name": "conda-env-hetmech-py"
  },
  "language_info": {
   "codemirror_mode": {
    "name": "ipython",
    "version": 3
   },
   "file_extension": ".py",
   "mimetype": "text/x-python",
   "name": "python",
   "nbconvert_exporter": "python",
   "pygments_lexer": "ipython3",
   "version": "3.6.4"
  }
 },
 "nbformat": 4,
 "nbformat_minor": 2
}
