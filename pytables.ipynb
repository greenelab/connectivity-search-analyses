{
 "cells": [
  {
   "cell_type": "markdown",
   "metadata": {},
   "source": [
    "# Comparison of disk storage methods\n",
    "\n",
    "This notebook is used to compare PyTables, an HDF5 Python implementation, with Numpy's native .npy/.npz file format"
   ]
  },
  {
   "cell_type": "code",
   "execution_count": 1,
   "metadata": {
    "collapsed": true
   },
   "outputs": [],
   "source": [
    "import tables\n",
    "\n",
    "import pandas as pd\n",
    "from neo4j.v1 import GraphDatabase\n",
    "import hetio.readwrite\n",
    "import hetio.neo4j\n",
    "import hetio.pathtools\n",
    "import numpy as np\n",
    "from scipy import sparse\n",
    "import time\n",
    "from hetmech.matrix import get_node_to_position, metaedge_to_adjacency_matrix"
   ]
  },
  {
   "cell_type": "code",
   "execution_count": 2,
   "metadata": {
    "collapsed": true
   },
   "outputs": [],
   "source": [
    "url = 'https://github.com/dhimmel/hetionet/raw/76550e6c93fbe92124edc71725e8c7dd4ca8b1f5/hetnet/json/hetionet-v1.0.json.bz2'\n",
    "graph = hetio.readwrite.read_graph(url)\n",
    "metagraph = graph.metagraph"
   ]
  },
  {
   "cell_type": "code",
   "execution_count": 4,
   "metadata": {},
   "outputs": [
    {
     "name": "stdout",
     "output_type": "stream",
     "text": [
      "Average: 4.181 ms, Stdev: 0.1207 ms, Max: 4.972 ms\n"
     ]
    }
   ],
   "source": [
    "# Sparse matrices out of .npz\n",
    "times1=[]\n",
    "for i in range(100):\n",
    "    t1 = time.time()\n",
    "    sparse_gig_adj_load_sp = sparse.load_npz('data/sparse_gig_adj.npz')\n",
    "    sparse_ctd_adj_load_sp = sparse.load_npz('data/sparse_ctd_adj.npz')\n",
    "    t2 = time.time()\n",
    "    times1.append(t2-t1)\n",
    "print(f'Average: {np.mean(times1)*1000 :.4} ms, Stdev: {np.std(times1)*1000 :.4} ms, Max: {np.max(times1)*1000 :.4} ms')"
   ]
  },
  {
   "cell_type": "markdown",
   "metadata": {},
   "source": [
    "# NPY Saving and loading"
   ]
  },
  {
   "cell_type": "code",
   "execution_count": 5,
   "metadata": {
    "collapsed": true
   },
   "outputs": [],
   "source": [
    "r, c, gig_adj = metaedge_to_adjacency_matrix(graph, 'GiG')\n",
    "r, c, ctd_adj = metaedge_to_adjacency_matrix(graph, 'CtD')\n",
    "r, c, sparse_gig_adj = metaedge_to_adjacency_matrix(graph, 'GiG', sparse_threshold=1)\n",
    "r, c, sparse_ctd_adj = metaedge_to_adjacency_matrix(graph, 'CtD', sparse_threshold=1)"
   ]
  },
  {
   "cell_type": "markdown",
   "metadata": {},
   "source": [
    "## Save matrices"
   ]
  },
  {
   "cell_type": "markdown",
   "metadata": {},
   "source": [
    "#### np.save"
   ]
  },
  {
   "cell_type": "code",
   "execution_count": 6,
   "metadata": {},
   "outputs": [
    {
     "name": "stdout",
     "output_type": "stream",
     "text": [
      "640.0 ms\n"
     ]
    }
   ],
   "source": [
    "# Dense matrices into .npy\n",
    "t1 = time.time()\n",
    "np.save('data/gig_adj', gig_adj)\n",
    "np.save('data/ctd_adj', ctd_adj)\n",
    "t2 = time.time()\n",
    "print(f'{(t2 - t1)*1000 :.4} ms')"
   ]
  },
  {
   "cell_type": "code",
   "execution_count": 7,
   "metadata": {},
   "outputs": [
    {
     "name": "stdout",
     "output_type": "stream",
     "text": [
      "5.203 ms\n"
     ]
    }
   ],
   "source": [
    "# Sparse matrices into .npy\n",
    "t1 = time.time()\n",
    "np.save('data/sparse_gig_adj', sparse_gig_adj)\n",
    "np.save('data/sparse_ctd_adj', sparse_ctd_adj)\n",
    "t2 = time.time()\n",
    "print(f'{(t2 - t1)*1000 :.4} ms')"
   ]
  },
  {
   "cell_type": "markdown",
   "metadata": {},
   "source": [
    "#### sparse.save_npz"
   ]
  },
  {
   "cell_type": "code",
   "execution_count": 8,
   "metadata": {},
   "outputs": [
    {
     "name": "stdout",
     "output_type": "stream",
     "text": [
      "224.4 ms\n"
     ]
    }
   ],
   "source": [
    "# Sparse matrices into .npz with compression\n",
    "t1 = time.time()\n",
    "sparse.save_npz('data/sparse_gig_adj', sparse_gig_adj, compressed=True)\n",
    "sparse.save_npz('data/sparse_ctd_adj', sparse_ctd_adj, compressed=True)\n",
    "t2 = time.time()\n",
    "print(f'{(t2 - t1)*1000 :.4} ms')"
   ]
  },
  {
   "cell_type": "code",
   "execution_count": 9,
   "metadata": {},
   "outputs": [
    {
     "name": "stdout",
     "output_type": "stream",
     "text": [
      "11.15 ms\n"
     ]
    }
   ],
   "source": [
    "# Sparse matrices into .npz without compression\n",
    "t1 = time.time()\n",
    "sparse.save_npz('data/sparse_gig_adj', sparse_gig_adj, compressed=False)\n",
    "sparse.save_npz('data/sparse_ctd_adj', sparse_ctd_adj, compressed=False)\n",
    "t2 = time.time()\n",
    "print(f'{(t2 - t1)*1000 :.4} ms')"
   ]
  },
  {
   "cell_type": "markdown",
   "metadata": {},
   "source": [
    "## Load matrices"
   ]
  },
  {
   "cell_type": "markdown",
   "metadata": {},
   "source": [
    "#### np.load"
   ]
  },
  {
   "cell_type": "code",
   "execution_count": 10,
   "metadata": {},
   "outputs": [
    {
     "name": "stdout",
     "output_type": "stream",
     "text": [
      "89.1 ms\n"
     ]
    }
   ],
   "source": [
    "# Dense matrices out of .npy\n",
    "t1 = time.time()\n",
    "gig_adj_load = np.load('data/gig_adj.npy')\n",
    "ctd_adj_load = np.load('data/ctd_adj.npy')\n",
    "t2 = time.time()\n",
    "print(f'{(t2 - t1)*1000 :.4} ms')"
   ]
  },
  {
   "cell_type": "code",
   "execution_count": 11,
   "metadata": {},
   "outputs": [
    {
     "name": "stdout",
     "output_type": "stream",
     "text": [
      "11.86 ms\n"
     ]
    }
   ],
   "source": [
    "# Sparse matrices out of .npy\n",
    "t1 = time.time()\n",
    "sparse_gig_adj_load = np.load('data/sparse_gig_adj.npy')\n",
    "sparse_ctd_adj_load = np.load('data/sparse_ctd_adj.npy')\n",
    "t2 = time.time()\n",
    "print(f'{(t2 - t1)*1000 :.4} ms')"
   ]
  },
  {
   "cell_type": "markdown",
   "metadata": {},
   "source": [
    "#### sparse.load_npz"
   ]
  },
  {
   "cell_type": "code",
   "execution_count": 12,
   "metadata": {},
   "outputs": [
    {
     "name": "stdout",
     "output_type": "stream",
     "text": [
      "Average: 4.54 ms, Stdev: 2.209 ms, Max: 21.46 ms\n"
     ]
    }
   ],
   "source": [
    "# Sparse matrices out of .npz\n",
    "times=[]\n",
    "for i in range(100):\n",
    "    t1 = time.time()\n",
    "    sparse_gig_adj_load_sp = sparse.load_npz('data/sparse_gig_adj.npz')\n",
    "    sparse_ctd_adj_load_sp = sparse.load_npz('data/sparse_ctd_adj.npz')\n",
    "    t2 = time.time()\n",
    "    times.append(t2-t1)\n",
    "print(f'Average: {np.mean(times)*1000 :.4} ms, Stdev: {np.std(times)*1000 :.4} ms, Max: {np.max(times)*1000 :.4} ms')"
   ]
  },
  {
   "cell_type": "code",
   "execution_count": 19,
   "metadata": {},
   "outputs": [
    {
     "ename": "ModuleNotFoundError",
     "evalue": "No module named 'matplotlib'",
     "output_type": "error",
     "traceback": [
      "\u001b[0;31m---------------------------------------------------------------------------\u001b[0m",
      "\u001b[0;31mModuleNotFoundError\u001b[0m                       Traceback (most recent call last)",
      "\u001b[0;32m<ipython-input-19-46e34d38c5e1>\u001b[0m in \u001b[0;36m<module>\u001b[0;34m()\u001b[0m\n\u001b[0;32m----> 1\u001b[0;31m \u001b[0;32mimport\u001b[0m \u001b[0mmatplotlib\u001b[0m\u001b[0;34m.\u001b[0m\u001b[0mpyplot\u001b[0m \u001b[0;32mas\u001b[0m \u001b[0mplt\u001b[0m\u001b[0;34m\u001b[0m\u001b[0m\n\u001b[0m\u001b[1;32m      2\u001b[0m \u001b[0mget_ipython\u001b[0m\u001b[0;34m(\u001b[0m\u001b[0;34m)\u001b[0m\u001b[0;34m.\u001b[0m\u001b[0mrun_line_magic\u001b[0m\u001b[0;34m(\u001b[0m\u001b[0;34m'matplotlib.inline'\u001b[0m\u001b[0;34m,\u001b[0m \u001b[0;34m''\u001b[0m\u001b[0;34m)\u001b[0m\u001b[0;34m\u001b[0m\u001b[0m\n",
      "\u001b[0;31mModuleNotFoundError\u001b[0m: No module named 'matplotlib'"
     ]
    }
   ],
   "source": [
    "import matplotlib.pyplot as plt\n",
    "%matplotlib.inline"
   ]
  },
  {
   "cell_type": "code",
   "execution_count": null,
   "metadata": {
    "collapsed": true
   },
   "outputs": [],
   "source": []
  },
  {
   "cell_type": "markdown",
   "metadata": {},
   "source": [
    "# HDF5 Saving and loading"
   ]
  },
  {
   "cell_type": "code",
   "execution_count": 13,
   "metadata": {
    "collapsed": true
   },
   "outputs": [],
   "source": [
    "abbr = [metaedge.get_abbrev() for metaedge in metagraph.get_edges()]"
   ]
  },
  {
   "cell_type": "code",
   "execution_count": 14,
   "metadata": {
    "scrolled": false
   },
   "outputs": [
    {
     "name": "stderr",
     "output_type": "stream",
     "text": [
      "/home/michael/miniconda3/envs/hetmech/lib/python3.6/site-packages/tables/path.py:112: NaturalNameWarning: object name is not a valid Python identifier: 'Gr>G'; it does not match the pattern ``^[a-zA-Z_][a-zA-Z0-9_]*$``; you will not be able to use natural naming to access this object; using ``getattr()`` will still work, though\n",
      "  NaturalNameWarning)\n",
      "/home/michael/miniconda3/envs/hetmech/lib/python3.6/site-packages/tables/path.py:112: NaturalNameWarning: object name is not a valid Python identifier: 'Gr>G_data'; it does not match the pattern ``^[a-zA-Z_][a-zA-Z0-9_]*$``; you will not be able to use natural naming to access this object; using ``getattr()`` will still work, though\n",
      "  NaturalNameWarning)\n",
      "/home/michael/miniconda3/envs/hetmech/lib/python3.6/site-packages/tables/path.py:112: NaturalNameWarning: object name is not a valid Python identifier: 'Gr>G_indices'; it does not match the pattern ``^[a-zA-Z_][a-zA-Z0-9_]*$``; you will not be able to use natural naming to access this object; using ``getattr()`` will still work, though\n",
      "  NaturalNameWarning)\n",
      "/home/michael/miniconda3/envs/hetmech/lib/python3.6/site-packages/tables/path.py:112: NaturalNameWarning: object name is not a valid Python identifier: 'Gr>G_indptr'; it does not match the pattern ``^[a-zA-Z_][a-zA-Z0-9_]*$``; you will not be able to use natural naming to access this object; using ``getattr()`` will still work, though\n",
      "  NaturalNameWarning)\n",
      "/home/michael/miniconda3/envs/hetmech/lib/python3.6/site-packages/tables/path.py:112: NaturalNameWarning: object name is not a valid Python identifier: 'Gr>G_shape'; it does not match the pattern ``^[a-zA-Z_][a-zA-Z0-9_]*$``; you will not be able to use natural naming to access this object; using ``getattr()`` will still work, though\n",
      "  NaturalNameWarning)\n"
     ]
    }
   ],
   "source": [
    "h5file = tables.open_file('data/sparse_matrices.h5', mode='w', title='Adjacency Matrices')\n",
    "\n",
    "for edge in abbr:\n",
    "    group_path = f'{edge[0]}{edge[-1]}'\n",
    "    try:\n",
    "        h5file.create_group('/', group_path)\n",
    "    except:\n",
    "        pass\n",
    "    r, c, sparse_matrix = metaedge_to_adjacency_matrix(graph, edge, sparse_threshold=1)\n",
    "    group = h5file.create_group('/'+group_path+'/', edge)\n",
    "    h5file.create_array(group, edge+'_data', sparse_matrix.data)\n",
    "    h5file.create_array(group, edge+'_indices', sparse_matrix.indices)\n",
    "    h5file.create_array(group, edge+'_indptr', sparse_matrix.indptr)\n",
    "    h5file.create_array(group, edge+'_shape', sparse_matrix.shape)\n",
    "\n",
    "h5file.close()"
   ]
  },
  {
   "cell_type": "code",
   "execution_count": 15,
   "metadata": {
    "collapsed": true
   },
   "outputs": [],
   "source": [
    "def pt_load_array(h5file, node):\n",
    "    \n",
    "    data = h5file.get_node(f'/{node[0]}{node[-1]}/{node}/{node}_data').read()\n",
    "    indices = h5file.get_node(f'/{node[0]}{node[-1]}/{node}/{node}_indices').read()\n",
    "    indptr = h5file.get_node(f'/{node[0]}{node[-1]}/{node}/{node}_indptr').read()\n",
    "    mat_shape = h5file.get_node(f'/{node[0]}{node[-1]}/{node}/{node}_shape').read()\n",
    "    return sparse.csc_matrix((data, indices, indptr), shape=mat_shape)"
   ]
  },
  {
   "cell_type": "code",
   "execution_count": 16,
   "metadata": {},
   "outputs": [
    {
     "name": "stdout",
     "output_type": "stream",
     "text": [
      "Average: nan ms, Stdev: nan ms\n"
     ]
    },
    {
     "name": "stderr",
     "output_type": "stream",
     "text": [
      "/home/michael/miniconda3/envs/hetmech/lib/python3.6/site-packages/numpy/core/fromnumeric.py:2909: RuntimeWarning: Mean of empty slice.\n",
      "  out=out, **kwargs)\n",
      "/home/michael/miniconda3/envs/hetmech/lib/python3.6/site-packages/numpy/core/_methods.py:80: RuntimeWarning: invalid value encountered in double_scalars\n",
      "  ret = ret.dtype.type(ret / rcount)\n",
      "/home/michael/miniconda3/envs/hetmech/lib/python3.6/site-packages/numpy/core/_methods.py:135: RuntimeWarning: Degrees of freedom <= 0 for slice\n",
      "  keepdims=keepdims)\n",
      "/home/michael/miniconda3/envs/hetmech/lib/python3.6/site-packages/numpy/core/_methods.py:105: RuntimeWarning: invalid value encountered in true_divide\n",
      "  arrmean, rcount, out=arrmean, casting='unsafe', subok=False)\n",
      "/home/michael/miniconda3/envs/hetmech/lib/python3.6/site-packages/numpy/core/_methods.py:127: RuntimeWarning: invalid value encountered in double_scalars\n",
      "  ret = ret.dtype.type(ret / rcount)\n"
     ]
    }
   ],
   "source": [
    "times_pt = []\n",
    "for i in range(5000):\n",
    "    t1 = time.time()\n",
    "    h5file = tables.open_file('data/sparse_matrices.h5', 'a')\n",
    "\n",
    "    sparse_ctd_load = pt_load_array(h5file, 'CtD')\n",
    "    sparse_gig_load = pt_load_array(h5file, 'GiG')\n",
    "\n",
    "    h5file.close()\n",
    "    t2 = time.time()\n",
    "    times.append(t2-t1)\n",
    "\n",
    "print(f'Average: {np.mean(times_pt)*1000 :.4} ms, Stdev: {np.std(times_pt)*1000 :.4} ms')"
   ]
  },
  {
   "cell_type": "code",
   "execution_count": null,
   "metadata": {
    "collapsed": true
   },
   "outputs": [],
   "source": []
  },
  {
   "cell_type": "code",
   "execution_count": null,
   "metadata": {
    "collapsed": true
   },
   "outputs": [],
   "source": []
  },
  {
   "cell_type": "code",
   "execution_count": null,
   "metadata": {
    "collapsed": true
   },
   "outputs": [],
   "source": []
  }
 ],
 "metadata": {
  "kernelspec": {
   "display_name": "Python [conda env:hetmech]",
   "language": "python",
   "name": "conda-env-hetmech-py"
  },
  "language_info": {
   "codemirror_mode": {
    "name": "ipython",
    "version": 3
   },
   "file_extension": ".py",
   "mimetype": "text/x-python",
   "name": "python",
   "nbconvert_exporter": "python",
   "pygments_lexer": "ipython3",
   "version": "3.6.2"
  }
 },
 "nbformat": 4,
 "nbformat_minor": 2
}
