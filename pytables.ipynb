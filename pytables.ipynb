{
 "cells": [
  {
   "cell_type": "markdown",
   "metadata": {},
   "source": [
    "# Comparison of disk storage methods\n",
    "\n",
    "This notebook is used to compare PyTables, an HDF5 Python implementation, with Numpy's native .npy/.npz file format"
   ]
  },
  {
   "cell_type": "code",
   "execution_count": 1,
   "metadata": {
    "collapsed": true
   },
   "outputs": [],
   "source": [
    "import tables\n",
    "\n",
    "import pandas as pd\n",
    "from neo4j.v1 import GraphDatabase\n",
    "import hetio.readwrite\n",
    "import hetio.neo4j\n",
    "import hetio.pathtools\n",
    "import numpy as np\n",
    "from scipy import sparse\n",
    "import time\n",
    "from hetmech.matrix import get_node_to_position, metaedge_to_adjacency_matrix"
   ]
  },
  {
   "cell_type": "code",
   "execution_count": 2,
   "metadata": {
    "collapsed": true
   },
   "outputs": [],
   "source": [
    "url = 'https://github.com/dhimmel/hetionet/raw/76550e6c93fbe92124edc71725e8c7dd4ca8b1f5/hetnet/json/hetionet-v1.0.json.bz2'\n",
    "graph = hetio.readwrite.read_graph(url)\n",
    "metagraph = graph.metagraph"
   ]
  },
  {
   "cell_type": "markdown",
   "metadata": {},
   "source": [
    "# NPY Saving and loading"
   ]
  },
  {
   "cell_type": "code",
   "execution_count": 3,
   "metadata": {
    "collapsed": true
   },
   "outputs": [],
   "source": [
    "r, c, gig_adj = metaedge_to_adjacency_matrix(graph, 'GiG')\n",
    "r, c, ctd_adj = metaedge_to_adjacency_matrix(graph, 'CtD')\n",
    "r, c, sparse_gig_adj = metaedge_to_adjacency_matrix(graph, 'GiG', sparse_threshold=1)\n",
    "r, c, sparse_ctd_adj = metaedge_to_adjacency_matrix(graph, 'CtD', sparse_threshold=1)"
   ]
  },
  {
   "cell_type": "markdown",
   "metadata": {},
   "source": [
    "## Save matrices"
   ]
  },
  {
   "cell_type": "markdown",
   "metadata": {},
   "source": [
    "#### np.save"
   ]
  },
  {
   "cell_type": "code",
   "execution_count": 4,
   "metadata": {},
   "outputs": [
    {
     "name": "stdout",
     "output_type": "stream",
     "text": [
      "645.2720165252686 ms\n"
     ]
    }
   ],
   "source": [
    "# Dense matrices into .npy\n",
    "t1 = time.time()\n",
    "np.save('data/gig_adj', gig_adj)\n",
    "np.save('data/ctd_adj', ctd_adj)\n",
    "t2 = time.time()\n",
    "print(f'{(t2 - t1)*1000} ms')"
   ]
  },
  {
   "cell_type": "code",
   "execution_count": 5,
   "metadata": {},
   "outputs": [
    {
     "name": "stdout",
     "output_type": "stream",
     "text": [
      "5.441904067993164 ms\n"
     ]
    }
   ],
   "source": [
    "# Sparse matrices into .npy\n",
    "t1 = time.time()\n",
    "np.save('data/sparse_gig_adj', sparse_gig_adj)\n",
    "np.save('data/sparse_ctd_adj', sparse_ctd_adj)\n",
    "t2 = time.time()\n",
    "print(f'{(t2 - t1)*1000} ms')"
   ]
  },
  {
   "cell_type": "markdown",
   "metadata": {},
   "source": [
    "#### sparse.save_npz"
   ]
  },
  {
   "cell_type": "code",
   "execution_count": 6,
   "metadata": {},
   "outputs": [
    {
     "name": "stdout",
     "output_type": "stream",
     "text": [
      "186.43593788146973 ms\n"
     ]
    }
   ],
   "source": [
    "# Sparse matrices into .npz with compression\n",
    "t1 = time.time()\n",
    "sparse.save_npz('data/sparse_gig_adj', sparse_gig_adj, compressed=True)\n",
    "sparse.save_npz('data/sparse_ctd_adj', sparse_ctd_adj, compressed=True)\n",
    "t2 = time.time()\n",
    "print(f'{(t2 - t1)*1000} ms')"
   ]
  },
  {
   "cell_type": "code",
   "execution_count": 7,
   "metadata": {},
   "outputs": [
    {
     "name": "stdout",
     "output_type": "stream",
     "text": [
      "13.414859771728516 ms\n"
     ]
    }
   ],
   "source": [
    "# Sparse matrices into .npz without compression\n",
    "t1 = time.time()\n",
    "sparse.save_npz('data/sparse_gig_adj', sparse_gig_adj, compressed=False)\n",
    "sparse.save_npz('data/sparse_ctd_adj', sparse_ctd_adj, compressed=False)\n",
    "t2 = time.time()\n",
    "print(f'{(t2 - t1)*1000} ms')"
   ]
  },
  {
   "cell_type": "markdown",
   "metadata": {},
   "source": [
    "## Load matrices"
   ]
  },
  {
   "cell_type": "markdown",
   "metadata": {},
   "source": [
    "#### np.load"
   ]
  },
  {
   "cell_type": "code",
   "execution_count": 8,
   "metadata": {},
   "outputs": [
    {
     "name": "stdout",
     "output_type": "stream",
     "text": [
      "78.45306396484375 ms\n"
     ]
    }
   ],
   "source": [
    "# Dense matrices out of .npy\n",
    "t1 = time.time()\n",
    "gig_adj_load = np.load('data/gig_adj.npy')\n",
    "ctd_adj_load = np.load('data/ctd_adj.npy')\n",
    "t2 = time.time()\n",
    "print(f'{(t2 - t1)*1000} ms')"
   ]
  },
  {
   "cell_type": "code",
   "execution_count": 9,
   "metadata": {},
   "outputs": [
    {
     "name": "stdout",
     "output_type": "stream",
     "text": [
      "12.098550796508789 ms\n"
     ]
    }
   ],
   "source": [
    "# Sparse matrices out of .npy\n",
    "t1 = time.time()\n",
    "sparse_gig_adj_load = np.load('data/sparse_gig_adj.npy')\n",
    "sparse_ctd_adj_load = np.load('data/sparse_ctd_adj.npy')\n",
    "t2 = time.time()\n",
    "print(f'{(t2 - t1)*1000} ms')"
   ]
  },
  {
   "cell_type": "markdown",
   "metadata": {},
   "source": [
    "#### sparse.load_npz"
   ]
  },
  {
   "cell_type": "code",
   "execution_count": 10,
   "metadata": {},
   "outputs": [
    {
     "name": "stdout",
     "output_type": "stream",
     "text": [
      "23.5445499420166 ms\n"
     ]
    }
   ],
   "source": [
    "# Sparse matrices out of .npz\n",
    "t1 = time.time()\n",
    "sparse_gig_adj_load_sp = sparse.load_npz('data/sparse_gig_adj.npz')\n",
    "sparse_ctd_adj_load_sp = sparse.load_npz('data/sparse_ctd_adj.npz')\n",
    "t2 = time.time()\n",
    "print(f'{(t2 - t1)*1000} ms')"
   ]
  },
  {
   "cell_type": "markdown",
   "metadata": {},
   "source": [
    "# HDF5 Saving and loading"
   ]
  },
  {
   "cell_type": "code",
   "execution_count": 11,
   "metadata": {
    "collapsed": true
   },
   "outputs": [],
   "source": [
    "abbr = [metaedge.get_abbrev() for metaedge in metagraph.get_edges()]"
   ]
  },
  {
   "cell_type": "code",
   "execution_count": 12,
   "metadata": {},
   "outputs": [
    {
     "name": "stderr",
     "output_type": "stream",
     "text": [
      "/home/michael/miniconda3/envs/hetmech/lib/python3.6/site-packages/tables/path.py:112: NaturalNameWarning: object name is not a valid Python identifier: 'Gr>G'; it does not match the pattern ``^[a-zA-Z_][a-zA-Z0-9_]*$``; you will not be able to use natural naming to access this object; using ``getattr()`` will still work, though\n",
      "  NaturalNameWarning)\n",
      "/home/michael/miniconda3/envs/hetmech/lib/python3.6/site-packages/tables/path.py:112: NaturalNameWarning: object name is not a valid Python identifier: 'Gr>G_data'; it does not match the pattern ``^[a-zA-Z_][a-zA-Z0-9_]*$``; you will not be able to use natural naming to access this object; using ``getattr()`` will still work, though\n",
      "  NaturalNameWarning)\n",
      "/home/michael/miniconda3/envs/hetmech/lib/python3.6/site-packages/tables/path.py:112: NaturalNameWarning: object name is not a valid Python identifier: 'Gr>G_indices'; it does not match the pattern ``^[a-zA-Z_][a-zA-Z0-9_]*$``; you will not be able to use natural naming to access this object; using ``getattr()`` will still work, though\n",
      "  NaturalNameWarning)\n",
      "/home/michael/miniconda3/envs/hetmech/lib/python3.6/site-packages/tables/path.py:112: NaturalNameWarning: object name is not a valid Python identifier: 'Gr>G_indptr'; it does not match the pattern ``^[a-zA-Z_][a-zA-Z0-9_]*$``; you will not be able to use natural naming to access this object; using ``getattr()`` will still work, though\n",
      "  NaturalNameWarning)\n",
      "/home/michael/miniconda3/envs/hetmech/lib/python3.6/site-packages/tables/path.py:112: NaturalNameWarning: object name is not a valid Python identifier: 'Gr>G_shape'; it does not match the pattern ``^[a-zA-Z_][a-zA-Z0-9_]*$``; you will not be able to use natural naming to access this object; using ``getattr()`` will still work, though\n",
      "  NaturalNameWarning)\n"
     ]
    }
   ],
   "source": [
    "h5file = tables.open_file('data/sparse_matrices.h5', mode='w', title='Adjacency Matrices')\n",
    "\n",
    "for edge in abbr:\n",
    "    group_path = f'{edge[0]}{edge[-1]}'\n",
    "    try:\n",
    "        h5file.create_group('/', group_path)\n",
    "    except:\n",
    "        pass\n",
    "    r, c, sparse_matrix = metaedge_to_adjacency_matrix(graph, edge, sparse_threshold=1)\n",
    "    group = h5file.create_group('/'+group_path+'/', edge)\n",
    "    h5file.create_array(group, edge+'_data', sparse_matrix.data)\n",
    "    h5file.create_array(group, edge+'_indices', sparse_matrix.indices)\n",
    "    h5file.create_array(group, edge+'_indptr', sparse_matrix.indptr)\n",
    "    h5file.create_array(group, edge+'_shape', sparse_matrix.shape)\n",
    "\n",
    "h5file.close()"
   ]
  },
  {
   "cell_type": "code",
   "execution_count": 13,
   "metadata": {},
   "outputs": [
    {
     "name": "stdout",
     "output_type": "stream",
     "text": [
      "3.071308135986328 ms\n"
     ]
    }
   ],
   "source": [
    "t1 = time.time()\n",
    "h5file = tables.open_file('data/sparse_matrices.h5', 'a')\n",
    "\n",
    "node = 'CtD'\n",
    "data = h5file.get_node(f'/{node[0]}{node[-1]}/{node}/{node}_data').read()\n",
    "indices = h5file.get_node(f'/{node[0]}{node[-1]}/{node}/{node}_indices').read()\n",
    "indptr = h5file.get_node(f'/{node[0]}{node[-1]}/{node}/{node}_indptr').read()\n",
    "mat_shape = h5file.get_node(f'/{node[0]}{node[-1]}/{node}/{node}_shape').read()\n",
    "\n",
    "sparse_ctd_load = sparse.csc_matrix((data, indices, indptr), shape=mat_shape)\n",
    "\n",
    "node = 'GiG'\n",
    "data = h5file.get_node(f'/{node[0]}{node[-1]}/{node}/{node}_data').read()\n",
    "indices = h5file.get_node(f'/{node[0]}{node[-1]}/{node}/{node}_indices').read()\n",
    "indptr = h5file.get_node(f'/{node[0]}{node[-1]}/{node}/{node}_indptr').read()\n",
    "mat_shape = h5file.get_node(f'/{node[0]}{node[-1]}/{node}/{node}_shape').read()\n",
    "\n",
    "sparse_gig_load = sparse.csc_matrix((data, indices, indptr), shape=mat_shape)\n",
    "\n",
    "h5file.close()\n",
    "t2 = time.time()\n",
    "print(f'{(t2 - t1)*1000} ms')"
   ]
  },
  {
   "cell_type": "code",
   "execution_count": null,
   "metadata": {
    "collapsed": true
   },
   "outputs": [],
   "source": []
  }
 ],
 "metadata": {
  "kernelspec": {
   "display_name": "Python [conda env:hetmech]",
   "language": "python",
   "name": "conda-env-hetmech-py"
  },
  "language_info": {
   "codemirror_mode": {
    "name": "ipython",
    "version": 3
   },
   "file_extension": ".py",
   "mimetype": "text/x-python",
   "name": "python",
   "nbconvert_exporter": "python",
   "pygments_lexer": "ipython3",
   "version": "3.6.2"
  }
 },
 "nbformat": 4,
 "nbformat_minor": 2
}
