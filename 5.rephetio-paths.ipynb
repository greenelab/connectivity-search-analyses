{
 "cells": [
  {
   "cell_type": "code",
   "execution_count": 1,
   "metadata": {
    "collapsed": true
   },
   "outputs": [],
   "source": [
    "import json, pandas as pd, copy, functools, itertools, collections, operator, time, urllib.request\n",
    "import concurrent.futures\n",
    "import numpy as np\n",
    "from scipy import sparse\n",
    "import hetio.readwrite\n",
    "from hetmech.degree_weight import *"
   ]
  },
  {
   "cell_type": "markdown",
   "metadata": {},
   "source": [
    "## Load the graph"
   ]
  },
  {
   "cell_type": "code",
   "execution_count": 2,
   "metadata": {},
   "outputs": [
    {
     "name": "stdout",
     "output_type": "stream",
     "text": [
      "CPU times: user 1min 19s, sys: 1.54 s, total: 1min 21s\n",
      "Wall time: 1min 22s\n"
     ]
    }
   ],
   "source": [
    "%%time\n",
    "\n",
    "url = 'https://github.com/dhimmel/hetionet/raw/{}/hetnet/json/hetionet-v1.0.json.bz2'.format(\n",
    "'59c448fd912555f84b9822b4f49b431b696aea15')\n",
    "\n",
    "graph = hetio.readwrite.read_graph(url)\n",
    "metagraph = graph.metagraph"
   ]
  },
  {
   "cell_type": "markdown",
   "metadata": {},
   "source": [
    "## Load metapaths"
   ]
  },
  {
   "cell_type": "code",
   "execution_count": 3,
   "metadata": {},
   "outputs": [
    {
     "data": {
      "text/plain": [
       "1206"
      ]
     },
     "execution_count": 3,
     "metadata": {},
     "output_type": "execute_result"
    }
   ],
   "source": [
    "metapaths_url = 'https://raw.githubusercontent.com/dhimmel/learn/{}/all-features/data/metapaths.json'.format(\n",
    "    'ef5f7a6b76b6a01499d65b95e3d7ca93ac5aba57')\n",
    "\n",
    "with urllib.request.urlopen(metapaths_url) as data_file:\n",
    "    metapaths = json.loads(data_file.read().decode())\n",
    "\n",
    "metapaths.sort(key=lambda x: x['join_complexities'][0])\n",
    "\n",
    "len(metapaths)"
   ]
  },
  {
   "cell_type": "markdown",
   "metadata": {},
   "source": [
    "# Extract the actual metapaths from the list of metapath dictionaries"
   ]
  },
  {
   "cell_type": "code",
   "execution_count": 4,
   "metadata": {
    "collapsed": true
   },
   "outputs": [],
   "source": [
    "abbrevs = [metapath['abbreviation'] for metapath in metapaths]"
   ]
  },
  {
   "cell_type": "markdown",
   "metadata": {},
   "source": [
    "## Categorize the metapaths"
   ]
  },
  {
   "cell_type": "code",
   "execution_count": 5,
   "metadata": {
    "collapsed": true
   },
   "outputs": [],
   "source": [
    "types = []\n",
    "for metapath in abbrevs:\n",
    "    m_path = metagraph.metapath_from_abbrev(metapath)\n",
    "    cat = categorize(m_path)\n",
    "    types.append([metapath, cat])\n",
    "types = pd.DataFrame(types, columns=(\"Metapath\", \"Category\"))"
   ]
  },
  {
   "cell_type": "code",
   "execution_count": 6,
   "metadata": {},
   "outputs": [
    {
     "data": {
      "text/html": [
       "<div>\n",
       "<style>\n",
       "    .dataframe thead tr:only-child th {\n",
       "        text-align: right;\n",
       "    }\n",
       "\n",
       "    .dataframe thead th {\n",
       "        text-align: left;\n",
       "    }\n",
       "\n",
       "    .dataframe tbody tr th {\n",
       "        vertical-align: top;\n",
       "    }\n",
       "</style>\n",
       "<table border=\"1\" class=\"dataframe\">\n",
       "  <thead>\n",
       "    <tr style=\"text-align: right;\">\n",
       "      <th></th>\n",
       "      <th>Metapath</th>\n",
       "      <th>Category</th>\n",
       "    </tr>\n",
       "  </thead>\n",
       "  <tbody>\n",
       "    <tr>\n",
       "      <th>0</th>\n",
       "      <td>CpDpCpD</td>\n",
       "      <td>BABA</td>\n",
       "    </tr>\n",
       "    <tr>\n",
       "      <th>1</th>\n",
       "      <td>CpDpCtD</td>\n",
       "      <td>BABA</td>\n",
       "    </tr>\n",
       "    <tr>\n",
       "      <th>2</th>\n",
       "      <td>CpDtCpD</td>\n",
       "      <td>BABA</td>\n",
       "    </tr>\n",
       "    <tr>\n",
       "      <th>3</th>\n",
       "      <td>CtDpCpD</td>\n",
       "      <td>BABA</td>\n",
       "    </tr>\n",
       "    <tr>\n",
       "      <th>4</th>\n",
       "      <td>CiPCiCpD</td>\n",
       "      <td>short_repeat</td>\n",
       "    </tr>\n",
       "  </tbody>\n",
       "</table>\n",
       "</div>"
      ],
      "text/plain": [
       "   Metapath      Category\n",
       "0   CpDpCpD          BABA\n",
       "1   CpDpCtD          BABA\n",
       "2   CpDtCpD          BABA\n",
       "3   CtDpCpD          BABA\n",
       "4  CiPCiCpD  short_repeat"
      ]
     },
     "execution_count": 6,
     "metadata": {},
     "output_type": "execute_result"
    }
   ],
   "source": [
    "types.head()"
   ]
  },
  {
   "cell_type": "code",
   "execution_count": 7,
   "metadata": {},
   "outputs": [
    {
     "data": {
      "text/plain": [
       "short_repeat    599\n",
       "BABA            278\n",
       "BAAB            144\n",
       "disjoint        131\n",
       "other            32\n",
       "no_repeats       18\n",
       "long_repeat       4\n",
       "Name: Category, dtype: int64"
      ]
     },
     "execution_count": 7,
     "metadata": {},
     "output_type": "execute_result"
    }
   ],
   "source": [
    "types['Category'].value_counts()"
   ]
  },
  {
   "cell_type": "markdown",
   "metadata": {},
   "source": [
    "## ALL but other and Long_repeat"
   ]
  },
  {
   "cell_type": "code",
   "execution_count": 9,
   "metadata": {},
   "outputs": [],
   "source": [
    "metapath_strings = types[types['Category'] != 'other']\n",
    "metapath_strings = metapath_strings[metapath_strings['Category'] != 'long_repeat']\n",
    "metapath_strings = list(metapath_strings.Metapath)\n",
    "\n",
    "metapaths = [metagraph.metapath_from_abbrev(s) for s in metapath_strings]"
   ]
  },
  {
   "cell_type": "code",
   "execution_count": 10,
   "metadata": {
    "scrolled": true
   },
   "outputs": [
    {
     "name": "stdout",
     "output_type": "stream",
     "text": [
      "CPU times: user 46min 2s, sys: 23.7 s, total: 46min 26s\n",
      "Wall time: 46min 26s\n"
     ]
    }
   ],
   "source": [
    "%%time\n",
    "dwpc_arrays = {}\n",
    "metapath_times = []\n",
    "n=0\n",
    "for i, metapath in enumerate(metapaths):\n",
    "    compounds, diseases, mat, timed = dwpc(graph, metapath, damping=0.4, sparse_threshold=1)\n",
    "    st = metapath_strings[i]\n",
    "    dwpc_arrays[st] = mat\n",
    "    metapath_times.append([st, timed])"
   ]
  },
  {
   "cell_type": "markdown",
   "metadata": {},
   "source": [
    "#### Save DWPC times as a .tsv file."
   ]
  },
  {
   "cell_type": "code",
   "execution_count": 11,
   "metadata": {
    "collapsed": true
   },
   "outputs": [],
   "source": [
    "times_df = pd.DataFrame(metapath_times, columns=('Metapath', 'Time'))\n",
    "\n",
    "times_df.to_csv(path_or_buf='data/dwpc_times.tsv', sep='\\t', float_format='%.6g', index=False)"
   ]
  },
  {
   "cell_type": "markdown",
   "metadata": {},
   "source": [
    "#### Save DWPC matrices as outputs in Compound-Disease pairs"
   ]
  },
  {
   "cell_type": "code",
   "execution_count": 12,
   "metadata": {
    "collapsed": true
   },
   "outputs": [],
   "source": [
    "compounds, diseases, mat = metaedge_to_adjacency_matrix(graph, 'CpD')"
   ]
  },
  {
   "cell_type": "code",
   "execution_count": 13,
   "metadata": {
    "collapsed": true
   },
   "outputs": [],
   "source": [
    "comp_disease_pairs = numpy.array([[comp, disease] for comp in compounds for disease in diseases])"
   ]
  },
  {
   "cell_type": "code",
   "execution_count": 14,
   "metadata": {
    "collapsed": true
   },
   "outputs": [],
   "source": [
    "mat_dict = {'compound': comp_disease_pairs[:,0], 'disease': comp_disease_pairs[:,1]}"
   ]
  },
  {
   "cell_type": "code",
   "execution_count": 15,
   "metadata": {
    "collapsed": true
   },
   "outputs": [],
   "source": [
    "mat_dict = dict()\n",
    "for metaedge, matrix in dwpc_arrays.items():\n",
    "    if type(matrix) == numpy.matrix:\n",
    "        matrix = matrix.A\n",
    "    elif sparse.issparse(matrix):\n",
    "        matrix = matrix.toarray()\n",
    "    assert type(matrix) == numpy.ndarray\n",
    "    matrix = matrix.flatten(order='C').tolist()\n",
    "    mat_dict[metaedge] = matrix\n",
    "mat_dict['disease'] = comp_disease_pairs[:,1]\n",
    "mat_dict['compound'] = comp_disease_pairs[:,0]"
   ]
  },
  {
   "cell_type": "code",
   "execution_count": 16,
   "metadata": {
    "collapsed": true
   },
   "outputs": [],
   "source": [
    "dwpc_matrices = pd.DataFrame.from_dict(mat_dict)"
   ]
  },
  {
   "cell_type": "code",
   "execution_count": 17,
   "metadata": {
    "collapsed": true
   },
   "outputs": [],
   "source": [
    "colnames = list(reversed(list(dwpc_matrices)))\n",
    "colnames = [colnames.pop(1)] + colnames"
   ]
  },
  {
   "cell_type": "code",
   "execution_count": 18,
   "metadata": {},
   "outputs": [
    {
     "name": "stderr",
     "output_type": "stream",
     "text": [
      "/home/zietz/anaconda3/envs/hetmech/lib/python3.6/site-packages/ipykernel/__main__.py:1: DeprecationWarning: \n",
      ".ix is deprecated. Please use\n",
      ".loc for label based indexing or\n",
      ".iloc for positional indexing\n",
      "\n",
      "See the documentation here:\n",
      "http://pandas.pydata.org/pandas-docs/stable/indexing.html#deprecate_ix\n",
      "  if __name__ == '__main__':\n"
     ]
    },
    {
     "data": {
      "text/html": [
       "<div>\n",
       "<style>\n",
       "    .dataframe thead tr:only-child th {\n",
       "        text-align: right;\n",
       "    }\n",
       "\n",
       "    .dataframe thead th {\n",
       "        text-align: left;\n",
       "    }\n",
       "\n",
       "    .dataframe tbody tr th {\n",
       "        vertical-align: top;\n",
       "    }\n",
       "</style>\n",
       "<table border=\"1\" class=\"dataframe\">\n",
       "  <thead>\n",
       "    <tr style=\"text-align: right;\">\n",
       "      <th></th>\n",
       "      <th>compound</th>\n",
       "      <th>disease</th>\n",
       "      <th>CuGuDuGuD</th>\n",
       "      <th>CuGuDuGdD</th>\n",
       "      <th>CuGuDuGaD</th>\n",
       "      <th>CuGuDtCtD</th>\n",
       "      <th>CuGuDtCpD</th>\n",
       "      <th>CuGuDrDrD</th>\n",
       "      <th>CuGuDrD</th>\n",
       "      <th>CuGuDpSpD</th>\n",
       "      <th>...</th>\n",
       "      <th>CbG&lt;rGcGuD</th>\n",
       "      <th>CbG&lt;rGcGdD</th>\n",
       "      <th>CbG&lt;rGcGaD</th>\n",
       "      <th>CbG&lt;rGbCtD</th>\n",
       "      <th>CbG&lt;rGbCpD</th>\n",
       "      <th>CbG&lt;rGaDrD</th>\n",
       "      <th>CbG&lt;rGaD</th>\n",
       "      <th>CbG&lt;rG&lt;rGuD</th>\n",
       "      <th>CbG&lt;rG&lt;rGdD</th>\n",
       "      <th>CbG&lt;rG&lt;rGaD</th>\n",
       "    </tr>\n",
       "  </thead>\n",
       "  <tbody>\n",
       "    <tr>\n",
       "      <th>0</th>\n",
       "      <td>DB00014</td>\n",
       "      <td>DOID:0050156</td>\n",
       "      <td>0.001791</td>\n",
       "      <td>0.000662</td>\n",
       "      <td>0.000216</td>\n",
       "      <td>0.0</td>\n",
       "      <td>0.002885</td>\n",
       "      <td>0.0</td>\n",
       "      <td>0.0</td>\n",
       "      <td>0.000000</td>\n",
       "      <td>...</td>\n",
       "      <td>0.0</td>\n",
       "      <td>0.0</td>\n",
       "      <td>0.0</td>\n",
       "      <td>0.0</td>\n",
       "      <td>0.0</td>\n",
       "      <td>0.0</td>\n",
       "      <td>0.0</td>\n",
       "      <td>0.0</td>\n",
       "      <td>0.0</td>\n",
       "      <td>0.0</td>\n",
       "    </tr>\n",
       "    <tr>\n",
       "      <th>1</th>\n",
       "      <td>DB00014</td>\n",
       "      <td>DOID:0050425</td>\n",
       "      <td>0.000000</td>\n",
       "      <td>0.000000</td>\n",
       "      <td>0.000000</td>\n",
       "      <td>0.0</td>\n",
       "      <td>0.000000</td>\n",
       "      <td>0.0</td>\n",
       "      <td>0.0</td>\n",
       "      <td>0.000000</td>\n",
       "      <td>...</td>\n",
       "      <td>0.0</td>\n",
       "      <td>0.0</td>\n",
       "      <td>0.0</td>\n",
       "      <td>0.0</td>\n",
       "      <td>0.0</td>\n",
       "      <td>0.0</td>\n",
       "      <td>0.0</td>\n",
       "      <td>0.0</td>\n",
       "      <td>0.0</td>\n",
       "      <td>0.0</td>\n",
       "    </tr>\n",
       "    <tr>\n",
       "      <th>2</th>\n",
       "      <td>DB00014</td>\n",
       "      <td>DOID:0050741</td>\n",
       "      <td>0.001160</td>\n",
       "      <td>0.000211</td>\n",
       "      <td>0.000000</td>\n",
       "      <td>0.0</td>\n",
       "      <td>0.000000</td>\n",
       "      <td>0.0</td>\n",
       "      <td>0.0</td>\n",
       "      <td>0.000413</td>\n",
       "      <td>...</td>\n",
       "      <td>0.0</td>\n",
       "      <td>0.0</td>\n",
       "      <td>0.0</td>\n",
       "      <td>0.0</td>\n",
       "      <td>0.0</td>\n",
       "      <td>0.0</td>\n",
       "      <td>0.0</td>\n",
       "      <td>0.0</td>\n",
       "      <td>0.0</td>\n",
       "      <td>0.0</td>\n",
       "    </tr>\n",
       "    <tr>\n",
       "      <th>3</th>\n",
       "      <td>DB00014</td>\n",
       "      <td>DOID:0050742</td>\n",
       "      <td>0.001002</td>\n",
       "      <td>0.000816</td>\n",
       "      <td>0.000000</td>\n",
       "      <td>0.0</td>\n",
       "      <td>0.008050</td>\n",
       "      <td>0.0</td>\n",
       "      <td>0.0</td>\n",
       "      <td>0.000000</td>\n",
       "      <td>...</td>\n",
       "      <td>0.0</td>\n",
       "      <td>0.0</td>\n",
       "      <td>0.0</td>\n",
       "      <td>0.0</td>\n",
       "      <td>0.0</td>\n",
       "      <td>0.0</td>\n",
       "      <td>0.0</td>\n",
       "      <td>0.0</td>\n",
       "      <td>0.0</td>\n",
       "      <td>0.0</td>\n",
       "    </tr>\n",
       "    <tr>\n",
       "      <th>4</th>\n",
       "      <td>DB00014</td>\n",
       "      <td>DOID:0060073</td>\n",
       "      <td>0.000000</td>\n",
       "      <td>0.000000</td>\n",
       "      <td>0.000000</td>\n",
       "      <td>0.0</td>\n",
       "      <td>0.000000</td>\n",
       "      <td>0.0</td>\n",
       "      <td>0.0</td>\n",
       "      <td>0.000000</td>\n",
       "      <td>...</td>\n",
       "      <td>0.0</td>\n",
       "      <td>0.0</td>\n",
       "      <td>0.0</td>\n",
       "      <td>0.0</td>\n",
       "      <td>0.0</td>\n",
       "      <td>0.0</td>\n",
       "      <td>0.0</td>\n",
       "      <td>0.0</td>\n",
       "      <td>0.0</td>\n",
       "      <td>0.0</td>\n",
       "    </tr>\n",
       "  </tbody>\n",
       "</table>\n",
       "<p>5 rows × 1172 columns</p>\n",
       "</div>"
      ],
      "text/plain": [
       "  compound       disease  CuGuDuGuD  CuGuDuGdD  CuGuDuGaD  CuGuDtCtD  \\\n",
       "0  DB00014  DOID:0050156   0.001791   0.000662   0.000216        0.0   \n",
       "1  DB00014  DOID:0050425   0.000000   0.000000   0.000000        0.0   \n",
       "2  DB00014  DOID:0050741   0.001160   0.000211   0.000000        0.0   \n",
       "3  DB00014  DOID:0050742   0.001002   0.000816   0.000000        0.0   \n",
       "4  DB00014  DOID:0060073   0.000000   0.000000   0.000000        0.0   \n",
       "\n",
       "   CuGuDtCpD  CuGuDrDrD  CuGuDrD  CuGuDpSpD     ...       CbG<rGcGuD  \\\n",
       "0   0.002885        0.0      0.0   0.000000     ...              0.0   \n",
       "1   0.000000        0.0      0.0   0.000000     ...              0.0   \n",
       "2   0.000000        0.0      0.0   0.000413     ...              0.0   \n",
       "3   0.008050        0.0      0.0   0.000000     ...              0.0   \n",
       "4   0.000000        0.0      0.0   0.000000     ...              0.0   \n",
       "\n",
       "   CbG<rGcGdD  CbG<rGcGaD  CbG<rGbCtD  CbG<rGbCpD  CbG<rGaDrD  CbG<rGaD  \\\n",
       "0         0.0         0.0         0.0         0.0         0.0       0.0   \n",
       "1         0.0         0.0         0.0         0.0         0.0       0.0   \n",
       "2         0.0         0.0         0.0         0.0         0.0       0.0   \n",
       "3         0.0         0.0         0.0         0.0         0.0       0.0   \n",
       "4         0.0         0.0         0.0         0.0         0.0       0.0   \n",
       "\n",
       "   CbG<rG<rGuD  CbG<rG<rGdD  CbG<rG<rGaD  \n",
       "0          0.0          0.0          0.0  \n",
       "1          0.0          0.0          0.0  \n",
       "2          0.0          0.0          0.0  \n",
       "3          0.0          0.0          0.0  \n",
       "4          0.0          0.0          0.0  \n",
       "\n",
       "[5 rows x 1172 columns]"
      ]
     },
     "execution_count": 18,
     "metadata": {},
     "output_type": "execute_result"
    }
   ],
   "source": [
    "dwpc_matrices = dwpc_matrices.ix[:, colnames]\n",
    "dwpc_matrices.head()"
   ]
  },
  {
   "cell_type": "code",
   "execution_count": 20,
   "metadata": {},
   "outputs": [
    {
     "data": {
      "text/plain": [
       "(212624, 1172)"
      ]
     },
     "execution_count": 20,
     "metadata": {},
     "output_type": "execute_result"
    }
   ],
   "source": [
    "dwpc_matrices.shape"
   ]
  },
  {
   "cell_type": "code",
   "execution_count": 19,
   "metadata": {},
   "outputs": [
    {
     "name": "stdout",
     "output_type": "stream",
     "text": [
      "CPU times: user 3min 47s, sys: 2.52 s, total: 3min 49s\n",
      "Wall time: 3min 50s\n"
     ]
    }
   ],
   "source": [
    "%%time\n",
    "dwpc_matrices.to_csv(path_or_buf='data/dwpc_data.tsv', sep='\\t', float_format='%.6g', index=False)"
   ]
  },
  {
   "cell_type": "code",
   "execution_count": null,
   "metadata": {
    "collapsed": true
   },
   "outputs": [],
   "source": []
  }
 ],
 "metadata": {
  "kernelspec": {
   "display_name": "Python [conda env:hetmech]",
   "language": "python",
   "name": "conda-env-hetmech-py"
  },
  "language_info": {
   "codemirror_mode": {
    "name": "ipython",
    "version": 3
   },
   "file_extension": ".py",
   "mimetype": "text/x-python",
   "name": "python",
   "nbconvert_exporter": "python",
   "pygments_lexer": "ipython3",
   "version": "3.6.0"
  }
 },
 "nbformat": 4,
 "nbformat_minor": 2
}
