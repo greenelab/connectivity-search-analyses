{
 "cells": [
  {
   "cell_type": "markdown",
   "metadata": {},
   "source": [
    "# Generate Project Rephetio DWPCs using hetmech's matrix implementation"
   ]
  },
  {
   "cell_type": "code",
   "execution_count": 1,
   "metadata": {},
   "outputs": [],
   "source": [
    "import collections\n",
    "import itertools\n",
    "import pathlib\n",
    "\n",
    "import hetio.readwrite\n",
    "import numpy\n",
    "import pandas\n",
    "import requests\n",
    "import scipy.sparse\n",
    "import tqdm\n",
    "\n",
    "import hetmech.degree_weight"
   ]
  },
  {
   "cell_type": "markdown",
   "metadata": {},
   "source": [
    "## Load Hetionet v1.0"
   ]
  },
  {
   "cell_type": "code",
   "execution_count": 2,
   "metadata": {},
   "outputs": [
    {
     "name": "stdout",
     "output_type": "stream",
     "text": [
      "CPU times: user 1min 26s, sys: 2.3 s, total: 1min 28s\n",
      "Wall time: 1min 30s\n"
     ]
    }
   ],
   "source": [
    "%%time\n",
    "commit = '59c448fd912555f84b9822b4f49b431b696aea15'\n",
    "url = f'https://github.com/dhimmel/hetionet/raw/{commit}/hetnet/json/hetionet-v1.0.json.bz2'\n",
    "graph = hetio.readwrite.read_graph(url)\n",
    "metagraph = graph.metagraph"
   ]
  },
  {
   "cell_type": "markdown",
   "metadata": {},
   "source": [
    "## Load Project Rephetio metapaths"
   ]
  },
  {
   "cell_type": "code",
   "execution_count": 3,
   "metadata": {},
   "outputs": [
    {
     "data": {
      "text/plain": [
       "1206"
      ]
     },
     "execution_count": 3,
     "metadata": {},
     "output_type": "execute_result"
    }
   ],
   "source": [
    "commit = 'ef5f7a6b76b6a01499d65b95e3d7ca93ac5aba57'\n",
    "url = f'https://github.com/dhimmel/learn/raw/{commit}/all-features/data/metapaths.json'\n",
    "metapath_info = requests.get(url).json()\n",
    "len(metapath_info)"
   ]
  },
  {
   "cell_type": "markdown",
   "metadata": {},
   "source": [
    "## Categorize metapaths"
   ]
  },
  {
   "cell_type": "code",
   "execution_count": 4,
   "metadata": {},
   "outputs": [
    {
     "data": {
      "text/html": [
       "<div>\n",
       "<style scoped>\n",
       "    .dataframe tbody tr th:only-of-type {\n",
       "        vertical-align: middle;\n",
       "    }\n",
       "\n",
       "    .dataframe tbody tr th {\n",
       "        vertical-align: top;\n",
       "    }\n",
       "\n",
       "    .dataframe thead th {\n",
       "        text-align: right;\n",
       "    }\n",
       "</style>\n",
       "<table border=\"1\" class=\"dataframe\">\n",
       "  <thead>\n",
       "    <tr style=\"text-align: right;\">\n",
       "      <th></th>\n",
       "      <th>abbreviation</th>\n",
       "      <th>category</th>\n",
       "      <th>dwpc_query</th>\n",
       "      <th>edge_abbreviations</th>\n",
       "      <th>edges</th>\n",
       "      <th>join_complexities</th>\n",
       "      <th>length</th>\n",
       "      <th>metapath</th>\n",
       "      <th>midpoint_index</th>\n",
       "      <th>optimal_join_index</th>\n",
       "      <th>standard_edge_abbreviations</th>\n",
       "      <th>standard_edges</th>\n",
       "    </tr>\n",
       "  </thead>\n",
       "  <tbody>\n",
       "    <tr>\n",
       "      <th>0</th>\n",
       "      <td>CbGaD</td>\n",
       "      <td>no_repeats</td>\n",
       "      <td>MATCH path = (n0:Compound)-[:BINDS_CbG]-(n1)-[...</td>\n",
       "      <td>[CbG, GaD]</td>\n",
       "      <td>[Compound - binds - Gene, Gene - associates - ...</td>\n",
       "      <td>[1.706732543946901, 1.9982341667905623, 0.6525...</td>\n",
       "      <td>2</td>\n",
       "      <td>(Compound - binds - Gene, Gene - associates - ...</td>\n",
       "      <td>1</td>\n",
       "      <td>2</td>\n",
       "      <td>[CbG, DaG]</td>\n",
       "      <td>[Compound - binds - Gene, Disease - associates...</td>\n",
       "    </tr>\n",
       "    <tr>\n",
       "      <th>1</th>\n",
       "      <td>CbGdD</td>\n",
       "      <td>no_repeats</td>\n",
       "      <td>MATCH path = (n0:Compound)-[:BINDS_CbG]-(n1)-[...</td>\n",
       "      <td>[CbG, GdD]</td>\n",
       "      <td>[Compound - binds - Gene, Gene - downregulates...</td>\n",
       "      <td>[1.487695881502091, 1.8000147471813792, 0.4335...</td>\n",
       "      <td>2</td>\n",
       "      <td>(Compound - binds - Gene, Gene - downregulates...</td>\n",
       "      <td>1</td>\n",
       "      <td>2</td>\n",
       "      <td>[CbG, DdG]</td>\n",
       "      <td>[Compound - binds - Gene, Disease - downregula...</td>\n",
       "    </tr>\n",
       "  </tbody>\n",
       "</table>\n",
       "</div>"
      ],
      "text/plain": [
       "  abbreviation    category                                         dwpc_query  \\\n",
       "0        CbGaD  no_repeats  MATCH path = (n0:Compound)-[:BINDS_CbG]-(n1)-[...   \n",
       "1        CbGdD  no_repeats  MATCH path = (n0:Compound)-[:BINDS_CbG]-(n1)-[...   \n",
       "\n",
       "  edge_abbreviations                                              edges  \\\n",
       "0         [CbG, GaD]  [Compound - binds - Gene, Gene - associates - ...   \n",
       "1         [CbG, GdD]  [Compound - binds - Gene, Gene - downregulates...   \n",
       "\n",
       "                                   join_complexities  length  \\\n",
       "0  [1.706732543946901, 1.9982341667905623, 0.6525...       2   \n",
       "1  [1.487695881502091, 1.8000147471813792, 0.4335...       2   \n",
       "\n",
       "                                            metapath  midpoint_index  \\\n",
       "0  (Compound - binds - Gene, Gene - associates - ...               1   \n",
       "1  (Compound - binds - Gene, Gene - downregulates...               1   \n",
       "\n",
       "   optimal_join_index standard_edge_abbreviations  \\\n",
       "0                   2                  [CbG, DaG]   \n",
       "1                   2                  [CbG, DdG]   \n",
       "\n",
       "                                      standard_edges  \n",
       "0  [Compound - binds - Gene, Disease - associates...  \n",
       "1  [Compound - binds - Gene, Disease - downregula...  "
      ]
     },
     "execution_count": 4,
     "metadata": {},
     "output_type": "execute_result"
    }
   ],
   "source": [
    "for info in metapath_info:\n",
    "    metapath = metagraph.metapath_from_abbrev(info['abbreviation'])\n",
    "    info['metapath'] = metapath\n",
    "    info['category'] = hetmech.degree_weight.categorize(metapath)\n",
    "\n",
    "metapath_df = pandas.DataFrame(metapath_info)\n",
    "metapath_df.head(2)"
   ]
  },
  {
   "cell_type": "code",
   "execution_count": 5,
   "metadata": {},
   "outputs": [
    {
     "data": {
      "text/plain": [
       "1206"
      ]
     },
     "execution_count": 5,
     "metadata": {},
     "output_type": "execute_result"
    }
   ],
   "source": [
    "len(metapath_info)"
   ]
  },
  {
   "cell_type": "code",
   "execution_count": 6,
   "metadata": {},
   "outputs": [
    {
     "data": {
      "text/plain": [
       "short_repeat    599\n",
       "BABA            278\n",
       "BAAB            144\n",
       "disjoint        131\n",
       "other            32\n",
       "no_repeats       18\n",
       "long_repeat       4\n",
       "Name: category, dtype: int64"
      ]
     },
     "execution_count": 6,
     "metadata": {},
     "output_type": "execute_result"
    }
   ],
   "source": [
    "metapath_df.category.value_counts()"
   ]
  },
  {
   "cell_type": "code",
   "execution_count": 7,
   "metadata": {},
   "outputs": [
    {
     "data": {
      "text/plain": [
       "short_repeat    49.7%\n",
       "BABA            23.1%\n",
       "BAAB            11.9%\n",
       "disjoint        10.9%\n",
       "other            2.7%\n",
       "no_repeats       1.5%\n",
       "long_repeat      0.3%\n",
       "Name: category, dtype: object"
      ]
     },
     "execution_count": 7,
     "metadata": {},
     "output_type": "execute_result"
    }
   ],
   "source": [
    "metapath_df.category.value_counts(normalize=True).map('{:.1%}'.format)"
   ]
  },
  {
   "cell_type": "markdown",
   "metadata": {},
   "source": [
    "## Compute DWPCs"
   ]
  },
  {
   "cell_type": "code",
   "execution_count": 8,
   "metadata": {
    "scrolled": true
   },
   "outputs": [
    {
     "data": {
      "application/vnd.jupyter.widget-view+json": {
       "model_id": "f2e62965af554884b67a8e4f4044f854",
       "version_major": 2,
       "version_minor": 0
      },
      "text/html": [
       "<p>Failed to display Jupyter Widget of type <code>HBox</code>.</p>\n",
       "<p>\n",
       "  If you're reading this message in the Jupyter Notebook or JupyterLab Notebook, it may mean\n",
       "  that the widgets JavaScript is still loading. If this message persists, it\n",
       "  likely means that the widgets JavaScript library is either not installed or\n",
       "  not enabled. See the <a href=\"https://ipywidgets.readthedocs.io/en/stable/user_install.html\">Jupyter\n",
       "  Widgets Documentation</a> for setup instructions.\n",
       "</p>\n",
       "<p>\n",
       "  If you're reading this message in another frontend (for example, a static\n",
       "  rendering on GitHub or <a href=\"https://nbviewer.jupyter.org/\">NBViewer</a>),\n",
       "  it may mean that your frontend doesn't currently support widgets.\n",
       "</p>\n"
      ],
      "text/plain": [
       "HBox(children=(IntProgress(value=0, max=1206), HTML(value='')))"
      ]
     },
     "metadata": {},
     "output_type": "display_data"
    },
    {
     "name": "stdout",
     "output_type": "stream",
     "text": [
      "\n"
     ]
    }
   ],
   "source": [
    "exclude_categories = {'long_repeat', 'other'}\n",
    "for info in tqdm.tqdm_notebook(metapath_info):\n",
    "    if info['category'] in exclude_categories:\n",
    "        continue\n",
    "    metapath = info['metapath']\n",
    "    compounds, diseases, dwpc_matrix, seconds = hetmech.degree_weight.dwpc(\n",
    "        graph, metapath, damping=0.4, dense_threshold=1)\n",
    "    info['dwpc_matrix'] = dwpc_matrix\n",
    "    info['dwpc_hetmech_runtime'] = seconds"
   ]
  },
  {
   "cell_type": "code",
   "execution_count": 9,
   "metadata": {},
   "outputs": [
    {
     "data": {
      "text/html": [
       "<div>\n",
       "<style scoped>\n",
       "    .dataframe tbody tr th:only-of-type {\n",
       "        vertical-align: middle;\n",
       "    }\n",
       "\n",
       "    .dataframe tbody tr th {\n",
       "        vertical-align: top;\n",
       "    }\n",
       "\n",
       "    .dataframe thead th {\n",
       "        text-align: right;\n",
       "    }\n",
       "</style>\n",
       "<table border=\"1\" class=\"dataframe\">\n",
       "  <thead>\n",
       "    <tr style=\"text-align: right;\">\n",
       "      <th></th>\n",
       "      <th>abbreviation</th>\n",
       "      <th>category</th>\n",
       "      <th>length</th>\n",
       "      <th>dwpc_hetmech_runtime</th>\n",
       "    </tr>\n",
       "  </thead>\n",
       "  <tbody>\n",
       "    <tr>\n",
       "      <th>0</th>\n",
       "      <td>CbGaD</td>\n",
       "      <td>no_repeats</td>\n",
       "      <td>2</td>\n",
       "      <td>0.771515</td>\n",
       "    </tr>\n",
       "    <tr>\n",
       "      <th>1</th>\n",
       "      <td>CbGdD</td>\n",
       "      <td>no_repeats</td>\n",
       "      <td>2</td>\n",
       "      <td>0.729444</td>\n",
       "    </tr>\n",
       "  </tbody>\n",
       "</table>\n",
       "</div>"
      ],
      "text/plain": [
       "  abbreviation    category  length  dwpc_hetmech_runtime\n",
       "0        CbGaD  no_repeats       2              0.771515\n",
       "1        CbGdD  no_repeats       2              0.729444"
      ]
     },
     "execution_count": 9,
     "metadata": {},
     "output_type": "execute_result"
    }
   ],
   "source": [
    "runtime_df = pandas.DataFrame(metapath_info)[['abbreviation', 'category', 'length', 'dwpc_hetmech_runtime']]\n",
    "path = pathlib.Path('data/rephetio-DWPCs-hetmech-runtime.tsv')\n",
    "runtime_df.to_csv(path, sep='\\t', float_format='%.5g', index=False)\n",
    "runtime_df.head(2)"
   ]
  },
  {
   "cell_type": "markdown",
   "metadata": {},
   "source": [
    "### Save DWPC matrices as outputs in Compound-Disease pairs"
   ]
  },
  {
   "cell_type": "code",
   "execution_count": 10,
   "metadata": {},
   "outputs": [
    {
     "data": {
      "text/html": [
       "<div>\n",
       "<style scoped>\n",
       "    .dataframe tbody tr th:only-of-type {\n",
       "        vertical-align: middle;\n",
       "    }\n",
       "\n",
       "    .dataframe tbody tr th {\n",
       "        vertical-align: top;\n",
       "    }\n",
       "\n",
       "    .dataframe thead th {\n",
       "        text-align: right;\n",
       "    }\n",
       "</style>\n",
       "<table border=\"1\" class=\"dataframe\">\n",
       "  <thead>\n",
       "    <tr style=\"text-align: right;\">\n",
       "      <th></th>\n",
       "      <th>compound</th>\n",
       "      <th>disease</th>\n",
       "      <th>CbGaD</th>\n",
       "      <th>CbGdD</th>\n",
       "      <th>CbGuD</th>\n",
       "      <th>CdGaD</th>\n",
       "      <th>CdGdD</th>\n",
       "      <th>CdGuD</th>\n",
       "      <th>CpDrD</th>\n",
       "      <th>CrCpD</th>\n",
       "      <th>...</th>\n",
       "      <th>CuGuDlAlD</th>\n",
       "      <th>CuGuDpCpD</th>\n",
       "      <th>CuGuDpCtD</th>\n",
       "      <th>CuGuDpSpD</th>\n",
       "      <th>CuGuDrDrD</th>\n",
       "      <th>CuGuDtCpD</th>\n",
       "      <th>CuGuDtCtD</th>\n",
       "      <th>CuGuDuGaD</th>\n",
       "      <th>CuGuDuGdD</th>\n",
       "      <th>CuGuDuGuD</th>\n",
       "    </tr>\n",
       "  </thead>\n",
       "  <tbody>\n",
       "    <tr>\n",
       "      <th>0</th>\n",
       "      <td>DB00014</td>\n",
       "      <td>DOID:0050156</td>\n",
       "      <td>0.0</td>\n",
       "      <td>0.0</td>\n",
       "      <td>0.0</td>\n",
       "      <td>0.0</td>\n",
       "      <td>0.0</td>\n",
       "      <td>0.0</td>\n",
       "      <td>0.0</td>\n",
       "      <td>0.0</td>\n",
       "      <td>...</td>\n",
       "      <td>0.00000</td>\n",
       "      <td>0.0</td>\n",
       "      <td>0.0</td>\n",
       "      <td>0.0</td>\n",
       "      <td>0.0</td>\n",
       "      <td>0.002885</td>\n",
       "      <td>0.0</td>\n",
       "      <td>0.000216</td>\n",
       "      <td>0.000662</td>\n",
       "      <td>0.001791</td>\n",
       "    </tr>\n",
       "    <tr>\n",
       "      <th>1</th>\n",
       "      <td>DB00014</td>\n",
       "      <td>DOID:0050425</td>\n",
       "      <td>0.0</td>\n",
       "      <td>0.0</td>\n",
       "      <td>0.0</td>\n",
       "      <td>0.0</td>\n",
       "      <td>0.0</td>\n",
       "      <td>0.0</td>\n",
       "      <td>0.0</td>\n",
       "      <td>0.0</td>\n",
       "      <td>...</td>\n",
       "      <td>0.00023</td>\n",
       "      <td>0.0</td>\n",
       "      <td>0.0</td>\n",
       "      <td>0.0</td>\n",
       "      <td>0.0</td>\n",
       "      <td>0.000000</td>\n",
       "      <td>0.0</td>\n",
       "      <td>0.000000</td>\n",
       "      <td>0.000000</td>\n",
       "      <td>0.000000</td>\n",
       "    </tr>\n",
       "  </tbody>\n",
       "</table>\n",
       "<p>2 rows × 1172 columns</p>\n",
       "</div>"
      ],
      "text/plain": [
       "  compound       disease  CbGaD  CbGdD  CbGuD  CdGaD  CdGdD  CdGuD  CpDrD  \\\n",
       "0  DB00014  DOID:0050156    0.0    0.0    0.0    0.0    0.0    0.0    0.0   \n",
       "1  DB00014  DOID:0050425    0.0    0.0    0.0    0.0    0.0    0.0    0.0   \n",
       "\n",
       "   CrCpD    ...      CuGuDlAlD  CuGuDpCpD  CuGuDpCtD  CuGuDpSpD  CuGuDrDrD  \\\n",
       "0    0.0    ...        0.00000        0.0        0.0        0.0        0.0   \n",
       "1    0.0    ...        0.00023        0.0        0.0        0.0        0.0   \n",
       "\n",
       "   CuGuDtCpD  CuGuDtCtD  CuGuDuGaD  CuGuDuGdD  CuGuDuGuD  \n",
       "0   0.002885        0.0   0.000216   0.000662   0.001791  \n",
       "1   0.000000        0.0   0.000000   0.000000   0.000000  \n",
       "\n",
       "[2 rows x 1172 columns]"
      ]
     },
     "execution_count": 10,
     "metadata": {},
     "output_type": "execute_result"
    }
   ],
   "source": [
    "pairs = numpy.array(list(itertools.product(compounds, diseases)))\n",
    "columns = collections.OrderedDict({\n",
    "    'compound': pairs[:, 0],\n",
    "    'disease': pairs[:, 1],\n",
    "})\n",
    "\n",
    "for info in metapath_info:\n",
    "    if 'dwpc_matrix' not in info:\n",
    "        continue\n",
    "    matrix = info['dwpc_matrix']\n",
    "    if scipy.sparse.issparse(matrix):\n",
    "        matrix = matrix.toarray()\n",
    "    assert isinstance(matrix, numpy.ndarray)\n",
    "    columns[info['abbreviation']] = matrix.flatten(order='C').tolist()\n",
    "\n",
    "dwpc_df = pandas.DataFrame.from_dict(columns)\n",
    "dwpc_df.head(2)"
   ]
  },
  {
   "cell_type": "code",
   "execution_count": 11,
   "metadata": {},
   "outputs": [],
   "source": [
    "path = pathlib.Path('data/rephetio-DWPCs-hetmech.tsv.xz')\n",
    "dwpc_df.to_csv(path, sep='\\t', float_format='%.5g', index=False, compression='xz')"
   ]
  }
 ],
 "metadata": {
  "anaconda-cloud": {},
  "kernelspec": {
   "display_name": "Python [conda env:hetmech]",
   "language": "python",
   "name": "conda-env-hetmech-py"
  },
  "language_info": {
   "codemirror_mode": {
    "name": "ipython",
    "version": 3
   },
   "file_extension": ".py",
   "mimetype": "text/x-python",
   "name": "python",
   "nbconvert_exporter": "python",
   "pygments_lexer": "ipython3",
   "version": "3.6.4"
  }
 },
 "nbformat": 4,
 "nbformat_minor": 2
}
