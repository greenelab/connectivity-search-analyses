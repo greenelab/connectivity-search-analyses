{
 "cells": [
  {
   "cell_type": "markdown",
   "metadata": {},
   "source": [
    "# Export Hetionet v1.0 to an xarray.Dataset"
   ]
  },
  {
   "cell_type": "code",
   "execution_count": 1,
   "metadata": {},
   "outputs": [],
   "source": [
    "import os\n",
    "import pickle\n",
    "import gzip\n",
    "\n",
    "import hetio.readwrite\n",
    "\n",
    "from hetmech.xarray import graph_to_xarray"
   ]
  },
  {
   "cell_type": "markdown",
   "metadata": {},
   "source": [
    "## Load Hetionet v1.0"
   ]
  },
  {
   "cell_type": "code",
   "execution_count": 2,
   "metadata": {},
   "outputs": [],
   "source": [
    "url = 'https://github.com/dhimmel/hetionet/raw/76550e6c93fbe92124edc71725e8c7dd4ca8b1f5/hetnet/json/hetionet-v1.0.json.bz2'\n",
    "graph = hetio.readwrite.read_graph(url)\n",
    "metagraph = graph.metagraph"
   ]
  },
  {
   "cell_type": "markdown",
   "metadata": {},
   "source": [
    "## Create xarray.Dataset"
   ]
  },
  {
   "cell_type": "code",
   "execution_count": 3,
   "metadata": {},
   "outputs": [],
   "source": [
    "dataset = graph_to_xarray(graph)"
   ]
  },
  {
   "cell_type": "code",
   "execution_count": 4,
   "metadata": {},
   "outputs": [
    {
     "data": {
      "text/plain": [
       "<xarray.Dataset>\n",
       "Dimensions:              (Anatomy: 402, Biological Process: 11381, Cellular Component: 1391, Compound: 1552, Disease: 137, Gene: 20945, Molecular Function: 2884, Pathway: 1822, Pharmacologic Class: 345, Side Effect: 5734, Symptom: 438)\n",
       "Coordinates:\n",
       "  * Anatomy              (Anatomy) <U14 'UBERON:0000002' 'UBERON:0000004' ...\n",
       "  * Gene                 (Gene) int64 1 2 9 10 12 13 14 15 16 18 19 20 21 22 ...\n",
       "  * Compound             (Compound) <U7 'DB00014' 'DB00035' 'DB00050' ...\n",
       "  * Disease              (Disease) <U12 'DOID:0050156' 'DOID:0050425' ...\n",
       "  * Side Effect          (Side Effect) <U8 'C0000727' 'C0000729' 'C0000731' ...\n",
       "  * Symptom              (Symptom) <U7 'D000006' 'D000270' 'D000326' ...\n",
       "  * Biological Process   (Biological Process) <U10 'GO:0000002' 'GO:0000012' ...\n",
       "  * Cellular Component   (Cellular Component) <U10 'GO:0000015' 'GO:0000109' ...\n",
       "  * Molecular Function   (Molecular Function) <U10 'GO:0000010' 'GO:0000014' ...\n",
       "  * Pathway              (Pathway) <U13 'PC7_10399' 'PC7_10400' 'PC7_10442' ...\n",
       "  * Pharmacologic Class  (Pharmacologic Class) <U11 'N0000000069' ...\n",
       "Data variables:\n",
       "    AdG                  (Anatomy, Gene) bool False False False False False ...\n",
       "    AeG                  (Anatomy, Gene) bool False True True False False ...\n",
       "    AuG                  (Anatomy, Gene) bool False True False False False ...\n",
       "    CrC                  (Compound, Compound) bool False False True False ...\n",
       "    CpD                  (Compound, Disease) bool False False False False ...\n",
       "    CtD                  (Compound, Disease) bool False False False False ...\n",
       "    CbG                  (Compound, Gene) bool False False False False False ...\n",
       "    CdG                  (Compound, Gene) bool False False False False False ...\n",
       "    CuG                  (Compound, Gene) bool False False False False False ...\n",
       "    CcSE                 (Compound, Side Effect) bool False False False ...\n",
       "    DlA                  (Disease, Anatomy) bool False False False False ...\n",
       "    DrD                  (Disease, Disease) bool False False False False ...\n",
       "    DaG                  (Disease, Gene) bool False False False False False ...\n",
       "    DdG                  (Disease, Gene) bool False False False False False ...\n",
       "    DuG                  (Disease, Gene) bool False False False False False ...\n",
       "    DpS                  (Disease, Symptom) bool False False False False ...\n",
       "    GpBP                 (Gene, Biological Process) bool False False False ...\n",
       "    GpCC                 (Gene, Cellular Component) bool False False False ...\n",
       "    GcG                  (Gene, Gene) bool False False False False False ...\n",
       "    GiG                  (Gene, Gene) bool False False False False False ...\n",
       "    Gr>G                 (Gene, Gene) bool False False False False False ...\n",
       "    GpMF                 (Gene, Molecular Function) bool False False False ...\n",
       "    GpPW                 (Gene, Pathway) bool False False False False False ...\n",
       "    PCiC                 (Pharmacologic Class, Compound) bool False False ..."
      ]
     },
     "execution_count": 4,
     "metadata": {},
     "output_type": "execute_result"
    }
   ],
   "source": [
    "dataset"
   ]
  },
  {
   "cell_type": "code",
   "execution_count": 5,
   "metadata": {},
   "outputs": [
    {
     "data": {
      "text/plain": [
       "<xarray.DataArray 'Biological Process' (Biological Process: 11381)>\n",
       "array(['GO:0000002', 'GO:0000012', 'GO:0000018', ..., 'GO:2001301',\n",
       "       'GO:2001302', 'GO:2001303'], dtype='<U10')\n",
       "Coordinates:\n",
       "  * Biological Process  (Biological Process) <U10 'GO:0000002' 'GO:0000012' ..."
      ]
     },
     "execution_count": 5,
     "metadata": {},
     "output_type": "execute_result"
    }
   ],
   "source": [
    "dataset['Biological Process']"
   ]
  },
  {
   "cell_type": "code",
   "execution_count": 6,
   "metadata": {},
   "outputs": [
    {
     "data": {
      "text/plain": [
       "<xarray.DataArray 'Gr>G' (Gene: 20945)>\n",
       "array([[False, False, False, ..., False, False, False],\n",
       "       [False, False, False, ..., False, False, False],\n",
       "       [False, False, False, ..., False, False, False],\n",
       "       ...,\n",
       "       [False, False, False, ..., False, False, False],\n",
       "       [False, False, False, ..., False, False, False],\n",
       "       [False, False, False, ..., False, False, False]])\n",
       "Coordinates:\n",
       "  * Gene     (Gene) int64 1 2 9 10 12 13 14 15 16 18 19 20 21 22 23 24 25 26 ..."
      ]
     },
     "execution_count": 6,
     "metadata": {},
     "output_type": "execute_result"
    }
   ],
   "source": [
    "dataset['Gr>G']"
   ]
  },
  {
   "cell_type": "code",
   "execution_count": 7,
   "metadata": {},
   "outputs": [
    {
     "data": {
      "text/plain": [
       "<xarray.DataArray 'Gene' (Gene: 20945)>\n",
       "array([        1,         2,         9, ..., 105379874, 105379878, 105379886])\n",
       "Coordinates:\n",
       "  * Gene     (Gene) int64 1 2 9 10 12 13 14 15 16 18 19 20 21 22 23 24 25 26 ..."
      ]
     },
     "execution_count": 7,
     "metadata": {},
     "output_type": "execute_result"
    }
   ],
   "source": [
    "dataset.Gene"
   ]
  },
  {
   "cell_type": "code",
   "execution_count": 8,
   "metadata": {},
   "outputs": [
    {
     "data": {
      "text/plain": [
       "<xarray.Dataset>\n",
       "Dimensions:  ()\n",
       "Data variables:\n",
       "    AdG      float64 0.01214\n",
       "    AeG      float64 0.06252\n",
       "    AuG      float64 0.01162\n",
       "    CrC      float64 0.005385\n",
       "    CpD      float64 0.001834\n",
       "    CtD      float64 0.003551\n",
       "    CbG      float64 0.000356\n",
       "    CdG      float64 0.0006492\n",
       "    CuG      float64 0.000577\n",
       "    CcSE     float64 0.01561\n",
       "    DlA      float64 0.0654\n",
       "    DrD      float64 0.05786\n",
       "    DaG      float64 0.004399\n",
       "    DdG      float64 0.002657\n",
       "    DuG      float64 0.002694\n",
       "    DpS      float64 0.05594\n",
       "    GpBP     float64 0.002347\n",
       "    GpCC     float64 0.002525\n",
       "    GcG      float64 0.0002812\n",
       "    GiG      float64 0.0006709\n",
       "    Gr>G     float64 0.0006056\n",
       "    GpMF     float64 0.001609\n",
       "    GpPW     float64 0.002211\n",
       "    PCiC     float64 0.001922"
      ]
     },
     "execution_count": 8,
     "metadata": {},
     "output_type": "execute_result"
    }
   ],
   "source": [
    "# Density of each metaedge\n",
    "dataset.mean()"
   ]
  },
  {
   "cell_type": "markdown",
   "metadata": {},
   "source": [
    "## Dataset IO"
   ]
  },
  {
   "cell_type": "code",
   "execution_count": 9,
   "metadata": {},
   "outputs": [],
   "source": [
    "# netcdf file was humongous. Avoid!\n",
    "# dataset.to_netcdf('xarray_dataset.nc')"
   ]
  },
  {
   "cell_type": "code",
   "execution_count": 10,
   "metadata": {},
   "outputs": [],
   "source": [
    "path = os.path.join('data', 'xarray_dataset.pkl.gz')"
   ]
  },
  {
   "cell_type": "code",
   "execution_count": 11,
   "metadata": {},
   "outputs": [],
   "source": [
    "# Save as pickle\n",
    "with gzip.open(path, 'wb') as write_file:\n",
    "    pickle.dump(dataset, write_file, protocol=pickle.HIGHEST_PROTOCOL)"
   ]
  },
  {
   "cell_type": "code",
   "execution_count": 12,
   "metadata": {},
   "outputs": [],
   "source": [
    "# Read pickle\n",
    "with gzip.open(path) as read_file:\n",
    "    dataset = pickle.load(read_file)"
   ]
  }
 ],
 "metadata": {
  "kernelspec": {
   "display_name": "Python [conda env:hetmech]",
   "language": "python",
   "name": "conda-env-hetmech-py"
  },
  "language_info": {
   "codemirror_mode": {
    "name": "ipython",
    "version": 3
   },
   "file_extension": ".py",
   "mimetype": "text/x-python",
   "name": "python",
   "nbconvert_exporter": "python",
   "pygments_lexer": "ipython3",
   "version": "3.6.4"
  }
 },
 "nbformat": 4,
 "nbformat_minor": 2
}
