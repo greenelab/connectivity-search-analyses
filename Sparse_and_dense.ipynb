{
 "cells": [
  {
   "cell_type": "code",
   "execution_count": 41,
   "metadata": {},
   "outputs": [],
   "source": [
    "import numpy as np\n",
    "from scipy import sparse\n",
    "import sys\n",
    "import os\n",
    "import time"
   ]
  },
  {
   "cell_type": "code",
   "execution_count": 89,
   "metadata": {},
   "outputs": [],
   "source": [
    "np.random.seed(0)"
   ]
  },
  {
   "cell_type": "markdown",
   "metadata": {},
   "source": [
    "## Sparse .npz (compressed) takes the least disk space regardless of density\n",
    "Uncompressed sparse matrices take more disk space when the matrices are very dense"
   ]
  },
  {
   "cell_type": "code",
   "execution_count": 40,
   "metadata": {},
   "outputs": [
    {
     "name": "stdout",
     "output_type": "stream",
     "text": [
      "CCpGeAeGaD (1391, 137)\n",
      "density: 97.8 %\n",
      "dense: 1.525 MB\n",
      "sparse: 1.347 MB\n",
      "sparse_uncompressed: 2.238 MB\n",
      "\n",
      "DaGpBP (137, 11381)\n",
      "density: 21.0 %\n",
      "dense: 12.47 MB\n",
      "sparse: 2.529 MB\n",
      "sparse_uncompressed: 3.982 MB\n",
      "\n",
      "MFpGdCcSE (2884, 5734)\n",
      "density: 14.1 %\n",
      "dense: 132.3 MB\n",
      "sparse: 17.79 MB\n",
      "sparse_uncompressed: 27.99 MB\n",
      "\n"
     ]
    }
   ],
   "source": [
    "for i in ['CCpGeAeGaD', 'DaGpBP', 'MFpGdCcSE']:\n",
    "    mat = np.load(f'data/{i}.npy')\n",
    "    print(i, mat.shape)\n",
    "    \n",
    "    density = 100 * (mat != 0).sum() / np.prod(mat.shape)\n",
    "    print(f'density: {density :.3} %')\n",
    "\n",
    "    sparse_mat = sparse.csc_matrix(mat, copy=True)\n",
    "\n",
    "    sparse.save_npz(f'data/{i}_sparse', sparse_mat)\n",
    "    sparse.save_npz(f'data/{i}_sparse_un', sparse_mat, compressed=False)\n",
    "    \n",
    "    dense_size = os.path.getsize(f'data/{i}.npy') / 1000000\n",
    "    sparse_size = os.path.getsize(f'data/{i}_sparse.npz') / 1000000\n",
    "    sparse_un_size = os.path.getsize(f'data/{i}_sparse_un.npz') / 1000000\n",
    "    print(f'dense: {dense_size :.4} MB\\nsparse: {sparse_size :.4} MB\\nsparse_uncompressed: {sparse_un_size :.4} MB\\n')"
   ]
  },
  {
   "cell_type": "markdown",
   "metadata": {},
   "source": [
    "## Memory-map reduces matrix-vector multiplication time for lower-density matrices\n",
    "\n",
    "Putting a normal load above a memmap load decreases memmap load time. However, loading memmap first does not speed up normal load times. Note, this only appears to be the case for very dense matrices. For best comparisons, we should always load a memmap matrix first in the sequence."
   ]
  },
  {
   "cell_type": "code",
   "execution_count": 110,
   "metadata": {
    "scrolled": true
   },
   "outputs": [
    {
     "name": "stdout",
     "output_type": "stream",
     "text": [
      "CCpGeAeGaD\n",
      "density: 97.8 %\n",
      "Normal: 0.000523 sec\n",
      "MMAP: 0.00355 sec\n",
      "MMAP2: 0.000354 sec\n",
      "\n",
      "DaGpBP\n",
      "density: 21.0 %\n",
      "Normal: 0.00228 sec\n",
      "MMAP: 0.00106 sec\n",
      "MMAP2: 0.00104 sec\n",
      "\n",
      "MFpGdCcSE\n",
      "density: 14.1 %\n",
      "Normal: 0.0234 sec\n",
      "MMAP: 0.00703 sec\n",
      "MMAP2: 0.00711 sec\n",
      "\n"
     ]
    }
   ],
   "source": [
    "for i in ['CCpGeAeGaD', 'DaGpBP', 'MFpGdCcSE']:\n",
    "    print(i)\n",
    "    mat = np.load(f'data/{i}.npy')\n",
    "    \n",
    "    density = 100 * (mat != 0).sum() / np.prod(mat.shape)\n",
    "    print(f'density: {density :.3} %')\n",
    "\n",
    "#     Create a vector to multiply\n",
    "    vector_size = mat.shape[0]\n",
    "    vec = np.zeros((1, vector_size))\n",
    "#     4 search nodes\n",
    "    indices = np.random.randint(0, high=vector_size, size=4)\n",
    "    vec[0, indices] = 1\n",
    "    del mat\n",
    "    \n",
    "    t1 = time.time()\n",
    "    matrix = np.load(f'data/{i}.npy', mmap_mode='r')\n",
    "    output = vec @ matrix\n",
    "    t2 = time.time()\n",
    "    time_2 = t2 - t1\n",
    "    del matrix\n",
    "    del output\n",
    "    \n",
    "    t1 = time.time()\n",
    "    matrix = np.load(f'data/{i}.npy', mmap_mode=None)\n",
    "    output = vec @ matrix\n",
    "    t2 = time.time()\n",
    "    time_1 = t2 - t1\n",
    "    del matrix\n",
    "    del output\n",
    "    \n",
    "#     Second memory-map load time for comparison\n",
    "    t1 = time.time()\n",
    "    matrix = np.load(f'data/{i}.npy', mmap_mode='r')\n",
    "    output = vec @ matrix\n",
    "    t2 = time.time()\n",
    "    time_3 = t2 - t1\n",
    "    del matrix\n",
    "    del output\n",
    "    \n",
    "    print(f'Normal: {time_1 :.3} sec\\nMMAP: {time_2 :.3} sec\\nMMAP2: {time_3 :.3} sec\\n')"
   ]
  },
  {
   "cell_type": "markdown",
   "metadata": {},
   "source": [
    "## Sparse (uncompressed/compressed) vs Dense\n",
    "\n",
    "Uncompressed sparse matrices load and multiply about as quickly as dense matrices. The order of matrix reads does not change for sparse reads from npz files. Compressed sparse matrices take an order of magnitude more time to load and multiply."
   ]
  },
  {
   "cell_type": "code",
   "execution_count": 112,
   "metadata": {},
   "outputs": [
    {
     "name": "stdout",
     "output_type": "stream",
     "text": [
      "CCpGeAeGaD\n",
      "density: 97.8 %\n",
      "Dense No Memmap: 0.0038 sec\n",
      "Compressed Sparse: 0.0173 sec\n",
      "Uncompressed Sparse: 0.00397 sec\n",
      "\n",
      "DaGpBP\n",
      "density: 21.0 %\n",
      "Dense No Memmap: 0.00248 sec\n",
      "Compressed Sparse: 0.0311 sec\n",
      "Uncompressed Sparse: 0.00623 sec\n",
      "\n",
      "MFpGdCcSE\n",
      "density: 14.1 %\n",
      "Dense No Memmap: 0.0223 sec\n",
      "Compressed Sparse: 0.211 sec\n",
      "Uncompressed Sparse: 0.0351 sec\n",
      "\n"
     ]
    }
   ],
   "source": [
    "for i in ['CCpGeAeGaD', 'DaGpBP', 'MFpGdCcSE']:\n",
    "    print(i)\n",
    "    mat = np.load(f'data/{i}.npy')\n",
    "    \n",
    "    density = 100 * (mat != 0).sum() / np.prod(mat.shape)\n",
    "    print(f'density: {density :.3} %')\n",
    "\n",
    "#     Create a vector to multiply\n",
    "    vector_size = mat.shape[0]\n",
    "    vec = np.zeros((1, vector_size))\n",
    "#     4 search nodes\n",
    "    indices = np.random.randint(0, high=vector_size, size=4)\n",
    "    vec[0, indices] = 1\n",
    "    del mat\n",
    "    \n",
    "    t1 = time.time()\n",
    "    matrix = np.load(f'data/{i}.npy')\n",
    "    output = vec @ matrix\n",
    "    t2 = time.time()\n",
    "    time_1 = t2 - t1\n",
    "    del matrix\n",
    "    del output\n",
    "    \n",
    "    t1 = time.time()\n",
    "    matrix = sparse.load_npz(f'data/{i}_sparse.npz')\n",
    "    output = vec @ matrix\n",
    "    t2 = time.time()\n",
    "    time_2 = t2 - t1\n",
    "    del matrix\n",
    "    del output\n",
    "    \n",
    "    t1 = time.time()\n",
    "    matrix = sparse.load_npz(f'data/{i}_sparse_un.npz')\n",
    "    output = vec @ matrix\n",
    "    t2 = time.time()\n",
    "    time_3 = t2 - t1\n",
    "    del matrix\n",
    "    del output\n",
    "    \n",
    "    print(f'Dense No Memmap: {time_1 :.3} sec\\nCompressed Sparse: {time_2 :.3} sec\\nUncompressed Sparse: {time_3 :.3} sec\\n')"
   ]
  },
  {
   "cell_type": "code",
   "execution_count": null,
   "metadata": {},
   "outputs": [],
   "source": []
  },
  {
   "cell_type": "code",
   "execution_count": null,
   "metadata": {},
   "outputs": [],
   "source": []
  },
  {
   "cell_type": "code",
   "execution_count": null,
   "metadata": {},
   "outputs": [],
   "source": []
  },
  {
   "cell_type": "code",
   "execution_count": null,
   "metadata": {},
   "outputs": [],
   "source": []
  },
  {
   "cell_type": "code",
   "execution_count": null,
   "metadata": {},
   "outputs": [],
   "source": []
  },
  {
   "cell_type": "code",
   "execution_count": null,
   "metadata": {},
   "outputs": [],
   "source": []
  },
  {
   "cell_type": "code",
   "execution_count": null,
   "metadata": {},
   "outputs": [],
   "source": []
  }
 ],
 "metadata": {
  "kernelspec": {
   "display_name": "Python [conda env:hetmech]",
   "language": "python",
   "name": "conda-env-hetmech-py"
  },
  "language_info": {
   "codemirror_mode": {
    "name": "ipython",
    "version": 3
   },
   "file_extension": ".py",
   "mimetype": "text/x-python",
   "name": "python",
   "nbconvert_exporter": "python",
   "pygments_lexer": "ipython3",
   "version": "3.6.4"
  }
 },
 "nbformat": 4,
 "nbformat_minor": 2
}
