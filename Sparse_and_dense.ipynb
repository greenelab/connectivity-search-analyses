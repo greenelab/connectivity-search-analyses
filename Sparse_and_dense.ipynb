{
 "cells": [
  {
   "cell_type": "code",
   "execution_count": 1,
   "metadata": {},
   "outputs": [],
   "source": [
    "import numpy as np\n",
    "from scipy import sparse\n",
    "import sys\n",
    "import os\n",
    "import time"
   ]
  },
  {
   "cell_type": "code",
   "execution_count": 2,
   "metadata": {},
   "outputs": [],
   "source": [
    "np.random.seed(0)"
   ]
  },
  {
   "cell_type": "markdown",
   "metadata": {},
   "source": [
    "## Sparse .npz (compressed) takes the least disk space regardless of density\n",
    "Uncompressed sparse matrices take more disk space when the matrices are very dense"
   ]
  },
  {
   "cell_type": "code",
   "execution_count": null,
   "metadata": {},
   "outputs": [
    {
     "name": "stdout",
     "output_type": "stream",
     "text": [
      "CCpGeAeGaD (1391, 137)\n",
      "density: 97.8 %\n",
      "dense: 1.525 MB\n",
      "sparse: 1.347 MB\n",
      "sparse_uncompressed: 2.238 MB\n",
      "\n",
      "DaGpBP (137, 11381)\n",
      "density: 21.0 %\n",
      "dense: 12.47 MB\n",
      "sparse: 2.529 MB\n",
      "sparse_uncompressed: 3.982 MB\n",
      "\n",
      "MFpGdCcSE (2884, 5734)\n",
      "density: 14.1 %\n",
      "dense: 132.3 MB\n",
      "sparse: 17.79 MB\n",
      "sparse_uncompressed: 27.99 MB\n",
      "\n",
      "GiGpBP (20945, 11381)\n",
      "density: 4.65 %\n"
     ]
    }
   ],
   "source": [
    "for i in ['CCpGeAeGaD', 'DaGpBP', 'MFpGdCcSE', 'GiGpBP']:\n",
    "    mat = np.load(f'data/{i}.npy')\n",
    "    print(i, mat.shape)\n",
    "    \n",
    "    density = 100 * (mat != 0).sum() / np.prod(mat.shape)\n",
    "    print(f'density: {density :.3} %')\n",
    "\n",
    "    sparse_mat = sparse.csc_matrix(mat, copy=True)\n",
    "\n",
    "    sparse.save_npz(f'data/{i}_sparse', sparse_mat)\n",
    "    sparse.save_npz(f'data/{i}_sparse_un', sparse_mat, compressed=False)\n",
    "    \n",
    "    dense_size = os.path.getsize(f'data/{i}.npy') / 1000000\n",
    "    sparse_size = os.path.getsize(f'data/{i}_sparse.npz') / 1000000\n",
    "    sparse_un_size = os.path.getsize(f'data/{i}_sparse_un.npz') / 1000000\n",
    "    print(f'dense: {dense_size :.4} MB\\nsparse: {sparse_size :.4} MB\\nsparse_uncompressed: {sparse_un_size :.4} MB\\n')"
   ]
  },
  {
   "cell_type": "markdown",
   "metadata": {},
   "source": [
    "## Memory-map reduces matrix-vector multiplication time for lower-density matrices\n",
    "\n",
    "Putting a normal load above a memmap load decreases memmap load time. However, loading memmap first does not speed up normal load times. Note, this only appears to be the case for very dense matrices. For best comparisons, we should always load a memmap matrix first in the sequence."
   ]
  },
  {
   "cell_type": "code",
   "execution_count": null,
   "metadata": {
    "scrolled": true
   },
   "outputs": [],
   "source": [
    "for i in ['CCpGeAeGaD', 'DaGpBP', 'MFpGdCcSE', 'GiGpBP']:\n",
    "    print(i)\n",
    "    mat = np.load(f'data/{i}.npy')\n",
    "    \n",
    "    density = 100 * (mat != 0).sum() / np.prod(mat.shape)\n",
    "    print(f'density: {density :.3} %')\n",
    "\n",
    "#     Create a vector to multiply\n",
    "    vector_size = mat.shape[0]\n",
    "    vec = np.zeros((1, vector_size))\n",
    "#     4 search nodes\n",
    "    indices = np.random.randint(0, high=vector_size, size=4)\n",
    "    vec[0, indices] = 1\n",
    "    del mat\n",
    "    \n",
    "    t1 = time.time()\n",
    "    matrix = np.load(f'data/{i}.npy', mmap_mode='r')\n",
    "    output = vec @ matrix\n",
    "    t2 = time.time()\n",
    "    time_2 = t2 - t1\n",
    "    del matrix\n",
    "    del output\n",
    "    \n",
    "    t1 = time.time()\n",
    "    matrix = np.load(f'data/{i}.npy', mmap_mode=None)\n",
    "    output = vec @ matrix\n",
    "    t2 = time.time()\n",
    "    time_1 = t2 - t1\n",
    "    del matrix\n",
    "    del output\n",
    "    \n",
    "#     Second memory-map load time for comparison\n",
    "    t1 = time.time()\n",
    "    matrix = np.load(f'data/{i}.npy', mmap_mode='r')\n",
    "    output = vec @ matrix\n",
    "    t2 = time.time()\n",
    "    time_3 = t2 - t1\n",
    "    del matrix\n",
    "    del output\n",
    "      \n",
    "    print(f'Normal: {time_1 :.3} sec\\nMMAP: {time_2 :.3} sec\\nMMAP2: {time_3 :.3} sec\\n')"
   ]
  },
  {
   "cell_type": "markdown",
   "metadata": {},
   "source": [
    "## Sparse (uncompressed/compressed) vs Dense\n",
    "\n",
    "Uncompressed sparse matrices load and multiply about as quickly as dense matrices. The order of matrix reads does not change for sparse reads from npz files. Compressed sparse matrices take an order of magnitude more time to load and multiply."
   ]
  },
  {
   "cell_type": "code",
   "execution_count": null,
   "metadata": {},
   "outputs": [],
   "source": [
    "for i in ['CCpGeAeGaD', 'DaGpBP', 'MFpGdCcSE', 'GiGpBP']:\n",
    "    print(i)\n",
    "    mat = np.load(f'data/{i}.npy')\n",
    "    \n",
    "    density = 100 * (mat != 0).sum() / np.prod(mat.shape)\n",
    "    print(f'density: {density :.3} %')\n",
    "\n",
    "#     Create a vector to multiply\n",
    "    vector_size = mat.shape[0]\n",
    "    vec = np.zeros((1, vector_size))\n",
    "#     4 search nodes\n",
    "    indices = np.random.randint(0, high=vector_size, size=4)\n",
    "    vec[0, indices] = 1\n",
    "    del mat\n",
    "    \n",
    "    t1 = time.time()\n",
    "    matrix = np.load(f'data/{i}.npy')\n",
    "    output = vec @ matrix\n",
    "    t2 = time.time()\n",
    "    time_1 = t2 - t1\n",
    "    del matrix\n",
    "    del output\n",
    "    \n",
    "    t1 = time.time()\n",
    "    matrix = sparse.load_npz(f'data/{i}_sparse.npz')\n",
    "    output = vec @ matrix\n",
    "    t2 = time.time()\n",
    "    time_2 = t2 - t1\n",
    "    del matrix\n",
    "    del output\n",
    "    \n",
    "    t1 = time.time()\n",
    "    matrix = sparse.load_npz(f'data/{i}_sparse_un.npz')\n",
    "    output = vec @ matrix\n",
    "    t2 = time.time()\n",
    "    time_3 = t2 - t1\n",
    "    del matrix\n",
    "    del output\n",
    "    \n",
    "    print(f'Dense No Memmap: {time_1 :.3} sec\\nCompressed Sparse: {time_2 :.3} sec\\nUncompressed Sparse: {time_3 :.3} sec\\n')"
   ]
  },
  {
   "cell_type": "markdown",
   "metadata": {
    "collapsed": true
   },
   "source": [
    "## Subset matrix memmap based on nonzero rows of the search vector"
   ]
  },
  {
   "cell_type": "code",
   "execution_count": null,
   "metadata": {
    "scrolled": true
   },
   "outputs": [],
   "source": [
    "for i in ['CCpGeAeGaD', 'DaGpBP', 'MFpGdCcSE', 'GiGpBP']:\n",
    "    print(i)\n",
    "    mat = np.load(f'data/{i}.npy')\n",
    "    print(mat.shape)\n",
    "    \n",
    "#     Create a vector to multiply\n",
    "    vector_size = mat.shape[0]\n",
    "    vec4 = np.zeros((1, vector_size)).flatten()\n",
    "    vec10 = np.zeros((1, vector_size)).flatten()\n",
    "    \n",
    "#     4 search nodes\n",
    "    indices4 = np.random.randint(0, high=vector_size, size=4)\n",
    "    indices10 = np.random.randint(0, high=vector_size, size=10)\n",
    "    vec4[indices4] = 1\n",
    "    vec10[indices10] = 1\n",
    "    del mat\n",
    "    print_str = ''\n",
    "    \n",
    "#     Simple memmap\n",
    "    t1 = time.time()\n",
    "    matrix = np.load(f'data/{i}.npy', mmap_mode='r')\n",
    "    output = vec4 @ matrix\n",
    "    t2 = time.time()\n",
    "    time_1 = t2 - t1\n",
    "    del matrix\n",
    "    del output\n",
    "    print_str += f'memmap4: {time_1 :.3}\\n'\n",
    "    \n",
    "    t1 = time.time()\n",
    "    matrix = np.load(f'data/{i}.npy', mmap_mode='r')\n",
    "    output = vec10 @ matrix\n",
    "    t2 = time.time()\n",
    "    time_2 = t2 - t1\n",
    "    del matrix\n",
    "    del output\n",
    "    print_str += f'memmap10: {time_2 :.3}\\n'\n",
    "    \n",
    "#     No memmap\n",
    "    t1 = time.time()\n",
    "    matrix = np.load(f'data/{i}.npy', mmap_mode=None)\n",
    "    output = vec4 @ matrix\n",
    "    t2 = time.time()\n",
    "    time_3 = t2 - t1\n",
    "    del matrix\n",
    "    del output\n",
    "    print_str += f'no memmap4: {time_3 :.3}\\n'\n",
    "    \n",
    "    t1 = time.time()\n",
    "    matrix = np.load(f'data/{i}.npy', mmap_mode=None)\n",
    "    output = vec10 @ matrix\n",
    "    t2 = time.time()\n",
    "    time_4 = t2 - t1\n",
    "    del matrix\n",
    "    del output\n",
    "    print_str += f'no memmap10: {time_4 :.3}\\n'\n",
    "       \n",
    "#     create new vector of ones\n",
    "    t1 = time.time()\n",
    "    matrix = np.load(f'data/{i}.npy', mmap_mode='r')\n",
    "    output = np.ones(4) @ matrix[indices4]\n",
    "    t2 = time.time()\n",
    "    time_5 = t2 - t1\n",
    "    del matrix\n",
    "    del output\n",
    "    print_str += f'subset 4: {time_5 :.3}\\n'\n",
    "    \n",
    "    t1 = time.time()\n",
    "    matrix = np.load(f'data/{i}.npy', mmap_mode='r')\n",
    "    output = np.ones(10) @ matrix[indices10]\n",
    "    t2 = time.time()\n",
    "    time_6 = t2 - t1\n",
    "    del matrix\n",
    "    del output\n",
    "    print_str += f'subset 10: {time_6 :.3}\\n'\n",
    "        \n",
    "    print(print_str)"
   ]
  },
  {
   "cell_type": "code",
   "execution_count": null,
   "metadata": {},
   "outputs": [],
   "source": []
  }
 ],
 "metadata": {
  "kernelspec": {
   "display_name": "Python [conda env:hetmech]",
   "language": "python",
   "name": "conda-env-hetmech-py"
  },
  "language_info": {
   "codemirror_mode": {
    "name": "ipython",
    "version": 3
   },
   "file_extension": ".py",
   "mimetype": "text/x-python",
   "name": "python",
   "nbconvert_exporter": "python",
   "pygments_lexer": "ipython3",
   "version": "3.6.4"
  }
 },
 "nbformat": 4,
 "nbformat_minor": 2
}
