{
 "cells": [
  {
   "cell_type": "code",
   "execution_count": 25,
   "metadata": {
    "collapsed": false
   },
   "outputs": [
    {
     "name": "stdout",
     "output_type": "stream",
     "text": [
      "Done reading in graph\n",
      "Done converting to adjacency matrix\n",
      "Number of genes should be 18875; its actual value is:18875\n",
      "Number of genes should be 1538; its actual value  is:1538\n"
     ]
    }
   ],
   "source": [
    "import numpy as np\n",
    "import scipy as sp\n",
    "import networkx as nx\n",
    "import sys\n",
    "import os\n",
    "import scipy.sparse\n",
    "\n",
    "# SETUP GRAPH\n",
    "fname = './adjacency/data-big/adjacency.tsv'\n",
    "with open(fname, 'rb') as graphfile:\n",
    "    next(graphfile) # skip header row\n",
    "    G=nx.read_weighted_edgelist(graphfile, delimiter='\\t')\n",
    "print('Done reading in graph')\n",
    "A = nx.adjacency_matrix(G, nodelist=None, weight=None)\n",
    "print('Done converting to adjacency matrix')\n",
    "nodelist = G.nodes()\n",
    "Gene2Index = {}\n",
    "Index2Gene = {}\n",
    "GeneIndexList = []\n",
    "Compound2Index = {}\n",
    "Index2Compound = {}\n",
    "CompoundIndexList = []\n",
    "for index, item in enumerate(nodelist):\n",
    "    #item =\n",
    "    if \"Gene::\" in item:\n",
    "        Gene2Index[item] = index\n",
    "        Index2Gene[index] = item\n",
    "        GeneIndexList.append(index)\n",
    "    if \"Compound::\" in item:\n",
    "        Compound2Index[item] = index\n",
    "        Index2Compound[index] = item\n",
    "        CompoundIndexList.append(index)\n",
    "print('Number of genes should be 18875; its actual value is:' + str(len(Gene2Index))  )\n",
    "print('Number of genes should be 1538; its actual value  is:' + str(len(Compound2Index))  )\n"
   ]
  },
  {
   "cell_type": "code",
   "execution_count": 69,
   "metadata": {
    "collapsed": false
   },
   "outputs": [],
   "source": [
    "\n",
    "# Used to locate all nodes with a path length between lb and ub\n",
    "def find_indices( array, lb, ub ):\n",
    "\tindices = []\n",
    "\tfor j, value in enumerate(array):\n",
    "\t\tif value >= lb and value <= ub:\n",
    "\t\t\tindices.append(j)\n",
    "\treturn indices\n",
    "\n",
    "# To count number pairs with number o paths inside a range\n",
    "def count_paths( P2, P3, path_lb, path_ub ):\n",
    "\tpath2_lb, path3_lb = path_lb\n",
    "\tpath2_ub, path3_ub = path_ub\n",
    "\trows2, cols2, vals2 = scipy.sparse.find(P2)\n",
    "\trows3, cols3, vals3 = scipy.sparse.find(P3)\n",
    "\tindices_of_min = find_indices( vals2, path2_lb, path2_ub )\n",
    "\trows_min = [ rows2[j] for j in indices_of_min ]\n",
    "\tcols_min = [ cols2[j] for j in indices_of_min ]\n",
    "\tpairs_path2 = zip( rows_min, cols_min )\n",
    "\tindices_of_min = find_indices( vals3, path3_lb, path3_ub )\n",
    "\trows_min = [ rows3[j] for j in indices_of_min ]\n",
    "\tcols_min = [ cols3[j] for j in indices_of_min ]\n",
    "\tpairs_path3 = zip( rows_min, cols_min )\n",
    "\tpairs_of_interest = set(pairs_path2).intersection(pairs_path3)\n",
    "\tprint('There are ' + str( len(pairs_of_interest) ) + ' pairs of interest.\\n' )\n",
    "\treturn pairs_of_interest\n"
   ]
  },
  {
   "cell_type": "code",
   "execution_count": 70,
   "metadata": {
    "collapsed": false
   },
   "outputs": [
    {
     "name": "stdout",
     "output_type": "stream",
     "text": [
      "Done with A2 = A*A.\n",
      "Done subtracting the diag of A2.\n",
      "Done computing P2, P3.\n"
     ]
    }
   ],
   "source": [
    "A2 = A*A\n",
    "print(\"Done with A2 = A*A.\")\n",
    "\n",
    "# next subtract diagonal of A2\n",
    "N = len( G.nodes() )\n",
    "Dsp = sp.sparse.spdiags( A2.diagonal(), 0, N, N )\n",
    "A2 = A2 - Dsp\n",
    "del(Dsp)\n",
    "print(\"Done subtracting the diag of A2.\")\n",
    "\n",
    "P2 = A2[:,CompoundIndexList]\n",
    "del(A2)\n",
    "P3 = A*P2\n",
    "P2 = P2[GeneIndexList,:]\n",
    "P3 = P3[GeneIndexList,:]\n",
    "print(\"Done computing P2, P3.\")\n",
    "\n"
   ]
  },
  {
   "cell_type": "code",
   "execution_count": 71,
   "metadata": {
    "collapsed": false
   },
   "outputs": [
    {
     "name": "stdout",
     "output_type": "stream",
     "text": [
      "There are 1 pairs of interest.\n",
      "\n",
      "If you're satisfied with the number of node-pairs of interest,\n",
      " then call print_paths() to write the node-pairs to file,\n",
      " and call chart_paths() to write the actual paths to file.\n",
      "\n"
     ]
    }
   ],
   "source": [
    "# Extract just the gene-compound pairs that have the smallest number of 2- and 3-paths connecting them.\n",
    "path_LB = [10, 20]\n",
    "path_UB = [100, 100]\n",
    "POI = count_paths( P2, P3, path_LB, path_UB )\n",
    "print(\"If you're satisfied with the number of node-pairs of interest,\\n \\\n",
    "then call print_paths() to write the node-pairs to file,\\n \\\n",
    "and call chart_paths() to write the actual paths to file.\\n\")"
   ]
  },
  {
   "cell_type": "code",
   "execution_count": 72,
   "metadata": {
    "collapsed": true
   },
   "outputs": [],
   "source": [
    "pairs_of_interest = []\n",
    "for i,j in POI:\n",
    "    pairs_of_interest.append( (GeneIndexList[i], CompoundIndexList[j]) )"
   ]
  },
  {
   "cell_type": "code",
   "execution_count": 77,
   "metadata": {
    "collapsed": false
   },
   "outputs": [],
   "source": [
    "# To output list of paths\n",
    "# and write list of node-pairs to file\n",
    "def chart_paths(pairs_of_interest):\n",
    "    path2_lb, path3_lb = path_LB\n",
    "    path2_ub, path3_ub = path_UB\n",
    "    fname = str(path2_lb) + '-' + str(path2_ub) + '-' + str(path3_lb) + '-' + str(path3_ub)\n",
    "    with open('./path-lists/list-small-paths' + fname + '.tsv','w') as outputf:\n",
    "        for snode,tnode in pairs_of_interest:\n",
    "            #sname, tname = ( nodelist[])\n",
    "            sname, tname = nodelist[snode], nodelist[tnode]\n",
    "            paths = nx.all_simple_paths(G, source=sname, target=tname, cutoff=3)\n",
    "            pathlist = list(paths)\n",
    "            for pathitem in pathlist:\n",
    "                for node in pathitem:\n",
    "                    #outputf.write( nodelist[node] + '\\t' )\n",
    "                    outputf.write( node + '\\t' )\n",
    "                outputf.write( '\\n')\n",
    "            outputf.write( '\\n\\n' )\n",
    "    with open('./path-lists/list-nodepairs' + fname + '.tsv','w') as pathfile:\n",
    "        for i,j in pairs_of_interest:\n",
    "            which_gene = nodelist[i]\n",
    "            which_compound = nodelist[j]\n",
    "            pathfile.write( which_gene + '\\t' + which_compound + '\\n' )\n"
   ]
  },
  {
   "cell_type": "code",
   "execution_count": 78,
   "metadata": {
    "collapsed": false
   },
   "outputs": [],
   "source": [
    "chart_paths(pairs_of_interest)"
   ]
  }
 ],
 "metadata": {
  "anaconda-cloud": {},
  "kernelspec": {
   "display_name": "Python [hetmech]",
   "language": "python",
   "name": "Python [hetmech]"
  },
  "language_info": {
   "codemirror_mode": {
    "name": "ipython",
    "version": 3
   },
   "file_extension": ".py",
   "mimetype": "text/x-python",
   "name": "python",
   "nbconvert_exporter": "python",
   "pygments_lexer": "ipython3",
   "version": "3.5.2"
  }
 },
 "nbformat": 4,
 "nbformat_minor": 0
}
