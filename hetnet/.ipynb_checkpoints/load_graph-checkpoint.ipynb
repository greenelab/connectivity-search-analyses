{
 "cells": [
  {
   "cell_type": "code",
   "execution_count": 2,
   "metadata": {
    "collapsed": false
   },
   "outputs": [],
   "source": [
    "import networkx as nx\n",
    "\n",
    "def setup_graph():\n",
    "    fname = './adjacency/data-big/adjacency.tsv'\n",
    "    with open(fname, 'rb') as graphfile:\n",
    "        next(graphfile) # skip header row\n",
    "        G=nx.read_weighted_edgelist(graphfile, delimiter='\\t')\n",
    "    print('Done reading in graph')\n",
    "    A = nx.adjacency_matrix(G, nodelist=None, weight=None)\n",
    "    print('Done converting to adjacency matrix')\n",
    "    nodelist = G.nodes()\n",
    "    Gene2Index = {}\n",
    "    Index2Gene = {}\n",
    "    GeneIndexList = []\n",
    "    Compound2Index = {}\n",
    "    Index2Compound = {}\n",
    "    CompoundIndexList = []\n",
    "    for index, item in enumerate(nodelist):\n",
    "        #item =\n",
    "        if \"Gene::\" in item:\n",
    "            Gene2Index[item] = index\n",
    "            Index2Gene[index] = item\n",
    "            GeneIndexList.append(index)\n",
    "        if \"Compound::\" in item:\n",
    "            Compound2Index[item] = index\n",
    "            Index2Compound[index] = item\n",
    "    print('Number of genes should be 18875, it is:' + str(len(Gene2Index))  )\n",
    "    print('Number of genes should be 1538, it is:' + str(len(Compound2Index))  )"
   ]
  }
 ],
 "metadata": {
  "kernelspec": {
   "display_name": "Python [hetmech]",
   "language": "python",
   "name": "Python [hetmech]"
  },
  "language_info": {
   "codemirror_mode": {
    "name": "ipython",
    "version": 3
   },
   "file_extension": ".py",
   "mimetype": "text/x-python",
   "name": "python",
   "nbconvert_exporter": "python",
   "pygments_lexer": "ipython3",
   "version": "3.5.2"
  }
 },
 "nbformat": 4,
 "nbformat_minor": 0
}
