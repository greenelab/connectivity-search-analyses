{
 "cells": [
  {
   "cell_type": "markdown",
   "metadata": {},
   "source": [
    "# Compute DWPCs for all metapaths"
   ]
  },
  {
   "cell_type": "code",
   "execution_count": 1,
   "metadata": {},
   "outputs": [],
   "source": [
    "import numpy as np\n",
    "import pandas as pd\n",
    "import pandas\n",
    "import scipy.sparse\n",
    "from scipy import sparse\n",
    "import itertools\n",
    "import random\n",
    "import time\n",
    "import tqdm\n",
    "\n",
    "from hetmech.degree_weight import dwpc\n",
    "from hetmech.matrix import metaedge_to_adjacency_matrix\n",
    "import hetmech.degree_group\n",
    "import hetmech.degree_weight\n",
    "from hetmech.hetmat import HetMat"
   ]
  },
  {
   "cell_type": "code",
   "execution_count": 2,
   "metadata": {},
   "outputs": [],
   "source": [
    "hetmat = HetMat('../data/hetionet-v1.0.hetmat/')\n",
    "hetmech.degree_weight.default_dwwc_method = hetmech.degree_weight.dwwc_recursive"
   ]
  },
  {
   "cell_type": "markdown",
   "metadata": {},
   "source": [
    "All metapaths up to length 3 saving PC and DWPC matrices on disk -- actual hetnet."
   ]
  },
  {
   "cell_type": "code",
   "execution_count": 3,
   "metadata": {},
   "outputs": [
    {
     "data": {
      "text/plain": [
       "2"
      ]
     },
     "execution_count": 3,
     "metadata": {},
     "output_type": "execute_result"
    }
   ],
   "source": [
    "metapaths = hetmat.metagraph.extract_all_metapaths(3, exclude_inverts=True)\n",
    "# random.seed(1)\n",
    "# metapaths = random.sample(metapaths, k=2)\n",
    "len(metapaths)"
   ]
  },
  {
   "cell_type": "markdown",
   "metadata": {},
   "source": [
    "### Compute path counts"
   ]
  },
  {
   "cell_type": "code",
   "execution_count": 4,
   "metadata": {},
   "outputs": [
    {
     "name": "stderr",
     "output_type": "stream",
     "text": [
      "100%|██████████| 2/2 [00:00<00:00,  3.00it/s]"
     ]
    },
    {
     "name": "stdout",
     "output_type": "stream",
     "text": [
      "CPU times: user 643 ms, sys: 22.4 ms, total: 666 ms\n",
      "Wall time: 674 ms\n"
     ]
    },
    {
     "name": "stderr",
     "output_type": "stream",
     "text": [
      "\n"
     ]
    }
   ],
   "source": [
    "%%time\n",
    "hetmat.path_counts_cache = hetmech.hetmat.PathCountPriorityCache(hetmat, allocate_GB=16)\n",
    "for metapath in tqdm.tqdm(metapaths):\n",
    "    row, col, dwpc_matrix = dwpc(hetmat, metapath, damping=0, dense_threshold=1, dtype='uint64')\n",
    "    path = hetmat.get_path_counts_path(metapath, 'dwpc', 0.0, None)\n",
    "    hetmech.hetmat.save_matrix(dwpc_matrix, path)\n",
    "    del dwpc_matrix"
   ]
  },
  {
   "cell_type": "markdown",
   "metadata": {},
   "source": [
    "### Compute DWPCs"
   ]
  },
  {
   "cell_type": "code",
   "execution_count": 5,
   "metadata": {},
   "outputs": [
    {
     "name": "stderr",
     "output_type": "stream",
     "text": [
      "100%|██████████| 2/2 [00:00<00:00,  2.94it/s]"
     ]
    },
    {
     "name": "stdout",
     "output_type": "stream",
     "text": [
      "CPU times: user 670 ms, sys: 15.8 ms, total: 686 ms\n",
      "Wall time: 685 ms\n"
     ]
    },
    {
     "name": "stderr",
     "output_type": "stream",
     "text": [
      "\n"
     ]
    }
   ],
   "source": [
    "%%time\n",
    "hetmat.path_counts_cache = hetmech.hetmat.PathCountPriorityCache(hetmat, allocate_GB=16)\n",
    "mean_dwpcs = dict()\n",
    "for metapath in tqdm.tqdm(metapaths):\n",
    "    # Compute degree-weighted path counts\n",
    "    row, col, dwpc_matrix = dwpc(hetmat, metapath, damping=0.5, dense_threshold=1)\n",
    "    mean_dwpcs[(metapath, 'dwpc', 0.5)] = dwpc_matrix.mean()\n",
    "    path = hetmat.get_path_counts_path(metapath, 'dwpc', 0.5, None)\n",
    "    hetmech.hetmat.save_matrix(dwpc_matrix, path)\n",
    "    del dwpc_matrix"
   ]
  },
  {
   "cell_type": "code",
   "execution_count": 6,
   "metadata": {},
   "outputs": [],
   "source": [
    "hetmat.path_counts_cache = None"
   ]
  },
  {
   "cell_type": "markdown",
   "metadata": {},
   "source": [
    "Read in matrices to get scaling factor (mean). Then compute all DGP for all permutations."
   ]
  },
  {
   "cell_type": "code",
   "execution_count": 8,
   "metadata": {},
   "outputs": [],
   "source": [
    "for name, permat in hetmat.permutations.items():\n",
    "    permat.path_counts_cache = hetmech.hetmat.PathCountPriorityCache(permat, allocate_GB=16)\n",
    "    for metapath in metapaths:\n",
    "        _, _, matrix = dwpc(permat, metapath, damping=0.5, dense_threshold=0.7)\n",
    "        source_deg_to_ind, target_deg_to_ind = hetmech.degree_group.metapath_to_degree_dicts(permat, metapath)\n",
    "        scaler = mean_dwpcs[(metapath, 'dwpc', 0.5)]\n",
    "        row_generator = hetmech.degree_group.generate_degree_group_stats(\n",
    "            source_deg_to_ind, target_deg_to_ind, matrix, scale=True, scaler=scaler)\n",
    "        degree_stats_df = (\n",
    "            pd.DataFrame(row_generator)\n",
    "            .set_index(['source_degree', 'target_degree'])\n",
    "        )\n",
    "        path = permat.directory.joinpath('degree-grouped-path-counts', 'dwpc-0.5', f'{metapath}.tsv')\n",
    "        path.parent.mkdir(parents=True, exist_ok=True)\n",
    "        degree_stats_df.to_csv(path, sep='\\t')\n",
    "    permat.path_counts_cache = None"
   ]
  },
  {
   "cell_type": "markdown",
   "metadata": {},
   "source": [
    "Create multi-permutation DGP summary metrics."
   ]
  },
  {
   "cell_type": "code",
   "execution_count": 12,
   "metadata": {},
   "outputs": [],
   "source": [
    "for metapath in metapaths:\n",
    "    degree_stats_df = None\n",
    "    for permat in hetmat.permutations.values():\n",
    "        path = permat.directory.joinpath('degree-grouped-path-counts', 'dwpc-0.5', f'{metapath}.tsv')\n",
    "        df = (\n",
    "            pandas.read_table(path)\n",
    "            .set_index(['source_degree', 'target_degree'])\n",
    "            .assign(n_perms=1)\n",
    "        )\n",
    "        if degree_stats_df is None:\n",
    "            degree_stats_df = df\n",
    "        else:\n",
    "            degree_stats_df += df\n",
    "    degree_stats_df = hetmech.degree_group.compute_summary_metrics(degree_stats_df)\n",
    "    degree_stats_df.drop(columns=['sum', 'sum_of_squares'], inplace=True)\n",
    "    path = hetmat.directory.joinpath('adjusted-path-counts', 'dwpc-0.5', 'degree-grouped-permutations', f'{metapath}.tsv')\n",
    "    path.parent.mkdir(parents=True, exist_ok=True)\n",
    "    degree_stats_df.to_csv(path, sep='\\t')"
   ]
  }
 ],
 "metadata": {
  "kernelspec": {
   "display_name": "Python 3",
   "language": "python",
   "name": "python3"
  },
  "language_info": {
   "codemirror_mode": {
    "name": "ipython",
    "version": 3
   },
   "file_extension": ".py",
   "mimetype": "text/x-python",
   "name": "python",
   "nbconvert_exporter": "python",
   "pygments_lexer": "ipython3",
   "version": "3.6.4"
  }
 },
 "nbformat": 4,
 "nbformat_minor": 2
}
