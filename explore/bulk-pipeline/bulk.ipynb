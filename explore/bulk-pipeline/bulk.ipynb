{
 "cells": [
  {
   "cell_type": "markdown",
   "metadata": {},
   "source": [
    "# Compute DWPCs for all metapaths"
   ]
  },
  {
   "cell_type": "code",
   "execution_count": 1,
   "metadata": {},
   "outputs": [],
   "source": [
    "import lzma\n",
    "import numpy\n",
    "import pandas\n",
    "import pathlib\n",
    "import random\n",
    "import scipy.sparse\n",
    "import tqdm\n",
    "\n",
    "import hetmech.degree_weight\n",
    "from hetmech.hetmat import HetMat\n",
    "import hetmech.matrix\n",
    "import hetmech.degree_group"
   ]
  },
  {
   "cell_type": "code",
   "execution_count": 2,
   "metadata": {},
   "outputs": [],
   "source": [
    "hetmat = HetMat('../../data/hetionet-v1.0.hetmat/')\n",
    "hetmech.degree_weight.default_dwwc_method = hetmech.degree_weight.dwwc_recursive"
   ]
  },
  {
   "cell_type": "markdown",
   "metadata": {},
   "source": [
    "All metapaths up to length 3 saving PC and DWPC matrices on disk -- actual hetnet."
   ]
  },
  {
   "cell_type": "code",
   "execution_count": 3,
   "metadata": {},
   "outputs": [
    {
     "data": {
      "text/plain": [
       "88"
      ]
     },
     "execution_count": 3,
     "metadata": {},
     "output_type": "execute_result"
    }
   ],
   "source": [
    "metapaths = hetmat.metagraph.extract_metapaths('Disease', max_length=2)\n",
    "# random.seed(1)\n",
    "# metapaths = random.sample(metapaths, k=2)\n",
    "len(metapaths)"
   ]
  },
  {
   "cell_type": "code",
   "execution_count": 4,
   "metadata": {},
   "outputs": [],
   "source": [
    "def compute_save_dwpc(graph, metapath, damping=0.5, dense_threshold=1, dtype='float64', approx_ok=True):\n",
    "    path = hetmat.get_path_counts_path(metapath, 'dwpc', damping, None)\n",
    "    for inverse in (True, False):\n",
    "        mp = metapath\n",
    "        if inverse:\n",
    "            mp = metapath.inverse\n",
    "        for ext in ('.sparse.npz', '.npy'):\n",
    "            path = pathlib.Path(str(path) + ext)\n",
    "            if path.exists():\n",
    "                try:\n",
    "                    return graph.read_path_counts(mp, 'dwpc', damping)\n",
    "                except BadZipfile:\n",
    "                    continue\n",
    "    row, col, dwpc_matrix = hetmech.degree_weight.dwpc(graph, metapath, damping=damping, \n",
    "                                                       dense_threshold=dense_threshold, dtype=dtype)\n",
    "    path = hetmat.get_path_counts_path(metapath, 'dwpc', damping, None)\n",
    "    hetmech.hetmat.save_matrix(dwpc_matrix, path)\n",
    "    return row, col, dwpc_matrix"
   ]
  },
  {
   "cell_type": "markdown",
   "metadata": {},
   "source": [
    "### Compute path counts"
   ]
  },
  {
   "cell_type": "code",
   "execution_count": 5,
   "metadata": {},
   "outputs": [
    {
     "name": "stderr",
     "output_type": "stream",
     "text": [
      "100%|██████████| 88/88 [00:00<00:00, 111.03it/s]"
     ]
    },
    {
     "name": "stdout",
     "output_type": "stream",
     "text": [
      "CPU times: user 752 ms, sys: 35.3 ms, total: 787 ms\n",
      "Wall time: 796 ms\n"
     ]
    },
    {
     "name": "stderr",
     "output_type": "stream",
     "text": [
      "\n"
     ]
    }
   ],
   "source": [
    "%%time\n",
    "hetmat.path_counts_cache = hetmech.hetmat.PathCountPriorityCache(hetmat, allocate_GB=16)\n",
    "for metapath in tqdm.tqdm(metapaths):\n",
    "    row, col, dwpc_matrix = compute_save_dwpc(hetmat, metapath, damping=0, dtype='uint64')\n",
    "    del dwpc_matrix"
   ]
  },
  {
   "cell_type": "markdown",
   "metadata": {},
   "source": [
    "### Compute DWPCs"
   ]
  },
  {
   "cell_type": "code",
   "execution_count": 6,
   "metadata": {},
   "outputs": [
    {
     "name": "stderr",
     "output_type": "stream",
     "text": [
      "100%|██████████| 88/88 [00:01<00:00, 71.40it/s]"
     ]
    },
    {
     "name": "stdout",
     "output_type": "stream",
     "text": [
      "CPU times: user 1.17 s, sys: 48 ms, total: 1.22 s\n",
      "Wall time: 1.24 s\n"
     ]
    },
    {
     "name": "stderr",
     "output_type": "stream",
     "text": [
      "\n"
     ]
    }
   ],
   "source": [
    "%%time\n",
    "hetmat.path_counts_cache = hetmech.hetmat.PathCountPriorityCache(hetmat, allocate_GB=16)\n",
    "mean_dwpcs = dict()\n",
    "for metapath in tqdm.tqdm(metapaths):\n",
    "    # Compute degree-weighted path counts\n",
    "    row, col, dwpc_matrix = compute_save_dwpc(hetmat, metapath, damping=0.5)\n",
    "    mean_dwpcs[(metapath, 'dwpc', 0.5)] = dwpc_matrix.mean()\n",
    "    del dwpc_matrix"
   ]
  },
  {
   "cell_type": "code",
   "execution_count": 7,
   "metadata": {},
   "outputs": [],
   "source": [
    "hetmat.path_counts_cache = None"
   ]
  },
  {
   "cell_type": "markdown",
   "metadata": {},
   "source": [
    "Read in matrices to get scaling factor (mean). Then compute all DGP for all permutations."
   ]
  },
  {
   "cell_type": "code",
   "execution_count": 8,
   "metadata": {},
   "outputs": [
    {
     "name": "stderr",
     "output_type": "stream",
     "text": [
      "100%|██████████| 25/25 [09:59<00:00, 23.98s/it]\n"
     ]
    }
   ],
   "source": [
    "for name, permat in tqdm.tqdm(hetmat.permutations.items()):\n",
    "    permat.path_counts_cache = hetmech.hetmat.PathCountPriorityCache(permat, allocate_GB=16)\n",
    "    for metapath in metapaths:\n",
    "        _, _, matrix = hetmech.degree_weight.dwpc(permat, metapath, damping=0.5, dense_threshold=0.7)\n",
    "        source_deg_to_ind, target_deg_to_ind = hetmech.degree_group.metapath_to_degree_dicts(permat, metapath)\n",
    "        scaler = mean_dwpcs[(metapath, 'dwpc', 0.5)]\n",
    "        row_generator = hetmech.degree_group.generate_degree_group_stats(\n",
    "            source_deg_to_ind, target_deg_to_ind, matrix, scale=True, scaler=scaler)\n",
    "        degree_stats_df = (\n",
    "            pandas.DataFrame(row_generator)\n",
    "            .set_index(['source_degree', 'target_degree'])\n",
    "        )\n",
    "        path = permat.directory.joinpath('degree-grouped-path-counts', 'dwpc-0.5', f'{metapath}.tsv')\n",
    "        path.parent.mkdir(parents=True, exist_ok=True)\n",
    "        degree_stats_df.to_csv(path, sep='\\t')\n",
    "    permat.path_counts_cache = None"
   ]
  },
  {
   "cell_type": "markdown",
   "metadata": {},
   "source": [
    "Create multi-permutation DGP summary metrics."
   ]
  },
  {
   "cell_type": "code",
   "execution_count": 9,
   "metadata": {},
   "outputs": [],
   "source": [
    "for metapath in metapaths:\n",
    "    degree_stats_df = None\n",
    "    for permat in hetmat.permutations.values():\n",
    "        path = permat.directory.joinpath('degree-grouped-path-counts', 'dwpc-0.5', f'{metapath}.tsv')\n",
    "        df = (\n",
    "            pandas.read_table(path)\n",
    "            .set_index(['source_degree', 'target_degree'])\n",
    "            .assign(n_perms=1)\n",
    "        )\n",
    "        if degree_stats_df is None:\n",
    "            degree_stats_df = df\n",
    "        else:\n",
    "            degree_stats_df += df\n",
    "    degree_stats_df = hetmech.degree_group.compute_summary_metrics(degree_stats_df)\n",
    "    degree_stats_df.drop(columns=['sum', 'sum_of_squares'], inplace=True)\n",
    "    path = hetmat.directory.joinpath('adjusted-path-counts', 'dwpc-0.5', 'degree-grouped-permutations', f'{metapath}.tsv')\n",
    "    path.parent.mkdir(parents=True, exist_ok=True)\n",
    "    degree_stats_df.to_csv(path, sep='\\t')"
   ]
  },
  {
   "cell_type": "code",
   "execution_count": 8,
   "metadata": {},
   "outputs": [
    {
     "name": "stderr",
     "output_type": "stream",
     "text": [
      "100%|██████████| 88/88 [03:41<00:00,  2.51s/it]"
     ]
    },
    {
     "name": "stdout",
     "output_type": "stream",
     "text": [
      "CPU times: user 3min 26s, sys: 14.2 s, total: 3min 40s\n",
      "Wall time: 3min 41s\n"
     ]
    },
    {
     "name": "stderr",
     "output_type": "stream",
     "text": [
      "\n"
     ]
    }
   ],
   "source": [
    "%%time\n",
    "\n",
    "full_dwpc_df = None\n",
    "for metapath in tqdm.tqdm(metapaths):\n",
    "    stats_path = hetmat.directory.joinpath('adjusted-path-counts', 'dwpc-0.5', 'degree-grouped-permutations', \n",
    "                                           f'{metapath}.tsv')\n",
    "    degree_stats_df = pandas.read_table(stats_path)\n",
    "\n",
    "    dwpc_row_generator = hetmech.degree_group.dwpc_to_degrees(hetmat, metapath)\n",
    "    dwpc_df = pandas.DataFrame(dwpc_row_generator)\n",
    "    df = (dwpc_df\n",
    "     .merge(degree_stats_df, on=['source_degree', 'target_degree'])\n",
    "     .drop(columns=['source_degree', 'target_degree'])\n",
    "     .rename(columns={'mean': 'p-dwpc', 'sd': 'sd-dwpc'}))\n",
    "    if full_dwpc_df is None:\n",
    "        full_dwpc_df = df\n",
    "    else:\n",
    "        full_dwpc_df = full_dwpc_df.append(df, ignore_index=True)\n",
    "full_dwpc_df['r-dwpc'] = full_dwpc_df['dwpc'] - full_dwpc_df['p-dwpc']\n",
    "full_dwpc_df['z-dwpc'] = full_dwpc_df['r-dwpc'] / full_dwpc_df['sd-dwpc']"
   ]
  },
  {
   "cell_type": "code",
   "execution_count": 9,
   "metadata": {},
   "outputs": [
    {
     "data": {
      "text/plain": [
       "(5806757, 16)"
      ]
     },
     "execution_count": 9,
     "metadata": {},
     "output_type": "execute_result"
    }
   ],
   "source": [
    "full_dwpc_df.shape"
   ]
  },
  {
   "cell_type": "code",
   "execution_count": 11,
   "metadata": {},
   "outputs": [
    {
     "data": {
      "text/html": [
       "<div>\n",
       "<style scoped>\n",
       "    .dataframe tbody tr th:only-of-type {\n",
       "        vertical-align: middle;\n",
       "    }\n",
       "\n",
       "    .dataframe tbody tr th {\n",
       "        vertical-align: top;\n",
       "    }\n",
       "\n",
       "    .dataframe thead th {\n",
       "        text-align: right;\n",
       "    }\n",
       "</style>\n",
       "<table border=\"1\" class=\"dataframe\">\n",
       "  <thead>\n",
       "    <tr style=\"text-align: right;\">\n",
       "      <th></th>\n",
       "      <th>dwpc</th>\n",
       "      <th>metapath</th>\n",
       "      <th>path-count</th>\n",
       "      <th>source_id</th>\n",
       "      <th>source_metanode</th>\n",
       "      <th>source_name</th>\n",
       "      <th>target_id</th>\n",
       "      <th>target_metanode</th>\n",
       "      <th>target_name</th>\n",
       "      <th>n</th>\n",
       "      <th>nnz</th>\n",
       "      <th>n_perms</th>\n",
       "      <th>p-dwpc</th>\n",
       "      <th>sd-dwpc</th>\n",
       "      <th>r-dwpc</th>\n",
       "      <th>z-dwpc</th>\n",
       "    </tr>\n",
       "  </thead>\n",
       "  <tbody>\n",
       "    <tr>\n",
       "      <th>0</th>\n",
       "      <td>4.691174</td>\n",
       "      <td>DlA</td>\n",
       "      <td>1</td>\n",
       "      <td>DOID:0050156</td>\n",
       "      <td>Disease</td>\n",
       "      <td>idiopathic pulmonary fibrosis</td>\n",
       "      <td>UBERON:0001004</td>\n",
       "      <td>Anatomy</td>\n",
       "      <td>respiratory system</td>\n",
       "      <td>2325</td>\n",
       "      <td>16</td>\n",
       "      <td>25</td>\n",
       "      <td>0.032283</td>\n",
       "      <td>0.387904</td>\n",
       "      <td>4.658891</td>\n",
       "      <td>12.010430</td>\n",
       "    </tr>\n",
       "    <tr>\n",
       "      <th>1</th>\n",
       "      <td>4.304678</td>\n",
       "      <td>DlA</td>\n",
       "      <td>1</td>\n",
       "      <td>DOID:0050156</td>\n",
       "      <td>Disease</td>\n",
       "      <td>idiopathic pulmonary fibrosis</td>\n",
       "      <td>UBERON:0002012</td>\n",
       "      <td>Anatomy</td>\n",
       "      <td>pulmonary artery</td>\n",
       "      <td>1575</td>\n",
       "      <td>23</td>\n",
       "      <td>25</td>\n",
       "      <td>0.062862</td>\n",
       "      <td>0.516545</td>\n",
       "      <td>4.241816</td>\n",
       "      <td>8.211907</td>\n",
       "    </tr>\n",
       "  </tbody>\n",
       "</table>\n",
       "</div>"
      ],
      "text/plain": [
       "       dwpc metapath  path-count     source_id source_metanode  \\\n",
       "0  4.691174      DlA           1  DOID:0050156         Disease   \n",
       "1  4.304678      DlA           1  DOID:0050156         Disease   \n",
       "\n",
       "                     source_name       target_id target_metanode  \\\n",
       "0  idiopathic pulmonary fibrosis  UBERON:0001004         Anatomy   \n",
       "1  idiopathic pulmonary fibrosis  UBERON:0002012         Anatomy   \n",
       "\n",
       "          target_name     n  nnz  n_perms    p-dwpc   sd-dwpc    r-dwpc  \\\n",
       "0  respiratory system  2325   16       25  0.032283  0.387904  4.658891   \n",
       "1    pulmonary artery  1575   23       25  0.062862  0.516545  4.241816   \n",
       "\n",
       "      z-dwpc  \n",
       "0  12.010430  \n",
       "1   8.211907  "
      ]
     },
     "execution_count": 11,
     "metadata": {},
     "output_type": "execute_result"
    }
   ],
   "source": [
    "full_dwpc_df.head(2)"
   ]
  },
  {
   "cell_type": "code",
   "execution_count": 10,
   "metadata": {},
   "outputs": [
    {
     "name": "stdout",
     "output_type": "stream",
     "text": [
      "CPU times: user 8min 6s, sys: 449 ms, total: 8min 7s\n",
      "Wall time: 8min 7s\n"
     ]
    }
   ],
   "source": [
    "%%time\n",
    "full_dwpc_df.to_csv(\"full_dwpc.tsv.xz\", sep='\\t', index=False, compression='xz')"
   ]
  }
 ],
 "metadata": {
  "kernelspec": {
   "display_name": "Python 3",
   "language": "python",
   "name": "python3"
  },
  "language_info": {
   "codemirror_mode": {
    "name": "ipython",
    "version": 3
   },
   "file_extension": ".py",
   "mimetype": "text/x-python",
   "name": "python",
   "nbconvert_exporter": "python",
   "pygments_lexer": "ipython3",
   "version": "3.6.4"
  }
 },
 "nbformat": 4,
 "nbformat_minor": 2
}
