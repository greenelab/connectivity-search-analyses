{
 "cells": [
  {
   "cell_type": "markdown",
   "metadata": {},
   "source": [
    "# Compute DWPCs for all metapaths"
   ]
  },
  {
   "cell_type": "code",
   "execution_count": 1,
   "metadata": {},
   "outputs": [],
   "source": [
    "import csv\n",
    "import itertools\n",
    "import numpy\n",
    "import pandas\n",
    "import pathlib\n",
    "import scipy.sparse\n",
    "import tqdm\n",
    "\n",
    "import hetmech.degree_weight\n",
    "from hetmech.hetmat import HetMat\n",
    "import hetmech.matrix\n",
    "import hetmech.degree_group\n",
    "import pipeline"
   ]
  },
  {
   "cell_type": "code",
   "execution_count": 2,
   "metadata": {},
   "outputs": [],
   "source": [
    "hetmat = HetMat('../../data/hetionet-v1.0.hetmat/')\n",
    "hetmech.degree_weight.default_dwwc_method = hetmech.degree_weight.dwwc_recursive"
   ]
  },
  {
   "cell_type": "markdown",
   "metadata": {},
   "source": [
    "All metapaths up to length 2 saving PC and DWPC matrices on disk -- actual hetnet."
   ]
  },
  {
   "cell_type": "code",
   "execution_count": 3,
   "metadata": {},
   "outputs": [
    {
     "data": {
      "text/plain": [
       "88"
      ]
     },
     "execution_count": 3,
     "metadata": {},
     "output_type": "execute_result"
    }
   ],
   "source": [
    "metapaths = hetmat.metagraph.extract_metapaths('Disease', max_length=2)\n",
    "len(metapaths)"
   ]
  },
  {
   "cell_type": "code",
   "execution_count": 4,
   "metadata": {},
   "outputs": [],
   "source": [
    "metapaths = [hetmat.metagraph.get_metapath('GpBPpGiG')]"
   ]
  },
  {
   "cell_type": "markdown",
   "metadata": {},
   "source": [
    "### Compute path counts"
   ]
  },
  {
   "cell_type": "code",
   "execution_count": 5,
   "metadata": {},
   "outputs": [
    {
     "name": "stderr",
     "output_type": "stream",
     "text": [
      "100%|██████████| 1/1 [00:16<00:00, 16.01s/it]"
     ]
    },
    {
     "name": "stdout",
     "output_type": "stream",
     "text": [
      "CPU times: user 15.4 s, sys: 585 ms, total: 16 s\n",
      "Wall time: 16 s\n"
     ]
    },
    {
     "name": "stderr",
     "output_type": "stream",
     "text": [
      "\n"
     ]
    }
   ],
   "source": [
    "%%time\n",
    "for metapath in tqdm.tqdm(metapaths):\n",
    "    row, col, dwpc_matrix = pipeline.compute_save_dwpc(hetmat, metapath, damping=0, dtype='uint64')\n",
    "    del dwpc_matrix"
   ]
  },
  {
   "cell_type": "markdown",
   "metadata": {},
   "source": [
    "### Compute DWPCs"
   ]
  },
  {
   "cell_type": "code",
   "execution_count": 6,
   "metadata": {},
   "outputs": [
    {
     "name": "stderr",
     "output_type": "stream",
     "text": [
      "100%|██████████| 1/1 [00:26<00:00, 26.22s/it]"
     ]
    },
    {
     "name": "stdout",
     "output_type": "stream",
     "text": [
      "CPU times: user 24.1 s, sys: 2.14 s, total: 26.2 s\n",
      "Wall time: 26.2 s\n"
     ]
    },
    {
     "name": "stderr",
     "output_type": "stream",
     "text": [
      "\n"
     ]
    }
   ],
   "source": [
    "%%time\n",
    "mean_dwpcs = dict()\n",
    "for metapath in tqdm.tqdm(metapaths):\n",
    "    row, col, dwpc_matrix = pipeline.compute_save_dwpc(hetmat, metapath, damping=0.5)\n",
    "    mean_dwpcs[(metapath, 'dwpc', 0.5)] = dwpc_matrix.mean()\n",
    "    del dwpc_matrix"
   ]
  },
  {
   "cell_type": "markdown",
   "metadata": {},
   "source": [
    "### Generate DGP files\n",
    "One file per metapath per permutation"
   ]
  },
  {
   "cell_type": "code",
   "execution_count": 7,
   "metadata": {},
   "outputs": [
    {
     "name": "stderr",
     "output_type": "stream",
     "text": [
      "100%|██████████| 145/145 [00:00<00:00, 21547.35it/s]\n"
     ]
    }
   ],
   "source": [
    "for name, permat in tqdm.tqdm((hetmat.permutations.items())):\n",
    "    permat.path_counts_cache = hetmech.hetmat.PathCountPriorityCache(permat, allocate_GB=16)\n",
    "    for metapath in metapaths:\n",
    "        path = permat.directory.joinpath('degree-grouped-path-counts', 'dwpc-0.5', f'{metapath}.tsv')\n",
    "        if path.exists():\n",
    "            pass\n",
    "        else:\n",
    "            degree_grouped_df = hetmech.degree_group.single_permutation_degree_group(\n",
    "                permat, metapath, dwpc_mean=mean_dwpcs[(metapath, 'dwpc', 0.5)], damping=0.5)\n",
    "            path.parent.mkdir(parents=True, exist_ok=True)\n",
    "            degree_grouped_df.to_csv(path, sep='\\t')\n",
    "    permat.path_counts_cache = None"
   ]
  },
  {
   "cell_type": "markdown",
   "metadata": {},
   "source": [
    "### Create multi-permutation DGP summary metrics.\n",
    "One file per metapath"
   ]
  },
  {
   "cell_type": "code",
   "execution_count": 8,
   "metadata": {},
   "outputs": [],
   "source": [
    "for metapath in metapaths:\n",
    "    path = hetmat.directory.joinpath('adjusted-path-counts', 'dwpc-0.5', \n",
    "                                    'degree-grouped-permutations', f'{metapath}.tsv')\n",
    "    if path.exists():\n",
    "        pass\n",
    "    else:\n",
    "        degree_stats_df = hetmech.degree_group.summarize_degree_grouped_permutations(hetmat, metapath, damping=0.5)    \n",
    "        path.parent.mkdir(parents=True, exist_ok=True)\n",
    "        degree_stats_df.to_csv(path, sep='\\t')"
   ]
  },
  {
   "cell_type": "markdown",
   "metadata": {},
   "source": [
    "### Combine DWPC with DGP.\n",
    "One file per metapath"
   ]
  },
  {
   "cell_type": "raw",
   "metadata": {},
   "source": [
    "%%time\n",
    "for metapath in tqdm.tqdm(metapaths):\n",
    "    path = hetmat.directory.joinpath('adjusted-path-counts', 'dwpc-0.5',\n",
    "                                    'adjusted-dwpcs', f'{metapath}.tsv')\n",
    "    full_metapath_df = pipeline.combine_dwpc_dgp(hetmat, metapath, 0.5)\n",
    "    path.parent.mkdir(parents=True, exist_ok=True)\n",
    "    full_metapath_df.to_csv(path, sep='\\t', index=False)"
   ]
  },
  {
   "cell_type": "code",
   "execution_count": 9,
   "metadata": {
    "scrolled": true
   },
   "outputs": [],
   "source": [
    "path = hetmat.directory.joinpath('adjusted-path-counts', 'dwpc-0.5',\n",
    "                                    'degree-grouped-permutations', f'{metapaths[0]}.tsv')\n",
    "dgp_df = pandas.read_table(path)\n",
    "dgp_dict = dgp_df.set_index(['source_degree', 'target_degree']).to_dict('index')\n",
    "\n",
    "dwpc_gen = hetmech.degree_group.dwpc_to_degrees(hetmat, metapaths[0])"
   ]
  },
  {
   "cell_type": "code",
   "execution_count": null,
   "metadata": {},
   "outputs": [],
   "source": [
    "%%time\n",
    "path = hetmat.directory.joinpath('adjusted-path-counts', 'dwpc-0.5',\n",
    "                                    'adjusted-dwpcs', f'{metapaths[0]}-nonzero.tsv')\n",
    "\n",
    "with open(path, \"w\") as csv_file:\n",
    "    writer = csv.DictWriter(csv_file, delimiter='\\t', fieldnames=[\n",
    "        'source_id', 'source_name', 'target_name', 'target_id', 'source_degree', 'target_degree',\n",
    "        'dwpc', 'path-count', 'n', 'nnz', 'n_perms', 'mean', 'sd', 'r-dwpc', 'z-dwpc'])\n",
    "    for row in dwpc_gen:\n",
    "        # Save only nonzero DWPC rows\n",
    "        if row['dwpc'] == 0:\n",
    "            continue\n",
    "        dgp_info = dgp_dict[(row['source_degree'], row['target_degree'])]\n",
    "        row.update(dgp_info)\n",
    "        row['r-dwpc'] = row['dwpc'] - row['mean']\n",
    "        row['z-dwpc'] = row['r-dwpc'] / row['sd']\n",
    "        # Only save rows above z-threshold\n",
    "        if row['z-dwpc'] < 0.5:\n",
    "            continue\n",
    "        row = {key: numpy.float32(value) for key, value in row.items() if key in [\n",
    "            'dwpc', 'r-dwpc', 'mean', 'sd', 'z-dwpc']}\n",
    "        writer.writerow(row)\n",
    "\n",
    "csv_file.close()"
   ]
  },
  {
   "cell_type": "raw",
   "metadata": {},
   "source": [
    "%%time\n",
    "path = hetmat.directory.joinpath('adjusted-path-counts', 'dwpc-0.5',\n",
    "                                 'adjusted-dwpcs', f'{metapaths[0]}-chunks.tsv')\n",
    "\n",
    "with open(path, \"w\") as csv_file:\n",
    "    writer = csv.DictWriter(csv_file, delimiter='\\t', fieldnames=[\n",
    "        'source_id', 'source_name', 'target_name', 'target_id', 'source_degree', 'target_degree',\n",
    "        'dwpc', 'path-count', 'n', 'nnz', 'n_perms', 'mean', 'sd', 'r-dwpc', 'z-dwpc'])\n",
    "    \n",
    "    rows = list(itertools.islice(dwpc_gen, 15_000_000))\n",
    "    while len(rows) > 0:\n",
    "        new_rows = []\n",
    "        for row in rows:\n",
    "            dgp_info = dgp_dict[(row['source_degree'], row['target_degree'])]\n",
    "            row.update(dgp_info)\n",
    "            row['r-dwpc'] = numpy.float16(row['dwpc'] - row['mean'])\n",
    "            row['z-dwpc'] = numpy.float16(row['r-dwpc'] / row['sd'])\n",
    "            \n",
    "            # Only save rows above z-threshold\n",
    "            if (row['z-dwpc'] < 1) or (row['dwpc'] == 0):\n",
    "                continue\n",
    "            row['dwpc'] = numpy.float16(row['dwpc'])\n",
    "            row['mean'] = numpy.float16(row['mean'])\n",
    "            row['sd'] = numpy.float16(row['sd'])\n",
    "            new_rows.append(row)\n",
    "            \n",
    "        writer.writerows(new_rows)\n",
    "        rows = list(itertools.islice(dwpc_gen, 15_000_000))"
   ]
  },
  {
   "cell_type": "code",
   "execution_count": null,
   "metadata": {},
   "outputs": [],
   "source": []
  }
 ],
 "metadata": {
  "kernelspec": {
   "display_name": "Python 3",
   "language": "python",
   "name": "python3"
  },
  "language_info": {
   "codemirror_mode": {
    "name": "ipython",
    "version": 3
   },
   "file_extension": ".py",
   "mimetype": "text/x-python",
   "name": "python",
   "nbconvert_exporter": "python",
   "pygments_lexer": "ipython3",
   "version": "3.6.4"
  }
 },
 "nbformat": 4,
 "nbformat_minor": 2
}
