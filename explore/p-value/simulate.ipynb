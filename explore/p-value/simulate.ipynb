{
 "cells": [
  {
   "cell_type": "code",
   "execution_count": 1,
   "metadata": {},
   "outputs": [],
   "source": [
    "import matplotlib.pyplot as plt\n",
    "%matplotlib inline\n",
    "\n",
    "import numpy\n",
    "import scipy.stats"
   ]
  },
  {
   "cell_type": "code",
   "execution_count": 2,
   "metadata": {},
   "outputs": [],
   "source": [
    "bins = numpy.linspace(0, 1, 101)"
   ]
  },
  {
   "cell_type": "code",
   "execution_count": 3,
   "metadata": {},
   "outputs": [],
   "source": [
    "alpha, beta, p_nz = 4.220667439601125, 2.286973307856711, 0.13195574589578873"
   ]
  },
  {
   "cell_type": "code",
   "execution_count": 4,
   "metadata": {},
   "outputs": [],
   "source": [
    "draws = scipy.stats.gamma.rvs(alpha, loc=0, scale=1/beta, size=100000)\n",
    "draws[numpy.random.randint(0, len(draws), size=int(p_nz * len(draws)))] = 0"
   ]
  },
  {
   "cell_type": "code",
   "execution_count": 5,
   "metadata": {},
   "outputs": [
    {
     "data": {
      "image/png": "[encoded data removed]",
      "text/plain": [
       "<Figure size 432x288 with 1 Axes>"
      ]
     },
     "metadata": {},
     "output_type": "display_data"
    }
   ],
   "source": [
    "plt.hist(draws, bins=100);"
   ]
  },
  {
   "cell_type": "code",
   "execution_count": 6,
   "metadata": {},
   "outputs": [],
   "source": [
    "p_values = list()\n",
    "for draw in draws:\n",
    "    if draw == 0:\n",
    "        p=1\n",
    "    else:\n",
    "        p = p_nz * (1 - scipy.stats.gamma.cdf(draw, alpha, 0, 1/beta))\n",
    "    p_values.append(p)"
   ]
  },
  {
   "cell_type": "code",
   "execution_count": 7,
   "metadata": {},
   "outputs": [
    {
     "data": {
      "image/png": "[encoded data removed]",
      "text/plain": [
       "<Figure size 432x288 with 1 Axes>"
      ]
     },
     "metadata": {},
     "output_type": "display_data"
    }
   ],
   "source": [
    "plt.hist(p_values, bins=bins, density=True);"
   ]
  },
  {
   "cell_type": "markdown",
   "metadata": {},
   "source": [
    "## Compute actual values"
   ]
  },
  {
   "cell_type": "code",
   "execution_count": 8,
   "metadata": {},
   "outputs": [],
   "source": [
    "import hetmech.hetmat\n",
    "import hetmech.degree_weight\n",
    "import hetmech.degree_group\n",
    "import scipy.sparse\n",
    "import tqdm"
   ]
  },
  {
   "cell_type": "code",
   "execution_count": 9,
   "metadata": {},
   "outputs": [],
   "source": [
    "def matrix_to_dgp(matrix, dwpc_scaler, source_degree_to_ind, target_degree_to_ind):\n",
    "    rows = dict()\n",
    "    if scipy.sparse.issparse(matrix):\n",
    "        matrix = matrix.toarray()\n",
    "    \n",
    "    for source_degree, row_inds in source_degree_to_ind.items():\n",
    "        row_matrix = matrix[row_inds, :]\n",
    "        for target_degree, col_inds in target_degree_to_ind.items():\n",
    "            if source_degree == 0 or target_degree == 0:\n",
    "                continue\n",
    "            slice_matrix = row_matrix[:, col_inds]\n",
    "            values = numpy.arcsinh(slice_matrix / dwpc_scaler)\n",
    "            rows[(source_degree, target_degree)] = values.flatten().tolist()\n",
    "    return rows\n",
    "\n",
    "def metapath_to_full_dgp(hetmat, metapath):\n",
    "#     _, _, pc_matrix = hetmech.degree_weight.dwpc(hetmat, metapath, dense_threshold=0.7, damping=0.0)\n",
    "    _, _, dwpc_matrix = hetmech.degree_weight.dwpc(hetmat, metapath, dense_threshold=0.7, damping=0.5)\n",
    "    scaler = dwpc_matrix.mean()\n",
    "\n",
    "    source_degree_to_ind, target_degree_to_ind = hetmech.degree_group.metapath_to_degree_dicts(hetmat, metapath)\n",
    "    \n",
    "    perm_dgp = None\n",
    "    for name, permat in tqdm.tqdm(hetmat.permutations.items()):\n",
    "        _, _, matrix = hetmech.degree_weight.dwpc(permat, metapath, damping=0.5, dense_threshold=0.7)\n",
    "        degree_to_dgp = matrix_to_dgp(matrix, scaler, source_degree_to_ind, target_degree_to_ind)\n",
    "        if perm_dgp is None:\n",
    "            perm_dgp = degree_to_dgp.copy()\n",
    "        else:\n",
    "            for degree_combo, dgp_list in perm_dgp.items():\n",
    "                dgp_list.extend(degree_to_dgp[degree_combo])\n",
    "    return perm_dgp"
   ]
  },
  {
   "cell_type": "code",
   "execution_count": 10,
   "metadata": {},
   "outputs": [],
   "source": [
    "hetmat = hetmech.hetmat.HetMat('../../data/hetionet-v1.0.hetmat/')"
   ]
  },
  {
   "cell_type": "code",
   "execution_count": 11,
   "metadata": {},
   "outputs": [],
   "source": [
    "metapath = 'DaGbC'"
   ]
  },
  {
   "cell_type": "code",
   "execution_count": 12,
   "metadata": {},
   "outputs": [
    {
     "name": "stderr",
     "output_type": "stream",
     "text": [
      "100%|██████████| 200/200 [00:28<00:00,  7.11it/s]\n"
     ]
    }
   ],
   "source": [
    "perm_dgp = metapath_to_full_dgp(hetmat, metapath)"
   ]
  },
  {
   "cell_type": "code",
   "execution_count": 13,
   "metadata": {},
   "outputs": [
    {
     "data": {
      "application/vnd.jupyter.widget-view+json": {
       "model_id": "f38a10e7b1c440ad85c44d7ea20cc89f",
       "version_major": 2,
       "version_minor": 0
      },
      "text/plain": [
       "HBox(children=(IntProgress(value=0, max=4550), HTML(value='')))"
      ]
     },
     "metadata": {},
     "output_type": "display_data"
    },
    {
     "name": "stderr",
     "output_type": "stream",
     "text": [
      "/home/michael/.conda/envs/hetmech/lib/python3.6/site-packages/ipykernel/__main__.py:9: RuntimeWarning: divide by zero encountered in double_scalars\n"
     ]
    },
    {
     "name": "stdout",
     "output_type": "stream",
     "text": [
      "\n"
     ]
    }
   ],
   "source": [
    "p_values = list()\n",
    "for values in tqdm.tqdm_notebook(list(perm_dgp.values())):\n",
    "    # get the attributes of the null distribution for each\n",
    "    values = numpy.array(values)\n",
    "    values_nz = values[values > 0]\n",
    "    var_nz = numpy.var(values_nz)\n",
    "    mean_nz = numpy.mean(values_nz)\n",
    "    theta = var_nz / mean_nz\n",
    "    k = mean_nz / theta\n",
    "    p_nz = len(values_nz) / len(values)\n",
    "    \n",
    "    # simulate observations\n",
    "    draws = scipy.stats.gamma.rvs(k, loc=0, scale=theta, size=5)\n",
    "    draws[numpy.random.randint(0, len(draws), size=round(p_nz * len(draws)))] = 0\n",
    "    p_vals = list()\n",
    "    for draw in draws:\n",
    "        if draw == 0:\n",
    "            p=1\n",
    "        else:\n",
    "            p = p_nz * (1 - scipy.stats.gamma.cdf(draw, k, 0, theta))\n",
    "        p_vals.append(p)\n",
    "    p_values.extend(p_vals)"
   ]
  },
  {
   "cell_type": "code",
   "execution_count": 14,
   "metadata": {},
   "outputs": [
    {
     "data": {
      "image/png": "[encoded data removed]",
      "text/plain": [
       "<Figure size 432x288 with 1 Axes>"
      ]
     },
     "metadata": {},
     "output_type": "display_data"
    }
   ],
   "source": [
    "heights, bins, _ = plt.hist(p_values, bins=bins, density=True)\n",
    "plt.ylim((0, 1.1 * max(heights[:-1])))\n",
    "plt.title(f'Computed p-values for simulated draws {metapath}');"
   ]
  },
  {
   "cell_type": "code",
   "execution_count": null,
   "metadata": {},
   "outputs": [],
   "source": []
  }
 ],
 "metadata": {
  "kernelspec": {
   "display_name": "Python [conda env:hetmech]",
   "language": "python",
   "name": "conda-env-hetmech-py"
  },
  "language_info": {
   "codemirror_mode": {
    "name": "ipython",
    "version": 3
   },
   "file_extension": ".py",
   "mimetype": "text/x-python",
   "name": "python",
   "nbconvert_exporter": "python",
   "pygments_lexer": "ipython3",
   "version": "3.6.6"
  }
 },
 "nbformat": 4,
 "nbformat_minor": 2
}
