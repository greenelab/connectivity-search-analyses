{
 "cells": [
  {
   "cell_type": "code",
   "execution_count": 1,
   "metadata": {},
   "outputs": [],
   "source": [
    "import concurrent.futures\n",
    "import matplotlib.pyplot as plt\n",
    "import numpy\n",
    "import pandas\n",
    "import scipy.sparse\n",
    "import tqdm\n",
    "\n",
    "import hetmech.hetmat\n",
    "import hetmech.degree_group\n",
    "import hetmech.degree_weight\n",
    "import hetmech.pipeline\n",
    "\n",
    "%matplotlib inline"
   ]
  },
  {
   "cell_type": "code",
   "execution_count": 2,
   "metadata": {},
   "outputs": [],
   "source": [
    "hetmat = hetmech.hetmat.HetMat('../../data/hetionet-v1.0.hetmat/')\n",
    "\n",
    "metapaths = ['DaGbC', 'SpDpS', 'SEcCrCtD', 'CiPCiCtD']"
   ]
  },
  {
   "cell_type": "code",
   "execution_count": 3,
   "metadata": {},
   "outputs": [],
   "source": [
    "bins = numpy.linspace(0, 1, 101)\n",
    "bin_counts = {metapath: pandas.DataFrame() for metapath in metapaths}"
   ]
  },
  {
   "cell_type": "code",
   "execution_count": 4,
   "metadata": {},
   "outputs": [],
   "source": [
    "metapath = 'DaGbC'"
   ]
  },
  {
   "cell_type": "code",
   "execution_count": 5,
   "metadata": {},
   "outputs": [],
   "source": [
    "def matrix_to_dgp(matrix, dwpc_scaler, source_degree_to_ind, target_degree_to_ind):\n",
    "    rows = dict()\n",
    "    if scipy.sparse.issparse(matrix):\n",
    "        matrix = matrix.toarray()\n",
    "    \n",
    "    for source_degree, row_inds in source_degree_to_ind.items():\n",
    "        row_matrix = matrix[row_inds, :]\n",
    "        for target_degree, col_inds in target_degree_to_ind.items():\n",
    "            if source_degree == 0 or target_degree == 0:\n",
    "                continue\n",
    "            slice_matrix = row_matrix[:, col_inds]\n",
    "            values = numpy.arcsinh(slice_matrix / dwpc_scaler)\n",
    "            rows[(source_degree, target_degree)] = values.flatten().tolist()\n",
    "    return rows\n",
    "\n",
    "def metapath_to_full_dgp(hetmat, metapath):\n",
    "#     _, _, pc_matrix = hetmech.degree_weight.dwpc(hetmat, metapath, dense_threshold=0.7, damping=0.0)\n",
    "    _, _, dwpc_matrix = hetmech.degree_weight.dwpc(hetmat, metapath, dense_threshold=0.7, damping=0.5)\n",
    "    scaler = dwpc_matrix.mean()\n",
    "\n",
    "    source_degree_to_ind, target_degree_to_ind = hetmech.degree_group.metapath_to_degree_dicts(hetmat, metapath)\n",
    "    \n",
    "    perm_dgp = None\n",
    "    for name, permat in tqdm.tqdm(hetmat.permutations.items()):\n",
    "        _, _, matrix = hetmech.degree_weight.dwpc(permat, metapath, damping=0.5, dense_threshold=0.7)\n",
    "        degree_to_dgp = matrix_to_dgp(matrix, scaler, source_degree_to_ind, target_degree_to_ind)\n",
    "        if perm_dgp is None:\n",
    "            perm_dgp = degree_to_dgp.copy()\n",
    "        else:\n",
    "            for degree_combo, dgp_list in perm_dgp.items():\n",
    "                dgp_list.extend(degree_to_dgp[degree_combo])\n",
    "    return perm_dgp"
   ]
  },
  {
   "cell_type": "code",
   "execution_count": 6,
   "metadata": {},
   "outputs": [],
   "source": [
    "def empirical_p(permuted_nonzero_values, observed_value):\n",
    "    # Empirical p-value is adjusted to minimize misestimation. More conservative so that p!=0.\n",
    "    # (sum(abs(avgdiff) > abs(obsdiff)) + 1) / (length(avgdiff) + 1)\n",
    "    # http://doi.org/10.2202/1544-6115.1585\n",
    "    if isinstance(permuted_nonzero_values, list):\n",
    "        permuted_nonzero_values = numpy.array(permuted_nonzero_values)\n",
    "    if isinstance(observed_value, list) or isinstance(observed_value, numpy.ndarray):\n",
    "        return numpy.array([empirical_p(permuted_nonzero_values, val) for val in observed_value])\n",
    "    return float(sum(permuted_nonzero_values >= observed_value) + 1) / (len(permuted_nonzero_values) + 1)"
   ]
  },
  {
   "cell_type": "code",
   "execution_count": 7,
   "metadata": {},
   "outputs": [
    {
     "name": "stderr",
     "output_type": "stream",
     "text": [
      "100%|██████████| 200/200 [00:30<00:00,  6.46it/s]\n"
     ]
    },
    {
     "name": "stdout",
     "output_type": "stream",
     "text": [
      "CPU times: user 52.8 s, sys: 941 ms, total: 53.7 s\n",
      "Wall time: 53.6 s\n"
     ]
    }
   ],
   "source": [
    "%%time\n",
    "\n",
    "dwpc_df = pandas.DataFrame(hetmech.degree_group.dwpc_to_degrees(hetmat, metapath, ignore_zeros=False))\n",
    "dwpc_df = dwpc_df[(dwpc_df['source_degree'] != 0) & (dwpc_df['target_degree'] != 0)]\n",
    "perm_dgp = metapath_to_full_dgp(hetmat, metapath)\n",
    "\n",
    "dwpc_df['degree_combo'] = dwpc_df.apply(\n",
    "    lambda row: tuple(row[-4:-2]),\n",
    "    axis=1,\n",
    ")"
   ]
  },
  {
   "cell_type": "code",
   "execution_count": 8,
   "metadata": {},
   "outputs": [],
   "source": [
    "rows = dwpc_df[['degree_combo', 'dwpc']].to_dict('index')"
   ]
  },
  {
   "cell_type": "code",
   "execution_count": 10,
   "metadata": {},
   "outputs": [
    {
     "name": "stderr",
     "output_type": "stream",
     "text": [
      "100%|██████████| 186126/186126 [00:27<00:00, 6712.56it/s]\n"
     ]
    }
   ],
   "source": [
    "with concurrent.futures.ProcessPoolExecutor(6) as executor:\n",
    "    for index, row in tqdm.tqdm(rows.items()):\n",
    "        row['p_value'] = executor.submit(empirical_p, perm_dgp[row['degree_combo']], row['dwpc'])"
   ]
  },
  {
   "cell_type": "markdown",
   "metadata": {},
   "source": [
    "Note: the above took several hours"
   ]
  },
  {
   "cell_type": "code",
   "execution_count": 22,
   "metadata": {},
   "outputs": [],
   "source": [
    "rows_df = pandas.DataFrame.from_dict(rows, orient='index')\n",
    "rows_df['p_value_fin'] = rows_df['p_value'].apply(lambda x: x.result())"
   ]
  },
  {
   "cell_type": "code",
   "execution_count": 31,
   "metadata": {},
   "outputs": [
    {
     "data": {
      "image/png": "[encoded data removed]",
      "text/plain": [
       "<Figure size 432x288 with 1 Axes>"
      ]
     },
     "metadata": {},
     "output_type": "display_data"
    }
   ],
   "source": [
    "plt.title(f\"empirical p-values of {metapath}\")\n",
    "heights, bins, _ = plt.hist(rows_df['p_value_fin'], bins=bins, density=True, label='hetionet')\n",
    "plt.legend()\n",
    "plt.ylim((0, heights[0:-1].max()));"
   ]
  },
  {
   "cell_type": "code",
   "execution_count": null,
   "metadata": {},
   "outputs": [],
   "source": []
  }
 ],
 "metadata": {
  "kernelspec": {
   "display_name": "Python [conda env:hetmech]",
   "language": "python",
   "name": "conda-env-hetmech-py"
  },
  "language_info": {
   "codemirror_mode": {
    "name": "ipython",
    "version": 3
   },
   "file_extension": ".py",
   "mimetype": "text/x-python",
   "name": "python",
   "nbconvert_exporter": "python",
   "pygments_lexer": "ipython3",
   "version": "3.6.6"
  }
 },
 "nbformat": 4,
 "nbformat_minor": 2
}
