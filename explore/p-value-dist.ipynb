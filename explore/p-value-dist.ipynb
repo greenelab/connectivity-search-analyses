{
 "cells": [
  {
   "cell_type": "code",
   "execution_count": 1,
   "metadata": {},
   "outputs": [],
   "source": [
    "import matplotlib.pyplot as plt\n",
    "import numpy\n",
    "import pandas\n",
    "import tqdm\n",
    "\n",
    "import hetmech.hetmat\n",
    "import hetmech.degree_group\n",
    "import hetmech.degree_weight\n",
    "import hetmech.pipeline\n",
    "\n",
    "%matplotlib inline"
   ]
  },
  {
   "cell_type": "code",
   "execution_count": 2,
   "metadata": {},
   "outputs": [],
   "source": [
    "hetmat = hetmech.hetmat.HetMat('../data/hetionet-v1.0.hetmat/')"
   ]
  },
  {
   "cell_type": "code",
   "execution_count": 3,
   "metadata": {},
   "outputs": [],
   "source": [
    "metapaths = ['DaGbC', 'SpDpS', 'SEcCrCtD']"
   ]
  },
  {
   "cell_type": "markdown",
   "metadata": {},
   "source": [
    "## Compute p-values for the actual HetMat"
   ]
  },
  {
   "cell_type": "code",
   "execution_count": 4,
   "metadata": {},
   "outputs": [
    {
     "name": "stderr",
     "output_type": "stream",
     "text": [
      "100%|██████████| 3/3 [00:00<00:00, 16.85it/s]\n",
      "100%|██████████| 3/3 [00:00<00:00, 16.06it/s]\n"
     ]
    }
   ],
   "source": [
    "hetmat.path_counts_cache = hetmech.hetmat.caching.PathCountPriorityCache(hetmat, allocate_GB=10)\n",
    "for metapath in tqdm.tqdm(metapaths):\n",
    "    row_ids, col_ids, pc_matrix = hetmech.degree_weight.dwpc(hetmat, metapath, damping=0, dense_threshold=0.7, dtype='uint64')\n",
    "    path = hetmat.get_path_counts_path(metapath, 'dwpc', 0, None)\n",
    "    if not path.exists():\n",
    "        hetmech.hetmat.save_matrix(pc_matrix, path)\n",
    "    \n",
    "hetmat.path_counts_cache = hetmech.hetmat.caching.PathCountPriorityCache(hetmat, allocate_GB=10)\n",
    "mean_dwpcs = dict()\n",
    "for metapath in tqdm.tqdm(metapaths):\n",
    "    row_ids, col_ids, dwpc_matrix = hetmech.degree_weight.dwpc(hetmat, metapath, damping=0.5, dense_threshold=0.7, dtype='float64')\n",
    "    mean_dwpcs[(metapath, 'dwpc', 0.5)] = dwpc_matrix.mean()\n",
    "    path = hetmat.get_path_counts_path(metapath, 'dwpc', 0.5, None)\n",
    "    if not path.exists():\n",
    "        hetmech.hetmat.save_matrix(dwpc_matrix, path)"
   ]
  },
  {
   "cell_type": "code",
   "execution_count": 5,
   "metadata": {},
   "outputs": [
    {
     "name": "stderr",
     "output_type": "stream",
     "text": [
      "100%|██████████| 200/200 [03:00<00:00,  1.11it/s]\n"
     ]
    }
   ],
   "source": [
    "for name, permat in tqdm.tqdm((hetmat.permutations.items())):\n",
    "    permat.path_counts_cache = hetmech.hetmat.caching.PathCountPriorityCache(permat, allocate_GB=10)\n",
    "    for metapath in metapaths:\n",
    "        degree_grouped_df = hetmech.degree_group.single_permutation_degree_group(\n",
    "            permat, metapath, dwpc_mean=mean_dwpcs[(metapath, 'dwpc', 0.5)], damping=0.5)\n",
    "        path = hetmat.get_running_degree_group_path(metapath, 'dwpc', 0.5, extension='.pkl')\n",
    "        if path.exists():\n",
    "            running_df = pandas.read_pickle(path)\n",
    "            running_df += degree_grouped_df\n",
    "        else:\n",
    "            running_df = degree_grouped_df\n",
    "        running_df.to_pickle(path)\n",
    "    permat.path_counts_cache = None\n",
    "\n",
    "# Replace .pkl files with .tsv.gz files.\n",
    "for metapath in metapaths:\n",
    "    old_path = hetmat.get_running_degree_group_path(metapath, 'dwpc', 0.5, extension='.pkl')\n",
    "    df = pandas.read_pickle(old_path)\n",
    "    new_path = hetmat.get_running_degree_group_path(metapath, 'dwpc', 0.5, extension='.tsv.gz')\n",
    "    df.to_csv(new_path, sep='\\t', compression='gzip')\n",
    "    old_path.unlink()"
   ]
  },
  {
   "cell_type": "code",
   "execution_count": 6,
   "metadata": {},
   "outputs": [
    {
     "name": "stderr",
     "output_type": "stream",
     "text": [
      "100%|██████████| 3/3 [00:11<00:00,  3.82s/it]\n"
     ]
    }
   ],
   "source": [
    "for metapath in tqdm.tqdm(metapaths):\n",
    "    dwpcs_rows = hetmech.pipeline.combine_dwpc_dgp(hetmat, metapath, damping=0.5, ignore_zeros=True, max_p_value=1.0)\n",
    "    path = hetmat.directory.joinpath('adjusted-path-counts', 'dwpc-0.5',\n",
    "                                     'adjusted-dwpcs', f'{metapath}.tsv.gz')\n",
    "    hetmech.pipeline.grouped_tsv_writer(dwpcs_rows, path, float_format='%.7g', compression='gzip')"
   ]
  },
  {
   "cell_type": "markdown",
   "metadata": {},
   "source": [
    "## Compute p-values for a permat - Permutation 1"
   ]
  },
  {
   "cell_type": "code",
   "execution_count": 7,
   "metadata": {},
   "outputs": [],
   "source": [
    "perms = hetmat.permutations.copy()\n",
    "permat_1 = perms.pop('001')"
   ]
  },
  {
   "cell_type": "code",
   "execution_count": 8,
   "metadata": {},
   "outputs": [
    {
     "name": "stderr",
     "output_type": "stream",
     "text": [
      "100%|██████████| 3/3 [00:00<00:00, 15.03it/s]\n",
      "100%|██████████| 3/3 [00:00<00:00, 12.76it/s]\n"
     ]
    }
   ],
   "source": [
    "permat_1.path_counts_cache = hetmech.hetmat.caching.PathCountPriorityCache(permat_1, allocate_GB=10)\n",
    "for metapath in tqdm.tqdm(metapaths):\n",
    "    row_ids, col_ids, pc_matrix = hetmech.degree_weight.dwpc(permat_1, metapath, damping=0, dense_threshold=0.7, dtype='uint64')\n",
    "    path = permat_1.get_path_counts_path(metapath, 'dwpc', 0, None)\n",
    "    path.parent.mkdir(parents=True, exist_ok=True)\n",
    "    if not path.exists():\n",
    "        hetmech.hetmat.save_matrix(pc_matrix, path)\n",
    "    del pc_matrix\n",
    "    \n",
    "permat_1.path_counts_cache = hetmech.hetmat.caching.PathCountPriorityCache(permat_1, allocate_GB=10)\n",
    "mean_dwpcs = dict()\n",
    "for metapath in tqdm.tqdm(metapaths):\n",
    "    row_ids, col_ids, dwpc_matrix = hetmech.degree_weight.dwpc(permat_1, metapath, damping=0.5, dense_threshold=0.7, dtype='float64')\n",
    "    mean_dwpcs[(metapath, 'dwpc', 0.5)] = dwpc_matrix.mean()\n",
    "    path = permat_1.get_path_counts_path(metapath, 'dwpc', 0.5, None)\n",
    "    path.parent.mkdir(parents=True, exist_ok=True)\n",
    "    if not path.exists():\n",
    "        hetmech.hetmat.save_matrix(dwpc_matrix, path)\n",
    "    del dwpc_matrix"
   ]
  },
  {
   "cell_type": "code",
   "execution_count": 9,
   "metadata": {},
   "outputs": [
    {
     "name": "stderr",
     "output_type": "stream",
     "text": [
      "100%|██████████| 199/199 [03:01<00:00,  1.10it/s]\n"
     ]
    }
   ],
   "source": [
    "for name, permat in tqdm.tqdm(perms.items()):\n",
    "    permat.path_counts_cache = hetmech.hetmat.caching.PathCountPriorityCache(permat, allocate_GB=16)\n",
    "    for metapath in metapaths:\n",
    "        degree_grouped_df = hetmech.degree_group.single_permutation_degree_group(\n",
    "            permat, metapath, dwpc_mean=mean_dwpcs[(metapath, 'dwpc', 0.5)], damping=0.5)\n",
    "        path = permat_1.get_running_degree_group_path(metapath, 'dwpc', 0.5, extension='.pkl')\n",
    "        path.parent.mkdir(parents=True, exist_ok=True)\n",
    "        if path.exists():\n",
    "            running_df = pandas.read_pickle(path)\n",
    "            running_df += degree_grouped_df\n",
    "        else:\n",
    "            running_df = degree_grouped_df\n",
    "        running_df.to_pickle(path)\n",
    "    permat.path_counts_cache = None\n",
    "\n",
    "# Replace .pkl files with .tsv.gz files.\n",
    "for metapath in metapaths:\n",
    "    old_path = permat_1.get_running_degree_group_path(metapath, 'dwpc', 0.5, extension='.pkl')\n",
    "    df = pandas.read_pickle(old_path)\n",
    "    new_path = permat_1.get_running_degree_group_path(metapath, 'dwpc', 0.5, extension='.tsv.gz')\n",
    "    df.to_csv(new_path, sep='\\t', compression='gzip')\n",
    "    old_path.unlink()"
   ]
  },
  {
   "cell_type": "code",
   "execution_count": 10,
   "metadata": {},
   "outputs": [
    {
     "name": "stderr",
     "output_type": "stream",
     "text": [
      "100%|██████████| 3/3 [00:14<00:00,  4.94s/it]\n"
     ]
    }
   ],
   "source": [
    "for metapath in tqdm.tqdm(metapaths):\n",
    "    dwpcs_rows = hetmech.pipeline.combine_dwpc_dgp(permat_1, metapath, damping=0.5, ignore_zeros=True, max_p_value=1.0)\n",
    "    path = permat_1.directory.joinpath('adjusted-path-counts', 'dwpc-0.5',\n",
    "                                       'adjusted-dwpcs', f'{metapath}.tsv.gz')\n",
    "    path.parent.mkdir(parents=True, exist_ok=True)\n",
    "    hetmech.pipeline.grouped_tsv_writer(dwpcs_rows, path, float_format='%.7g', compression='gzip')"
   ]
  },
  {
   "cell_type": "code",
   "execution_count": 11,
   "metadata": {
    "scrolled": true
   },
   "outputs": [
    {
     "data": {
      "image/png": "[encoded data removed]",
      "text/plain": [
       "<Figure size 432x288 with 1 Axes>"
      ]
     },
     "metadata": {},
     "output_type": "display_data"
    },
    {
     "data": {
      "image/png": "[encoded data removed]",
      "text/plain": [
       "<Figure size 432x288 with 1 Axes>"
      ]
     },
     "metadata": {},
     "output_type": "display_data"
    },
    {
     "data": {
      "image/png": "[encoded data removed]",
      "text/plain": [
       "<Figure size 432x288 with 1 Axes>"
      ]
     },
     "metadata": {},
     "output_type": "display_data"
    }
   ],
   "source": [
    "for metapath in metapaths:\n",
    "    plt.figure()\n",
    "    plt.title(metapath)\n",
    "    path = hetmat.directory.joinpath('adjusted-path-counts', 'dwpc-0.5',\n",
    "                                     'adjusted-dwpcs', f'{metapath}.tsv.gz')\n",
    "    df = pandas.read_table(path, compression='gzip')\n",
    "    plt.hist(df['p_value'], label='hetionet', alpha=0.5)\n",
    "    \n",
    "\n",
    "    path = permat_1.directory.joinpath('adjusted-path-counts', 'dwpc-0.5',\n",
    "                                       'adjusted-dwpcs', f'{metapath}.tsv.gz')\n",
    "    df = pandas.read_table(path, compression='gzip')\n",
    "    plt.hist(df['p_value'], label='perm_1', alpha=0.5)\n",
    "    plt.legend();"
   ]
  },
  {
   "cell_type": "markdown",
   "metadata": {},
   "source": [
    "### Permutation 2"
   ]
  },
  {
   "cell_type": "code",
   "execution_count": 12,
   "metadata": {},
   "outputs": [],
   "source": [
    "perms = hetmat.permutations.copy()\n",
    "permat_1 = perms.pop('002')"
   ]
  },
  {
   "cell_type": "code",
   "execution_count": 13,
   "metadata": {},
   "outputs": [
    {
     "name": "stderr",
     "output_type": "stream",
     "text": [
      "100%|██████████| 3/3 [00:00<00:00, 14.99it/s]\n",
      "100%|██████████| 3/3 [00:00<00:00, 12.65it/s]\n"
     ]
    }
   ],
   "source": [
    "permat_1.path_counts_cache = hetmech.hetmat.caching.PathCountPriorityCache(permat_1, allocate_GB=10)\n",
    "for metapath in tqdm.tqdm(metapaths):\n",
    "    row_ids, col_ids, pc_matrix = hetmech.degree_weight.dwpc(permat_1, metapath, damping=0, dense_threshold=0.7, dtype='uint64')\n",
    "    path = permat_1.get_path_counts_path(metapath, 'dwpc', 0, None)\n",
    "    path.parent.mkdir(parents=True, exist_ok=True)\n",
    "    if not path.exists():\n",
    "        hetmech.hetmat.save_matrix(pc_matrix, path)\n",
    "    del pc_matrix\n",
    "    \n",
    "permat_1.path_counts_cache = hetmech.hetmat.caching.PathCountPriorityCache(permat_1, allocate_GB=10)\n",
    "mean_dwpcs = dict()\n",
    "for metapath in tqdm.tqdm(metapaths):\n",
    "    row_ids, col_ids, dwpc_matrix = hetmech.degree_weight.dwpc(permat_1, metapath, damping=0.5, dense_threshold=0.7, dtype='float64')\n",
    "    mean_dwpcs[(metapath, 'dwpc', 0.5)] = dwpc_matrix.mean()\n",
    "    path = permat_1.get_path_counts_path(metapath, 'dwpc', 0.5, None)\n",
    "    path.parent.mkdir(parents=True, exist_ok=True)\n",
    "    if not path.exists():\n",
    "        hetmech.hetmat.save_matrix(dwpc_matrix, path)\n",
    "    del dwpc_matrix"
   ]
  },
  {
   "cell_type": "code",
   "execution_count": 14,
   "metadata": {},
   "outputs": [
    {
     "name": "stderr",
     "output_type": "stream",
     "text": [
      "100%|██████████| 199/199 [03:01<00:00,  1.10it/s]\n"
     ]
    }
   ],
   "source": [
    "for name, permat in tqdm.tqdm(perms.items()):\n",
    "    permat.path_counts_cache = hetmech.hetmat.caching.PathCountPriorityCache(permat, allocate_GB=16)\n",
    "    for metapath in metapaths:\n",
    "        degree_grouped_df = hetmech.degree_group.single_permutation_degree_group(\n",
    "            permat, metapath, dwpc_mean=mean_dwpcs[(metapath, 'dwpc', 0.5)], damping=0.5)\n",
    "        path = permat_1.get_running_degree_group_path(metapath, 'dwpc', 0.5, extension='.pkl')\n",
    "        path.parent.mkdir(parents=True, exist_ok=True)\n",
    "        if path.exists():\n",
    "            running_df = pandas.read_pickle(path)\n",
    "            running_df += degree_grouped_df\n",
    "        else:\n",
    "            running_df = degree_grouped_df\n",
    "        running_df.to_pickle(path)\n",
    "    permat.path_counts_cache = None\n",
    "\n",
    "# Replace .pkl files with .tsv.gz files.\n",
    "for metapath in metapaths:\n",
    "    old_path = permat_1.get_running_degree_group_path(metapath, 'dwpc', 0.5, extension='.pkl')\n",
    "    df = pandas.read_pickle(old_path)\n",
    "    new_path = permat_1.get_running_degree_group_path(metapath, 'dwpc', 0.5, extension='.tsv.gz')\n",
    "    df.to_csv(new_path, sep='\\t', compression='gzip')\n",
    "    old_path.unlink()"
   ]
  },
  {
   "cell_type": "code",
   "execution_count": 15,
   "metadata": {},
   "outputs": [
    {
     "name": "stderr",
     "output_type": "stream",
     "text": [
      "100%|██████████| 3/3 [00:14<00:00,  4.80s/it]\n"
     ]
    }
   ],
   "source": [
    "for metapath in tqdm.tqdm(metapaths):\n",
    "    dwpcs_rows = hetmech.pipeline.combine_dwpc_dgp(permat_1, metapath, damping=0.5, ignore_zeros=True, max_p_value=1.0)\n",
    "    path = permat_1.directory.joinpath('adjusted-path-counts', 'dwpc-0.5',\n",
    "                                       'adjusted-dwpcs', f'{metapath}.tsv.gz')\n",
    "    path.parent.mkdir(parents=True, exist_ok=True)\n",
    "    hetmech.pipeline.grouped_tsv_writer(dwpcs_rows, path, float_format='%.7g', compression='gzip')"
   ]
  },
  {
   "cell_type": "code",
   "execution_count": 16,
   "metadata": {},
   "outputs": [
    {
     "data": {
      "image/png": "[encoded data removed]",
      "text/plain": [
       "<Figure size 432x288 with 1 Axes>"
      ]
     },
     "metadata": {},
     "output_type": "display_data"
    },
    {
     "data": {
      "image/png": "[encoded data removed]",
      "text/plain": [
       "<Figure size 432x288 with 1 Axes>"
      ]
     },
     "metadata": {},
     "output_type": "display_data"
    },
    {
     "data": {
      "image/png": "[encoded data removed]",
      "text/plain": [
       "<Figure size 432x288 with 1 Axes>"
      ]
     },
     "metadata": {},
     "output_type": "display_data"
    }
   ],
   "source": [
    "for metapath in metapaths:\n",
    "    plt.figure()\n",
    "    plt.title(metapath)\n",
    "    path = hetmat.directory.joinpath('adjusted-path-counts', 'dwpc-0.5',\n",
    "                                     'adjusted-dwpcs', f'{metapath}.tsv.gz')\n",
    "    df = pandas.read_table(path, compression='gzip')\n",
    "    plt.hist(df['p_value'], label='hetionet', alpha=0.5)\n",
    "    \n",
    "\n",
    "    path = permat_1.directory.joinpath('adjusted-path-counts', 'dwpc-0.5',\n",
    "                                       'adjusted-dwpcs', f'{metapath}.tsv.gz')\n",
    "    df = pandas.read_table(path, compression='gzip')\n",
    "    plt.hist(df['p_value'], label='perm_1', alpha=0.5)\n",
    "    plt.legend();"
   ]
  },
  {
   "cell_type": "markdown",
   "metadata": {},
   "source": [
    "### Permutation 150"
   ]
  },
  {
   "cell_type": "code",
   "execution_count": 17,
   "metadata": {},
   "outputs": [],
   "source": [
    "perms = hetmat.permutations.copy()\n",
    "permat_1 = perms.pop('150')"
   ]
  },
  {
   "cell_type": "code",
   "execution_count": 18,
   "metadata": {},
   "outputs": [
    {
     "name": "stderr",
     "output_type": "stream",
     "text": [
      "100%|██████████| 3/3 [00:00<00:00, 14.53it/s]\n",
      "100%|██████████| 3/3 [00:00<00:00, 12.26it/s]\n"
     ]
    }
   ],
   "source": [
    "permat_1.path_counts_cache = hetmech.hetmat.caching.PathCountPriorityCache(permat_1, allocate_GB=10)\n",
    "for metapath in tqdm.tqdm(metapaths):\n",
    "    row_ids, col_ids, pc_matrix = hetmech.degree_weight.dwpc(permat_1, metapath, damping=0, dense_threshold=0.7, dtype='uint64')\n",
    "    path = permat_1.get_path_counts_path(metapath, 'dwpc', 0, None)\n",
    "    path.parent.mkdir(parents=True, exist_ok=True)\n",
    "    if not path.exists():\n",
    "        hetmech.hetmat.save_matrix(pc_matrix, path)\n",
    "    del pc_matrix\n",
    "    \n",
    "permat_1.path_counts_cache = hetmech.hetmat.caching.PathCountPriorityCache(permat_1, allocate_GB=10)\n",
    "mean_dwpcs = dict()\n",
    "for metapath in tqdm.tqdm(metapaths):\n",
    "    row_ids, col_ids, dwpc_matrix = hetmech.degree_weight.dwpc(permat_1, metapath, damping=0.5, dense_threshold=0.7, dtype='float64')\n",
    "    mean_dwpcs[(metapath, 'dwpc', 0.5)] = dwpc_matrix.mean()\n",
    "    path = permat_1.get_path_counts_path(metapath, 'dwpc', 0.5, None)\n",
    "    path.parent.mkdir(parents=True, exist_ok=True)\n",
    "    if not path.exists():\n",
    "        hetmech.hetmat.save_matrix(dwpc_matrix, path)\n",
    "    del dwpc_matrix"
   ]
  },
  {
   "cell_type": "code",
   "execution_count": 19,
   "metadata": {},
   "outputs": [
    {
     "name": "stderr",
     "output_type": "stream",
     "text": [
      "100%|██████████| 199/199 [03:02<00:00,  1.09it/s]\n"
     ]
    }
   ],
   "source": [
    "for name, permat in tqdm.tqdm(perms.items()):\n",
    "    permat.path_counts_cache = hetmech.hetmat.caching.PathCountPriorityCache(permat, allocate_GB=16)\n",
    "    for metapath in metapaths:\n",
    "        degree_grouped_df = hetmech.degree_group.single_permutation_degree_group(\n",
    "            permat, metapath, dwpc_mean=mean_dwpcs[(metapath, 'dwpc', 0.5)], damping=0.5)\n",
    "        path = permat_1.get_running_degree_group_path(metapath, 'dwpc', 0.5, extension='.pkl')\n",
    "        path.parent.mkdir(parents=True, exist_ok=True)\n",
    "        if path.exists():\n",
    "            running_df = pandas.read_pickle(path)\n",
    "            running_df += degree_grouped_df\n",
    "        else:\n",
    "            running_df = degree_grouped_df\n",
    "        running_df.to_pickle(path)\n",
    "    permat.path_counts_cache = None\n",
    "\n",
    "# Replace .pkl files with .tsv.gz files.\n",
    "for metapath in metapaths:\n",
    "    old_path = permat_1.get_running_degree_group_path(metapath, 'dwpc', 0.5, extension='.pkl')\n",
    "    df = pandas.read_pickle(old_path)\n",
    "    new_path = permat_1.get_running_degree_group_path(metapath, 'dwpc', 0.5, extension='.tsv.gz')\n",
    "    df.to_csv(new_path, sep='\\t', compression='gzip')\n",
    "    old_path.unlink()"
   ]
  },
  {
   "cell_type": "code",
   "execution_count": 20,
   "metadata": {},
   "outputs": [
    {
     "name": "stderr",
     "output_type": "stream",
     "text": [
      "100%|██████████| 3/3 [00:14<00:00,  4.95s/it]\n"
     ]
    }
   ],
   "source": [
    "for metapath in tqdm.tqdm(metapaths):\n",
    "    dwpcs_rows = hetmech.pipeline.combine_dwpc_dgp(permat_1, metapath, damping=0.5, ignore_zeros=True, max_p_value=1.0)\n",
    "    path = permat_1.directory.joinpath('adjusted-path-counts', 'dwpc-0.5',\n",
    "                                       'adjusted-dwpcs', f'{metapath}.tsv.gz')\n",
    "    path.parent.mkdir(parents=True, exist_ok=True)\n",
    "    hetmech.pipeline.grouped_tsv_writer(dwpcs_rows, path, float_format='%.7g', compression='gzip')"
   ]
  },
  {
   "cell_type": "code",
   "execution_count": 21,
   "metadata": {},
   "outputs": [
    {
     "data": {
      "image/png": "[encoded data removed]",
      "text/plain": [
       "<Figure size 432x288 with 1 Axes>"
      ]
     },
     "metadata": {},
     "output_type": "display_data"
    },
    {
     "data": {
      "image/png": "[encoded data removed]",
      "text/plain": [
       "<Figure size 432x288 with 1 Axes>"
      ]
     },
     "metadata": {},
     "output_type": "display_data"
    },
    {
     "data": {
      "image/png": "[encoded data removed]",
      "text/plain": [
       "<Figure size 432x288 with 1 Axes>"
      ]
     },
     "metadata": {},
     "output_type": "display_data"
    }
   ],
   "source": [
    "for metapath in metapaths:\n",
    "    plt.figure()\n",
    "    plt.title(metapath)\n",
    "    path = hetmat.directory.joinpath('adjusted-path-counts', 'dwpc-0.5',\n",
    "                                     'adjusted-dwpcs', f'{metapath}.tsv.gz')\n",
    "    df = pandas.read_table(path, compression='gzip')\n",
    "    plt.hist(df['p_value'], label='hetionet', alpha=0.5)\n",
    "    \n",
    "\n",
    "    path = permat_1.directory.joinpath('adjusted-path-counts', 'dwpc-0.5',\n",
    "                                       'adjusted-dwpcs', f'{metapath}.tsv.gz')\n",
    "    df = pandas.read_table(path, compression='gzip')\n",
    "    plt.hist(df['p_value'], label='perm_1', alpha=0.5)\n",
    "    plt.legend();"
   ]
  },
  {
   "cell_type": "code",
   "execution_count": null,
   "metadata": {},
   "outputs": [],
   "source": []
  }
 ],
 "metadata": {
  "kernelspec": {
   "display_name": "Python [conda env:hetmech]",
   "language": "python",
   "name": "conda-env-hetmech-py"
  },
  "language_info": {
   "codemirror_mode": {
    "name": "ipython",
    "version": 3
   },
   "file_extension": ".py",
   "mimetype": "text/x-python",
   "name": "python",
   "nbconvert_exporter": "python",
   "pygments_lexer": "ipython3",
   "version": "3.6.6"
  }
 },
 "nbformat": 4,
 "nbformat_minor": 2
}
