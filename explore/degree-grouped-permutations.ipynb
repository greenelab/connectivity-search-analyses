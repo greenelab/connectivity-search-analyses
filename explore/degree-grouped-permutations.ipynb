{
 "cells": [
  {
   "cell_type": "code",
   "execution_count": 64,
   "metadata": {},
   "outputs": [],
   "source": [
    "import numpy as np\n",
    "from scipy import sparse\n",
    "import pandas as pd\n",
    "import itertools\n",
    "import hetio.readwrite"
   ]
  },
  {
   "cell_type": "code",
   "execution_count": 2,
   "metadata": {},
   "outputs": [],
   "source": [
    "import sys\n",
    "sys.path.insert(0, '../')\n",
    "from hetmech.degree_weight import dwpc\n",
    "from hetmech.matrix import metaedge_to_adjacency_matrix"
   ]
  },
  {
   "cell_type": "code",
   "execution_count": 3,
   "metadata": {},
   "outputs": [],
   "source": [
    "repo_url = 'https://github.com/dhimmel/hetionet'\n",
    "commit = '6d26d15e9055b33b4fd97a180fa288e4f2060b96'\n",
    "names = ['hetionet-v1.0'] + [f'hetionet-v1.0-perm-{i + 1}' for i in range(5)]    \n",
    "paths = ['hetnet/json/hetionet-v1.0.json.bz2'] + [\n",
    "    f'hetnet/permuted/json/{name}.json.bz2' for name in names[1:]\n",
    "]"
   ]
  },
  {
   "cell_type": "code",
   "execution_count": 4,
   "metadata": {},
   "outputs": [
    {
     "name": "stdout",
     "output_type": "stream",
     "text": [
      "Loaded hetionet-v1.0\n",
      "metapath: CtD, time: 0.09569749499496538\n",
      "metapath: CpD, time: 0.09502857099869289\n",
      "Loaded hetionet-v1.0-perm-1\n",
      "metapath: CtD, time: 0.09746511100092903\n",
      "metapath: CpD, time: 0.09507147000113036\n",
      "Loaded hetionet-v1.0-perm-2\n",
      "metapath: CtD, time: 0.10262630401120987\n",
      "metapath: CpD, time: 0.10103587999765296\n",
      "Loaded hetionet-v1.0-perm-3\n",
      "metapath: CtD, time: 0.10390301799634472\n",
      "metapath: CpD, time: 0.10102417299640365\n",
      "Loaded hetionet-v1.0-perm-4\n",
      "metapath: CtD, time: 0.10441699200600851\n",
      "metapath: CpD, time: 0.1031109710020246\n",
      "Loaded hetionet-v1.0-perm-5\n",
      "metapath: CtD, time: 0.10719663699273951\n",
      "metapath: CpD, time: 0.10297018299752381\n"
     ]
    }
   ],
   "source": [
    "metapaths = None\n",
    "permuted = pd.DataFrame()\n",
    "dwpc_df = pd.DataFrame()\n",
    "\n",
    "for name, path in zip(names, paths):\n",
    "    url = f'{repo_url}/raw/{commit}/{path}'\n",
    "    graph = hetio.readwrite.read_graph(url)\n",
    "    print(f'Loaded {name}')\n",
    "    if not metapaths:\n",
    "        metaedge = graph.metagraph.metapath_from_abbrev('CtD')\n",
    "        metapaths = graph.metagraph.extract_metapaths(source=metaedge.source(), target=metaedge.target(), \n",
    "                                                      max_length=1)\n",
    "    for metapath in metapaths:\n",
    "        c, d, dwpc_matrix, t = dwpc(graph, metapath)\n",
    "        print(f'metapath: {metapath}, time: {t}')\n",
    "        \n",
    "        out_degrees = np.sum(metaedge_to_adjacency_matrix(graph, metapath[0])[2], axis=1)\n",
    "        in_degrees = np.sum(metaedge_to_adjacency_matrix(graph, metapath[-1])[2], axis=0)\n",
    "        degree_combos = list(itertools.product(out_degrees, in_degrees))\n",
    "        indices = list(itertools.product(range(len(out_degrees)), range(len(in_degrees))))\n",
    "        index_df = pd.DataFrame(indices, columns=['row', 'col'])\n",
    "        degree_combo_df = pd.DataFrame(degree_combos, columns=['source_degree', 'target_degree'])\n",
    "        degree_index_df = index_df.join(degree_combo_df)\n",
    "                \n",
    "        # Add DWPC values\n",
    "        degree_index_df['dwpc'] = degree_index_df.apply(lambda row: dwpc_matrix[row[0], row[1]], axis=1)\n",
    "        degree_index_df['metapath'] = pd.Series([metapath] * len(degree_index_df))\n",
    "        degree_index_df.drop(columns=['row', 'col'])\n",
    "        if 'perm' in name:\n",
    "            permuted = permuted.append(degree_index_df)\n",
    "        else:\n",
    "            dwpc_df = dwpc_df.append(degree_index_df)"
   ]
  },
  {
   "cell_type": "code",
   "execution_count": 56,
   "metadata": {},
   "outputs": [
    {
     "data": {
      "text/html": [
       "<div>\n",
       "<style scoped>\n",
       "    .dataframe tbody tr th:only-of-type {\n",
       "        vertical-align: middle;\n",
       "    }\n",
       "\n",
       "    .dataframe tbody tr th {\n",
       "        vertical-align: top;\n",
       "    }\n",
       "\n",
       "    .dataframe thead th {\n",
       "        text-align: right;\n",
       "    }\n",
       "</style>\n",
       "<table border=\"1\" class=\"dataframe\">\n",
       "  <thead>\n",
       "    <tr style=\"text-align: right;\">\n",
       "      <th></th>\n",
       "      <th>row</th>\n",
       "      <th>col</th>\n",
       "      <th>source_degree</th>\n",
       "      <th>target_degree</th>\n",
       "      <th>dwpc</th>\n",
       "      <th>metapath</th>\n",
       "    </tr>\n",
       "  </thead>\n",
       "  <tbody>\n",
       "    <tr>\n",
       "      <th>0</th>\n",
       "      <td>0</td>\n",
       "      <td>0</td>\n",
       "      <td>2</td>\n",
       "      <td>0</td>\n",
       "      <td>0.0</td>\n",
       "      <td>(Compound - treats - Disease)</td>\n",
       "    </tr>\n",
       "    <tr>\n",
       "      <th>1</th>\n",
       "      <td>0</td>\n",
       "      <td>1</td>\n",
       "      <td>2</td>\n",
       "      <td>0</td>\n",
       "      <td>0.0</td>\n",
       "      <td>(Compound - treats - Disease)</td>\n",
       "    </tr>\n",
       "  </tbody>\n",
       "</table>\n",
       "</div>"
      ],
      "text/plain": [
       "   row  col  source_degree  target_degree  dwpc                       metapath\n",
       "0    0    0              2              0   0.0  (Compound - treats - Disease)\n",
       "1    0    1              2              0   0.0  (Compound - treats - Disease)"
      ]
     },
     "execution_count": 56,
     "metadata": {},
     "output_type": "execute_result"
    }
   ],
   "source": [
    "permuted.head(2)"
   ]
  },
  {
   "cell_type": "markdown",
   "metadata": {},
   "source": [
    "## A single metapath:"
   ]
  },
  {
   "cell_type": "code",
   "execution_count": 7,
   "metadata": {},
   "outputs": [],
   "source": [
    "permutation_df = permuted[permuted['metapath'] == metapaths[1]]"
   ]
  },
  {
   "cell_type": "code",
   "execution_count": 8,
   "metadata": {},
   "outputs": [],
   "source": [
    "full_dwpc_df = dwpc_df[dwpc_df['metapath'] == metapaths[1]]"
   ]
  },
  {
   "cell_type": "code",
   "execution_count": 9,
   "metadata": {},
   "outputs": [],
   "source": [
    "degree_grouped_permutations = pd.DataFrame(permutation_df\n",
    "                                           .groupby(['source_degree', 'target_degree'])['dwpc']\n",
    "                                           .apply(list)).reset_index()"
   ]
  },
  {
   "cell_type": "code",
   "execution_count": 10,
   "metadata": {},
   "outputs": [
    {
     "data": {
      "text/html": [
       "<div>\n",
       "<style scoped>\n",
       "    .dataframe tbody tr th:only-of-type {\n",
       "        vertical-align: middle;\n",
       "    }\n",
       "\n",
       "    .dataframe tbody tr th {\n",
       "        vertical-align: top;\n",
       "    }\n",
       "\n",
       "    .dataframe thead th {\n",
       "        text-align: right;\n",
       "    }\n",
       "</style>\n",
       "<table border=\"1\" class=\"dataframe\">\n",
       "  <thead>\n",
       "    <tr style=\"text-align: right;\">\n",
       "      <th></th>\n",
       "      <th>source_degree</th>\n",
       "      <th>target_degree</th>\n",
       "      <th>dwpc</th>\n",
       "    </tr>\n",
       "  </thead>\n",
       "  <tbody>\n",
       "    <tr>\n",
       "      <th>0</th>\n",
       "      <td>0</td>\n",
       "      <td>0</td>\n",
       "      <td>[0.0, 0.0, 0.0, 0.0, 0.0, 0.0, 0.0, 0.0, 0.0, ...</td>\n",
       "    </tr>\n",
       "    <tr>\n",
       "      <th>1</th>\n",
       "      <td>0</td>\n",
       "      <td>1</td>\n",
       "      <td>[0.0, 0.0, 0.0, 0.0, 0.0, 0.0, 0.0, 0.0, 0.0, ...</td>\n",
       "    </tr>\n",
       "  </tbody>\n",
       "</table>\n",
       "</div>"
      ],
      "text/plain": [
       "   source_degree  target_degree  \\\n",
       "0              0              0   \n",
       "1              0              1   \n",
       "\n",
       "                                                dwpc  \n",
       "0  [0.0, 0.0, 0.0, 0.0, 0.0, 0.0, 0.0, 0.0, 0.0, ...  \n",
       "1  [0.0, 0.0, 0.0, 0.0, 0.0, 0.0, 0.0, 0.0, 0.0, ...  "
      ]
     },
     "execution_count": 10,
     "metadata": {},
     "output_type": "execute_result"
    }
   ],
   "source": [
    "degree_grouped_permutations.head(2)"
   ]
  },
  {
   "cell_type": "code",
   "execution_count": 11,
   "metadata": {},
   "outputs": [],
   "source": [
    "full_dwpc_df = full_dwpc_df.merge(degree_grouped_permutations, on=['source_degree', 'target_degree'])"
   ]
  },
  {
   "cell_type": "code",
   "execution_count": 12,
   "metadata": {},
   "outputs": [
    {
     "data": {
      "text/html": [
       "<div>\n",
       "<style scoped>\n",
       "    .dataframe tbody tr th:only-of-type {\n",
       "        vertical-align: middle;\n",
       "    }\n",
       "\n",
       "    .dataframe tbody tr th {\n",
       "        vertical-align: top;\n",
       "    }\n",
       "\n",
       "    .dataframe thead th {\n",
       "        text-align: right;\n",
       "    }\n",
       "</style>\n",
       "<table border=\"1\" class=\"dataframe\">\n",
       "  <thead>\n",
       "    <tr style=\"text-align: right;\">\n",
       "      <th></th>\n",
       "      <th>row</th>\n",
       "      <th>col</th>\n",
       "      <th>source_degree</th>\n",
       "      <th>target_degree</th>\n",
       "      <th>dwpc_x</th>\n",
       "      <th>metapath</th>\n",
       "      <th>dwpc_y</th>\n",
       "    </tr>\n",
       "  </thead>\n",
       "  <tbody>\n",
       "    <tr>\n",
       "      <th>0</th>\n",
       "      <td>0</td>\n",
       "      <td>0</td>\n",
       "      <td>0</td>\n",
       "      <td>1</td>\n",
       "      <td>0.0</td>\n",
       "      <td>(Compound - palliates - Disease)</td>\n",
       "      <td>[0.0, 0.0, 0.0, 0.0, 0.0, 0.0, 0.0, 0.0, 0.0, ...</td>\n",
       "    </tr>\n",
       "    <tr>\n",
       "      <th>1</th>\n",
       "      <td>0</td>\n",
       "      <td>3</td>\n",
       "      <td>0</td>\n",
       "      <td>1</td>\n",
       "      <td>0.0</td>\n",
       "      <td>(Compound - palliates - Disease)</td>\n",
       "      <td>[0.0, 0.0, 0.0, 0.0, 0.0, 0.0, 0.0, 0.0, 0.0, ...</td>\n",
       "    </tr>\n",
       "  </tbody>\n",
       "</table>\n",
       "</div>"
      ],
      "text/plain": [
       "   row  col  source_degree  target_degree  dwpc_x  \\\n",
       "0    0    0              0              1     0.0   \n",
       "1    0    3              0              1     0.0   \n",
       "\n",
       "                           metapath  \\\n",
       "0  (Compound - palliates - Disease)   \n",
       "1  (Compound - palliates - Disease)   \n",
       "\n",
       "                                              dwpc_y  \n",
       "0  [0.0, 0.0, 0.0, 0.0, 0.0, 0.0, 0.0, 0.0, 0.0, ...  \n",
       "1  [0.0, 0.0, 0.0, 0.0, 0.0, 0.0, 0.0, 0.0, 0.0, ...  "
      ]
     },
     "execution_count": 12,
     "metadata": {},
     "output_type": "execute_result"
    }
   ],
   "source": [
    "full_dwpc_df.head(2)"
   ]
  },
  {
   "cell_type": "code",
   "execution_count": 30,
   "metadata": {},
   "outputs": [
    {
     "name": "stdout",
     "output_type": "stream",
     "text": [
      "mean computed\n",
      "sd computed\n"
     ]
    }
   ],
   "source": [
    "full_dwpc_df['p-dwpc'] = full_dwpc_df['dwpc_y'].apply(np.mean)\n",
    "print('mean computed')\n",
    "full_dwpc_df = full_dwpc_df.rename(columns={'dwpc_x': 'dwpc', 'dwpc_y': 'permutations'})\n",
    "full_dwpc_df['r-dwpc'] = full_dwpc_df['dwpc'] - full_dwpc_df['p-dwpc']\n",
    "full_dwpc_df['sd-dwpc'] = full_dwpc_df['permutations'].apply(np.std)\n",
    "print('sd computed')\n",
    "full_dwpc_df['z-dwpc'] = full_dwpc_df['r-dwpc'] / full_dwpc_df['sd-dwpc']\n",
    "\n",
    "full_dwpc_df['z-dwpc'] = full_dwpc_df['z-dwpc'].fillna(0)"
   ]
  },
  {
   "cell_type": "code",
   "execution_count": 34,
   "metadata": {},
   "outputs": [
    {
     "data": {
      "text/html": [
       "<div>\n",
       "<style scoped>\n",
       "    .dataframe tbody tr th:only-of-type {\n",
       "        vertical-align: middle;\n",
       "    }\n",
       "\n",
       "    .dataframe tbody tr th {\n",
       "        vertical-align: top;\n",
       "    }\n",
       "\n",
       "    .dataframe thead th {\n",
       "        text-align: right;\n",
       "    }\n",
       "</style>\n",
       "<table border=\"1\" class=\"dataframe\">\n",
       "  <thead>\n",
       "    <tr style=\"text-align: right;\">\n",
       "      <th></th>\n",
       "      <th>row</th>\n",
       "      <th>col</th>\n",
       "      <th>source_degree</th>\n",
       "      <th>target_degree</th>\n",
       "      <th>dwpc</th>\n",
       "      <th>metapath</th>\n",
       "      <th>permutations</th>\n",
       "      <th>p-dwpc</th>\n",
       "      <th>r-dwpc</th>\n",
       "      <th>sd-dwpc</th>\n",
       "      <th>z-dwpc</th>\n",
       "    </tr>\n",
       "  </thead>\n",
       "  <tbody>\n",
       "    <tr>\n",
       "      <th>0</th>\n",
       "      <td>0</td>\n",
       "      <td>0</td>\n",
       "      <td>0</td>\n",
       "      <td>1</td>\n",
       "      <td>0.0</td>\n",
       "      <td>(Compound - palliates - Disease)</td>\n",
       "      <td>[0.0, 0.0, 0.0, 0.0, 0.0, 0.0, 0.0, 0.0, 0.0, ...</td>\n",
       "      <td>0.0</td>\n",
       "      <td>0.0</td>\n",
       "      <td>0.0</td>\n",
       "      <td>0.0</td>\n",
       "    </tr>\n",
       "    <tr>\n",
       "      <th>1</th>\n",
       "      <td>0</td>\n",
       "      <td>3</td>\n",
       "      <td>0</td>\n",
       "      <td>1</td>\n",
       "      <td>0.0</td>\n",
       "      <td>(Compound - palliates - Disease)</td>\n",
       "      <td>[0.0, 0.0, 0.0, 0.0, 0.0, 0.0, 0.0, 0.0, 0.0, ...</td>\n",
       "      <td>0.0</td>\n",
       "      <td>0.0</td>\n",
       "      <td>0.0</td>\n",
       "      <td>0.0</td>\n",
       "    </tr>\n",
       "  </tbody>\n",
       "</table>\n",
       "</div>"
      ],
      "text/plain": [
       "   row  col  source_degree  target_degree  dwpc  \\\n",
       "0    0    0              0              1   0.0   \n",
       "1    0    3              0              1   0.0   \n",
       "\n",
       "                           metapath  \\\n",
       "0  (Compound - palliates - Disease)   \n",
       "1  (Compound - palliates - Disease)   \n",
       "\n",
       "                                        permutations  p-dwpc  r-dwpc  sd-dwpc  \\\n",
       "0  [0.0, 0.0, 0.0, 0.0, 0.0, 0.0, 0.0, 0.0, 0.0, ...     0.0     0.0      0.0   \n",
       "1  [0.0, 0.0, 0.0, 0.0, 0.0, 0.0, 0.0, 0.0, 0.0, ...     0.0     0.0      0.0   \n",
       "\n",
       "   z-dwpc  \n",
       "0     0.0  \n",
       "1     0.0  "
      ]
     },
     "execution_count": 34,
     "metadata": {},
     "output_type": "execute_result"
    }
   ],
   "source": [
    "full_dwpc_df.head(2)"
   ]
  },
  {
   "cell_type": "code",
   "execution_count": null,
   "metadata": {},
   "outputs": [],
   "source": []
  }
 ],
 "metadata": {
  "kernelspec": {
   "display_name": "Python 3",
   "language": "python",
   "name": "python3"
  },
  "language_info": {
   "codemirror_mode": {
    "name": "ipython",
    "version": 3
   },
   "file_extension": ".py",
   "mimetype": "text/x-python",
   "name": "python",
   "nbconvert_exporter": "python",
   "pygments_lexer": "ipython3",
   "version": "3.6.4"
  }
 },
 "nbformat": 4,
 "nbformat_minor": 2
}
