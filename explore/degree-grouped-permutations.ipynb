{
 "cells": [
  {
   "cell_type": "markdown",
   "metadata": {},
   "source": [
    "# Degree-Grouped Permutations\n",
    "In permuted networks, those node pairs having the same out- and in-degrees along the metapath are indistinguishable. This means that when computing permuted DWPC values, we can average not just over the five permutations for each, say compound-disease pair, but can average over all compound-disease pairs that have the same out- and in-degrees along the metapath."
   ]
  },
  {
   "cell_type": "code",
   "execution_count": 1,
   "metadata": {},
   "outputs": [],
   "source": [
    "import numpy as np\n",
    "from scipy import sparse\n",
    "import pandas as pd\n",
    "import itertools\n",
    "import hetio.readwrite"
   ]
  },
  {
   "cell_type": "code",
   "execution_count": 2,
   "metadata": {},
   "outputs": [],
   "source": [
    "import sys\n",
    "sys.path.insert(0, '../')\n",
    "from hetmech.degree_weight import dwpc\n",
    "from hetio.matrix import metaedge_to_adjacency_matrix"
   ]
  },
  {
   "cell_type": "code",
   "execution_count": 3,
   "metadata": {},
   "outputs": [],
   "source": [
    "repo_url = 'https://github.com/dhimmel/hetionet'\n",
    "commit = '6d26d15e9055b33b4fd97a180fa288e4f2060b96'\n",
    "names = ['hetionet-v1.0'] + [f'hetionet-v1.0-perm-{i + 1}' for i in range(5)]    \n",
    "paths = ['hetnet/json/hetionet-v1.0.json.bz2'] + [\n",
    "    f'hetnet/permuted/json/{name}.json.bz2' for name in names[1:]\n",
    "]"
   ]
  },
  {
   "cell_type": "code",
   "execution_count": 4,
   "metadata": {},
   "outputs": [
    {
     "name": "stdout",
     "output_type": "stream",
     "text": [
      "Loaded hetionet-v1.0\n",
      "metapath: CpD, time: 0.09279719501500949\n",
      "metapath: CtD, time: 0.0936714849958662\n",
      "Loaded hetionet-v1.0-perm-1\n",
      "metapath: CpD, time: 0.09495542000513524\n",
      "metapath: CtD, time: 0.09458129398990422\n",
      "Loaded hetionet-v1.0-perm-2\n",
      "metapath: CpD, time: 0.09932387797744013\n",
      "metapath: CtD, time: 0.10067291100858711\n",
      "Loaded hetionet-v1.0-perm-3\n",
      "metapath: CpD, time: 0.10086868598591536\n",
      "metapath: CtD, time: 0.10146672301925719\n",
      "Loaded hetionet-v1.0-perm-4\n",
      "metapath: CpD, time: 0.10212302999570966\n",
      "metapath: CtD, time: 0.10411549799027853\n",
      "Loaded hetionet-v1.0-perm-5\n",
      "metapath: CpD, time: 0.1031207269988954\n",
      "metapath: CtD, time: 0.10360637202393264\n"
     ]
    }
   ],
   "source": [
    "metapaths = None\n",
    "permuted = pd.DataFrame()\n",
    "dwpc_df = pd.DataFrame()\n",
    "\n",
    "for name, path in zip(names, paths):\n",
    "    url = f'{repo_url}/raw/{commit}/{path}'\n",
    "    graph = hetio.readwrite.read_graph(url)\n",
    "    print(f'Loaded {name}')\n",
    "    if not metapaths:\n",
    "        metaedge = graph.metagraph.metapath_from_abbrev('CtD')\n",
    "        metapaths = graph.metagraph.extract_metapaths(source=metaedge.source(), target=metaedge.target(), \n",
    "                                                      max_length=1)\n",
    "    for metapath in metapaths:\n",
    "        c, d, dwpc_matrix, t = dwpc(graph, metapath)\n",
    "        print(f'metapath: {metapath}, time: {t}')\n",
    "        \n",
    "        out_degrees = np.sum(metaedge_to_adjacency_matrix(graph, metapath[0])[2], axis=1)\n",
    "        in_degrees = np.sum(metaedge_to_adjacency_matrix(graph, metapath[-1])[2], axis=0)\n",
    "        degree_combos = list(itertools.product(out_degrees, in_degrees))\n",
    "        indices = list(itertools.product(range(len(out_degrees)), range(len(in_degrees))))\n",
    "        index_df = pd.DataFrame(indices, columns=['row', 'col'])\n",
    "        degree_combo_df = pd.DataFrame(degree_combos, columns=['source_degree', 'target_degree'])\n",
    "        degree_index_df = index_df.join(degree_combo_df)\n",
    "                \n",
    "        # Add DWPC values\n",
    "        degree_index_df['dwpc'] = degree_index_df.apply(lambda row: dwpc_matrix[row[0], row[1]], axis=1)\n",
    "        degree_index_df['metapath'] = pd.Series([metapath] * len(degree_index_df))\n",
    "        degree_index_df.drop(columns=['row', 'col'])\n",
    "        if 'perm' in name:\n",
    "            permuted = permuted.append(degree_index_df)\n",
    "        else:\n",
    "            dwpc_df = dwpc_df.append(degree_index_df)"
   ]
  },
  {
   "cell_type": "code",
   "execution_count": 5,
   "metadata": {},
   "outputs": [
    {
     "data": {
      "text/html": [
       "<div>\n",
       "<style scoped>\n",
       "    .dataframe tbody tr th:only-of-type {\n",
       "        vertical-align: middle;\n",
       "    }\n",
       "\n",
       "    .dataframe tbody tr th {\n",
       "        vertical-align: top;\n",
       "    }\n",
       "\n",
       "    .dataframe thead th {\n",
       "        text-align: right;\n",
       "    }\n",
       "</style>\n",
       "<table border=\"1\" class=\"dataframe\">\n",
       "  <thead>\n",
       "    <tr style=\"text-align: right;\">\n",
       "      <th></th>\n",
       "      <th>row</th>\n",
       "      <th>col</th>\n",
       "      <th>source_degree</th>\n",
       "      <th>target_degree</th>\n",
       "      <th>dwpc</th>\n",
       "      <th>metapath</th>\n",
       "    </tr>\n",
       "  </thead>\n",
       "  <tbody>\n",
       "    <tr>\n",
       "      <th>0</th>\n",
       "      <td>0</td>\n",
       "      <td>0</td>\n",
       "      <td>0</td>\n",
       "      <td>1</td>\n",
       "      <td>0.0</td>\n",
       "      <td>(Compound - palliates - Disease)</td>\n",
       "    </tr>\n",
       "    <tr>\n",
       "      <th>1</th>\n",
       "      <td>0</td>\n",
       "      <td>1</td>\n",
       "      <td>0</td>\n",
       "      <td>10</td>\n",
       "      <td>0.0</td>\n",
       "      <td>(Compound - palliates - Disease)</td>\n",
       "    </tr>\n",
       "  </tbody>\n",
       "</table>\n",
       "</div>"
      ],
      "text/plain": [
       "   row  col  source_degree  target_degree  dwpc  \\\n",
       "0    0    0              0              1   0.0   \n",
       "1    0    1              0             10   0.0   \n",
       "\n",
       "                           metapath  \n",
       "0  (Compound - palliates - Disease)  \n",
       "1  (Compound - palliates - Disease)  "
      ]
     },
     "execution_count": 5,
     "metadata": {},
     "output_type": "execute_result"
    }
   ],
   "source": [
    "permuted.head(2)"
   ]
  },
  {
   "cell_type": "markdown",
   "metadata": {},
   "source": [
    "## A single metapath:"
   ]
  },
  {
   "cell_type": "code",
   "execution_count": 6,
   "metadata": {},
   "outputs": [],
   "source": [
    "permutation_df = permuted[permuted['metapath'] == metapaths[1]]"
   ]
  },
  {
   "cell_type": "code",
   "execution_count": 7,
   "metadata": {},
   "outputs": [],
   "source": [
    "full_dwpc_df = dwpc_df[dwpc_df['metapath'] == metapaths[1]]"
   ]
  },
  {
   "cell_type": "code",
   "execution_count": 8,
   "metadata": {},
   "outputs": [],
   "source": [
    "degree_grouped_permutations = pd.DataFrame(permutation_df\n",
    "                                           .groupby(['source_degree', 'target_degree'])['dwpc']\n",
    "                                           .apply(list)).reset_index()"
   ]
  },
  {
   "cell_type": "code",
   "execution_count": 9,
   "metadata": {},
   "outputs": [
    {
     "data": {
      "text/html": [
       "<div>\n",
       "<style scoped>\n",
       "    .dataframe tbody tr th:only-of-type {\n",
       "        vertical-align: middle;\n",
       "    }\n",
       "\n",
       "    .dataframe tbody tr th {\n",
       "        vertical-align: top;\n",
       "    }\n",
       "\n",
       "    .dataframe thead th {\n",
       "        text-align: right;\n",
       "    }\n",
       "</style>\n",
       "<table border=\"1\" class=\"dataframe\">\n",
       "  <thead>\n",
       "    <tr style=\"text-align: right;\">\n",
       "      <th></th>\n",
       "      <th>source_degree</th>\n",
       "      <th>target_degree</th>\n",
       "      <th>dwpc</th>\n",
       "    </tr>\n",
       "  </thead>\n",
       "  <tbody>\n",
       "    <tr>\n",
       "      <th>0</th>\n",
       "      <td>0</td>\n",
       "      <td>0</td>\n",
       "      <td>[0.0, 0.0, 0.0, 0.0, 0.0, 0.0, 0.0, 0.0, 0.0, ...</td>\n",
       "    </tr>\n",
       "    <tr>\n",
       "      <th>1</th>\n",
       "      <td>0</td>\n",
       "      <td>1</td>\n",
       "      <td>[0.0, 0.0, 0.0, 0.0, 0.0, 0.0, 0.0, 0.0, 0.0, ...</td>\n",
       "    </tr>\n",
       "  </tbody>\n",
       "</table>\n",
       "</div>"
      ],
      "text/plain": [
       "   source_degree  target_degree  \\\n",
       "0              0              0   \n",
       "1              0              1   \n",
       "\n",
       "                                                dwpc  \n",
       "0  [0.0, 0.0, 0.0, 0.0, 0.0, 0.0, 0.0, 0.0, 0.0, ...  \n",
       "1  [0.0, 0.0, 0.0, 0.0, 0.0, 0.0, 0.0, 0.0, 0.0, ...  "
      ]
     },
     "execution_count": 9,
     "metadata": {},
     "output_type": "execute_result"
    }
   ],
   "source": [
    "degree_grouped_permutations.head(2)"
   ]
  },
  {
   "cell_type": "code",
   "execution_count": 10,
   "metadata": {},
   "outputs": [],
   "source": [
    "full_dwpc_df = full_dwpc_df.merge(degree_grouped_permutations, on=['source_degree', 'target_degree'])"
   ]
  },
  {
   "cell_type": "code",
   "execution_count": 11,
   "metadata": {},
   "outputs": [
    {
     "data": {
      "text/html": [
       "<div>\n",
       "<style scoped>\n",
       "    .dataframe tbody tr th:only-of-type {\n",
       "        vertical-align: middle;\n",
       "    }\n",
       "\n",
       "    .dataframe tbody tr th {\n",
       "        vertical-align: top;\n",
       "    }\n",
       "\n",
       "    .dataframe thead th {\n",
       "        text-align: right;\n",
       "    }\n",
       "</style>\n",
       "<table border=\"1\" class=\"dataframe\">\n",
       "  <thead>\n",
       "    <tr style=\"text-align: right;\">\n",
       "      <th></th>\n",
       "      <th>row</th>\n",
       "      <th>col</th>\n",
       "      <th>source_degree</th>\n",
       "      <th>target_degree</th>\n",
       "      <th>dwpc_x</th>\n",
       "      <th>metapath</th>\n",
       "      <th>dwpc_y</th>\n",
       "    </tr>\n",
       "  </thead>\n",
       "  <tbody>\n",
       "    <tr>\n",
       "      <th>0</th>\n",
       "      <td>0</td>\n",
       "      <td>0</td>\n",
       "      <td>2</td>\n",
       "      <td>0</td>\n",
       "      <td>0.0</td>\n",
       "      <td>(Compound - treats - Disease)</td>\n",
       "      <td>[0.0, 0.0, 0.0, 0.0, 0.0, 0.0, 0.0, 0.0, 0.0, ...</td>\n",
       "    </tr>\n",
       "    <tr>\n",
       "      <th>1</th>\n",
       "      <td>0</td>\n",
       "      <td>1</td>\n",
       "      <td>2</td>\n",
       "      <td>0</td>\n",
       "      <td>0.0</td>\n",
       "      <td>(Compound - treats - Disease)</td>\n",
       "      <td>[0.0, 0.0, 0.0, 0.0, 0.0, 0.0, 0.0, 0.0, 0.0, ...</td>\n",
       "    </tr>\n",
       "  </tbody>\n",
       "</table>\n",
       "</div>"
      ],
      "text/plain": [
       "   row  col  source_degree  target_degree  dwpc_x  \\\n",
       "0    0    0              2              0     0.0   \n",
       "1    0    1              2              0     0.0   \n",
       "\n",
       "                        metapath  \\\n",
       "0  (Compound - treats - Disease)   \n",
       "1  (Compound - treats - Disease)   \n",
       "\n",
       "                                              dwpc_y  \n",
       "0  [0.0, 0.0, 0.0, 0.0, 0.0, 0.0, 0.0, 0.0, 0.0, ...  \n",
       "1  [0.0, 0.0, 0.0, 0.0, 0.0, 0.0, 0.0, 0.0, 0.0, ...  "
      ]
     },
     "execution_count": 11,
     "metadata": {},
     "output_type": "execute_result"
    }
   ],
   "source": [
    "full_dwpc_df.head(2)"
   ]
  },
  {
   "cell_type": "code",
   "execution_count": 12,
   "metadata": {},
   "outputs": [],
   "source": [
    "full_dwpc_df = full_dwpc_df[(full_dwpc_df['source_degree'] != 0) & (full_dwpc_df['target_degree'] != 0)]"
   ]
  },
  {
   "cell_type": "code",
   "execution_count": 13,
   "metadata": {},
   "outputs": [],
   "source": [
    "full_dwpc_df['p-dwpc'] = full_dwpc_df['dwpc_y'].apply(np.mean)"
   ]
  },
  {
   "cell_type": "code",
   "execution_count": 14,
   "metadata": {},
   "outputs": [],
   "source": [
    "full_dwpc_df = full_dwpc_df.rename(columns={'dwpc_x': 'dwpc', 'dwpc_y': 'permutations'})\n",
    "full_dwpc_df['r-dwpc'] = full_dwpc_df['dwpc'] - full_dwpc_df['p-dwpc']"
   ]
  },
  {
   "cell_type": "code",
   "execution_count": 15,
   "metadata": {},
   "outputs": [],
   "source": [
    "full_dwpc_df['sd-dwpc'] = full_dwpc_df['permutations'].apply(np.std)"
   ]
  },
  {
   "cell_type": "code",
   "execution_count": 16,
   "metadata": {
    "scrolled": true
   },
   "outputs": [],
   "source": [
    "full_dwpc_df['z-dwpc'] = full_dwpc_df['r-dwpc'] / full_dwpc_df['sd-dwpc']\n",
    "full_dwpc_df['z-dwpc'] = full_dwpc_df['z-dwpc'].fillna(0)"
   ]
  },
  {
   "cell_type": "code",
   "execution_count": 17,
   "metadata": {},
   "outputs": [
    {
     "data": {
      "text/html": [
       "<div>\n",
       "<style scoped>\n",
       "    .dataframe tbody tr th:only-of-type {\n",
       "        vertical-align: middle;\n",
       "    }\n",
       "\n",
       "    .dataframe tbody tr th {\n",
       "        vertical-align: top;\n",
       "    }\n",
       "\n",
       "    .dataframe thead th {\n",
       "        text-align: right;\n",
       "    }\n",
       "</style>\n",
       "<table border=\"1\" class=\"dataframe\">\n",
       "  <thead>\n",
       "    <tr style=\"text-align: right;\">\n",
       "      <th></th>\n",
       "      <th>row</th>\n",
       "      <th>col</th>\n",
       "      <th>source_degree</th>\n",
       "      <th>target_degree</th>\n",
       "      <th>dwpc</th>\n",
       "      <th>metapath</th>\n",
       "      <th>permutations</th>\n",
       "      <th>p-dwpc</th>\n",
       "      <th>r-dwpc</th>\n",
       "      <th>sd-dwpc</th>\n",
       "      <th>z-dwpc</th>\n",
       "    </tr>\n",
       "  </thead>\n",
       "  <tbody>\n",
       "    <tr>\n",
       "      <th>4260</th>\n",
       "      <td>0</td>\n",
       "      <td>2</td>\n",
       "      <td>2</td>\n",
       "      <td>4</td>\n",
       "      <td>0.0</td>\n",
       "      <td>(Compound - treats - Disease)</td>\n",
       "      <td>[0.0, 0.0, 0.0, 0.0, 0.0, 0.0, 0.0, 0.0, 0.0, ...</td>\n",
       "      <td>0.003984</td>\n",
       "      <td>-0.003984</td>\n",
       "      <td>0.037317</td>\n",
       "      <td>-0.106752</td>\n",
       "    </tr>\n",
       "    <tr>\n",
       "      <th>4261</th>\n",
       "      <td>0</td>\n",
       "      <td>12</td>\n",
       "      <td>2</td>\n",
       "      <td>4</td>\n",
       "      <td>0.0</td>\n",
       "      <td>(Compound - treats - Disease)</td>\n",
       "      <td>[0.0, 0.0, 0.0, 0.0, 0.0, 0.0, 0.0, 0.0, 0.0, ...</td>\n",
       "      <td>0.003984</td>\n",
       "      <td>-0.003984</td>\n",
       "      <td>0.037317</td>\n",
       "      <td>-0.106752</td>\n",
       "    </tr>\n",
       "  </tbody>\n",
       "</table>\n",
       "</div>"
      ],
      "text/plain": [
       "      row  col  source_degree  target_degree  dwpc  \\\n",
       "4260    0    2              2              4   0.0   \n",
       "4261    0   12              2              4   0.0   \n",
       "\n",
       "                           metapath  \\\n",
       "4260  (Compound - treats - Disease)   \n",
       "4261  (Compound - treats - Disease)   \n",
       "\n",
       "                                           permutations    p-dwpc    r-dwpc  \\\n",
       "4260  [0.0, 0.0, 0.0, 0.0, 0.0, 0.0, 0.0, 0.0, 0.0, ...  0.003984 -0.003984   \n",
       "4261  [0.0, 0.0, 0.0, 0.0, 0.0, 0.0, 0.0, 0.0, 0.0, ...  0.003984 -0.003984   \n",
       "\n",
       "       sd-dwpc    z-dwpc  \n",
       "4260  0.037317 -0.106752  \n",
       "4261  0.037317 -0.106752  "
      ]
     },
     "execution_count": 17,
     "metadata": {},
     "output_type": "execute_result"
    }
   ],
   "source": [
    "full_dwpc_df.head(2)"
   ]
  },
  {
   "cell_type": "code",
   "execution_count": 18,
   "metadata": {},
   "outputs": [
    {
     "data": {
      "text/plain": [
       "<matplotlib.axes._subplots.AxesSubplot at 0x7f7d51959a90>"
      ]
     },
     "execution_count": 18,
     "metadata": {},
     "output_type": "execute_result"
    }
   ],
   "source": [
    "full_dwpc_df['permutations'].apply(lambda x: len(x) / 5).hist(bins=50)"
   ]
  },
  {
   "cell_type": "code",
   "execution_count": 19,
   "metadata": {},
   "outputs": [],
   "source": [
    "permutation_df = permutation_df[(permutation_df['source_degree'] != 0) & (permutation_df['target_degree'] != 0)]"
   ]
  },
  {
   "cell_type": "code",
   "execution_count": 20,
   "metadata": {},
   "outputs": [],
   "source": [
    "compare_df = permutation_df.groupby(['row', 'col'])['dwpc'].apply(list).reset_index()"
   ]
  },
  {
   "cell_type": "code",
   "execution_count": 21,
   "metadata": {},
   "outputs": [],
   "source": [
    "compare_df['original p-dwpc'] = compare_df['dwpc'].apply(np.mean)\n",
    "compare_df = compare_df.merge(full_dwpc_df, on=['row', 'col']).rename(columns={'dwpc_x': 'original perm', \n",
    "                                                                               'dwpc_y': 'dwpc'})"
   ]
  },
  {
   "cell_type": "code",
   "execution_count": 22,
   "metadata": {},
   "outputs": [
    {
     "data": {
      "text/html": [
       "<div>\n",
       "<style scoped>\n",
       "    .dataframe tbody tr th:only-of-type {\n",
       "        vertical-align: middle;\n",
       "    }\n",
       "\n",
       "    .dataframe tbody tr th {\n",
       "        vertical-align: top;\n",
       "    }\n",
       "\n",
       "    .dataframe thead th {\n",
       "        text-align: right;\n",
       "    }\n",
       "</style>\n",
       "<table border=\"1\" class=\"dataframe\">\n",
       "  <thead>\n",
       "    <tr style=\"text-align: right;\">\n",
       "      <th></th>\n",
       "      <th>row</th>\n",
       "      <th>col</th>\n",
       "      <th>original perm</th>\n",
       "      <th>original p-dwpc</th>\n",
       "      <th>source_degree</th>\n",
       "      <th>target_degree</th>\n",
       "      <th>dwpc</th>\n",
       "      <th>metapath</th>\n",
       "      <th>permutations</th>\n",
       "      <th>p-dwpc</th>\n",
       "      <th>r-dwpc</th>\n",
       "      <th>sd-dwpc</th>\n",
       "      <th>z-dwpc</th>\n",
       "    </tr>\n",
       "  </thead>\n",
       "  <tbody>\n",
       "    <tr>\n",
       "      <th>0</th>\n",
       "      <td>0</td>\n",
       "      <td>2</td>\n",
       "      <td>[0.0, 0.0, 0.0, 0.0, 0.0]</td>\n",
       "      <td>0.0</td>\n",
       "      <td>2</td>\n",
       "      <td>4</td>\n",
       "      <td>0.0</td>\n",
       "      <td>(Compound - treats - Disease)</td>\n",
       "      <td>[0.0, 0.0, 0.0, 0.0, 0.0, 0.0, 0.0, 0.0, 0.0, ...</td>\n",
       "      <td>0.003984</td>\n",
       "      <td>-0.003984</td>\n",
       "      <td>0.037317</td>\n",
       "      <td>-0.106752</td>\n",
       "    </tr>\n",
       "    <tr>\n",
       "      <th>1</th>\n",
       "      <td>0</td>\n",
       "      <td>3</td>\n",
       "      <td>[0.0, 0.0, 0.0, 0.0, 0.0]</td>\n",
       "      <td>0.0</td>\n",
       "      <td>2</td>\n",
       "      <td>1</td>\n",
       "      <td>0.0</td>\n",
       "      <td>(Compound - treats - Disease)</td>\n",
       "      <td>[0.0, 0.0, 0.0, 0.0, 0.0, 0.0, 0.0, 0.0, 0.0, ...</td>\n",
       "      <td>0.001565</td>\n",
       "      <td>-0.001565</td>\n",
       "      <td>0.033229</td>\n",
       "      <td>-0.047098</td>\n",
       "    </tr>\n",
       "  </tbody>\n",
       "</table>\n",
       "</div>"
      ],
      "text/plain": [
       "   row  col              original perm  original p-dwpc  source_degree  \\\n",
       "0    0    2  [0.0, 0.0, 0.0, 0.0, 0.0]              0.0              2   \n",
       "1    0    3  [0.0, 0.0, 0.0, 0.0, 0.0]              0.0              2   \n",
       "\n",
       "   target_degree  dwpc                       metapath  \\\n",
       "0              4   0.0  (Compound - treats - Disease)   \n",
       "1              1   0.0  (Compound - treats - Disease)   \n",
       "\n",
       "                                        permutations    p-dwpc    r-dwpc  \\\n",
       "0  [0.0, 0.0, 0.0, 0.0, 0.0, 0.0, 0.0, 0.0, 0.0, ...  0.003984 -0.003984   \n",
       "1  [0.0, 0.0, 0.0, 0.0, 0.0, 0.0, 0.0, 0.0, 0.0, ...  0.001565 -0.001565   \n",
       "\n",
       "    sd-dwpc    z-dwpc  \n",
       "0  0.037317 -0.106752  \n",
       "1  0.033229 -0.047098  "
      ]
     },
     "execution_count": 22,
     "metadata": {},
     "output_type": "execute_result"
    }
   ],
   "source": [
    "compare_df.head(2)"
   ]
  },
  {
   "cell_type": "code",
   "execution_count": 23,
   "metadata": {},
   "outputs": [
    {
     "data": {
      "text/plain": [
       "29799"
      ]
     },
     "execution_count": 23,
     "metadata": {},
     "output_type": "execute_result"
    }
   ],
   "source": [
    "len(compare_df)"
   ]
  },
  {
   "cell_type": "code",
   "execution_count": 24,
   "metadata": {},
   "outputs": [
    {
     "data": {
      "text/plain": [
       "(26553, 13)"
      ]
     },
     "execution_count": 24,
     "metadata": {},
     "output_type": "execute_result"
    }
   ],
   "source": [
    "# Those for which DGP makes P-DWPC nonzero\n",
    "compare_df[(compare_df['original p-dwpc'] == 0) & (compare_df['p-dwpc'] != 0)].shape"
   ]
  },
  {
   "cell_type": "code",
   "execution_count": 25,
   "metadata": {},
   "outputs": [
    {
     "data": {
      "text/plain": [
       "(177, 13)"
      ]
     },
     "execution_count": 25,
     "metadata": {},
     "output_type": "execute_result"
    }
   ],
   "source": [
    "# Those which stay zero\n",
    "compare_df[(compare_df['original p-dwpc'] == 0) & (compare_df['p-dwpc'] == 0)].shape"
   ]
  },
  {
   "cell_type": "code",
   "execution_count": 26,
   "metadata": {
    "scrolled": true
   },
   "outputs": [
    {
     "data": {
      "text/plain": [
       "-0.9975560514291786"
      ]
     },
     "execution_count": 26,
     "metadata": {},
     "output_type": "execute_result"
    }
   ],
   "source": [
    "(23 - 9411) / 9411"
   ]
  },
  {
   "cell_type": "code",
   "execution_count": 27,
   "metadata": {},
   "outputs": [
    {
     "data": {
      "text/html": [
       "<div>\n",
       "<style scoped>\n",
       "    .dataframe tbody tr th:only-of-type {\n",
       "        vertical-align: middle;\n",
       "    }\n",
       "\n",
       "    .dataframe tbody tr th {\n",
       "        vertical-align: top;\n",
       "    }\n",
       "\n",
       "    .dataframe thead th {\n",
       "        text-align: right;\n",
       "    }\n",
       "</style>\n",
       "<table border=\"1\" class=\"dataframe\">\n",
       "  <thead>\n",
       "    <tr style=\"text-align: right;\">\n",
       "      <th></th>\n",
       "      <th>row</th>\n",
       "      <th>col</th>\n",
       "      <th>original perm</th>\n",
       "      <th>original p-dwpc</th>\n",
       "      <th>source_degree</th>\n",
       "      <th>target_degree</th>\n",
       "      <th>dwpc</th>\n",
       "      <th>metapath</th>\n",
       "      <th>permutations</th>\n",
       "      <th>p-dwpc</th>\n",
       "      <th>r-dwpc</th>\n",
       "      <th>sd-dwpc</th>\n",
       "      <th>z-dwpc</th>\n",
       "    </tr>\n",
       "  </thead>\n",
       "  <tbody>\n",
       "    <tr>\n",
       "      <th>2736</th>\n",
       "      <td>148</td>\n",
       "      <td>78</td>\n",
       "      <td>[0.0, 0.0, 0.0, 0.0, 0.0]</td>\n",
       "      <td>0.0</td>\n",
       "      <td>5</td>\n",
       "      <td>51</td>\n",
       "      <td>0.062622</td>\n",
       "      <td>(Compound - treats - Disease)</td>\n",
       "      <td>[0.0, 0.0, 0.0, 0.0, 0.0]</td>\n",
       "      <td>0.0</td>\n",
       "      <td>0.062622</td>\n",
       "      <td>0.0</td>\n",
       "      <td>inf</td>\n",
       "    </tr>\n",
       "    <tr>\n",
       "      <th>2741</th>\n",
       "      <td>148</td>\n",
       "      <td>85</td>\n",
       "      <td>[0.0, 0.0, 0.0, 0.0, 0.0]</td>\n",
       "      <td>0.0</td>\n",
       "      <td>5</td>\n",
       "      <td>2</td>\n",
       "      <td>0.316228</td>\n",
       "      <td>(Compound - treats - Disease)</td>\n",
       "      <td>[0.0, 0.0, 0.0, 0.0, 0.0, 0.0, 0.0, 0.0, 0.0, ...</td>\n",
       "      <td>0.0</td>\n",
       "      <td>0.316228</td>\n",
       "      <td>0.0</td>\n",
       "      <td>inf</td>\n",
       "    </tr>\n",
       "    <tr>\n",
       "      <th>6905</th>\n",
       "      <td>320</td>\n",
       "      <td>94</td>\n",
       "      <td>[0.0, 0.0, 0.0, 0.0, 0.0]</td>\n",
       "      <td>0.0</td>\n",
       "      <td>14</td>\n",
       "      <td>3</td>\n",
       "      <td>0.154303</td>\n",
       "      <td>(Compound - treats - Disease)</td>\n",
       "      <td>[0.0, 0.0, 0.0, 0.0, 0.0, 0.0, 0.0, 0.0, 0.0, ...</td>\n",
       "      <td>0.0</td>\n",
       "      <td>0.154303</td>\n",
       "      <td>0.0</td>\n",
       "      <td>inf</td>\n",
       "    </tr>\n",
       "    <tr>\n",
       "      <th>6906</th>\n",
       "      <td>320</td>\n",
       "      <td>95</td>\n",
       "      <td>[0.0, 0.0, 0.0, 0.0, 0.0]</td>\n",
       "      <td>0.0</td>\n",
       "      <td>14</td>\n",
       "      <td>7</td>\n",
       "      <td>0.101015</td>\n",
       "      <td>(Compound - treats - Disease)</td>\n",
       "      <td>[0.0, 0.0, 0.0, 0.0, 0.0, 0.0, 0.0, 0.0, 0.0, ...</td>\n",
       "      <td>0.0</td>\n",
       "      <td>0.101015</td>\n",
       "      <td>0.0</td>\n",
       "      <td>inf</td>\n",
       "    </tr>\n",
       "    <tr>\n",
       "      <th>8349</th>\n",
       "      <td>384</td>\n",
       "      <td>66</td>\n",
       "      <td>[0.0, 0.0, 0.0, 0.0, 0.0]</td>\n",
       "      <td>0.0</td>\n",
       "      <td>8</td>\n",
       "      <td>5</td>\n",
       "      <td>0.158114</td>\n",
       "      <td>(Compound - treats - Disease)</td>\n",
       "      <td>[0.0, 0.0, 0.0, 0.0, 0.0, 0.0, 0.0, 0.0, 0.0, ...</td>\n",
       "      <td>0.0</td>\n",
       "      <td>0.158114</td>\n",
       "      <td>0.0</td>\n",
       "      <td>inf</td>\n",
       "    </tr>\n",
       "    <tr>\n",
       "      <th>10543</th>\n",
       "      <td>484</td>\n",
       "      <td>128</td>\n",
       "      <td>[0.0, 0.0, 0.0, 0.0, 0.0]</td>\n",
       "      <td>0.0</td>\n",
       "      <td>12</td>\n",
       "      <td>13</td>\n",
       "      <td>0.080064</td>\n",
       "      <td>(Compound - treats - Disease)</td>\n",
       "      <td>[0.0, 0.0, 0.0, 0.0, 0.0, 0.0, 0.0, 0.0, 0.0, ...</td>\n",
       "      <td>0.0</td>\n",
       "      <td>0.080064</td>\n",
       "      <td>0.0</td>\n",
       "      <td>inf</td>\n",
       "    </tr>\n",
       "    <tr>\n",
       "      <th>16213</th>\n",
       "      <td>719</td>\n",
       "      <td>81</td>\n",
       "      <td>[0.0, 0.0, 0.0, 0.0, 0.0]</td>\n",
       "      <td>0.0</td>\n",
       "      <td>13</td>\n",
       "      <td>37</td>\n",
       "      <td>0.045596</td>\n",
       "      <td>(Compound - treats - Disease)</td>\n",
       "      <td>[0.0, 0.0, 0.0, 0.0, 0.0]</td>\n",
       "      <td>0.0</td>\n",
       "      <td>0.045596</td>\n",
       "      <td>0.0</td>\n",
       "      <td>inf</td>\n",
       "    </tr>\n",
       "    <tr>\n",
       "      <th>18051</th>\n",
       "      <td>812</td>\n",
       "      <td>66</td>\n",
       "      <td>[0.0, 0.0, 0.0, 0.0, 0.0]</td>\n",
       "      <td>0.0</td>\n",
       "      <td>9</td>\n",
       "      <td>5</td>\n",
       "      <td>0.149071</td>\n",
       "      <td>(Compound - treats - Disease)</td>\n",
       "      <td>[0.0, 0.0, 0.0, 0.0, 0.0, 0.0, 0.0, 0.0, 0.0, ...</td>\n",
       "      <td>0.0</td>\n",
       "      <td>0.149071</td>\n",
       "      <td>0.0</td>\n",
       "      <td>inf</td>\n",
       "    </tr>\n",
       "    <tr>\n",
       "      <th>18055</th>\n",
       "      <td>812</td>\n",
       "      <td>73</td>\n",
       "      <td>[0.0, 0.0, 0.0, 0.0, 0.0]</td>\n",
       "      <td>0.0</td>\n",
       "      <td>9</td>\n",
       "      <td>2</td>\n",
       "      <td>0.235702</td>\n",
       "      <td>(Compound - treats - Disease)</td>\n",
       "      <td>[0.0, 0.0, 0.0, 0.0, 0.0, 0.0, 0.0, 0.0, 0.0, ...</td>\n",
       "      <td>0.0</td>\n",
       "      <td>0.235702</td>\n",
       "      <td>0.0</td>\n",
       "      <td>inf</td>\n",
       "    </tr>\n",
       "    <tr>\n",
       "      <th>18166</th>\n",
       "      <td>813</td>\n",
       "      <td>128</td>\n",
       "      <td>[0.0, 0.0, 0.0, 0.0, 0.0]</td>\n",
       "      <td>0.0</td>\n",
       "      <td>10</td>\n",
       "      <td>13</td>\n",
       "      <td>0.087706</td>\n",
       "      <td>(Compound - treats - Disease)</td>\n",
       "      <td>[0.0, 0.0, 0.0, 0.0, 0.0, 0.0, 0.0, 0.0, 0.0, ...</td>\n",
       "      <td>0.0</td>\n",
       "      <td>0.087706</td>\n",
       "      <td>0.0</td>\n",
       "      <td>inf</td>\n",
       "    </tr>\n",
       "    <tr>\n",
       "      <th>18599</th>\n",
       "      <td>823</td>\n",
       "      <td>80</td>\n",
       "      <td>[0.0, 0.0, 0.0, 0.0, 0.0]</td>\n",
       "      <td>0.0</td>\n",
       "      <td>10</td>\n",
       "      <td>13</td>\n",
       "      <td>0.087706</td>\n",
       "      <td>(Compound - treats - Disease)</td>\n",
       "      <td>[0.0, 0.0, 0.0, 0.0, 0.0, 0.0, 0.0, 0.0, 0.0, ...</td>\n",
       "      <td>0.0</td>\n",
       "      <td>0.087706</td>\n",
       "      <td>0.0</td>\n",
       "      <td>inf</td>\n",
       "    </tr>\n",
       "    <tr>\n",
       "      <th>19571</th>\n",
       "      <td>850</td>\n",
       "      <td>30</td>\n",
       "      <td>[0.0, 0.0, 0.0, 0.0, 0.0]</td>\n",
       "      <td>0.0</td>\n",
       "      <td>17</td>\n",
       "      <td>12</td>\n",
       "      <td>0.070014</td>\n",
       "      <td>(Compound - treats - Disease)</td>\n",
       "      <td>[0.0, 0.0, 0.0, 0.0, 0.0]</td>\n",
       "      <td>0.0</td>\n",
       "      <td>0.070014</td>\n",
       "      <td>0.0</td>\n",
       "      <td>inf</td>\n",
       "    </tr>\n",
       "  </tbody>\n",
       "</table>\n",
       "</div>"
      ],
      "text/plain": [
       "       row  col              original perm  original p-dwpc  source_degree  \\\n",
       "2736   148   78  [0.0, 0.0, 0.0, 0.0, 0.0]              0.0              5   \n",
       "2741   148   85  [0.0, 0.0, 0.0, 0.0, 0.0]              0.0              5   \n",
       "6905   320   94  [0.0, 0.0, 0.0, 0.0, 0.0]              0.0             14   \n",
       "6906   320   95  [0.0, 0.0, 0.0, 0.0, 0.0]              0.0             14   \n",
       "8349   384   66  [0.0, 0.0, 0.0, 0.0, 0.0]              0.0              8   \n",
       "10543  484  128  [0.0, 0.0, 0.0, 0.0, 0.0]              0.0             12   \n",
       "16213  719   81  [0.0, 0.0, 0.0, 0.0, 0.0]              0.0             13   \n",
       "18051  812   66  [0.0, 0.0, 0.0, 0.0, 0.0]              0.0              9   \n",
       "18055  812   73  [0.0, 0.0, 0.0, 0.0, 0.0]              0.0              9   \n",
       "18166  813  128  [0.0, 0.0, 0.0, 0.0, 0.0]              0.0             10   \n",
       "18599  823   80  [0.0, 0.0, 0.0, 0.0, 0.0]              0.0             10   \n",
       "19571  850   30  [0.0, 0.0, 0.0, 0.0, 0.0]              0.0             17   \n",
       "\n",
       "       target_degree      dwpc                       metapath  \\\n",
       "2736              51  0.062622  (Compound - treats - Disease)   \n",
       "2741               2  0.316228  (Compound - treats - Disease)   \n",
       "6905               3  0.154303  (Compound - treats - Disease)   \n",
       "6906               7  0.101015  (Compound - treats - Disease)   \n",
       "8349               5  0.158114  (Compound - treats - Disease)   \n",
       "10543             13  0.080064  (Compound - treats - Disease)   \n",
       "16213             37  0.045596  (Compound - treats - Disease)   \n",
       "18051              5  0.149071  (Compound - treats - Disease)   \n",
       "18055              2  0.235702  (Compound - treats - Disease)   \n",
       "18166             13  0.087706  (Compound - treats - Disease)   \n",
       "18599             13  0.087706  (Compound - treats - Disease)   \n",
       "19571             12  0.070014  (Compound - treats - Disease)   \n",
       "\n",
       "                                            permutations  p-dwpc    r-dwpc  \\\n",
       "2736                           [0.0, 0.0, 0.0, 0.0, 0.0]     0.0  0.062622   \n",
       "2741   [0.0, 0.0, 0.0, 0.0, 0.0, 0.0, 0.0, 0.0, 0.0, ...     0.0  0.316228   \n",
       "6905   [0.0, 0.0, 0.0, 0.0, 0.0, 0.0, 0.0, 0.0, 0.0, ...     0.0  0.154303   \n",
       "6906   [0.0, 0.0, 0.0, 0.0, 0.0, 0.0, 0.0, 0.0, 0.0, ...     0.0  0.101015   \n",
       "8349   [0.0, 0.0, 0.0, 0.0, 0.0, 0.0, 0.0, 0.0, 0.0, ...     0.0  0.158114   \n",
       "10543  [0.0, 0.0, 0.0, 0.0, 0.0, 0.0, 0.0, 0.0, 0.0, ...     0.0  0.080064   \n",
       "16213                          [0.0, 0.0, 0.0, 0.0, 0.0]     0.0  0.045596   \n",
       "18051  [0.0, 0.0, 0.0, 0.0, 0.0, 0.0, 0.0, 0.0, 0.0, ...     0.0  0.149071   \n",
       "18055  [0.0, 0.0, 0.0, 0.0, 0.0, 0.0, 0.0, 0.0, 0.0, ...     0.0  0.235702   \n",
       "18166  [0.0, 0.0, 0.0, 0.0, 0.0, 0.0, 0.0, 0.0, 0.0, ...     0.0  0.087706   \n",
       "18599  [0.0, 0.0, 0.0, 0.0, 0.0, 0.0, 0.0, 0.0, 0.0, ...     0.0  0.087706   \n",
       "19571                          [0.0, 0.0, 0.0, 0.0, 0.0]     0.0  0.070014   \n",
       "\n",
       "       sd-dwpc  z-dwpc  \n",
       "2736       0.0     inf  \n",
       "2741       0.0     inf  \n",
       "6905       0.0     inf  \n",
       "6906       0.0     inf  \n",
       "8349       0.0     inf  \n",
       "10543      0.0     inf  \n",
       "16213      0.0     inf  \n",
       "18051      0.0     inf  \n",
       "18055      0.0     inf  \n",
       "18166      0.0     inf  \n",
       "18599      0.0     inf  \n",
       "19571      0.0     inf  "
      ]
     },
     "execution_count": 27,
     "metadata": {},
     "output_type": "execute_result"
    }
   ],
   "source": [
    "compare_df[compare_df['z-dwpc'] == np.inf]"
   ]
  },
  {
   "cell_type": "markdown",
   "metadata": {},
   "source": [
    "# Conclusion\n",
    "So, using the degree-grouped permutations, we reduce the number of P-DWPC zeros by over 99.7%. This means that only a very few paths still have an issue with infinite Z-DWPC. To be clear, when DWPC = 0 and P-DWPC = 0, Z-DWPC is NaN, which I think we can easily call zero (as I have done here). The difficult case is when DWPC != 0 but P-DWPC = 0. This is the group that has been most reduced by using degree-grouped permutations."
   ]
  }
 ],
 "metadata": {
  "kernelspec": {
   "display_name": "Python 3",
   "language": "python",
   "name": "python3"
  },
  "language_info": {
   "codemirror_mode": {
    "name": "ipython",
    "version": 3
   },
   "file_extension": ".py",
   "mimetype": "text/x-python",
   "name": "python",
   "nbconvert_exporter": "python",
   "pygments_lexer": "ipython3",
   "version": "3.6.4"
  }
 },
 "nbformat": 4,
 "nbformat_minor": 2
}
