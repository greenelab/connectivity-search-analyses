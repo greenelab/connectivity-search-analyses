{
 "cells": [
  {
   "cell_type": "code",
   "execution_count": 1,
   "metadata": {},
   "outputs": [
    {
     "name": "stderr",
     "output_type": "stream",
     "text": [
      "/home/michael/.conda/envs/hetmech/lib/python3.6/site-packages/statsmodels/compat/pandas.py:56: FutureWarning: The pandas.core.datetools module is deprecated and will be removed in a future version. Please use the pandas.tseries module instead.\n",
      "  from pandas.core import datetools\n"
     ]
    }
   ],
   "source": [
    "import numpy as np\n",
    "from scipy import sparse\n",
    "import pandas as pd\n",
    "import itertools\n",
    "import hetio.readwrite\n",
    "from plotnine import *"
   ]
  },
  {
   "cell_type": "code",
   "execution_count": 2,
   "metadata": {},
   "outputs": [],
   "source": [
    "import sys\n",
    "sys.path.insert(0, '../')\n",
    "from hetmech.degree_weight import dwpc\n",
    "import hetmech.hetmat\n",
    "from hetmech.matrix import metaedge_to_adjacency_matrix"
   ]
  },
  {
   "cell_type": "markdown",
   "metadata": {},
   "source": [
    "# Implement DGP"
   ]
  },
  {
   "cell_type": "code",
   "execution_count": 3,
   "metadata": {},
   "outputs": [],
   "source": [
    "repo_url = 'https://github.com/dhimmel/hetionet'\n",
    "commit = '6d26d15e9055b33b4fd97a180fa288e4f2060b96'\n",
    "names = ['hetionet-v1.0'] + [f'hetionet-v1.0-perm-{i + 1}' for i in range(5)]    \n",
    "paths = ['hetnet/json/hetionet-v1.0.json.bz2'] + [\n",
    "    f'hetnet/permuted/json/{name}.json.bz2' for name in names[1:]\n",
    "]"
   ]
  },
  {
   "cell_type": "code",
   "execution_count": 4,
   "metadata": {
    "scrolled": true
   },
   "outputs": [
    {
     "name": "stdout",
     "output_type": "stream",
     "text": [
      "Loaded hetionet-v1.0\n",
      "metapath: CpD, time: 0.02 sec\n",
      "metapath: CtD, time: 0.01 sec\n",
      "metapath: CbGaD, time: 1.81 sec\n",
      "metapath: CbGuD, time: 1.94 sec\n",
      "metapath: CbGdD, time: 1.56 sec\n",
      "metapath: CdGaD, time: 1.54 sec\n",
      "metapath: CdGuD, time: 1.44 sec\n",
      "metapath: CdGdD, time: 1.43 sec\n",
      "metapath: CrCpD, time: 0.13 sec\n",
      "metapath: CrCtD, time: 0.14 sec\n",
      "metapath: CpDrD, time: 0.01 sec\n",
      "metapath: CuGaD, time: 1.63 sec\n",
      "metapath: CuGuD, time: 1.48 sec\n",
      "metapath: CuGdD, time: 1.42 sec\n",
      "metapath: CtDrD, time: 0.01 sec\n",
      "Loaded hetionet-v1.0-perm-1\n",
      "metapath: CpD, time: 0.01 sec\n",
      "metapath: CtD, time: 0.01 sec\n",
      "metapath: CbGaD, time: 1.49 sec\n",
      "metapath: CbGuD, time: 1.48 sec\n",
      "metapath: CbGdD, time: 1.47 sec\n",
      "metapath: CdGaD, time: 1.41 sec\n",
      "metapath: CdGuD, time: 1.40 sec\n",
      "metapath: CdGdD, time: 1.41 sec\n",
      "metapath: CrCpD, time: 0.13 sec\n",
      "metapath: CrCtD, time: 0.12 sec\n",
      "metapath: CpDrD, time: 0.01 sec\n",
      "metapath: CuGaD, time: 1.40 sec\n",
      "metapath: CuGuD, time: 1.40 sec\n",
      "metapath: CuGdD, time: 1.55 sec\n",
      "metapath: CtDrD, time: 0.02 sec\n",
      "Loaded hetionet-v1.0-perm-2\n",
      "metapath: CpD, time: 0.01 sec\n",
      "metapath: CtD, time: 0.01 sec\n",
      "metapath: CbGaD, time: 1.61 sec\n",
      "metapath: CbGuD, time: 1.70 sec\n",
      "metapath: CbGdD, time: 1.59 sec\n",
      "metapath: CdGaD, time: 1.48 sec\n",
      "metapath: CdGuD, time: 1.53 sec\n",
      "metapath: CdGdD, time: 1.49 sec\n",
      "metapath: CrCpD, time: 0.13 sec\n",
      "metapath: CrCtD, time: 0.12 sec\n",
      "metapath: CpDrD, time: 0.01 sec\n",
      "metapath: CuGaD, time: 1.57 sec\n",
      "metapath: CuGuD, time: 1.40 sec\n",
      "metapath: CuGdD, time: 1.41 sec\n",
      "metapath: CtDrD, time: 0.01 sec\n",
      "Loaded hetionet-v1.0-perm-3\n",
      "metapath: CpD, time: 0.02 sec\n",
      "metapath: CtD, time: 0.01 sec\n",
      "metapath: CbGaD, time: 1.55 sec\n",
      "metapath: CbGuD, time: 1.44 sec\n",
      "metapath: CbGdD, time: 1.47 sec\n",
      "metapath: CdGaD, time: 1.39 sec\n",
      "metapath: CdGuD, time: 1.39 sec\n",
      "metapath: CdGdD, time: 1.39 sec\n",
      "metapath: CrCpD, time: 0.11 sec\n",
      "metapath: CrCtD, time: 0.12 sec\n",
      "metapath: CpDrD, time: 0.01 sec\n",
      "metapath: CuGaD, time: 1.38 sec\n",
      "metapath: CuGuD, time: 1.38 sec\n",
      "metapath: CuGdD, time: 1.39 sec\n",
      "metapath: CtDrD, time: 0.01 sec\n",
      "Loaded hetionet-v1.0-perm-4\n",
      "metapath: CpD, time: 0.01 sec\n",
      "metapath: CtD, time: 0.01 sec\n",
      "metapath: CbGaD, time: 1.45 sec\n",
      "metapath: CbGuD, time: 1.45 sec\n",
      "metapath: CbGdD, time: 1.48 sec\n",
      "metapath: CdGaD, time: 1.38 sec\n",
      "metapath: CdGuD, time: 1.38 sec\n",
      "metapath: CdGdD, time: 1.38 sec\n",
      "metapath: CrCpD, time: 0.11 sec\n",
      "metapath: CrCtD, time: 0.11 sec\n",
      "metapath: CpDrD, time: 0.01 sec\n",
      "metapath: CuGaD, time: 1.38 sec\n",
      "metapath: CuGuD, time: 1.85 sec\n",
      "metapath: CuGdD, time: 1.39 sec\n",
      "metapath: CtDrD, time: 0.01 sec\n",
      "Loaded hetionet-v1.0-perm-5\n",
      "metapath: CpD, time: 0.01 sec\n",
      "metapath: CtD, time: 0.01 sec\n",
      "metapath: CbGaD, time: 1.45 sec\n",
      "metapath: CbGuD, time: 1.55 sec\n",
      "metapath: CbGdD, time: 1.57 sec\n",
      "metapath: CdGaD, time: 1.58 sec\n",
      "metapath: CdGuD, time: 1.48 sec\n",
      "metapath: CdGdD, time: 1.67 sec\n",
      "metapath: CrCpD, time: 0.12 sec\n",
      "metapath: CrCtD, time: 0.11 sec\n",
      "metapath: CpDrD, time: 0.01 sec\n",
      "metapath: CuGaD, time: 1.46 sec\n",
      "metapath: CuGuD, time: 1.42 sec\n",
      "metapath: CuGdD, time: 1.38 sec\n",
      "metapath: CtDrD, time: 0.01 sec\n"
     ]
    }
   ],
   "source": [
    "metapaths = None\n",
    "permuted = pd.DataFrame()\n",
    "dwpc_df = pd.DataFrame()\n",
    "\n",
    "for name, path in zip(names, paths):\n",
    "    # Load from disk, if not found, load from url graph via hetio\n",
    "    try:\n",
    "        hetmat = hetmech.hetmat.HetMat(f'hetmat/{name}/')\n",
    "    except FileNotFoundError:\n",
    "        url = f'{repo_url}/raw/{commit}/{path}'\n",
    "        graph = hetio.readwrite.read_graph(url)\n",
    "        hetmech.hetmat.hetmat_from_graph(graph, f'hetmat/{name}/')\n",
    "        hetmat = hetmech.hetmat.HetMat(f'hetmat/{name}/')\n",
    "    print(f'Loaded {name}')\n",
    "    \n",
    "    if not metapaths:\n",
    "        metapaths = hetmat.metagraph.extract_metapaths(\n",
    "            source=hetmat.metagraph.get_metanode('C'), \n",
    "            target=hetmat.metagraph.get_metanode('D'), \n",
    "            max_length=2)\n",
    "    for metapath in metapaths:\n",
    "        c, d, dwpc_matrix, t = dwpc(hetmat, metapath)\n",
    "        print(f'metapath: {metapath}, time: {t :.2f} sec')\n",
    "\n",
    "        out_degrees = np.sum(metaedge_to_adjacency_matrix(hetmat, metapath[0], dense_threshold=0)[2], axis=1)\n",
    "        in_degrees = np.sum(metaedge_to_adjacency_matrix(hetmat, metapath[-1], dense_threshold=0)[2], axis=0)\n",
    "        degree_combos = list(itertools.product(out_degrees, in_degrees))\n",
    "        indices = list(itertools.product(range(len(in_degrees)), range(len(out_degrees))))\n",
    "        index_df = pd.DataFrame(indices, columns=['row', 'col'])\n",
    "        degree_combo_df = pd.DataFrame(degree_combos, columns=['source_degree', 'target_degree'])\n",
    "        degree_index_df = index_df.join(degree_combo_df)\n",
    "\n",
    "        # Add DWPC values\n",
    "        degree_index_df['dwpc'] = dwpc_matrix.reshape(np.prod(dwpc_matrix.shape))\n",
    "        degree_index_df['metapath'] = str(metapath) # String because can't group by objects in Pandas\n",
    "        degree_index_df.drop(columns=['row', 'col'])\n",
    "        if 'perm' in name:\n",
    "            permuted = permuted.append(degree_index_df)\n",
    "        else:\n",
    "            dwpc_df = dwpc_df.append(degree_index_df)"
   ]
  },
  {
   "cell_type": "code",
   "execution_count": 5,
   "metadata": {},
   "outputs": [],
   "source": [
    "# Remove zero-degree elements. Increases computation speed without loss of useful information\n",
    "permuted = permuted[(permuted['source_degree'] != 0) & (permuted['target_degree'] != 0)]"
   ]
  },
  {
   "cell_type": "code",
   "execution_count": 6,
   "metadata": {},
   "outputs": [],
   "source": [
    "degree_grouped_permutations = (permuted\n",
    "                               .groupby(['source_degree', 'target_degree', 'metapath'])['dwpc']\n",
    "                               .apply(list).reset_index())\n",
    "degree_grouped_permutations['num-perm'] = degree_grouped_permutations['dwpc'].apply(len)\n",
    "degree_grouped_permutations['p-dwpc'] = degree_grouped_permutations['dwpc'].apply(np.mean)\n",
    "degree_grouped_permutations['sd-dwpc'] = degree_grouped_permutations['dwpc'].apply(np.std)"
   ]
  },
  {
   "cell_type": "code",
   "execution_count": 7,
   "metadata": {},
   "outputs": [],
   "source": [
    "full_dwpc_df = (dwpc_df\n",
    "                .merge(degree_grouped_permutations, on=['source_degree', 'target_degree', 'metapath'])\n",
    "                .rename(columns={'dwpc_x': 'dwpc', 'dwpc_y': 'permutations'}))"
   ]
  },
  {
   "cell_type": "code",
   "execution_count": 8,
   "metadata": {},
   "outputs": [],
   "source": [
    "full_dwpc_df['r-dwpc'] = full_dwpc_df['dwpc'] - full_dwpc_df['p-dwpc']\n",
    "full_dwpc_df['z-dwpc'] = full_dwpc_df['r-dwpc'] / full_dwpc_df['sd-dwpc']"
   ]
  },
  {
   "cell_type": "code",
   "execution_count": 9,
   "metadata": {},
   "outputs": [],
   "source": [
    "full_dwpc_df['z-dwpc'] = full_dwpc_df['z-dwpc'].apply(lambda x: 0 if x == - np.inf else x)"
   ]
  },
  {
   "cell_type": "code",
   "execution_count": 10,
   "metadata": {},
   "outputs": [
    {
     "data": {
      "text/html": [
       "<div>\n",
       "<style scoped>\n",
       "    .dataframe tbody tr th:only-of-type {\n",
       "        vertical-align: middle;\n",
       "    }\n",
       "\n",
       "    .dataframe tbody tr th {\n",
       "        vertical-align: top;\n",
       "    }\n",
       "\n",
       "    .dataframe thead th {\n",
       "        text-align: right;\n",
       "    }\n",
       "</style>\n",
       "<table border=\"1\" class=\"dataframe\">\n",
       "  <thead>\n",
       "    <tr style=\"text-align: right;\">\n",
       "      <th></th>\n",
       "      <th>row</th>\n",
       "      <th>col</th>\n",
       "      <th>source_degree</th>\n",
       "      <th>target_degree</th>\n",
       "      <th>dwpc</th>\n",
       "      <th>metapath</th>\n",
       "      <th>permutations</th>\n",
       "      <th>num-perm</th>\n",
       "      <th>p-dwpc</th>\n",
       "      <th>sd-dwpc</th>\n",
       "      <th>r-dwpc</th>\n",
       "      <th>z-dwpc</th>\n",
       "    </tr>\n",
       "  </thead>\n",
       "  <tbody>\n",
       "    <tr>\n",
       "      <th>0</th>\n",
       "      <td>0</td>\n",
       "      <td>685</td>\n",
       "      <td>3</td>\n",
       "      <td>1</td>\n",
       "      <td>0.0</td>\n",
       "      <td>CpD</td>\n",
       "      <td>[0.0, 0.0, 0.0, 0.0, 0.0, 0.0, 0.0, 0.0, 0.0, ...</td>\n",
       "      <td>850</td>\n",
       "      <td>0.003396</td>\n",
       "      <td>0.04415</td>\n",
       "      <td>-0.003396</td>\n",
       "      <td>-0.076923</td>\n",
       "    </tr>\n",
       "    <tr>\n",
       "      <th>1</th>\n",
       "      <td>0</td>\n",
       "      <td>688</td>\n",
       "      <td>3</td>\n",
       "      <td>1</td>\n",
       "      <td>0.0</td>\n",
       "      <td>CpD</td>\n",
       "      <td>[0.0, 0.0, 0.0, 0.0, 0.0, 0.0, 0.0, 0.0, 0.0, ...</td>\n",
       "      <td>850</td>\n",
       "      <td>0.003396</td>\n",
       "      <td>0.04415</td>\n",
       "      <td>-0.003396</td>\n",
       "      <td>-0.076923</td>\n",
       "    </tr>\n",
       "  </tbody>\n",
       "</table>\n",
       "</div>"
      ],
      "text/plain": [
       "   row  col  source_degree  target_degree  dwpc metapath  \\\n",
       "0    0  685              3              1   0.0      CpD   \n",
       "1    0  688              3              1   0.0      CpD   \n",
       "\n",
       "                                        permutations  num-perm    p-dwpc  \\\n",
       "0  [0.0, 0.0, 0.0, 0.0, 0.0, 0.0, 0.0, 0.0, 0.0, ...       850  0.003396   \n",
       "1  [0.0, 0.0, 0.0, 0.0, 0.0, 0.0, 0.0, 0.0, 0.0, ...       850  0.003396   \n",
       "\n",
       "   sd-dwpc    r-dwpc    z-dwpc  \n",
       "0  0.04415 -0.003396 -0.076923  \n",
       "1  0.04415 -0.003396 -0.076923  "
      ]
     },
     "execution_count": 10,
     "metadata": {},
     "output_type": "execute_result"
    }
   ],
   "source": [
    "full_dwpc_df.head(2)"
   ]
  },
  {
   "cell_type": "markdown",
   "metadata": {},
   "source": [
    "# Query start and end node"
   ]
  },
  {
   "cell_type": "code",
   "execution_count": 11,
   "metadata": {},
   "outputs": [],
   "source": [
    "def two_node_query(source_index, target_index, dataframe, z_threshold=None):\n",
    "    df = (dataframe[(dataframe['row'] == source_index) & (dataframe['col'] == target_index)]\n",
    "         .sort_values(by='z-dwpc', ascending=False))\n",
    "    df = df[['row', 'col', 'metapath', 'dwpc', 'z-dwpc']]\n",
    "\n",
    "    if z_threshold is not None:\n",
    "        df = df[df['z-dwpc'] >= z_threshold]\n",
    "\n",
    "    return df"
   ]
  },
  {
   "cell_type": "code",
   "execution_count": 12,
   "metadata": {},
   "outputs": [
    {
     "data": {
      "text/html": [
       "<div>\n",
       "<style scoped>\n",
       "    .dataframe tbody tr th:only-of-type {\n",
       "        vertical-align: middle;\n",
       "    }\n",
       "\n",
       "    .dataframe tbody tr th {\n",
       "        vertical-align: top;\n",
       "    }\n",
       "\n",
       "    .dataframe thead th {\n",
       "        text-align: right;\n",
       "    }\n",
       "</style>\n",
       "<table border=\"1\" class=\"dataframe\">\n",
       "  <thead>\n",
       "    <tr style=\"text-align: right;\">\n",
       "      <th></th>\n",
       "      <th>row</th>\n",
       "      <th>col</th>\n",
       "      <th>metapath</th>\n",
       "      <th>dwpc</th>\n",
       "      <th>z-dwpc</th>\n",
       "    </tr>\n",
       "  </thead>\n",
       "  <tbody>\n",
       "    <tr>\n",
       "      <th>697280</th>\n",
       "      <td>26</td>\n",
       "      <td>768</td>\n",
       "      <td>CpDrD</td>\n",
       "      <td>0.025254</td>\n",
       "      <td>2.001349</td>\n",
       "    </tr>\n",
       "  </tbody>\n",
       "</table>\n",
       "</div>"
      ],
      "text/plain": [
       "        row  col metapath      dwpc    z-dwpc\n",
       "697280   26  768    CpDrD  0.025254  2.001349"
      ]
     },
     "execution_count": 12,
     "metadata": {},
     "output_type": "execute_result"
    }
   ],
   "source": [
    "two_node_query(26, 768, full_dwpc_df, z_threshold=0)"
   ]
  }
 ],
 "metadata": {
  "kernelspec": {
   "display_name": "Python 3",
   "language": "python",
   "name": "python3"
  },
  "language_info": {
   "codemirror_mode": {
    "name": "ipython",
    "version": 3
   },
   "file_extension": ".py",
   "mimetype": "text/x-python",
   "name": "python",
   "nbconvert_exporter": "python",
   "pygments_lexer": "ipython3",
   "version": "3.6.4"
  }
 },
 "nbformat": 4,
 "nbformat_minor": 2
}
