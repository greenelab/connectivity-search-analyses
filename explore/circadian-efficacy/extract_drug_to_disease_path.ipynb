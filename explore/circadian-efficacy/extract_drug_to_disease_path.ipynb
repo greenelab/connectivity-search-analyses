{
 "cells": [
  {
   "cell_type": "markdown",
   "metadata": {},
   "source": [
    "# Extract edges from hetionet connecting drugs to diseases"
   ]
  },
  {
   "cell_type": "code",
   "execution_count": 1,
   "metadata": {},
   "outputs": [],
   "source": [
    "import configparser\n",
    "import numpy as np\n",
    "import pandas as pd\n",
    "import psycopg2\n",
    "\n",
    "import hetio.readwrite\n",
    "import hetio.pathtools"
   ]
  },
  {
   "cell_type": "code",
   "execution_count": 2,
   "metadata": {},
   "outputs": [],
   "source": [
    "# read in json format of hetionetv1.0\n",
    "graph_url = 'https://github.com/dhimmel/hetionet/raw/76550e6c93fbe92124edc71725e8c7dd4ca8b1f5/hetnet/json/hetionet-v1.0.json.bz2'\n",
    "graph = hetio.readwrite.read_graph(graph_url)\n",
    "meta_url = 'https://github.com/dhimmel/hetionet/raw/76550e6c93fbe92124edc71725e8c7dd4ca8b1f5/hetnet/json/hetionet-v1.0-metagraph.json'\n",
    "metagraph = hetio.readwrite.read_metagraph(meta_url)"
   ]
  },
  {
   "cell_type": "markdown",
   "metadata": {},
   "source": [
    "### pre-process circadian treatments extracted from Ruben et al"
   ]
  },
  {
   "cell_type": "code",
   "execution_count": 3,
   "metadata": {},
   "outputs": [
    {
     "data": {
      "text/plain": [
       "24"
      ]
     },
     "execution_count": 3,
     "metadata": {},
     "output_type": "execute_result"
    }
   ],
   "source": [
    "# Ruben et al treatment data \n",
    "treatment = pd.read_csv('data/HumCircMed2018v2_mapped.tsv', sep = '\\t')\n",
    "treatment = treatment[treatment['effect'] == 'more eff']\n",
    "treatment = treatment[~treatment['drug.trtmnt.DrugBankID'].isna()]\n",
    "treatment = treatment[~treatment['therapeutic.area.DOID'].isna()]\n",
    "\n",
    "# filter the data\n",
    "rb_pair_drug = []\n",
    "rb_pair_disease = []\n",
    "rb_pair_hl = []\n",
    "for i in range(0,len(treatment)):\n",
    "    drug_id = treatment['drug.trtmnt.DrugBankID'].iloc[i,]\n",
    "    disease_id = treatment['therapeutic.area.DOID'].iloc[i,]\n",
    "    # whether treatment contains only one drug\n",
    "    if len(drug_id.split(',')) == 1:\n",
    "        source_id = 'Compound', drug_id\n",
    "        target_id = 'Disease', disease_id\n",
    "        # whether drug and disease are both in hetionet\n",
    "        if source_id in graph.node_dict:\n",
    "            if target_id in graph.node_dict:\n",
    "                rb_pair_drug.append(drug_id)\n",
    "                rb_pair_disease.append(disease_id)\n",
    "                rb_pair_hl.append(treatment['halflife.hrs'].iloc[i,])\n",
    "\n",
    "# number of drug~disease pairs in the dataset\n",
    "len(rb_pair_drug)"
   ]
  },
  {
   "cell_type": "markdown",
   "metadata": {},
   "source": [
    "### pre-process shorter-half-life drugs extracted from DrugBank"
   ]
  },
  {
   "cell_type": "code",
   "execution_count": 4,
   "metadata": {},
   "outputs": [],
   "source": [
    "# read in half-life info of drugs\n",
    "half_life_df = pd.read_csv('https://github.com/dhimmel/drugbank/raw/6b9ae386d6ba4a0eca2d66d4b0337a6e90fe81f4/data/drugbank_subset_halflife_curated.tsv'\n",
    "                           ,header = 0, sep = '\\t')\n",
    "\n",
    "# filter out drugs in Ruben et al\n",
    "filter_id = []\n",
    "for i in range(0, len(half_life_df)):\n",
    "    if half_life_df.drugbank_id[i] in rb_pair_drug:\n",
    "        filter_id.append(False)\n",
    "    else:\n",
    "        filter_id.append(True)\n",
    "half_life_df = half_life_df[filter_id]\n",
    "\n",
    "# half-life < 24 hours\n",
    "short24_drugs = list(half_life_df[half_life_df.half_life_hours_curated < 24].drugbank_id)\n",
    "short24_hl = list(half_life_df[half_life_df.half_life_hours_curated < 24].half_life_hours_curated)      "
   ]
  },
  {
   "cell_type": "code",
   "execution_count": 5,
   "metadata": {},
   "outputs": [
    {
     "data": {
      "text/plain": [
       "387"
      ]
     },
     "execution_count": 5,
     "metadata": {},
     "output_type": "execute_result"
    }
   ],
   "source": [
    "# Get the diseases that each drug treats using hetionet\n",
    "db_pair_drug = []\n",
    "db_pair_disease = []\n",
    "db_pair_hl = []\n",
    "metapath = metagraph.metapath_from_abbrev('CtD')\n",
    "for i in range(0, len(short24_drugs)):\n",
    "    drug_id = short24_drugs[i]\n",
    "    source_id = 'Compound', drug_id\n",
    "    # whether drug is in hetionet\n",
    "    if source_id in graph.node_dict:\n",
    "        treat_paths = hetio.pathtools.paths_from(graph = graph, source = source_id, metapath = metapath)\n",
    "        treat_len = len(treat_paths)\n",
    "        if treat_len > 0:\n",
    "            for j in range(0,treat_len):\n",
    "                db_pair_drug.append(drug_id)\n",
    "                db_pair_hl.append(short24_hl[i])\n",
    "                disease_id = str(treat_paths[j].get_nodes()[1]).split('Disease::')[1]\n",
    "                db_pair_disease.append(disease_id)\n",
    "\n",
    "# number of drug~disease pairs in the dataset\n",
    "len(db_pair_drug)"
   ]
  },
  {
   "cell_type": "markdown",
   "metadata": {},
   "source": [
    "### Extract drug-disease edges from hetionet"
   ]
  },
  {
   "cell_type": "code",
   "execution_count": 6,
   "metadata": {},
   "outputs": [],
   "source": [
    "## define metapath classes\n",
    "# compound -> gene -> disease\n",
    "g_class = ['CbGaD','CbGdD','CbGuD',\n",
    "          'CdGaD','CdGdD','CdGuD',\n",
    "          'CuGaD','CuGdD','CuGuD']\n",
    "# compound -> gene -> compound -> disease\n",
    "gc_class = ['CbGbCpD','CbGbCtD','CbGdCpD','CbGdCtD','CbGuCpD','CbGuCtD',\n",
    "           'CdGbCpD','CdGbCtD','CdGdCpD','CdGdCtD','CdGuCpD','CdGuCtD',\n",
    "           'CuGbCpD','CuGbCtD','CuGdCpD','CuGdCtD','CuGuCpD','CuGuCtD']\n",
    "# compound -> gene -> disease -> disease\n",
    "gd_class = ['CbGaDrD','CbGdDrD','CbGuDrD',\n",
    "           'CdGaDrD','CdGdDrD','CdGuDrD',\n",
    "           'CuGaDrD','CuGdDrD','CuGuDrD']\n",
    "# compound -> compound -> gene -> disease\n",
    "cg_class = ['CrCbGaD','CrCbGdD','CrCbGuD',\n",
    "           'CrCdGaD','CrCdGdD','CrCdGuD',\n",
    "           'CrCuGaD','CrCuGdD','CrCuGuD']\n",
    "# compound -> disease -> gene -> disease\n",
    "dg_class = ['CpDaGaD','CpDaGdD','CpDaGuD',\n",
    "           'CpDdGaD','CpDdGdD','CpDdGuD',\n",
    "           'CpDuGaD','CpDuGdD','CpDuGuD',\n",
    "           'CtDaGaD','CtDaGdD','CtDaGuD',\n",
    "           'CtDdGaD','CtDdGdD','CtDdGuD',\n",
    "           'CtDuGaD','CtDuGdD','CtDuGuD']\n",
    "m_classes = {'G': g_class, 'GC': gc_class, 'GD': gd_class, 'CG': cg_class, 'DG': dg_class}"
   ]
  },
  {
   "cell_type": "code",
   "execution_count": 7,
   "metadata": {},
   "outputs": [],
   "source": [
    "# function to extract drug-disease edges from hetionet\n",
    "def extract_drug_disease_edges(drug_list, disease_list, hl_list, graph, metagraph, meta_class_dict):\n",
    "    '''\n",
    "    drug_list, disease_list, hl_list: lists that contain DrugBank ID of drug, DOID of disease, and half-life of drug, \n",
    "    respectively\n",
    "    graph, metagraph: read-in json format graph, metagraph\n",
    "    meta_class_dict: dictionary that separates metapaths into general classes\n",
    "    '''\n",
    "    \n",
    "    edge_list = []\n",
    "    pair_count = 0  \n",
    "    drug_len = len(drug_list)\n",
    "    for i in range(0, drug_len):\n",
    "        drug_id = drug_list[i]\n",
    "        drug_hl = hl_list[i]\n",
    "        disease_id = disease_list[i]\n",
    "        source_id = 'Compound', drug_id\n",
    "        target_id = 'Disease', disease_id\n",
    "        path_count = 0\n",
    "        # iterate each class of metapath\n",
    "        for class_name, class_type in meta_class_dict.items():\n",
    "            # iterate each metapath in the class\n",
    "            for mt in class_type:\n",
    "                metapath = metagraph.metapath_from_abbrev(mt)\n",
    "                t_paths = hetio.pathtools.paths_between(graph = graph, source = source_id, target = target_id, metapath = metapath)\n",
    "                t_path_len = len(t_paths)\n",
    "                if t_path_len > 0:\n",
    "                    if path_count == 0:\n",
    "                        pair_count = pair_count + 1\n",
    "                    path_count = path_count + t_path_len\n",
    "                    # extract path info\n",
    "                    for j in range(0,len(t_paths)):\n",
    "                        # nodes in the path\n",
    "                        nodes = t_paths[j].get_nodes()\n",
    "                        # unique drug~disease pair ID, drug half-life, metapath class name, metapath name \n",
    "                        path_info = [pair_count, drug_hl, class_name, mt]\n",
    "                        path_char = ';'.join(str(pi) for pi in path_info) + ';' + ';'.join(str(n) for n in list(nodes))\n",
    "                        edge_list.append(path_char)\n",
    "                    \n",
    "    return edge_list"
   ]
  },
  {
   "cell_type": "code",
   "execution_count": 8,
   "metadata": {},
   "outputs": [
    {
     "data": {
      "text/plain": [
       "9857"
      ]
     },
     "execution_count": 8,
     "metadata": {},
     "output_type": "execute_result"
    }
   ],
   "source": [
    "# extract drug-disease edges from hetionet for Ruben et al data\n",
    "rb_edges = extract_drug_disease_edges(rb_pair_drug, rb_pair_disease, rb_pair_hl, graph, metagraph, m_classes)\n",
    "\n",
    "# output \n",
    "f = open('data/ruben_hetionet_edges.txt','w')\n",
    "for i in range(0,len(rb_edges)):\n",
    "    f.write('%s\\n' % rb_edges[i])\n",
    "f.close()\n",
    "\n",
    "# number of paths\n",
    "len(rb_edges)"
   ]
  },
  {
   "cell_type": "code",
   "execution_count": 9,
   "metadata": {},
   "outputs": [
    {
     "data": {
      "text/plain": [
       "['1;2.5;G;CbGaD;Compound::DB00635;Gene::213;Disease::DOID:2841',\n",
       " '1;2.5;G;CbGaD;Compound::DB00635;Gene::2908;Disease::DOID:2841',\n",
       " '1;2.5;GC;CbGbCpD;Compound::DB00635;Gene::1576;Compound::DB00668;Disease::DOID:2841',\n",
       " '1;2.5;GC;CbGbCtD;Compound::DB00635;Gene::1557;Compound::DB01274;Disease::DOID:2841',\n",
       " '1;2.5;GC;CbGbCtD;Compound::DB00635;Gene::1557;Compound::DB01234;Disease::DOID:2841']"
      ]
     },
     "execution_count": 9,
     "metadata": {},
     "output_type": "execute_result"
    }
   ],
   "source": [
    "# output format of paths\n",
    "rb_edges[0:5]"
   ]
  },
  {
   "cell_type": "code",
   "execution_count": 10,
   "metadata": {},
   "outputs": [
    {
     "data": {
      "text/plain": [
       "129435"
      ]
     },
     "execution_count": 10,
     "metadata": {},
     "output_type": "execute_result"
    }
   ],
   "source": [
    "# extract drug-disease edges from hetionet for drugbank data\n",
    "db_edges = extract_drug_disease_edges(db_pair_drug, db_pair_disease, db_pair_hl, graph, metagraph, m_classes)\n",
    "\n",
    "# output\n",
    "f = open('data/drugbank_hetionet_edges.txt','w')\n",
    "for i in range(0,len(db_edges)):\n",
    "    f.write('%s\\n' % db_edges[i])\n",
    "f.close()\n",
    "\n",
    "# number of paths\n",
    "len(db_edges)"
   ]
  }
 ],
 "metadata": {
  "kernelspec": {
   "display_name": "Python [conda env:hetmech]",
   "language": "python",
   "name": "conda-env-hetmech-py"
  },
  "language_info": {
   "codemirror_mode": {
    "name": "ipython",
    "version": 3
   },
   "file_extension": ".py",
   "mimetype": "text/x-python",
   "name": "python",
   "nbconvert_exporter": "python",
   "pygments_lexer": "ipython3",
   "version": "3.6.6"
  }
 },
 "nbformat": 4,
 "nbformat_minor": 2
}
