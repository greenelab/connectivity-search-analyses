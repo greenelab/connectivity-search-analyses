{
 "cells": [
  {
   "cell_type": "code",
   "execution_count": 1,
   "metadata": {},
   "outputs": [],
   "source": [
    "import numpy as np\n",
    "import pandas as pd\n",
    "import src.mapping_function as mf"
   ]
  },
  {
   "cell_type": "code",
   "execution_count": 2,
   "metadata": {},
   "outputs": [],
   "source": [
    "# read in circadian treatment data\n",
    "treatment = pd.read_excel('downloads/HumCircMed2018v2.xlsx', sheet_name = 0)\n",
    "# read in Drugbank ID map\n",
    "drugbank = pd.read_csv('downloads/drug_links.csv')\n",
    "# read in Disease ontology ID map\n",
    "disease_ontology = pd.read_csv('data/disease_doid.tsv', sep = '\\t')"
   ]
  },
  {
   "cell_type": "code",
   "execution_count": 3,
   "metadata": {
    "scrolled": true
   },
   "outputs": [],
   "source": [
    "# map treatments to drugbank ID\n",
    "drug_trtmnt_id = mf.map_drugbank_id(list(treatment.loc[:,'drug.trtmnt']), list(drugbank.loc[:,'DrugBank ID']), list(drugbank.loc[:,'Name']))\n",
    "# map therapeutic areas to DO ID\n",
    "disease_id = mf.map_disease_id(list(treatment.loc[:,'therapeutic.area']), list(disease_ontology.loc[:,'DOID']), list(disease_ontology.loc[:,'therapeutic.area']))\n",
    "# insert mapped IDs as new columns\n",
    "treatment.insert(2,'drug.trtmnt.DrugBankID',drug_trtmnt_id)\n",
    "treatment.insert(9,'therapeutic.area.DOID',disease_id)"
   ]
  },
  {
   "cell_type": "code",
   "execution_count": 4,
   "metadata": {},
   "outputs": [],
   "source": [
    "# output new dataframe\n",
    "treatment.to_csv('data/HumCircMed2018v2_mapped.tsv',sep = '\\t', header = True, index = False)"
   ]
  },
  {
   "cell_type": "code",
   "execution_count": 5,
   "metadata": {},
   "outputs": [],
   "source": [
    "# read in CircaDB data\n",
    "circa_db = pd.read_excel('downloads/aat8806_Data_file_S1.xlsx', sheet_name = 0)\n",
    "# read in tissue uberon map\n",
    "tissue_uberon = pd.read_csv('data/tissue_uberon.tsv', sep = '\\t')\n",
    "# read in GTEx data \n",
    "gtex_exp = pd.read_csv('downloads/GTEx_Analysis_2016-01-15_v7_RNASeQCv1.1.8_gene_median_tpm.gct', sep = '\\t', skiprows = 2)"
   ]
  },
  {
   "cell_type": "code",
   "execution_count": 6,
   "metadata": {},
   "outputs": [],
   "source": [
    "# extract tissue-specific circadian scores by gene\n",
    "all_genes = circa_db['Entrez.ID'].unique().tolist()\n",
    "all_tissues = circa_db['tissue'].unique().tolist()\n",
    "tissue_len = len(all_tissues)\n",
    "gene_fdr_list = []\n",
    "gene_amp_list = []\n",
    "gene_list = []\n",
    "all_genes_ensg = []\n",
    "\n",
    "for gene in all_genes:\n",
    "    gene_id = circa_db.index[circa_db['Entrez.ID'] == gene]\n",
    "    if len(gene_id) == tissue_len:\n",
    "        all_genes_ensg.append(circa_db.iloc[gene_id[0],1])\n",
    "        gene_list.append(gene)\n",
    "        \n",
    "        gene_fdr = np.array(circa_db.iloc[gene_id,4])\n",
    "        gene_amp = np.array(circa_db.iloc[gene_id,6])\n",
    "        \n",
    "        gene_fdr_list.append(gene_fdr)\n",
    "        gene_amp_list.append(gene_amp)  \n",
    "\n",
    "gene_list = np.array(gene_list)\n",
    "gene_fdr_list = np.array(gene_fdr_list)\n",
    "gene_amp_list = np.array(gene_amp_list)"
   ]
  },
  {
   "cell_type": "code",
   "execution_count": 7,
   "metadata": {},
   "outputs": [],
   "source": [
    "# extract tissue-specific expression (median of all samples) by gene\n",
    "all_gene_exp = mf.map_gtex_expression(all_genes_ensg, all_tissues, list(tissue_uberon.loc[:,'GTEx.name']), list(tissue_uberon.loc[:,'Tissue']), gtex_exp)\n",
    "all_gene_exp = np.array(all_gene_exp)\n",
    "all_gene_exp = np.transpose(all_gene_exp)"
   ]
  },
  {
   "cell_type": "code",
   "execution_count": 8,
   "metadata": {},
   "outputs": [],
   "source": [
    "# combine FDR, amplitude, expression into one ndarray\n",
    "combine_array = np.concatenate((gene_fdr_list,gene_amp_list,all_gene_exp),axis=1)\n",
    "\n",
    "# specify each column name of the ndarray\n",
    "fdr_names = []\n",
    "for i in range(0, len(all_tissues)):\n",
    "    fdr_names.append(all_tissues[i] + '_fdr')\n",
    "amp_names = []\n",
    "for i in range(0, len(all_tissues)):\n",
    "    amp_names.append(all_tissues[i] + '_amp')\n",
    "exp_names = []\n",
    "for i in range(0, len(all_tissues)):\n",
    "    exp_names.append(all_tissues[i] + '_exp')\n",
    "combine_names = np.concatenate((fdr_names,amp_names,exp_names))"
   ]
  },
  {
   "cell_type": "code",
   "execution_count": 9,
   "metadata": {},
   "outputs": [],
   "source": [
    "# output ndarray that contains FDR, amplitude, expression of all genes measured\n",
    "f1 = open('data/circa_db_mapped.tsv', \"w\")\n",
    "\n",
    "combine_names_string = '\\t'.join(cn for cn in combine_names)\n",
    "f1.write('gene_id\\t%s\\n' % combine_names_string)\n",
    "\n",
    "for i in range(0, len(combine_array)):\n",
    "    combine_string = '\\t'.join(format(ca,'.4f') for ca in combine_array[i])\n",
    "    f1.write('%d\\t%s\\n' % (gene_list[i], combine_string))\n",
    "\n",
    "f1.close()"
   ]
  }
 ],
 "metadata": {
  "kernelspec": {
   "display_name": "Python 3",
   "language": "python",
   "name": "python3"
  },
  "language_info": {
   "codemirror_mode": {
    "name": "ipython",
    "version": 3
   },
   "file_extension": ".py",
   "mimetype": "text/x-python",
   "name": "python",
   "nbconvert_exporter": "python",
   "pygments_lexer": "ipython3",
   "version": "3.7.1"
  }
 },
 "nbformat": 4,
 "nbformat_minor": 2
}
