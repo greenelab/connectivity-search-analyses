{
 "cells": [
  {
   "cell_type": "markdown",
   "metadata": {},
   "source": [
    "# Extract edges from hetionet connecting drugs to diseases"
   ]
  },
  {
   "cell_type": "code",
   "execution_count": 26,
   "metadata": {},
   "outputs": [],
   "source": [
    "import configparser\n",
    "import numpy as np\n",
    "import pandas as pd\n",
    "import psycopg2\n",
    "\n",
    "import hetio.readwrite\n",
    "import hetio.pathtools"
   ]
  },
  {
   "cell_type": "code",
   "execution_count": 52,
   "metadata": {},
   "outputs": [],
   "source": [
    "# read in json format of hetionetv1.0\n",
    "graph_url = 'https://github.com/dhimmel/hetionet/raw/76550e6c93fbe92124edc71725e8c7dd4ca8b1f5/hetnet/json/hetionet-v1.0.json.bz2'\n",
    "graph = hetio.readwrite.read_graph(graph_url)\n",
    "meta_url = 'https://github.com/dhimmel/hetionet/raw/76550e6c93fbe92124edc71725e8c7dd4ca8b1f5/hetnet/json/hetionet-v1.0-metagraph.json'\n",
    "metagraph = hetio.readwrite.read_metagraph(meta_url)"
   ]
  },
  {
   "cell_type": "markdown",
   "metadata": {},
   "source": [
    "### pre-process shorter-half-life drugs extracted from DrugBank"
   ]
  },
  {
   "cell_type": "code",
   "execution_count": 223,
   "metadata": {},
   "outputs": [],
   "source": [
    "# read in half-life info of drugs\n",
    "half_life_df = pd.read_csv('https://github.com/dhimmel/drugbank/raw/6b9ae386d6ba4a0eca2d66d4b0337a6e90fe81f4/data/drugbank_subset_halflife_curated.tsv'\n",
    "                           ,header = 0, sep = '\\t')\n",
    "\n",
    "# half-life < 24 hours\n",
    "short24_drugs = list(half_life_df[half_life_df.half_life_hours_curated < 24].drugbank_id)\n",
    "short24_hl = list(half_life_df[half_life_df.half_life_hours_curated < 24].half_life_hours_curated)"
   ]
  },
  {
   "cell_type": "code",
   "execution_count": 224,
   "metadata": {},
   "outputs": [],
   "source": [
    "# Get the diseases that each drug treats using hetionet\n",
    "db_pair_drug = []\n",
    "db_pair_disease = []\n",
    "db_pair_hl = []\n",
    "metapath = metagraph.metapath_from_abbrev('CtD')\n",
    "for i in range(0, len(short24_drugs)):\n",
    "    drug_id = short24_drugs[i]\n",
    "    source_id = 'Compound', drug_id\n",
    "    # whether drug is in hetionet\n",
    "    if source_id in graph.node_dict:\n",
    "        treat_paths = hetio.pathtools.paths_from(graph = graph, source = source_id, metapath = metapath)\n",
    "        treat_len = len(treat_paths)\n",
    "        if treat_len > 0:\n",
    "            for j in range(0,treat_len):\n",
    "                db_pair_drug.append(drug_id)\n",
    "                db_pair_hl.append(short24_hl[i])\n",
    "                disease_id = str(treat_paths[j].get_nodes()[1]).split('Disease::')[1]\n",
    "                db_pair_disease.append(disease_id)"
   ]
  },
  {
   "cell_type": "markdown",
   "metadata": {},
   "source": [
    "### pre-process circadian treatments extracted from Ruben et al"
   ]
  },
  {
   "cell_type": "code",
   "execution_count": 234,
   "metadata": {},
   "outputs": [
    {
     "ename": "AttributeError",
     "evalue": "'float' object has no attribute 'split'",
     "output_type": "error",
     "traceback": [
      "\u001b[0;31m---------------------------------------------------------------------------\u001b[0m",
      "\u001b[0;31mAttributeError\u001b[0m                            Traceback (most recent call last)",
      "\u001b[0;32m<ipython-input-234-d5590f0ab96a>\u001b[0m in \u001b[0;36m<module>\u001b[0;34m\u001b[0m\n\u001b[1;32m     10\u001b[0m     \u001b[0;32mif\u001b[0m \u001b[0mdrug_id\u001b[0m \u001b[0;34m!=\u001b[0m \u001b[0;34m'nan'\u001b[0m\u001b[0;34m:\u001b[0m\u001b[0;34m\u001b[0m\u001b[0m\n\u001b[1;32m     11\u001b[0m         \u001b[0;31m# whether treatment contains only one drug\u001b[0m\u001b[0;34m\u001b[0m\u001b[0;34m\u001b[0m\u001b[0m\n\u001b[0;32m---> 12\u001b[0;31m         \u001b[0;32mif\u001b[0m \u001b[0mlen\u001b[0m\u001b[0;34m(\u001b[0m\u001b[0mdrug_id\u001b[0m\u001b[0;34m.\u001b[0m\u001b[0msplit\u001b[0m\u001b[0;34m(\u001b[0m\u001b[0;34m','\u001b[0m\u001b[0;34m)\u001b[0m\u001b[0;34m)\u001b[0m \u001b[0;34m==\u001b[0m \u001b[0;36m1\u001b[0m\u001b[0;34m:\u001b[0m\u001b[0;34m\u001b[0m\u001b[0m\n\u001b[0m\u001b[1;32m     13\u001b[0m             \u001b[0msource_id\u001b[0m \u001b[0;34m=\u001b[0m \u001b[0;34m'Compound'\u001b[0m\u001b[0;34m,\u001b[0m \u001b[0mdrug_id\u001b[0m\u001b[0;34m\u001b[0m\u001b[0m\n\u001b[1;32m     14\u001b[0m             \u001b[0;31m# whether drug is in hetionet\u001b[0m\u001b[0;34m\u001b[0m\u001b[0;34m\u001b[0m\u001b[0m\n",
      "\u001b[0;31mAttributeError\u001b[0m: 'float' object has no attribute 'split'"
     ]
    }
   ],
   "source": [
    "# treatment data \n",
    "treatment = pandas.read_csv('data/HumCircMed2018v2_mapped.tsv', sep = '\\t')\n",
    "\n",
    "rb_pair_drug = []\n",
    "rb_pair_disease = []\n",
    "rb_pair_hl = []\n",
    "# filter the treatment data\n",
    "for i in range(0,len(treatment)):\n",
    "    drug_id = treatment['drug.trtmnt.DrugBankID'][i]\n",
    "    if drug_id != 'nan':\n",
    "        # whether treatment contains only one drug\n",
    "        if len(drug_id.split(',')) == 1:\n",
    "            source_id = 'Compound', drug_id\n",
    "            # whether drug is in hetionet\n",
    "            if source_id in graph.node_dict:\n",
    "                disease_id = treatment['therapeutic.area.DOID'][i]\n",
    "                if disease_id != 'nan':\n",
    "                    rb_pair_drug.append(drug_id)\n",
    "                    rb_pair_disease.append(disease_id)\n",
    "                    rb_pair_hl.append(treatment['halflife.hrs'][i])"
   ]
  },
  {
   "cell_type": "code",
   "execution_count": 250,
   "metadata": {},
   "outputs": [
    {
     "data": {
      "text/plain": [
       "nan"
      ]
     },
     "execution_count": 250,
     "metadata": {},
     "output_type": "execute_result"
    }
   ],
   "source": [
    "drug_id == "
   ]
  },
  {
   "cell_type": "code",
   "execution_count": 135,
   "metadata": {},
   "outputs": [],
   "source": [
    "## define metapath types \n",
    "# compound -> gene -> disease\n",
    "g_type = ['CbGaD','CbGdD','CbGuD',\n",
    "          'CdGaD','CdGdD','CdGuD',\n",
    "          'CuGaD','CuGdD','CuGuD']\n",
    "# compound -> gene -> compound -> disease\n",
    "gc_type = ['CbGbCpD','CbGbCtD','CbGdCpD','CbGdCtD','CbGuCpD','CbGuCtD',\n",
    "           'CdGbCpD','CdGbCtD','CdGdCpD','CdGdCtD','CdGuCpD','CdGuCtD',\n",
    "           'CuGbCpD','CuGbCtD','CuGdCpD','CuGdCtD','CuGuCpD','CuGuCtD']\n",
    "# compound -> gene -> disease -> disease\n",
    "gd_type = ['CbGaDrD','CbGdDrD','CbGuDrD',\n",
    "           'CdGaDrD','CdGdDrD','CdGuDrD',\n",
    "           'CuGaDrD','CuGdDrD','CuGuDrD']\n",
    "# compound -> compound -> gene -> disease\n",
    "cg_type = ['CrCbGaD','CrCbGdD','CrCbGuD',\n",
    "           'CrCdGaD','CrCdGdD','CrCdGuD',\n",
    "           'CrCuGaD','CrCuGdD','CrCuGuD']\n",
    "# compound -> disease -> gene -> disease\n",
    "dg_type = ['CpDaGaD','CpDaGdD','CpDaGuD',\n",
    "           'CpDdGaD','CpDdGdD','CpDdGuD',\n",
    "           'CpDuGaD','CpDuGdD','CpDuGuD',\n",
    "           'CtDaGaD','CtDaGdD','CtDaGuD',\n",
    "           'CtDdGaD','CtDdGdD','CtDdGuD',\n",
    "           'CtDuGaD','CtDuGdD','CtDuGuD']\n",
    "types = [gc_type, gd_type, cg_type, dg_type]"
   ]
  },
  {
   "cell_type": "code",
   "execution_count": 3,
   "metadata": {},
   "outputs": [],
   "source": [
    "parser = configparser.ConfigParser()\n",
    "parser.read('database.ini')\n",
    "db_password = parser['psql']['password']"
   ]
  },
  {
   "cell_type": "code",
   "execution_count": 5,
   "metadata": {},
   "outputs": [],
   "source": [
    "connection = psycopg2.connect(host = 'hetmech-db-dev.cobepk65dd7j.us-east-1.rds.amazonaws.com', \n",
    "                              database = 'dj_hetmech', user = 'read_only_user', password = db_password)\n",
    "\n",
    "# extract hetionet edges that connect query compound to treatment\n",
    "edge_info_list = []\n",
    "for i in range(0,treatment_filter.shape[0]):    \n",
    "    # compound ~ treatment info\n",
    "    i_drug = treatment_filter.iloc[i,2]\n",
    "    i_disease = treatment_filter.iloc[i,9]\n",
    "    i_halflife = str(treatment_filter.iloc[i,7])\n",
    "    i_effect = treatment_filter.iloc[i,13]\n",
    "    \n",
    "    # extract hetionet node IDs of compound and treatment\n",
    "    id_query = f'''\n",
    "    SELECT dj_hetmech_app_node.id, dj_hetmech_app_node.identifier\n",
    "    FROM dj_hetmech_app_node \n",
    "    WHERE dj_hetmech_app_node.identifier='{i_drug}' OR dj_hetmech_app_node.identifier='{i_disease}'\n",
    "    ORDER BY dj_hetmech_app_node.identifier;\n",
    "    '''\n",
    "    pair_id = pandas.read_sql(id_query, connection)\n",
    "\n",
    "    # both compound and treatment are in hetionet\n",
    "    if pair_id.shape[0] == 2:      \n",
    "        # extract metatype of edges\n",
    "        i_drug_id = pair_id.iloc[0,0]\n",
    "        i_disease_id = pair_id.iloc[1,0]    \n",
    "        pair_query = f'''\n",
    "        SELECT *  \n",
    "        FROM dj_hetmech_app_pathcount dhap \n",
    "        WHERE (dhap.source_id='{i_drug_id}' AND dhap.target_id='{i_disease_id}');\n",
    "        '''\n",
    "        pair_metapaths = pandas.read_sql(pair_query, connection)\n",
    "\n",
    "        #\n",
    "        if pair_metapaths.shape[0] > 0:\n",
    "            #\n",
    "            for j in range(0,pair_metapaths.shape[0]):\n",
    "                j_meta = pair_metapaths.iloc[j,4]\n",
    "                # Gene-related metapaths\n",
    "                if 'G' in j_meta:\n",
    "                    #\n",
    "                    source_id = 'Compound', i_drug  \n",
    "                    target_id = 'Disease', i_disease \n",
    "                    metapath = metagraph.metapath_from_abbrev(j_meta)\n",
    "                    j_paths = hetio.pathtools.paths_between(graph = graph, source =source_id, target = target_id, metapath = metapath)\n",
    "\n",
    "                    # output edges info\n",
    "                    for k in range(0,len(j_paths)):\n",
    "                        jp_nodes = j_paths[k].get_nodes()\n",
    "                        jp_info = [i_effect, i_halflife, j_meta]\n",
    "                        jp_char = '\\t'.join(str(ji) for ji in jp_info) + '\\t' + '\\t'.join(str(jn) for jn in list(jp_nodes))\n",
    "                        edge_info_list.append(jp_char)"
   ]
  },
  {
   "cell_type": "code",
   "execution_count": 6,
   "metadata": {},
   "outputs": [],
   "source": [
    "# output\n",
    "f = open('data/HumCircMed2018v2_mapped_hetionet_edges.tsv','w')\n",
    "for i in range(0,len(edge_info_list)):\n",
    "    f.write('%s\\n' % edge_info_list[i])\n",
    "f.close()"
   ]
  }
 ],
 "metadata": {
  "kernelspec": {
   "display_name": "Python [conda env:hetmech]",
   "language": "python",
   "name": "conda-env-hetmech-py"
  },
  "language_info": {
   "codemirror_mode": {
    "name": "ipython",
    "version": 3
   },
   "file_extension": ".py",
   "mimetype": "text/x-python",
   "name": "python",
   "nbconvert_exporter": "python",
   "pygments_lexer": "ipython3",
   "version": "3.6.6"
  }
 },
 "nbformat": 4,
 "nbformat_minor": 2
}
