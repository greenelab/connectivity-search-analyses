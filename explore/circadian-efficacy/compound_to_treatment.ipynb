{
 "cells": [
  {
   "cell_type": "code",
   "execution_count": 1,
   "metadata": {},
   "outputs": [],
   "source": [
    "import configparser\n",
    "import pandas\n",
    "import psycopg2\n",
    "\n",
    "import hetio.readwrite\n",
    "import hetio.pathtools"
   ]
  },
  {
   "cell_type": "code",
   "execution_count": 2,
   "metadata": {},
   "outputs": [],
   "source": [
    "# treatment data \n",
    "treatment = pandas.read_csv('data/HumCircMed2018v2_mapped.tsv', sep = '\\t')\n",
    "# filter the treatment data \n",
    "filter_rids = []\n",
    "for i in range(0,treatment.shape[0]):\n",
    "    i_drug = str(treatment.iloc[i,2])\n",
    "    i_disease = str(treatment.iloc[i,9])\n",
    "    if i_drug == 'nan':\n",
    "        continue\n",
    "    # contains more than one drug, skip\n",
    "    elif len(i_drug.split(',')) > 1:\n",
    "        continue\n",
    "    elif i_disease == 'nan':\n",
    "        continue\n",
    "    else:\n",
    "        filter_rids.append(i)\n",
    "treatment_filter = treatment.iloc[filter_rids,:]"
   ]
  },
  {
   "cell_type": "code",
   "execution_count": 3,
   "metadata": {},
   "outputs": [],
   "source": [
    "parser = configparser.ConfigParser()\n",
    "parser.read('database.ini')\n",
    "\n",
    "db_password = parser['psql']['password']"
   ]
  },
  {
   "cell_type": "code",
   "execution_count": 4,
   "metadata": {},
   "outputs": [],
   "source": [
    "# read in hetionetv1.0 as graph and metagreaph\n",
    "url = 'https://github.com/dhimmel/hetionet/raw/76550e6c93fbe92124edc71725e8c7dd4ca8b1f5/hetnet/json/hetionet-v1.0.json.bz2'\n",
    "graph = hetio.readwrite.read_graph(url)\n",
    "url = 'https://github.com/dhimmel/hetionet/raw/76550e6c93fbe92124edc71725e8c7dd4ca8b1f5/hetnet/json/hetionet-v1.0-metagraph.json'\n",
    "metagraph = hetio.readwrite.read_metagraph(url)"
   ]
  },
  {
   "cell_type": "code",
   "execution_count": 5,
   "metadata": {},
   "outputs": [],
   "source": [
    "connection = psycopg2.connect(host = 'hetmech-db-dev.cobepk65dd7j.us-east-1.rds.amazonaws.com', \n",
    "                              database = 'dj_hetmech', user = 'read_only_user', password = db_password)\n",
    "\n",
    "# extract hetionet edges that connect query compound to treatment\n",
    "edge_info_list = []\n",
    "for i in range(0,treatment_filter.shape[0]):    \n",
    "    # compound ~ treatment info\n",
    "    i_drug = treatment_filter.iloc[i,2]\n",
    "    i_disease = treatment_filter.iloc[i,9]\n",
    "    i_halflife = str(treatment_filter.iloc[i,7])\n",
    "    i_effect = treatment_filter.iloc[i,13]\n",
    "    \n",
    "    # extract hetionet node IDs of compound and treatment\n",
    "    id_query = f'''\n",
    "    SELECT dj_hetmech_app_node.id, dj_hetmech_app_node.identifier\n",
    "    FROM dj_hetmech_app_node \n",
    "    WHERE dj_hetmech_app_node.identifier='{i_drug}' OR dj_hetmech_app_node.identifier='{i_disease}'\n",
    "    ORDER BY dj_hetmech_app_node.identifier;\n",
    "    '''\n",
    "    pair_id = pandas.read_sql(id_query, connection)\n",
    "\n",
    "    # both compound and treatment are in hetionet\n",
    "    if pair_id.shape[0] == 2:      \n",
    "        # extract metatype of edges\n",
    "        i_drug_id = pair_id.iloc[0,0]\n",
    "        i_disease_id = pair_id.iloc[1,0]    \n",
    "        pair_query = f'''\n",
    "        SELECT *  \n",
    "        FROM dj_hetmech_app_pathcount dhap \n",
    "        WHERE (dhap.source_id='{i_drug_id}' AND dhap.target_id='{i_disease_id}');\n",
    "        '''\n",
    "        pair_metapaths = pandas.read_sql(pair_query, connection)\n",
    "\n",
    "        #\n",
    "        if pair_metapaths.shape[0] > 0:\n",
    "            #\n",
    "            for j in range(0,pair_metapaths.shape[0]):\n",
    "                j_meta = pair_metapaths.iloc[j,4]\n",
    "                # Gene-related metapaths\n",
    "                if 'G' in j_meta:\n",
    "                    #\n",
    "                    source_id = 'Compound', i_drug  \n",
    "                    target_id = 'Disease', i_disease \n",
    "                    metapath = metagraph.metapath_from_abbrev(j_meta)\n",
    "                    j_paths = hetio.pathtools.paths_between(graph = graph, source =source_id, target = target_id, metapath = metapath)\n",
    "\n",
    "                    # output edges info\n",
    "                    for k in range(0,len(j_paths)):\n",
    "                        jp_nodes = j_paths[k].get_nodes()\n",
    "                        jp_info = [i_effect, i_halflife, j_meta]\n",
    "                        jp_char = '\\t'.join(str(ji) for ji in jp_info) + '\\t' + '\\t'.join(str(jn) for jn in list(jp_nodes))\n",
    "                        edge_info_list.append(jp_char)"
   ]
  },
  {
   "cell_type": "code",
   "execution_count": 6,
   "metadata": {},
   "outputs": [],
   "source": [
    "# output\n",
    "f = open('data/HumCircMed2018v2_mapped_hetionet_edges.tsv','w')\n",
    "for i in range(0,len(edge_info_list)):\n",
    "    f.write('%s\\n' % edge_info_list[i])\n",
    "f.close()"
   ]
  }
 ],
 "metadata": {
  "kernelspec": {
   "display_name": "Python [conda env:hetmech]",
   "language": "python",
   "name": "conda-env-hetmech-py"
  },
  "language_info": {
   "codemirror_mode": {
    "name": "ipython",
    "version": 3
   },
   "file_extension": ".py",
   "mimetype": "text/x-python",
   "name": "python",
   "nbconvert_exporter": "python",
   "pygments_lexer": "ipython3",
   "version": "3.6.6"
  }
 },
 "nbformat": 4,
 "nbformat_minor": 2
}
