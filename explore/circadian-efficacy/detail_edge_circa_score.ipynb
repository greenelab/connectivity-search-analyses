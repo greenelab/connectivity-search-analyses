{
 "cells": [
  {
   "cell_type": "markdown",
   "metadata": {},
   "source": [
    "# Obtain details of edge circadian score in each path"
   ]
  },
  {
   "cell_type": "code",
   "execution_count": 1,
   "metadata": {},
   "outputs": [],
   "source": [
    "import numpy as np\n",
    "import pandas as pd\n",
    "import src.calculate_edge_circa_score as cal\n",
    "import requests"
   ]
  },
  {
   "cell_type": "code",
   "execution_count": 2,
   "metadata": {},
   "outputs": [
    {
     "data": {
      "text/html": [
       "<div>\n",
       "<style scoped>\n",
       "    .dataframe tbody tr th:only-of-type {\n",
       "        vertical-align: middle;\n",
       "    }\n",
       "\n",
       "    .dataframe tbody tr th {\n",
       "        vertical-align: top;\n",
       "    }\n",
       "\n",
       "    .dataframe thead th {\n",
       "        text-align: right;\n",
       "    }\n",
       "</style>\n",
       "<table border=\"1\" class=\"dataframe\">\n",
       "  <thead>\n",
       "    <tr style=\"text-align: right;\">\n",
       "      <th></th>\n",
       "      <th>gene_id</th>\n",
       "      <th>Fat SQ_fdr</th>\n",
       "      <th>Fat Visceral_fdr</th>\n",
       "      <th>Aorta_fdr</th>\n",
       "      <th>Artery Coronary_fdr</th>\n",
       "      <th>Artery Tibial_fdr</th>\n",
       "      <th>Colon_fdr</th>\n",
       "      <th>Esophagus_fdr</th>\n",
       "      <th>Heart Atrial_fdr</th>\n",
       "      <th>Liver_fdr</th>\n",
       "      <th>...</th>\n",
       "      <th>Artery Coronary_exp</th>\n",
       "      <th>Artery Tibial_exp</th>\n",
       "      <th>Colon_exp</th>\n",
       "      <th>Esophagus_exp</th>\n",
       "      <th>Heart Atrial_exp</th>\n",
       "      <th>Liver_exp</th>\n",
       "      <th>Lung_exp</th>\n",
       "      <th>Nerve Tibial_exp</th>\n",
       "      <th>Pituitary_exp</th>\n",
       "      <th>Thyroid_exp</th>\n",
       "    </tr>\n",
       "  </thead>\n",
       "  <tbody>\n",
       "    <tr>\n",
       "      <th>0</th>\n",
       "      <td>653635</td>\n",
       "      <td>0.6432</td>\n",
       "      <td>0.1526</td>\n",
       "      <td>0.8443</td>\n",
       "      <td>0.7712</td>\n",
       "      <td>0.9549</td>\n",
       "      <td>0.5059</td>\n",
       "      <td>0.2928</td>\n",
       "      <td>0.6953</td>\n",
       "      <td>0.9732</td>\n",
       "      <td>...</td>\n",
       "      <td>12.300</td>\n",
       "      <td>11.590</td>\n",
       "      <td>12.7200</td>\n",
       "      <td>12.3033</td>\n",
       "      <td>5.369</td>\n",
       "      <td>5.406</td>\n",
       "      <td>13.680</td>\n",
       "      <td>19.480</td>\n",
       "      <td>15.840</td>\n",
       "      <td>19.2550</td>\n",
       "    </tr>\n",
       "    <tr>\n",
       "      <th>1</th>\n",
       "      <td>79854</td>\n",
       "      <td>0.7652</td>\n",
       "      <td>0.2412</td>\n",
       "      <td>0.0473</td>\n",
       "      <td>0.0002</td>\n",
       "      <td>0.6314</td>\n",
       "      <td>0.8602</td>\n",
       "      <td>0.0820</td>\n",
       "      <td>0.6481</td>\n",
       "      <td>0.6405</td>\n",
       "      <td>...</td>\n",
       "      <td>5.940</td>\n",
       "      <td>8.419</td>\n",
       "      <td>5.4407</td>\n",
       "      <td>4.6607</td>\n",
       "      <td>2.962</td>\n",
       "      <td>3.240</td>\n",
       "      <td>7.024</td>\n",
       "      <td>12.110</td>\n",
       "      <td>9.898</td>\n",
       "      <td>9.7615</td>\n",
       "    </tr>\n",
       "    <tr>\n",
       "      <th>2</th>\n",
       "      <td>643837</td>\n",
       "      <td>0.9075</td>\n",
       "      <td>0.0774</td>\n",
       "      <td>0.7887</td>\n",
       "      <td>0.2173</td>\n",
       "      <td>0.6017</td>\n",
       "      <td>0.3294</td>\n",
       "      <td>0.0696</td>\n",
       "      <td>0.2758</td>\n",
       "      <td>0.3438</td>\n",
       "      <td>...</td>\n",
       "      <td>9.039</td>\n",
       "      <td>11.520</td>\n",
       "      <td>7.1738</td>\n",
       "      <td>7.6350</td>\n",
       "      <td>14.350</td>\n",
       "      <td>3.674</td>\n",
       "      <td>6.016</td>\n",
       "      <td>5.872</td>\n",
       "      <td>18.600</td>\n",
       "      <td>6.5845</td>\n",
       "    </tr>\n",
       "    <tr>\n",
       "      <th>3</th>\n",
       "      <td>26155</td>\n",
       "      <td>0.8656</td>\n",
       "      <td>0.4570</td>\n",
       "      <td>0.5405</td>\n",
       "      <td>0.6391</td>\n",
       "      <td>0.8885</td>\n",
       "      <td>0.3902</td>\n",
       "      <td>0.6801</td>\n",
       "      <td>0.8984</td>\n",
       "      <td>0.3532</td>\n",
       "      <td>...</td>\n",
       "      <td>52.240</td>\n",
       "      <td>62.410</td>\n",
       "      <td>50.8450</td>\n",
       "      <td>62.9550</td>\n",
       "      <td>30.670</td>\n",
       "      <td>28.420</td>\n",
       "      <td>57.320</td>\n",
       "      <td>69.660</td>\n",
       "      <td>57.560</td>\n",
       "      <td>66.5800</td>\n",
       "    </tr>\n",
       "    <tr>\n",
       "      <th>4</th>\n",
       "      <td>339451</td>\n",
       "      <td>0.8808</td>\n",
       "      <td>0.6235</td>\n",
       "      <td>0.4360</td>\n",
       "      <td>0.4999</td>\n",
       "      <td>0.7446</td>\n",
       "      <td>0.7780</td>\n",
       "      <td>0.6238</td>\n",
       "      <td>0.6645</td>\n",
       "      <td>0.9089</td>\n",
       "      <td>...</td>\n",
       "      <td>13.510</td>\n",
       "      <td>10.800</td>\n",
       "      <td>11.6200</td>\n",
       "      <td>14.5633</td>\n",
       "      <td>4.870</td>\n",
       "      <td>5.979</td>\n",
       "      <td>15.600</td>\n",
       "      <td>9.224</td>\n",
       "      <td>21.420</td>\n",
       "      <td>15.4450</td>\n",
       "    </tr>\n",
       "  </tbody>\n",
       "</table>\n",
       "<p>5 rows × 40 columns</p>\n",
       "</div>"
      ],
      "text/plain": [
       "   gene_id  Fat SQ_fdr  Fat Visceral_fdr  Aorta_fdr  Artery Coronary_fdr  \\\n",
       "0   653635      0.6432            0.1526     0.8443               0.7712   \n",
       "1    79854      0.7652            0.2412     0.0473               0.0002   \n",
       "2   643837      0.9075            0.0774     0.7887               0.2173   \n",
       "3    26155      0.8656            0.4570     0.5405               0.6391   \n",
       "4   339451      0.8808            0.6235     0.4360               0.4999   \n",
       "\n",
       "   Artery Tibial_fdr  Colon_fdr  Esophagus_fdr  Heart Atrial_fdr  Liver_fdr  \\\n",
       "0             0.9549     0.5059         0.2928            0.6953     0.9732   \n",
       "1             0.6314     0.8602         0.0820            0.6481     0.6405   \n",
       "2             0.6017     0.3294         0.0696            0.2758     0.3438   \n",
       "3             0.8885     0.3902         0.6801            0.8984     0.3532   \n",
       "4             0.7446     0.7780         0.6238            0.6645     0.9089   \n",
       "\n",
       "      ...       Artery Coronary_exp  Artery Tibial_exp  Colon_exp  \\\n",
       "0     ...                    12.300             11.590    12.7200   \n",
       "1     ...                     5.940              8.419     5.4407   \n",
       "2     ...                     9.039             11.520     7.1738   \n",
       "3     ...                    52.240             62.410    50.8450   \n",
       "4     ...                    13.510             10.800    11.6200   \n",
       "\n",
       "   Esophagus_exp  Heart Atrial_exp  Liver_exp  Lung_exp  Nerve Tibial_exp  \\\n",
       "0        12.3033             5.369      5.406    13.680            19.480   \n",
       "1         4.6607             2.962      3.240     7.024            12.110   \n",
       "2         7.6350            14.350      3.674     6.016             5.872   \n",
       "3        62.9550            30.670     28.420    57.320            69.660   \n",
       "4        14.5633             4.870      5.979    15.600             9.224   \n",
       "\n",
       "   Pituitary_exp  Thyroid_exp  \n",
       "0         15.840      19.2550  \n",
       "1          9.898       9.7615  \n",
       "2         18.600       6.5845  \n",
       "3         57.560      66.5800  \n",
       "4         21.420      15.4450  \n",
       "\n",
       "[5 rows x 40 columns]"
      ]
     },
     "execution_count": 2,
     "metadata": {},
     "output_type": "execute_result"
    }
   ],
   "source": [
    "# read in processed CircaDB data \n",
    "circa_db = pd.read_csv('data/circa_db_mapped.tsv', sep = '\\t')\n",
    "circa_db.head()"
   ]
  },
  {
   "cell_type": "code",
   "execution_count": 3,
   "metadata": {},
   "outputs": [
    {
     "data": {
      "text/html": [
       "<div>\n",
       "<style scoped>\n",
       "    .dataframe tbody tr th:only-of-type {\n",
       "        vertical-align: middle;\n",
       "    }\n",
       "\n",
       "    .dataframe tbody tr th {\n",
       "        vertical-align: top;\n",
       "    }\n",
       "\n",
       "    .dataframe thead th {\n",
       "        text-align: right;\n",
       "    }\n",
       "</style>\n",
       "<table border=\"1\" class=\"dataframe\">\n",
       "  <thead>\n",
       "    <tr style=\"text-align: right;\">\n",
       "      <th></th>\n",
       "      <th>abbreviation</th>\n",
       "      <th>length</th>\n",
       "      <th>delta_auroc</th>\n",
       "      <th>negative_log_p</th>\n",
       "    </tr>\n",
       "  </thead>\n",
       "  <tbody>\n",
       "    <tr>\n",
       "      <th>0</th>\n",
       "      <td>CtDaGaD</td>\n",
       "      <td>3</td>\n",
       "      <td>12.70%</td>\n",
       "      <td>7.2485</td>\n",
       "    </tr>\n",
       "    <tr>\n",
       "      <th>1</th>\n",
       "      <td>CbGbCtD</td>\n",
       "      <td>3</td>\n",
       "      <td>21.70%</td>\n",
       "      <td>6.4962</td>\n",
       "    </tr>\n",
       "    <tr>\n",
       "      <th>2</th>\n",
       "      <td>CbGaD</td>\n",
       "      <td>2</td>\n",
       "      <td>14.50%</td>\n",
       "      <td>6.2137</td>\n",
       "    </tr>\n",
       "    <tr>\n",
       "      <th>3</th>\n",
       "      <td>CrCbGaD</td>\n",
       "      <td>3</td>\n",
       "      <td>8.22%</td>\n",
       "      <td>6.0926</td>\n",
       "    </tr>\n",
       "    <tr>\n",
       "      <th>4</th>\n",
       "      <td>CbGeAlD</td>\n",
       "      <td>3</td>\n",
       "      <td>8.43%</td>\n",
       "      <td>5.1873</td>\n",
       "    </tr>\n",
       "  </tbody>\n",
       "</table>\n",
       "</div>"
      ],
      "text/plain": [
       "  abbreviation  length delta_auroc  negative_log_p\n",
       "0      CtDaGaD       3      12.70%          7.2485\n",
       "1      CbGbCtD       3      21.70%          6.4962\n",
       "2        CbGaD       2      14.50%          6.2137\n",
       "3      CrCbGaD       3       8.22%          6.0926\n",
       "4      CbGeAlD       3       8.43%          5.1873"
      ]
     },
     "execution_count": 3,
     "metadata": {},
     "output_type": "execute_result"
    }
   ],
   "source": [
    "# read in metapath data\n",
    "metapath_df = pd.read_csv('data/rephetio_significant_metapaths.tsv', header = 0, sep = '\\t')\n",
    "metapath_df.head()"
   ]
  },
  {
   "cell_type": "code",
   "execution_count": 4,
   "metadata": {},
   "outputs": [],
   "source": [
    "metapaths = list(metapath_df.abbreviation)"
   ]
  },
  {
   "cell_type": "markdown",
   "metadata": {},
   "source": [
    "Use Flurbiprofen (DB00712) and rheumatoid arthritis (DOID:7148) as an example. This pair has score of 1 in liver, and 0 in all the other 12 tissues. "
   ]
  },
  {
   "cell_type": "code",
   "execution_count": 5,
   "metadata": {},
   "outputs": [],
   "source": [
    "# Return score details of Flurbiprofen ~ rheumatoid arthritis\n",
    "drug = 'DB00712'\n",
    "disease = 'DOID:7148'\n",
    "tissues = ['Aorta','Artery Coronary','Artery Tibial','Colon','Esophagus','Fat SQ','Fat Visceral','Heart Atrial','Liver',\n",
    "           'Lung','Nerve Tibial','Pituitary','Thyroid']\n",
    "score = cal.detail_edge_circa_score(drug, disease, tissues, circa_db, query_metapath = metapaths)"
   ]
  },
  {
   "cell_type": "code",
   "execution_count": 6,
   "metadata": {},
   "outputs": [
    {
     "data": {
      "text/plain": [
       "array([0., 0., 0., 0., 0., 0., 0., 0., 1., 0., 0., 0., 0.])"
      ]
     },
     "execution_count": 6,
     "metadata": {},
     "output_type": "execute_result"
    }
   ],
   "source": [
    "# edge circadian score of drug-disease pair in 13 tissues\n",
    "score['edge_circa_score']"
   ]
  },
  {
   "cell_type": "code",
   "execution_count": 7,
   "metadata": {},
   "outputs": [
    {
     "data": {
      "text/plain": [
       "1"
      ]
     },
     "execution_count": 7,
     "metadata": {},
     "output_type": "execute_result"
    }
   ],
   "source": [
    "# number of metapaths that contain gene\n",
    "score['total_meta_count']"
   ]
  },
  {
   "cell_type": "code",
   "execution_count": 8,
   "metadata": {},
   "outputs": [
    {
     "data": {
      "text/plain": [
       "12"
      ]
     },
     "execution_count": 8,
     "metadata": {},
     "output_type": "execute_result"
    }
   ],
   "source": [
    "# number of paths that contain gene in CircaDB\n",
    "score['total_path_count']"
   ]
  },
  {
   "cell_type": "markdown",
   "metadata": {},
   "source": [
    "Each element represents a path. When gene in the path is not in CircaDB, no amplitude, FDR, or path importance score will be returned "
   ]
  },
  {
   "cell_type": "code",
   "execution_count": 9,
   "metadata": {},
   "outputs": [
    {
     "data": {
      "text/plain": [
       "{'metapath': 'CbGbCpD',\n",
       " 'gene_id': [5743],\n",
       " 'circa_db_amp': {},\n",
       " 'circa_db_fdr': {},\n",
       " 'importance_score': nan}"
      ]
     },
     "execution_count": 9,
     "metadata": {},
     "output_type": "execute_result"
    }
   ],
   "source": [
    "# example of such path\n",
    "score['score_details'][0]"
   ]
  },
  {
   "cell_type": "markdown",
   "metadata": {},
   "source": [
    "When gene in the path is in CircaDB, amplitude, FDR, and path importance score will be returned "
   ]
  },
  {
   "cell_type": "code",
   "execution_count": 10,
   "metadata": {},
   "outputs": [
    {
     "data": {
      "text/plain": [
       "{'metapath': 'CbGbCpD',\n",
       " 'gene_id': [5742],\n",
       " 'circa_db_amp': {'Aorta': 0.0936,\n",
       "  'Artery Coronary': 0.1598,\n",
       "  'Artery Tibial': 0.2062,\n",
       "  'Colon': 0.1835,\n",
       "  'Esophagus': 0.1556,\n",
       "  'Fat SQ': 0.257,\n",
       "  'Fat Visceral': 0.4092,\n",
       "  'Heart Atrial': 0.2363,\n",
       "  'Liver': 0.4059,\n",
       "  'Lung': 0.0296,\n",
       "  'Nerve Tibial': 0.237,\n",
       "  'Pituitary': 0.008,\n",
       "  'Thyroid': 0.3475},\n",
       " 'circa_db_fdr': {'Aorta': 0.5199,\n",
       "  'Artery Coronary': 0.8636,\n",
       "  'Artery Tibial': 0.7137,\n",
       "  'Colon': 0.974,\n",
       "  'Esophagus': 0.6407,\n",
       "  'Fat SQ': 0.7174,\n",
       "  'Fat Visceral': 0.0921,\n",
       "  'Heart Atrial': 0.6006,\n",
       "  'Liver': 0.0357,\n",
       "  'Lung': 0.6444,\n",
       "  'Nerve Tibial': 0.5069,\n",
       "  'Pituitary': 0.2076,\n",
       "  'Thyroid': 0.6172},\n",
       " 'importance_score': 1.3730819627103723}"
      ]
     },
     "execution_count": 10,
     "metadata": {},
     "output_type": "execute_result"
    }
   ],
   "source": [
    "# example of such path\n",
    "score['score_details'][1]"
   ]
  },
  {
   "cell_type": "code",
   "execution_count": 11,
   "metadata": {},
   "outputs": [],
   "source": [
    "# obtain all the genes that contribute to the final score\n",
    "contributing_genes = []\n",
    "for i in range(0, len(score['score_details'])):\n",
    "    if len(score['score_details'][i]['circa_db_amp']) > 0:\n",
    "        for j in range(0, len(score['score_details'][i]['gene_id'])):\n",
    "            contributing_genes.append(score['score_details'][i]['gene_id'][j])"
   ]
  },
  {
   "cell_type": "code",
   "execution_count": 12,
   "metadata": {},
   "outputs": [
    {
     "data": {
      "text/plain": [
       "[5742, 5742, 5742, 5742, 5742, 5742, 5742, 5742, 5742, 5742, 5742, 5742]"
      ]
     },
     "execution_count": 12,
     "metadata": {},
     "output_type": "execute_result"
    }
   ],
   "source": [
    "contributing_genes"
   ]
  },
  {
   "cell_type": "markdown",
   "metadata": {},
   "source": [
    "All 12 paths traverse the same gene: PARVA (5742)"
   ]
  }
 ],
 "metadata": {
  "kernelspec": {
   "display_name": "Python 3",
   "language": "python",
   "name": "python3"
  },
  "language_info": {
   "codemirror_mode": {
    "name": "ipython",
    "version": 3
   },
   "file_extension": ".py",
   "mimetype": "text/x-python",
   "name": "python",
   "nbconvert_exporter": "python",
   "pygments_lexer": "ipython3",
   "version": "3.7.1"
  }
 },
 "nbformat": 4,
 "nbformat_minor": 2
}
