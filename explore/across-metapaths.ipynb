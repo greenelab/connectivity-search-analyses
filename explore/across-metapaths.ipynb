{
 "cells": [
  {
   "cell_type": "code",
   "execution_count": 1,
   "metadata": {},
   "outputs": [],
   "source": [
    "%load_ext autoreload\n",
    "%autoreload 2"
   ]
  },
  {
   "cell_type": "code",
   "execution_count": 2,
   "metadata": {},
   "outputs": [],
   "source": [
    "import numpy as np\n",
    "import pandas as pd\n",
    "import pandas\n",
    "import numpy\n",
    "import plotnine\n",
    "from hetmech.hetmat import HetMat\n",
    "import hetmech.degree_weight\n",
    "import tqdm\n",
    "import scipy.sparse\n",
    "import scipy.stats\n",
    "import matplotlib.pyplot as plt"
   ]
  },
  {
   "cell_type": "code",
   "execution_count": 3,
   "metadata": {},
   "outputs": [],
   "source": [
    "%matplotlib inline\n",
    "c1 = plt.cm.Set1(0)\n",
    "c2 = plt.cm.Set1(1)\n",
    "c3 = plt.cm.Set1(2)"
   ]
  },
  {
   "cell_type": "code",
   "execution_count": 4,
   "metadata": {},
   "outputs": [],
   "source": [
    "import sys\n",
    "sys.path.insert(0, 'bulk-pipeline/')\n",
    "import pipeline"
   ]
  },
  {
   "cell_type": "code",
   "execution_count": 5,
   "metadata": {},
   "outputs": [],
   "source": [
    "hetmat = HetMat('../data/hetionet-v1.0.hetmat/')\n",
    "hetmech.degree_weight.default_dwwc_method = hetmech.degree_weight.dwwc_recursive"
   ]
  },
  {
   "cell_type": "code",
   "execution_count": 6,
   "metadata": {},
   "outputs": [
    {
     "data": {
      "text/plain": [
       "27"
      ]
     },
     "execution_count": 6,
     "metadata": {},
     "output_type": "execute_result"
    }
   ],
   "source": [
    "metapaths = hetmat.metagraph.extract_metapaths(source='D', target='G', max_length=2)\n",
    "\n",
    "len(metapaths)"
   ]
  },
  {
   "cell_type": "code",
   "execution_count": 7,
   "metadata": {},
   "outputs": [],
   "source": [
    "permat = hetmat.permutations['001']"
   ]
  },
  {
   "cell_type": "code",
   "execution_count": 8,
   "metadata": {},
   "outputs": [],
   "source": [
    "def combine_dwpc_dgp(hetmat, metapath, permat):\n",
    "    \"\"\"\n",
    "    Combine DWPC information with degree-grouped permutation summary metrics.\n",
    "    Save resulting tables as one-per-metapath, compressed .tsv files.\n",
    "    \"\"\"\n",
    "    stats_path = hetmat.directory.joinpath('adjusted-path-counts', 'dwpc-0.5',\n",
    "                                           'degree-grouped-permutations', f'{metapath}.tsv')\n",
    "    degree_stats_df = pandas.read_table(stats_path)\n",
    "\n",
    "    dwpc_row_generator = hetmech.degree_group.dwpc_to_degrees(permat, metapath)\n",
    "    dwpc_df = pandas.DataFrame(dwpc_row_generator)\n",
    "    df = (\n",
    "        dwpc_df\n",
    "        .merge(degree_stats_df, on=['source_degree', 'target_degree'])\n",
    "        .drop(columns=['source_degree', 'target_degree'])\n",
    "        .rename(columns={'mean': 'p-dwpc', 'sd': 'sd-dwpc'})\n",
    "    )\n",
    "    df['r-dwpc'] = df['dwpc'] - df['p-dwpc']\n",
    "    df['z-dwpc'] = df['r-dwpc'] / df['sd-dwpc']\n",
    "    return df"
   ]
  },
  {
   "cell_type": "code",
   "execution_count": 9,
   "metadata": {},
   "outputs": [],
   "source": [
    "permutation_df = combine_dwpc_dgp(hetmat, metapaths[0], permat)"
   ]
  },
  {
   "cell_type": "code",
   "execution_count": 10,
   "metadata": {},
   "outputs": [],
   "source": [
    "hetionet_df = combine_dwpc_dgp(hetmat, metapaths[0], hetmat)"
   ]
  },
  {
   "cell_type": "code",
   "execution_count": 11,
   "metadata": {},
   "outputs": [],
   "source": [
    "merged_df = hetionet_df.merge(permutation_df, on=['source_id', 'target_id'], suffixes=('-het', '-perm'))"
   ]
  },
  {
   "cell_type": "code",
   "execution_count": 12,
   "metadata": {
    "scrolled": true
   },
   "outputs": [
    {
     "data": {
      "text/html": [
       "<div>\n",
       "<style scoped>\n",
       "    .dataframe tbody tr th:only-of-type {\n",
       "        vertical-align: middle;\n",
       "    }\n",
       "\n",
       "    .dataframe tbody tr th {\n",
       "        vertical-align: top;\n",
       "    }\n",
       "\n",
       "    .dataframe thead th {\n",
       "        text-align: right;\n",
       "    }\n",
       "</style>\n",
       "<table border=\"1\" class=\"dataframe\">\n",
       "  <thead>\n",
       "    <tr style=\"text-align: right;\">\n",
       "      <th></th>\n",
       "      <th>dwpc-het</th>\n",
       "      <th>path-count-het</th>\n",
       "      <th>source_id</th>\n",
       "      <th>source_name-het</th>\n",
       "      <th>target_id</th>\n",
       "      <th>target_name-het</th>\n",
       "      <th>n-het</th>\n",
       "      <th>nnz-het</th>\n",
       "      <th>n_perms-het</th>\n",
       "      <th>p-dwpc-het</th>\n",
       "      <th>...</th>\n",
       "      <th>path-count-perm</th>\n",
       "      <th>source_name-perm</th>\n",
       "      <th>target_name-perm</th>\n",
       "      <th>n-perm</th>\n",
       "      <th>nnz-perm</th>\n",
       "      <th>n_perms-perm</th>\n",
       "      <th>p-dwpc-perm</th>\n",
       "      <th>sd-dwpc-perm</th>\n",
       "      <th>r-dwpc-perm</th>\n",
       "      <th>z-dwpc-perm</th>\n",
       "    </tr>\n",
       "  </thead>\n",
       "  <tbody>\n",
       "    <tr>\n",
       "      <th>0</th>\n",
       "      <td>0.0</td>\n",
       "      <td>0</td>\n",
       "      <td>DOID:0050156</td>\n",
       "      <td>idiopathic pulmonary fibrosis</td>\n",
       "      <td>1</td>\n",
       "      <td>A1BG</td>\n",
       "      <td>10337625</td>\n",
       "      <td>0</td>\n",
       "      <td>25</td>\n",
       "      <td>0.0</td>\n",
       "      <td>...</td>\n",
       "      <td>0</td>\n",
       "      <td>idiopathic pulmonary fibrosis</td>\n",
       "      <td>A1BG</td>\n",
       "      <td>10337625</td>\n",
       "      <td>0</td>\n",
       "      <td>25</td>\n",
       "      <td>0.0</td>\n",
       "      <td>0.0</td>\n",
       "      <td>0.0</td>\n",
       "      <td>NaN</td>\n",
       "    </tr>\n",
       "    <tr>\n",
       "      <th>1</th>\n",
       "      <td>0.0</td>\n",
       "      <td>0</td>\n",
       "      <td>DOID:0050156</td>\n",
       "      <td>idiopathic pulmonary fibrosis</td>\n",
       "      <td>2</td>\n",
       "      <td>A2M</td>\n",
       "      <td>10337625</td>\n",
       "      <td>0</td>\n",
       "      <td>25</td>\n",
       "      <td>0.0</td>\n",
       "      <td>...</td>\n",
       "      <td>0</td>\n",
       "      <td>idiopathic pulmonary fibrosis</td>\n",
       "      <td>A2M</td>\n",
       "      <td>10337625</td>\n",
       "      <td>0</td>\n",
       "      <td>25</td>\n",
       "      <td>0.0</td>\n",
       "      <td>0.0</td>\n",
       "      <td>0.0</td>\n",
       "      <td>NaN</td>\n",
       "    </tr>\n",
       "  </tbody>\n",
       "</table>\n",
       "<p>2 rows × 24 columns</p>\n",
       "</div>"
      ],
      "text/plain": [
       "   dwpc-het  path-count-het     source_id                source_name-het  \\\n",
       "0       0.0               0  DOID:0050156  idiopathic pulmonary fibrosis   \n",
       "1       0.0               0  DOID:0050156  idiopathic pulmonary fibrosis   \n",
       "\n",
       "   target_id target_name-het     n-het  nnz-het  n_perms-het  p-dwpc-het  \\\n",
       "0          1            A1BG  10337625        0           25         0.0   \n",
       "1          2             A2M  10337625        0           25         0.0   \n",
       "\n",
       "      ...       path-count-perm               source_name-perm  \\\n",
       "0     ...                     0  idiopathic pulmonary fibrosis   \n",
       "1     ...                     0  idiopathic pulmonary fibrosis   \n",
       "\n",
       "   target_name-perm    n-perm  nnz-perm n_perms-perm p-dwpc-perm  \\\n",
       "0              A1BG  10337625         0           25         0.0   \n",
       "1               A2M  10337625         0           25         0.0   \n",
       "\n",
       "   sd-dwpc-perm  r-dwpc-perm  z-dwpc-perm  \n",
       "0           0.0          0.0          NaN  \n",
       "1           0.0          0.0          NaN  \n",
       "\n",
       "[2 rows x 24 columns]"
      ]
     },
     "execution_count": 12,
     "metadata": {},
     "output_type": "execute_result"
    }
   ],
   "source": [
    "merged_df.head(2)"
   ]
  },
  {
   "cell_type": "code",
   "execution_count": 13,
   "metadata": {},
   "outputs": [],
   "source": [
    "select_metapaths = ['DtC', 'DaGiG', 'DrDtC', 'CcSEcCtD']"
   ]
  },
  {
   "cell_type": "code",
   "execution_count": 14,
   "metadata": {},
   "outputs": [],
   "source": [
    "metapath = select_metapaths[1]\n",
    "# metapath = 'DaGcG'"
   ]
  },
  {
   "cell_type": "code",
   "execution_count": 15,
   "metadata": {},
   "outputs": [],
   "source": [
    "row, col, dwpc_matrix = hetmech.degree_weight.dwpc(hetmat, metapath, dense_threshold=1)\n",
    "\n",
    "dwpc_values = dwpc_matrix.toarray().flatten()"
   ]
  },
  {
   "cell_type": "code",
   "execution_count": 16,
   "metadata": {},
   "outputs": [
    {
     "data": {
      "application/vnd.jupyter.widget-view+json": {
       "model_id": "131529c66ab24b81acc5455dceee8ab7",
       "version_major": 2,
       "version_minor": 0
      },
      "text/html": [
       "<p>Failed to display Jupyter Widget of type <code>HBox</code>.</p>\n",
       "<p>\n",
       "  If you're reading this message in the Jupyter Notebook or JupyterLab Notebook, it may mean\n",
       "  that the widgets JavaScript is still loading. If this message persists, it\n",
       "  likely means that the widgets JavaScript library is either not installed or\n",
       "  not enabled. See the <a href=\"https://ipywidgets.readthedocs.io/en/stable/user_install.html\">Jupyter\n",
       "  Widgets Documentation</a> for setup instructions.\n",
       "</p>\n",
       "<p>\n",
       "  If you're reading this message in another frontend (for example, a static\n",
       "  rendering on GitHub or <a href=\"https://nbviewer.jupyter.org/\">NBViewer</a>),\n",
       "  it may mean that your frontend doesn't currently support widgets.\n",
       "</p>\n"
      ],
      "text/plain": [
       "HBox(children=(IntProgress(value=0, max=125), HTML(value='')))"
      ]
     },
     "metadata": {},
     "output_type": "display_data"
    },
    {
     "name": "stdout",
     "output_type": "stream",
     "text": [
      "\n"
     ]
    }
   ],
   "source": [
    "permutation_matrices = dict()\n",
    "\n",
    "for name, permat in tqdm.tqdm_notebook(hetmat.permutations.items()):\n",
    "    row, col, perm_dwpc = hetmech.degree_weight.dwpc(permat, metapath, dense_threshold=1)\n",
    "    permutation_matrices[name] = perm_dwpc"
   ]
  },
  {
   "cell_type": "markdown",
   "metadata": {},
   "source": [
    "### Distributions of unscaled DWPCs and permuted DWPCs"
   ]
  },
  {
   "cell_type": "code",
   "execution_count": 17,
   "metadata": {},
   "outputs": [],
   "source": [
    "perms = np.vstack([i.toarray().flatten() for i in permutation_matrices.values()]).T\n",
    "path_nnz = (perms != 0).sum(axis=1)"
   ]
  },
  {
   "cell_type": "code",
   "execution_count": 18,
   "metadata": {},
   "outputs": [],
   "source": [
    "sum_perms = perms.sum(axis=1)"
   ]
  },
  {
   "cell_type": "code",
   "execution_count": 19,
   "metadata": {},
   "outputs": [
    {
     "data": {
      "text/plain": [
       "125"
      ]
     },
     "execution_count": 19,
     "metadata": {},
     "output_type": "execute_result"
    }
   ],
   "source": [
    "len(hetmat.permutations)"
   ]
  },
  {
   "cell_type": "code",
   "execution_count": 20,
   "metadata": {
    "scrolled": true
   },
   "outputs": [
    {
     "data": {
      "text/plain": [
       "(11.328604461110347, 21.446567378450666)"
      ]
     },
     "execution_count": 20,
     "metadata": {},
     "output_type": "execute_result"
    }
   ],
   "source": [
    "e_nnz = np.mean(path_nnz[path_nnz != 0])\n",
    "np.mean(path_nnz), e_nnz"
   ]
  },
  {
   "cell_type": "code",
   "execution_count": 21,
   "metadata": {},
   "outputs": [
    {
     "data": {
      "image/png": "[encoded data removed]",
      "text/plain": [
       "<Figure size 432x288 with 1 Axes>"
      ]
     },
     "metadata": {},
     "output_type": "display_data"
    }
   ],
   "source": [
    "plt.hist(path_nnz, bins=50);"
   ]
  },
  {
   "cell_type": "code",
   "execution_count": 22,
   "metadata": {},
   "outputs": [
    {
     "data": {
      "text/plain": [
       "<matplotlib.legend.Legend at 0x7fe09e516f28>"
      ]
     },
     "execution_count": 22,
     "metadata": {},
     "output_type": "execute_result"
    },
    {
     "data": {
      "image/png": "[encoded data removed]",
      "text/plain": [
       "<Figure size 432x288 with 1 Axes>"
      ]
     },
     "metadata": {},
     "output_type": "display_data"
    }
   ],
   "source": [
    "# Path mean DWPC across all permutations\n",
    "mean_values = np.mean(perms, axis=1)\n",
    "\n",
    "plt.hist(dwpc_values, color=c1, label='dwpc', alpha=0.7)\n",
    "plt.hist(mean_values, color=c2, label='mean permutations', alpha=0.7)\n",
    "plt.yscale('log', nonposy='clip')\n",
    "plt.legend()"
   ]
  },
  {
   "cell_type": "code",
   "execution_count": 23,
   "metadata": {},
   "outputs": [
    {
     "data": {
      "text/plain": [
       "<matplotlib.legend.Legend at 0x7fe09e7dbcc0>"
      ]
     },
     "execution_count": 23,
     "metadata": {},
     "output_type": "execute_result"
    },
    {
     "data": {
      "image/png": "[encoded data removed]",
      "text/plain": [
       "<Figure size 432x288 with 1 Axes>"
      ]
     },
     "metadata": {},
     "output_type": "display_data"
    }
   ],
   "source": [
    "# Path DWPC sum across permutations divided by mean NNZ per path\n",
    "mean_values = sum_perms / np.mean(path_nnz)\n",
    "\n",
    "plt.hist(dwpc_values, color=c1, label='dwpc', alpha=0.7)\n",
    "plt.hist(mean_values, color=c2, label='mean permutations', alpha=0.7)\n",
    "plt.yscale('log', nonposy='clip')\n",
    "plt.legend()"
   ]
  },
  {
   "cell_type": "code",
   "execution_count": 24,
   "metadata": {},
   "outputs": [
    {
     "data": {
      "text/plain": [
       "<matplotlib.legend.Legend at 0x7fe0995c3f28>"
      ]
     },
     "execution_count": 24,
     "metadata": {},
     "output_type": "execute_result"
    },
    {
     "data": {
      "image/png": "[encoded data removed]",
      "text/plain": [
       "<Figure size 432x288 with 1 Axes>"
      ]
     },
     "metadata": {},
     "output_type": "display_data"
    }
   ],
   "source": [
    "# Path DWPC sum divided by expected path NNZ for paths having at least one nonzero DWPC permutation\n",
    "mean_values = sum_perms / e_nnz\n",
    "\n",
    "plt.hist(dwpc_values, color=c1, label='dwpc', alpha=0.7)\n",
    "plt.hist(mean_values, color=c2, label='mean permutations', alpha=0.7)\n",
    "plt.yscale('log', nonposy='clip')\n",
    "plt.legend()"
   ]
  },
  {
   "cell_type": "code",
   "execution_count": 25,
   "metadata": {},
   "outputs": [
    {
     "data": {
      "text/plain": [
       "<matplotlib.legend.Legend at 0x7fe0994c11d0>"
      ]
     },
     "execution_count": 25,
     "metadata": {},
     "output_type": "execute_result"
    },
    {
     "data": {
      "image/png": "[encoded data removed]",
      "text/plain": [
       "<Figure size 432x288 with 1 Axes>"
      ]
     },
     "metadata": {},
     "output_type": "display_data"
    }
   ],
   "source": [
    "# Scale the sum of permuted DWPC by the NNZ permutations for that path\n",
    "mean_values = sum_perms[path_nnz != 0] / path_nnz[path_nnz != 0]\n",
    "\n",
    "plt.hist(dwpc_values, color=c1, label='dwpc', alpha=0.7)\n",
    "plt.hist(mean_values, color=c2, label='mean permutations', alpha=0.7)\n",
    "plt.yscale('log', nonposy='clip')\n",
    "plt.legend()"
   ]
  },
  {
   "cell_type": "code",
   "execution_count": 26,
   "metadata": {},
   "outputs": [
    {
     "data": {
      "text/plain": [
       "<matplotlib.legend.Legend at 0x7fe09923cf60>"
      ]
     },
     "execution_count": 26,
     "metadata": {},
     "output_type": "execute_result"
    },
    {
     "data": {
      "image/png": "[encoded data removed]",
      "text/plain": [
       "<Figure size 432x288 with 1 Axes>"
      ]
     },
     "metadata": {},
     "output_type": "display_data"
    }
   ],
   "source": [
    "# Normalized histogram of all DWPC values for hetionet and all 45 permutations\n",
    "plt.hist(dwpc_values, color=c1, density=True, label='dwpc', alpha=0.7)\n",
    "plt.hist(perms.flatten(), color=c2, density=True, label='all permutations', alpha=0.7)\n",
    "plt.yscale('log', nonposy='clip')\n",
    "plt.title(f'Overall unscaled DWPC distribution {metapath}')\n",
    "plt.legend()"
   ]
  },
  {
   "cell_type": "code",
   "execution_count": 27,
   "metadata": {},
   "outputs": [
    {
     "name": "stderr",
     "output_type": "stream",
     "text": [
      "/home/michael/.conda/envs/hetmech/lib/python3.6/site-packages/ipykernel_launcher.py:5: RuntimeWarning: divide by zero encountered in true_divide\n",
      "  \"\"\"\n",
      "/home/michael/.conda/envs/hetmech/lib/python3.6/site-packages/ipykernel_launcher.py:5: RuntimeWarning: invalid value encountered in true_divide\n",
      "  \"\"\"\n",
      "/home/michael/.conda/envs/hetmech/lib/python3.6/site-packages/ipykernel_launcher.py:12: RuntimeWarning: divide by zero encountered in true_divide\n",
      "  if sys.path[0] == '':\n",
      "/home/michael/.conda/envs/hetmech/lib/python3.6/site-packages/ipykernel_launcher.py:12: RuntimeWarning: invalid value encountered in true_divide\n",
      "  if sys.path[0] == '':\n",
      "/home/michael/.conda/envs/hetmech/lib/python3.6/site-packages/ipykernel_launcher.py:16: UserWarning: Boolean Series key will be reindexed to match DataFrame index.\n",
      "  app.launch_new_instance()\n",
      "/home/michael/.conda/envs/hetmech/lib/python3.6/site-packages/ipykernel_launcher.py:17: UserWarning: Boolean Series key will be reindexed to match DataFrame index.\n"
     ]
    },
    {
     "data": {
      "image/png": "[encoded data removed]",
      "text/plain": [
       "<Figure size 432x288 with 1 Axes>"
      ]
     },
     "metadata": {},
     "output_type": "display_data"
    }
   ],
   "source": [
    "perm_dwpc = perms.T[0]\n",
    "p_dwpc = perms.T[1:].mean(axis=0)\n",
    "r_dwpc = perm_dwpc - p_dwpc\n",
    "sd_dwpc = np.std(perms.T[1:], axis=0)\n",
    "z_dwpc = r_dwpc / sd_dwpc\n",
    "df = pd.DataFrame.from_dict({'dwpc': perm_dwpc, 'p-dwpc': p_dwpc, 'r-dwpc': r_dwpc, 'sd-dwpc': sd_dwpc,\n",
    "                            'z-dwpc': z_dwpc})\n",
    "\n",
    "p_dwpc = perms.T.mean(axis=0)\n",
    "r_dwpc = dwpc_values - p_dwpc\n",
    "sd_dwpc = np.std(perms.T, axis=0)\n",
    "z_dwpc = r_dwpc / sd_dwpc\n",
    "dwpc_df = pd.DataFrame.from_dict({'dwpc': dwpc_values, 'p-dwpc': p_dwpc, 'r-dwpc': r_dwpc, 'sd-dwpc': sd_dwpc,\n",
    "                            'z-dwpc': z_dwpc})\n",
    "\n",
    "plt.hist(dwpc_df.dropna()[dwpc_df['z-dwpc'] != np.inf]['r-dwpc'], log=True, color=c1, alpha=0.7, label='r-dwpc');\n",
    "plt.hist(df.dropna()[df['z-dwpc'] != np.inf]['r-dwpc'], log=True, color=c2, alpha=0.7, label='permuted r-dwpc');\n",
    "plt.yscale('log', nonposy='clip')\n",
    "plt.title(f'Unscaled R-DWPC distributions')\n",
    "plt.legend();"
   ]
  },
  {
   "cell_type": "code",
   "execution_count": 28,
   "metadata": {},
   "outputs": [
    {
     "name": "stderr",
     "output_type": "stream",
     "text": [
      "/home/michael/.conda/envs/hetmech/lib/python3.6/site-packages/ipykernel_launcher.py:1: UserWarning: Boolean Series key will be reindexed to match DataFrame index.\n",
      "  \"\"\"Entry point for launching an IPython kernel.\n",
      "/home/michael/.conda/envs/hetmech/lib/python3.6/site-packages/ipykernel_launcher.py:2: UserWarning: Boolean Series key will be reindexed to match DataFrame index.\n",
      "  \n"
     ]
    },
    {
     "data": {
      "image/png": "[encoded data removed]",
      "text/plain": [
       "<Figure size 432x288 with 1 Axes>"
      ]
     },
     "metadata": {},
     "output_type": "display_data"
    }
   ],
   "source": [
    "plt.hist(dwpc_df.dropna()[dwpc_df['z-dwpc'] != np.inf]['z-dwpc'], color=c1, alpha=0.7, density=True, label='z-dwpc');\n",
    "plt.hist(df.dropna()[df['z-dwpc'] != np.inf]['z-dwpc'], color=c2, alpha=0.7, density=True, label='permuted z-dwpc');\n",
    "plt.yscale('log', nonposy='clip')\n",
    "plt.title(f'Unscaled Z-DWPC distributions')\n",
    "plt.legend();"
   ]
  },
  {
   "cell_type": "markdown",
   "metadata": {},
   "source": [
    "### Scaled DWPC values"
   ]
  },
  {
   "cell_type": "code",
   "execution_count": 29,
   "metadata": {},
   "outputs": [
    {
     "data": {
      "text/plain": [
       "0.0001533989229588653"
      ]
     },
     "execution_count": 29,
     "metadata": {},
     "output_type": "execute_result"
    }
   ],
   "source": [
    "scaler = dwpc_values.mean()\n",
    "scaler"
   ]
  },
  {
   "cell_type": "code",
   "execution_count": 30,
   "metadata": {},
   "outputs": [],
   "source": [
    "scaled_dwpc = np.arcsinh(dwpc_values / scaler)"
   ]
  },
  {
   "cell_type": "code",
   "execution_count": 31,
   "metadata": {},
   "outputs": [],
   "source": [
    "scaled_perms = np.arcsinh(perms / scaler)"
   ]
  },
  {
   "cell_type": "code",
   "execution_count": 32,
   "metadata": {},
   "outputs": [],
   "source": [
    "sum_scaled_perms = scaled_perms.sum(axis=1)"
   ]
  },
  {
   "cell_type": "code",
   "execution_count": 33,
   "metadata": {},
   "outputs": [
    {
     "data": {
      "image/png": "[encoded data removed]",
      "text/plain": [
       "<Figure size 432x288 with 1 Axes>"
      ]
     },
     "metadata": {},
     "output_type": "display_data"
    }
   ],
   "source": [
    "# Path mean DWPC across all permutations\n",
    "mean_scaled_values = np.mean(scaled_perms, axis=1)\n",
    "\n",
    "plt.hist(scaled_dwpc, color=c1, label='dwpc', alpha=0.7)\n",
    "plt.hist(mean_scaled_values, color=c2, label='mean permutations', alpha=0.7)\n",
    "plt.yscale('log', nonposy='clip')\n",
    "plt.title(f'Mean-scaled {metapath}')\n",
    "plt.legend();"
   ]
  },
  {
   "cell_type": "code",
   "execution_count": 34,
   "metadata": {},
   "outputs": [
    {
     "data": {
      "text/plain": [
       "<matplotlib.legend.Legend at 0x7fe098db5780>"
      ]
     },
     "execution_count": 34,
     "metadata": {},
     "output_type": "execute_result"
    },
    {
     "data": {
      "image/png": "[encoded data removed]",
      "text/plain": [
       "<Figure size 432x288 with 1 Axes>"
      ]
     },
     "metadata": {},
     "output_type": "display_data"
    }
   ],
   "source": [
    "# Scale the sum of permuted DWPC by the NNZ permutations for that path\n",
    "mean_scaled_values = sum_scaled_perms[path_nnz != 0] / path_nnz[path_nnz != 0]\n",
    "\n",
    "plt.hist(scaled_dwpc, color=c1, label='dwpc', alpha=0.7)\n",
    "plt.hist(mean_scaled_values, color=c2, label='mean permutations', alpha=0.7)\n",
    "plt.yscale('log', nonposy='clip')\n",
    "plt.legend()"
   ]
  },
  {
   "cell_type": "code",
   "execution_count": 35,
   "metadata": {},
   "outputs": [
    {
     "data": {
      "image/png": "[encoded data removed]",
      "text/plain": [
       "<Figure size 432x288 with 1 Axes>"
      ]
     },
     "metadata": {},
     "output_type": "display_data"
    }
   ],
   "source": [
    "# Normalized histogram of all DWPC values for hetionet and all 45 permutations\n",
    "plt.hist(scaled_dwpc, color=c1, density=True, alpha=0.7, label='dwpc')\n",
    "plt.hist(scaled_perms.flatten(), color=c2, density=True, alpha=0.7, label='all permutations')\n",
    "plt.yscale('log', nonposy='clip')\n",
    "plt.title(f'Overall scaled DWPC distribution {metapath}')\n",
    "plt.legend();"
   ]
  },
  {
   "cell_type": "code",
   "execution_count": 36,
   "metadata": {},
   "outputs": [
    {
     "data": {
      "image/png": "[encoded data removed]",
      "text/plain": [
       "<Figure size 432x288 with 1 Axes>"
      ]
     },
     "metadata": {},
     "output_type": "display_data"
    }
   ],
   "source": [
    "# Path median DWPC across all permutations\n",
    "mean_scaled_values = np.median(scaled_perms, axis=1)\n",
    "\n",
    "plt.hist(scaled_dwpc, color=c1, label='dwpc', alpha=0.7)\n",
    "plt.hist(mean_scaled_values, color=c2, label='median permutations', alpha=0.7)\n",
    "plt.yscale('log', nonposy='clip')\n",
    "plt.title(f'Median-scaled {metapath}')\n",
    "plt.legend();"
   ]
  },
  {
   "cell_type": "markdown",
   "metadata": {},
   "source": [
    "## Investigate P-DWPC"
   ]
  },
  {
   "cell_type": "code",
   "execution_count": 37,
   "metadata": {},
   "outputs": [],
   "source": [
    "dwpc_df = pd.DataFrame(scaled_dwpc, columns=['dwpc'])\n",
    "dwpc_df['p-dwpc'] = np.mean(scaled_perms, axis=1)\n",
    "dwpc_df['r-dwpc'] = dwpc_df['dwpc'] - dwpc_df['p-dwpc']\n",
    "dwpc_df['sd-dwpc'] = np.std(scaled_perms, axis=1)\n",
    "dwpc_df['z-dwpc'] = dwpc_df['r-dwpc'] / dwpc_df['sd-dwpc']\n",
    "\n",
    "dwpc_df = dwpc_df[dwpc_df['z-dwpc'] != np.inf].dropna()"
   ]
  },
  {
   "cell_type": "code",
   "execution_count": 38,
   "metadata": {},
   "outputs": [],
   "source": [
    "perm_df = pd.DataFrame(scaled_perms.T[0], columns=['dwpc'])\n",
    "perm_df['p-dwpc'] = np.mean(scaled_perms.T[1:], axis=0)\n",
    "perm_df['r-dwpc'] = perm_df['dwpc'] - perm_df['p-dwpc']\n",
    "perm_df['sd-dwpc'] = np.std(scaled_perms.T[1:], axis=0)\n",
    "perm_df['z-dwpc'] = perm_df['r-dwpc'] / perm_df['sd-dwpc']\n",
    "\n",
    "perm_df = perm_df[perm_df['z-dwpc'] != np.inf].dropna()"
   ]
  },
  {
   "cell_type": "code",
   "execution_count": 39,
   "metadata": {},
   "outputs": [
    {
     "data": {
      "image/png": "[encoded data removed]",
      "text/plain": [
       "<Figure size 432x288 with 1 Axes>"
      ]
     },
     "metadata": {},
     "output_type": "display_data"
    }
   ],
   "source": [
    "plt.hist(dwpc_df['dwpc'], color=c1, label='dwpc', bins=np.linspace(0,10,15), alpha=0.5)\n",
    "plt.hist(dwpc_df['p-dwpc'], color=c2, label='mean perm dwpc', bins=np.linspace(0,10,15), alpha=0.5)\n",
    "plt.title('Scaled DWPC')\n",
    "plt.ylim((0, 2000))\n",
    "# plt.xlim((0, 20))\n",
    "plt.legend();"
   ]
  },
  {
   "cell_type": "code",
   "execution_count": 40,
   "metadata": {},
   "outputs": [
    {
     "data": {
      "image/png": "[encoded data removed]",
      "text/plain": [
       "<Figure size 432x288 with 1 Axes>"
      ]
     },
     "metadata": {},
     "output_type": "display_data"
    }
   ],
   "source": [
    "plt.hist(dwpc_df['z-dwpc'], color=c1, label='z-dwpc', bins=np.linspace(-20,30,25), alpha=0.5)\n",
    "plt.hist(perm_df['z-dwpc'], color=c2, label='perm z-dwpc', bins=np.linspace(-20,30,25), alpha=0.5)\n",
    "plt.title('Scaled Z-DWPC')\n",
    "plt.ylim((0, 1000))\n",
    "plt.xlim((0, 20))\n",
    "plt.legend();"
   ]
  },
  {
   "cell_type": "code",
   "execution_count": 41,
   "metadata": {},
   "outputs": [
    {
     "data": {
      "image/png": "[encoded data removed]",
      "text/plain": [
       "<Figure size 432x288 with 1 Axes>"
      ]
     },
     "metadata": {},
     "output_type": "display_data"
    }
   ],
   "source": [
    "plt.hist(dwpc_df['r-dwpc'], color=c1, label='r-dwpc', bins=np.linspace(-4,6,50), alpha=0.5)\n",
    "plt.hist(perm_df['r-dwpc'], color=c2, label='perm r-dwpc', bins=np.linspace(-4,6,50), alpha=0.5)\n",
    "plt.title('Scaled R-DWPC')\n",
    "plt.ylim((0, 1000))\n",
    "plt.xlim((0, 6))\n",
    "plt.legend();"
   ]
  },
  {
   "cell_type": "markdown",
   "metadata": {},
   "source": [
    "## Use degree-grouped permutations"
   ]
  },
  {
   "cell_type": "code",
   "execution_count": 42,
   "metadata": {},
   "outputs": [],
   "source": [
    "dwpc_df = combine_dwpc_dgp(hetmat, metapath, hetmat)"
   ]
  },
  {
   "cell_type": "code",
   "execution_count": 43,
   "metadata": {},
   "outputs": [
    {
     "data": {
      "text/html": [
       "<div>\n",
       "<style scoped>\n",
       "    .dataframe tbody tr th:only-of-type {\n",
       "        vertical-align: middle;\n",
       "    }\n",
       "\n",
       "    .dataframe tbody tr th {\n",
       "        vertical-align: top;\n",
       "    }\n",
       "\n",
       "    .dataframe thead th {\n",
       "        text-align: right;\n",
       "    }\n",
       "</style>\n",
       "<table border=\"1\" class=\"dataframe\">\n",
       "  <thead>\n",
       "    <tr style=\"text-align: right;\">\n",
       "      <th></th>\n",
       "      <th>dwpc</th>\n",
       "      <th>path-count</th>\n",
       "      <th>source_id</th>\n",
       "      <th>source_name</th>\n",
       "      <th>target_id</th>\n",
       "      <th>target_name</th>\n",
       "      <th>n</th>\n",
       "      <th>nnz</th>\n",
       "      <th>n_perms</th>\n",
       "      <th>p-dwpc</th>\n",
       "      <th>sd-dwpc</th>\n",
       "      <th>r-dwpc</th>\n",
       "      <th>z-dwpc</th>\n",
       "    </tr>\n",
       "  </thead>\n",
       "  <tbody>\n",
       "    <tr>\n",
       "      <th>0</th>\n",
       "      <td>0.0</td>\n",
       "      <td>0</td>\n",
       "      <td>DOID:0050156</td>\n",
       "      <td>idiopathic pulmonary fibrosis</td>\n",
       "      <td>1</td>\n",
       "      <td>A1BG</td>\n",
       "      <td>16350</td>\n",
       "      <td>485</td>\n",
       "      <td>25</td>\n",
       "      <td>0.097439</td>\n",
       "      <td>0.579813</td>\n",
       "      <td>-0.097439</td>\n",
       "      <td>-0.168053</td>\n",
       "    </tr>\n",
       "    <tr>\n",
       "      <th>1</th>\n",
       "      <td>0.0</td>\n",
       "      <td>0</td>\n",
       "      <td>DOID:0050156</td>\n",
       "      <td>idiopathic pulmonary fibrosis</td>\n",
       "      <td>177</td>\n",
       "      <td>AGER</td>\n",
       "      <td>16350</td>\n",
       "      <td>485</td>\n",
       "      <td>25</td>\n",
       "      <td>0.097439</td>\n",
       "      <td>0.579813</td>\n",
       "      <td>-0.097439</td>\n",
       "      <td>-0.168053</td>\n",
       "    </tr>\n",
       "    <tr>\n",
       "      <th>2</th>\n",
       "      <td>0.0</td>\n",
       "      <td>0</td>\n",
       "      <td>DOID:0050156</td>\n",
       "      <td>idiopathic pulmonary fibrosis</td>\n",
       "      <td>182</td>\n",
       "      <td>JAG1</td>\n",
       "      <td>16350</td>\n",
       "      <td>485</td>\n",
       "      <td>25</td>\n",
       "      <td>0.097439</td>\n",
       "      <td>0.579813</td>\n",
       "      <td>-0.097439</td>\n",
       "      <td>-0.168053</td>\n",
       "    </tr>\n",
       "    <tr>\n",
       "      <th>3</th>\n",
       "      <td>0.0</td>\n",
       "      <td>0</td>\n",
       "      <td>DOID:0050156</td>\n",
       "      <td>idiopathic pulmonary fibrosis</td>\n",
       "      <td>197</td>\n",
       "      <td>AHSG</td>\n",
       "      <td>16350</td>\n",
       "      <td>485</td>\n",
       "      <td>25</td>\n",
       "      <td>0.097439</td>\n",
       "      <td>0.579813</td>\n",
       "      <td>-0.097439</td>\n",
       "      <td>-0.168053</td>\n",
       "    </tr>\n",
       "    <tr>\n",
       "      <th>4</th>\n",
       "      <td>0.0</td>\n",
       "      <td>0</td>\n",
       "      <td>DOID:0050156</td>\n",
       "      <td>idiopathic pulmonary fibrosis</td>\n",
       "      <td>221</td>\n",
       "      <td>ALDH3B1</td>\n",
       "      <td>16350</td>\n",
       "      <td>485</td>\n",
       "      <td>25</td>\n",
       "      <td>0.097439</td>\n",
       "      <td>0.579813</td>\n",
       "      <td>-0.097439</td>\n",
       "      <td>-0.168053</td>\n",
       "    </tr>\n",
       "  </tbody>\n",
       "</table>\n",
       "</div>"
      ],
      "text/plain": [
       "   dwpc  path-count     source_id                    source_name  target_id  \\\n",
       "0   0.0           0  DOID:0050156  idiopathic pulmonary fibrosis          1   \n",
       "1   0.0           0  DOID:0050156  idiopathic pulmonary fibrosis        177   \n",
       "2   0.0           0  DOID:0050156  idiopathic pulmonary fibrosis        182   \n",
       "3   0.0           0  DOID:0050156  idiopathic pulmonary fibrosis        197   \n",
       "4   0.0           0  DOID:0050156  idiopathic pulmonary fibrosis        221   \n",
       "\n",
       "  target_name      n  nnz  n_perms    p-dwpc   sd-dwpc    r-dwpc    z-dwpc  \n",
       "0        A1BG  16350  485       25  0.097439  0.579813 -0.097439 -0.168053  \n",
       "1        AGER  16350  485       25  0.097439  0.579813 -0.097439 -0.168053  \n",
       "2        JAG1  16350  485       25  0.097439  0.579813 -0.097439 -0.168053  \n",
       "3        AHSG  16350  485       25  0.097439  0.579813 -0.097439 -0.168053  \n",
       "4     ALDH3B1  16350  485       25  0.097439  0.579813 -0.097439 -0.168053  "
      ]
     },
     "execution_count": 43,
     "metadata": {},
     "output_type": "execute_result"
    }
   ],
   "source": [
    "dwpc_df.head()"
   ]
  },
  {
   "cell_type": "code",
   "execution_count": 44,
   "metadata": {
    "scrolled": true
   },
   "outputs": [],
   "source": [
    "_ = pipeline.compute_save_dwpc(hetmat.permutations['043'], hetmat.metagraph.get_metapath(metapath), damping=0)\n",
    "_ = pipeline.compute_save_dwpc(hetmat.permutations['043'], hetmat.metagraph.get_metapath(metapath), damping=0.5)"
   ]
  },
  {
   "cell_type": "code",
   "execution_count": 45,
   "metadata": {},
   "outputs": [],
   "source": [
    "perm_df = combine_dwpc_dgp(hetmat, metapath, hetmat.permutations['043'])"
   ]
  },
  {
   "cell_type": "code",
   "execution_count": 46,
   "metadata": {},
   "outputs": [
    {
     "data": {
      "text/html": [
       "<div>\n",
       "<style scoped>\n",
       "    .dataframe tbody tr th:only-of-type {\n",
       "        vertical-align: middle;\n",
       "    }\n",
       "\n",
       "    .dataframe tbody tr th {\n",
       "        vertical-align: top;\n",
       "    }\n",
       "\n",
       "    .dataframe thead th {\n",
       "        text-align: right;\n",
       "    }\n",
       "</style>\n",
       "<table border=\"1\" class=\"dataframe\">\n",
       "  <thead>\n",
       "    <tr style=\"text-align: right;\">\n",
       "      <th></th>\n",
       "      <th>dwpc</th>\n",
       "      <th>path-count</th>\n",
       "      <th>source_id</th>\n",
       "      <th>source_name</th>\n",
       "      <th>target_id</th>\n",
       "      <th>target_name</th>\n",
       "      <th>n</th>\n",
       "      <th>nnz</th>\n",
       "      <th>n_perms</th>\n",
       "      <th>p-dwpc</th>\n",
       "      <th>sd-dwpc</th>\n",
       "      <th>r-dwpc</th>\n",
       "      <th>z-dwpc</th>\n",
       "    </tr>\n",
       "  </thead>\n",
       "  <tbody>\n",
       "    <tr>\n",
       "      <th>0</th>\n",
       "      <td>0.0</td>\n",
       "      <td>0.0</td>\n",
       "      <td>DOID:0050156</td>\n",
       "      <td>idiopathic pulmonary fibrosis</td>\n",
       "      <td>1</td>\n",
       "      <td>A1BG</td>\n",
       "      <td>16350</td>\n",
       "      <td>485</td>\n",
       "      <td>25</td>\n",
       "      <td>0.097439</td>\n",
       "      <td>0.579813</td>\n",
       "      <td>-0.097439</td>\n",
       "      <td>-0.168053</td>\n",
       "    </tr>\n",
       "    <tr>\n",
       "      <th>1</th>\n",
       "      <td>0.0</td>\n",
       "      <td>0.0</td>\n",
       "      <td>DOID:0050156</td>\n",
       "      <td>idiopathic pulmonary fibrosis</td>\n",
       "      <td>177</td>\n",
       "      <td>AGER</td>\n",
       "      <td>16350</td>\n",
       "      <td>485</td>\n",
       "      <td>25</td>\n",
       "      <td>0.097439</td>\n",
       "      <td>0.579813</td>\n",
       "      <td>-0.097439</td>\n",
       "      <td>-0.168053</td>\n",
       "    </tr>\n",
       "    <tr>\n",
       "      <th>2</th>\n",
       "      <td>0.0</td>\n",
       "      <td>0.0</td>\n",
       "      <td>DOID:0050156</td>\n",
       "      <td>idiopathic pulmonary fibrosis</td>\n",
       "      <td>182</td>\n",
       "      <td>JAG1</td>\n",
       "      <td>16350</td>\n",
       "      <td>485</td>\n",
       "      <td>25</td>\n",
       "      <td>0.097439</td>\n",
       "      <td>0.579813</td>\n",
       "      <td>-0.097439</td>\n",
       "      <td>-0.168053</td>\n",
       "    </tr>\n",
       "    <tr>\n",
       "      <th>3</th>\n",
       "      <td>0.0</td>\n",
       "      <td>0.0</td>\n",
       "      <td>DOID:0050156</td>\n",
       "      <td>idiopathic pulmonary fibrosis</td>\n",
       "      <td>197</td>\n",
       "      <td>AHSG</td>\n",
       "      <td>16350</td>\n",
       "      <td>485</td>\n",
       "      <td>25</td>\n",
       "      <td>0.097439</td>\n",
       "      <td>0.579813</td>\n",
       "      <td>-0.097439</td>\n",
       "      <td>-0.168053</td>\n",
       "    </tr>\n",
       "    <tr>\n",
       "      <th>4</th>\n",
       "      <td>0.0</td>\n",
       "      <td>0.0</td>\n",
       "      <td>DOID:0050156</td>\n",
       "      <td>idiopathic pulmonary fibrosis</td>\n",
       "      <td>221</td>\n",
       "      <td>ALDH3B1</td>\n",
       "      <td>16350</td>\n",
       "      <td>485</td>\n",
       "      <td>25</td>\n",
       "      <td>0.097439</td>\n",
       "      <td>0.579813</td>\n",
       "      <td>-0.097439</td>\n",
       "      <td>-0.168053</td>\n",
       "    </tr>\n",
       "  </tbody>\n",
       "</table>\n",
       "</div>"
      ],
      "text/plain": [
       "   dwpc  path-count     source_id                    source_name  target_id  \\\n",
       "0   0.0         0.0  DOID:0050156  idiopathic pulmonary fibrosis          1   \n",
       "1   0.0         0.0  DOID:0050156  idiopathic pulmonary fibrosis        177   \n",
       "2   0.0         0.0  DOID:0050156  idiopathic pulmonary fibrosis        182   \n",
       "3   0.0         0.0  DOID:0050156  idiopathic pulmonary fibrosis        197   \n",
       "4   0.0         0.0  DOID:0050156  idiopathic pulmonary fibrosis        221   \n",
       "\n",
       "  target_name      n  nnz  n_perms    p-dwpc   sd-dwpc    r-dwpc    z-dwpc  \n",
       "0        A1BG  16350  485       25  0.097439  0.579813 -0.097439 -0.168053  \n",
       "1        AGER  16350  485       25  0.097439  0.579813 -0.097439 -0.168053  \n",
       "2        JAG1  16350  485       25  0.097439  0.579813 -0.097439 -0.168053  \n",
       "3        AHSG  16350  485       25  0.097439  0.579813 -0.097439 -0.168053  \n",
       "4     ALDH3B1  16350  485       25  0.097439  0.579813 -0.097439 -0.168053  "
      ]
     },
     "execution_count": 46,
     "metadata": {},
     "output_type": "execute_result"
    }
   ],
   "source": [
    "perm_df.head()"
   ]
  },
  {
   "cell_type": "code",
   "execution_count": 47,
   "metadata": {},
   "outputs": [
    {
     "data": {
      "text/plain": [
       "Text(0.5,1,'Comparison of Z-DWPC distributions along DaGiG')"
      ]
     },
     "execution_count": 47,
     "metadata": {},
     "output_type": "execute_result"
    },
    {
     "data": {
      "image/png": "[encoded data removed]",
      "text/plain": [
       "<Figure size 432x288 with 1 Axes>"
      ]
     },
     "metadata": {},
     "output_type": "display_data"
    }
   ],
   "source": [
    "bins = np.linspace(-5,15,10)\n",
    "\n",
    "plt.hist(dwpc_df['z-dwpc'].dropna(), alpha=0.5, label='dwpc', color=c1, bins=bins);\n",
    "plt.hist(perm_df['z-dwpc'].dropna(), alpha=0.5, label='permutation', color=c2, bins=bins);\n",
    "plt.legend();\n",
    "plt.ylim((0, 3000))\n",
    "plt.title(f'Comparison of Z-DWPC distributions along {metapath}')"
   ]
  },
  {
   "cell_type": "code",
   "execution_count": 48,
   "metadata": {},
   "outputs": [
    {
     "data": {
      "image/png": "[encoded data removed]",
      "text/plain": [
       "<Figure size 432x288 with 1 Axes>"
      ]
     },
     "metadata": {},
     "output_type": "display_data"
    }
   ],
   "source": [
    "# Approximate DWPC using the normal distribution\n",
    "dwpc_mu, dwpc_sig = scipy.stats.norm.fit(dwpc_df[dwpc_df['dwpc'] > 0]['dwpc'])\n",
    "perm_mu, perm_sig = scipy.stats.norm.fit(perm_df[perm_df['dwpc'] > 0]['dwpc'])\n",
    "\n",
    "x = np.linspace(-2,10,1000)\n",
    "dwpc_y = scipy.stats.norm.pdf(x, loc=dwpc_mu, scale=dwpc_sig)\n",
    "perm_y = scipy.stats.norm.pdf(x, loc=perm_mu, scale=perm_sig)\n",
    "\n",
    "# Make figure\n",
    "bins = np.linspace(-2, 10, 50)\n",
    "\n",
    "plt.hist(dwpc_df[dwpc_df['dwpc'] > 0]['dwpc'].dropna(), alpha=0.7, label='dwpc', color=c1, bins=bins, density=True)\n",
    "plt.hist(perm_df[perm_df['dwpc'] > 0]['dwpc'].dropna(), alpha=0.7, label='permutation', color=c2, bins=bins, density=True);\n",
    "\n",
    "plt.plot(x, dwpc_y, color=c1, linewidth=3)\n",
    "plt.plot(x, perm_y, color=c2, linewidth=3)\n",
    "\n",
    "plt.legend();\n",
    "# plt.ylim((0, 0.6))\n",
    "plt.title(f'Comparison of DWPC distributions along {metapath}');"
   ]
  },
  {
   "cell_type": "markdown",
   "metadata": {},
   "source": [
    "## Distributions of permuted DWPC using degree-grouping -> How close to normal?"
   ]
  },
  {
   "cell_type": "code",
   "execution_count": 49,
   "metadata": {},
   "outputs": [
    {
     "data": {
      "text/html": [
       "<div>\n",
       "<style scoped>\n",
       "    .dataframe tbody tr th:only-of-type {\n",
       "        vertical-align: middle;\n",
       "    }\n",
       "\n",
       "    .dataframe tbody tr th {\n",
       "        vertical-align: top;\n",
       "    }\n",
       "\n",
       "    .dataframe thead th {\n",
       "        text-align: right;\n",
       "    }\n",
       "</style>\n",
       "<table border=\"1\" class=\"dataframe\">\n",
       "  <thead>\n",
       "    <tr style=\"text-align: right;\">\n",
       "      <th></th>\n",
       "      <th>dwpc</th>\n",
       "      <th>path-count</th>\n",
       "      <th>source_id</th>\n",
       "      <th>source_name</th>\n",
       "      <th>target_id</th>\n",
       "      <th>target_name</th>\n",
       "      <th>n</th>\n",
       "      <th>nnz</th>\n",
       "      <th>n_perms</th>\n",
       "      <th>p-dwpc</th>\n",
       "      <th>sd-dwpc</th>\n",
       "      <th>r-dwpc</th>\n",
       "      <th>z-dwpc</th>\n",
       "    </tr>\n",
       "  </thead>\n",
       "  <tbody>\n",
       "    <tr>\n",
       "      <th>26464</th>\n",
       "      <td>2.053369</td>\n",
       "      <td>1</td>\n",
       "      <td>DOID:0050156</td>\n",
       "      <td>idiopathic pulmonary fibrosis</td>\n",
       "      <td>25</td>\n",
       "      <td>ABL1</td>\n",
       "      <td>50</td>\n",
       "      <td>22</td>\n",
       "      <td>25</td>\n",
       "      <td>0.907067</td>\n",
       "      <td>1.224545</td>\n",
       "      <td>1.146301</td>\n",
       "      <td>0.936104</td>\n",
       "    </tr>\n",
       "    <tr>\n",
       "      <th>33020</th>\n",
       "      <td>1.390019</td>\n",
       "      <td>1</td>\n",
       "      <td>DOID:0050156</td>\n",
       "      <td>idiopathic pulmonary fibrosis</td>\n",
       "      <td>60</td>\n",
       "      <td>ACTB</td>\n",
       "      <td>50</td>\n",
       "      <td>20</td>\n",
       "      <td>25</td>\n",
       "      <td>0.919828</td>\n",
       "      <td>1.275343</td>\n",
       "      <td>0.470191</td>\n",
       "      <td>0.368678</td>\n",
       "    </tr>\n",
       "    <tr>\n",
       "      <th>40459</th>\n",
       "      <td>2.743262</td>\n",
       "      <td>1</td>\n",
       "      <td>DOID:13189</td>\n",
       "      <td>gout</td>\n",
       "      <td>836</td>\n",
       "      <td>CASP3</td>\n",
       "      <td>50</td>\n",
       "      <td>21</td>\n",
       "      <td>25</td>\n",
       "      <td>1.057928</td>\n",
       "      <td>1.399259</td>\n",
       "      <td>1.685334</td>\n",
       "      <td>1.204447</td>\n",
       "    </tr>\n",
       "    <tr>\n",
       "      <th>40962</th>\n",
       "      <td>1.394247</td>\n",
       "      <td>1</td>\n",
       "      <td>DOID:0050156</td>\n",
       "      <td>idiopathic pulmonary fibrosis</td>\n",
       "      <td>1499</td>\n",
       "      <td>CTNNB1</td>\n",
       "      <td>50</td>\n",
       "      <td>23</td>\n",
       "      <td>25</td>\n",
       "      <td>0.992982</td>\n",
       "      <td>1.202995</td>\n",
       "      <td>0.401265</td>\n",
       "      <td>0.333555</td>\n",
       "    </tr>\n",
       "    <tr>\n",
       "      <th>41346</th>\n",
       "      <td>1.504298</td>\n",
       "      <td>1</td>\n",
       "      <td>DOID:0050156</td>\n",
       "      <td>idiopathic pulmonary fibrosis</td>\n",
       "      <td>2932</td>\n",
       "      <td>GSK3B</td>\n",
       "      <td>50</td>\n",
       "      <td>24</td>\n",
       "      <td>25</td>\n",
       "      <td>1.006075</td>\n",
       "      <td>1.323768</td>\n",
       "      <td>0.498223</td>\n",
       "      <td>0.376367</td>\n",
       "    </tr>\n",
       "    <tr>\n",
       "      <th>41764</th>\n",
       "      <td>3.110815</td>\n",
       "      <td>1</td>\n",
       "      <td>DOID:0050156</td>\n",
       "      <td>idiopathic pulmonary fibrosis</td>\n",
       "      <td>6310</td>\n",
       "      <td>ATXN1</td>\n",
       "      <td>50</td>\n",
       "      <td>23</td>\n",
       "      <td>25</td>\n",
       "      <td>1.081247</td>\n",
       "      <td>1.335977</td>\n",
       "      <td>2.029568</td>\n",
       "      <td>1.519163</td>\n",
       "    </tr>\n",
       "    <tr>\n",
       "      <th>41808</th>\n",
       "      <td>2.263989</td>\n",
       "      <td>1</td>\n",
       "      <td>DOID:0050156</td>\n",
       "      <td>idiopathic pulmonary fibrosis</td>\n",
       "      <td>7323</td>\n",
       "      <td>UBE2D3</td>\n",
       "      <td>50</td>\n",
       "      <td>13</td>\n",
       "      <td>25</td>\n",
       "      <td>0.613857</td>\n",
       "      <td>1.203063</td>\n",
       "      <td>1.650132</td>\n",
       "      <td>1.371609</td>\n",
       "    </tr>\n",
       "    <tr>\n",
       "      <th>41820</th>\n",
       "      <td>2.916441</td>\n",
       "      <td>2</td>\n",
       "      <td>DOID:0050156</td>\n",
       "      <td>idiopathic pulmonary fibrosis</td>\n",
       "      <td>7431</td>\n",
       "      <td>VIM</td>\n",
       "      <td>50</td>\n",
       "      <td>19</td>\n",
       "      <td>25</td>\n",
       "      <td>0.831768</td>\n",
       "      <td>1.206727</td>\n",
       "      <td>2.084674</td>\n",
       "      <td>1.727543</td>\n",
       "    </tr>\n",
       "    <tr>\n",
       "      <th>41889</th>\n",
       "      <td>4.506793</td>\n",
       "      <td>1</td>\n",
       "      <td>DOID:13189</td>\n",
       "      <td>gout</td>\n",
       "      <td>388677</td>\n",
       "      <td>NOTCH2NL</td>\n",
       "      <td>50</td>\n",
       "      <td>23</td>\n",
       "      <td>25</td>\n",
       "      <td>0.995451</td>\n",
       "      <td>1.242836</td>\n",
       "      <td>3.511342</td>\n",
       "      <td>2.825267</td>\n",
       "    </tr>\n",
       "    <tr>\n",
       "      <th>99723</th>\n",
       "      <td>1.827442</td>\n",
       "      <td>1</td>\n",
       "      <td>DOID:986</td>\n",
       "      <td>alopecia areata</td>\n",
       "      <td>302</td>\n",
       "      <td>ANXA2</td>\n",
       "      <td>75</td>\n",
       "      <td>19</td>\n",
       "      <td>25</td>\n",
       "      <td>0.567818</td>\n",
       "      <td>1.084976</td>\n",
       "      <td>1.259624</td>\n",
       "      <td>1.160969</td>\n",
       "    </tr>\n",
       "    <tr>\n",
       "      <th>104400</th>\n",
       "      <td>1.547323</td>\n",
       "      <td>1</td>\n",
       "      <td>DOID:986</td>\n",
       "      <td>alopecia areata</td>\n",
       "      <td>6130</td>\n",
       "      <td>RPL7A</td>\n",
       "      <td>75</td>\n",
       "      <td>19</td>\n",
       "      <td>25</td>\n",
       "      <td>0.507221</td>\n",
       "      <td>1.014636</td>\n",
       "      <td>1.040102</td>\n",
       "      <td>1.025098</td>\n",
       "    </tr>\n",
       "    <tr>\n",
       "      <th>104549</th>\n",
       "      <td>3.426051</td>\n",
       "      <td>1</td>\n",
       "      <td>DOID:12995</td>\n",
       "      <td>conduct disorder</td>\n",
       "      <td>6622</td>\n",
       "      <td>SNCA</td>\n",
       "      <td>75</td>\n",
       "      <td>16</td>\n",
       "      <td>25</td>\n",
       "      <td>0.515015</td>\n",
       "      <td>1.097991</td>\n",
       "      <td>2.911036</td>\n",
       "      <td>2.651240</td>\n",
       "    </tr>\n",
       "    <tr>\n",
       "      <th>104563</th>\n",
       "      <td>3.925485</td>\n",
       "      <td>1</td>\n",
       "      <td>DOID:0050425</td>\n",
       "      <td>restless legs syndrome</td>\n",
       "      <td>6774</td>\n",
       "      <td>STAT3</td>\n",
       "      <td>75</td>\n",
       "      <td>22</td>\n",
       "      <td>25</td>\n",
       "      <td>0.687955</td>\n",
       "      <td>1.204570</td>\n",
       "      <td>3.237530</td>\n",
       "      <td>2.687705</td>\n",
       "    </tr>\n",
       "    <tr>\n",
       "      <th>104564</th>\n",
       "      <td>1.284651</td>\n",
       "      <td>1</td>\n",
       "      <td>DOID:12995</td>\n",
       "      <td>conduct disorder</td>\n",
       "      <td>6774</td>\n",
       "      <td>STAT3</td>\n",
       "      <td>75</td>\n",
       "      <td>22</td>\n",
       "      <td>25</td>\n",
       "      <td>0.687955</td>\n",
       "      <td>1.204570</td>\n",
       "      <td>0.596696</td>\n",
       "      <td>0.495360</td>\n",
       "    </tr>\n",
       "    <tr>\n",
       "      <th>104565</th>\n",
       "      <td>3.156687</td>\n",
       "      <td>1</td>\n",
       "      <td>DOID:986</td>\n",
       "      <td>alopecia areata</td>\n",
       "      <td>6774</td>\n",
       "      <td>STAT3</td>\n",
       "      <td>75</td>\n",
       "      <td>22</td>\n",
       "      <td>25</td>\n",
       "      <td>0.687955</td>\n",
       "      <td>1.204570</td>\n",
       "      <td>2.468732</td>\n",
       "      <td>2.049471</td>\n",
       "    </tr>\n",
       "    <tr>\n",
       "      <th>104619</th>\n",
       "      <td>1.849902</td>\n",
       "      <td>1</td>\n",
       "      <td>DOID:986</td>\n",
       "      <td>alopecia areata</td>\n",
       "      <td>7416</td>\n",
       "      <td>VDAC1</td>\n",
       "      <td>75</td>\n",
       "      <td>12</td>\n",
       "      <td>25</td>\n",
       "      <td>0.415519</td>\n",
       "      <td>1.057288</td>\n",
       "      <td>1.434384</td>\n",
       "      <td>1.356663</td>\n",
       "    </tr>\n",
       "    <tr>\n",
       "      <th>104636</th>\n",
       "      <td>1.296488</td>\n",
       "      <td>1</td>\n",
       "      <td>DOID:12995</td>\n",
       "      <td>conduct disorder</td>\n",
       "      <td>8361</td>\n",
       "      <td>HIST1H4F</td>\n",
       "      <td>75</td>\n",
       "      <td>14</td>\n",
       "      <td>25</td>\n",
       "      <td>0.417103</td>\n",
       "      <td>1.027364</td>\n",
       "      <td>0.879385</td>\n",
       "      <td>0.855962</td>\n",
       "    </tr>\n",
       "    <tr>\n",
       "      <th>104715</th>\n",
       "      <td>1.581417</td>\n",
       "      <td>1</td>\n",
       "      <td>DOID:986</td>\n",
       "      <td>alopecia areata</td>\n",
       "      <td>203068</td>\n",
       "      <td>TUBB</td>\n",
       "      <td>75</td>\n",
       "      <td>24</td>\n",
       "      <td>25</td>\n",
       "      <td>0.733325</td>\n",
       "      <td>1.157686</td>\n",
       "      <td>0.848092</td>\n",
       "      <td>0.732575</td>\n",
       "    </tr>\n",
       "    <tr>\n",
       "      <th>173079</th>\n",
       "      <td>2.693768</td>\n",
       "      <td>1</td>\n",
       "      <td>DOID:0050742</td>\n",
       "      <td>nicotine dependence</td>\n",
       "      <td>25</td>\n",
       "      <td>ABL1</td>\n",
       "      <td>50</td>\n",
       "      <td>22</td>\n",
       "      <td>25</td>\n",
       "      <td>0.813970</td>\n",
       "      <td>1.089027</td>\n",
       "      <td>1.879798</td>\n",
       "      <td>1.726126</td>\n",
       "    </tr>\n",
       "    <tr>\n",
       "      <th>173080</th>\n",
       "      <td>2.031207</td>\n",
       "      <td>2</td>\n",
       "      <td>DOID:3277</td>\n",
       "      <td>thymus cancer</td>\n",
       "      <td>25</td>\n",
       "      <td>ABL1</td>\n",
       "      <td>50</td>\n",
       "      <td>22</td>\n",
       "      <td>25</td>\n",
       "      <td>0.813970</td>\n",
       "      <td>1.089027</td>\n",
       "      <td>1.217237</td>\n",
       "      <td>1.117729</td>\n",
       "    </tr>\n",
       "    <tr>\n",
       "      <th>185170</th>\n",
       "      <td>3.547850</td>\n",
       "      <td>2</td>\n",
       "      <td>DOID:3277</td>\n",
       "      <td>thymus cancer</td>\n",
       "      <td>302</td>\n",
       "      <td>ANXA2</td>\n",
       "      <td>50</td>\n",
       "      <td>13</td>\n",
       "      <td>25</td>\n",
       "      <td>0.626498</td>\n",
       "      <td>1.163254</td>\n",
       "      <td>2.921352</td>\n",
       "      <td>2.511362</td>\n",
       "    </tr>\n",
       "    <tr>\n",
       "      <th>185397</th>\n",
       "      <td>1.427960</td>\n",
       "      <td>1</td>\n",
       "      <td>DOID:3277</td>\n",
       "      <td>thymus cancer</td>\n",
       "      <td>331</td>\n",
       "      <td>XIAP</td>\n",
       "      <td>100</td>\n",
       "      <td>16</td>\n",
       "      <td>25</td>\n",
       "      <td>0.381596</td>\n",
       "      <td>0.994455</td>\n",
       "      <td>1.046364</td>\n",
       "      <td>1.052198</td>\n",
       "    </tr>\n",
       "    <tr>\n",
       "      <th>185398</th>\n",
       "      <td>1.739031</td>\n",
       "      <td>1</td>\n",
       "      <td>DOID:3277</td>\n",
       "      <td>thymus cancer</td>\n",
       "      <td>8664</td>\n",
       "      <td>EIF3D</td>\n",
       "      <td>100</td>\n",
       "      <td>16</td>\n",
       "      <td>25</td>\n",
       "      <td>0.381596</td>\n",
       "      <td>0.994455</td>\n",
       "      <td>1.357435</td>\n",
       "      <td>1.365004</td>\n",
       "    </tr>\n",
       "    <tr>\n",
       "      <th>186311</th>\n",
       "      <td>3.280527</td>\n",
       "      <td>1</td>\n",
       "      <td>DOID:0050742</td>\n",
       "      <td>nicotine dependence</td>\n",
       "      <td>580</td>\n",
       "      <td>BARD1</td>\n",
       "      <td>50</td>\n",
       "      <td>21</td>\n",
       "      <td>25</td>\n",
       "      <td>0.839353</td>\n",
       "      <td>1.106709</td>\n",
       "      <td>2.441174</td>\n",
       "      <td>2.205796</td>\n",
       "    </tr>\n",
       "    <tr>\n",
       "      <th>186312</th>\n",
       "      <td>4.185122</td>\n",
       "      <td>3</td>\n",
       "      <td>DOID:3277</td>\n",
       "      <td>thymus cancer</td>\n",
       "      <td>580</td>\n",
       "      <td>BARD1</td>\n",
       "      <td>50</td>\n",
       "      <td>21</td>\n",
       "      <td>25</td>\n",
       "      <td>0.839353</td>\n",
       "      <td>1.106709</td>\n",
       "      <td>3.345769</td>\n",
       "      <td>3.023169</td>\n",
       "    </tr>\n",
       "    <tr>\n",
       "      <th>186615</th>\n",
       "      <td>3.432693</td>\n",
       "      <td>2</td>\n",
       "      <td>DOID:0050742</td>\n",
       "      <td>nicotine dependence</td>\n",
       "      <td>805</td>\n",
       "      <td>CALM2</td>\n",
       "      <td>50</td>\n",
       "      <td>22</td>\n",
       "      <td>25</td>\n",
       "      <td>0.988433</td>\n",
       "      <td>1.373409</td>\n",
       "      <td>2.444260</td>\n",
       "      <td>1.779703</td>\n",
       "    </tr>\n",
       "    <tr>\n",
       "      <th>186616</th>\n",
       "      <td>0.952675</td>\n",
       "      <td>1</td>\n",
       "      <td>DOID:3277</td>\n",
       "      <td>thymus cancer</td>\n",
       "      <td>805</td>\n",
       "      <td>CALM2</td>\n",
       "      <td>50</td>\n",
       "      <td>22</td>\n",
       "      <td>25</td>\n",
       "      <td>0.988433</td>\n",
       "      <td>1.373409</td>\n",
       "      <td>-0.035758</td>\n",
       "      <td>-0.026036</td>\n",
       "    </tr>\n",
       "    <tr>\n",
       "      <th>187074</th>\n",
       "      <td>1.187318</td>\n",
       "      <td>1</td>\n",
       "      <td>DOID:3277</td>\n",
       "      <td>thymus cancer</td>\n",
       "      <td>836</td>\n",
       "      <td>CASP3</td>\n",
       "      <td>50</td>\n",
       "      <td>23</td>\n",
       "      <td>25</td>\n",
       "      <td>1.163655</td>\n",
       "      <td>1.377783</td>\n",
       "      <td>0.023663</td>\n",
       "      <td>0.017175</td>\n",
       "    </tr>\n",
       "    <tr>\n",
       "      <th>187962</th>\n",
       "      <td>1.378066</td>\n",
       "      <td>2</td>\n",
       "      <td>DOID:3277</td>\n",
       "      <td>thymus cancer</td>\n",
       "      <td>2932</td>\n",
       "      <td>GSK3B</td>\n",
       "      <td>50</td>\n",
       "      <td>23</td>\n",
       "      <td>25</td>\n",
       "      <td>1.073837</td>\n",
       "      <td>1.358438</td>\n",
       "      <td>0.304229</td>\n",
       "      <td>0.223955</td>\n",
       "    </tr>\n",
       "    <tr>\n",
       "      <th>187972</th>\n",
       "      <td>2.279498</td>\n",
       "      <td>3</td>\n",
       "      <td>DOID:3277</td>\n",
       "      <td>thymus cancer</td>\n",
       "      <td>3065</td>\n",
       "      <td>HDAC1</td>\n",
       "      <td>50</td>\n",
       "      <td>22</td>\n",
       "      <td>25</td>\n",
       "      <td>1.019966</td>\n",
       "      <td>1.276025</td>\n",
       "      <td>1.259532</td>\n",
       "      <td>0.987075</td>\n",
       "    </tr>\n",
       "    <tr>\n",
       "      <th>...</th>\n",
       "      <td>...</td>\n",
       "      <td>...</td>\n",
       "      <td>...</td>\n",
       "      <td>...</td>\n",
       "      <td>...</td>\n",
       "      <td>...</td>\n",
       "      <td>...</td>\n",
       "      <td>...</td>\n",
       "      <td>...</td>\n",
       "      <td>...</td>\n",
       "      <td>...</td>\n",
       "      <td>...</td>\n",
       "      <td>...</td>\n",
       "    </tr>\n",
       "    <tr>\n",
       "      <th>2785682</th>\n",
       "      <td>2.969274</td>\n",
       "      <td>1</td>\n",
       "      <td>DOID:8893</td>\n",
       "      <td>psoriasis</td>\n",
       "      <td>386681</td>\n",
       "      <td>KRTAP10-8</td>\n",
       "      <td>25</td>\n",
       "      <td>19</td>\n",
       "      <td>25</td>\n",
       "      <td>1.927040</td>\n",
       "      <td>1.253427</td>\n",
       "      <td>1.042234</td>\n",
       "      <td>0.831508</td>\n",
       "    </tr>\n",
       "    <tr>\n",
       "      <th>2785683</th>\n",
       "      <td>2.674608</td>\n",
       "      <td>1</td>\n",
       "      <td>DOID:8893</td>\n",
       "      <td>psoriasis</td>\n",
       "      <td>386682</td>\n",
       "      <td>KRTAP10-3</td>\n",
       "      <td>25</td>\n",
       "      <td>24</td>\n",
       "      <td>25</td>\n",
       "      <td>2.362921</td>\n",
       "      <td>0.945497</td>\n",
       "      <td>0.311687</td>\n",
       "      <td>0.329654</td>\n",
       "    </tr>\n",
       "    <tr>\n",
       "      <th>2785684</th>\n",
       "      <td>2.766774</td>\n",
       "      <td>1</td>\n",
       "      <td>DOID:8893</td>\n",
       "      <td>psoriasis</td>\n",
       "      <td>388677</td>\n",
       "      <td>NOTCH2NL</td>\n",
       "      <td>25</td>\n",
       "      <td>23</td>\n",
       "      <td>25</td>\n",
       "      <td>2.350947</td>\n",
       "      <td>1.067021</td>\n",
       "      <td>0.415826</td>\n",
       "      <td>0.389708</td>\n",
       "    </tr>\n",
       "    <tr>\n",
       "      <th>2804962</th>\n",
       "      <td>2.918229</td>\n",
       "      <td>2</td>\n",
       "      <td>DOID:9074</td>\n",
       "      <td>systemic lupus erythematosus</td>\n",
       "      <td>302</td>\n",
       "      <td>ANXA2</td>\n",
       "      <td>25</td>\n",
       "      <td>23</td>\n",
       "      <td>25</td>\n",
       "      <td>1.897326</td>\n",
       "      <td>1.093053</td>\n",
       "      <td>1.020903</td>\n",
       "      <td>0.933992</td>\n",
       "    </tr>\n",
       "    <tr>\n",
       "      <th>2805684</th>\n",
       "      <td>2.078069</td>\n",
       "      <td>5</td>\n",
       "      <td>DOID:9074</td>\n",
       "      <td>systemic lupus erythematosus</td>\n",
       "      <td>801</td>\n",
       "      <td>CALM1</td>\n",
       "      <td>25</td>\n",
       "      <td>24</td>\n",
       "      <td>25</td>\n",
       "      <td>2.830434</td>\n",
       "      <td>0.886623</td>\n",
       "      <td>-0.752365</td>\n",
       "      <td>-0.848574</td>\n",
       "    </tr>\n",
       "    <tr>\n",
       "      <th>2806447</th>\n",
       "      <td>3.671456</td>\n",
       "      <td>4</td>\n",
       "      <td>DOID:9074</td>\n",
       "      <td>systemic lupus erythematosus</td>\n",
       "      <td>4176</td>\n",
       "      <td>MCM7</td>\n",
       "      <td>25</td>\n",
       "      <td>19</td>\n",
       "      <td>25</td>\n",
       "      <td>1.670059</td>\n",
       "      <td>1.243088</td>\n",
       "      <td>2.001397</td>\n",
       "      <td>1.610020</td>\n",
       "    </tr>\n",
       "    <tr>\n",
       "      <th>2806476</th>\n",
       "      <td>0.569254</td>\n",
       "      <td>1</td>\n",
       "      <td>DOID:9074</td>\n",
       "      <td>systemic lupus erythematosus</td>\n",
       "      <td>5245</td>\n",
       "      <td>PHB</td>\n",
       "      <td>25</td>\n",
       "      <td>24</td>\n",
       "      <td>25</td>\n",
       "      <td>2.601659</td>\n",
       "      <td>0.950990</td>\n",
       "      <td>-2.032405</td>\n",
       "      <td>-2.137147</td>\n",
       "    </tr>\n",
       "    <tr>\n",
       "      <th>2806576</th>\n",
       "      <td>3.838345</td>\n",
       "      <td>9</td>\n",
       "      <td>DOID:9074</td>\n",
       "      <td>systemic lupus erythematosus</td>\n",
       "      <td>6774</td>\n",
       "      <td>STAT3</td>\n",
       "      <td>25</td>\n",
       "      <td>24</td>\n",
       "      <td>25</td>\n",
       "      <td>2.535577</td>\n",
       "      <td>1.052258</td>\n",
       "      <td>1.302768</td>\n",
       "      <td>1.238068</td>\n",
       "    </tr>\n",
       "    <tr>\n",
       "      <th>2806594</th>\n",
       "      <td>0.780979</td>\n",
       "      <td>1</td>\n",
       "      <td>DOID:9074</td>\n",
       "      <td>systemic lupus erythematosus</td>\n",
       "      <td>7416</td>\n",
       "      <td>VDAC1</td>\n",
       "      <td>25</td>\n",
       "      <td>24</td>\n",
       "      <td>25</td>\n",
       "      <td>2.178681</td>\n",
       "      <td>0.869053</td>\n",
       "      <td>-1.397703</td>\n",
       "      <td>-1.608306</td>\n",
       "    </tr>\n",
       "    <tr>\n",
       "      <th>2806614</th>\n",
       "      <td>2.670347</td>\n",
       "      <td>5</td>\n",
       "      <td>DOID:9074</td>\n",
       "      <td>systemic lupus erythematosus</td>\n",
       "      <td>10399</td>\n",
       "      <td>GNB2L1</td>\n",
       "      <td>25</td>\n",
       "      <td>24</td>\n",
       "      <td>25</td>\n",
       "      <td>2.554686</td>\n",
       "      <td>0.965237</td>\n",
       "      <td>0.115660</td>\n",
       "      <td>0.119826</td>\n",
       "    </tr>\n",
       "    <tr>\n",
       "      <th>2806619</th>\n",
       "      <td>2.109051</td>\n",
       "      <td>2</td>\n",
       "      <td>DOID:9074</td>\n",
       "      <td>systemic lupus erythematosus</td>\n",
       "      <td>23405</td>\n",
       "      <td>DICER1</td>\n",
       "      <td>25</td>\n",
       "      <td>23</td>\n",
       "      <td>25</td>\n",
       "      <td>2.816311</td>\n",
       "      <td>1.101530</td>\n",
       "      <td>-0.707260</td>\n",
       "      <td>-0.642071</td>\n",
       "    </tr>\n",
       "    <tr>\n",
       "      <th>2827539</th>\n",
       "      <td>2.858317</td>\n",
       "      <td>3</td>\n",
       "      <td>DOID:9352</td>\n",
       "      <td>type 2 diabetes mellitus</td>\n",
       "      <td>7416</td>\n",
       "      <td>VDAC1</td>\n",
       "      <td>25</td>\n",
       "      <td>23</td>\n",
       "      <td>25</td>\n",
       "      <td>2.563968</td>\n",
       "      <td>1.040795</td>\n",
       "      <td>0.294348</td>\n",
       "      <td>0.282811</td>\n",
       "    </tr>\n",
       "    <tr>\n",
       "      <th>2840807</th>\n",
       "      <td>3.098976</td>\n",
       "      <td>5</td>\n",
       "      <td>DOID:9744</td>\n",
       "      <td>type 1 diabetes mellitus</td>\n",
       "      <td>25</td>\n",
       "      <td>ABL1</td>\n",
       "      <td>25</td>\n",
       "      <td>24</td>\n",
       "      <td>25</td>\n",
       "      <td>2.841798</td>\n",
       "      <td>0.902623</td>\n",
       "      <td>0.257178</td>\n",
       "      <td>0.284923</td>\n",
       "    </tr>\n",
       "    <tr>\n",
       "      <th>2846843</th>\n",
       "      <td>0.875865</td>\n",
       "      <td>2</td>\n",
       "      <td>DOID:9744</td>\n",
       "      <td>type 1 diabetes mellitus</td>\n",
       "      <td>292</td>\n",
       "      <td>SLC25A5</td>\n",
       "      <td>25</td>\n",
       "      <td>24</td>\n",
       "      <td>25</td>\n",
       "      <td>2.375221</td>\n",
       "      <td>1.049201</td>\n",
       "      <td>-1.499356</td>\n",
       "      <td>-1.429045</td>\n",
       "    </tr>\n",
       "    <tr>\n",
       "      <th>2846852</th>\n",
       "      <td>2.447273</td>\n",
       "      <td>3</td>\n",
       "      <td>DOID:9744</td>\n",
       "      <td>type 1 diabetes mellitus</td>\n",
       "      <td>302</td>\n",
       "      <td>ANXA2</td>\n",
       "      <td>25</td>\n",
       "      <td>23</td>\n",
       "      <td>25</td>\n",
       "      <td>2.171660</td>\n",
       "      <td>1.103031</td>\n",
       "      <td>0.275612</td>\n",
       "      <td>0.249868</td>\n",
       "    </tr>\n",
       "    <tr>\n",
       "      <th>2847314</th>\n",
       "      <td>2.483521</td>\n",
       "      <td>3</td>\n",
       "      <td>DOID:9744</td>\n",
       "      <td>type 1 diabetes mellitus</td>\n",
       "      <td>409</td>\n",
       "      <td>ARRB2</td>\n",
       "      <td>25</td>\n",
       "      <td>23</td>\n",
       "      <td>25</td>\n",
       "      <td>2.842327</td>\n",
       "      <td>1.160467</td>\n",
       "      <td>-0.358806</td>\n",
       "      <td>-0.309191</td>\n",
       "    </tr>\n",
       "    <tr>\n",
       "      <th>2847804</th>\n",
       "      <td>3.364467</td>\n",
       "      <td>4</td>\n",
       "      <td>DOID:9744</td>\n",
       "      <td>type 1 diabetes mellitus</td>\n",
       "      <td>836</td>\n",
       "      <td>CASP3</td>\n",
       "      <td>25</td>\n",
       "      <td>24</td>\n",
       "      <td>25</td>\n",
       "      <td>2.458160</td>\n",
       "      <td>1.086877</td>\n",
       "      <td>0.906307</td>\n",
       "      <td>0.833864</td>\n",
       "    </tr>\n",
       "    <tr>\n",
       "      <th>2848248</th>\n",
       "      <td>1.320070</td>\n",
       "      <td>1</td>\n",
       "      <td>DOID:9744</td>\n",
       "      <td>type 1 diabetes mellitus</td>\n",
       "      <td>2932</td>\n",
       "      <td>GSK3B</td>\n",
       "      <td>25</td>\n",
       "      <td>24</td>\n",
       "      <td>25</td>\n",
       "      <td>2.259145</td>\n",
       "      <td>1.003111</td>\n",
       "      <td>-0.939074</td>\n",
       "      <td>-0.936162</td>\n",
       "    </tr>\n",
       "    <tr>\n",
       "      <th>2848299</th>\n",
       "      <td>2.586719</td>\n",
       "      <td>5</td>\n",
       "      <td>DOID:9744</td>\n",
       "      <td>type 1 diabetes mellitus</td>\n",
       "      <td>3329</td>\n",
       "      <td>HSPD1</td>\n",
       "      <td>25</td>\n",
       "      <td>24</td>\n",
       "      <td>25</td>\n",
       "      <td>2.510950</td>\n",
       "      <td>0.958544</td>\n",
       "      <td>0.075769</td>\n",
       "      <td>0.079046</td>\n",
       "    </tr>\n",
       "    <tr>\n",
       "      <th>2848337</th>\n",
       "      <td>0.791105</td>\n",
       "      <td>1</td>\n",
       "      <td>DOID:9744</td>\n",
       "      <td>type 1 diabetes mellitus</td>\n",
       "      <td>4176</td>\n",
       "      <td>MCM7</td>\n",
       "      <td>25</td>\n",
       "      <td>21</td>\n",
       "      <td>25</td>\n",
       "      <td>1.908877</td>\n",
       "      <td>1.137077</td>\n",
       "      <td>-1.117771</td>\n",
       "      <td>-0.983022</td>\n",
       "    </tr>\n",
       "    <tr>\n",
       "      <th>2848339</th>\n",
       "      <td>3.267218</td>\n",
       "      <td>4</td>\n",
       "      <td>DOID:9744</td>\n",
       "      <td>type 1 diabetes mellitus</td>\n",
       "      <td>4193</td>\n",
       "      <td>MDM2</td>\n",
       "      <td>25</td>\n",
       "      <td>24</td>\n",
       "      <td>25</td>\n",
       "      <td>2.617735</td>\n",
       "      <td>1.028771</td>\n",
       "      <td>0.649483</td>\n",
       "      <td>0.631320</td>\n",
       "    </tr>\n",
       "    <tr>\n",
       "      <th>2848355</th>\n",
       "      <td>2.079530</td>\n",
       "      <td>4</td>\n",
       "      <td>DOID:9744</td>\n",
       "      <td>type 1 diabetes mellitus</td>\n",
       "      <td>4869</td>\n",
       "      <td>NPM1</td>\n",
       "      <td>25</td>\n",
       "      <td>24</td>\n",
       "      <td>25</td>\n",
       "      <td>2.456958</td>\n",
       "      <td>0.911927</td>\n",
       "      <td>-0.377428</td>\n",
       "      <td>-0.413880</td>\n",
       "    </tr>\n",
       "    <tr>\n",
       "      <th>2848411</th>\n",
       "      <td>0.635274</td>\n",
       "      <td>1</td>\n",
       "      <td>DOID:9744</td>\n",
       "      <td>type 1 diabetes mellitus</td>\n",
       "      <td>6130</td>\n",
       "      <td>RPL7A</td>\n",
       "      <td>25</td>\n",
       "      <td>24</td>\n",
       "      <td>25</td>\n",
       "      <td>2.691247</td>\n",
       "      <td>0.956909</td>\n",
       "      <td>-2.055972</td>\n",
       "      <td>-2.148556</td>\n",
       "    </tr>\n",
       "    <tr>\n",
       "      <th>2848479</th>\n",
       "      <td>0.620428</td>\n",
       "      <td>1</td>\n",
       "      <td>DOID:9744</td>\n",
       "      <td>type 1 diabetes mellitus</td>\n",
       "      <td>7323</td>\n",
       "      <td>UBE2D3</td>\n",
       "      <td>25</td>\n",
       "      <td>24</td>\n",
       "      <td>25</td>\n",
       "      <td>2.201013</td>\n",
       "      <td>1.096521</td>\n",
       "      <td>-1.580584</td>\n",
       "      <td>-1.441453</td>\n",
       "    </tr>\n",
       "    <tr>\n",
       "      <th>2848484</th>\n",
       "      <td>2.721156</td>\n",
       "      <td>3</td>\n",
       "      <td>DOID:9744</td>\n",
       "      <td>type 1 diabetes mellitus</td>\n",
       "      <td>7416</td>\n",
       "      <td>VDAC1</td>\n",
       "      <td>25</td>\n",
       "      <td>23</td>\n",
       "      <td>25</td>\n",
       "      <td>2.270576</td>\n",
       "      <td>0.990667</td>\n",
       "      <td>0.450580</td>\n",
       "      <td>0.454824</td>\n",
       "    </tr>\n",
       "    <tr>\n",
       "      <th>2848485</th>\n",
       "      <td>2.123464</td>\n",
       "      <td>3</td>\n",
       "      <td>DOID:9744</td>\n",
       "      <td>type 1 diabetes mellitus</td>\n",
       "      <td>7431</td>\n",
       "      <td>VIM</td>\n",
       "      <td>25</td>\n",
       "      <td>24</td>\n",
       "      <td>25</td>\n",
       "      <td>2.416080</td>\n",
       "      <td>0.950187</td>\n",
       "      <td>-0.292616</td>\n",
       "      <td>-0.307956</td>\n",
       "    </tr>\n",
       "    <tr>\n",
       "      <th>2848504</th>\n",
       "      <td>2.852292</td>\n",
       "      <td>4</td>\n",
       "      <td>DOID:9744</td>\n",
       "      <td>type 1 diabetes mellitus</td>\n",
       "      <td>10399</td>\n",
       "      <td>GNB2L1</td>\n",
       "      <td>25</td>\n",
       "      <td>23</td>\n",
       "      <td>25</td>\n",
       "      <td>2.260584</td>\n",
       "      <td>0.931086</td>\n",
       "      <td>0.591708</td>\n",
       "      <td>0.635502</td>\n",
       "    </tr>\n",
       "    <tr>\n",
       "      <th>2848505</th>\n",
       "      <td>1.440541</td>\n",
       "      <td>1</td>\n",
       "      <td>DOID:9744</td>\n",
       "      <td>type 1 diabetes mellitus</td>\n",
       "      <td>10419</td>\n",
       "      <td>PRMT5</td>\n",
       "      <td>25</td>\n",
       "      <td>24</td>\n",
       "      <td>25</td>\n",
       "      <td>2.745825</td>\n",
       "      <td>0.957473</td>\n",
       "      <td>-1.305284</td>\n",
       "      <td>-1.363260</td>\n",
       "    </tr>\n",
       "    <tr>\n",
       "      <th>2848514</th>\n",
       "      <td>2.989551</td>\n",
       "      <td>2</td>\n",
       "      <td>DOID:9744</td>\n",
       "      <td>type 1 diabetes mellitus</td>\n",
       "      <td>84708</td>\n",
       "      <td>LNX1</td>\n",
       "      <td>25</td>\n",
       "      <td>24</td>\n",
       "      <td>25</td>\n",
       "      <td>2.740178</td>\n",
       "      <td>0.825588</td>\n",
       "      <td>0.249373</td>\n",
       "      <td>0.302056</td>\n",
       "    </tr>\n",
       "    <tr>\n",
       "      <th>2848516</th>\n",
       "      <td>2.096810</td>\n",
       "      <td>3</td>\n",
       "      <td>DOID:9744</td>\n",
       "      <td>type 1 diabetes mellitus</td>\n",
       "      <td>203068</td>\n",
       "      <td>TUBB</td>\n",
       "      <td>25</td>\n",
       "      <td>24</td>\n",
       "      <td>25</td>\n",
       "      <td>2.584598</td>\n",
       "      <td>0.970419</td>\n",
       "      <td>-0.487788</td>\n",
       "      <td>-0.502657</td>\n",
       "    </tr>\n",
       "  </tbody>\n",
       "</table>\n",
       "<p>2320 rows × 13 columns</p>\n",
       "</div>"
      ],
      "text/plain": [
       "             dwpc  path-count     source_id                    source_name  \\\n",
       "26464    2.053369           1  DOID:0050156  idiopathic pulmonary fibrosis   \n",
       "33020    1.390019           1  DOID:0050156  idiopathic pulmonary fibrosis   \n",
       "40459    2.743262           1    DOID:13189                           gout   \n",
       "40962    1.394247           1  DOID:0050156  idiopathic pulmonary fibrosis   \n",
       "41346    1.504298           1  DOID:0050156  idiopathic pulmonary fibrosis   \n",
       "41764    3.110815           1  DOID:0050156  idiopathic pulmonary fibrosis   \n",
       "41808    2.263989           1  DOID:0050156  idiopathic pulmonary fibrosis   \n",
       "41820    2.916441           2  DOID:0050156  idiopathic pulmonary fibrosis   \n",
       "41889    4.506793           1    DOID:13189                           gout   \n",
       "99723    1.827442           1      DOID:986                alopecia areata   \n",
       "104400   1.547323           1      DOID:986                alopecia areata   \n",
       "104549   3.426051           1    DOID:12995               conduct disorder   \n",
       "104563   3.925485           1  DOID:0050425         restless legs syndrome   \n",
       "104564   1.284651           1    DOID:12995               conduct disorder   \n",
       "104565   3.156687           1      DOID:986                alopecia areata   \n",
       "104619   1.849902           1      DOID:986                alopecia areata   \n",
       "104636   1.296488           1    DOID:12995               conduct disorder   \n",
       "104715   1.581417           1      DOID:986                alopecia areata   \n",
       "173079   2.693768           1  DOID:0050742            nicotine dependence   \n",
       "173080   2.031207           2     DOID:3277                  thymus cancer   \n",
       "185170   3.547850           2     DOID:3277                  thymus cancer   \n",
       "185397   1.427960           1     DOID:3277                  thymus cancer   \n",
       "185398   1.739031           1     DOID:3277                  thymus cancer   \n",
       "186311   3.280527           1  DOID:0050742            nicotine dependence   \n",
       "186312   4.185122           3     DOID:3277                  thymus cancer   \n",
       "186615   3.432693           2  DOID:0050742            nicotine dependence   \n",
       "186616   0.952675           1     DOID:3277                  thymus cancer   \n",
       "187074   1.187318           1     DOID:3277                  thymus cancer   \n",
       "187962   1.378066           2     DOID:3277                  thymus cancer   \n",
       "187972   2.279498           3     DOID:3277                  thymus cancer   \n",
       "...           ...         ...           ...                            ...   \n",
       "2785682  2.969274           1     DOID:8893                      psoriasis   \n",
       "2785683  2.674608           1     DOID:8893                      psoriasis   \n",
       "2785684  2.766774           1     DOID:8893                      psoriasis   \n",
       "2804962  2.918229           2     DOID:9074   systemic lupus erythematosus   \n",
       "2805684  2.078069           5     DOID:9074   systemic lupus erythematosus   \n",
       "2806447  3.671456           4     DOID:9074   systemic lupus erythematosus   \n",
       "2806476  0.569254           1     DOID:9074   systemic lupus erythematosus   \n",
       "2806576  3.838345           9     DOID:9074   systemic lupus erythematosus   \n",
       "2806594  0.780979           1     DOID:9074   systemic lupus erythematosus   \n",
       "2806614  2.670347           5     DOID:9074   systemic lupus erythematosus   \n",
       "2806619  2.109051           2     DOID:9074   systemic lupus erythematosus   \n",
       "2827539  2.858317           3     DOID:9352       type 2 diabetes mellitus   \n",
       "2840807  3.098976           5     DOID:9744       type 1 diabetes mellitus   \n",
       "2846843  0.875865           2     DOID:9744       type 1 diabetes mellitus   \n",
       "2846852  2.447273           3     DOID:9744       type 1 diabetes mellitus   \n",
       "2847314  2.483521           3     DOID:9744       type 1 diabetes mellitus   \n",
       "2847804  3.364467           4     DOID:9744       type 1 diabetes mellitus   \n",
       "2848248  1.320070           1     DOID:9744       type 1 diabetes mellitus   \n",
       "2848299  2.586719           5     DOID:9744       type 1 diabetes mellitus   \n",
       "2848337  0.791105           1     DOID:9744       type 1 diabetes mellitus   \n",
       "2848339  3.267218           4     DOID:9744       type 1 diabetes mellitus   \n",
       "2848355  2.079530           4     DOID:9744       type 1 diabetes mellitus   \n",
       "2848411  0.635274           1     DOID:9744       type 1 diabetes mellitus   \n",
       "2848479  0.620428           1     DOID:9744       type 1 diabetes mellitus   \n",
       "2848484  2.721156           3     DOID:9744       type 1 diabetes mellitus   \n",
       "2848485  2.123464           3     DOID:9744       type 1 diabetes mellitus   \n",
       "2848504  2.852292           4     DOID:9744       type 1 diabetes mellitus   \n",
       "2848505  1.440541           1     DOID:9744       type 1 diabetes mellitus   \n",
       "2848514  2.989551           2     DOID:9744       type 1 diabetes mellitus   \n",
       "2848516  2.096810           3     DOID:9744       type 1 diabetes mellitus   \n",
       "\n",
       "         target_id target_name    n  nnz  n_perms    p-dwpc   sd-dwpc  \\\n",
       "26464           25        ABL1   50   22       25  0.907067  1.224545   \n",
       "33020           60        ACTB   50   20       25  0.919828  1.275343   \n",
       "40459          836       CASP3   50   21       25  1.057928  1.399259   \n",
       "40962         1499      CTNNB1   50   23       25  0.992982  1.202995   \n",
       "41346         2932       GSK3B   50   24       25  1.006075  1.323768   \n",
       "41764         6310       ATXN1   50   23       25  1.081247  1.335977   \n",
       "41808         7323      UBE2D3   50   13       25  0.613857  1.203063   \n",
       "41820         7431         VIM   50   19       25  0.831768  1.206727   \n",
       "41889       388677    NOTCH2NL   50   23       25  0.995451  1.242836   \n",
       "99723          302       ANXA2   75   19       25  0.567818  1.084976   \n",
       "104400        6130       RPL7A   75   19       25  0.507221  1.014636   \n",
       "104549        6622        SNCA   75   16       25  0.515015  1.097991   \n",
       "104563        6774       STAT3   75   22       25  0.687955  1.204570   \n",
       "104564        6774       STAT3   75   22       25  0.687955  1.204570   \n",
       "104565        6774       STAT3   75   22       25  0.687955  1.204570   \n",
       "104619        7416       VDAC1   75   12       25  0.415519  1.057288   \n",
       "104636        8361    HIST1H4F   75   14       25  0.417103  1.027364   \n",
       "104715      203068        TUBB   75   24       25  0.733325  1.157686   \n",
       "173079          25        ABL1   50   22       25  0.813970  1.089027   \n",
       "173080          25        ABL1   50   22       25  0.813970  1.089027   \n",
       "185170         302       ANXA2   50   13       25  0.626498  1.163254   \n",
       "185397         331        XIAP  100   16       25  0.381596  0.994455   \n",
       "185398        8664       EIF3D  100   16       25  0.381596  0.994455   \n",
       "186311         580       BARD1   50   21       25  0.839353  1.106709   \n",
       "186312         580       BARD1   50   21       25  0.839353  1.106709   \n",
       "186615         805       CALM2   50   22       25  0.988433  1.373409   \n",
       "186616         805       CALM2   50   22       25  0.988433  1.373409   \n",
       "187074         836       CASP3   50   23       25  1.163655  1.377783   \n",
       "187962        2932       GSK3B   50   23       25  1.073837  1.358438   \n",
       "187972        3065       HDAC1   50   22       25  1.019966  1.276025   \n",
       "...            ...         ...  ...  ...      ...       ...       ...   \n",
       "2785682     386681   KRTAP10-8   25   19       25  1.927040  1.253427   \n",
       "2785683     386682   KRTAP10-3   25   24       25  2.362921  0.945497   \n",
       "2785684     388677    NOTCH2NL   25   23       25  2.350947  1.067021   \n",
       "2804962        302       ANXA2   25   23       25  1.897326  1.093053   \n",
       "2805684        801       CALM1   25   24       25  2.830434  0.886623   \n",
       "2806447       4176        MCM7   25   19       25  1.670059  1.243088   \n",
       "2806476       5245         PHB   25   24       25  2.601659  0.950990   \n",
       "2806576       6774       STAT3   25   24       25  2.535577  1.052258   \n",
       "2806594       7416       VDAC1   25   24       25  2.178681  0.869053   \n",
       "2806614      10399      GNB2L1   25   24       25  2.554686  0.965237   \n",
       "2806619      23405      DICER1   25   23       25  2.816311  1.101530   \n",
       "2827539       7416       VDAC1   25   23       25  2.563968  1.040795   \n",
       "2840807         25        ABL1   25   24       25  2.841798  0.902623   \n",
       "2846843        292     SLC25A5   25   24       25  2.375221  1.049201   \n",
       "2846852        302       ANXA2   25   23       25  2.171660  1.103031   \n",
       "2847314        409       ARRB2   25   23       25  2.842327  1.160467   \n",
       "2847804        836       CASP3   25   24       25  2.458160  1.086877   \n",
       "2848248       2932       GSK3B   25   24       25  2.259145  1.003111   \n",
       "2848299       3329       HSPD1   25   24       25  2.510950  0.958544   \n",
       "2848337       4176        MCM7   25   21       25  1.908877  1.137077   \n",
       "2848339       4193        MDM2   25   24       25  2.617735  1.028771   \n",
       "2848355       4869        NPM1   25   24       25  2.456958  0.911927   \n",
       "2848411       6130       RPL7A   25   24       25  2.691247  0.956909   \n",
       "2848479       7323      UBE2D3   25   24       25  2.201013  1.096521   \n",
       "2848484       7416       VDAC1   25   23       25  2.270576  0.990667   \n",
       "2848485       7431         VIM   25   24       25  2.416080  0.950187   \n",
       "2848504      10399      GNB2L1   25   23       25  2.260584  0.931086   \n",
       "2848505      10419       PRMT5   25   24       25  2.745825  0.957473   \n",
       "2848514      84708        LNX1   25   24       25  2.740178  0.825588   \n",
       "2848516     203068        TUBB   25   24       25  2.584598  0.970419   \n",
       "\n",
       "           r-dwpc    z-dwpc  \n",
       "26464    1.146301  0.936104  \n",
       "33020    0.470191  0.368678  \n",
       "40459    1.685334  1.204447  \n",
       "40962    0.401265  0.333555  \n",
       "41346    0.498223  0.376367  \n",
       "41764    2.029568  1.519163  \n",
       "41808    1.650132  1.371609  \n",
       "41820    2.084674  1.727543  \n",
       "41889    3.511342  2.825267  \n",
       "99723    1.259624  1.160969  \n",
       "104400   1.040102  1.025098  \n",
       "104549   2.911036  2.651240  \n",
       "104563   3.237530  2.687705  \n",
       "104564   0.596696  0.495360  \n",
       "104565   2.468732  2.049471  \n",
       "104619   1.434384  1.356663  \n",
       "104636   0.879385  0.855962  \n",
       "104715   0.848092  0.732575  \n",
       "173079   1.879798  1.726126  \n",
       "173080   1.217237  1.117729  \n",
       "185170   2.921352  2.511362  \n",
       "185397   1.046364  1.052198  \n",
       "185398   1.357435  1.365004  \n",
       "186311   2.441174  2.205796  \n",
       "186312   3.345769  3.023169  \n",
       "186615   2.444260  1.779703  \n",
       "186616  -0.035758 -0.026036  \n",
       "187074   0.023663  0.017175  \n",
       "187962   0.304229  0.223955  \n",
       "187972   1.259532  0.987075  \n",
       "...           ...       ...  \n",
       "2785682  1.042234  0.831508  \n",
       "2785683  0.311687  0.329654  \n",
       "2785684  0.415826  0.389708  \n",
       "2804962  1.020903  0.933992  \n",
       "2805684 -0.752365 -0.848574  \n",
       "2806447  2.001397  1.610020  \n",
       "2806476 -2.032405 -2.137147  \n",
       "2806576  1.302768  1.238068  \n",
       "2806594 -1.397703 -1.608306  \n",
       "2806614  0.115660  0.119826  \n",
       "2806619 -0.707260 -0.642071  \n",
       "2827539  0.294348  0.282811  \n",
       "2840807  0.257178  0.284923  \n",
       "2846843 -1.499356 -1.429045  \n",
       "2846852  0.275612  0.249868  \n",
       "2847314 -0.358806 -0.309191  \n",
       "2847804  0.906307  0.833864  \n",
       "2848248 -0.939074 -0.936162  \n",
       "2848299  0.075769  0.079046  \n",
       "2848337 -1.117771 -0.983022  \n",
       "2848339  0.649483  0.631320  \n",
       "2848355 -0.377428 -0.413880  \n",
       "2848411 -2.055972 -2.148556  \n",
       "2848479 -1.580584 -1.441453  \n",
       "2848484  0.450580  0.454824  \n",
       "2848485 -0.292616 -0.307956  \n",
       "2848504  0.591708  0.635502  \n",
       "2848505 -1.305284 -1.363260  \n",
       "2848514  0.249373  0.302056  \n",
       "2848516 -0.487788 -0.502657  \n",
       "\n",
       "[2320 rows x 13 columns]"
      ]
     },
     "execution_count": 49,
     "metadata": {},
     "output_type": "execute_result"
    }
   ],
   "source": [
    "dwpc_df[(dwpc_df['nnz'] < 25) & (dwpc_df['dwpc'] != 0)]"
   ]
  },
  {
   "cell_type": "markdown",
   "metadata": {},
   "source": [
    "$\\forall$ path $p_i$, DWPC values along the path among permutations are randomly distributed according to some distribution $G_{p_i}$ with parameters $\\theta_1, ..., \\theta_n$ and $m_j$, the metapath.\n",
    "\n",
    "$\\mathrm{DWPC}_{p_i} \\sim G_{p_i}(\\theta_1, ..., \\theta_n, m_j)$\n",
    "\n",
    "Within a permutation, $M_k$, individual DWPCs along metapath $m_j$ are approximately normally distributed.\n",
    "\n",
    "$\\mathrm{DWPC}_{M_k, m_j} \\sim N(\\mu_{m_j}, \\sigma_{m_j}^2)$"
   ]
  },
  {
   "cell_type": "code",
   "execution_count": 50,
   "metadata": {},
   "outputs": [],
   "source": [
    "dwpc_df['adjusted-p-dwpc'] = dwpc_df['p-dwpc'] * dwpc_df['n'] / dwpc_df['nnz']"
   ]
  },
  {
   "cell_type": "code",
   "execution_count": 51,
   "metadata": {},
   "outputs": [
    {
     "data": {
      "image/png": "[encoded data removed]",
      "text/plain": [
       "<Figure size 432x288 with 1 Axes>"
      ]
     },
     "metadata": {},
     "output_type": "display_data"
    }
   ],
   "source": [
    "# Approximate DWPC using the normal distribution\n",
    "dwpc_mu, dwpc_sig = scipy.stats.norm.fit(dwpc_df[dwpc_df['dwpc'] > 0]['dwpc'])\n",
    "perm_mu, perm_sig = scipy.stats.norm.fit(perm_df[perm_df['dwpc'] > 0]['dwpc'])\n",
    "p_mu, p_sig = scipy.stats.norm.fit(dwpc_df[dwpc_df['dwpc'] > 0]['adjusted-p-dwpc'])\n",
    "\n",
    "x = np.linspace(-2,10,1000)\n",
    "dwpc_y = scipy.stats.norm.pdf(x, loc=dwpc_mu, scale=dwpc_sig)\n",
    "perm_y = scipy.stats.norm.pdf(x, loc=perm_mu, scale=perm_sig)\n",
    "p_y = scipy.stats.norm.pdf(x, loc=p_mu, scale=p_sig)\n",
    "\n",
    "# Make figure\n",
    "bins = np.linspace(-2, 10, 50)\n",
    "\n",
    "plt.hist(dwpc_df[dwpc_df['dwpc'] > 0]['dwpc'].dropna(), alpha=0.7, label='dwpc', color=c1, bins=bins, density=True)\n",
    "plt.hist(perm_df[perm_df['dwpc'] > 0]['dwpc'].dropna(), alpha=0.7, label='permutation', color=c2, bins=bins, density=True);\n",
    "# plt.hist(dwpc_df[dwpc_df['dwpc'] > 0]['adjusted-p-dwpc'].dropna(), alpha=0.7, label='p-dwpc', color=c3, bins=bins, density=True)\n",
    "\n",
    "plt.plot(x, dwpc_y, color=c1, linewidth=3)\n",
    "plt.plot(x, perm_y, color=c2, linewidth=3)\n",
    "# plt.plot(x, p_y, color=c3, linewidth=3)\n",
    "\n",
    "plt.legend();\n",
    "# plt.ylim((0, 0.6))\n",
    "plt.xlim((0, 6))\n",
    "plt.title(f'Comparison of DWPC distributions along {metapath} normal');"
   ]
  },
  {
   "cell_type": "code",
   "execution_count": 52,
   "metadata": {},
   "outputs": [
    {
     "data": {
      "image/png": "[encoded data removed]",
      "text/plain": [
       "<Figure size 432x288 with 1 Axes>"
      ]
     },
     "metadata": {},
     "output_type": "display_data"
    }
   ],
   "source": [
    "# Approximate DWPC using the lognormal distribution\n",
    "dwpc_s, dwpc_mu, dwpc_sig = scipy.stats.lognorm.fit(dwpc_df[dwpc_df['dwpc'] > 0]['dwpc'])\n",
    "perm_s, perm_mu, perm_sig = scipy.stats.lognorm.fit(perm_df[perm_df['dwpc'] > 0]['dwpc'])\n",
    "p_s, p_mu, p_sig = scipy.stats.lognorm.fit(dwpc_df[dwpc_df['dwpc'] > 0]['adjusted-p-dwpc'])\n",
    "\n",
    "x = np.linspace(-2,10,1000)\n",
    "dwpc_y = scipy.stats.lognorm.pdf(x, dwpc_s, loc=dwpc_mu, scale=dwpc_sig)\n",
    "perm_y = scipy.stats.lognorm.pdf(x, perm_s, loc=perm_mu, scale=perm_sig)\n",
    "p_y = scipy.stats.lognorm.pdf(x, p_s, loc=p_mu, scale=p_sig)\n",
    "\n",
    "# Make figure\n",
    "bins = np.linspace(-2, 10, 50)\n",
    "\n",
    "plt.hist(dwpc_df[dwpc_df['dwpc'] > 0]['dwpc'].dropna(), alpha=0.7, label='dwpc', color=c1, bins=bins, density=True)\n",
    "plt.hist(perm_df[perm_df['dwpc'] > 0]['dwpc'].dropna(), alpha=0.7, label='permutation', color=c2, bins=bins, density=True);\n",
    "# plt.hist(dwpc_df[dwpc_df['dwpc'] > 0]['adjusted-p-dwpc'].dropna(), alpha=0.7, label='p-dwpc', color=c3, bins=bins, density=True)\n",
    "\n",
    "plt.plot(x, dwpc_y, color=c1, linewidth=3)\n",
    "plt.plot(x, perm_y, color=c2, linewidth=3)\n",
    "# plt.plot(x, p_y, color=c3, linewidth=3)\n",
    "\n",
    "plt.legend();\n",
    "# plt.ylim((0, 0.6))\n",
    "plt.xlim((0, 6))\n",
    "plt.title(f'Comparison of DWPC distributions along {metapath} lognormal');"
   ]
  },
  {
   "cell_type": "code",
   "execution_count": 53,
   "metadata": {},
   "outputs": [
    {
     "data": {
      "image/png": "[encoded data removed]",
      "text/plain": [
       "<Figure size 432x288 with 1 Axes>"
      ]
     },
     "metadata": {},
     "output_type": "display_data"
    }
   ],
   "source": [
    "# Approximate DWPC using the gamma distribution\n",
    "dwpc_a, dwpc_gamma_mu, dwpc_gamma_sig = scipy.stats.gamma.fit(dwpc_df[dwpc_df['dwpc'] > 0]['dwpc'])\n",
    "perm_a, perm_mu, perm_sig = scipy.stats.gamma.fit(perm_df[perm_df['dwpc'] > 0]['dwpc'])\n",
    "p_a, p_mu, p_sig = scipy.stats.gamma.fit(dwpc_df[dwpc_df['dwpc'] > 0]['adjusted-p-dwpc'])\n",
    "\n",
    "x = np.linspace(-2,10,1000)\n",
    "dwpc_y = scipy.stats.gamma.pdf(x, dwpc_a, loc=dwpc_gamma_mu, scale=dwpc_gamma_sig)\n",
    "perm_y = scipy.stats.gamma.pdf(x, perm_a, loc=perm_mu, scale=perm_sig)\n",
    "p_y = scipy.stats.gamma.pdf(x, p_a, loc=p_mu, scale=p_sig)\n",
    "\n",
    "# Make figure\n",
    "bins = np.linspace(-2, 10, 50)\n",
    "\n",
    "plt.hist(dwpc_df[dwpc_df['dwpc'] > 0]['dwpc'].dropna(), alpha=0.7, label='dwpc', color=c1, bins=bins, density=True)\n",
    "plt.hist(perm_df[perm_df['dwpc'] > 0]['dwpc'].dropna(), alpha=0.7, label='permutation', color=c2, bins=bins, density=True);\n",
    "# plt.hist(dwpc_df[dwpc_df['dwpc'] > 0]['adjusted-p-dwpc'].dropna(), alpha=0.7, label='p-dwpc', color=c3, bins=bins, density=True)\n",
    "\n",
    "plt.plot(x, dwpc_y, color=c1, linewidth=3)\n",
    "plt.plot(x, perm_y, color=c2, linewidth=3)\n",
    "# plt.plot(x, p_y, color=c3, linewidth=3)\n",
    "\n",
    "plt.legend();\n",
    "# plt.ylim((0, 0.6))\n",
    "plt.xlim((0, 5.5))\n",
    "plt.title(f'Comparison of DWPC distributions along {metapath} gamma');"
   ]
  },
  {
   "cell_type": "code",
   "execution_count": 54,
   "metadata": {},
   "outputs": [
    {
     "name": "stderr",
     "output_type": "stream",
     "text": [
      "/home/michael/.conda/envs/hetmech/lib/python3.6/site-packages/scipy/stats/_continuous_distns.py:437: RuntimeWarning: invalid value encountered in sqrt\n",
      "  sk = 2*(b-a)*np.sqrt(a + b + 1) / (a + b + 2) / np.sqrt(a*b)\n",
      "/home/michael/.conda/envs/hetmech/lib/python3.6/site-packages/scipy/optimize/minpack.py:163: RuntimeWarning: The iteration is not making good progress, as measured by the \n",
      "  improvement from the last ten iterations.\n",
      "  warnings.warn(msg, RuntimeWarning)\n"
     ]
    },
    {
     "data": {
      "image/png": "[encoded data removed]",
      "text/plain": [
       "<Figure size 432x288 with 1 Axes>"
      ]
     },
     "metadata": {},
     "output_type": "display_data"
    }
   ],
   "source": [
    "# Approximate DWPC using the beta distribution\n",
    "dwpc_beta_a, dwpc_beta_b, dwpc_beta_mu, dwpc_beta_sig = scipy.stats.beta.fit(dwpc_df[dwpc_df['dwpc'] > 0]['dwpc'].dropna())\n",
    "perm_a, perm_b, perm_mu, perm_sig = scipy.stats.beta.fit(perm_df[perm_df['dwpc'] > 0]['dwpc'].dropna())\n",
    "p_a, p_b, p_mu, p_sig = scipy.stats.beta.fit(dwpc_df[dwpc_df['dwpc'] > 0]['adjusted-p-dwpc'].dropna())\n",
    "\n",
    "x = np.linspace(-2,10,1000)\n",
    "dwpc_y = scipy.stats.beta.pdf(x, dwpc_beta_a, dwpc_beta_b, loc=dwpc_beta_mu, scale=dwpc_beta_sig)\n",
    "perm_y = scipy.stats.beta.pdf(x, perm_a, perm_b, loc=perm_mu, scale=perm_sig)\n",
    "p_y = scipy.stats.beta.pdf(x, p_a, p_b, loc=p_mu, scale=p_sig)\n",
    "\n",
    "# Make figure\n",
    "bins = np.linspace(-2, 10, 50)\n",
    "\n",
    "plt.hist(dwpc_df[dwpc_df['dwpc'] > 0]['dwpc'].dropna(), alpha=0.7, label='dwpc', color=c1, bins=bins, density=True)\n",
    "plt.hist(perm_df[perm_df['dwpc'] > 0]['dwpc'].dropna(), alpha=0.7, label='permutation', color=c2, bins=bins, density=True);\n",
    "# plt.hist(dwpc_df[dwpc_df['dwpc'] > 0]['adjusted-p-dwpc'].dropna(), alpha=0.7, label='p-dwpc', color=c3, bins=bins, density=True)\n",
    "\n",
    "plt.plot(x, dwpc_y, color=c1, linewidth=3)\n",
    "plt.plot(x, perm_y, color=c2, linewidth=3)\n",
    "# plt.plot(x, p_y, color=c3, linewidth=3)\n",
    "\n",
    "plt.legend();\n",
    "# plt.ylim((0, 0.6))\n",
    "plt.xlim((0, 5.5))\n",
    "plt.title(f'Comparison of DWPC distributions along {metapath} beta');"
   ]
  },
  {
   "cell_type": "code",
   "execution_count": 55,
   "metadata": {},
   "outputs": [
    {
     "data": {
      "image/png": "[encoded data removed]",
      "text/plain": [
       "<Figure size 432x288 with 1 Axes>"
      ]
     },
     "metadata": {},
     "output_type": "display_data"
    }
   ],
   "source": [
    "# Approximate DWPC using the weibull distribution\n",
    "dwpc_a, dwpc_gamma_mu, dwpc_gamma_sig = scipy.stats.weibull_min.fit(dwpc_df[dwpc_df['dwpc'] > 0]['dwpc'])\n",
    "perm_a, perm_mu, perm_sig = scipy.stats.weibull_min.fit(perm_df[perm_df['dwpc'] > 0]['dwpc'])\n",
    "p_a, p_mu, p_sig = scipy.stats.weibull_min.fit(dwpc_df[dwpc_df['dwpc'] > 0]['adjusted-p-dwpc'])\n",
    "\n",
    "x = np.linspace(-2,10,1000)\n",
    "dwpc_y = scipy.stats.weibull_min.pdf(x, dwpc_a, loc=dwpc_gamma_mu, scale=dwpc_gamma_sig)\n",
    "perm_y = scipy.stats.weibull_min.pdf(x, perm_a, loc=perm_mu, scale=perm_sig)\n",
    "p_y = scipy.stats.weibull_min.pdf(x, p_a, loc=p_mu, scale=p_sig)\n",
    "\n",
    "# Make figure\n",
    "bins = np.linspace(-2, 10, 50)\n",
    "\n",
    "plt.hist(dwpc_df[dwpc_df['dwpc'] > 0]['dwpc'].dropna(), alpha=0.7, label='dwpc', color=c1, bins=bins, density=True)\n",
    "plt.hist(perm_df[perm_df['dwpc'] > 0]['dwpc'].dropna(), alpha=0.7, label='permutation', color=c2, bins=bins, density=True);\n",
    "# plt.hist(dwpc_df[dwpc_df['dwpc'] > 0]['adjusted-p-dwpc'].dropna(), alpha=0.7, label='p-dwpc', color=c3, bins=bins, density=True)\n",
    "\n",
    "plt.plot(x, dwpc_y, color=c1, linewidth=3)\n",
    "plt.plot(x, perm_y, color=c2, linewidth=3)\n",
    "# plt.plot(x, p_y, color=c3, linewidth=3)\n",
    "\n",
    "plt.legend();\n",
    "# plt.ylim((0, 0.6))\n",
    "plt.xlim((0, 5.5))\n",
    "plt.title(f'Comparison of DWPC distributions along {metapath} weibull');"
   ]
  },
  {
   "cell_type": "markdown",
   "metadata": {},
   "source": [
    "Potentially should correct for the differences between permutations in the distributions of DWPC values"
   ]
  },
  {
   "cell_type": "code",
   "execution_count": 56,
   "metadata": {},
   "outputs": [
    {
     "data": {
      "text/plain": [
       "0.25174676580245214"
      ]
     },
     "execution_count": 56,
     "metadata": {},
     "output_type": "execute_result"
    }
   ],
   "source": [
    "np.mean(path_nnz) / 45"
   ]
  },
  {
   "cell_type": "code",
   "execution_count": 57,
   "metadata": {},
   "outputs": [
    {
     "data": {
      "text/plain": [
       "0.528224599359114"
      ]
     },
     "execution_count": 57,
     "metadata": {},
     "output_type": "execute_result"
    }
   ],
   "source": [
    "np.count_nonzero(path_nnz) / len(path_nnz)"
   ]
  },
  {
   "cell_type": "code",
   "execution_count": 71,
   "metadata": {},
   "outputs": [
    {
     "data": {
      "text/plain": [
       "(array([0.04815745, 0.0114784 , 0.00645115, 0.00374202, 0.00262868,\n",
       "        0.00211998, 0.00152924, 0.00138298, 0.00113073, 0.00202453]),\n",
       " array([  1. ,  13.4,  25.8,  38.2,  50.6,  63. ,  75.4,  87.8, 100.2,\n",
       "        112.6, 125. ]),\n",
       " <a list of 10 Patch objects>)"
      ]
     },
     "execution_count": 71,
     "metadata": {},
     "output_type": "execute_result"
    },
    {
     "data": {
      "image/png": "[encoded data removed]",
      "text/plain": [
       "<Figure size 432x288 with 1 Axes>"
      ]
     },
     "metadata": {},
     "output_type": "display_data"
    }
   ],
   "source": [
    "x = np.linspace(0, 125, 1000)\n",
    "loc, scale = scipy.stats.expon.fit(path_nnz[path_nnz != 0])\n",
    "y = scipy.stats.expon.pdf(x, loc=loc, scale=scale)\n",
    "\n",
    "plt.plot(x, y)\n",
    "plt.hist(path_nnz[path_nnz != 0], density=True)\n",
    "# plt.ylim((0, 0.2))"
   ]
  },
  {
   "cell_type": "code",
   "execution_count": 72,
   "metadata": {},
   "outputs": [
    {
     "data": {
      "image/png": "[encoded data removed]",
      "text/plain": [
       "<Figure size 432x288 with 1 Axes>"
      ]
     },
     "metadata": {},
     "output_type": "display_data"
    }
   ],
   "source": [
    "y = scipy.stats.expon.cdf(x, loc=loc, scale=scale)\n",
    "\n",
    "plt.plot(x, y)\n",
    "plt.hist(path_nnz[path_nnz != 0], density=True, cumulative=True);"
   ]
  },
  {
   "cell_type": "code",
   "execution_count": 75,
   "metadata": {},
   "outputs": [
    {
     "name": "stderr",
     "output_type": "stream",
     "text": [
      "/home/michael/.conda/envs/hetmech/lib/python3.6/site-packages/scipy/stats/_continuous_distns.py:437: RuntimeWarning: invalid value encountered in sqrt\n",
      "  sk = 2*(b-a)*np.sqrt(a + b + 1) / (a + b + 2) / np.sqrt(a*b)\n"
     ]
    },
    {
     "ename": "KeyboardInterrupt",
     "evalue": "",
     "output_type": "error",
     "traceback": [
      "\u001b[0;31m---------------------------------------------------------------------------\u001b[0m",
      "\u001b[0;31mKeyboardInterrupt\u001b[0m                         Traceback (most recent call last)",
      "\u001b[0;32m<ipython-input-75-c5a6bd994322>\u001b[0m in \u001b[0;36m<module>\u001b[0;34m()\u001b[0m\n\u001b[1;32m      1\u001b[0m \u001b[0mx\u001b[0m \u001b[0;34m=\u001b[0m \u001b[0mnp\u001b[0m\u001b[0;34m.\u001b[0m\u001b[0mlinspace\u001b[0m\u001b[0;34m(\u001b[0m\u001b[0;36m0\u001b[0m\u001b[0;34m,\u001b[0m \u001b[0;36m125\u001b[0m\u001b[0;34m,\u001b[0m \u001b[0;36m1000\u001b[0m\u001b[0;34m)\u001b[0m\u001b[0;34m\u001b[0m\u001b[0m\n\u001b[0;32m----> 2\u001b[0;31m \u001b[0ma\u001b[0m\u001b[0;34m,\u001b[0m \u001b[0mb\u001b[0m\u001b[0;34m,\u001b[0m \u001b[0mmu\u001b[0m\u001b[0;34m,\u001b[0m \u001b[0msig\u001b[0m \u001b[0;34m=\u001b[0m \u001b[0mscipy\u001b[0m\u001b[0;34m.\u001b[0m\u001b[0mstats\u001b[0m\u001b[0;34m.\u001b[0m\u001b[0mbeta\u001b[0m\u001b[0;34m.\u001b[0m\u001b[0mfit\u001b[0m\u001b[0;34m(\u001b[0m\u001b[0mpath_nnz\u001b[0m\u001b[0;34m[\u001b[0m\u001b[0mpath_nnz\u001b[0m \u001b[0;34m!=\u001b[0m \u001b[0;36m0\u001b[0m\u001b[0;34m]\u001b[0m\u001b[0;34m)\u001b[0m\u001b[0;34m\u001b[0m\u001b[0m\n\u001b[0m\u001b[1;32m      3\u001b[0m \u001b[0my\u001b[0m \u001b[0;34m=\u001b[0m \u001b[0mscipy\u001b[0m\u001b[0;34m.\u001b[0m\u001b[0mstats\u001b[0m\u001b[0;34m.\u001b[0m\u001b[0mbeta\u001b[0m\u001b[0;34m.\u001b[0m\u001b[0mcdf\u001b[0m\u001b[0;34m(\u001b[0m\u001b[0mx\u001b[0m\u001b[0;34m,\u001b[0m \u001b[0ma\u001b[0m\u001b[0;34m,\u001b[0m \u001b[0mb\u001b[0m\u001b[0;34m,\u001b[0m \u001b[0mmu\u001b[0m\u001b[0;34m,\u001b[0m \u001b[0msig\u001b[0m\u001b[0;34m)\u001b[0m\u001b[0;34m\u001b[0m\u001b[0m\n\u001b[1;32m      4\u001b[0m \u001b[0;34m\u001b[0m\u001b[0m\n\u001b[1;32m      5\u001b[0m \u001b[0mplt\u001b[0m\u001b[0;34m.\u001b[0m\u001b[0mplot\u001b[0m\u001b[0;34m(\u001b[0m\u001b[0mx\u001b[0m\u001b[0;34m,\u001b[0m \u001b[0my\u001b[0m\u001b[0;34m)\u001b[0m\u001b[0;34m\u001b[0m\u001b[0m\n",
      "\u001b[0;32m~/.conda/envs/hetmech/lib/python3.6/site-packages/scipy/stats/_continuous_distns.py\u001b[0m in \u001b[0;36mfit\u001b[0;34m(self, data, *args, **kwds)\u001b[0m\n\u001b[1;32m    460\u001b[0m         \u001b[0;32mif\u001b[0m \u001b[0mfloc\u001b[0m \u001b[0;32mis\u001b[0m \u001b[0;32mNone\u001b[0m \u001b[0;32mor\u001b[0m \u001b[0mfscale\u001b[0m \u001b[0;32mis\u001b[0m \u001b[0;32mNone\u001b[0m\u001b[0;34m:\u001b[0m\u001b[0;34m\u001b[0m\u001b[0m\n\u001b[1;32m    461\u001b[0m             \u001b[0;31m# do general fit\u001b[0m\u001b[0;34m\u001b[0m\u001b[0;34m\u001b[0m\u001b[0m\n\u001b[0;32m--> 462\u001b[0;31m             \u001b[0;32mreturn\u001b[0m \u001b[0msuper\u001b[0m\u001b[0;34m(\u001b[0m\u001b[0mbeta_gen\u001b[0m\u001b[0;34m,\u001b[0m \u001b[0mself\u001b[0m\u001b[0;34m)\u001b[0m\u001b[0;34m.\u001b[0m\u001b[0mfit\u001b[0m\u001b[0;34m(\u001b[0m\u001b[0mdata\u001b[0m\u001b[0;34m,\u001b[0m \u001b[0;34m*\u001b[0m\u001b[0margs\u001b[0m\u001b[0;34m,\u001b[0m \u001b[0;34m**\u001b[0m\u001b[0mkwds\u001b[0m\u001b[0;34m)\u001b[0m\u001b[0;34m\u001b[0m\u001b[0m\n\u001b[0m\u001b[1;32m    463\u001b[0m \u001b[0;34m\u001b[0m\u001b[0m\n\u001b[1;32m    464\u001b[0m         \u001b[0;32mif\u001b[0m \u001b[0mf0\u001b[0m \u001b[0;32mis\u001b[0m \u001b[0;32mnot\u001b[0m \u001b[0;32mNone\u001b[0m \u001b[0;32mand\u001b[0m \u001b[0mf1\u001b[0m \u001b[0;32mis\u001b[0m \u001b[0;32mnot\u001b[0m \u001b[0;32mNone\u001b[0m\u001b[0;34m:\u001b[0m\u001b[0;34m\u001b[0m\u001b[0m\n",
      "\u001b[0;32m~/.conda/envs/hetmech/lib/python3.6/site-packages/scipy/stats/_distn_infrastructure.py\u001b[0m in \u001b[0;36mfit\u001b[0;34m(self, data, *args, **kwds)\u001b[0m\n\u001b[1;32m   2208\u001b[0m             \u001b[0;32mraise\u001b[0m \u001b[0mTypeError\u001b[0m\u001b[0;34m(\u001b[0m\u001b[0;34m\"Unknown arguments: %s.\"\u001b[0m \u001b[0;34m%\u001b[0m \u001b[0mkwds\u001b[0m\u001b[0;34m)\u001b[0m\u001b[0;34m\u001b[0m\u001b[0m\n\u001b[1;32m   2209\u001b[0m \u001b[0;34m\u001b[0m\u001b[0m\n\u001b[0;32m-> 2210\u001b[0;31m         \u001b[0mvals\u001b[0m \u001b[0;34m=\u001b[0m \u001b[0moptimizer\u001b[0m\u001b[0;34m(\u001b[0m\u001b[0mfunc\u001b[0m\u001b[0;34m,\u001b[0m \u001b[0mx0\u001b[0m\u001b[0;34m,\u001b[0m \u001b[0margs\u001b[0m\u001b[0;34m=\u001b[0m\u001b[0;34m(\u001b[0m\u001b[0mravel\u001b[0m\u001b[0;34m(\u001b[0m\u001b[0mdata\u001b[0m\u001b[0;34m)\u001b[0m\u001b[0;34m,\u001b[0m\u001b[0;34m)\u001b[0m\u001b[0;34m,\u001b[0m \u001b[0mdisp\u001b[0m\u001b[0;34m=\u001b[0m\u001b[0;36m0\u001b[0m\u001b[0;34m)\u001b[0m\u001b[0;34m\u001b[0m\u001b[0m\n\u001b[0m\u001b[1;32m   2211\u001b[0m         \u001b[0;32mif\u001b[0m \u001b[0mrestore\u001b[0m \u001b[0;32mis\u001b[0m \u001b[0;32mnot\u001b[0m \u001b[0;32mNone\u001b[0m\u001b[0;34m:\u001b[0m\u001b[0;34m\u001b[0m\u001b[0m\n\u001b[1;32m   2212\u001b[0m             \u001b[0mvals\u001b[0m \u001b[0;34m=\u001b[0m \u001b[0mrestore\u001b[0m\u001b[0;34m(\u001b[0m\u001b[0margs\u001b[0m\u001b[0;34m,\u001b[0m \u001b[0mvals\u001b[0m\u001b[0;34m)\u001b[0m\u001b[0;34m\u001b[0m\u001b[0m\n",
      "\u001b[0;32m~/.conda/envs/hetmech/lib/python3.6/site-packages/scipy/optimize/optimize.py\u001b[0m in \u001b[0;36mfmin\u001b[0;34m(func, x0, args, xtol, ftol, maxiter, maxfun, full_output, disp, retall, callback, initial_simplex)\u001b[0m\n\u001b[1;32m    407\u001b[0m             'initial_simplex': initial_simplex}\n\u001b[1;32m    408\u001b[0m \u001b[0;34m\u001b[0m\u001b[0m\n\u001b[0;32m--> 409\u001b[0;31m     \u001b[0mres\u001b[0m \u001b[0;34m=\u001b[0m \u001b[0m_minimize_neldermead\u001b[0m\u001b[0;34m(\u001b[0m\u001b[0mfunc\u001b[0m\u001b[0;34m,\u001b[0m \u001b[0mx0\u001b[0m\u001b[0;34m,\u001b[0m \u001b[0margs\u001b[0m\u001b[0;34m,\u001b[0m \u001b[0mcallback\u001b[0m\u001b[0;34m=\u001b[0m\u001b[0mcallback\u001b[0m\u001b[0;34m,\u001b[0m \u001b[0;34m**\u001b[0m\u001b[0mopts\u001b[0m\u001b[0;34m)\u001b[0m\u001b[0;34m\u001b[0m\u001b[0m\n\u001b[0m\u001b[1;32m    410\u001b[0m     \u001b[0;32mif\u001b[0m \u001b[0mfull_output\u001b[0m\u001b[0;34m:\u001b[0m\u001b[0;34m\u001b[0m\u001b[0m\n\u001b[1;32m    411\u001b[0m         \u001b[0mretlist\u001b[0m \u001b[0;34m=\u001b[0m \u001b[0mres\u001b[0m\u001b[0;34m[\u001b[0m\u001b[0;34m'x'\u001b[0m\u001b[0;34m]\u001b[0m\u001b[0;34m,\u001b[0m \u001b[0mres\u001b[0m\u001b[0;34m[\u001b[0m\u001b[0;34m'fun'\u001b[0m\u001b[0;34m]\u001b[0m\u001b[0;34m,\u001b[0m \u001b[0mres\u001b[0m\u001b[0;34m[\u001b[0m\u001b[0;34m'nit'\u001b[0m\u001b[0;34m]\u001b[0m\u001b[0;34m,\u001b[0m \u001b[0mres\u001b[0m\u001b[0;34m[\u001b[0m\u001b[0;34m'nfev'\u001b[0m\u001b[0;34m]\u001b[0m\u001b[0;34m,\u001b[0m \u001b[0mres\u001b[0m\u001b[0;34m[\u001b[0m\u001b[0;34m'status'\u001b[0m\u001b[0;34m]\u001b[0m\u001b[0;34m\u001b[0m\u001b[0m\n",
      "\u001b[0;32m~/.conda/envs/hetmech/lib/python3.6/site-packages/scipy/optimize/optimize.py\u001b[0m in \u001b[0;36m_minimize_neldermead\u001b[0;34m(func, x0, args, callback, maxiter, maxfev, disp, return_all, initial_simplex, xatol, fatol, adaptive, **unknown_options)\u001b[0m\n\u001b[1;32m    571\u001b[0m         \u001b[0;32mif\u001b[0m \u001b[0mfxr\u001b[0m \u001b[0;34m<\u001b[0m \u001b[0mfsim\u001b[0m\u001b[0;34m[\u001b[0m\u001b[0;36m0\u001b[0m\u001b[0;34m]\u001b[0m\u001b[0;34m:\u001b[0m\u001b[0;34m\u001b[0m\u001b[0m\n\u001b[1;32m    572\u001b[0m             \u001b[0mxe\u001b[0m \u001b[0;34m=\u001b[0m \u001b[0;34m(\u001b[0m\u001b[0;36m1\u001b[0m \u001b[0;34m+\u001b[0m \u001b[0mrho\u001b[0m \u001b[0;34m*\u001b[0m \u001b[0mchi\u001b[0m\u001b[0;34m)\u001b[0m \u001b[0;34m*\u001b[0m \u001b[0mxbar\u001b[0m \u001b[0;34m-\u001b[0m \u001b[0mrho\u001b[0m \u001b[0;34m*\u001b[0m \u001b[0mchi\u001b[0m \u001b[0;34m*\u001b[0m \u001b[0msim\u001b[0m\u001b[0;34m[\u001b[0m\u001b[0;34m-\u001b[0m\u001b[0;36m1\u001b[0m\u001b[0;34m]\u001b[0m\u001b[0;34m\u001b[0m\u001b[0m\n\u001b[0;32m--> 573\u001b[0;31m             \u001b[0mfxe\u001b[0m \u001b[0;34m=\u001b[0m \u001b[0mfunc\u001b[0m\u001b[0;34m(\u001b[0m\u001b[0mxe\u001b[0m\u001b[0;34m)\u001b[0m\u001b[0;34m\u001b[0m\u001b[0m\n\u001b[0m\u001b[1;32m    574\u001b[0m \u001b[0;34m\u001b[0m\u001b[0m\n\u001b[1;32m    575\u001b[0m             \u001b[0;32mif\u001b[0m \u001b[0mfxe\u001b[0m \u001b[0;34m<\u001b[0m \u001b[0mfxr\u001b[0m\u001b[0;34m:\u001b[0m\u001b[0;34m\u001b[0m\u001b[0m\n",
      "\u001b[0;32m~/.conda/envs/hetmech/lib/python3.6/site-packages/scipy/optimize/optimize.py\u001b[0m in \u001b[0;36mfunction_wrapper\u001b[0;34m(*wrapper_args)\u001b[0m\n\u001b[1;32m    291\u001b[0m     \u001b[0;32mdef\u001b[0m \u001b[0mfunction_wrapper\u001b[0m\u001b[0;34m(\u001b[0m\u001b[0;34m*\u001b[0m\u001b[0mwrapper_args\u001b[0m\u001b[0;34m)\u001b[0m\u001b[0;34m:\u001b[0m\u001b[0;34m\u001b[0m\u001b[0m\n\u001b[1;32m    292\u001b[0m         \u001b[0mncalls\u001b[0m\u001b[0;34m[\u001b[0m\u001b[0;36m0\u001b[0m\u001b[0;34m]\u001b[0m \u001b[0;34m+=\u001b[0m \u001b[0;36m1\u001b[0m\u001b[0;34m\u001b[0m\u001b[0m\n\u001b[0;32m--> 293\u001b[0;31m         \u001b[0;32mreturn\u001b[0m \u001b[0mfunction\u001b[0m\u001b[0;34m(\u001b[0m\u001b[0;34m*\u001b[0m\u001b[0;34m(\u001b[0m\u001b[0mwrapper_args\u001b[0m \u001b[0;34m+\u001b[0m \u001b[0margs\u001b[0m\u001b[0;34m)\u001b[0m\u001b[0;34m)\u001b[0m\u001b[0;34m\u001b[0m\u001b[0m\n\u001b[0m\u001b[1;32m    294\u001b[0m \u001b[0;34m\u001b[0m\u001b[0m\n\u001b[1;32m    295\u001b[0m     \u001b[0;32mreturn\u001b[0m \u001b[0mncalls\u001b[0m\u001b[0;34m,\u001b[0m \u001b[0mfunction_wrapper\u001b[0m\u001b[0;34m\u001b[0m\u001b[0m\n",
      "\u001b[0;32m~/.conda/envs/hetmech/lib/python3.6/site-packages/scipy/stats/_distn_infrastructure.py\u001b[0m in \u001b[0;36m_penalized_nnlf\u001b[0;34m(self, theta, x)\u001b[0m\n\u001b[1;32m   2018\u001b[0m         \u001b[0mx\u001b[0m \u001b[0;34m=\u001b[0m \u001b[0masarray\u001b[0m\u001b[0;34m(\u001b[0m\u001b[0;34m(\u001b[0m\u001b[0mx\u001b[0m\u001b[0;34m-\u001b[0m\u001b[0mloc\u001b[0m\u001b[0;34m)\u001b[0m \u001b[0;34m/\u001b[0m \u001b[0mscale\u001b[0m\u001b[0;34m)\u001b[0m\u001b[0;34m\u001b[0m\u001b[0m\n\u001b[1;32m   2019\u001b[0m         \u001b[0mn_log_scale\u001b[0m \u001b[0;34m=\u001b[0m \u001b[0mlen\u001b[0m\u001b[0;34m(\u001b[0m\u001b[0mx\u001b[0m\u001b[0;34m)\u001b[0m \u001b[0;34m*\u001b[0m \u001b[0mlog\u001b[0m\u001b[0;34m(\u001b[0m\u001b[0mscale\u001b[0m\u001b[0;34m)\u001b[0m\u001b[0;34m\u001b[0m\u001b[0m\n\u001b[0;32m-> 2020\u001b[0;31m         \u001b[0;32mreturn\u001b[0m \u001b[0mself\u001b[0m\u001b[0;34m.\u001b[0m\u001b[0m_nnlf_and_penalty\u001b[0m\u001b[0;34m(\u001b[0m\u001b[0mx\u001b[0m\u001b[0;34m,\u001b[0m \u001b[0margs\u001b[0m\u001b[0;34m)\u001b[0m \u001b[0;34m+\u001b[0m \u001b[0mn_log_scale\u001b[0m\u001b[0;34m\u001b[0m\u001b[0m\n\u001b[0m\u001b[1;32m   2021\u001b[0m \u001b[0;34m\u001b[0m\u001b[0m\n\u001b[1;32m   2022\u001b[0m     \u001b[0;31m# return starting point for fit (shape arguments + loc + scale)\u001b[0m\u001b[0;34m\u001b[0m\u001b[0;34m\u001b[0m\u001b[0m\n",
      "\u001b[0;32m~/.conda/envs/hetmech/lib/python3.6/site-packages/scipy/stats/_distn_infrastructure.py\u001b[0m in \u001b[0;36m_nnlf_and_penalty\u001b[0;34m(self, x, args)\u001b[0m\n\u001b[1;32m   2002\u001b[0m         \u001b[0mlogpdf\u001b[0m \u001b[0;34m=\u001b[0m \u001b[0mself\u001b[0m\u001b[0;34m.\u001b[0m\u001b[0m_logpdf\u001b[0m\u001b[0;34m(\u001b[0m\u001b[0mx\u001b[0m\u001b[0;34m,\u001b[0m \u001b[0;34m*\u001b[0m\u001b[0margs\u001b[0m\u001b[0;34m)\u001b[0m\u001b[0;34m\u001b[0m\u001b[0m\n\u001b[1;32m   2003\u001b[0m         \u001b[0mfinite_logpdf\u001b[0m \u001b[0;34m=\u001b[0m \u001b[0mnp\u001b[0m\u001b[0;34m.\u001b[0m\u001b[0misfinite\u001b[0m\u001b[0;34m(\u001b[0m\u001b[0mlogpdf\u001b[0m\u001b[0;34m)\u001b[0m\u001b[0;34m\u001b[0m\u001b[0m\n\u001b[0;32m-> 2004\u001b[0;31m         \u001b[0mn_bad\u001b[0m \u001b[0;34m+=\u001b[0m \u001b[0mnp\u001b[0m\u001b[0;34m.\u001b[0m\u001b[0msum\u001b[0m\u001b[0;34m(\u001b[0m\u001b[0;34m~\u001b[0m\u001b[0mfinite_logpdf\u001b[0m\u001b[0;34m,\u001b[0m \u001b[0maxis\u001b[0m\u001b[0;34m=\u001b[0m\u001b[0;36m0\u001b[0m\u001b[0;34m)\u001b[0m\u001b[0;34m\u001b[0m\u001b[0m\n\u001b[0m\u001b[1;32m   2005\u001b[0m         \u001b[0;32mif\u001b[0m \u001b[0mn_bad\u001b[0m \u001b[0;34m>\u001b[0m \u001b[0;36m0\u001b[0m\u001b[0;34m:\u001b[0m\u001b[0;34m\u001b[0m\u001b[0m\n\u001b[1;32m   2006\u001b[0m             \u001b[0mpenalty\u001b[0m \u001b[0;34m=\u001b[0m \u001b[0mn_bad\u001b[0m \u001b[0;34m*\u001b[0m \u001b[0mlog\u001b[0m\u001b[0;34m(\u001b[0m\u001b[0m_XMAX\u001b[0m\u001b[0;34m)\u001b[0m \u001b[0;34m*\u001b[0m \u001b[0;36m100\u001b[0m\u001b[0;34m\u001b[0m\u001b[0m\n",
      "\u001b[0;31mKeyboardInterrupt\u001b[0m: "
     ]
    }
   ],
   "source": [
    "x = np.linspace(0, 125, 1000)\n",
    "a, b, mu, sig = scipy.stats.beta.fit(path_nnz[path_nnz != 0])\n",
    "y = scipy.stats.beta.cdf(x, a, b, mu, sig)\n",
    "\n",
    "plt.plot(x, y)\n",
    "plt.hist(path_nnz[path_nnz != 0], density=True)\n",
    "# plt.ylim((0, 0.2))"
   ]
  },
  {
   "cell_type": "code",
   "execution_count": 76,
   "metadata": {},
   "outputs": [
    {
     "data": {
      "text/plain": [
       "(0.38723962885917157,\n",
       " 1.7114124270797375,\n",
       " 0.9999999999999999,\n",
       " 186.91654361666872)"
      ]
     },
     "execution_count": 76,
     "metadata": {},
     "output_type": "execute_result"
    }
   ],
   "source": [
    "a, b , mu, sig"
   ]
  },
  {
   "cell_type": "markdown",
   "metadata": {},
   "source": [
    "## Distribution of degree-grouped permutations"
   ]
  },
  {
   "cell_type": "code",
   "execution_count": 60,
   "metadata": {},
   "outputs": [],
   "source": [
    "p_nonzero = len(dwpc_df[dwpc_df['dwpc'] != 0]) / len(dwpc_df)"
   ]
  },
  {
   "cell_type": "code",
   "execution_count": 61,
   "metadata": {},
   "outputs": [],
   "source": [
    "dgp_path = hetmat.directory.joinpath('adjusted-path-counts', 'dwpc-0.5', \n",
    "                                     'degree-grouped-permutations', \n",
    "                                     f'{metapath}.tsv')"
   ]
  },
  {
   "cell_type": "code",
   "execution_count": 62,
   "metadata": {},
   "outputs": [],
   "source": [
    "dgp_df = pd.read_table(dgp_path)"
   ]
  },
  {
   "cell_type": "code",
   "execution_count": 63,
   "metadata": {},
   "outputs": [
    {
     "data": {
      "text/html": [
       "<div>\n",
       "<style scoped>\n",
       "    .dataframe tbody tr th:only-of-type {\n",
       "        vertical-align: middle;\n",
       "    }\n",
       "\n",
       "    .dataframe tbody tr th {\n",
       "        vertical-align: top;\n",
       "    }\n",
       "\n",
       "    .dataframe thead th {\n",
       "        text-align: right;\n",
       "    }\n",
       "</style>\n",
       "<table border=\"1\" class=\"dataframe\">\n",
       "  <thead>\n",
       "    <tr style=\"text-align: right;\">\n",
       "      <th></th>\n",
       "      <th>source_degree</th>\n",
       "      <th>target_degree</th>\n",
       "      <th>n</th>\n",
       "      <th>nnz</th>\n",
       "      <th>n_perms</th>\n",
       "      <th>mean</th>\n",
       "      <th>sd</th>\n",
       "    </tr>\n",
       "  </thead>\n",
       "  <tbody>\n",
       "    <tr>\n",
       "      <th>0</th>\n",
       "      <td>0</td>\n",
       "      <td>0</td>\n",
       "      <td>433500</td>\n",
       "      <td>0</td>\n",
       "      <td>25</td>\n",
       "      <td>0.0</td>\n",
       "      <td>0.0</td>\n",
       "    </tr>\n",
       "    <tr>\n",
       "      <th>1</th>\n",
       "      <td>0</td>\n",
       "      <td>1</td>\n",
       "      <td>186225</td>\n",
       "      <td>0</td>\n",
       "      <td>25</td>\n",
       "      <td>0.0</td>\n",
       "      <td>0.0</td>\n",
       "    </tr>\n",
       "  </tbody>\n",
       "</table>\n",
       "</div>"
      ],
      "text/plain": [
       "   source_degree  target_degree       n  nnz  n_perms  mean   sd\n",
       "0              0              0  433500    0       25   0.0  0.0\n",
       "1              0              1  186225    0       25   0.0  0.0"
      ]
     },
     "execution_count": 63,
     "metadata": {},
     "output_type": "execute_result"
    }
   ],
   "source": [
    "dgp_df.head(2)"
   ]
  },
  {
   "cell_type": "code",
   "execution_count": 64,
   "metadata": {},
   "outputs": [
    {
     "data": {
      "text/html": [
       "<div>\n",
       "<style scoped>\n",
       "    .dataframe tbody tr th:only-of-type {\n",
       "        vertical-align: middle;\n",
       "    }\n",
       "\n",
       "    .dataframe tbody tr th {\n",
       "        vertical-align: top;\n",
       "    }\n",
       "\n",
       "    .dataframe thead th {\n",
       "        text-align: right;\n",
       "    }\n",
       "</style>\n",
       "<table border=\"1\" class=\"dataframe\">\n",
       "  <thead>\n",
       "    <tr style=\"text-align: right;\">\n",
       "      <th></th>\n",
       "      <th>dwpc</th>\n",
       "      <th>path-count</th>\n",
       "      <th>source_id</th>\n",
       "      <th>source_name</th>\n",
       "      <th>target_id</th>\n",
       "      <th>target_name</th>\n",
       "      <th>n</th>\n",
       "      <th>nnz</th>\n",
       "      <th>n_perms</th>\n",
       "      <th>p-dwpc</th>\n",
       "      <th>sd-dwpc</th>\n",
       "      <th>r-dwpc</th>\n",
       "      <th>z-dwpc</th>\n",
       "      <th>adjusted-p-dwpc</th>\n",
       "    </tr>\n",
       "  </thead>\n",
       "  <tbody>\n",
       "  </tbody>\n",
       "</table>\n",
       "</div>"
      ],
      "text/plain": [
       "Empty DataFrame\n",
       "Columns: [dwpc, path-count, source_id, source_name, target_id, target_name, n, nnz, n_perms, p-dwpc, sd-dwpc, r-dwpc, z-dwpc, adjusted-p-dwpc]\n",
       "Index: []"
      ]
     },
     "execution_count": 64,
     "metadata": {},
     "output_type": "execute_result"
    }
   ],
   "source": [
    "dwpc_df[(dwpc_df['nnz'] == 0) & (dwpc_df['dwpc'] != 0)]"
   ]
  },
  {
   "cell_type": "code",
   "execution_count": 65,
   "metadata": {},
   "outputs": [
    {
     "data": {
      "text/plain": [
       "<matplotlib.axes._subplots.AxesSubplot at 0x7fe098642128>"
      ]
     },
     "execution_count": 65,
     "metadata": {},
     "output_type": "execute_result"
    },
    {
     "data": {
      "image/png": "[encoded data removed]",
      "text/plain": [
       "<Figure size 432x288 with 1 Axes>"
      ]
     },
     "metadata": {},
     "output_type": "display_data"
    }
   ],
   "source": [
    "dwpc_df[dwpc_df['p-dwpc'] != 0]['p-dwpc'].hist()"
   ]
  },
  {
   "cell_type": "code",
   "execution_count": 66,
   "metadata": {},
   "outputs": [
    {
     "data": {
      "text/plain": [
       "<matplotlib.axes._subplots.AxesSubplot at 0x7fe0985c7358>"
      ]
     },
     "execution_count": 66,
     "metadata": {},
     "output_type": "execute_result"
    },
    {
     "data": {
      "image/png": "[encoded data removed]",
      "text/plain": [
       "<Figure size 432x288 with 1 Axes>"
      ]
     },
     "metadata": {},
     "output_type": "display_data"
    }
   ],
   "source": [
    "dwpc_df[dwpc_df['dwpc'] != 0]['dwpc'].hist()"
   ]
  },
  {
   "cell_type": "code",
   "execution_count": 67,
   "metadata": {},
   "outputs": [],
   "source": [
    "def model_dwpc_normal(n=1):\n",
    "    draws = []\n",
    "    for i in range(n):\n",
    "        draw = np.random.rand()\n",
    "        if draw < p_nonzero:\n",
    "            draw = np.random.normal(loc=dwpc_mu, scale=dwpc_sig)\n",
    "        else:\n",
    "            draw = 0\n",
    "        draws.append(draw)\n",
    "    return pd.DataFrame(draws)\n",
    "\n",
    "\n",
    "def model_dwpc_gamma(n=1):\n",
    "    draws = []\n",
    "    for i in range(n):\n",
    "        draw = np.random.rand()\n",
    "        if draw < p_nonzero:\n",
    "            draw = scipy.stats.gamma.rvs(a=dwpc_a, loc=dwpc_gamma_mu, scale=dwpc_gamma_sig)\n",
    "        else:\n",
    "            draw = 0\n",
    "        draws.append(draw)\n",
    "    return pd.DataFrame(draws)"
   ]
  },
  {
   "cell_type": "code",
   "execution_count": 68,
   "metadata": {},
   "outputs": [
    {
     "data": {
      "text/plain": [
       "array([[<matplotlib.axes._subplots.AxesSubplot object at 0x7fe099118780>]],\n",
       "      dtype=object)"
      ]
     },
     "execution_count": 68,
     "metadata": {},
     "output_type": "execute_result"
    },
    {
     "data": {
      "image/png": "[encoded data removed]",
      "text/plain": [
       "<Figure size 432x288 with 1 Axes>"
      ]
     },
     "metadata": {},
     "output_type": "display_data"
    }
   ],
   "source": [
    "model_dwpc_normal(len(dwpc_df)).hist()"
   ]
  },
  {
   "cell_type": "code",
   "execution_count": 69,
   "metadata": {},
   "outputs": [
    {
     "data": {
      "text/plain": [
       "array([[<matplotlib.axes._subplots.AxesSubplot object at 0x7fe098795470>]],\n",
       "      dtype=object)"
      ]
     },
     "execution_count": 69,
     "metadata": {},
     "output_type": "execute_result"
    },
    {
     "data": {
      "image/png": "[encoded data removed]",
      "text/plain": [
       "<Figure size 432x288 with 1 Axes>"
      ]
     },
     "metadata": {},
     "output_type": "display_data"
    }
   ],
   "source": [
    "model_dwpc_gamma(len(dwpc_df)).hist()"
   ]
  },
  {
   "cell_type": "code",
   "execution_count": 70,
   "metadata": {},
   "outputs": [
    {
     "data": {
      "text/plain": [
       "<matplotlib.axes._subplots.AxesSubplot at 0x7fe098ffce80>"
      ]
     },
     "execution_count": 70,
     "metadata": {},
     "output_type": "execute_result"
    },
    {
     "data": {
      "image/png": "[encoded data removed]",
      "text/plain": [
       "<Figure size 432x288 with 1 Axes>"
      ]
     },
     "metadata": {},
     "output_type": "display_data"
    }
   ],
   "source": [
    "dwpc_df['dwpc'].hist()"
   ]
  },
  {
   "cell_type": "markdown",
   "metadata": {},
   "source": []
  }
 ],
 "metadata": {
  "kernelspec": {
   "display_name": "Python 3",
   "language": "python",
   "name": "python3"
  },
  "language_info": {
   "codemirror_mode": {
    "name": "ipython",
    "version": 3
   },
   "file_extension": ".py",
   "mimetype": "text/x-python",
   "name": "python",
   "nbconvert_exporter": "python",
   "pygments_lexer": "ipython3",
   "version": "3.6.4"
  }
 },
 "nbformat": 4,
 "nbformat_minor": 2
}
