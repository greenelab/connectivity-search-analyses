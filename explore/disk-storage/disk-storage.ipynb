{
 "cells": [
  {
   "cell_type": "markdown",
   "metadata": {},
   "source": [
    "# Disk Storage\n",
    "Compares the disk-storage requirements of various matrices, including the largest adjacency matrices in the graph (those that start and end on `Gene`, the metanode with the most nodes), representative average size matrices, and sparse format for the least dense matrices."
   ]
  },
  {
   "cell_type": "code",
   "execution_count": 1,
   "metadata": {},
   "outputs": [],
   "source": [
    "import pandas as pd\n",
    "import numpy as np\n",
    "from scipy import sparse\n",
    "from neo4j.v1 import GraphDatabase\n",
    "import sys\n",
    "import os\n",
    "import hetio.readwrite\n",
    "import hetio.neo4j\n",
    "import hetio.pathtools\n",
    "from hetio.matrix import metaedge_to_adjacency_matrix, get_node_to_position"
   ]
  },
  {
   "cell_type": "code",
   "execution_count": 2,
   "metadata": {},
   "outputs": [],
   "source": [
    "sys.path.insert(0,'../../')\n",
    "from hetmech.degree_weight import dwpc"
   ]
  },
  {
   "cell_type": "code",
   "execution_count": 3,
   "metadata": {},
   "outputs": [],
   "source": [
    "np.random.seed(0)"
   ]
  },
  {
   "cell_type": "code",
   "execution_count": 4,
   "metadata": {},
   "outputs": [],
   "source": [
    "url = 'https://github.com/dhimmel/hetionet/raw/76550e6c93fbe92124edc71725e8c7dd4ca8b1f5/hetnet/json/hetionet-v1.0.json.bz2'\n",
    "graph = hetio.readwrite.read_graph(url)\n",
    "metagraph = graph.metagraph"
   ]
  },
  {
   "cell_type": "code",
   "execution_count": 6,
   "metadata": {},
   "outputs": [
    {
     "name": "stdout",
     "output_type": "stream",
     "text": [
      "1 24\n",
      "2 266\n",
      "3 2205\n",
      "4 19716\n",
      "5 174363\n"
     ]
    }
   ],
   "source": [
    "# Number of metapaths by length\n",
    "for i in range(1, 6):\n",
    "    metapaths = metagraph.extract_all_metapaths(i, exclude_inverts=True)\n",
    "    print(i, len(metapaths))"
   ]
  },
  {
   "cell_type": "markdown",
   "metadata": {},
   "source": [
    "## Paths up to length 4"
   ]
  },
  {
   "cell_type": "code",
   "execution_count": 4,
   "metadata": {},
   "outputs": [
    {
     "data": {
      "text/plain": [
       "19716"
      ]
     },
     "execution_count": 4,
     "metadata": {},
     "output_type": "execute_result"
    }
   ],
   "source": [
    "metapaths = metagraph.extract_all_metapaths(4, exclude_inverts=True)\n",
    "\n",
    "len(metapaths)"
   ]
  },
  {
   "cell_type": "code",
   "execution_count": 5,
   "metadata": {},
   "outputs": [],
   "source": [
    "metanodes = list(set([metapath.source() for metapath in metapaths]))"
   ]
  },
  {
   "cell_type": "code",
   "execution_count": 6,
   "metadata": {},
   "outputs": [],
   "source": [
    "metanode_size_dict = {node: len(list(get_node_to_position(graph, node))) for node in metanodes}"
   ]
  },
  {
   "cell_type": "code",
   "execution_count": 7,
   "metadata": {},
   "outputs": [],
   "source": [
    "metapaths_df = pd.DataFrame({'metapath': metapaths})"
   ]
  },
  {
   "cell_type": "code",
   "execution_count": 8,
   "metadata": {},
   "outputs": [],
   "source": [
    "metapaths_df['source'] = metapaths_df['metapath'].apply(lambda x: x.source())\n",
    "metapaths_df['source_size'] = metapaths_df['source'].apply(lambda x: metanode_size_dict[x])"
   ]
  },
  {
   "cell_type": "code",
   "execution_count": 9,
   "metadata": {},
   "outputs": [],
   "source": [
    "metapaths_df['target'] = metapaths_df['metapath'].apply(lambda x: x.target())\n",
    "metapaths_df['target_size'] = metapaths_df['target'].apply(lambda x: metanode_size_dict[x])"
   ]
  },
  {
   "cell_type": "code",
   "execution_count": 10,
   "metadata": {},
   "outputs": [],
   "source": [
    "metapaths_df['array_size'] = metapaths_df['source_size'] * metapaths_df['target_size']"
   ]
  },
  {
   "cell_type": "code",
   "execution_count": 11,
   "metadata": {},
   "outputs": [
    {
     "data": {
      "text/html": [
       "<div>\n",
       "<style scoped>\n",
       "    .dataframe tbody tr th:only-of-type {\n",
       "        vertical-align: middle;\n",
       "    }\n",
       "\n",
       "    .dataframe tbody tr th {\n",
       "        vertical-align: top;\n",
       "    }\n",
       "\n",
       "    .dataframe thead th {\n",
       "        text-align: right;\n",
       "    }\n",
       "</style>\n",
       "<table border=\"1\" class=\"dataframe\">\n",
       "  <thead>\n",
       "    <tr style=\"text-align: right;\">\n",
       "      <th></th>\n",
       "      <th>metapath</th>\n",
       "      <th>source</th>\n",
       "      <th>source_size</th>\n",
       "      <th>target</th>\n",
       "      <th>target_size</th>\n",
       "      <th>array_size</th>\n",
       "    </tr>\n",
       "  </thead>\n",
       "  <tbody>\n",
       "    <tr>\n",
       "      <th>0</th>\n",
       "      <td>(Symptom - presents - Disease)</td>\n",
       "      <td>Symptom</td>\n",
       "      <td>438</td>\n",
       "      <td>Disease</td>\n",
       "      <td>137</td>\n",
       "      <td>60006</td>\n",
       "    </tr>\n",
       "    <tr>\n",
       "      <th>1</th>\n",
       "      <td>(Symptom - presents - Disease, Disease - treat...</td>\n",
       "      <td>Symptom</td>\n",
       "      <td>438</td>\n",
       "      <td>Compound</td>\n",
       "      <td>1552</td>\n",
       "      <td>679776</td>\n",
       "    </tr>\n",
       "    <tr>\n",
       "      <th>2</th>\n",
       "      <td>(Symptom - presents - Disease, Disease - assoc...</td>\n",
       "      <td>Symptom</td>\n",
       "      <td>438</td>\n",
       "      <td>Gene</td>\n",
       "      <td>20945</td>\n",
       "      <td>9173910</td>\n",
       "    </tr>\n",
       "    <tr>\n",
       "      <th>3</th>\n",
       "      <td>(Symptom - presents - Disease, Disease - palli...</td>\n",
       "      <td>Symptom</td>\n",
       "      <td>438</td>\n",
       "      <td>Compound</td>\n",
       "      <td>1552</td>\n",
       "      <td>679776</td>\n",
       "    </tr>\n",
       "    <tr>\n",
       "      <th>4</th>\n",
       "      <td>(Symptom - presents - Disease, Disease - resem...</td>\n",
       "      <td>Symptom</td>\n",
       "      <td>438</td>\n",
       "      <td>Disease</td>\n",
       "      <td>137</td>\n",
       "      <td>60006</td>\n",
       "    </tr>\n",
       "  </tbody>\n",
       "</table>\n",
       "</div>"
      ],
      "text/plain": [
       "                                            metapath   source  source_size  \\\n",
       "0                     (Symptom - presents - Disease)  Symptom          438   \n",
       "1  (Symptom - presents - Disease, Disease - treat...  Symptom          438   \n",
       "2  (Symptom - presents - Disease, Disease - assoc...  Symptom          438   \n",
       "3  (Symptom - presents - Disease, Disease - palli...  Symptom          438   \n",
       "4  (Symptom - presents - Disease, Disease - resem...  Symptom          438   \n",
       "\n",
       "     target  target_size  array_size  \n",
       "0   Disease          137       60006  \n",
       "1  Compound         1552      679776  \n",
       "2      Gene        20945     9173910  \n",
       "3  Compound         1552      679776  \n",
       "4   Disease          137       60006  "
      ]
     },
     "execution_count": 11,
     "metadata": {},
     "output_type": "execute_result"
    }
   ],
   "source": [
    "metapaths_df.head()"
   ]
  },
  {
   "cell_type": "code",
   "execution_count": 12,
   "metadata": {
    "scrolled": true
   },
   "outputs": [
    {
     "data": {
      "text/html": [
       "<div>\n",
       "<style scoped>\n",
       "    .dataframe tbody tr th:only-of-type {\n",
       "        vertical-align: middle;\n",
       "    }\n",
       "\n",
       "    .dataframe tbody tr th {\n",
       "        vertical-align: top;\n",
       "    }\n",
       "\n",
       "    .dataframe thead th {\n",
       "        text-align: right;\n",
       "    }\n",
       "</style>\n",
       "<table border=\"1\" class=\"dataframe\">\n",
       "  <thead>\n",
       "    <tr style=\"text-align: right;\">\n",
       "      <th></th>\n",
       "      <th>metapath</th>\n",
       "      <th>source</th>\n",
       "      <th>source_size</th>\n",
       "      <th>target</th>\n",
       "      <th>target_size</th>\n",
       "      <th>array_size</th>\n",
       "    </tr>\n",
       "  </thead>\n",
       "  <tbody>\n",
       "    <tr>\n",
       "      <th>13680</th>\n",
       "      <td>(Gene - downregulates - Compound, Compound - d...</td>\n",
       "      <td>Gene</td>\n",
       "      <td>20945</td>\n",
       "      <td>Gene</td>\n",
       "      <td>20945</td>\n",
       "      <td>438693025</td>\n",
       "    </tr>\n",
       "    <tr>\n",
       "      <th>13163</th>\n",
       "      <td>(Gene &gt; regulates &gt; Gene, Gene - interacts - G...</td>\n",
       "      <td>Gene</td>\n",
       "      <td>20945</td>\n",
       "      <td>Gene</td>\n",
       "      <td>20945</td>\n",
       "      <td>438693025</td>\n",
       "    </tr>\n",
       "    <tr>\n",
       "      <th>13184</th>\n",
       "      <td>(Gene &gt; regulates &gt; Gene, Gene - downregulates...</td>\n",
       "      <td>Gene</td>\n",
       "      <td>20945</td>\n",
       "      <td>Gene</td>\n",
       "      <td>20945</td>\n",
       "      <td>438693025</td>\n",
       "    </tr>\n",
       "    <tr>\n",
       "      <th>13181</th>\n",
       "      <td>(Gene &gt; regulates &gt; Gene, Gene - interacts - G...</td>\n",
       "      <td>Gene</td>\n",
       "      <td>20945</td>\n",
       "      <td>Gene</td>\n",
       "      <td>20945</td>\n",
       "      <td>438693025</td>\n",
       "    </tr>\n",
       "    <tr>\n",
       "      <th>13180</th>\n",
       "      <td>(Gene &gt; regulates &gt; Gene, Gene - interacts - G...</td>\n",
       "      <td>Gene</td>\n",
       "      <td>20945</td>\n",
       "      <td>Gene</td>\n",
       "      <td>20945</td>\n",
       "      <td>438693025</td>\n",
       "    </tr>\n",
       "  </tbody>\n",
       "</table>\n",
       "</div>"
      ],
      "text/plain": [
       "                                                metapath source  source_size  \\\n",
       "13680  (Gene - downregulates - Compound, Compound - d...   Gene        20945   \n",
       "13163  (Gene > regulates > Gene, Gene - interacts - G...   Gene        20945   \n",
       "13184  (Gene > regulates > Gene, Gene - downregulates...   Gene        20945   \n",
       "13181  (Gene > regulates > Gene, Gene - interacts - G...   Gene        20945   \n",
       "13180  (Gene > regulates > Gene, Gene - interacts - G...   Gene        20945   \n",
       "\n",
       "      target  target_size  array_size  \n",
       "13680   Gene        20945   438693025  \n",
       "13163   Gene        20945   438693025  \n",
       "13184   Gene        20945   438693025  \n",
       "13181   Gene        20945   438693025  \n",
       "13180   Gene        20945   438693025  "
      ]
     },
     "execution_count": 12,
     "metadata": {},
     "output_type": "execute_result"
    }
   ],
   "source": [
    "metapaths_df.sort_values(by='array_size', ascending=False).head()"
   ]
  },
  {
   "cell_type": "code",
   "execution_count": 13,
   "metadata": {},
   "outputs": [
    {
     "data": {
      "text/plain": [
       "61573118.349969566"
      ]
     },
     "execution_count": 13,
     "metadata": {},
     "output_type": "execute_result"
    }
   ],
   "source": [
    "# Average array size (number of numbers)\n",
    "metapaths_df['array_size'].mean()"
   ]
  },
  {
   "cell_type": "code",
   "execution_count": 14,
   "metadata": {},
   "outputs": [
    {
     "data": {
      "text/plain": [
       "'1,213,975,594,488'"
      ]
     },
     "execution_count": 14,
     "metadata": {},
     "output_type": "execute_result"
    }
   ],
   "source": [
    "# Total number of numbers to be stored\n",
    "# Average size * number of arrays number of numbers must be stored\n",
    "\"{:,}\".format(61573118 * 19716)"
   ]
  },
  {
   "cell_type": "markdown",
   "metadata": {},
   "source": [
    "# Representative matrices\n",
    "\n",
    "## Largest matrices\n",
    "G---G. ~ 20,000 x 20,000 = 400,000,000 numbers"
   ]
  },
  {
   "cell_type": "code",
   "execution_count": 2,
   "metadata": {},
   "outputs": [],
   "source": [
    "random_array = np.random.rand(20000, 20000)\n",
    "random_array[random_array > 0.3] = 0\n",
    "\n",
    "np.save('test_large_array.npy', random_array)\n",
    "\n",
    "sparse_array = sparse.csc_matrix(random_array)\n",
    "sparse.save_npz('test_sparse_large_array.npz', sparse_array)\n",
    "\n",
    "log_array = np.log1p(random_array)\n",
    "np.save('test_log1p.npy', log_array)\n",
    "\n",
    "del random_array, sparse_array, log_array"
   ]
  },
  {
   "cell_type": "code",
   "execution_count": 19,
   "metadata": {
    "scrolled": true
   },
   "outputs": [
    {
     "name": "stdout",
     "output_type": "stream",
     "text": [
      " Dense: 3200 MB\n",
      " Sparse: 1115 MB\n",
      " Log1p: 3200 MB\n"
     ]
    }
   ],
   "source": [
    "print(f\" Dense: {os.path.getsize('test_large_array.npy') / 1000000 :.4g} MB\\n\",\n",
    "      f\"Sparse: {os.path.getsize('test_sparse_large_array.npz') / 1000000 :.4g} MB\\n\",\n",
    "      f\"Log1p: {os.path.getsize('test_log1p.npy') / 1000000 :.4g} MB\")"
   ]
  },
  {
   "cell_type": "code",
   "execution_count": 5,
   "metadata": {},
   "outputs": [
    {
     "data": {
      "text/plain": [
       "'400,000,000'"
      ]
     },
     "execution_count": 5,
     "metadata": {},
     "output_type": "execute_result"
    }
   ],
   "source": [
    "\"{:,}\".format(20000**2)"
   ]
  },
  {
   "cell_type": "markdown",
   "metadata": {},
   "source": [
    "400 million numbers requires 3200 MB on disk in the dense .npy format we use"
   ]
  },
  {
   "cell_type": "markdown",
   "metadata": {},
   "source": [
    "## Average matrix \n",
    "61573118 numbers or ~ 7847 x 7847"
   ]
  },
  {
   "cell_type": "code",
   "execution_count": 10,
   "metadata": {},
   "outputs": [
    {
     "data": {
      "text/plain": [
       "'61,573,118'"
      ]
     },
     "execution_count": 10,
     "metadata": {},
     "output_type": "execute_result"
    }
   ],
   "source": [
    "\"{:,}\".format(61573118)"
   ]
  },
  {
   "cell_type": "code",
   "execution_count": 11,
   "metadata": {},
   "outputs": [],
   "source": [
    "random_array = np.random.rand(7847, 7847)\n",
    "random_array[random_array > 0.3] = 0\n",
    "\n",
    "np.save('test_avgerage_array.npy', random_array)\n",
    "\n",
    "sparse_array = sparse.csc_matrix(random_array)\n",
    "sparse.save_npz('test_sparse_average_array.npz', sparse_array)\n",
    "\n",
    "del random_array, sparse_array"
   ]
  },
  {
   "cell_type": "code",
   "execution_count": 12,
   "metadata": {},
   "outputs": [
    {
     "name": "stdout",
     "output_type": "stream",
     "text": [
      "Dense: 492.6 MB\n",
      "Sparse: 171.3 MB\n"
     ]
    }
   ],
   "source": [
    "print(f\"Dense: {os.path.getsize('test_avgerage_array.npy') / 1000000 :.4g}\", 'MB')\n",
    "print(f\"Sparse: {os.path.getsize('test_sparse_average_array.npz') / 1000000 :.4g}\", 'MB')"
   ]
  },
  {
   "cell_type": "markdown",
   "metadata": {},
   "source": [
    "An average matrix requires almost 500 megabytes. With 19716 such matrices, this would be nearly 10 million megabytes, or 10 terabytes"
   ]
  },
  {
   "cell_type": "code",
   "execution_count": 14,
   "metadata": {},
   "outputs": [
    {
     "data": {
      "text/plain": [
       "'9,858,000'"
      ]
     },
     "execution_count": 14,
     "metadata": {},
     "output_type": "execute_result"
    }
   ],
   "source": [
    "\"{:,}\".format(19716 * 500)"
   ]
  },
  {
   "cell_type": "markdown",
   "metadata": {},
   "source": [
    "## Sparse matrices\n",
    "\n",
    "To make similar estimates for sparse matrices, we first need to know the average density of all matrices, and especially whether the densities correlate with size in some way. See `average-density.ipynb`"
   ]
  },
  {
   "cell_type": "markdown",
   "metadata": {},
   "source": [
    "## Density of biggest matrices\n",
    "\n",
    "Estimate the average density by taking a random sample of 10 G-G metapath matrices"
   ]
  },
  {
   "cell_type": "code",
   "execution_count": 22,
   "metadata": {
    "scrolled": true
   },
   "outputs": [
    {
     "data": {
      "text/plain": [
       "(2071, 6)"
      ]
     },
     "execution_count": 22,
     "metadata": {},
     "output_type": "execute_result"
    }
   ],
   "source": [
    "metapaths_df[metapaths_df['array_size'] == 438693025].shape"
   ]
  },
  {
   "cell_type": "code",
   "execution_count": 78,
   "metadata": {},
   "outputs": [],
   "source": [
    "random_indices = np.random.randint(low=0, high=2070, size=20)\n",
    "\n",
    "random_metapaths = list(metapaths_df[metapaths_df['array_size'] == 438693025].iloc[random_indices, 0])"
   ]
  },
  {
   "cell_type": "code",
   "execution_count": 79,
   "metadata": {
    "scrolled": true
   },
   "outputs": [
    {
     "data": {
      "text/plain": [
       "[GaDtCpDaG,\n",
       " GaDuGbCbG,\n",
       " GaDpCbGiG,\n",
       " Gr>Gr>GuDaG,\n",
       " GaDuGuAeG,\n",
       " GdDuGdCbG,\n",
       " GiGiGeAeG,\n",
       " GaDuGpMFpG,\n",
       " GiGr>GeAeG,\n",
       " GdCdGaDuG,\n",
       " GdCpDuGr>G,\n",
       " GdCpDuG,\n",
       " G<rGdAlDuG,\n",
       " G<rGuDrDuG,\n",
       " GiGcGbCbG,\n",
       " GdCtDtCuG,\n",
       " GiGeAeGr>G,\n",
       " GpCCpGeAeG,\n",
       " GiGdAdG,\n",
       " GdCbGdAeG]"
      ]
     },
     "execution_count": 79,
     "metadata": {},
     "output_type": "execute_result"
    }
   ],
   "source": [
    "random_metapaths"
   ]
  },
  {
   "cell_type": "code",
   "execution_count": 80,
   "metadata": {},
   "outputs": [
    {
     "name": "stdout",
     "output_type": "stream",
     "text": [
      "GaDtCpDaG\n",
      "GaDuGbCbG\n",
      "GaDpCbGiG\n",
      "Gr>Gr>GuDaG\n",
      "passed Gr>Gr>GuDaG\n",
      "GaDuGuAeG\n",
      "GdDuGdCbG\n",
      "GiGiGeAeG\n",
      "passed GiGiGeAeG\n",
      "GaDuGpMFpG\n",
      "GiGr>GeAeG\n",
      "passed GiGr>GeAeG\n",
      "GdCdGaDuG\n",
      "GdCpDuGr>G\n",
      "GdCpDuG\n",
      "G<rGdAlDuG\n",
      "G<rGuDrDuG\n",
      "passed G<rGuDrDuG\n",
      "GiGcGbCbG\n",
      "passed GiGcGbCbG\n",
      "GdCtDtCuG\n",
      "GiGeAeGr>G\n",
      "passed GiGeAeGr>G\n",
      "GpCCpGeAeG\n",
      "GiGdAdG\n",
      "GdCbGdAeG\n"
     ]
    }
   ],
   "source": [
    "densities = []\n",
    "for path in random_metapaths:\n",
    "    try:\n",
    "        print(path)\n",
    "        row, col, dwpc_matrix, time = dwpc(graph, path, dense_threshold=1)\n",
    "        density = (dwpc_matrix != 0).sum() / 438693025\n",
    "        del row, col, dwpc_matrix, time\n",
    "        densities.append([path, density])\n",
    "    except:\n",
    "        print('passed', path)\n",
    "        pass"
   ]
  },
  {
   "cell_type": "code",
   "execution_count": 81,
   "metadata": {},
   "outputs": [
    {
     "data": {
      "text/plain": [
       "[[GaDtCpDaG, 0.007472389149565348],\n",
       " [GaDuGbCbG, 0.00575155941902655],\n",
       " [GaDpCbGiG, 0.009089813999208217],\n",
       " [GaDuGuAeG, 0.16468001058371057],\n",
       " [GdDuGdCbG, 0.009097929013118],\n",
       " [GaDuGpMFpG, 0.10395168466606006],\n",
       " [GdCdGaDuG, 0.029012134396255787],\n",
       " [GdCpDuGr>G, 0.0046526976352085836],\n",
       " [GdCpDuG, 0.0009227340689996154],\n",
       " [G<rGdAlDuG, 0.07275307830572414],\n",
       " [GdCtDtCuG, 0.00854955694816438],\n",
       " [GpCCpGeAeG, 0.4362457734540001],\n",
       " [GiGdAdG, 0.4701020263543055],\n",
       " [GdCbGdAeG, 0.11449886398353382]]"
      ]
     },
     "execution_count": 81,
     "metadata": {},
     "output_type": "execute_result"
    }
   ],
   "source": [
    "densities"
   ]
  },
  {
   "cell_type": "code",
   "execution_count": 82,
   "metadata": {},
   "outputs": [
    {
     "data": {
      "text/plain": [
       "0.10262716085549148"
      ]
     },
     "execution_count": 82,
     "metadata": {},
     "output_type": "execute_result"
    }
   ],
   "source": [
    "densities = np.array(densities)\n",
    "np.mean(densities[:, 1])"
   ]
  },
  {
   "cell_type": "markdown",
   "metadata": {},
   "source": [
    "### Very low density example"
   ]
  },
  {
   "cell_type": "code",
   "execution_count": 84,
   "metadata": {},
   "outputs": [],
   "source": [
    "row, col, dwpc_matrix, time = dwpc(graph, random_metapaths[11], dense_threshold=1)\n",
    "sparse.save_npz(f'sparse_{random_metapaths[11]}.npz', dwpc_matrix)\n",
    "np.save(f'dense_{random_metapaths[11]}.npy', dwpc_matrix.toarray())\n",
    "del dwpc_matrix"
   ]
  },
  {
   "cell_type": "code",
   "execution_count": 85,
   "metadata": {},
   "outputs": [
    {
     "name": "stdout",
     "output_type": "stream",
     "text": [
      "Dense: 3510 MB\n",
      "Sparse: 0.7248 MB\n"
     ]
    }
   ],
   "source": [
    "print(f\"Dense: {os.path.getsize('dense_GdCpDuG.npy') / 1000000 :.4g}\", 'MB')\n",
    "print(f\"Sparse: {os.path.getsize('sparse_GdCpDuG.npz') / 1000000 :.4g}\", 'MB')"
   ]
  }
 ],
 "metadata": {
  "kernelspec": {
   "display_name": "Python [conda env:hetmech]",
   "language": "python",
   "name": "conda-env-hetmech-py"
  },
  "language_info": {
   "codemirror_mode": {
    "name": "ipython",
    "version": 3
   },
   "file_extension": ".py",
   "mimetype": "text/x-python",
   "name": "python",
   "nbconvert_exporter": "python",
   "pygments_lexer": "ipython3",
   "version": "3.6.4"
  }
 },
 "nbformat": 4,
 "nbformat_minor": 2
}
