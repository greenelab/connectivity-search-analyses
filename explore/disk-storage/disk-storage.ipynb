{
 "cells": [
  {
   "cell_type": "code",
   "execution_count": 1,
   "metadata": {},
   "outputs": [],
   "source": [
    "import pandas as pd\n",
    "import numpy as np\n",
    "from scipy import sparse\n",
    "from neo4j.v1 import GraphDatabase\n",
    "import sys\n",
    "import os\n",
    "import hetio.readwrite\n",
    "import hetio.neo4j\n",
    "import hetio.pathtools\n",
    "from hetio.matrix import metaedge_to_adjacency_matrix, get_node_to_position"
   ]
  },
  {
   "cell_type": "code",
   "execution_count": 2,
   "metadata": {},
   "outputs": [],
   "source": [
    "sys.path.insert(0,'../../')\n",
    "from hetmech.degree_weight import dwpc"
   ]
  },
  {
   "cell_type": "code",
   "execution_count": 3,
   "metadata": {},
   "outputs": [],
   "source": [
    "url = 'https://github.com/dhimmel/hetionet/raw/76550e6c93fbe92124edc71725e8c7dd4ca8b1f5/hetnet/json/hetionet-v1.0.json.bz2'\n",
    "graph = hetio.readwrite.read_graph(url)\n",
    "metagraph = graph.metagraph"
   ]
  },
  {
   "cell_type": "markdown",
   "metadata": {},
   "source": [
    "## Paths up to length 4"
   ]
  },
  {
   "cell_type": "code",
   "execution_count": 4,
   "metadata": {},
   "outputs": [
    {
     "data": {
      "text/plain": [
       "19716"
      ]
     },
     "execution_count": 4,
     "metadata": {},
     "output_type": "execute_result"
    }
   ],
   "source": [
    "metapaths = metagraph.extract_all_metapaths(4, exclude_inverts=True)\n",
    "\n",
    "len(metapaths)"
   ]
  },
  {
   "cell_type": "code",
   "execution_count": 13,
   "metadata": {},
   "outputs": [],
   "source": [
    "metanodes = list(set([metapath.source() for metapath in metapaths]))"
   ]
  },
  {
   "cell_type": "code",
   "execution_count": 26,
   "metadata": {},
   "outputs": [],
   "source": [
    "metanode_size_dict = {node: len(list(get_node_to_position(graph, node))) for node in metanodes}"
   ]
  },
  {
   "cell_type": "code",
   "execution_count": 29,
   "metadata": {},
   "outputs": [],
   "source": [
    "metapaths_df = pd.DataFrame({'metapath': metapaths})"
   ]
  },
  {
   "cell_type": "code",
   "execution_count": 30,
   "metadata": {},
   "outputs": [],
   "source": [
    "metapaths_df['source'] = metapaths_df['metapath'].apply(lambda x: x.source())\n",
    "metapaths_df['source_size'] = metapaths_df['source'].apply(lambda x: metanode_size_dict[x])"
   ]
  },
  {
   "cell_type": "code",
   "execution_count": 34,
   "metadata": {},
   "outputs": [],
   "source": [
    "metapaths_df['target'] = metapaths_df['metapath'].apply(lambda x: x.target())\n",
    "metapaths_df['target_size'] = metapaths_df['target'].apply(lambda x: metanode_size_dict[x])"
   ]
  },
  {
   "cell_type": "code",
   "execution_count": 36,
   "metadata": {},
   "outputs": [],
   "source": [
    "metapaths_df['array_size'] = metapaths_df['source_size'] * metapaths_df['target_size']"
   ]
  },
  {
   "cell_type": "code",
   "execution_count": 38,
   "metadata": {},
   "outputs": [
    {
     "data": {
      "text/html": [
       "<div>\n",
       "<style scoped>\n",
       "    .dataframe tbody tr th:only-of-type {\n",
       "        vertical-align: middle;\n",
       "    }\n",
       "\n",
       "    .dataframe tbody tr th {\n",
       "        vertical-align: top;\n",
       "    }\n",
       "\n",
       "    .dataframe thead th {\n",
       "        text-align: right;\n",
       "    }\n",
       "</style>\n",
       "<table border=\"1\" class=\"dataframe\">\n",
       "  <thead>\n",
       "    <tr style=\"text-align: right;\">\n",
       "      <th></th>\n",
       "      <th>metapath</th>\n",
       "      <th>source</th>\n",
       "      <th>source_size</th>\n",
       "      <th>target</th>\n",
       "      <th>target_size</th>\n",
       "      <th>array_size</th>\n",
       "    </tr>\n",
       "  </thead>\n",
       "  <tbody>\n",
       "    <tr>\n",
       "      <th>0</th>\n",
       "      <td>(Disease - upregulates - Gene)</td>\n",
       "      <td>Disease</td>\n",
       "      <td>137</td>\n",
       "      <td>Gene</td>\n",
       "      <td>20945</td>\n",
       "      <td>2869465</td>\n",
       "    </tr>\n",
       "    <tr>\n",
       "      <th>1</th>\n",
       "      <td>(Disease - palliates - Compound)</td>\n",
       "      <td>Disease</td>\n",
       "      <td>137</td>\n",
       "      <td>Compound</td>\n",
       "      <td>1552</td>\n",
       "      <td>212624</td>\n",
       "    </tr>\n",
       "    <tr>\n",
       "      <th>2</th>\n",
       "      <td>(Disease - presents - Symptom)</td>\n",
       "      <td>Disease</td>\n",
       "      <td>137</td>\n",
       "      <td>Symptom</td>\n",
       "      <td>438</td>\n",
       "      <td>60006</td>\n",
       "    </tr>\n",
       "    <tr>\n",
       "      <th>3</th>\n",
       "      <td>(Disease - downregulates - Gene)</td>\n",
       "      <td>Disease</td>\n",
       "      <td>137</td>\n",
       "      <td>Gene</td>\n",
       "      <td>20945</td>\n",
       "      <td>2869465</td>\n",
       "    </tr>\n",
       "    <tr>\n",
       "      <th>4</th>\n",
       "      <td>(Disease - resembles - Disease)</td>\n",
       "      <td>Disease</td>\n",
       "      <td>137</td>\n",
       "      <td>Disease</td>\n",
       "      <td>137</td>\n",
       "      <td>18769</td>\n",
       "    </tr>\n",
       "  </tbody>\n",
       "</table>\n",
       "</div>"
      ],
      "text/plain": [
       "                           metapath   source  source_size    target  \\\n",
       "0    (Disease - upregulates - Gene)  Disease          137      Gene   \n",
       "1  (Disease - palliates - Compound)  Disease          137  Compound   \n",
       "2    (Disease - presents - Symptom)  Disease          137   Symptom   \n",
       "3  (Disease - downregulates - Gene)  Disease          137      Gene   \n",
       "4   (Disease - resembles - Disease)  Disease          137   Disease   \n",
       "\n",
       "   target_size  array_size  \n",
       "0        20945     2869465  \n",
       "1         1552      212624  \n",
       "2          438       60006  \n",
       "3        20945     2869465  \n",
       "4          137       18769  "
      ]
     },
     "execution_count": 38,
     "metadata": {},
     "output_type": "execute_result"
    }
   ],
   "source": [
    "metapaths_df.head()"
   ]
  },
  {
   "cell_type": "code",
   "execution_count": 44,
   "metadata": {
    "scrolled": true
   },
   "outputs": [
    {
     "data": {
      "text/html": [
       "<div>\n",
       "<style scoped>\n",
       "    .dataframe tbody tr th:only-of-type {\n",
       "        vertical-align: middle;\n",
       "    }\n",
       "\n",
       "    .dataframe tbody tr th {\n",
       "        vertical-align: top;\n",
       "    }\n",
       "\n",
       "    .dataframe thead th {\n",
       "        text-align: right;\n",
       "    }\n",
       "</style>\n",
       "<table border=\"1\" class=\"dataframe\">\n",
       "  <thead>\n",
       "    <tr style=\"text-align: right;\">\n",
       "      <th></th>\n",
       "      <th>metapath</th>\n",
       "      <th>source</th>\n",
       "      <th>source_size</th>\n",
       "      <th>target</th>\n",
       "      <th>target_size</th>\n",
       "      <th>array_size</th>\n",
       "    </tr>\n",
       "  </thead>\n",
       "  <tbody>\n",
       "    <tr>\n",
       "      <th>14236</th>\n",
       "      <td>(Gene - covaries - Gene, Gene &lt; regulates &lt; Ge...</td>\n",
       "      <td>Gene</td>\n",
       "      <td>20945</td>\n",
       "      <td>Gene</td>\n",
       "      <td>20945</td>\n",
       "      <td>438693025</td>\n",
       "    </tr>\n",
       "    <tr>\n",
       "      <th>17395</th>\n",
       "      <td>(Gene &lt; regulates &lt; Gene, Gene - interacts - G...</td>\n",
       "      <td>Gene</td>\n",
       "      <td>20945</td>\n",
       "      <td>Gene</td>\n",
       "      <td>20945</td>\n",
       "      <td>438693025</td>\n",
       "    </tr>\n",
       "    <tr>\n",
       "      <th>17401</th>\n",
       "      <td>(Gene &lt; regulates &lt; Gene, Gene - interacts - G...</td>\n",
       "      <td>Gene</td>\n",
       "      <td>20945</td>\n",
       "      <td>Gene</td>\n",
       "      <td>20945</td>\n",
       "      <td>438693025</td>\n",
       "    </tr>\n",
       "    <tr>\n",
       "      <th>17400</th>\n",
       "      <td>(Gene &lt; regulates &lt; Gene, Gene - interacts - G...</td>\n",
       "      <td>Gene</td>\n",
       "      <td>20945</td>\n",
       "      <td>Gene</td>\n",
       "      <td>20945</td>\n",
       "      <td>438693025</td>\n",
       "    </tr>\n",
       "    <tr>\n",
       "      <th>17399</th>\n",
       "      <td>(Gene &lt; regulates &lt; Gene, Gene - interacts - G...</td>\n",
       "      <td>Gene</td>\n",
       "      <td>20945</td>\n",
       "      <td>Gene</td>\n",
       "      <td>20945</td>\n",
       "      <td>438693025</td>\n",
       "    </tr>\n",
       "  </tbody>\n",
       "</table>\n",
       "</div>"
      ],
      "text/plain": [
       "                                                metapath source  source_size  \\\n",
       "14236  (Gene - covaries - Gene, Gene < regulates < Ge...   Gene        20945   \n",
       "17395  (Gene < regulates < Gene, Gene - interacts - G...   Gene        20945   \n",
       "17401  (Gene < regulates < Gene, Gene - interacts - G...   Gene        20945   \n",
       "17400  (Gene < regulates < Gene, Gene - interacts - G...   Gene        20945   \n",
       "17399  (Gene < regulates < Gene, Gene - interacts - G...   Gene        20945   \n",
       "\n",
       "      target  target_size  array_size  \n",
       "14236   Gene        20945   438693025  \n",
       "17395   Gene        20945   438693025  \n",
       "17401   Gene        20945   438693025  \n",
       "17400   Gene        20945   438693025  \n",
       "17399   Gene        20945   438693025  "
      ]
     },
     "execution_count": 44,
     "metadata": {},
     "output_type": "execute_result"
    }
   ],
   "source": [
    "metapaths_df.sort_values(by='array_size', ascending=False).head()"
   ]
  },
  {
   "cell_type": "code",
   "execution_count": 45,
   "metadata": {},
   "outputs": [
    {
     "data": {
      "text/plain": [
       "61573118.349969566"
      ]
     },
     "execution_count": 45,
     "metadata": {},
     "output_type": "execute_result"
    }
   ],
   "source": [
    "# Average array size (number of numbers)\n",
    "metapaths_df['array_size'].mean()"
   ]
  },
  {
   "cell_type": "code",
   "execution_count": 20,
   "metadata": {},
   "outputs": [
    {
     "data": {
      "text/plain": [
       "'1,213,975,594,488'"
      ]
     },
     "execution_count": 20,
     "metadata": {},
     "output_type": "execute_result"
    }
   ],
   "source": [
    "# Total number of numbers to be stored\n",
    "# Average size * number of arrays number of numbers must be stored\n",
    "\"{:,}\".format(61573118 * 19716)"
   ]
  },
  {
   "cell_type": "markdown",
   "metadata": {},
   "source": [
    "# Representative matrices\n",
    "\n",
    "## Largest matrices\n",
    "G---G. ~ 20,000 x 20,000 = 400,000,000 numbers"
   ]
  },
  {
   "cell_type": "code",
   "execution_count": 2,
   "metadata": {},
   "outputs": [],
   "source": [
    "random_array = np.random.rand(20000, 20000)\n",
    "random_array[random_array > 0.3] = 0\n",
    "\n",
    "np.save('test_large_array.npy', random_array)\n",
    "\n",
    "sparse_array = sparse.csc_matrix(random_array)\n",
    "sparse.save_npz('test_sparse_large_array.npz', sparse_array)\n",
    "\n",
    "log_array = np.log1p(random_array)\n",
    "np.save('test_log1p.npy', log_array)\n",
    "\n",
    "del random_array, sparse_array, log_array"
   ]
  },
  {
   "cell_type": "code",
   "execution_count": 19,
   "metadata": {
    "scrolled": true
   },
   "outputs": [
    {
     "name": "stdout",
     "output_type": "stream",
     "text": [
      " Dense: 3200 MB\n",
      " Sparse: 1115 MB\n",
      " Log1p: 3200 MB\n"
     ]
    }
   ],
   "source": [
    "print(f\" Dense: {os.path.getsize('test_large_array.npy') / 1000000 :.4g} MB\\n\",\n",
    "      f\"Sparse: {os.path.getsize('test_sparse_large_array.npz') / 1000000 :.4g} MB\\n\",\n",
    "      f\"Log1p: {os.path.getsize('test_log1p.npy') / 1000000 :.4g} MB\")"
   ]
  },
  {
   "cell_type": "code",
   "execution_count": 5,
   "metadata": {},
   "outputs": [
    {
     "data": {
      "text/plain": [
       "'400,000,000'"
      ]
     },
     "execution_count": 5,
     "metadata": {},
     "output_type": "execute_result"
    }
   ],
   "source": [
    "\"{:,}\".format(20000**2)"
   ]
  },
  {
   "cell_type": "markdown",
   "metadata": {},
   "source": [
    "400 million numbers requires 3200 MB on disk in the dense .npy format we use"
   ]
  },
  {
   "cell_type": "markdown",
   "metadata": {},
   "source": [
    "## Average matrix \n",
    "61573118 numbers or ~ 7847 x 7847"
   ]
  },
  {
   "cell_type": "code",
   "execution_count": 10,
   "metadata": {},
   "outputs": [
    {
     "data": {
      "text/plain": [
       "'61,573,118'"
      ]
     },
     "execution_count": 10,
     "metadata": {},
     "output_type": "execute_result"
    }
   ],
   "source": [
    "\"{:,}\".format(61573118)"
   ]
  },
  {
   "cell_type": "code",
   "execution_count": 11,
   "metadata": {},
   "outputs": [],
   "source": [
    "random_array = np.random.rand(7847, 7847)\n",
    "random_array[random_array > 0.3] = 0\n",
    "\n",
    "np.save('test_avgerage_array.npy', random_array)\n",
    "\n",
    "sparse_array = sparse.csc_matrix(random_array)\n",
    "sparse.save_npz('test_sparse_average_array.npz', sparse_array)\n",
    "\n",
    "del random_array, sparse_array"
   ]
  },
  {
   "cell_type": "code",
   "execution_count": 12,
   "metadata": {},
   "outputs": [
    {
     "name": "stdout",
     "output_type": "stream",
     "text": [
      "Dense: 492.6 MB\n",
      "Sparse: 171.3 MB\n"
     ]
    }
   ],
   "source": [
    "print(f\"Dense: {os.path.getsize('test_avgerage_array.npy') / 1000000 :.4g}\", 'MB')\n",
    "print(f\"Sparse: {os.path.getsize('test_sparse_average_array.npz') / 1000000 :.4g}\", 'MB')"
   ]
  },
  {
   "cell_type": "markdown",
   "metadata": {},
   "source": [
    "An average matrix requires almost 500 megabytes. With 19716 such matrices, this would be nearly 10 million megabytes, or 10 terabytes"
   ]
  },
  {
   "cell_type": "code",
   "execution_count": 14,
   "metadata": {},
   "outputs": [
    {
     "data": {
      "text/plain": [
       "'9,858,000'"
      ]
     },
     "execution_count": 14,
     "metadata": {},
     "output_type": "execute_result"
    }
   ],
   "source": [
    "\"{:,}\".format(19716 * 500)"
   ]
  },
  {
   "cell_type": "markdown",
   "metadata": {},
   "source": [
    "## Sparse matrices\n",
    "\n",
    "To make similar estimates for sparse matrices, we first need to know the average density of all matrices, and especially whether the densities correlate with size in some way. See `average-density.ipynb`"
   ]
  }
 ],
 "metadata": {
  "kernelspec": {
   "display_name": "Python [conda env:hetmech]",
   "language": "python",
   "name": "conda-env-hetmech-py"
  },
  "language_info": {
   "codemirror_mode": {
    "name": "ipython",
    "version": 3
   },
   "file_extension": ".py",
   "mimetype": "text/x-python",
   "name": "python",
   "nbconvert_exporter": "python",
   "pygments_lexer": "ipython3",
   "version": "3.6.4"
  }
 },
 "nbformat": 4,
 "nbformat_minor": 2
}
