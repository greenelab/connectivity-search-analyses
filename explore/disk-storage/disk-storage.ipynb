{
 "cells": [
  {
   "cell_type": "code",
   "execution_count": 1,
   "metadata": {},
   "outputs": [],
   "source": [
    "import pandas as pd\n",
    "import numpy as np\n",
    "from scipy import sparse\n",
    "from neo4j.v1 import GraphDatabase\n",
    "import sys\n",
    "import os\n",
    "import hetio.readwrite\n",
    "import hetio.neo4j\n",
    "import hetio.pathtools\n",
    "from hetio.matrix import metaedge_to_adjacency_matrix, get_node_to_position"
   ]
  },
  {
   "cell_type": "code",
   "execution_count": 2,
   "metadata": {},
   "outputs": [],
   "source": [
    "sys.path.insert(0,'../../')\n",
    "from hetmech.degree_weight import dwpc"
   ]
  },
  {
   "cell_type": "code",
   "execution_count": 28,
   "metadata": {},
   "outputs": [],
   "source": [
    "np.random.seed(0)"
   ]
  },
  {
   "cell_type": "code",
   "execution_count": 3,
   "metadata": {},
   "outputs": [],
   "source": [
    "url = 'https://github.com/dhimmel/hetionet/raw/76550e6c93fbe92124edc71725e8c7dd4ca8b1f5/hetnet/json/hetionet-v1.0.json.bz2'\n",
    "graph = hetio.readwrite.read_graph(url)\n",
    "metagraph = graph.metagraph"
   ]
  },
  {
   "cell_type": "markdown",
   "metadata": {},
   "source": [
    "## Paths up to length 4"
   ]
  },
  {
   "cell_type": "code",
   "execution_count": 4,
   "metadata": {},
   "outputs": [
    {
     "data": {
      "text/plain": [
       "19716"
      ]
     },
     "execution_count": 4,
     "metadata": {},
     "output_type": "execute_result"
    }
   ],
   "source": [
    "metapaths = metagraph.extract_all_metapaths(4, exclude_inverts=True)\n",
    "\n",
    "len(metapaths)"
   ]
  },
  {
   "cell_type": "code",
   "execution_count": 5,
   "metadata": {},
   "outputs": [],
   "source": [
    "metanodes = list(set([metapath.source() for metapath in metapaths]))"
   ]
  },
  {
   "cell_type": "code",
   "execution_count": 6,
   "metadata": {},
   "outputs": [],
   "source": [
    "metanode_size_dict = {node: len(list(get_node_to_position(graph, node))) for node in metanodes}"
   ]
  },
  {
   "cell_type": "code",
   "execution_count": 7,
   "metadata": {},
   "outputs": [],
   "source": [
    "metapaths_df = pd.DataFrame({'metapath': metapaths})"
   ]
  },
  {
   "cell_type": "code",
   "execution_count": 8,
   "metadata": {},
   "outputs": [],
   "source": [
    "metapaths_df['source'] = metapaths_df['metapath'].apply(lambda x: x.source())\n",
    "metapaths_df['source_size'] = metapaths_df['source'].apply(lambda x: metanode_size_dict[x])"
   ]
  },
  {
   "cell_type": "code",
   "execution_count": 9,
   "metadata": {},
   "outputs": [],
   "source": [
    "metapaths_df['target'] = metapaths_df['metapath'].apply(lambda x: x.target())\n",
    "metapaths_df['target_size'] = metapaths_df['target'].apply(lambda x: metanode_size_dict[x])"
   ]
  },
  {
   "cell_type": "code",
   "execution_count": 10,
   "metadata": {},
   "outputs": [],
   "source": [
    "metapaths_df['array_size'] = metapaths_df['source_size'] * metapaths_df['target_size']"
   ]
  },
  {
   "cell_type": "code",
   "execution_count": 11,
   "metadata": {},
   "outputs": [
    {
     "data": {
      "text/html": [
       "<div>\n",
       "<style scoped>\n",
       "    .dataframe tbody tr th:only-of-type {\n",
       "        vertical-align: middle;\n",
       "    }\n",
       "\n",
       "    .dataframe tbody tr th {\n",
       "        vertical-align: top;\n",
       "    }\n",
       "\n",
       "    .dataframe thead th {\n",
       "        text-align: right;\n",
       "    }\n",
       "</style>\n",
       "<table border=\"1\" class=\"dataframe\">\n",
       "  <thead>\n",
       "    <tr style=\"text-align: right;\">\n",
       "      <th></th>\n",
       "      <th>metapath</th>\n",
       "      <th>source</th>\n",
       "      <th>source_size</th>\n",
       "      <th>target</th>\n",
       "      <th>target_size</th>\n",
       "      <th>array_size</th>\n",
       "    </tr>\n",
       "  </thead>\n",
       "  <tbody>\n",
       "    <tr>\n",
       "      <th>0</th>\n",
       "      <td>(Symptom - presents - Disease)</td>\n",
       "      <td>Symptom</td>\n",
       "      <td>438</td>\n",
       "      <td>Disease</td>\n",
       "      <td>137</td>\n",
       "      <td>60006</td>\n",
       "    </tr>\n",
       "    <tr>\n",
       "      <th>1</th>\n",
       "      <td>(Symptom - presents - Disease, Disease - treat...</td>\n",
       "      <td>Symptom</td>\n",
       "      <td>438</td>\n",
       "      <td>Compound</td>\n",
       "      <td>1552</td>\n",
       "      <td>679776</td>\n",
       "    </tr>\n",
       "    <tr>\n",
       "      <th>2</th>\n",
       "      <td>(Symptom - presents - Disease, Disease - assoc...</td>\n",
       "      <td>Symptom</td>\n",
       "      <td>438</td>\n",
       "      <td>Gene</td>\n",
       "      <td>20945</td>\n",
       "      <td>9173910</td>\n",
       "    </tr>\n",
       "    <tr>\n",
       "      <th>3</th>\n",
       "      <td>(Symptom - presents - Disease, Disease - palli...</td>\n",
       "      <td>Symptom</td>\n",
       "      <td>438</td>\n",
       "      <td>Compound</td>\n",
       "      <td>1552</td>\n",
       "      <td>679776</td>\n",
       "    </tr>\n",
       "    <tr>\n",
       "      <th>4</th>\n",
       "      <td>(Symptom - presents - Disease, Disease - resem...</td>\n",
       "      <td>Symptom</td>\n",
       "      <td>438</td>\n",
       "      <td>Disease</td>\n",
       "      <td>137</td>\n",
       "      <td>60006</td>\n",
       "    </tr>\n",
       "  </tbody>\n",
       "</table>\n",
       "</div>"
      ],
      "text/plain": [
       "                                            metapath   source  source_size  \\\n",
       "0                     (Symptom - presents - Disease)  Symptom          438   \n",
       "1  (Symptom - presents - Disease, Disease - treat...  Symptom          438   \n",
       "2  (Symptom - presents - Disease, Disease - assoc...  Symptom          438   \n",
       "3  (Symptom - presents - Disease, Disease - palli...  Symptom          438   \n",
       "4  (Symptom - presents - Disease, Disease - resem...  Symptom          438   \n",
       "\n",
       "     target  target_size  array_size  \n",
       "0   Disease          137       60006  \n",
       "1  Compound         1552      679776  \n",
       "2      Gene        20945     9173910  \n",
       "3  Compound         1552      679776  \n",
       "4   Disease          137       60006  "
      ]
     },
     "execution_count": 11,
     "metadata": {},
     "output_type": "execute_result"
    }
   ],
   "source": [
    "metapaths_df.head()"
   ]
  },
  {
   "cell_type": "code",
   "execution_count": 12,
   "metadata": {
    "scrolled": true
   },
   "outputs": [
    {
     "data": {
      "text/html": [
       "<div>\n",
       "<style scoped>\n",
       "    .dataframe tbody tr th:only-of-type {\n",
       "        vertical-align: middle;\n",
       "    }\n",
       "\n",
       "    .dataframe tbody tr th {\n",
       "        vertical-align: top;\n",
       "    }\n",
       "\n",
       "    .dataframe thead th {\n",
       "        text-align: right;\n",
       "    }\n",
       "</style>\n",
       "<table border=\"1\" class=\"dataframe\">\n",
       "  <thead>\n",
       "    <tr style=\"text-align: right;\">\n",
       "      <th></th>\n",
       "      <th>metapath</th>\n",
       "      <th>source</th>\n",
       "      <th>source_size</th>\n",
       "      <th>target</th>\n",
       "      <th>target_size</th>\n",
       "      <th>array_size</th>\n",
       "    </tr>\n",
       "  </thead>\n",
       "  <tbody>\n",
       "    <tr>\n",
       "      <th>13680</th>\n",
       "      <td>(Gene - downregulates - Compound, Compound - d...</td>\n",
       "      <td>Gene</td>\n",
       "      <td>20945</td>\n",
       "      <td>Gene</td>\n",
       "      <td>20945</td>\n",
       "      <td>438693025</td>\n",
       "    </tr>\n",
       "    <tr>\n",
       "      <th>13163</th>\n",
       "      <td>(Gene &gt; regulates &gt; Gene, Gene - interacts - G...</td>\n",
       "      <td>Gene</td>\n",
       "      <td>20945</td>\n",
       "      <td>Gene</td>\n",
       "      <td>20945</td>\n",
       "      <td>438693025</td>\n",
       "    </tr>\n",
       "    <tr>\n",
       "      <th>13184</th>\n",
       "      <td>(Gene &gt; regulates &gt; Gene, Gene - downregulates...</td>\n",
       "      <td>Gene</td>\n",
       "      <td>20945</td>\n",
       "      <td>Gene</td>\n",
       "      <td>20945</td>\n",
       "      <td>438693025</td>\n",
       "    </tr>\n",
       "    <tr>\n",
       "      <th>13181</th>\n",
       "      <td>(Gene &gt; regulates &gt; Gene, Gene - interacts - G...</td>\n",
       "      <td>Gene</td>\n",
       "      <td>20945</td>\n",
       "      <td>Gene</td>\n",
       "      <td>20945</td>\n",
       "      <td>438693025</td>\n",
       "    </tr>\n",
       "    <tr>\n",
       "      <th>13180</th>\n",
       "      <td>(Gene &gt; regulates &gt; Gene, Gene - interacts - G...</td>\n",
       "      <td>Gene</td>\n",
       "      <td>20945</td>\n",
       "      <td>Gene</td>\n",
       "      <td>20945</td>\n",
       "      <td>438693025</td>\n",
       "    </tr>\n",
       "  </tbody>\n",
       "</table>\n",
       "</div>"
      ],
      "text/plain": [
       "                                                metapath source  source_size  \\\n",
       "13680  (Gene - downregulates - Compound, Compound - d...   Gene        20945   \n",
       "13163  (Gene > regulates > Gene, Gene - interacts - G...   Gene        20945   \n",
       "13184  (Gene > regulates > Gene, Gene - downregulates...   Gene        20945   \n",
       "13181  (Gene > regulates > Gene, Gene - interacts - G...   Gene        20945   \n",
       "13180  (Gene > regulates > Gene, Gene - interacts - G...   Gene        20945   \n",
       "\n",
       "      target  target_size  array_size  \n",
       "13680   Gene        20945   438693025  \n",
       "13163   Gene        20945   438693025  \n",
       "13184   Gene        20945   438693025  \n",
       "13181   Gene        20945   438693025  \n",
       "13180   Gene        20945   438693025  "
      ]
     },
     "execution_count": 12,
     "metadata": {},
     "output_type": "execute_result"
    }
   ],
   "source": [
    "metapaths_df.sort_values(by='array_size', ascending=False).head()"
   ]
  },
  {
   "cell_type": "code",
   "execution_count": 13,
   "metadata": {},
   "outputs": [
    {
     "data": {
      "text/plain": [
       "61573118.349969566"
      ]
     },
     "execution_count": 13,
     "metadata": {},
     "output_type": "execute_result"
    }
   ],
   "source": [
    "# Average array size (number of numbers)\n",
    "metapaths_df['array_size'].mean()"
   ]
  },
  {
   "cell_type": "code",
   "execution_count": 14,
   "metadata": {},
   "outputs": [
    {
     "data": {
      "text/plain": [
       "'1,213,975,594,488'"
      ]
     },
     "execution_count": 14,
     "metadata": {},
     "output_type": "execute_result"
    }
   ],
   "source": [
    "# Total number of numbers to be stored\n",
    "# Average size * number of arrays number of numbers must be stored\n",
    "\"{:,}\".format(61573118 * 19716)"
   ]
  },
  {
   "cell_type": "markdown",
   "metadata": {},
   "source": [
    "# Representative matrices\n",
    "\n",
    "## Largest matrices\n",
    "G---G. ~ 20,000 x 20,000 = 400,000,000 numbers"
   ]
  },
  {
   "cell_type": "code",
   "execution_count": 2,
   "metadata": {},
   "outputs": [],
   "source": [
    "random_array = np.random.rand(20000, 20000)\n",
    "random_array[random_array > 0.3] = 0\n",
    "\n",
    "np.save('test_large_array.npy', random_array)\n",
    "\n",
    "sparse_array = sparse.csc_matrix(random_array)\n",
    "sparse.save_npz('test_sparse_large_array.npz', sparse_array)\n",
    "\n",
    "log_array = np.log1p(random_array)\n",
    "np.save('test_log1p.npy', log_array)\n",
    "\n",
    "del random_array, sparse_array, log_array"
   ]
  },
  {
   "cell_type": "code",
   "execution_count": 19,
   "metadata": {
    "scrolled": true
   },
   "outputs": [
    {
     "name": "stdout",
     "output_type": "stream",
     "text": [
      " Dense: 3200 MB\n",
      " Sparse: 1115 MB\n",
      " Log1p: 3200 MB\n"
     ]
    }
   ],
   "source": [
    "print(f\" Dense: {os.path.getsize('test_large_array.npy') / 1000000 :.4g} MB\\n\",\n",
    "      f\"Sparse: {os.path.getsize('test_sparse_large_array.npz') / 1000000 :.4g} MB\\n\",\n",
    "      f\"Log1p: {os.path.getsize('test_log1p.npy') / 1000000 :.4g} MB\")"
   ]
  },
  {
   "cell_type": "code",
   "execution_count": 5,
   "metadata": {},
   "outputs": [
    {
     "data": {
      "text/plain": [
       "'400,000,000'"
      ]
     },
     "execution_count": 5,
     "metadata": {},
     "output_type": "execute_result"
    }
   ],
   "source": [
    "\"{:,}\".format(20000**2)"
   ]
  },
  {
   "cell_type": "markdown",
   "metadata": {},
   "source": [
    "400 million numbers requires 3200 MB on disk in the dense .npy format we use"
   ]
  },
  {
   "cell_type": "markdown",
   "metadata": {},
   "source": [
    "## Average matrix \n",
    "61573118 numbers or ~ 7847 x 7847"
   ]
  },
  {
   "cell_type": "code",
   "execution_count": 10,
   "metadata": {},
   "outputs": [
    {
     "data": {
      "text/plain": [
       "'61,573,118'"
      ]
     },
     "execution_count": 10,
     "metadata": {},
     "output_type": "execute_result"
    }
   ],
   "source": [
    "\"{:,}\".format(61573118)"
   ]
  },
  {
   "cell_type": "code",
   "execution_count": 11,
   "metadata": {},
   "outputs": [],
   "source": [
    "random_array = np.random.rand(7847, 7847)\n",
    "random_array[random_array > 0.3] = 0\n",
    "\n",
    "np.save('test_avgerage_array.npy', random_array)\n",
    "\n",
    "sparse_array = sparse.csc_matrix(random_array)\n",
    "sparse.save_npz('test_sparse_average_array.npz', sparse_array)\n",
    "\n",
    "del random_array, sparse_array"
   ]
  },
  {
   "cell_type": "code",
   "execution_count": 12,
   "metadata": {},
   "outputs": [
    {
     "name": "stdout",
     "output_type": "stream",
     "text": [
      "Dense: 492.6 MB\n",
      "Sparse: 171.3 MB\n"
     ]
    }
   ],
   "source": [
    "print(f\"Dense: {os.path.getsize('test_avgerage_array.npy') / 1000000 :.4g}\", 'MB')\n",
    "print(f\"Sparse: {os.path.getsize('test_sparse_average_array.npz') / 1000000 :.4g}\", 'MB')"
   ]
  },
  {
   "cell_type": "markdown",
   "metadata": {},
   "source": [
    "An average matrix requires almost 500 megabytes. With 19716 such matrices, this would be nearly 10 million megabytes, or 10 terabytes"
   ]
  },
  {
   "cell_type": "code",
   "execution_count": 14,
   "metadata": {},
   "outputs": [
    {
     "data": {
      "text/plain": [
       "'9,858,000'"
      ]
     },
     "execution_count": 14,
     "metadata": {},
     "output_type": "execute_result"
    }
   ],
   "source": [
    "\"{:,}\".format(19716 * 500)"
   ]
  },
  {
   "cell_type": "markdown",
   "metadata": {},
   "source": [
    "## Sparse matrices\n",
    "\n",
    "To make similar estimates for sparse matrices, we first need to know the average density of all matrices, and especially whether the densities correlate with size in some way. See `average-density.ipynb`"
   ]
  },
  {
   "cell_type": "markdown",
   "metadata": {},
   "source": [
    "## Density of biggest matrices\n",
    "\n",
    "Estimate the average density by taking a random sample of six G-G metapath matrices"
   ]
  },
  {
   "cell_type": "code",
   "execution_count": 22,
   "metadata": {
    "scrolled": true
   },
   "outputs": [
    {
     "data": {
      "text/plain": [
       "(2071, 6)"
      ]
     },
     "execution_count": 22,
     "metadata": {},
     "output_type": "execute_result"
    }
   ],
   "source": [
    "metapaths_df[metapaths_df['array_size'] == 438693025].shape"
   ]
  },
  {
   "cell_type": "code",
   "execution_count": 56,
   "metadata": {},
   "outputs": [],
   "source": [
    "random_indices = np.random.randint(low=0, high=2070, size=6)"
   ]
  },
  {
   "cell_type": "code",
   "execution_count": 57,
   "metadata": {},
   "outputs": [],
   "source": [
    "random_metapaths = list(metapaths_df[metapaths_df['array_size'] == 438693025].iloc[random_indices, 0])"
   ]
  },
  {
   "cell_type": "code",
   "execution_count": 58,
   "metadata": {
    "scrolled": true
   },
   "outputs": [
    {
     "data": {
      "text/plain": [
       "[GuAuGr>G, GdDaGeAeG, GbCdGpPWpG, Gr>GdAeGiG, GcGdDpCuG, GeAdGeAdG]"
      ]
     },
     "execution_count": 58,
     "metadata": {},
     "output_type": "execute_result"
    }
   ],
   "source": [
    "random_metapaths"
   ]
  },
  {
   "cell_type": "code",
   "execution_count": 69,
   "metadata": {},
   "outputs": [
    {
     "name": "stdout",
     "output_type": "stream",
     "text": [
      "GuAuGr>G\n",
      "GdDaGeAeG\n",
      "GbCdGpPWpG\n",
      "Gr>GdAeGiG\n",
      "GcGdDpCuG\n",
      "GeAdGeAdG\n"
     ]
    },
    {
     "ename": "KeyError",
     "evalue": "'other'",
     "output_type": "error",
     "traceback": [
      "\u001b[0;31m---------------------------------------------------------------------------\u001b[0m",
      "\u001b[0;31mKeyError\u001b[0m                                  Traceback (most recent call last)",
      "\u001b[0;32m<ipython-input-69-67b4c3938546>\u001b[0m in \u001b[0;36m<module>\u001b[0;34m()\u001b[0m\n\u001b[1;32m      3\u001b[0m     \u001b[0mprint\u001b[0m\u001b[0;34m(\u001b[0m\u001b[0mpath\u001b[0m\u001b[0;34m)\u001b[0m\u001b[0;34m\u001b[0m\u001b[0m\n\u001b[1;32m      4\u001b[0m     \u001b[0;32mtry\u001b[0m\u001b[0;34m:\u001b[0m\u001b[0;34m\u001b[0m\u001b[0m\n\u001b[0;32m----> 5\u001b[0;31m         \u001b[0mrow\u001b[0m\u001b[0;34m,\u001b[0m \u001b[0mcol\u001b[0m\u001b[0;34m,\u001b[0m \u001b[0mdwpc_matrix\u001b[0m\u001b[0;34m,\u001b[0m \u001b[0mtime\u001b[0m \u001b[0;34m=\u001b[0m \u001b[0mdwpc\u001b[0m\u001b[0;34m(\u001b[0m\u001b[0mgraph\u001b[0m\u001b[0;34m,\u001b[0m \u001b[0mpath\u001b[0m\u001b[0;34m,\u001b[0m \u001b[0mdense_threshold\u001b[0m\u001b[0;34m=\u001b[0m\u001b[0;36m1\u001b[0m\u001b[0;34m)\u001b[0m\u001b[0;34m\u001b[0m\u001b[0m\n\u001b[0m\u001b[1;32m      6\u001b[0m         \u001b[0mdensity\u001b[0m \u001b[0;34m=\u001b[0m \u001b[0;34m(\u001b[0m\u001b[0mdwpc_matrix\u001b[0m \u001b[0;34m!=\u001b[0m \u001b[0;36m0\u001b[0m\u001b[0;34m)\u001b[0m\u001b[0;34m.\u001b[0m\u001b[0msum\u001b[0m\u001b[0;34m(\u001b[0m\u001b[0;34m)\u001b[0m\u001b[0;34m\u001b[0m\u001b[0m\n\u001b[1;32m      7\u001b[0m         \u001b[0;32mdel\u001b[0m \u001b[0mrow\u001b[0m\u001b[0;34m,\u001b[0m \u001b[0mcol\u001b[0m\u001b[0;34m,\u001b[0m \u001b[0mdwpc_matrix\u001b[0m\u001b[0;34m,\u001b[0m \u001b[0mtime\u001b[0m\u001b[0;34m\u001b[0m\u001b[0m\n",
      "\u001b[0;32m~/Documents/hetmech/hetmech/degree_weight.py\u001b[0m in \u001b[0;36mdwpc\u001b[0;34m(graph, metapath, damping, dense_threshold, use_general)\u001b[0m\n\u001b[1;32m     63\u001b[0m \u001b[0;34m\u001b[0m\u001b[0m\n\u001b[1;32m     64\u001b[0m     \u001b[0mcategory\u001b[0m \u001b[0;34m=\u001b[0m \u001b[0mcategorize\u001b[0m\u001b[0;34m(\u001b[0m\u001b[0mmetapath\u001b[0m\u001b[0;34m)\u001b[0m\u001b[0;34m\u001b[0m\u001b[0m\n\u001b[0;32m---> 65\u001b[0;31m     \u001b[0mdwpc_function\u001b[0m \u001b[0;34m=\u001b[0m \u001b[0mcategory_to_function\u001b[0m\u001b[0;34m(\u001b[0m\u001b[0mcategory\u001b[0m\u001b[0;34m)\u001b[0m\u001b[0;34m\u001b[0m\u001b[0m\n\u001b[0m\u001b[1;32m     66\u001b[0m     \u001b[0;32mif\u001b[0m \u001b[0mcategory\u001b[0m \u001b[0;32min\u001b[0m \u001b[0;34m(\u001b[0m\u001b[0;34m'long_repeat'\u001b[0m\u001b[0;34m,\u001b[0m \u001b[0;34m'other'\u001b[0m\u001b[0;34m)\u001b[0m\u001b[0;34m:\u001b[0m\u001b[0;34m\u001b[0m\u001b[0m\n\u001b[1;32m     67\u001b[0m         \u001b[0;32mif\u001b[0m \u001b[0muse_general\u001b[0m\u001b[0;34m:\u001b[0m\u001b[0;34m\u001b[0m\u001b[0m\n",
      "\u001b[0;32m~/Documents/hetmech/hetmech/degree_weight.py\u001b[0m in \u001b[0;36mcategory_to_function\u001b[0;34m(category)\u001b[0m\n\u001b[1;32m     26\u001b[0m                            \u001b[0;34m'repeat_around'\u001b[0m\u001b[0;34m:\u001b[0m \u001b[0m_dwpc_repeat_around\u001b[0m\u001b[0;34m,\u001b[0m\u001b[0;34m\u001b[0m\u001b[0m\n\u001b[1;32m     27\u001b[0m                            'interior_complete_group': _dwpc_baba}\n\u001b[0;32m---> 28\u001b[0;31m     \u001b[0;32mreturn\u001b[0m \u001b[0mfunction_dictionary\u001b[0m\u001b[0;34m[\u001b[0m\u001b[0mcategory\u001b[0m\u001b[0;34m]\u001b[0m\u001b[0;34m\u001b[0m\u001b[0m\n\u001b[0m\u001b[1;32m     29\u001b[0m \u001b[0;34m\u001b[0m\u001b[0m\n\u001b[1;32m     30\u001b[0m \u001b[0;34m\u001b[0m\u001b[0m\n",
      "\u001b[0;31mKeyError\u001b[0m: 'other'"
     ]
    }
   ],
   "source": [
    "densities = []\n",
    "for path in random_metapaths:\n",
    "    print(path)\n",
    "    try:\n",
    "        row, col, dwpc_matrix, time = dwpc(graph, path, dense_threshold=1)\n",
    "        density = (dwpc_matrix != 0).sum()\n",
    "        del row, col, dwpc_matrix, time\n",
    "        densities.append([path, density])\n",
    "    except NotImplementedError:\n",
    "        pass"
   ]
  },
  {
   "cell_type": "code",
   "execution_count": null,
   "metadata": {},
   "outputs": [],
   "source": []
  }
 ],
 "metadata": {
  "kernelspec": {
   "display_name": "Python [conda env:hetmech]",
   "language": "python",
   "name": "conda-env-hetmech-py"
  },
  "language_info": {
   "codemirror_mode": {
    "name": "ipython",
    "version": 3
   },
   "file_extension": ".py",
   "mimetype": "text/x-python",
   "name": "python",
   "nbconvert_exporter": "python",
   "pygments_lexer": "ipython3",
   "version": "3.6.4"
  }
 },
 "nbformat": 4,
 "nbformat_minor": 2
}
