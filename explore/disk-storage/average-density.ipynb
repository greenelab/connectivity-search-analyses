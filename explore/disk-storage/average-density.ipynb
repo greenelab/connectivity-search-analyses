{
 "cells": [
  {
   "cell_type": "markdown",
   "metadata": {},
   "source": [
    "# Average Density\n",
    "Investigates the average density of adjacency matrices within the Project Rephetio graph. We found the averae density to be almost exactly 20%, meaning that 80% of positions within the matrix are zero."
   ]
  },
  {
   "cell_type": "code",
   "execution_count": 1,
   "metadata": {},
   "outputs": [],
   "source": [
    "import pandas as pd\n",
    "import numpy\n",
    "import matplotlib.pyplot as plt\n",
    "from scipy import sparse\n",
    "import os\n",
    "% matplotlib inline"
   ]
  },
  {
   "cell_type": "code",
   "execution_count": 2,
   "metadata": {},
   "outputs": [],
   "source": [
    "dwpc_df = pd.read_csv('rephetio-DWPCs-hetmech.tsv', sep='\\t')"
   ]
  },
  {
   "cell_type": "code",
   "execution_count": 3,
   "metadata": {},
   "outputs": [
    {
     "data": {
      "text/html": [
       "<div>\n",
       "<style scoped>\n",
       "    .dataframe tbody tr th:only-of-type {\n",
       "        vertical-align: middle;\n",
       "    }\n",
       "\n",
       "    .dataframe tbody tr th {\n",
       "        vertical-align: top;\n",
       "    }\n",
       "\n",
       "    .dataframe thead th {\n",
       "        text-align: right;\n",
       "    }\n",
       "</style>\n",
       "<table border=\"1\" class=\"dataframe\">\n",
       "  <thead>\n",
       "    <tr style=\"text-align: right;\">\n",
       "      <th></th>\n",
       "      <th>compound</th>\n",
       "      <th>disease</th>\n",
       "      <th>CbGaD</th>\n",
       "      <th>CbGdD</th>\n",
       "      <th>CbGuD</th>\n",
       "      <th>CdGaD</th>\n",
       "      <th>CdGdD</th>\n",
       "      <th>CdGuD</th>\n",
       "      <th>CpDrD</th>\n",
       "      <th>CrCpD</th>\n",
       "      <th>...</th>\n",
       "      <th>CuGuDlAlD</th>\n",
       "      <th>CuGuDpCpD</th>\n",
       "      <th>CuGuDpCtD</th>\n",
       "      <th>CuGuDpSpD</th>\n",
       "      <th>CuGuDrDrD</th>\n",
       "      <th>CuGuDtCpD</th>\n",
       "      <th>CuGuDtCtD</th>\n",
       "      <th>CuGuDuGaD</th>\n",
       "      <th>CuGuDuGdD</th>\n",
       "      <th>CuGuDuGuD</th>\n",
       "    </tr>\n",
       "  </thead>\n",
       "  <tbody>\n",
       "    <tr>\n",
       "      <th>0</th>\n",
       "      <td>DB00014</td>\n",
       "      <td>DOID:0050156</td>\n",
       "      <td>0.0</td>\n",
       "      <td>0.0</td>\n",
       "      <td>0.0</td>\n",
       "      <td>0.0</td>\n",
       "      <td>0.0</td>\n",
       "      <td>0.0</td>\n",
       "      <td>0.0</td>\n",
       "      <td>0.0</td>\n",
       "      <td>...</td>\n",
       "      <td>0.000000</td>\n",
       "      <td>0.0</td>\n",
       "      <td>0.0</td>\n",
       "      <td>0.000000</td>\n",
       "      <td>0.0</td>\n",
       "      <td>0.002885</td>\n",
       "      <td>0.0</td>\n",
       "      <td>0.000216</td>\n",
       "      <td>0.000662</td>\n",
       "      <td>0.001791</td>\n",
       "    </tr>\n",
       "    <tr>\n",
       "      <th>1</th>\n",
       "      <td>DB00014</td>\n",
       "      <td>DOID:0050425</td>\n",
       "      <td>0.0</td>\n",
       "      <td>0.0</td>\n",
       "      <td>0.0</td>\n",
       "      <td>0.0</td>\n",
       "      <td>0.0</td>\n",
       "      <td>0.0</td>\n",
       "      <td>0.0</td>\n",
       "      <td>0.0</td>\n",
       "      <td>...</td>\n",
       "      <td>0.000230</td>\n",
       "      <td>0.0</td>\n",
       "      <td>0.0</td>\n",
       "      <td>0.000000</td>\n",
       "      <td>0.0</td>\n",
       "      <td>0.000000</td>\n",
       "      <td>0.0</td>\n",
       "      <td>0.000000</td>\n",
       "      <td>0.000000</td>\n",
       "      <td>0.000000</td>\n",
       "    </tr>\n",
       "    <tr>\n",
       "      <th>2</th>\n",
       "      <td>DB00014</td>\n",
       "      <td>DOID:0050741</td>\n",
       "      <td>0.0</td>\n",
       "      <td>0.0</td>\n",
       "      <td>0.0</td>\n",
       "      <td>0.0</td>\n",
       "      <td>0.0</td>\n",
       "      <td>0.0</td>\n",
       "      <td>0.0</td>\n",
       "      <td>0.0</td>\n",
       "      <td>...</td>\n",
       "      <td>0.001057</td>\n",
       "      <td>0.0</td>\n",
       "      <td>0.0</td>\n",
       "      <td>0.000413</td>\n",
       "      <td>0.0</td>\n",
       "      <td>0.000000</td>\n",
       "      <td>0.0</td>\n",
       "      <td>0.000000</td>\n",
       "      <td>0.000212</td>\n",
       "      <td>0.001160</td>\n",
       "    </tr>\n",
       "    <tr>\n",
       "      <th>3</th>\n",
       "      <td>DB00014</td>\n",
       "      <td>DOID:0050742</td>\n",
       "      <td>0.0</td>\n",
       "      <td>0.0</td>\n",
       "      <td>0.0</td>\n",
       "      <td>0.0</td>\n",
       "      <td>0.0</td>\n",
       "      <td>0.0</td>\n",
       "      <td>0.0</td>\n",
       "      <td>0.0</td>\n",
       "      <td>...</td>\n",
       "      <td>0.000000</td>\n",
       "      <td>0.0</td>\n",
       "      <td>0.0</td>\n",
       "      <td>0.000000</td>\n",
       "      <td>0.0</td>\n",
       "      <td>0.008050</td>\n",
       "      <td>0.0</td>\n",
       "      <td>0.000000</td>\n",
       "      <td>0.000816</td>\n",
       "      <td>0.001002</td>\n",
       "    </tr>\n",
       "    <tr>\n",
       "      <th>4</th>\n",
       "      <td>DB00014</td>\n",
       "      <td>DOID:0060073</td>\n",
       "      <td>0.0</td>\n",
       "      <td>0.0</td>\n",
       "      <td>0.0</td>\n",
       "      <td>0.0</td>\n",
       "      <td>0.0</td>\n",
       "      <td>0.0</td>\n",
       "      <td>0.0</td>\n",
       "      <td>0.0</td>\n",
       "      <td>...</td>\n",
       "      <td>0.000000</td>\n",
       "      <td>0.0</td>\n",
       "      <td>0.0</td>\n",
       "      <td>0.000000</td>\n",
       "      <td>0.0</td>\n",
       "      <td>0.000000</td>\n",
       "      <td>0.0</td>\n",
       "      <td>0.000000</td>\n",
       "      <td>0.000000</td>\n",
       "      <td>0.000000</td>\n",
       "    </tr>\n",
       "  </tbody>\n",
       "</table>\n",
       "<p>5 rows × 1172 columns</p>\n",
       "</div>"
      ],
      "text/plain": [
       "  compound       disease  CbGaD  CbGdD  CbGuD  CdGaD  CdGdD  CdGuD  CpDrD  \\\n",
       "0  DB00014  DOID:0050156    0.0    0.0    0.0    0.0    0.0    0.0    0.0   \n",
       "1  DB00014  DOID:0050425    0.0    0.0    0.0    0.0    0.0    0.0    0.0   \n",
       "2  DB00014  DOID:0050741    0.0    0.0    0.0    0.0    0.0    0.0    0.0   \n",
       "3  DB00014  DOID:0050742    0.0    0.0    0.0    0.0    0.0    0.0    0.0   \n",
       "4  DB00014  DOID:0060073    0.0    0.0    0.0    0.0    0.0    0.0    0.0   \n",
       "\n",
       "   CrCpD    ...      CuGuDlAlD  CuGuDpCpD  CuGuDpCtD  CuGuDpSpD  CuGuDrDrD  \\\n",
       "0    0.0    ...       0.000000        0.0        0.0   0.000000        0.0   \n",
       "1    0.0    ...       0.000230        0.0        0.0   0.000000        0.0   \n",
       "2    0.0    ...       0.001057        0.0        0.0   0.000413        0.0   \n",
       "3    0.0    ...       0.000000        0.0        0.0   0.000000        0.0   \n",
       "4    0.0    ...       0.000000        0.0        0.0   0.000000        0.0   \n",
       "\n",
       "   CuGuDtCpD  CuGuDtCtD  CuGuDuGaD  CuGuDuGdD  CuGuDuGuD  \n",
       "0   0.002885        0.0   0.000216   0.000662   0.001791  \n",
       "1   0.000000        0.0   0.000000   0.000000   0.000000  \n",
       "2   0.000000        0.0   0.000000   0.000212   0.001160  \n",
       "3   0.008050        0.0   0.000000   0.000816   0.001002  \n",
       "4   0.000000        0.0   0.000000   0.000000   0.000000  \n",
       "\n",
       "[5 rows x 1172 columns]"
      ]
     },
     "execution_count": 3,
     "metadata": {},
     "output_type": "execute_result"
    }
   ],
   "source": [
    "dwpc_df.head()"
   ]
  },
  {
   "cell_type": "code",
   "execution_count": 4,
   "metadata": {},
   "outputs": [],
   "source": [
    "dwpc_data = dwpc_df.loc[:, 'CbGaD':]"
   ]
  },
  {
   "cell_type": "code",
   "execution_count": 5,
   "metadata": {},
   "outputs": [],
   "source": [
    "average_nnz = numpy.mean((dwpc_data != 0).sum(axis=0))"
   ]
  },
  {
   "cell_type": "code",
   "execution_count": 6,
   "metadata": {},
   "outputs": [
    {
     "data": {
      "text/plain": [
       "0.19900600184716746"
      ]
     },
     "execution_count": 6,
     "metadata": {},
     "output_type": "execute_result"
    }
   ],
   "source": [
    "# Average density\n",
    "average_nnz / dwpc_df.shape[0]"
   ]
  },
  {
   "cell_type": "code",
   "execution_count": 7,
   "metadata": {},
   "outputs": [],
   "source": [
    "metapath_density_df = (pd.DataFrame((dwpc_data != 0).sum(axis=0) / dwpc_df.shape[0])\n",
    "                    .reset_index()\n",
    "                    .rename(columns={'index': 'metapath', 0: 'density'}))"
   ]
  },
  {
   "cell_type": "code",
   "execution_count": 8,
   "metadata": {
    "scrolled": true
   },
   "outputs": [
    {
     "data": {
      "text/html": [
       "<div>\n",
       "<style scoped>\n",
       "    .dataframe tbody tr th:only-of-type {\n",
       "        vertical-align: middle;\n",
       "    }\n",
       "\n",
       "    .dataframe tbody tr th {\n",
       "        vertical-align: top;\n",
       "    }\n",
       "\n",
       "    .dataframe thead th {\n",
       "        text-align: right;\n",
       "    }\n",
       "</style>\n",
       "<table border=\"1\" class=\"dataframe\">\n",
       "  <thead>\n",
       "    <tr style=\"text-align: right;\">\n",
       "      <th></th>\n",
       "      <th>metapath</th>\n",
       "      <th>density</th>\n",
       "    </tr>\n",
       "  </thead>\n",
       "  <tbody>\n",
       "    <tr>\n",
       "      <th>253</th>\n",
       "      <td>CbGeAeGaD</td>\n",
       "      <td>0.872799</td>\n",
       "    </tr>\n",
       "    <tr>\n",
       "      <th>257</th>\n",
       "      <td>CbGeAuGaD</td>\n",
       "      <td>0.870786</td>\n",
       "    </tr>\n",
       "    <tr>\n",
       "      <th>250</th>\n",
       "      <td>CbGeAdGaD</td>\n",
       "      <td>0.870146</td>\n",
       "    </tr>\n",
       "    <tr>\n",
       "      <th>273</th>\n",
       "      <td>CbGiGeAlD</td>\n",
       "      <td>0.859955</td>\n",
       "    </tr>\n",
       "    <tr>\n",
       "      <th>284</th>\n",
       "      <td>CbGpBPpGaD</td>\n",
       "      <td>0.859696</td>\n",
       "    </tr>\n",
       "  </tbody>\n",
       "</table>\n",
       "</div>"
      ],
      "text/plain": [
       "       metapath   density\n",
       "253   CbGeAeGaD  0.872799\n",
       "257   CbGeAuGaD  0.870786\n",
       "250   CbGeAdGaD  0.870146\n",
       "273   CbGiGeAlD  0.859955\n",
       "284  CbGpBPpGaD  0.859696"
      ]
     },
     "execution_count": 8,
     "metadata": {},
     "output_type": "execute_result"
    }
   ],
   "source": [
    "metapath_density_df.sort_values(by='density', ascending=False).head()"
   ]
  },
  {
   "cell_type": "code",
   "execution_count": 9,
   "metadata": {},
   "outputs": [
    {
     "data": {
      "text/plain": [
       "array([[<matplotlib.axes._subplots.AxesSubplot object at 0x7f2442b77978>]],\n",
       "      dtype=object)"
      ]
     },
     "execution_count": 9,
     "metadata": {},
     "output_type": "execute_result"
    },
    {
     "data": {
      "image/png": "[encoded data removed]",
      "text/plain": [
       "<Figure size 432x288 with 1 Axes>"
      ]
     },
     "metadata": {},
     "output_type": "display_data"
    }
   ],
   "source": [
    "metapath_density_df.hist(column='density')"
   ]
  },
  {
   "cell_type": "markdown",
   "metadata": {},
   "source": [
    "## Sparse matrix file size by density"
   ]
  },
  {
   "cell_type": "code",
   "execution_count": 10,
   "metadata": {},
   "outputs": [],
   "source": [
    "for i in range(10, 100, 10):\n",
    "    example_matrix = numpy.random.rand(10000, 10000)\n",
    "    example_matrix[example_matrix > i / 100] = 0\n",
    "    sparse_matrix = sparse.csc_matrix(example_matrix)\n",
    "    sparse.save_npz(f'sparse_{i}.npz', sparse_matrix)\n",
    "    numpy.save(f'dense_{i}.npy', example_matrix)\n",
    "    del example_matrix, sparse_matrix"
   ]
  },
  {
   "cell_type": "code",
   "execution_count": 14,
   "metadata": {},
   "outputs": [
    {
     "name": "stdout",
     "output_type": "stream",
     "text": [
      "dense - 10 density: 800 MB\n",
      "sparse - 10 density: 93.29 MB\n",
      "\n",
      "dense - 20 density: 800 MB\n",
      "sparse - 20 density: 186.4 MB\n",
      "\n",
      "dense - 30 density: 800 MB\n",
      "sparse - 30 density: 279.2 MB\n",
      "\n",
      "dense - 40 density: 800 MB\n",
      "sparse - 40 density: 368.1 MB\n",
      "\n",
      "dense - 50 density: 800 MB\n",
      "sparse - 50 density: 461.5 MB\n",
      "\n",
      "dense - 60 density: 800 MB\n",
      "sparse - 60 density: 546.7 MB\n",
      "\n",
      "dense - 70 density: 800 MB\n",
      "sparse - 70 density: 623.4 MB\n",
      "\n",
      "dense - 80 density: 800 MB\n",
      "sparse - 80 density: 688.4 MB\n",
      "\n",
      "dense - 90 density: 800 MB\n",
      "sparse - 90 density: 804 MB\n",
      "\n"
     ]
    }
   ],
   "source": [
    "sizes = []\n",
    "for i in range(10, 100, 10):\n",
    "    dense_size = os.path.getsize(f'dense_{i}.npy') / 1000000\n",
    "    sparse_size = os.path.getsize(f'sparse_{i}.npz') / 1000000\n",
    "    sizes.append([i, dense_size, sparse_size])\n",
    "    print(f\"dense - {i} density: {dense_size :.4g} MB\")\n",
    "    print(f\"sparse - {i} density: {sparse_size :.4g} MB\\n\")\n",
    "\n",
    "sizes = numpy.array(sizes)"
   ]
  },
  {
   "cell_type": "code",
   "execution_count": 17,
   "metadata": {},
   "outputs": [
    {
     "data": {
      "image/png": "[encoded data removed]",
      "text/plain": [
       "<Figure size 432x288 with 1 Axes>"
      ]
     },
     "metadata": {},
     "output_type": "display_data"
    }
   ],
   "source": [
    "plt.plot(sizes[:, 0], sizes[:, 1])\n",
    "plt.plot(sizes[:, 0], sizes[:, 2])\n",
    "plt.legend(['Dense', 'Sparse'])\n",
    "plt.xlabel('Density (percent)')\n",
    "plt.ylabel('Sparse file size (MB)')\n",
    "plt.title('Size of sparse NPZ files by density');"
   ]
  },
  {
   "cell_type": "code",
   "execution_count": null,
   "metadata": {},
   "outputs": [],
   "source": []
  }
 ],
 "metadata": {
  "kernelspec": {
   "display_name": "Python [conda env:hetmech]",
   "language": "python",
   "name": "conda-env-hetmech-py"
  },
  "language_info": {
   "codemirror_mode": {
    "name": "ipython",
    "version": 3
   },
   "file_extension": ".py",
   "mimetype": "text/x-python",
   "name": "python",
   "nbconvert_exporter": "python",
   "pygments_lexer": "ipython3",
   "version": "3.6.4"
  }
 },
 "nbformat": 4,
 "nbformat_minor": 2
}
