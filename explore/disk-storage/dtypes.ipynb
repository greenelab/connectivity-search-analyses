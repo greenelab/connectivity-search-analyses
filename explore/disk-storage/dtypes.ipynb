{
 "cells": [
  {
   "cell_type": "markdown",
   "metadata": {},
   "source": [
    "# Data Types\n",
    "Compares the disk-storage requirements of half-, single-, and double-precision numbers when saved in `.npy` format. These results are unsurprising and confirm our understanding of how much disk space is required for matrices based on their `dtype`."
   ]
  },
  {
   "cell_type": "code",
   "execution_count": 1,
   "metadata": {},
   "outputs": [],
   "source": [
    "import numpy as np\n",
    "import sys\n",
    "import os"
   ]
  },
  {
   "cell_type": "code",
   "execution_count": 2,
   "metadata": {},
   "outputs": [],
   "source": [
    "mat = np.random.rand(20000, 20000)\n",
    "mat[mat > 0.75] = 0\n",
    "\n",
    "mat16 = np.array(mat, dtype=np.float16)\n",
    "np.save('half-precision.npy', mat16)\n",
    "del mat16\n",
    "\n",
    "mat32 = np.array(mat, dtype=np.float32)\n",
    "np.save('full-precision.npy', mat32)\n",
    "del mat32\n",
    "\n",
    "mat64 = np.array(mat, dtype=np.float64)\n",
    "np.save('double-precision.npy', mat64)\n",
    "del mat64\n",
    "\n",
    "del mat"
   ]
  },
  {
   "cell_type": "code",
   "execution_count": 3,
   "metadata": {},
   "outputs": [
    {
     "data": {
      "text/plain": [
       "800.000128"
      ]
     },
     "execution_count": 3,
     "metadata": {},
     "output_type": "execute_result"
    }
   ],
   "source": [
    "os.path.getsize('half-precision.npy') / 1000000"
   ]
  },
  {
   "cell_type": "code",
   "execution_count": 4,
   "metadata": {},
   "outputs": [
    {
     "data": {
      "text/plain": [
       "1600.000128"
      ]
     },
     "execution_count": 4,
     "metadata": {},
     "output_type": "execute_result"
    }
   ],
   "source": [
    "os.path.getsize('full-precision.npy') / 1000000"
   ]
  },
  {
   "cell_type": "code",
   "execution_count": 5,
   "metadata": {},
   "outputs": [
    {
     "data": {
      "text/plain": [
       "3200.000128"
      ]
     },
     "execution_count": 5,
     "metadata": {},
     "output_type": "execute_result"
    }
   ],
   "source": [
    "os.path.getsize('double-precision.npy') / 1000000"
   ]
  }
 ],
 "metadata": {
  "kernelspec": {
   "display_name": "Python [conda env:hetmech]",
   "language": "python",
   "name": "conda-env-hetmech-py"
  },
  "language_info": {
   "codemirror_mode": {
    "name": "ipython",
    "version": 3
   },
   "file_extension": ".py",
   "mimetype": "text/x-python",
   "name": "python",
   "nbconvert_exporter": "python",
   "pygments_lexer": "ipython3",
   "version": "3.6.4"
  }
 },
 "nbformat": 4,
 "nbformat_minor": 2
}
