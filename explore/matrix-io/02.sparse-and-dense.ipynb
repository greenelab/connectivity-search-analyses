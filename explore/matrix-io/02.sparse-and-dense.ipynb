{
 "cells": [
  {
   "cell_type": "code",
   "execution_count": 1,
   "metadata": {},
   "outputs": [],
   "source": [
    "import numpy as np\n",
    "from scipy import sparse\n",
    "import sys\n",
    "import os\n",
    "import time\n",
    "from scipy.sparse import csc_matrix, csr_matrix, coo_matrix"
   ]
  },
  {
   "cell_type": "code",
   "execution_count": 2,
   "metadata": {},
   "outputs": [],
   "source": [
    "np.random.seed(0)"
   ]
  },
  {
   "cell_type": "markdown",
   "metadata": {},
   "source": [
    "## Sparse .npz (compressed) takes the least disk space regardless of density\n",
    "Uncompressed sparse matrices take more disk space when the matrices are very dense"
   ]
  },
  {
   "cell_type": "code",
   "execution_count": 3,
   "metadata": {
    "scrolled": true
   },
   "outputs": [
    {
     "name": "stdout",
     "output_type": "stream",
     "text": [
      "CCpGeAeGaD (1391, 137)\n",
      "density: 97.807%\n",
      "dense-uncompressed: 1.525 MB\n",
      "sparse-compressed: 1.347 MB\n",
      "sparse-uncompressed: 2.238 MB\n",
      "\n",
      "DaGpBP (137, 11381)\n",
      "density: 21.031%\n",
      "dense-uncompressed: 12.47 MB\n",
      "sparse-compressed: 2.529 MB\n",
      "sparse-uncompressed: 3.982 MB\n",
      "\n",
      "MFpGdCcSE (2884, 5734)\n",
      "density: 14.093%\n",
      "dense-uncompressed: 132.3 MB\n",
      "sparse-compressed: 17.79 MB\n",
      "sparse-uncompressed: 27.99 MB\n",
      "\n",
      "GiGpBP (20945, 11381)\n",
      "density: 4.650%\n",
      "dense-uncompressed: 1907 MB\n",
      "sparse-compressed: 73.81 MB\n",
      "sparse-uncompressed: 133.1 MB\n",
      "\n"
     ]
    }
   ],
   "source": [
    "for i in ['CCpGeAeGaD', 'DaGpBP', 'MFpGdCcSE', 'GiGpBP']:\n",
    "    mat = np.load(f'data/{i}-dense-uncompressed.npy')\n",
    "    print(i, mat.shape)\n",
    "    \n",
    "    density = (mat != 0).sum() / np.prod(mat.shape)\n",
    "    print(f'density: {density:.3%}')\n",
    "\n",
    "    sparse_mat = sparse.csc_matrix(mat, copy=True)\n",
    "\n",
    "    sparse.save_npz(f'data/{i}-sparse-compressed.npz', sparse_mat, compressed=True)\n",
    "    sparse.save_npz(f'data/{i}-sparse-uncompressed.npz', sparse_mat, compressed=False)\n",
    "    \n",
    "    dense_size = os.path.getsize(f'data/{i}-dense-uncompressed.npy') / 1000000\n",
    "    sparse_size = os.path.getsize(f'data/{i}-sparse-compressed.npz') / 1000000\n",
    "    sparse_un_size = os.path.getsize(f'data/{i}-sparse-uncompressed.npz') / 1000000\n",
    "    print(f'dense-uncompressed: {dense_size :.4g} MB\\nsparse-compressed: {sparse_size :.4g} MB\\nsparse-uncompressed: {sparse_un_size :.4g} MB\\n')"
   ]
  },
  {
   "cell_type": "markdown",
   "metadata": {},
   "source": [
    "## Memory-map reduces matrix-vector multiplication time for lower-density matrices\n",
    "\n",
    "Putting a normal load above a memmap load decreases memmap load time. However, loading memmap first does not speed up normal load times. Note, this only appears to be the case for very dense matrices. For best comparisons, we should always load a memmap matrix first in the sequence."
   ]
  },
  {
   "cell_type": "code",
   "execution_count": 4,
   "metadata": {
    "scrolled": true
   },
   "outputs": [
    {
     "name": "stdout",
     "output_type": "stream",
     "text": [
      "CCpGeAeGaD\n",
      "density: 97.8 %\n",
      "Normal: 0.395 ms\n",
      "MMAP: 0.706 ms\n",
      "MMAP2: 0.267 ms\n",
      "\n",
      "DaGpBP\n",
      "density: 21.0 %\n",
      "Normal: 2.2 ms\n",
      "MMAP: 0.833 ms\n",
      "MMAP2: 0.869 ms\n",
      "\n",
      "MFpGdCcSE\n",
      "density: 14.1 %\n",
      "Normal: 38.7 ms\n",
      "MMAP: 5.19 ms\n",
      "MMAP2: 21.7 ms\n",
      "\n",
      "GiGpBP\n",
      "density: 4.65 %\n",
      "Normal: 538 ms\n",
      "MMAP: 69.2 ms\n",
      "MMAP2: 70.1 ms\n",
      "\n"
     ]
    }
   ],
   "source": [
    "for i in ['CCpGeAeGaD', 'DaGpBP', 'MFpGdCcSE', 'GiGpBP']:\n",
    "    print(i)\n",
    "    mat = np.load(f'data/{i}-dense-uncompressed.npy')\n",
    "    \n",
    "    density = 100 * (mat != 0).sum() / np.prod(mat.shape)\n",
    "    print(f'density: {density :.3} %')\n",
    "\n",
    "    # Create a vector to multiply\n",
    "    vector_size = mat.shape[0]\n",
    "    vec = np.zeros((1, vector_size))\n",
    "    # 4 search nodes\n",
    "    indices = np.random.randint(0, high=vector_size, size=4)\n",
    "    vec[0, indices] = 1\n",
    "    del mat\n",
    "    \n",
    "    t1 = time.time()\n",
    "    matrix = np.load(f'data/{i}-dense-uncompressed.npy', mmap_mode='r')\n",
    "    output = vec @ matrix\n",
    "    t2 = time.time()\n",
    "    time_2 = t2 - t1\n",
    "    del matrix\n",
    "    del output\n",
    "    \n",
    "    t1 = time.time()\n",
    "    matrix = np.load(f'data/{i}-dense-uncompressed.npy', mmap_mode=None)\n",
    "    output = vec @ matrix\n",
    "    t2 = time.time()\n",
    "    time_1 = t2 - t1\n",
    "    del matrix\n",
    "    del output\n",
    "    \n",
    "    # Second memory-map load time for comparison\n",
    "    t1 = time.time()\n",
    "    matrix = np.load(f'data/{i}-dense-uncompressed.npy', mmap_mode='r')\n",
    "    output = vec @ matrix\n",
    "    t2 = time.time()\n",
    "    time_3 = t2 - t1\n",
    "    del matrix\n",
    "    del output\n",
    "      \n",
    "    print(f'Normal: {1000 * time_1 :.3g} ms\\nMMAP: {1000 * time_2 :.3g} ms\\nMMAP2: {1000 * time_3 :.3g} ms\\n')"
   ]
  },
  {
   "cell_type": "markdown",
   "metadata": {},
   "source": [
    "## Sparse (uncompressed/compressed) vs Dense\n",
    "\n",
    "Uncompressed sparse matrices load and multiply about as quickly as dense matrices. The order of matrix reads does not change for sparse reads from npz files. Compressed sparse matrices take an order of magnitude more time to load and multiply."
   ]
  },
  {
   "cell_type": "code",
   "execution_count": 5,
   "metadata": {},
   "outputs": [
    {
     "name": "stdout",
     "output_type": "stream",
     "text": [
      "CCpGeAeGaD\n",
      "density: 97.8 %\n",
      "Dense No Memmap: 1.171 ms\n",
      "Compressed Sparse: 9.154 ms\n",
      "Uncompressed Sparse: 3.733 ms\n",
      "\n",
      "DaGpBP\n",
      "density: 21.0 %\n",
      "Dense No Memmap: 2.751 ms\n",
      "Compressed Sparse: 15.2 ms\n",
      "Uncompressed Sparse: 4.849 ms\n",
      "\n",
      "MFpGdCcSE\n",
      "density: 14.1 %\n",
      "Dense No Memmap: 38.17 ms\n",
      "Compressed Sparse: 105.5 ms\n",
      "Uncompressed Sparse: 25.24 ms\n",
      "\n",
      "GiGpBP\n",
      "density: 4.65 %\n",
      "Dense No Memmap: 537.7 ms\n",
      "Compressed Sparse: 513.9 ms\n",
      "Uncompressed Sparse: 143.5 ms\n",
      "\n"
     ]
    }
   ],
   "source": [
    "for i in ['CCpGeAeGaD', 'DaGpBP', 'MFpGdCcSE', 'GiGpBP']:\n",
    "    print(i)\n",
    "    mat = np.load(f'data/{i}-dense-uncompressed.npy')\n",
    "    \n",
    "    density = 100 * (mat != 0).sum() / np.prod(mat.shape)\n",
    "    print(f'density: {density :.3} %')\n",
    "\n",
    "    # Create a vector to multiply\n",
    "    vector_size = mat.shape[0]\n",
    "    vec = np.zeros((1, vector_size))\n",
    "    # 4 search nodes\n",
    "    indices = np.random.randint(0, high=vector_size, size=4)\n",
    "    vec[0, indices] = 1\n",
    "    del mat\n",
    "    \n",
    "    t1 = time.time()\n",
    "    matrix = np.load(f'data/{i}-dense-uncompressed.npy')\n",
    "    output = vec @ matrix\n",
    "    t2 = time.time()\n",
    "    time_1 = t2 - t1\n",
    "    del matrix\n",
    "    del output\n",
    "    \n",
    "    t1 = time.time()\n",
    "    matrix = sparse.load_npz(f'data/{i}-sparse-compressed.npz')\n",
    "    output = vec @ matrix\n",
    "    t2 = time.time()\n",
    "    time_2 = t2 - t1\n",
    "    del matrix\n",
    "    del output\n",
    "    \n",
    "    t1 = time.time()\n",
    "    matrix = sparse.load_npz(f'data/{i}-sparse-uncompressed.npz')\n",
    "    output = vec @ matrix\n",
    "    t2 = time.time()\n",
    "    time_3 = t2 - t1\n",
    "    del matrix\n",
    "    del output\n",
    "    \n",
    "    print(f'Dense No Memmap: {1000 * time_1 :.4g} ms\\nCompressed Sparse: {1000 * time_2 :.4g} ms\\nUncompressed Sparse: {1000 * time_3 :.4g} ms\\n')"
   ]
  },
  {
   "cell_type": "markdown",
   "metadata": {
    "collapsed": true
   },
   "source": [
    "## Subset matrix memmap based on nonzero rows of the search vector"
   ]
  },
  {
   "cell_type": "code",
   "execution_count": 6,
   "metadata": {
    "scrolled": true
   },
   "outputs": [
    {
     "name": "stdout",
     "output_type": "stream",
     "text": [
      "CCpGeAeGaD\n",
      "(1391, 137)\n",
      "no memmap4: 0.4876 ms\n",
      "no memmap10: 0.3936 ms\n",
      "memmap4: 0.617 times no-memmap\n",
      "memmap10: 0.693 times no-memmap\n",
      "subset 4: 0.603 times no-memmap\n",
      "subset 10: 0.742 times no-memmap\n",
      "sparse-csc 4: 1.14 times no-memmap\n",
      "sparse-csc 10: 1.14 times no-memmap\n",
      "sparse-csr 4: 0.829 times no-memmap\n",
      "sparse-csr 10: 0.996 times no-memmap\n",
      "sparse-coo 4: 1.05 times no-memmap\n",
      "sparse-coo 10: 1.27 times no-memmap\n",
      "\n",
      "DaGpBP\n",
      "(137, 11381)\n",
      "no memmap4: 3.015 ms\n",
      "no memmap10: 2.264 ms\n",
      "memmap4: 0.317 times no-memmap\n",
      "memmap10: 0.31 times no-memmap\n",
      "subset 4: 0.519 times no-memmap\n",
      "subset 10: 0.698 times no-memmap\n",
      "sparse-csc 4: 1.73 times no-memmap\n",
      "sparse-csc 10: 2.0 times no-memmap\n",
      "sparse-csr 4: 1.78 times no-memmap\n",
      "sparse-csr 10: 3.04 times no-memmap\n",
      "sparse-coo 4: 6.88 times no-memmap\n",
      "sparse-coo 10: 9.84 times no-memmap\n",
      "\n",
      "MFpGdCcSE\n",
      "(2884, 5734)\n",
      "no memmap4: 38.59 ms\n",
      "no memmap10: 51.75 ms\n",
      "memmap4: 0.272 times no-memmap\n",
      "memmap10: 0.265 times no-memmap\n",
      "subset 4: 0.0846 times no-memmap\n",
      "subset 10: 0.0817 times no-memmap\n",
      "sparse-csc 4: 3.21 times no-memmap\n",
      "sparse-csc 10: 2.24 times no-memmap\n",
      "sparse-csr 4: 3.02 times no-memmap\n",
      "sparse-csr 10: 2.25 times no-memmap\n",
      "sparse-coo 4: 0.356 times no-memmap\n",
      "sparse-coo 10: 0.259 times no-memmap\n",
      "\n",
      "GiGpBP\n",
      "(20945, 11381)\n",
      "no memmap4: 544.8 ms\n",
      "no memmap10: 545.6 ms\n",
      "memmap4: 0.229 times no-memmap\n",
      "memmap10: 0.165 times no-memmap\n",
      "subset 4: 0.0834 times no-memmap\n",
      "subset 10: 0.0805 times no-memmap\n",
      "sparse-csc 4: 4.43 times no-memmap\n",
      "sparse-csc 10: 4.38 times no-memmap\n",
      "sparse-csr 4: 4.36 times no-memmap\n",
      "sparse-csr 10: 4.35 times no-memmap\n",
      "sparse-coo 4: 0.0917 times no-memmap\n",
      "sparse-coo 10: 0.0915 times no-memmap\n",
      "\n"
     ]
    }
   ],
   "source": [
    "for i in ['CCpGeAeGaD', 'DaGpBP', 'MFpGdCcSE', 'GiGpBP']:\n",
    "    print(i)\n",
    "    mat = np.load(f'data/{i}-dense-uncompressed.npy')\n",
    "    print(mat.shape)\n",
    "    \n",
    "    # Create a vector to multiply\n",
    "    vector_size = mat.shape[0]\n",
    "    vec4 = np.zeros((1, vector_size)).flatten()\n",
    "    vec10 = np.zeros((1, vector_size)).flatten()\n",
    "    \n",
    "    # 4 and 10 search nodes\n",
    "    indices4 = np.random.randint(0, high=vector_size, size=4)\n",
    "    indices10 = np.random.randint(0, high=vector_size, size=10)\n",
    "    vec4[indices4] = 1\n",
    "    vec10[indices10] = 1\n",
    "    del mat\n",
    "    print_str = ''\n",
    "    \n",
    "    # Sparse vectors\n",
    "    csc_vec4 = csc_matrix(vec4)\n",
    "    csc_vec10 = csc_matrix(vec10)\n",
    "    csr_vec4 = csr_matrix(vec4)\n",
    "    csr_vec10 = csr_matrix(vec10)\n",
    "    coo_vec4 = coo_matrix(vec4)\n",
    "    coo_vec10 = coo_matrix(vec10)\n",
    "    \n",
    "    # No memmap\n",
    "    t1 = time.time()\n",
    "    matrix = np.load(f'data/{i}-dense-uncompressed.npy', mmap_mode=None)\n",
    "    output = vec4 @ matrix\n",
    "    t2 = time.time()\n",
    "    time_1 = t2 - t1\n",
    "    del matrix\n",
    "    del output\n",
    "    print_str += f'no memmap4: {1000 * time_1 :.4g} ms\\n'\n",
    "    \n",
    "    t1 = time.time()\n",
    "    matrix = np.load(f'data/{i}-dense-uncompressed.npy', mmap_mode=None)\n",
    "    output = vec10 @ matrix\n",
    "    t2 = time.time()\n",
    "    time_2 = t2 - t1\n",
    "    del matrix\n",
    "    del output\n",
    "    print_str += f'no memmap10: {1000 * time_2 :.4g} ms\\n'\n",
    "        \n",
    "    # Simple memmap\n",
    "    t1 = time.time()\n",
    "    matrix = np.load(f'data/{i}-dense-uncompressed.npy', mmap_mode='r')\n",
    "    output = vec4 @ matrix\n",
    "    t2 = time.time()\n",
    "    time_3 = t2 - t1\n",
    "    del matrix\n",
    "    del output\n",
    "    print_str += f'memmap4: {time_3 / time_1 :.3} times no-memmap\\n'\n",
    "    \n",
    "    t1 = time.time()\n",
    "    matrix = np.load(f'data/{i}-dense-uncompressed.npy', mmap_mode='r')\n",
    "    output = vec10 @ matrix\n",
    "    t2 = time.time()\n",
    "    time_4 = t2 - t1\n",
    "    del matrix\n",
    "    del output\n",
    "    print_str += f'memmap10: {time_4 / time_2 :.3} times no-memmap\\n'\n",
    "          \n",
    "    # create new vector of ones\n",
    "    t1 = time.time()\n",
    "    matrix = np.load(f'data/{i}-dense-uncompressed.npy', mmap_mode='r')\n",
    "    output = np.ones(4) @ matrix[indices4]\n",
    "    t2 = time.time()\n",
    "    time_5 = t2 - t1\n",
    "    del matrix\n",
    "    del output\n",
    "    print_str += f'subset 4: {time_5 / time_1 :.3} times no-memmap\\n'\n",
    "    \n",
    "    t1 = time.time()\n",
    "    matrix = np.load(f'data/{i}-dense-uncompressed.npy', mmap_mode='r')\n",
    "    output = np.ones(10) @ matrix[indices10]\n",
    "    t2 = time.time()\n",
    "    time_6 = t2 - t1\n",
    "    del matrix\n",
    "    del output\n",
    "    print_str += f'subset 10: {time_6 / time_2 :.3} times no-memmap\\n'\n",
    "    \n",
    "    # multiply by sparse vector\n",
    "    # CSC matrix\n",
    "    t1 = time.time()\n",
    "    matrix = np.load(f'data/{i}-dense-uncompressed.npy', mmap_mode='r')\n",
    "    output = csc_vec4 @ matrix\n",
    "    t2 = time.time()\n",
    "    time_7 = t2 - t1\n",
    "    del matrix\n",
    "    del output\n",
    "    print_str += f'sparse-csc 4: {time_7 / time_1 :.3} times no-memmap\\n'\n",
    "    \n",
    "    t1 = time.time()\n",
    "    matrix = np.load(f'data/{i}-dense-uncompressed.npy', mmap_mode='r')\n",
    "    output = csc_vec4 @ matrix\n",
    "    t2 = time.time()\n",
    "    time_8 = t2 - t1\n",
    "    del matrix\n",
    "    del output\n",
    "    print_str += f'sparse-csc 10: {time_8 / time_2 :.3} times no-memmap\\n'\n",
    "    \n",
    "    # CSR matrix\n",
    "    t1 = time.time()\n",
    "    matrix = np.load(f'data/{i}-dense-uncompressed.npy', mmap_mode='r')\n",
    "    output = csr_vec4 @ matrix\n",
    "    t2 = time.time()\n",
    "    time_9 = t2 - t1\n",
    "    del matrix\n",
    "    del output\n",
    "    print_str += f'sparse-csr 4: {time_9 / time_1 :.3} times no-memmap\\n'\n",
    "    \n",
    "    t1 = time.time()\n",
    "    matrix = np.load(f'data/{i}-dense-uncompressed.npy', mmap_mode='r')\n",
    "    output = csr_vec4 @ matrix\n",
    "    t2 = time.time()\n",
    "    time_10 = t2 - t1\n",
    "    del matrix\n",
    "    del output\n",
    "    print_str += f'sparse-csr 10: {time_10 / time_2 :.3} times no-memmap\\n'\n",
    "        \n",
    "    # COO matrix\n",
    "    t1 = time.time()\n",
    "    matrix = np.load(f'data/{i}-dense-uncompressed.npy', mmap_mode='r')\n",
    "    output = coo_vec4 @ matrix\n",
    "    t2 = time.time()\n",
    "    time_11 = t2 - t1\n",
    "    del matrix\n",
    "    del output\n",
    "    print_str += f'sparse-coo 4: {time_11 / time_1 :.3} times no-memmap\\n'\n",
    "    \n",
    "    t1 = time.time()\n",
    "    matrix = np.load(f'data/{i}-dense-uncompressed.npy', mmap_mode='r')\n",
    "    output = coo_vec4 @ matrix\n",
    "    t2 = time.time()\n",
    "    time_12 = t2 - t1\n",
    "    del matrix\n",
    "    del output\n",
    "    print_str += f'sparse-coo 10: {time_12 / time_2 :.3} times no-memmap\\n'\n",
    "    \n",
    "    print(print_str)"
   ]
  },
  {
   "cell_type": "markdown",
   "metadata": {},
   "source": [
    "## Ensure that different forms give the same results"
   ]
  },
  {
   "cell_type": "code",
   "execution_count": 7,
   "metadata": {},
   "outputs": [],
   "source": [
    "mat = np.array([[1,2,3],[4,5,6],[7,8,9]])\n",
    "np.save('test_mat.npy', mat)\n",
    "del mat"
   ]
  },
  {
   "cell_type": "code",
   "execution_count": 8,
   "metadata": {},
   "outputs": [],
   "source": [
    "mat = np.load('test_mat.npy', mmap_mode='r')"
   ]
  },
  {
   "cell_type": "code",
   "execution_count": 9,
   "metadata": {},
   "outputs": [
    {
     "data": {
      "text/plain": [
       "array([[5, 7, 9]])"
      ]
     },
     "execution_count": 9,
     "metadata": {},
     "output_type": "execute_result"
    }
   ],
   "source": [
    "vec = np.array([[1,1,0]], dtype=np.bool_)\n",
    "\n",
    "vec @ mat"
   ]
  },
  {
   "cell_type": "code",
   "execution_count": 10,
   "metadata": {},
   "outputs": [
    {
     "data": {
      "text/plain": [
       "array([[5, 7, 9]], dtype=int64)"
      ]
     },
     "execution_count": 10,
     "metadata": {},
     "output_type": "execute_result"
    }
   ],
   "source": [
    "csc_vec = csc_matrix(vec)\n",
    "\n",
    "csc_vec @ mat"
   ]
  },
  {
   "cell_type": "code",
   "execution_count": 11,
   "metadata": {},
   "outputs": [
    {
     "data": {
      "text/plain": [
       "array([[5, 7, 9]], dtype=int64)"
      ]
     },
     "execution_count": 11,
     "metadata": {},
     "output_type": "execute_result"
    }
   ],
   "source": [
    "csr_vec = csr_matrix(vec)\n",
    "\n",
    "csr_vec @ mat"
   ]
  },
  {
   "cell_type": "code",
   "execution_count": 12,
   "metadata": {},
   "outputs": [
    {
     "data": {
      "text/plain": [
       "array([[5, 7, 9]], dtype=int64)"
      ]
     },
     "execution_count": 12,
     "metadata": {},
     "output_type": "execute_result"
    }
   ],
   "source": [
    "coo_vec = coo_matrix(vec)\n",
    "\n",
    "coo_vec @ mat"
   ]
  },
  {
   "cell_type": "code",
   "execution_count": 13,
   "metadata": {},
   "outputs": [],
   "source": [
    "sparse_vec = coo_matrix(([1,1], ([0, 0], [0,1])), shape=(1,3), dtype=np.bool_)"
   ]
  },
  {
   "cell_type": "code",
   "execution_count": 14,
   "metadata": {},
   "outputs": [
    {
     "data": {
      "text/plain": [
       "array([[ True,  True, False]])"
      ]
     },
     "execution_count": 14,
     "metadata": {},
     "output_type": "execute_result"
    }
   ],
   "source": [
    "sparse_vec.toarray()"
   ]
  },
  {
   "cell_type": "code",
   "execution_count": 15,
   "metadata": {},
   "outputs": [
    {
     "data": {
      "text/plain": [
       "array([[5, 7, 9]], dtype=int64)"
      ]
     },
     "execution_count": 15,
     "metadata": {},
     "output_type": "execute_result"
    }
   ],
   "source": [
    "sparse_vec @ mat"
   ]
  },
  {
   "cell_type": "code",
   "execution_count": 16,
   "metadata": {},
   "outputs": [],
   "source": [
    "vector_size = mat.shape[0]\n",
    "vec4 = np.zeros((1, vector_size)).flatten()\n",
    "vec10 = np.zeros((1, vector_size)).flatten()\n",
    "\n",
    "# 4 and 10 search nodes\n",
    "indices4 = np.random.randint(0, high=vector_size, size=1)\n",
    "indices10 = np.random.randint(0, high=vector_size, size=2)\n",
    "vec4[indices4] = 1\n",
    "vec10[indices10] = 1"
   ]
  },
  {
   "cell_type": "code",
   "execution_count": 17,
   "metadata": {},
   "outputs": [
    {
     "data": {
      "text/plain": [
       "array([0., 1., 0.])"
      ]
     },
     "execution_count": 17,
     "metadata": {},
     "output_type": "execute_result"
    }
   ],
   "source": [
    "vec10"
   ]
  },
  {
   "cell_type": "code",
   "execution_count": 18,
   "metadata": {},
   "outputs": [
    {
     "data": {
      "text/plain": [
       "array([[4, 5, 6]], dtype=int64)"
      ]
     },
     "execution_count": 18,
     "metadata": {},
     "output_type": "execute_result"
    }
   ],
   "source": [
    "csr_matrix(vec10, dtype=np.bool_) @ mat"
   ]
  },
  {
   "cell_type": "markdown",
   "metadata": {},
   "source": [
    "### TODO: \n",
    "* Test different dtypes for both mat and vec\n",
    "* Compare sparse vector multiplication to dense, etc.\n",
    "* Compare different types of sparse vectors"
   ]
  },
  {
   "cell_type": "code",
   "execution_count": null,
   "metadata": {},
   "outputs": [],
   "source": []
  }
 ],
 "metadata": {
  "kernelspec": {
   "display_name": "Python [conda env:hetmech]",
   "language": "python",
   "name": "conda-env-hetmech-py"
  },
  "language_info": {
   "codemirror_mode": {
    "name": "ipython",
    "version": 3
   },
   "file_extension": ".py",
   "mimetype": "text/x-python",
   "name": "python",
   "nbconvert_exporter": "python",
   "pygments_lexer": "ipython3",
   "version": "3.6.4"
  }
 },
 "nbformat": 4,
 "nbformat_minor": 2
}
