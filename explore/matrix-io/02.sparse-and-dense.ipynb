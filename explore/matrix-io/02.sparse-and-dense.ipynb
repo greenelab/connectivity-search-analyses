{
 "cells": [
  {
   "cell_type": "code",
   "execution_count": 1,
   "metadata": {},
   "outputs": [],
   "source": [
    "import numpy as np\n",
    "from scipy import sparse\n",
    "import sys\n",
    "import os\n",
    "import time"
   ]
  },
  {
   "cell_type": "code",
   "execution_count": 2,
   "metadata": {},
   "outputs": [],
   "source": [
    "np.random.seed(0)"
   ]
  },
  {
   "cell_type": "markdown",
   "metadata": {},
   "source": [
    "## Sparse .npz (compressed) takes the least disk space regardless of density\n",
    "Uncompressed sparse matrices take more disk space when the matrices are very dense"
   ]
  },
  {
   "cell_type": "code",
   "execution_count": 3,
   "metadata": {
    "scrolled": true
   },
   "outputs": [
    {
     "name": "stdout",
     "output_type": "stream",
     "text": [
      "CCpGeAeGaD (1391, 137)\n",
      "density: 97.807%\n",
      "dense-uncompressed: 1.525 MB\n",
      "sparse-compressed: 1.347 MB\n",
      "sparse-uncompressed: 2.238 MB\n",
      "\n",
      "DaGpBP (137, 11381)\n",
      "density: 21.031%\n",
      "dense-uncompressed: 12.47 MB\n",
      "sparse-compressed: 2.529 MB\n",
      "sparse-uncompressed: 3.982 MB\n",
      "\n",
      "MFpGdCcSE (2884, 5734)\n",
      "density: 14.093%\n",
      "dense-uncompressed: 132.3 MB\n",
      "sparse-compressed: 17.79 MB\n",
      "sparse-uncompressed: 27.99 MB\n",
      "\n",
      "GiGpBP (20945, 11381)\n",
      "density: 4.650%\n",
      "dense-uncompressed: 1907 MB\n",
      "sparse-compressed: 73.81 MB\n",
      "sparse-uncompressed: 133.1 MB\n",
      "\n"
     ]
    }
   ],
   "source": [
    "for i in ['CCpGeAeGaD', 'DaGpBP', 'MFpGdCcSE', 'GiGpBP']:\n",
    "    mat = np.load(f'data/{i}-dense-uncompressed.npy')\n",
    "    print(i, mat.shape)\n",
    "    \n",
    "    density = (mat != 0).sum() / np.prod(mat.shape)\n",
    "    print(f'density: {density:.3%}')\n",
    "\n",
    "    sparse_mat = sparse.csc_matrix(mat, copy=True)\n",
    "\n",
    "    sparse.save_npz(f'data/{i}-sparse-compressed.npz', sparse_mat, compressed=True)\n",
    "    sparse.save_npz(f'data/{i}-sparse-uncompressed.npz', sparse_mat, compressed=False)\n",
    "    \n",
    "    dense_size = os.path.getsize(f'data/{i}-dense-uncompressed.npy') / 1000000\n",
    "    sparse_size = os.path.getsize(f'data/{i}-sparse-compressed.npz') / 1000000\n",
    "    sparse_un_size = os.path.getsize(f'data/{i}-sparse-uncompressed.npz') / 1000000\n",
    "    print(f'dense-uncompressed: {dense_size :.4g} MB\\nsparse-compressed: {sparse_size :.4g} MB\\nsparse-uncompressed: {sparse_un_size :.4g} MB\\n')"
   ]
  },
  {
   "cell_type": "markdown",
   "metadata": {},
   "source": [
    "## Memory-map reduces matrix-vector multiplication time for lower-density matrices\n",
    "\n",
    "Putting a normal load above a memmap load decreases memmap load time. However, loading memmap first does not speed up normal load times. Note, this only appears to be the case for very dense matrices. For best comparisons, we should always load a memmap matrix first in the sequence."
   ]
  },
  {
   "cell_type": "code",
   "execution_count": 4,
   "metadata": {
    "scrolled": true
   },
   "outputs": [
    {
     "name": "stdout",
     "output_type": "stream",
     "text": [
      "CCpGeAeGaD\n",
      "density: 97.8 %\n",
      "Normal: 0.353 ms\n",
      "MMAP: 0.787 ms\n",
      "MMAP2: 0.302 ms\n",
      "\n",
      "DaGpBP\n",
      "density: 21.0 %\n",
      "Normal: 1.86 ms\n",
      "MMAP: 0.956 ms\n",
      "MMAP2: 0.962 ms\n",
      "\n",
      "MFpGdCcSE\n",
      "density: 14.1 %\n",
      "Normal: 38 ms\n",
      "MMAP: 5.59 ms\n",
      "MMAP2: 5.62 ms\n",
      "\n",
      "GiGpBP\n",
      "density: 4.65 %\n",
      "Normal: 531 ms\n",
      "MMAP: 68.8 ms\n",
      "MMAP2: 67.4 ms\n",
      "\n"
     ]
    }
   ],
   "source": [
    "for i in ['CCpGeAeGaD', 'DaGpBP', 'MFpGdCcSE', 'GiGpBP']:\n",
    "    print(i)\n",
    "    mat = np.load(f'data/{i}-dense-uncompressed.npy')\n",
    "    \n",
    "    density = 100 * (mat != 0).sum() / np.prod(mat.shape)\n",
    "    print(f'density: {density :.3} %')\n",
    "\n",
    "    # Create a vector to multiply\n",
    "    vector_size = mat.shape[0]\n",
    "    vec = np.zeros((1, vector_size))\n",
    "    # 4 search nodes\n",
    "    indices = np.random.randint(0, high=vector_size, size=4)\n",
    "    vec[0, indices] = 1\n",
    "    del mat\n",
    "    \n",
    "    t1 = time.time()\n",
    "    matrix = np.load(f'data/{i}-dense-uncompressed.npy', mmap_mode='r')\n",
    "    output = vec @ matrix\n",
    "    t2 = time.time()\n",
    "    time_2 = t2 - t1\n",
    "    del matrix\n",
    "    del output\n",
    "    \n",
    "    t1 = time.time()\n",
    "    matrix = np.load(f'data/{i}-dense-uncompressed.npy', mmap_mode=None)\n",
    "    output = vec @ matrix\n",
    "    t2 = time.time()\n",
    "    time_1 = t2 - t1\n",
    "    del matrix\n",
    "    del output\n",
    "    \n",
    "    # Second memory-map load time for comparison\n",
    "    t1 = time.time()\n",
    "    matrix = np.load(f'data/{i}-dense-uncompressed.npy', mmap_mode='r')\n",
    "    output = vec @ matrix\n",
    "    t2 = time.time()\n",
    "    time_3 = t2 - t1\n",
    "    del matrix\n",
    "    del output\n",
    "      \n",
    "    print(f'Normal: {1000 * time_1 :.3g} ms\\nMMAP: {1000 * time_2 :.3g} ms\\nMMAP2: {1000 * time_3 :.3g} ms\\n')"
   ]
  },
  {
   "cell_type": "markdown",
   "metadata": {},
   "source": [
    "## Sparse (uncompressed/compressed) vs Dense\n",
    "\n",
    "Uncompressed sparse matrices load and multiply about as quickly as dense matrices. The order of matrix reads does not change for sparse reads from npz files. Compressed sparse matrices take an order of magnitude more time to load and multiply."
   ]
  },
  {
   "cell_type": "code",
   "execution_count": 5,
   "metadata": {},
   "outputs": [
    {
     "name": "stdout",
     "output_type": "stream",
     "text": [
      "CCpGeAeGaD\n",
      "density: 97.8 %\n",
      "Dense No Memmap: 0.5474 ms\n",
      "Compressed Sparse: 8.545 ms\n",
      "Uncompressed Sparse: 3.298 ms\n",
      "\n",
      "DaGpBP\n",
      "density: 21.0 %\n",
      "Dense No Memmap: 2.028 ms\n",
      "Compressed Sparse: 14.86 ms\n",
      "Uncompressed Sparse: 4.775 ms\n",
      "\n",
      "MFpGdCcSE\n",
      "density: 14.1 %\n",
      "Dense No Memmap: 36.93 ms\n",
      "Compressed Sparse: 101.6 ms\n",
      "Uncompressed Sparse: 25.39 ms\n",
      "\n",
      "GiGpBP\n",
      "density: 4.65 %\n",
      "Dense No Memmap: 586.6 ms\n",
      "Compressed Sparse: 519.6 ms\n",
      "Uncompressed Sparse: 140.8 ms\n",
      "\n"
     ]
    }
   ],
   "source": [
    "for i in ['CCpGeAeGaD', 'DaGpBP', 'MFpGdCcSE', 'GiGpBP']:\n",
    "    print(i)\n",
    "    mat = np.load(f'data/{i}-dense-uncompressed.npy')\n",
    "    \n",
    "    density = 100 * (mat != 0).sum() / np.prod(mat.shape)\n",
    "    print(f'density: {density :.3} %')\n",
    "\n",
    "    # Create a vector to multiply\n",
    "    vector_size = mat.shape[0]\n",
    "    vec = np.zeros((1, vector_size))\n",
    "    # 4 search nodes\n",
    "    indices = np.random.randint(0, high=vector_size, size=4)\n",
    "    vec[0, indices] = 1\n",
    "    del mat\n",
    "    \n",
    "    t1 = time.time()\n",
    "    matrix = np.load(f'data/{i}-dense-uncompressed.npy')\n",
    "    output = vec @ matrix\n",
    "    t2 = time.time()\n",
    "    time_1 = t2 - t1\n",
    "    del matrix\n",
    "    del output\n",
    "    \n",
    "    t1 = time.time()\n",
    "    matrix = sparse.load_npz(f'data/{i}-sparse-compressed.npz')\n",
    "    output = vec @ matrix\n",
    "    t2 = time.time()\n",
    "    time_2 = t2 - t1\n",
    "    del matrix\n",
    "    del output\n",
    "    \n",
    "    t1 = time.time()\n",
    "    matrix = sparse.load_npz(f'data/{i}-sparse-uncompressed.npz')\n",
    "    output = vec @ matrix\n",
    "    t2 = time.time()\n",
    "    time_3 = t2 - t1\n",
    "    del matrix\n",
    "    del output\n",
    "    \n",
    "    print(f'Dense No Memmap: {1000 * time_1 :.4g} ms\\nCompressed Sparse: {1000 * time_2 :.4g} ms\\nUncompressed Sparse: {1000 * time_3 :.4g} ms\\n')"
   ]
  },
  {
   "cell_type": "markdown",
   "metadata": {
    "collapsed": true
   },
   "source": [
    "## Subset matrix memmap based on nonzero rows of the search vector"
   ]
  },
  {
   "cell_type": "code",
   "execution_count": 6,
   "metadata": {
    "scrolled": true
   },
   "outputs": [
    {
     "name": "stdout",
     "output_type": "stream",
     "text": [
      "CCpGeAeGaD\n",
      "(1391, 137)\n",
      "no memmap4: 0.4263 ms\n",
      "no memmap10: 0.3448 ms\n",
      "memmap4: 0.718 times no-memmap\n",
      "memmap10: 0.82 times no-memmap\n",
      "subset 4: 0.573 times no-memmap\n",
      "subset 10: 0.72 times no-memmap\n",
      "\n",
      "DaGpBP\n",
      "(137, 11381)\n",
      "no memmap4: 1.983 ms\n",
      "no memmap10: 1.926 ms\n",
      "memmap4: 0.482 times no-memmap\n",
      "memmap10: 0.389 times no-memmap\n",
      "subset 4: 0.163 times no-memmap\n",
      "subset 10: 0.181 times no-memmap\n",
      "\n",
      "MFpGdCcSE\n",
      "(2884, 5734)\n",
      "no memmap4: 37.46 ms\n",
      "no memmap10: 43.65 ms\n",
      "memmap4: 0.172 times no-memmap\n",
      "memmap10: 0.132 times no-memmap\n",
      "subset 4: 0.011 times no-memmap\n",
      "subset 10: 0.00758 times no-memmap\n",
      "\n",
      "GiGpBP\n",
      "(20945, 11381)\n",
      "no memmap4: 532.1 ms\n",
      "no memmap10: 534.7 ms\n",
      "memmap4: 0.128 times no-memmap\n",
      "memmap10: 0.126 times no-memmap\n",
      "subset 4: 0.0597 times no-memmap\n",
      "subset 10: 0.0741 times no-memmap\n",
      "\n"
     ]
    }
   ],
   "source": [
    "for i in ['CCpGeAeGaD', 'DaGpBP', 'MFpGdCcSE', 'GiGpBP']:\n",
    "    print(i)\n",
    "    mat = np.load(f'data/{i}-dense-uncompressed.npy')\n",
    "    print(mat.shape)\n",
    "    \n",
    "    # Create a vector to multiply\n",
    "    vector_size = mat.shape[0]\n",
    "    vec4 = np.zeros((1, vector_size)).flatten()\n",
    "    vec10 = np.zeros((1, vector_size)).flatten()\n",
    "    \n",
    "    # 4 search nodes\n",
    "    indices4 = np.random.randint(0, high=vector_size, size=4)\n",
    "    indices10 = np.random.randint(0, high=vector_size, size=10)\n",
    "    vec4[indices4] = 1\n",
    "    vec10[indices10] = 1\n",
    "    del mat\n",
    "    print_str = ''\n",
    "    \n",
    "    # No memmap\n",
    "    t1 = time.time()\n",
    "    matrix = np.load(f'data/{i}-dense-uncompressed.npy', mmap_mode=None)\n",
    "    output = vec4 @ matrix\n",
    "    t2 = time.time()\n",
    "    time_1 = t2 - t1\n",
    "    del matrix\n",
    "    del output\n",
    "    print_str += f'no memmap4: {1000 * time_1 :.4g} ms\\n'\n",
    "    \n",
    "    t1 = time.time()\n",
    "    matrix = np.load(f'data/{i}-dense-uncompressed.npy', mmap_mode=None)\n",
    "    output = vec10 @ matrix\n",
    "    t2 = time.time()\n",
    "    time_2 = t2 - t1\n",
    "    del matrix\n",
    "    del output\n",
    "    print_str += f'no memmap10: {1000 * time_2 :.4g} ms\\n'\n",
    "        \n",
    "    # Simple memmap\n",
    "    t1 = time.time()\n",
    "    matrix = np.load(f'data/{i}-dense-uncompressed.npy', mmap_mode='r')\n",
    "    output = vec4 @ matrix\n",
    "    t2 = time.time()\n",
    "    time_3 = t2 - t1\n",
    "    del matrix\n",
    "    del output\n",
    "    print_str += f'memmap4: {time_3 / time_1 :.3} times no-memmap\\n'\n",
    "    \n",
    "    t1 = time.time()\n",
    "    matrix = np.load(f'data/{i}-dense-uncompressed.npy', mmap_mode='r')\n",
    "    output = vec10 @ matrix\n",
    "    t2 = time.time()\n",
    "    time_4 = t2 - t1\n",
    "    del matrix\n",
    "    del output\n",
    "    print_str += f'memmap10: {time_4 / time_2 :.3} times no-memmap\\n'\n",
    "          \n",
    "    # create new vector of ones\n",
    "    t1 = time.time()\n",
    "    matrix = np.load(f'data/{i}-dense-uncompressed.npy', mmap_mode='r')\n",
    "    output = np.ones(4) @ matrix[indices4]\n",
    "    t2 = time.time()\n",
    "    time_5 = t2 - t1\n",
    "    del matrix\n",
    "    del output\n",
    "    print_str += f'subset 4: {time_5 / time_1 :.3} times no-memmap\\n'\n",
    "    \n",
    "    t1 = time.time()\n",
    "    matrix = np.load(f'data/{i}-dense-uncompressed.npy', mmap_mode='r')\n",
    "    output = np.ones(10) @ matrix[indices10]\n",
    "    t2 = time.time()\n",
    "    time_6 = t2 - t1\n",
    "    del matrix\n",
    "    del output\n",
    "    print_str += f'subset 10: {time_6 / time_2 :.3} times no-memmap\\n'\n",
    "        \n",
    "    print(print_str)"
   ]
  }
 ],
 "metadata": {
  "kernelspec": {
   "display_name": "Python [conda env:hetmech]",
   "language": "python",
   "name": "conda-env-hetmech-py"
  },
  "language_info": {
   "codemirror_mode": {
    "name": "ipython",
    "version": 3
   },
   "file_extension": ".py",
   "mimetype": "text/x-python",
   "name": "python",
   "nbconvert_exporter": "python",
   "pygments_lexer": "ipython3",
   "version": "3.6.4"
  }
 },
 "nbformat": 4,
 "nbformat_minor": 2
}
