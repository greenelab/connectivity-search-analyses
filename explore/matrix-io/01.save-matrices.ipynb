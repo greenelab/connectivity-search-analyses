{
 "cells": [
  {
   "cell_type": "code",
   "execution_count": 1,
   "metadata": {},
   "outputs": [],
   "source": [
    "import numpy as np\n",
    "from scipy import sparse\n",
    "from neo4j.v1 import GraphDatabase\n",
    "import hetio.readwrite\n",
    "import hetio.neo4j\n",
    "import hetio.pathtools"
   ]
  },
  {
   "cell_type": "code",
   "execution_count": 3,
   "metadata": {},
   "outputs": [
    {
     "name": "stdout",
     "output_type": "stream",
     "text": [
      "Collecting git+https://github.com/dhimmel/hetio@aa5d12ec43d2dfd349893df9efd9ef8f665c982b\n",
      "  Cloning https://github.com/dhimmel/hetio (to aa5d12ec43d2dfd349893df9efd9ef8f665c982b) to /tmp/pip-73nytd3z-build\n",
      "\u001b[33m  Could not find a tag or branch 'aa5d12ec43d2dfd349893df9efd9ef8f665c982b', assuming commit.\u001b[0m\n",
      "Requirement already up-to-date: regex in /home/michael/miniconda3/envs/hetmech/lib/python3.6/site-packages (from hetio==0.2.8)\n",
      "Installing collected packages: hetio\n",
      "  Found existing installation: hetio 0.2.7\n",
      "    Uninstalling hetio-0.2.7:\n",
      "      Successfully uninstalled hetio-0.2.7\n",
      "  Running setup.py install for hetio ... \u001b[?25ldone\n",
      "\u001b[?25hSuccessfully installed hetio-0.2.8\n"
     ]
    }
   ],
   "source": [
    "!{sys.executable} -m pip install git+https://github.com/dhimmel/hetio@aa5d12ec43d2dfd349893df9efd9ef8f665c982b --upgrade"
   ]
  },
  {
   "cell_type": "code",
   "execution_count": 4,
   "metadata": {},
   "outputs": [],
   "source": [
    "import sys\n",
    "sys.path.insert(0,'../../')\n",
    "from hetmech.degree_weight import dwpc"
   ]
  },
  {
   "cell_type": "code",
   "execution_count": 5,
   "metadata": {},
   "outputs": [],
   "source": [
    "url = 'https://github.com/dhimmel/hetionet/raw/76550e6c93fbe92124edc71725e8c7dd4ca8b1f5/hetnet/json/hetionet-v1.0.json.bz2'\n",
    "graph = hetio.readwrite.read_graph(url)\n",
    "metagraph = graph.metagraph"
   ]
  },
  {
   "cell_type": "code",
   "execution_count": 6,
   "metadata": {},
   "outputs": [
    {
     "ename": "TypeError",
     "evalue": "dwpc() got an unexpected keyword argument 'sparse_threshold'",
     "output_type": "error",
     "traceback": [
      "\u001b[0;31m---------------------------------------------------------------------------\u001b[0m",
      "\u001b[0;31mTypeError\u001b[0m                                 Traceback (most recent call last)",
      "\u001b[0;32m<ipython-input-6-71d384ddc807>\u001b[0m in \u001b[0;36m<module>\u001b[0;34m()\u001b[0m\n\u001b[1;32m      1\u001b[0m \u001b[0;31m# Calculate DWPC using dense matrices\u001b[0m\u001b[0;34m\u001b[0m\u001b[0;34m\u001b[0m\u001b[0m\n\u001b[1;32m      2\u001b[0m \u001b[0;32mfor\u001b[0m \u001b[0mi\u001b[0m \u001b[0;32min\u001b[0m \u001b[0;34m[\u001b[0m\u001b[0;34m'CCpGeAeGaD'\u001b[0m\u001b[0;34m,\u001b[0m \u001b[0;34m'DaGpBP'\u001b[0m\u001b[0;34m,\u001b[0m \u001b[0;34m'MFpGdCcSE'\u001b[0m\u001b[0;34m]\u001b[0m\u001b[0;34m:\u001b[0m\u001b[0;34m\u001b[0m\u001b[0m\n\u001b[0;32m----> 3\u001b[0;31m     \u001b[0mrow\u001b[0m\u001b[0;34m,\u001b[0m \u001b[0mcol\u001b[0m\u001b[0;34m,\u001b[0m \u001b[0mdwpc_mat\u001b[0m\u001b[0;34m,\u001b[0m \u001b[0mt\u001b[0m \u001b[0;34m=\u001b[0m \u001b[0mdwpc\u001b[0m\u001b[0;34m(\u001b[0m\u001b[0mgraph\u001b[0m\u001b[0;34m,\u001b[0m \u001b[0mmetagraph\u001b[0m\u001b[0;34m.\u001b[0m\u001b[0mmetapath_from_abbrev\u001b[0m\u001b[0;34m(\u001b[0m\u001b[0mi\u001b[0m\u001b[0;34m)\u001b[0m\u001b[0;34m,\u001b[0m \u001b[0msparse_threshold\u001b[0m\u001b[0;34m=\u001b[0m\u001b[0;36m1\u001b[0m\u001b[0;34m)\u001b[0m\u001b[0;34m\u001b[0m\u001b[0m\n\u001b[0m\u001b[1;32m      4\u001b[0m     \u001b[0mnp\u001b[0m\u001b[0;34m.\u001b[0m\u001b[0msave\u001b[0m\u001b[0;34m(\u001b[0m\u001b[0;34mf'data/{i}-dense-uncompressed.npy'\u001b[0m\u001b[0;34m,\u001b[0m \u001b[0mdwpc_mat\u001b[0m\u001b[0;34m)\u001b[0m\u001b[0;34m\u001b[0m\u001b[0m\n\u001b[1;32m      5\u001b[0m     \u001b[0;32mdel\u001b[0m \u001b[0mdwpc_mat\u001b[0m\u001b[0;34m\u001b[0m\u001b[0m\n",
      "\u001b[0;31mTypeError\u001b[0m: dwpc() got an unexpected keyword argument 'sparse_threshold'"
     ]
    }
   ],
   "source": [
    "# Calculate DWPC using dense matrices\n",
    "for i in ['CCpGeAeGaD', 'DaGpBP', 'MFpGdCcSE']:\n",
    "    row, col, dwpc_mat, t = dwpc(graph, metagraph.metapath_from_abbrev(i), dense_threshold=1)\n",
    "    np.save(f'data/{i}-dense-uncompressed.npy', dwpc_mat)\n",
    "    del dwpc_mat"
   ]
  },
  {
   "cell_type": "code",
   "execution_count": 5,
   "metadata": {},
   "outputs": [],
   "source": [
    "# Calculate GiGpBP DWPC using sparse matrices\n",
    "row, col, dwpc_mat, t = dwpc(graph, metagraph.metapath_from_abbrev('GiGpBP'), sparse_threshold=1)\n",
    "dwpc_mat = dwpc_mat.toarray()\n",
    "np.save(f'data/GiGpBP-dense-uncompressed.npy', dwpc_mat)\n",
    "del dwpc_mat"
   ]
  }
 ],
 "metadata": {
  "kernelspec": {
   "display_name": "Python [conda env:hetmech]",
   "language": "python",
   "name": "conda-env-hetmech-py"
  },
  "language_info": {
   "codemirror_mode": {
    "name": "ipython",
    "version": 3
   },
   "file_extension": ".py",
   "mimetype": "text/x-python",
   "name": "python",
   "nbconvert_exporter": "python",
   "pygments_lexer": "ipython3",
   "version": "3.6.4"
  }
 },
 "nbformat": 4,
 "nbformat_minor": 2
}
