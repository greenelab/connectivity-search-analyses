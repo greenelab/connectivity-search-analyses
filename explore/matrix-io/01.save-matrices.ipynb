{
 "cells": [
  {
   "cell_type": "code",
   "execution_count": 1,
   "metadata": {},
   "outputs": [],
   "source": [
    "import numpy as np\n",
    "from scipy import sparse\n",
    "from neo4j.v1 import GraphDatabase\n",
    "import hetio.readwrite\n",
    "import hetio.neo4j\n",
    "import hetio.pathtools"
   ]
  },
  {
   "cell_type": "code",
   "execution_count": 2,
   "metadata": {},
   "outputs": [],
   "source": [
    "import sys\n",
    "sys.path.insert(0,'../../')\n",
    "from hetmech.degree_weight import dwpc"
   ]
  },
  {
   "cell_type": "code",
   "execution_count": 3,
   "metadata": {},
   "outputs": [],
   "source": [
    "url = 'https://github.com/dhimmel/hetionet/raw/76550e6c93fbe92124edc71725e8c7dd4ca8b1f5/hetnet/json/hetionet-v1.0.json.bz2'\n",
    "graph = hetio.readwrite.read_graph(url)\n",
    "metagraph = graph.metagraph"
   ]
  },
  {
   "cell_type": "code",
   "execution_count": 4,
   "metadata": {},
   "outputs": [],
   "source": [
    "# Calculate DWPC using dense matrices\n",
    "for i in ['CCpGeAeGaD', 'DaGpBP', 'MFpGdCcSE']:\n",
    "    row, col, dwpc_mat, t = dwpc(graph, metagraph.metapath_from_abbrev(i), sparse_threshold=0)\n",
    "    np.save(f'data/{i}-dense-uncompressed.npy', dwpc_mat)\n",
    "    del dwpc_mat"
   ]
  },
  {
   "cell_type": "code",
   "execution_count": 5,
   "metadata": {},
   "outputs": [],
   "source": [
    "# Calculate GiGpBP DWPC using sparse matrices\n",
    "row, col, dwpc_mat, t = dwpc(graph, metagraph.metapath_from_abbrev('GiGpBP'), sparse_threshold=1)\n",
    "dwpc_mat = dwpc_mat.toarray()\n",
    "np.save(f'data/GiGpBP-dense-uncompressed.npy', dwpc_mat)\n",
    "del dwpc_mat"
   ]
  }
 ],
 "metadata": {
  "kernelspec": {
   "display_name": "Python [conda env:hetmech]",
   "language": "python",
   "name": "conda-env-hetmech-py"
  },
  "language_info": {
   "codemirror_mode": {
    "name": "ipython",
    "version": 3
   },
   "file_extension": ".py",
   "mimetype": "text/x-python",
   "name": "python",
   "nbconvert_exporter": "python",
   "pygments_lexer": "ipython3",
   "version": "3.6.4"
  }
 },
 "nbformat": 4,
 "nbformat_minor": 2
}
