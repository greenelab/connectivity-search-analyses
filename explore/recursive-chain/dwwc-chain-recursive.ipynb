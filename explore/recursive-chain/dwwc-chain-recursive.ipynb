{
 "cells": [
  {
   "cell_type": "code",
   "execution_count": 1,
   "metadata": {},
   "outputs": [],
   "source": [
    "%load_ext autoreload\n",
    "%autoreload 2\n",
    "\n",
    "import time\n",
    "\n",
    "import numpy as np\n",
    "import pandas as pd\n",
    "import pytest\n",
    "import tqdm\n",
    "\n",
    "import hetmech.degree_weight\n",
    "import hetmech.hetmat\n",
    "import hetmech.hetmat.caching"
   ]
  },
  {
   "cell_type": "code",
   "execution_count": 2,
   "metadata": {},
   "outputs": [],
   "source": [
    "# Three hetmats so that there is no cache sharing\n",
    "hetmat = hetmech.hetmat.HetMat('../data/hetionet-v1.0.hetmat/')\n",
    "hetmat.path_counts_cache = hetmech.hetmat.caching.PathCountPriorityCache(hetmat, allocate_GB=5)\n",
    "\n",
    "hetmat_nocache = hetmech.hetmat.HetMat('../data/hetionet-v1.0.hetmat/')\n",
    "\n",
    "hetmat_rec = hetmech.hetmat.HetMat('../data/hetionet-v1.0.hetmat/')\n",
    "hetmat_rec.path_counts_cache = hetmech.hetmat.caching.PathCountPriorityCache(hetmat_rec, allocate_GB=5)\n",
    "\n",
    "hetmat_rec_nocache = hetmech.hetmat.HetMat('../data/hetionet-v1.0.hetmat/')\n",
    "\n",
    "hetmat_chain = hetmech.hetmat.HetMat('../data/hetionet-v1.0.hetmat/')\n",
    "hetmat_rec.path_counts_cache = hetmech.hetmat.caching.PathCountPriorityCache(hetmat_chain, allocate_GB=5)\n",
    "\n",
    "hetmat_chain_nocache = hetmech.hetmat.HetMat('../data/hetionet-v1.0.hetmat/')"
   ]
  },
  {
   "cell_type": "code",
   "execution_count": 3,
   "metadata": {},
   "outputs": [
    {
     "data": {
      "text/plain": [
       "1172"
      ]
     },
     "execution_count": 3,
     "metadata": {},
     "output_type": "execute_result"
    }
   ],
   "source": [
    "# Rephetio metapaths\n",
    "metapaths = list()\n",
    "for metapath in hetmat.metagraph.extract_metapaths('Compound', 'Disease', max_length=4):\n",
    "    if hetmech.degree_weight.categorize(metapath) in {'long_repeat', 'other'}:\n",
    "        continue\n",
    "    metapaths.append(metapath)\n",
    "len(metapaths)"
   ]
  },
  {
   "cell_type": "code",
   "execution_count": 4,
   "metadata": {},
   "outputs": [],
   "source": [
    "def equal_outputs(metapath, dense_threshold=0, dtype=np.float64):\n",
    "    \"\"\"Compute DWWC using all three functions, and ensure that they give the same output.\"\"\"\n",
    "    time1 = time.time()\n",
    "    \n",
    "    # Original DWWC method with cache\n",
    "    row_original, col_original, dwwc_original = hetmech.degree_weight.dwwc(\n",
    "        hetmat, metapath, dense_threshold=dense_threshold, dtype=dtype)\n",
    "    time2 = time.time()\n",
    "    \n",
    "    # Original DWWC method no cache\n",
    "    row_original, col_original, dwwc_original = hetmech.degree_weight.dwwc(\n",
    "        hetmat_nocache, metapath, dense_threshold=dense_threshold, dtype=dtype)\n",
    "    time3 = time.time()\n",
    "    \n",
    "    # Recursive with cache\n",
    "    row_rec, col_rec, dwwc_rec = hetmech.degree_weight.dwwc_recursive(\n",
    "        hetmat_rec, metapath, dense_threshold=dense_threshold, dtype=dtype)\n",
    "    time4 = time.time()\n",
    "    \n",
    "    # Recursive no cache\n",
    "    row_rec, col_rec, dwwc_rec = hetmech.degree_weight.dwwc_recursive(\n",
    "        hetmat_rec_nocache, metapath, dense_threshold=dense_threshold, dtype=dtype)\n",
    "    time5 = time.time()\n",
    "    \n",
    "    # Chain ordering with cache\n",
    "    row_chain, col_chain, dwwc_chain = hetmech.degree_weight.dwwc_chain(\n",
    "        hetmat_chain, metapath, dense_threshold=dense_threshold, dtype=dtype)\n",
    "    time6 = time.time()\n",
    "    \n",
    "    # Chain ordering no cache\n",
    "    row_chain, col_chain, dwwc_chain = hetmech.degree_weight.dwwc_chain(\n",
    "        hetmat_chain_nocache, metapath, dense_threshold=dense_threshold, dtype=dtype)\n",
    "    time7 = time.time()\n",
    "    \n",
    "    # Metapath \\ abbrev \\ dwwc \\ dwwc (nocache) \\ recursive \\ recursive (nocache) \\ chain ordering \\ chain ordering (nocache)\n",
    "    times = [metapath, str(metapath), time2 - time1, time3 - time2, time4 - time3, time5 - time4, time6 - time5, time7 - time6]\n",
    "    \n",
    "    # Ensure identical outputs\n",
    "    try:\n",
    "        assert (row_rec == row_original) and (row_chain == row_original) and \\\n",
    "            (col_rec == col_original) and (col_chain == col_original)\n",
    "        assert abs(dwwc_rec - dwwc_original).max() == pytest.approx(0, abs=1e-7)\n",
    "        assert abs(dwwc_chain - dwwc_original).max() == pytest.approx(0, abs=1e-7)\n",
    "    except AssertionError:\n",
    "        print(metapath)\n",
    "    return times"
   ]
  },
  {
   "cell_type": "code",
   "execution_count": 5,
   "metadata": {},
   "outputs": [
    {
     "name": "stderr",
     "output_type": "stream",
     "text": [
      "100%|██████████| 1172/1172 [11:26<00:00,  1.71it/s]\n"
     ]
    }
   ],
   "source": [
    "all_times = []\n",
    "\n",
    "for metapath in tqdm.tqdm(metapaths):\n",
    "    times = equal_outputs(metapath, dense_threshold=1)\n",
    "    all_times.append(times)"
   ]
  },
  {
   "cell_type": "code",
   "execution_count": 6,
   "metadata": {},
   "outputs": [],
   "source": [
    "df = pd.DataFrame(all_times, columns=['metapath', 'abbrev', 'dwwc', 'dwwc-nocache', 'recursive', 'recursive-nocache', 'chain', 'chain-nocache'])"
   ]
  },
  {
   "cell_type": "code",
   "execution_count": 7,
   "metadata": {},
   "outputs": [],
   "source": [
    "df.to_csv('../data/rephetio-DWWCs-hetmat-runtime.tsv', sep='\\t', index=False, float_format='%.5g')"
   ]
  },
  {
   "cell_type": "code",
   "execution_count": 8,
   "metadata": {},
   "outputs": [
    {
     "data": {
      "text/html": [
       "<div>\n",
       "<style scoped>\n",
       "    .dataframe tbody tr th:only-of-type {\n",
       "        vertical-align: middle;\n",
       "    }\n",
       "\n",
       "    .dataframe tbody tr th {\n",
       "        vertical-align: top;\n",
       "    }\n",
       "\n",
       "    .dataframe thead th {\n",
       "        text-align: right;\n",
       "    }\n",
       "</style>\n",
       "<table border=\"1\" class=\"dataframe\">\n",
       "  <thead>\n",
       "    <tr style=\"text-align: right;\">\n",
       "      <th></th>\n",
       "      <th>metapath</th>\n",
       "      <th>abbrev</th>\n",
       "      <th>dwwc</th>\n",
       "      <th>dwwc-nocache</th>\n",
       "      <th>recursive</th>\n",
       "      <th>recursive-nocache</th>\n",
       "      <th>chain</th>\n",
       "      <th>chain-nocache</th>\n",
       "    </tr>\n",
       "  </thead>\n",
       "  <tbody>\n",
       "    <tr>\n",
       "      <th>0</th>\n",
       "      <td>(Compound - treats - Disease)</td>\n",
       "      <td>CtD</td>\n",
       "      <td>0.012113</td>\n",
       "      <td>0.010203</td>\n",
       "      <td>0.015093</td>\n",
       "      <td>0.009698</td>\n",
       "      <td>0.005038</td>\n",
       "      <td>0.009103</td>\n",
       "    </tr>\n",
       "    <tr>\n",
       "      <th>1</th>\n",
       "      <td>(Compound - palliates - Disease)</td>\n",
       "      <td>CpD</td>\n",
       "      <td>0.005205</td>\n",
       "      <td>0.004499</td>\n",
       "      <td>0.004950</td>\n",
       "      <td>0.005305</td>\n",
       "      <td>0.004784</td>\n",
       "      <td>0.004607</td>\n",
       "    </tr>\n",
       "    <tr>\n",
       "      <th>2</th>\n",
       "      <td>(Compound - binds - Gene, Gene - upregulates -...</td>\n",
       "      <td>CbGuD</td>\n",
       "      <td>0.028660</td>\n",
       "      <td>0.027946</td>\n",
       "      <td>0.044667</td>\n",
       "      <td>0.031032</td>\n",
       "      <td>0.015608</td>\n",
       "      <td>0.029849</td>\n",
       "    </tr>\n",
       "    <tr>\n",
       "      <th>3</th>\n",
       "      <td>(Compound - binds - Gene, Gene - associates - ...</td>\n",
       "      <td>CbGaD</td>\n",
       "      <td>0.019062</td>\n",
       "      <td>0.018711</td>\n",
       "      <td>0.020574</td>\n",
       "      <td>0.020411</td>\n",
       "      <td>0.019298</td>\n",
       "      <td>0.019199</td>\n",
       "    </tr>\n",
       "    <tr>\n",
       "      <th>4</th>\n",
       "      <td>(Compound - binds - Gene, Gene - downregulates...</td>\n",
       "      <td>CbGdD</td>\n",
       "      <td>0.022728</td>\n",
       "      <td>0.017297</td>\n",
       "      <td>0.018483</td>\n",
       "      <td>0.017620</td>\n",
       "      <td>0.019113</td>\n",
       "      <td>0.016835</td>\n",
       "    </tr>\n",
       "  </tbody>\n",
       "</table>\n",
       "</div>"
      ],
      "text/plain": [
       "                                            metapath abbrev      dwwc  \\\n",
       "0                      (Compound - treats - Disease)    CtD  0.012113   \n",
       "1                   (Compound - palliates - Disease)    CpD  0.005205   \n",
       "2  (Compound - binds - Gene, Gene - upregulates -...  CbGuD  0.028660   \n",
       "3  (Compound - binds - Gene, Gene - associates - ...  CbGaD  0.019062   \n",
       "4  (Compound - binds - Gene, Gene - downregulates...  CbGdD  0.022728   \n",
       "\n",
       "   dwwc-nocache  recursive  recursive-nocache     chain  chain-nocache  \n",
       "0      0.010203   0.015093           0.009698  0.005038       0.009103  \n",
       "1      0.004499   0.004950           0.005305  0.004784       0.004607  \n",
       "2      0.027946   0.044667           0.031032  0.015608       0.029849  \n",
       "3      0.018711   0.020574           0.020411  0.019298       0.019199  \n",
       "4      0.017297   0.018483           0.017620  0.019113       0.016835  "
      ]
     },
     "execution_count": 8,
     "metadata": {},
     "output_type": "execute_result"
    }
   ],
   "source": [
    "df.head()"
   ]
  },
  {
   "cell_type": "code",
   "execution_count": 9,
   "metadata": {},
   "outputs": [
    {
     "data": {
      "text/plain": [
       "dwwc                 0.175063\n",
       "dwwc-nocache         0.169251\n",
       "recursive            0.030078\n",
       "recursive-nocache    0.077846\n",
       "chain                0.065509\n",
       "chain-nocache        0.065507\n",
       "dtype: float64"
      ]
     },
     "execution_count": 9,
     "metadata": {},
     "output_type": "execute_result"
    }
   ],
   "source": [
    "df.mean()"
   ]
  },
  {
   "cell_type": "code",
   "execution_count": 10,
   "metadata": {},
   "outputs": [
    {
     "data": {
      "text/plain": [
       "dwwc                 205.173711\n",
       "dwwc-nocache         198.362262\n",
       "recursive             35.251375\n",
       "recursive-nocache     91.235952\n",
       "chain                 76.777119\n",
       "chain-nocache         76.773913\n",
       "dtype: float64"
      ]
     },
     "execution_count": 10,
     "metadata": {},
     "output_type": "execute_result"
    }
   ],
   "source": [
    "df.sum()"
   ]
  },
  {
   "cell_type": "code",
   "execution_count": 11,
   "metadata": {},
   "outputs": [],
   "source": [
    "from scipy import stats"
   ]
  },
  {
   "cell_type": "code",
   "execution_count": 12,
   "metadata": {},
   "outputs": [
    {
     "data": {
      "text/plain": [
       "Ttest_relResult(statistic=-36.79049850804164, pvalue=1.461763495606208e-197)"
      ]
     },
     "execution_count": 12,
     "metadata": {},
     "output_type": "execute_result"
    }
   ],
   "source": [
    "stats.ttest_rel(df['dwwc-nocache'], df['dwwc'])"
   ]
  },
  {
   "cell_type": "code",
   "execution_count": 13,
   "metadata": {},
   "outputs": [
    {
     "data": {
      "text/plain": [
       "Ttest_relResult(statistic=-0.0363549819336121, pvalue=0.9710055058688127)"
      ]
     },
     "execution_count": 13,
     "metadata": {},
     "output_type": "execute_result"
    }
   ],
   "source": [
    "stats.ttest_rel(df['chain-nocache'], df['chain'])"
   ]
  },
  {
   "cell_type": "markdown",
   "metadata": {},
   "source": [
    "## Example of typically long computations: Cache and no cache"
   ]
  },
  {
   "cell_type": "code",
   "execution_count": 14,
   "metadata": {},
   "outputs": [
    {
     "name": "stdout",
     "output_type": "stream",
     "text": [
      "1.61 ms ± 6.92 µs per loop (mean ± std. dev. of 7 runs, 1000 loops each)\n"
     ]
    }
   ],
   "source": [
    "%%timeit\n",
    "\n",
    "_ = hetmech.degree_weight.dwwc(hetmat, 'CbGeAeGaD', dense_threshold=1)"
   ]
  },
  {
   "cell_type": "code",
   "execution_count": 15,
   "metadata": {},
   "outputs": [
    {
     "name": "stdout",
     "output_type": "stream",
     "text": [
      "2.32 s ± 11.9 ms per loop (mean ± std. dev. of 7 runs, 1 loop each)\n"
     ]
    }
   ],
   "source": [
    "%%timeit\n",
    "\n",
    "_ = hetmech.degree_weight.dwwc(hetmat_nocache, 'CbGeAeGaD', dense_threshold=1)"
   ]
  },
  {
   "cell_type": "code",
   "execution_count": 16,
   "metadata": {},
   "outputs": [
    {
     "name": "stdout",
     "output_type": "stream",
     "text": [
      "1.62 ms ± 15.6 µs per loop (mean ± std. dev. of 7 runs, 1000 loops each)\n"
     ]
    }
   ],
   "source": [
    "%%timeit\n",
    "\n",
    "_ = hetmech.degree_weight.dwwc_recursive(hetmat, 'CbGeAeGaD', dense_threshold=1)"
   ]
  },
  {
   "cell_type": "code",
   "execution_count": 17,
   "metadata": {},
   "outputs": [
    {
     "name": "stdout",
     "output_type": "stream",
     "text": [
      "357 ms ± 11.8 ms per loop (mean ± std. dev. of 7 runs, 1 loop each)\n"
     ]
    }
   ],
   "source": [
    "%%timeit\n",
    "\n",
    "_ = hetmech.degree_weight.dwwc_recursive(hetmat_nocache, 'CbGeAeGaD', dense_threshold=1)"
   ]
  },
  {
   "cell_type": "code",
   "execution_count": 18,
   "metadata": {},
   "outputs": [
    {
     "name": "stdout",
     "output_type": "stream",
     "text": [
      "1.72 ms ± 112 µs per loop (mean ± std. dev. of 7 runs, 1000 loops each)\n"
     ]
    }
   ],
   "source": [
    "%%timeit\n",
    "\n",
    "_ = hetmech.degree_weight.dwwc_chain(hetmat, 'CbGeAeGaD', dense_threshold=1)"
   ]
  },
  {
   "cell_type": "code",
   "execution_count": 19,
   "metadata": {},
   "outputs": [
    {
     "name": "stdout",
     "output_type": "stream",
     "text": [
      "324 ms ± 2.14 ms per loop (mean ± std. dev. of 7 runs, 1 loop each)\n"
     ]
    }
   ],
   "source": [
    "%%timeit\n",
    "\n",
    "_ = hetmech.degree_weight.dwwc_chain(hetmat_nocache, 'CbGeAeGaD', dense_threshold=1)"
   ]
  },
  {
   "cell_type": "markdown",
   "metadata": {},
   "source": [
    "## Find the fastest method over all metapaths <= length 4\n",
    "\n",
    "Manually stopped after 19 hours due to excessive expected runtime. It appears that `dwwc_chain` remains the fastest way to compute bulk metapaths."
   ]
  },
  {
   "cell_type": "code",
   "execution_count": 20,
   "metadata": {},
   "outputs": [
    {
     "name": "stderr",
     "output_type": "stream",
     "text": [
      "100%|██████████| 38894/38894 [35:00:58<00:00,  3.24s/it]   \n"
     ]
    }
   ],
   "source": [
    "hetmat_chain = hetmech.hetmat.HetMat('../data/hetionet-v1.0.hetmat/')\n",
    "hetmat_rec = hetmech.hetmat.HetMat('../data/hetionet-v1.0.hetmat/')\n",
    "hetmat_rec.path_counts_cache = hetmech.hetmat.caching.PathCountPriorityCache(hetmat_rec, allocate_GB=10)\n",
    "\n",
    "times = [] \n",
    "for metapath in tqdm.tqdm(hetmat.metagraph.extract_all_metapaths(max_length=4)):\n",
    "    recursive_cached = False\n",
    "    if hetmat_rec.path_counts_cache.get(metapath, 'dwwc', 0.5):\n",
    "        recursive_cached = True\n",
    "        \n",
    "    time1 = time.time() \n",
    "    hetmech.degree_weight.dwwc_chain(hetmat_chain, metapath, dense_threshold=1)\n",
    "    time2 = time.time()\n",
    "    hetmech.degree_weight.dwwc_recursive(hetmat_rec, metapath, dense_threshold=1)\n",
    "    time3 = time.time()\n",
    "    \n",
    "    # metapath, chain time, recursive time, rec-was-cached\n",
    "    times.append([metapath, time2 - time1, time3 - time2, recursive_cached])"
   ]
  },
  {
   "cell_type": "code",
   "execution_count": 21,
   "metadata": {},
   "outputs": [],
   "source": [
    "dwwc_df = pd.DataFrame(times, columns=['metapath', 'dwwc-chain', 'dwwc-recursive', 'recursive_cached'])\n",
    "dwwc_df.to_csv('../explore/all-paths-DWWC-times.tsv', sep='\\t', index=False, float_format='%.5g')"
   ]
  },
  {
   "cell_type": "code",
   "execution_count": 22,
   "metadata": {},
   "outputs": [
    {
     "data": {
      "text/html": [
       "<div>\n",
       "<style scoped>\n",
       "    .dataframe tbody tr th:only-of-type {\n",
       "        vertical-align: middle;\n",
       "    }\n",
       "\n",
       "    .dataframe tbody tr th {\n",
       "        vertical-align: top;\n",
       "    }\n",
       "\n",
       "    .dataframe thead th {\n",
       "        text-align: right;\n",
       "    }\n",
       "</style>\n",
       "<table border=\"1\" class=\"dataframe\">\n",
       "  <thead>\n",
       "    <tr style=\"text-align: right;\">\n",
       "      <th></th>\n",
       "      <th>metapath</th>\n",
       "      <th>dwwc-chain</th>\n",
       "      <th>dwwc-recursive</th>\n",
       "      <th>recursive_cached</th>\n",
       "    </tr>\n",
       "  </thead>\n",
       "  <tbody>\n",
       "    <tr>\n",
       "      <th>0</th>\n",
       "      <td>(Anatomy - upregulates - Gene)</td>\n",
       "      <td>0.036298</td>\n",
       "      <td>0.037633</td>\n",
       "      <td>False</td>\n",
       "    </tr>\n",
       "    <tr>\n",
       "      <th>1</th>\n",
       "      <td>(Anatomy - downregulates - Gene)</td>\n",
       "      <td>0.017841</td>\n",
       "      <td>0.017111</td>\n",
       "      <td>False</td>\n",
       "    </tr>\n",
       "    <tr>\n",
       "      <th>2</th>\n",
       "      <td>(Anatomy - localizes - Disease)</td>\n",
       "      <td>0.008540</td>\n",
       "      <td>0.009807</td>\n",
       "      <td>False</td>\n",
       "    </tr>\n",
       "    <tr>\n",
       "      <th>3</th>\n",
       "      <td>(Anatomy - expresses - Gene)</td>\n",
       "      <td>0.051133</td>\n",
       "      <td>0.040807</td>\n",
       "      <td>False</td>\n",
       "    </tr>\n",
       "    <tr>\n",
       "      <th>4</th>\n",
       "      <td>(Anatomy - upregulates - Gene, Gene - upregula...</td>\n",
       "      <td>0.035236</td>\n",
       "      <td>0.032447</td>\n",
       "      <td>False</td>\n",
       "    </tr>\n",
       "  </tbody>\n",
       "</table>\n",
       "</div>"
      ],
      "text/plain": [
       "                                            metapath  dwwc-chain  \\\n",
       "0                     (Anatomy - upregulates - Gene)    0.036298   \n",
       "1                   (Anatomy - downregulates - Gene)    0.017841   \n",
       "2                    (Anatomy - localizes - Disease)    0.008540   \n",
       "3                       (Anatomy - expresses - Gene)    0.051133   \n",
       "4  (Anatomy - upregulates - Gene, Gene - upregula...    0.035236   \n",
       "\n",
       "   dwwc-recursive  recursive_cached  \n",
       "0        0.037633             False  \n",
       "1        0.017111             False  \n",
       "2        0.009807             False  \n",
       "3        0.040807             False  \n",
       "4        0.032447             False  "
      ]
     },
     "execution_count": 22,
     "metadata": {},
     "output_type": "execute_result"
    }
   ],
   "source": [
    "dwwc_df.head()"
   ]
  },
  {
   "cell_type": "code",
   "execution_count": 23,
   "metadata": {},
   "outputs": [
    {
     "data": {
      "text/plain": [
       "dwwc-chain          31940.143505\n",
       "dwwc-recursive      94078.729804\n",
       "recursive_cached      166.000000\n",
       "dtype: float64"
      ]
     },
     "execution_count": 23,
     "metadata": {},
     "output_type": "execute_result"
    }
   ],
   "source": [
    "dwwc_df.sum()"
   ]
  },
  {
   "cell_type": "code",
   "execution_count": null,
   "metadata": {},
   "outputs": [],
   "source": []
  }
 ],
 "metadata": {
  "kernelspec": {
   "display_name": "Python 3",
   "language": "python",
   "name": "python3"
  },
  "language_info": {
   "codemirror_mode": {
    "name": "ipython",
    "version": 3
   },
   "file_extension": ".py",
   "mimetype": "text/x-python",
   "name": "python",
   "nbconvert_exporter": "python",
   "pygments_lexer": "ipython3",
   "version": "3.6.4"
  }
 },
 "nbformat": 4,
 "nbformat_minor": 2
}
