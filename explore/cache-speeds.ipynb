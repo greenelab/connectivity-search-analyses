{
 "cells": [
  {
   "cell_type": "markdown",
   "metadata": {},
   "source": [
    "# Evaluating efficiency gains from caching"
   ]
  },
  {
   "cell_type": "code",
   "execution_count": 1,
   "metadata": {},
   "outputs": [],
   "source": [
    "%load_ext autoreload\n",
    "%autoreload 2\n",
    "\n",
    "%matplotlib inline\n",
    "import collections\n",
    "import time\n",
    "\n",
    "import hetmech.degree_weight\n",
    "import hetmech.hetmat\n",
    "import hetmech.hetmat.caching"
   ]
  },
  {
   "cell_type": "code",
   "execution_count": 2,
   "metadata": {},
   "outputs": [],
   "source": [
    "hetmat = hetmech.hetmat.HetMat('../data/hetionet-v1.0.hetmat/')"
   ]
  },
  {
   "cell_type": "code",
   "execution_count": 3,
   "metadata": {},
   "outputs": [
    {
     "data": {
      "text/plain": [
       "1172"
      ]
     },
     "execution_count": 3,
     "metadata": {},
     "output_type": "execute_result"
    }
   ],
   "source": [
    "metapaths = list()\n",
    "for metapath in hetmat.metagraph.extract_metapaths('Compound', 'Disease', max_length=4):\n",
    "    if hetmech.degree_weight.categorize(metapath) in {'long_repeat', 'other'}:\n",
    "        continue\n",
    "    metapaths.append(metapath)\n",
    "# metapaths = metapaths[:3]  # for development\n",
    "len(metapaths)"
   ]
  },
  {
   "cell_type": "code",
   "execution_count": 4,
   "metadata": {},
   "outputs": [],
   "source": [
    "segment_counts = hetmech.degree_weight.order_segments(hetmat.metagraph, metapaths, store_inverses=False)"
   ]
  },
  {
   "cell_type": "code",
   "execution_count": 5,
   "metadata": {},
   "outputs": [
    {
     "data": {
      "text/plain": [
       "4740"
      ]
     },
     "execution_count": 5,
     "metadata": {},
     "output_type": "execute_result"
    }
   ],
   "source": [
    "sum(segment_counts.values())"
   ]
  },
  {
   "cell_type": "code",
   "execution_count": 6,
   "metadata": {},
   "outputs": [
    {
     "data": {
      "text/plain": [
       "[(CtD, 306),\n",
       " (CpD, 306),\n",
       " (CdG, 291),\n",
       " (CbG, 291),\n",
       " (CuG, 291),\n",
       " (GuD, 279),\n",
       " (GdD, 279),\n",
       " (GaD, 279),\n",
       " (Gr>G, 144),\n",
       " (CrC, 91)]"
      ]
     },
     "execution_count": 6,
     "metadata": {},
     "output_type": "execute_result"
    }
   ],
   "source": [
    "segment_counts.most_common(10)"
   ]
  },
  {
   "cell_type": "code",
   "execution_count": 7,
   "metadata": {},
   "outputs": [
    {
     "data": {
      "text/plain": [
       "1255"
      ]
     },
     "execution_count": 7,
     "metadata": {},
     "output_type": "execute_result"
    }
   ],
   "source": [
    "# Why are there so few segments?\n",
    "len(segment_counts)"
   ]
  },
  {
   "cell_type": "markdown",
   "metadata": {},
   "source": [
    "## Caching performance when computing rephetio metapaths"
   ]
  },
  {
   "cell_type": "code",
   "execution_count": 8,
   "metadata": {},
   "outputs": [],
   "source": [
    "def compute_dwpcs(allocate_GB):\n",
    "    print(f'Beginning DWPCs for {len(metapaths):,} metapaths with a cache allocation of {allocate_GB:.2f} GB')\n",
    "    cache = hetmech.hetmat.caching.PathCountPriorityCache(hetmat, allocate_GB=allocate_GB)\n",
    "    cache.priorities = segment_counts\n",
    "    hetmat.path_counts_cache = cache\n",
    "    start = time.perf_counter()\n",
    "    for metapath in metapaths:\n",
    "        rows_ids, col_ids, matrix = hetmech.degree_weight.dwpc(hetmat, metapath, dense_threshold=0.7)\n",
    "    end = time.perf_counter()\n",
    "    total = time.strftime('%H:%M:%S', time.gmtime(end - start))\n",
    "    print(f'Computation complete in {total}')\n",
    "    print(cache.get_stats())\n",
    "    print()\n",
    "    return cache"
   ]
  },
  {
   "cell_type": "code",
   "execution_count": 9,
   "metadata": {},
   "outputs": [
    {
     "name": "stdout",
     "output_type": "stream",
     "text": [
      "Beginning DWPCs for 1,172 metapaths with a cache allocation of 0.00 GB\n",
      "Computation complete in 00:28:29\n",
      "PathCountPriorityCache containing 0 items\n",
      "  total gets: 4,141\n",
      "  cache hits: memory = 0, disk = 0, absent = 4,141\n",
      "  0.00 GB in use of 0.00 GB allocated\n",
      "\n",
      "Beginning DWPCs for 1,172 metapaths with a cache allocation of 0.20 GB\n",
      "Computation complete in 00:27:35\n",
      "PathCountPriorityCache containing 222 items\n",
      "  total gets: 4,141\n",
      "  cache hits: memory = 2,877, disk = 0, absent = 1,264\n",
      "  0.20 GB in use of 0.20 GB allocated\n",
      "\n",
      "Beginning DWPCs for 1,172 metapaths with a cache allocation of 1.00 GB\n",
      "Computation complete in 00:25:27\n",
      "PathCountPriorityCache containing 1,228 items\n",
      "  total gets: 4,141\n",
      "  cache hits: memory = 2,937, disk = 0, absent = 1,204\n",
      "  0.67 GB in use of 1.00 GB allocated\n",
      "\n",
      "Beginning DWPCs for 1,172 metapaths with a cache allocation of 5.00 GB\n",
      "Computation complete in 00:25:24\n",
      "PathCountPriorityCache containing 1,228 items\n",
      "  total gets: 4,141\n",
      "  cache hits: memory = 2,937, disk = 0, absent = 1,204\n",
      "  0.67 GB in use of 5.00 GB allocated\n",
      "\n",
      "Beginning DWPCs for 1,172 metapaths with a cache allocation of 20.00 GB\n",
      "Computation complete in 00:27:06\n",
      "PathCountPriorityCache containing 1,228 items\n",
      "  total gets: 4,141\n",
      "  cache hits: memory = 2,937, disk = 0, absent = 1,204\n",
      "  0.67 GB in use of 20.00 GB allocated\n",
      "\n"
     ]
    }
   ],
   "source": [
    "for allocate_GB in 0, 0.2, 1, 5, 20:\n",
    "    cache = compute_dwpcs(allocate_GB)"
   ]
  },
  {
   "cell_type": "markdown",
   "metadata": {},
   "source": [
    "## Caching performance when computing the _CbGiGaDrD_ metapath repeatedly"
   ]
  },
  {
   "cell_type": "code",
   "execution_count": 8,
   "metadata": {},
   "outputs": [],
   "source": [
    "def repeated_compute_dwpcs(allocate_GB):\n",
    "    metapath = 'CbGiGaDrD'\n",
    "    print(f'Beginning DWPCs for 100 × {metapath} with a cache allocation of {allocate_GB:.2f} GB')\n",
    "    cache = hetmech.hetmat.caching.PathCountPriorityCache(hetmat, allocate_GB=allocate_GB)\n",
    "    hetmat.path_counts_cache = cache\n",
    "    start = time.perf_counter()\n",
    "    for i in range(200):\n",
    "        rows_ids, col_ids, matrix = hetmech.degree_weight.dwpc(hetmat, metapath, dense_threshold=0.7)\n",
    "    end = time.perf_counter()\n",
    "    total = time.strftime('%H:%M:%S', time.gmtime(end - start))\n",
    "    print(f'Computation complete in {total}')\n",
    "    print(cache.get_stats())\n",
    "    print()\n",
    "    return cache"
   ]
  },
  {
   "cell_type": "code",
   "execution_count": 9,
   "metadata": {},
   "outputs": [
    {
     "name": "stdout",
     "output_type": "stream",
     "text": [
      "Beginning DWPCs for 100 × CbGiGaDrD with a cache allocation of 0.00 GB\n",
      "Computation complete in 00:00:13\n",
      "PathCountPriorityCache containing 0 items\n",
      "  total gets: 1,000\n",
      "  cache hits: memory = 0, disk = 0, absent = 1,000\n",
      "  0.00 GB in use of 0.00 GB allocated\n",
      "\n",
      "Beginning DWPCs for 100 × CbGiGaDrD with a cache allocation of 0.20 GB\n",
      "Computation complete in 00:00:00\n",
      "PathCountPriorityCache containing 5 items\n",
      "  total gets: 204\n",
      "  cache hits: memory = 199, disk = 0, absent = 5\n",
      "  0.01 GB in use of 0.20 GB allocated\n",
      "\n"
     ]
    }
   ],
   "source": [
    "for allocate_GB in 0, 0.2:\n",
    "    cache = repeated_compute_dwpcs(allocate_GB)"
   ]
  },
  {
   "cell_type": "code",
   "execution_count": 10,
   "metadata": {},
   "outputs": [
    {
     "data": {
      "text/plain": [
       "[CbGiGaDrD, CbG, GiG, GaD, DrD]"
      ]
     },
     "execution_count": 10,
     "metadata": {},
     "output_type": "execute_result"
    }
   ],
   "source": [
    "hetmech.degree_weight.get_all_segments(hetmat.metagraph, 'CbGiGaDrD')"
   ]
  },
  {
   "cell_type": "code",
   "execution_count": 11,
   "metadata": {},
   "outputs": [
    {
     "data": {
      "text/plain": [
       "[(CbG, 'dwpc', 0.5),\n",
       " (GiG, 'dwpc', 0.5),\n",
       " (GaD, 'dwpc', 0.5),\n",
       " (DrD, 'dwpc', 0.5),\n",
       " (CbGiGaDrD, 'dwpc', 0.5)]"
      ]
     },
     "execution_count": 11,
     "metadata": {},
     "output_type": "execute_result"
    }
   ],
   "source": [
    "list(cache.cache)"
   ]
  }
 ],
 "metadata": {
  "kernelspec": {
   "display_name": "Python [conda env:hetmech]",
   "language": "python",
   "name": "conda-env-hetmech-py"
  },
  "language_info": {
   "codemirror_mode": {
    "name": "ipython",
    "version": 3
   },
   "file_extension": ".py",
   "mimetype": "text/x-python",
   "name": "python",
   "nbconvert_exporter": "python",
   "pygments_lexer": "ipython3",
   "version": "3.6.4"
  }
 },
 "nbformat": 4,
 "nbformat_minor": 2
}
