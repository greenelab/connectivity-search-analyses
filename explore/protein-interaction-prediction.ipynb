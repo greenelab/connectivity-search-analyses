{
 "cells": [
  {
   "cell_type": "markdown",
   "metadata": {},
   "source": [
    "# Explore DWPC prediction of systematic protein interactions\n",
    "\n",
    "https://github.com/greenelab/connectivity-search-analyses/issues/176"
   ]
  },
  {
   "cell_type": "code",
   "execution_count": 1,
   "metadata": {},
   "outputs": [],
   "source": [
    "import pandas as pd\n",
    "import numpy as np\n",
    "import plotnine as pn\n",
    "import random\n",
    "from sklearn.metrics import roc_auc_score\n",
    "\n",
    "from hetmatpy.hetmat import HetMat\n",
    "from hetmatpy.pipeline import combine_dwpc_dgp\n"
   ]
  },
  {
   "cell_type": "code",
   "execution_count": 2,
   "metadata": {},
   "outputs": [
    {
     "data": {
      "text/html": [
       "<div>\n",
       "<style scoped>\n",
       "    .dataframe tbody tr th:only-of-type {\n",
       "        vertical-align: middle;\n",
       "    }\n",
       "\n",
       "    .dataframe tbody tr th {\n",
       "        vertical-align: top;\n",
       "    }\n",
       "\n",
       "    .dataframe thead th {\n",
       "        text-align: right;\n",
       "    }\n",
       "</style>\n",
       "<table border=\"1\" class=\"dataframe\">\n",
       "  <thead>\n",
       "    <tr style=\"text-align: right;\">\n",
       "      <th></th>\n",
       "      <th>ensembl_representative_gene_id</th>\n",
       "      <th>ncbigene_id</th>\n",
       "      <th>gene_symbol</th>\n",
       "      <th>ncbigene_symbol</th>\n",
       "    </tr>\n",
       "  </thead>\n",
       "  <tbody>\n",
       "    <tr>\n",
       "      <th>0</th>\n",
       "      <td>ENSG00000000003</td>\n",
       "      <td>7105</td>\n",
       "      <td>TSPAN6</td>\n",
       "      <td>TSPAN6</td>\n",
       "    </tr>\n",
       "    <tr>\n",
       "      <th>1</th>\n",
       "      <td>ENSG00000000005</td>\n",
       "      <td>64102</td>\n",
       "      <td>TNMD</td>\n",
       "      <td>TNMD</td>\n",
       "    </tr>\n",
       "  </tbody>\n",
       "</table>\n",
       "</div>"
      ],
      "text/plain": [
       "  ensembl_representative_gene_id  ncbigene_id gene_symbol ncbigene_symbol\n",
       "0                ENSG00000000003         7105      TSPAN6          TSPAN6\n",
       "1                ENSG00000000005        64102        TNMD            TNMD"
      ]
     },
     "execution_count": 2,
     "metadata": {},
     "output_type": "execute_result"
    }
   ],
   "source": [
    "url = \"https://github.com/related-sciences/ensembl-genes/raw/output/homo_sapiens_core_105_38/xref_ncbigene.json.gz\"\n",
    "ensembl_xref = pd.read_json(url)\n",
    "ensembl_xref.head(2)"
   ]
  },
  {
   "cell_type": "code",
   "execution_count": 3,
   "metadata": {},
   "outputs": [
    {
     "data": {
      "text/html": [
       "<div>\n",
       "<style scoped>\n",
       "    .dataframe tbody tr th:only-of-type {\n",
       "        vertical-align: middle;\n",
       "    }\n",
       "\n",
       "    .dataframe tbody tr th {\n",
       "        vertical-align: top;\n",
       "    }\n",
       "\n",
       "    .dataframe thead th {\n",
       "        text-align: right;\n",
       "    }\n",
       "</style>\n",
       "<table border=\"1\" class=\"dataframe\">\n",
       "  <thead>\n",
       "    <tr style=\"text-align: right;\">\n",
       "      <th></th>\n",
       "      <th>input_ensembl_gene_id</th>\n",
       "      <th>ensembl_representative_gene_id</th>\n",
       "      <th>ncbigene_id</th>\n",
       "      <th>gene_symbol</th>\n",
       "      <th>ncbigene_symbol</th>\n",
       "    </tr>\n",
       "  </thead>\n",
       "  <tbody>\n",
       "    <tr>\n",
       "      <th>0</th>\n",
       "      <td>ASMPATCHG00000000170</td>\n",
       "      <td>ENSG00000256229</td>\n",
       "      <td>90649</td>\n",
       "      <td>ZNF486</td>\n",
       "      <td>ZNF486</td>\n",
       "    </tr>\n",
       "    <tr>\n",
       "      <th>1</th>\n",
       "      <td>ENSG00000256229</td>\n",
       "      <td>ENSG00000256229</td>\n",
       "      <td>90649</td>\n",
       "      <td>ZNF486</td>\n",
       "      <td>ZNF486</td>\n",
       "    </tr>\n",
       "  </tbody>\n",
       "</table>\n",
       "</div>"
      ],
      "text/plain": [
       "  input_ensembl_gene_id ensembl_representative_gene_id  ncbigene_id  \\\n",
       "0  ASMPATCHG00000000170                ENSG00000256229        90649   \n",
       "1       ENSG00000256229                ENSG00000256229        90649   \n",
       "\n",
       "  gene_symbol ncbigene_symbol  \n",
       "0      ZNF486          ZNF486  \n",
       "1      ZNF486          ZNF486  "
      ]
     },
     "execution_count": 3,
     "metadata": {},
     "output_type": "execute_result"
    }
   ],
   "source": [
    "url = \"https://github.com/related-sciences/ensembl-genes/raw/output/homo_sapiens_core_105_38/updates.json.gz\"\n",
    "ensembl_updates = (\n",
    "    pd.read_json(url)\n",
    "    .rename(columns={\"ensembl_gene_id\": \"ensembl_representative_gene_id\"})\n",
    "    [[\"input_ensembl_gene_id\", \"ensembl_representative_gene_id\"]]\n",
    "    .merge(ensembl_xref)\n",
    ")\n",
    "ensembl_updates.head(2)"
   ]
  },
  {
   "cell_type": "code",
   "execution_count": 4,
   "metadata": {},
   "outputs": [
    {
     "data": {
      "text/html": [
       "<div>\n",
       "<style scoped>\n",
       "    .dataframe tbody tr th:only-of-type {\n",
       "        vertical-align: middle;\n",
       "    }\n",
       "\n",
       "    .dataframe tbody tr th {\n",
       "        vertical-align: top;\n",
       "    }\n",
       "\n",
       "    .dataframe thead th {\n",
       "        text-align: right;\n",
       "    }\n",
       "</style>\n",
       "<table border=\"1\" class=\"dataframe\">\n",
       "  <thead>\n",
       "    <tr style=\"text-align: right;\">\n",
       "      <th></th>\n",
       "      <th>source__input_ensembl_gene_id</th>\n",
       "      <th>target__input_ensembl_gene_id</th>\n",
       "    </tr>\n",
       "  </thead>\n",
       "  <tbody>\n",
       "    <tr>\n",
       "      <th>0</th>\n",
       "      <td>ENSG00000000005</td>\n",
       "      <td>ENSG00000061656</td>\n",
       "    </tr>\n",
       "    <tr>\n",
       "      <th>1</th>\n",
       "      <td>ENSG00000000005</td>\n",
       "      <td>ENSG00000099968</td>\n",
       "    </tr>\n",
       "  </tbody>\n",
       "</table>\n",
       "</div>"
      ],
      "text/plain": [
       "  source__input_ensembl_gene_id target__input_ensembl_gene_id\n",
       "0               ENSG00000000005               ENSG00000061656\n",
       "1               ENSG00000000005               ENSG00000099968"
      ]
     },
     "execution_count": 4,
     "metadata": {},
     "output_type": "execute_result"
    }
   ],
   "source": [
    "url = \"http://www.interactome-atlas.org/data/HuRI.tsv\"\n",
    "huri_df = pd.read_table(url, names=[\"source__input_ensembl_gene_id\", \"target__input_ensembl_gene_id\"])\n",
    "huri_df.head(2)"
   ]
  },
  {
   "cell_type": "code",
   "execution_count": 5,
   "metadata": {},
   "outputs": [
    {
     "data": {
      "text/html": [
       "<div>\n",
       "<style scoped>\n",
       "    .dataframe tbody tr th:only-of-type {\n",
       "        vertical-align: middle;\n",
       "    }\n",
       "\n",
       "    .dataframe tbody tr th {\n",
       "        vertical-align: top;\n",
       "    }\n",
       "\n",
       "    .dataframe thead th {\n",
       "        text-align: right;\n",
       "    }\n",
       "</style>\n",
       "<table border=\"1\" class=\"dataframe\">\n",
       "  <thead>\n",
       "    <tr style=\"text-align: right;\">\n",
       "      <th></th>\n",
       "      <th>source__input_ensembl_gene_id</th>\n",
       "      <th>target__input_ensembl_gene_id</th>\n",
       "      <th>source__ensembl_representative_gene_id</th>\n",
       "      <th>source__ncbigene_id</th>\n",
       "      <th>source__gene_symbol</th>\n",
       "      <th>source__ncbigene_symbol</th>\n",
       "      <th>target__ensembl_representative_gene_id</th>\n",
       "      <th>target__ncbigene_id</th>\n",
       "      <th>target__gene_symbol</th>\n",
       "      <th>target__ncbigene_symbol</th>\n",
       "    </tr>\n",
       "  </thead>\n",
       "  <tbody>\n",
       "    <tr>\n",
       "      <th>0</th>\n",
       "      <td>ENSG00000000005</td>\n",
       "      <td>ENSG00000061656</td>\n",
       "      <td>ENSG00000000005</td>\n",
       "      <td>64102</td>\n",
       "      <td>TNMD</td>\n",
       "      <td>TNMD</td>\n",
       "      <td>ENSG00000061656</td>\n",
       "      <td>6676</td>\n",
       "      <td>SPAG4</td>\n",
       "      <td>SPAG4</td>\n",
       "    </tr>\n",
       "    <tr>\n",
       "      <th>1</th>\n",
       "      <td>ENSG00000000005</td>\n",
       "      <td>ENSG00000099968</td>\n",
       "      <td>ENSG00000000005</td>\n",
       "      <td>64102</td>\n",
       "      <td>TNMD</td>\n",
       "      <td>TNMD</td>\n",
       "      <td>ENSG00000099968</td>\n",
       "      <td>23786</td>\n",
       "      <td>BCL2L13</td>\n",
       "      <td>BCL2L13</td>\n",
       "    </tr>\n",
       "  </tbody>\n",
       "</table>\n",
       "</div>"
      ],
      "text/plain": [
       "  source__input_ensembl_gene_id target__input_ensembl_gene_id  \\\n",
       "0               ENSG00000000005               ENSG00000061656   \n",
       "1               ENSG00000000005               ENSG00000099968   \n",
       "\n",
       "  source__ensembl_representative_gene_id  source__ncbigene_id  \\\n",
       "0                        ENSG00000000005                64102   \n",
       "1                        ENSG00000000005                64102   \n",
       "\n",
       "  source__gene_symbol source__ncbigene_symbol  \\\n",
       "0                TNMD                    TNMD   \n",
       "1                TNMD                    TNMD   \n",
       "\n",
       "  target__ensembl_representative_gene_id  target__ncbigene_id  \\\n",
       "0                        ENSG00000061656                 6676   \n",
       "1                        ENSG00000099968                23786   \n",
       "\n",
       "  target__gene_symbol target__ncbigene_symbol  \n",
       "0               SPAG4                   SPAG4  \n",
       "1             BCL2L13                 BCL2L13  "
      ]
     },
     "execution_count": 5,
     "metadata": {},
     "output_type": "execute_result"
    }
   ],
   "source": [
    "huri_ncbi_df = (\n",
    "    huri_df\n",
    "    .merge(ensembl_updates.add_prefix(\"source__\"))\n",
    "    .merge(ensembl_updates.add_prefix(\"target__\"))\n",
    "    .drop_duplicates(subset=[\"source__ncbigene_id\", \"target__ncbigene_id\"])\n",
    ")\n",
    "huri_ncbi_df.head(2)"
   ]
  },
  {
   "cell_type": "code",
   "execution_count": 6,
   "metadata": {},
   "outputs": [
    {
     "data": {
      "text/html": [
       "<div>\n",
       "<style scoped>\n",
       "    .dataframe tbody tr th:only-of-type {\n",
       "        vertical-align: middle;\n",
       "    }\n",
       "\n",
       "    .dataframe tbody tr th {\n",
       "        vertical-align: top;\n",
       "    }\n",
       "\n",
       "    .dataframe thead th {\n",
       "        text-align: right;\n",
       "    }\n",
       "</style>\n",
       "<table border=\"1\" class=\"dataframe\">\n",
       "  <thead>\n",
       "    <tr style=\"text-align: right;\">\n",
       "      <th></th>\n",
       "      <th>source__input_ensembl_gene_id</th>\n",
       "      <th>target__input_ensembl_gene_id</th>\n",
       "      <th>source__ensembl_representative_gene_id</th>\n",
       "      <th>source__ncbigene_id</th>\n",
       "      <th>source__gene_symbol</th>\n",
       "      <th>source__ncbigene_symbol</th>\n",
       "      <th>target__ensembl_representative_gene_id</th>\n",
       "      <th>target__ncbigene_id</th>\n",
       "      <th>target__gene_symbol</th>\n",
       "      <th>target__ncbigene_symbol</th>\n",
       "    </tr>\n",
       "  </thead>\n",
       "  <tbody>\n",
       "    <tr>\n",
       "      <th>46234</th>\n",
       "      <td>ENSG00000203812</td>\n",
       "      <td>ENSG00000233822</td>\n",
       "      <td>ENSG00000288825</td>\n",
       "      <td>8337</td>\n",
       "      <td>H2AC18</td>\n",
       "      <td>H2AC18</td>\n",
       "      <td>ENSG00000233822</td>\n",
       "      <td>8341</td>\n",
       "      <td>H2BC15</td>\n",
       "      <td>H2BC15</td>\n",
       "    </tr>\n",
       "    <tr>\n",
       "      <th>46235</th>\n",
       "      <td>ENSG00000203812</td>\n",
       "      <td>ENSG00000233822</td>\n",
       "      <td>ENSG00000288859</td>\n",
       "      <td>723790</td>\n",
       "      <td>H2AC19</td>\n",
       "      <td>H2AC19</td>\n",
       "      <td>ENSG00000233822</td>\n",
       "      <td>8341</td>\n",
       "      <td>H2BC15</td>\n",
       "      <td>H2BC15</td>\n",
       "    </tr>\n",
       "  </tbody>\n",
       "</table>\n",
       "</div>"
      ],
      "text/plain": [
       "      source__input_ensembl_gene_id target__input_ensembl_gene_id  \\\n",
       "46234               ENSG00000203812               ENSG00000233822   \n",
       "46235               ENSG00000203812               ENSG00000233822   \n",
       "\n",
       "      source__ensembl_representative_gene_id  source__ncbigene_id  \\\n",
       "46234                        ENSG00000288825                 8337   \n",
       "46235                        ENSG00000288859               723790   \n",
       "\n",
       "      source__gene_symbol source__ncbigene_symbol  \\\n",
       "46234              H2AC18                  H2AC18   \n",
       "46235              H2AC19                  H2AC19   \n",
       "\n",
       "      target__ensembl_representative_gene_id  target__ncbigene_id  \\\n",
       "46234                        ENSG00000233822                 8341   \n",
       "46235                        ENSG00000233822                 8341   \n",
       "\n",
       "      target__gene_symbol target__ncbigene_symbol  \n",
       "46234              H2BC15                  H2BC15  \n",
       "46235              H2BC15                  H2BC15  "
      ]
     },
     "execution_count": 6,
     "metadata": {},
     "output_type": "execute_result"
    }
   ],
   "source": [
    "huri_ncbi_df.query(\"source__input_ensembl_gene_id != source__ensembl_representative_gene_id\")"
   ]
  },
  {
   "cell_type": "code",
   "execution_count": 7,
   "metadata": {},
   "outputs": [
    {
     "data": {
      "text/plain": [
       "(5027, 79666)"
      ]
     },
     "execution_count": 7,
     "metadata": {},
     "output_type": "execute_result"
    }
   ],
   "source": [
    "huri_pairs = {tuple(sorted(pair)) for pair in zip(huri_ncbi_df.source__ncbigene_id, huri_ncbi_df.target__ncbigene_id)}\n",
    "next(iter(huri_pairs))"
   ]
  },
  {
   "cell_type": "code",
   "execution_count": 8,
   "metadata": {},
   "outputs": [
    {
     "data": {
      "text/plain": [
       "<hetmatpy.hetmat.HetMat at 0x7fe3b745edc0>"
      ]
     },
     "execution_count": 8,
     "metadata": {},
     "output_type": "execute_result"
    }
   ],
   "source": [
    "# path = \"../data/hetionet-v1.0.hetmat\"\n",
    "# use HetMat from local connectivity-search-backend which has downloaded all path counts\n",
    "path = \"../../connectivity-search-backend/dj_hetmech_app/management/commands/downloads/hetionet-v1.0.hetmat\"\n",
    "hm = HetMat(path)\n",
    "hm\n"
   ]
  },
  {
   "cell_type": "code",
   "execution_count": 9,
   "metadata": {},
   "outputs": [
    {
     "data": {
      "text/plain": [
       "GpBPpGcG"
      ]
     },
     "execution_count": 9,
     "metadata": {},
     "output_type": "execute_result"
    }
   ],
   "source": [
    "metapath = hm.metagraph.get_metapath(\"GpBPpGcG\")\n",
    "metapath"
   ]
  },
  {
   "cell_type": "code",
   "execution_count": 10,
   "metadata": {},
   "outputs": [
    {
     "data": {
      "text/html": [
       "<div>\n",
       "<style scoped>\n",
       "    .dataframe tbody tr th:only-of-type {\n",
       "        vertical-align: middle;\n",
       "    }\n",
       "\n",
       "    .dataframe tbody tr th {\n",
       "        vertical-align: top;\n",
       "    }\n",
       "\n",
       "    .dataframe thead th {\n",
       "        text-align: right;\n",
       "    }\n",
       "</style>\n",
       "<table border=\"1\" class=\"dataframe\">\n",
       "  <thead>\n",
       "    <tr style=\"text-align: right;\">\n",
       "      <th></th>\n",
       "      <th>source_id</th>\n",
       "      <th>target_id</th>\n",
       "      <th>source_name</th>\n",
       "      <th>target_name</th>\n",
       "      <th>source_degree</th>\n",
       "      <th>target_degree</th>\n",
       "      <th>path_count</th>\n",
       "      <th>dwpc</th>\n",
       "      <th>n</th>\n",
       "      <th>nnz</th>\n",
       "      <th>n_perms</th>\n",
       "      <th>mean_nz</th>\n",
       "      <th>sd_nz</th>\n",
       "      <th>p_value</th>\n",
       "      <th>huri</th>\n",
       "    </tr>\n",
       "  </thead>\n",
       "  <tbody>\n",
       "    <tr>\n",
       "      <th>0</th>\n",
       "      <td>1</td>\n",
       "      <td>585</td>\n",
       "      <td>A1BG</td>\n",
       "      <td>BBS4</td>\n",
       "      <td>0</td>\n",
       "      <td>5</td>\n",
       "      <td>0</td>\n",
       "      <td>0.0</td>\n",
       "      <td>854343200</td>\n",
       "      <td>0</td>\n",
       "      <td>200</td>\n",
       "      <td>NaN</td>\n",
       "      <td>NaN</td>\n",
       "      <td>1.0</td>\n",
       "      <td>False</td>\n",
       "    </tr>\n",
       "    <tr>\n",
       "      <th>1</th>\n",
       "      <td>1</td>\n",
       "      <td>3848</td>\n",
       "      <td>A1BG</td>\n",
       "      <td>KRT1</td>\n",
       "      <td>0</td>\n",
       "      <td>1</td>\n",
       "      <td>0</td>\n",
       "      <td>0.0</td>\n",
       "      <td>3705034600</td>\n",
       "      <td>0</td>\n",
       "      <td>200</td>\n",
       "      <td>NaN</td>\n",
       "      <td>NaN</td>\n",
       "      <td>1.0</td>\n",
       "      <td>False</td>\n",
       "    </tr>\n",
       "    <tr>\n",
       "      <th>2</th>\n",
       "      <td>1</td>\n",
       "      <td>8676</td>\n",
       "      <td>A1BG</td>\n",
       "      <td>STX11</td>\n",
       "      <td>0</td>\n",
       "      <td>1</td>\n",
       "      <td>0</td>\n",
       "      <td>0.0</td>\n",
       "      <td>3705034600</td>\n",
       "      <td>0</td>\n",
       "      <td>200</td>\n",
       "      <td>NaN</td>\n",
       "      <td>NaN</td>\n",
       "      <td>1.0</td>\n",
       "      <td>False</td>\n",
       "    </tr>\n",
       "    <tr>\n",
       "      <th>3</th>\n",
       "      <td>1</td>\n",
       "      <td>9640</td>\n",
       "      <td>A1BG</td>\n",
       "      <td>ZNF592</td>\n",
       "      <td>0</td>\n",
       "      <td>10</td>\n",
       "      <td>0</td>\n",
       "      <td>0.0</td>\n",
       "      <td>325934400</td>\n",
       "      <td>0</td>\n",
       "      <td>200</td>\n",
       "      <td>NaN</td>\n",
       "      <td>NaN</td>\n",
       "      <td>1.0</td>\n",
       "      <td>False</td>\n",
       "    </tr>\n",
       "    <tr>\n",
       "      <th>4</th>\n",
       "      <td>1</td>\n",
       "      <td>9935</td>\n",
       "      <td>A1BG</td>\n",
       "      <td>MAFB</td>\n",
       "      <td>0</td>\n",
       "      <td>43</td>\n",
       "      <td>0</td>\n",
       "      <td>0.0</td>\n",
       "      <td>14815200</td>\n",
       "      <td>0</td>\n",
       "      <td>200</td>\n",
       "      <td>NaN</td>\n",
       "      <td>NaN</td>\n",
       "      <td>1.0</td>\n",
       "      <td>False</td>\n",
       "    </tr>\n",
       "  </tbody>\n",
       "</table>\n",
       "</div>"
      ],
      "text/plain": [
       "   source_id  target_id source_name target_name  source_degree  target_degree  \\\n",
       "0          1        585        A1BG        BBS4              0              5   \n",
       "1          1       3848        A1BG        KRT1              0              1   \n",
       "2          1       8676        A1BG       STX11              0              1   \n",
       "3          1       9640        A1BG      ZNF592              0             10   \n",
       "4          1       9935        A1BG        MAFB              0             43   \n",
       "\n",
       "   path_count  dwpc           n  nnz  n_perms  mean_nz  sd_nz  p_value   huri  \n",
       "0           0   0.0   854343200    0      200      NaN    NaN      1.0  False  \n",
       "1           0   0.0  3705034600    0      200      NaN    NaN      1.0  False  \n",
       "2           0   0.0  3705034600    0      200      NaN    NaN      1.0  False  \n",
       "3           0   0.0   325934400    0      200      NaN    NaN      1.0  False  \n",
       "4           0   0.0    14815200    0      200      NaN    NaN      1.0  False  "
      ]
     },
     "execution_count": 10,
     "metadata": {},
     "output_type": "execute_result"
    }
   ],
   "source": [
    "randomling = random.Random(0)\n",
    "rows = list()\n",
    "for row in combine_dwpc_dgp(hm, metapath, damping=0.5, ignore_zeros=False):\n",
    "    pair = tuple(sorted((row[\"source_id\"], row[\"target_id\"])))\n",
    "    if pair in huri_pairs:\n",
    "        row[\"huri\"] = True\n",
    "        rows.append(row)\n",
    "    elif randomling.random() <= 0.001:\n",
    "        row[\"huri\"] = False\n",
    "        rows.append(row)\n",
    "    if len(rows) > 10000:\n",
    "        break\n",
    "dwpc_df = pd.DataFrame(rows)\n",
    "del rows\n",
    "dwpc_df.head()\n"
   ]
  },
  {
   "cell_type": "code",
   "execution_count": 11,
   "metadata": {},
   "outputs": [
    {
     "data": {
      "text/plain": [
       "52182"
      ]
     },
     "execution_count": 11,
     "metadata": {},
     "output_type": "execute_result"
    }
   ],
   "source": [
    "len(huri_pairs)"
   ]
  },
  {
   "cell_type": "code",
   "execution_count": 12,
   "metadata": {},
   "outputs": [
    {
     "data": {
      "text/plain": [
       "False    8136\n",
       "True     1865\n",
       "Name: huri, dtype: int64"
      ]
     },
     "execution_count": 12,
     "metadata": {},
     "output_type": "execute_result"
    }
   ],
   "source": [
    "dwpc_df.huri.value_counts()"
   ]
  },
  {
   "cell_type": "code",
   "execution_count": 13,
   "metadata": {},
   "outputs": [
    {
     "data": {
      "text/plain": [
       "0.512433305390137"
      ]
     },
     "execution_count": 13,
     "metadata": {},
     "output_type": "execute_result"
    }
   ],
   "source": [
    "roc_auc_score(y_true=dwpc_df.huri, y_score=dwpc_df.path_count)"
   ]
  },
  {
   "cell_type": "code",
   "execution_count": 14,
   "metadata": {},
   "outputs": [
    {
     "data": {
      "text/plain": [
       "0.5161468507227005"
      ]
     },
     "execution_count": 14,
     "metadata": {},
     "output_type": "execute_result"
    }
   ],
   "source": [
    "roc_auc_score(y_true=dwpc_df.huri, y_score=dwpc_df.dwpc)"
   ]
  },
  {
   "cell_type": "code",
   "execution_count": 15,
   "metadata": {},
   "outputs": [
    {
     "data": {
      "text/plain": [
       "0.5203815959782887"
      ]
     },
     "execution_count": 15,
     "metadata": {},
     "output_type": "execute_result"
    }
   ],
   "source": [
    "roc_auc_score(y_true=dwpc_df.huri, y_score=-np.log10(dwpc_df.p_value))"
   ]
  }
 ],
 "metadata": {
  "interpreter": {
   "hash": "855545a64d1f20b87ea885b9db506656ee28bf231a97d618f7378556a3173e18"
  },
  "kernelspec": {
   "display_name": "Python 3.8.6 64-bit ('hetmech': conda)",
   "language": "python",
   "name": "python3"
  },
  "language_info": {
   "codemirror_mode": {
    "name": "ipython",
    "version": 3
   },
   "file_extension": ".py",
   "mimetype": "text/x-python",
   "name": "python",
   "nbconvert_exporter": "python",
   "pygments_lexer": "ipython3",
   "version": "3.8.6"
  },
  "orig_nbformat": 4
 },
 "nbformat": 4,
 "nbformat_minor": 2
}
