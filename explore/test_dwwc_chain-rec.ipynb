{
 "cells": [
  {
   "cell_type": "code",
   "execution_count": 1,
   "metadata": {},
   "outputs": [],
   "source": [
    "%load_ext autoreload\n",
    "%autoreload 2\n",
    "\n",
    "import time\n",
    "\n",
    "import numpy as np\n",
    "import pandas as pd\n",
    "import pytest\n",
    "import tqdm\n",
    "\n",
    "import hetmech.degree_weight\n",
    "import hetmech.hetmat"
   ]
  },
  {
   "cell_type": "code",
   "execution_count": 2,
   "metadata": {},
   "outputs": [],
   "source": [
    "# Three hetmats so that there is no cache sharing\n",
    "hetmat = hetmech.hetmat.HetMat('../data/hetionet-v1.0.hetmat/')\n",
    "hetmat.path_counts_cache = hetmech.hetmat.PathCountPriorityCache(hetmat, allocate_GB=5)\n",
    "\n",
    "hetmat_nocache = hetmech.hetmat.HetMat('../data/hetionet-v1.0.hetmat/')\n",
    "\n",
    "hetmat_rec = hetmech.hetmat.HetMat('../data/hetionet-v1.0.hetmat/')\n",
    "hetmat_rec.path_counts_cache = hetmech.hetmat.PathCountPriorityCache(hetmat_rec, allocate_GB=5)\n",
    "\n",
    "hetmat_rec_nocache = hetmech.hetmat.HetMat('../data/hetionet-v1.0.hetmat/')\n",
    "\n",
    "hetmat_chain = hetmech.hetmat.HetMat('../data/hetionet-v1.0.hetmat/')\n",
    "hetmat_rec.path_counts_cache = hetmech.hetmat.PathCountPriorityCache(hetmat_chain, allocate_GB=5)\n",
    "\n",
    "hetmat_chain_nocache = hetmech.hetmat.HetMat('../data/hetionet-v1.0.hetmat/')"
   ]
  },
  {
   "cell_type": "code",
   "execution_count": 3,
   "metadata": {},
   "outputs": [
    {
     "data": {
      "text/plain": [
       "1172"
      ]
     },
     "execution_count": 3,
     "metadata": {},
     "output_type": "execute_result"
    }
   ],
   "source": [
    "# Rephetio metapaths\n",
    "metapaths = list()\n",
    "for metapath in hetmat.metagraph.extract_metapaths('Compound', 'Disease', max_length=4):\n",
    "    if hetmech.degree_weight.categorize(metapath) in {'long_repeat', 'other'}:\n",
    "        continue\n",
    "    metapaths.append(metapath)\n",
    "len(metapaths)"
   ]
  },
  {
   "cell_type": "code",
   "execution_count": 4,
   "metadata": {},
   "outputs": [],
   "source": [
    "def equal_outputs(metapath, dense_threshold=0, dtype=np.float64):\n",
    "    \"\"\"Compute DWWC using all three functions, and ensure that they give the same output.\"\"\"\n",
    "    time1 = time.time()\n",
    "    \n",
    "    # Original DWWC method with cache\n",
    "    row_original, col_original, dwwc_original = hetmech.degree_weight.dwwc(\n",
    "        hetmat, metapath, dense_threshold=dense_threshold, dtype=dtype)\n",
    "    time2 = time.time()\n",
    "    \n",
    "    # Original DWWC method no cache\n",
    "    row_original, col_original, dwwc_original = hetmech.degree_weight.dwwc(\n",
    "        hetmat_nocache, metapath, dense_threshold=dense_threshold, dtype=dtype)\n",
    "    time3 = time.time()\n",
    "    \n",
    "    # Recursive with cache\n",
    "    row_rec, col_rec, dwwc_rec = hetmech.degree_weight.dwwc_recursive(\n",
    "        hetmat_rec, metapath, dense_threshold=dense_threshold, dtype=dtype)\n",
    "    time4 = time.time()\n",
    "    \n",
    "    # Recursive no cache\n",
    "    row_rec, col_rec, dwwc_rec = hetmech.degree_weight.dwwc_recursive(\n",
    "        hetmat_rec_nocache, metapath, dense_threshold=dense_threshold, dtype=dtype)\n",
    "    time5 = time.time()\n",
    "    \n",
    "    # Chain ordering with cache\n",
    "    row_chain, col_chain, dwwc_chain = hetmech.degree_weight.dwwc_chain(\n",
    "        hetmat_chain, metapath, dense_threshold=dense_threshold, dtype=dtype)\n",
    "    time6 = time.time()\n",
    "    \n",
    "    # Chain ordering no cache\n",
    "    row_chain, col_chain, dwwc_chain = hetmech.degree_weight.dwwc_chain(\n",
    "        hetmat_chain_nocache, metapath, dense_threshold=dense_threshold, dtype=dtype)\n",
    "    time7 = time.time()\n",
    "    \n",
    "    # Metapath \\ abbrev \\ dwwc \\ dwwc (nocache) \\ recursive \\ recursive (nocache) \\ chain ordering \\ chain ordering (nocache)\n",
    "    times = [metapath, str(metapath), time2 - time1, time3 - time2, time4 - time3, time5 - time4, time6 - time5, time7 - time6]\n",
    "    \n",
    "    # Ensure identical outputs\n",
    "    try:\n",
    "        assert (row_rec == row_original) and (row_chain == row_original) and \\\n",
    "            (col_rec == col_original) and (col_chain == col_original)\n",
    "        assert abs(dwwc_rec - dwwc_original).max() == pytest.approx(0, abs=1e-7)\n",
    "        assert abs(dwwc_chain - dwwc_original).max() == pytest.approx(0, abs=1e-7)\n",
    "    except AssertionError:\n",
    "        print(metapath)\n",
    "    return times"
   ]
  },
  {
   "cell_type": "code",
   "execution_count": 5,
   "metadata": {},
   "outputs": [
    {
     "name": "stderr",
     "output_type": "stream",
     "text": [
      "100%|██████████| 1172/1172 [12:11<00:00,  1.60it/s]\n"
     ]
    }
   ],
   "source": [
    "all_times = []\n",
    "\n",
    "for metapath in tqdm.tqdm(metapaths):\n",
    "    times = equal_outputs(metapath, dense_threshold=1)\n",
    "    all_times.append(times)"
   ]
  },
  {
   "cell_type": "code",
   "execution_count": 6,
   "metadata": {},
   "outputs": [],
   "source": [
    "df = pd.DataFrame(all_times, columns=['metapath', 'abbrev', 'dwwc', 'dwwc-nocache', 'recursive', 'recursive-nocache', 'chain', 'chain-nocache'])"
   ]
  },
  {
   "cell_type": "code",
   "execution_count": 7,
   "metadata": {},
   "outputs": [],
   "source": [
    "df.to_csv('../data/rephetio-DWWCs-hetmat-runtime.tsv', sep='\\t')"
   ]
  },
  {
   "cell_type": "code",
   "execution_count": 8,
   "metadata": {},
   "outputs": [
    {
     "data": {
      "text/html": [
       "<div>\n",
       "<style scoped>\n",
       "    .dataframe tbody tr th:only-of-type {\n",
       "        vertical-align: middle;\n",
       "    }\n",
       "\n",
       "    .dataframe tbody tr th {\n",
       "        vertical-align: top;\n",
       "    }\n",
       "\n",
       "    .dataframe thead th {\n",
       "        text-align: right;\n",
       "    }\n",
       "</style>\n",
       "<table border=\"1\" class=\"dataframe\">\n",
       "  <thead>\n",
       "    <tr style=\"text-align: right;\">\n",
       "      <th></th>\n",
       "      <th>metapath</th>\n",
       "      <th>abbrev</th>\n",
       "      <th>dwwc</th>\n",
       "      <th>dwwc-nocache</th>\n",
       "      <th>recursive</th>\n",
       "      <th>recursive-nocache</th>\n",
       "      <th>chain</th>\n",
       "      <th>chain-nocache</th>\n",
       "    </tr>\n",
       "  </thead>\n",
       "  <tbody>\n",
       "    <tr>\n",
       "      <th>0</th>\n",
       "      <td>(Compound - treats - Disease)</td>\n",
       "      <td>CtD</td>\n",
       "      <td>0.024447</td>\n",
       "      <td>0.009796</td>\n",
       "      <td>0.014815</td>\n",
       "      <td>0.010053</td>\n",
       "      <td>0.005186</td>\n",
       "      <td>0.009526</td>\n",
       "    </tr>\n",
       "    <tr>\n",
       "      <th>1</th>\n",
       "      <td>(Compound - palliates - Disease)</td>\n",
       "      <td>CpD</td>\n",
       "      <td>0.005504</td>\n",
       "      <td>0.004712</td>\n",
       "      <td>0.005456</td>\n",
       "      <td>0.004842</td>\n",
       "      <td>0.004865</td>\n",
       "      <td>0.004966</td>\n",
       "    </tr>\n",
       "    <tr>\n",
       "      <th>2</th>\n",
       "      <td>(Compound - binds - Gene, Gene - upregulates -...</td>\n",
       "      <td>CbGuD</td>\n",
       "      <td>0.036345</td>\n",
       "      <td>0.041072</td>\n",
       "      <td>0.047547</td>\n",
       "      <td>0.032535</td>\n",
       "      <td>0.017528</td>\n",
       "      <td>0.030719</td>\n",
       "    </tr>\n",
       "    <tr>\n",
       "      <th>3</th>\n",
       "      <td>(Compound - binds - Gene, Gene - associates - ...</td>\n",
       "      <td>CbGaD</td>\n",
       "      <td>0.022552</td>\n",
       "      <td>0.019919</td>\n",
       "      <td>0.021518</td>\n",
       "      <td>0.020633</td>\n",
       "      <td>0.020253</td>\n",
       "      <td>0.019373</td>\n",
       "    </tr>\n",
       "    <tr>\n",
       "      <th>4</th>\n",
       "      <td>(Compound - binds - Gene, Gene - downregulates...</td>\n",
       "      <td>CbGdD</td>\n",
       "      <td>0.021729</td>\n",
       "      <td>0.019922</td>\n",
       "      <td>0.019714</td>\n",
       "      <td>0.019020</td>\n",
       "      <td>0.018035</td>\n",
       "      <td>0.020231</td>\n",
       "    </tr>\n",
       "  </tbody>\n",
       "</table>\n",
       "</div>"
      ],
      "text/plain": [
       "                                            metapath abbrev      dwwc  \\\n",
       "0                      (Compound - treats - Disease)    CtD  0.024447   \n",
       "1                   (Compound - palliates - Disease)    CpD  0.005504   \n",
       "2  (Compound - binds - Gene, Gene - upregulates -...  CbGuD  0.036345   \n",
       "3  (Compound - binds - Gene, Gene - associates - ...  CbGaD  0.022552   \n",
       "4  (Compound - binds - Gene, Gene - downregulates...  CbGdD  0.021729   \n",
       "\n",
       "   dwwc-nocache  recursive  recursive-nocache     chain  chain-nocache  \n",
       "0      0.009796   0.014815           0.010053  0.005186       0.009526  \n",
       "1      0.004712   0.005456           0.004842  0.004865       0.004966  \n",
       "2      0.041072   0.047547           0.032535  0.017528       0.030719  \n",
       "3      0.019919   0.021518           0.020633  0.020253       0.019373  \n",
       "4      0.019922   0.019714           0.019020  0.018035       0.020231  "
      ]
     },
     "execution_count": 8,
     "metadata": {},
     "output_type": "execute_result"
    }
   ],
   "source": [
    "df.head()"
   ]
  },
  {
   "cell_type": "code",
   "execution_count": 9,
   "metadata": {},
   "outputs": [
    {
     "data": {
      "text/plain": [
       "dwwc                 0.196255\n",
       "dwwc-nocache         0.193026\n",
       "recursive            0.030355\n",
       "recursive-nocache    0.078141\n",
       "chain                0.062251\n",
       "chain-nocache        0.061979\n",
       "dtype: float64"
      ]
     },
     "execution_count": 9,
     "metadata": {},
     "output_type": "execute_result"
    }
   ],
   "source": [
    "df.mean()"
   ]
  },
  {
   "cell_type": "code",
   "execution_count": 10,
   "metadata": {},
   "outputs": [
    {
     "data": {
      "text/plain": [
       "dwwc                 230.010670\n",
       "dwwc-nocache         226.226659\n",
       "recursive             35.575594\n",
       "recursive-nocache     91.581720\n",
       "chain                 72.958479\n",
       "chain-nocache         72.639084\n",
       "dtype: float64"
      ]
     },
     "execution_count": 10,
     "metadata": {},
     "output_type": "execute_result"
    }
   ],
   "source": [
    "df.sum()"
   ]
  },
  {
   "cell_type": "code",
   "execution_count": 11,
   "metadata": {},
   "outputs": [],
   "source": [
    "from scipy import stats"
   ]
  },
  {
   "cell_type": "code",
   "execution_count": 12,
   "metadata": {},
   "outputs": [
    {
     "data": {
      "text/plain": [
       "Ttest_relResult(statistic=-7.717528950433064, pvalue=2.5291152148560213e-14)"
      ]
     },
     "execution_count": 12,
     "metadata": {},
     "output_type": "execute_result"
    }
   ],
   "source": [
    "stats.ttest_rel(df['dwwc-nocache'], df['dwwc'])"
   ]
  },
  {
   "cell_type": "code",
   "execution_count": 13,
   "metadata": {},
   "outputs": [
    {
     "data": {
      "text/plain": [
       "Ttest_relResult(statistic=-2.4569034904213938, pvalue=0.014158274961216835)"
      ]
     },
     "execution_count": 13,
     "metadata": {},
     "output_type": "execute_result"
    }
   ],
   "source": [
    "stats.ttest_rel(df['chain-nocache'], df['chain'])"
   ]
  },
  {
   "cell_type": "markdown",
   "metadata": {},
   "source": [
    "## Example of typically long computations: Cache and no cache"
   ]
  },
  {
   "cell_type": "code",
   "execution_count": 14,
   "metadata": {},
   "outputs": [
    {
     "name": "stdout",
     "output_type": "stream",
     "text": [
      "1.82 ms ± 220 µs per loop (mean ± std. dev. of 7 runs, 1000 loops each)\n"
     ]
    }
   ],
   "source": [
    "%%timeit\n",
    "\n",
    "_ = hetmech.degree_weight.dwwc(hetmat, 'CbGeAeGaD', dense_threshold=1)"
   ]
  },
  {
   "cell_type": "code",
   "execution_count": 15,
   "metadata": {},
   "outputs": [
    {
     "name": "stdout",
     "output_type": "stream",
     "text": [
      "2.52 s ± 3.34 ms per loop (mean ± std. dev. of 7 runs, 1 loop each)\n"
     ]
    }
   ],
   "source": [
    "%%timeit\n",
    "\n",
    "_ = hetmech.degree_weight.dwwc(hetmat_nocache, 'CbGeAeGaD', dense_threshold=1)"
   ]
  },
  {
   "cell_type": "code",
   "execution_count": 16,
   "metadata": {},
   "outputs": [
    {
     "name": "stdout",
     "output_type": "stream",
     "text": [
      "1.29 ms ± 9.04 µs per loop (mean ± std. dev. of 7 runs, 1000 loops each)\n"
     ]
    }
   ],
   "source": [
    "%%timeit\n",
    "\n",
    "_ = hetmech.degree_weight.dwwc_recursive(hetmat, 'CbGeAeGaD', dense_threshold=1)"
   ]
  },
  {
   "cell_type": "code",
   "execution_count": 17,
   "metadata": {},
   "outputs": [
    {
     "name": "stdout",
     "output_type": "stream",
     "text": [
      "342 ms ± 2.18 ms per loop (mean ± std. dev. of 7 runs, 1 loop each)\n"
     ]
    }
   ],
   "source": [
    "%%timeit\n",
    "\n",
    "_ = hetmech.degree_weight.dwwc_recursive(hetmat_nocache, 'CbGeAeGaD', dense_threshold=1)"
   ]
  },
  {
   "cell_type": "code",
   "execution_count": 18,
   "metadata": {},
   "outputs": [
    {
     "name": "stdout",
     "output_type": "stream",
     "text": [
      "274 ms ± 1.37 ms per loop (mean ± std. dev. of 7 runs, 1 loop each)\n"
     ]
    }
   ],
   "source": [
    "%%timeit\n",
    "\n",
    "_ = hetmech.degree_weight.dwwc_chain(hetmat, 'CbGeAeGaD', dense_threshold=1)"
   ]
  },
  {
   "cell_type": "code",
   "execution_count": 19,
   "metadata": {},
   "outputs": [
    {
     "name": "stdout",
     "output_type": "stream",
     "text": [
      "274 ms ± 1.54 ms per loop (mean ± std. dev. of 7 runs, 1 loop each)\n"
     ]
    }
   ],
   "source": [
    "%%timeit\n",
    "\n",
    "_ = hetmech.degree_weight.dwwc_chain(hetmat_nocache, 'CbGeAeGaD', dense_threshold=1)"
   ]
  },
  {
   "cell_type": "markdown",
   "metadata": {},
   "source": [
    "## Find the fastest method over all metapaths <= length 4\n",
    "\n",
    "Manually stopped after 19 hours due to excessive expected runtime. It appears that `dwwc_chain` remains the fastest way to compute bulk metapaths."
   ]
  },
  {
   "cell_type": "code",
   "execution_count": null,
   "metadata": {},
   "outputs": [],
   "source": [
    "hetmat_chain = hetmech.hetmat.HetMat('../data/hetionet-v1.0.hetmat/')\n",
    "hetmat_rec = hetmech.hetmat.HetMat('../data/hetionet-v1.0.hetmat/')\n",
    "hetmat_rec.path_counts_cache = hetmech.hetmat.PathCountPriorityCache(hetmat, allocate_GB=10)\n",
    "\n",
    "times = [] \n",
    "for metapath in tqdm.tqdm(hetmat.metagraph.extract_all_metapaths(max_length=4)):\n",
    "    recursive_cached = False\n",
    "    if hetmat_rec.path_counts_cache.get(metapath, 'dwwc', 0.5):\n",
    "        recursive_cached = True\n",
    "        \n",
    "    time1 = time.time() \n",
    "    hetmech.degree_weight.dwwc_chain(hetmat_chain, metapath, dense_threshold=1)\n",
    "    time2 = time.time()\n",
    "    hetmech.degree_weight.dwwc_recursive(hetmat_rec, metapath, dense_threshold=1)\n",
    "    time3 = time.time()\n",
    "    \n",
    "    # metapath, chain time, recursive time, rec-was-cached\n",
    "    times.append([metapath, time2 - time1, time3 - time2, recursive_cached])"
   ]
  },
  {
   "cell_type": "code",
   "execution_count": 21,
   "metadata": {},
   "outputs": [],
   "source": [
    "dwwc_df = pd.DataFrame(times, columns=['metapath', 'dwwc-chain', 'dwwc-recursive', 'recursive_cached'])\n",
    "dwwc_df.to_csv('../data/all-paths-DWWC-times.tsv', sep='\\t')"
   ]
  },
  {
   "cell_type": "code",
   "execution_count": 22,
   "metadata": {},
   "outputs": [
    {
     "data": {
      "text/html": [
       "<div>\n",
       "<style scoped>\n",
       "    .dataframe tbody tr th:only-of-type {\n",
       "        vertical-align: middle;\n",
       "    }\n",
       "\n",
       "    .dataframe tbody tr th {\n",
       "        vertical-align: top;\n",
       "    }\n",
       "\n",
       "    .dataframe thead th {\n",
       "        text-align: right;\n",
       "    }\n",
       "</style>\n",
       "<table border=\"1\" class=\"dataframe\">\n",
       "  <thead>\n",
       "    <tr style=\"text-align: right;\">\n",
       "      <th></th>\n",
       "      <th>metapath</th>\n",
       "      <th>dwwc-chain</th>\n",
       "      <th>dwwc-recursive</th>\n",
       "      <th>recursive_cached</th>\n",
       "    </tr>\n",
       "  </thead>\n",
       "  <tbody>\n",
       "    <tr>\n",
       "      <th>0</th>\n",
       "      <td>(Disease - treats - Compound)</td>\n",
       "      <td>0.011341</td>\n",
       "      <td>0.012895</td>\n",
       "      <td>False</td>\n",
       "    </tr>\n",
       "    <tr>\n",
       "      <th>1</th>\n",
       "      <td>(Disease - presents - Symptom)</td>\n",
       "      <td>0.006949</td>\n",
       "      <td>0.007117</td>\n",
       "      <td>False</td>\n",
       "    </tr>\n",
       "    <tr>\n",
       "      <th>2</th>\n",
       "      <td>(Disease - upregulates - Gene)</td>\n",
       "      <td>0.019622</td>\n",
       "      <td>0.019295</td>\n",
       "      <td>False</td>\n",
       "    </tr>\n",
       "    <tr>\n",
       "      <th>3</th>\n",
       "      <td>(Disease - associates - Gene)</td>\n",
       "      <td>0.008441</td>\n",
       "      <td>0.008628</td>\n",
       "      <td>False</td>\n",
       "    </tr>\n",
       "    <tr>\n",
       "      <th>4</th>\n",
       "      <td>(Disease - downregulates - Gene)</td>\n",
       "      <td>0.007770</td>\n",
       "      <td>0.008748</td>\n",
       "      <td>False</td>\n",
       "    </tr>\n",
       "  </tbody>\n",
       "</table>\n",
       "</div>"
      ],
      "text/plain": [
       "                           metapath  dwwc-chain  dwwc-recursive  \\\n",
       "0     (Disease - treats - Compound)    0.011341        0.012895   \n",
       "1    (Disease - presents - Symptom)    0.006949        0.007117   \n",
       "2    (Disease - upregulates - Gene)    0.019622        0.019295   \n",
       "3     (Disease - associates - Gene)    0.008441        0.008628   \n",
       "4  (Disease - downregulates - Gene)    0.007770        0.008748   \n",
       "\n",
       "   recursive_cached  \n",
       "0             False  \n",
       "1             False  \n",
       "2             False  \n",
       "3             False  \n",
       "4             False  "
      ]
     },
     "execution_count": 22,
     "metadata": {},
     "output_type": "execute_result"
    }
   ],
   "source": [
    "dwwc_df.head()"
   ]
  },
  {
   "cell_type": "code",
   "execution_count": 29,
   "metadata": {},
   "outputs": [
    {
     "data": {
      "text/plain": [
       "dwwc-chain          14552.158924\n",
       "dwwc-recursive      55674.636784\n",
       "recursive_cached      193.000000\n",
       "dtype: float64"
      ]
     },
     "execution_count": 29,
     "metadata": {},
     "output_type": "execute_result"
    }
   ],
   "source": [
    "dwwc_df.sum()"
   ]
  },
  {
   "cell_type": "code",
   "execution_count": null,
   "metadata": {},
   "outputs": [],
   "source": []
  }
 ],
 "metadata": {
  "kernelspec": {
   "display_name": "Python 3",
   "language": "python",
   "name": "python3"
  },
  "language_info": {
   "codemirror_mode": {
    "name": "ipython",
    "version": 3
   },
   "file_extension": ".py",
   "mimetype": "text/x-python",
   "name": "python",
   "nbconvert_exporter": "python",
   "pygments_lexer": "ipython3",
   "version": "3.6.4"
  }
 },
 "nbformat": 4,
 "nbformat_minor": 2
}
