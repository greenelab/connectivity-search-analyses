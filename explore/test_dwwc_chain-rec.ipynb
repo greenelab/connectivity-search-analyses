{
 "cells": [
  {
   "cell_type": "code",
   "execution_count": 1,
   "metadata": {},
   "outputs": [],
   "source": [
    "%load_ext autoreload\n",
    "%autoreload 2\n",
    "\n",
    "import collections\n",
    "import time\n",
    "\n",
    "import numpy as np\n",
    "import pandas as pd\n",
    "import pytest\n",
    "import tqdm\n",
    "\n",
    "import hetmech.degree_weight\n",
    "import hetmech.hetmat"
   ]
  },
  {
   "cell_type": "code",
   "execution_count": 2,
   "metadata": {},
   "outputs": [],
   "source": [
    "# Three hetmats so that there is no cache sharing\n",
    "hetmat = hetmech.hetmat.HetMat('../data/hetionet-v1.0.hetmat/')\n",
    "hetmat_rec = hetmech.hetmat.HetMat('../data/hetionet-v1.0.hetmat/')\n",
    "hetmat_chain = hetmech.hetmat.HetMat('../data/hetionet-v1.0.hetmat/')\n",
    "hetmat_chain_nomem = hetmech.hetmat.HetMat('../data/hetionet-v1.0.hetmat/')"
   ]
  },
  {
   "cell_type": "code",
   "execution_count": 3,
   "metadata": {},
   "outputs": [
    {
     "data": {
      "text/plain": [
       "1172"
      ]
     },
     "execution_count": 3,
     "metadata": {},
     "output_type": "execute_result"
    }
   ],
   "source": [
    "# Rephetio metapaths\n",
    "metapaths = list()\n",
    "for metapath in hetmat.metagraph.extract_metapaths('Compound', 'Disease', max_length=4):\n",
    "    if hetmech.degree_weight.categorize(metapath) in {'long_repeat', 'other'}:\n",
    "        continue\n",
    "    metapaths.append(metapath)\n",
    "len(metapaths)"
   ]
  },
  {
   "cell_type": "code",
   "execution_count": 4,
   "metadata": {},
   "outputs": [],
   "source": [
    "def equal_outputs(metapath, dense_threshold=0, dtype=np.float64):\n",
    "    \"\"\"Compute DWWC using all three functions, and ensure that they give the same output.\"\"\"\n",
    "    time1 = time.time()\n",
    "    \n",
    "    # Recursive\n",
    "    row_rec, col_rec, dwwc_rec = hetmech.degree_weight.dwwc_recursive(\n",
    "        hetmat_rec, metapath, dense_threshold=dense_threshold, dtype=dtype)\n",
    "    rec_time = time.time()\n",
    "    \n",
    "    # Chain ordering I\n",
    "    row_chain, col_chain, dwwc_chain = hetmech.degree_weight.dwwc_chain(\n",
    "        hetmat_chain, metapath, dense_threshold=dense_threshold, dtype=dtype)\n",
    "    chain_time = time.time()\n",
    "    \n",
    "    # Chain ordering II\n",
    "    row_chain_nomem, col_chain_nomem, dwwc_chain_nomem = hetmech.degree_weight.dwwc_chain_nomem(\n",
    "        hetmat_chain_nomem, metapath, dense_threshold=dense_threshold, dtype=dtype)\n",
    "    chain_nomem_time = time.time()\n",
    "    \n",
    "    # Original DWWC method\n",
    "    row_original, col_original, dwwc_original = hetmech.degree_weight.dwwc(\n",
    "        hetmat, metapath, dense_threshold=dense_threshold, dtype=dtype)\n",
    "    original_time = time.time()\n",
    "    \n",
    "    times = [rec_time - time1, chain_time - rec_time, chain_nomem_time - chain_time, original_time - chain_nomem_time]\n",
    "    \n",
    "    # Ensure identical outputs\n",
    "    try:\n",
    "        assert (row_rec == row_original) and (row_chain == row_original) and \\\n",
    "            (col_rec == col_original) and (col_chain == col_original) and \\\n",
    "            (row_chain_nomem == row_original) and (col_chain_nomem == col_original)\n",
    "        assert abs(dwwc_rec - dwwc_original).max() == pytest.approx(0, rel=1e-7)\n",
    "        assert abs(dwwc_chain - dwwc_original).max() == pytest.approx(0, abs=1e-7)\n",
    "        assert abs(dwwc_chain_nomem - dwwc_original).max() == pytest.approx(0, abs=1e-7)\n",
    "    except AssertionError:\n",
    "        print(metapath)\n",
    "    return times"
   ]
  },
  {
   "cell_type": "code",
   "execution_count": 5,
   "metadata": {},
   "outputs": [
    {
     "name": "stderr",
     "output_type": "stream",
     "text": [
      "100%|██████████| 1172/1172 [07:38<00:00,  2.55it/s]\n"
     ]
    }
   ],
   "source": [
    "all_times = []\n",
    "\n",
    "for metapath in tqdm.tqdm(metapaths):\n",
    "    times = equal_outputs(metapath, dense_threshold=1)\n",
    "    all_times.append(times)"
   ]
  },
  {
   "cell_type": "code",
   "execution_count": 6,
   "metadata": {},
   "outputs": [],
   "source": [
    "df = pd.DataFrame(all_times, columns=['recursive', 'chain', 'chain_nomem', 'original'])"
   ]
  },
  {
   "cell_type": "code",
   "execution_count": 7,
   "metadata": {},
   "outputs": [
    {
     "data": {
      "text/html": [
       "<div>\n",
       "<style scoped>\n",
       "    .dataframe tbody tr th:only-of-type {\n",
       "        vertical-align: middle;\n",
       "    }\n",
       "\n",
       "    .dataframe tbody tr th {\n",
       "        vertical-align: top;\n",
       "    }\n",
       "\n",
       "    .dataframe thead th {\n",
       "        text-align: right;\n",
       "    }\n",
       "</style>\n",
       "<table border=\"1\" class=\"dataframe\">\n",
       "  <thead>\n",
       "    <tr style=\"text-align: right;\">\n",
       "      <th></th>\n",
       "      <th>recursive</th>\n",
       "      <th>chain</th>\n",
       "      <th>chain_nomem</th>\n",
       "      <th>original</th>\n",
       "    </tr>\n",
       "  </thead>\n",
       "  <tbody>\n",
       "    <tr>\n",
       "      <th>0</th>\n",
       "      <td>0.014322</td>\n",
       "      <td>0.010649</td>\n",
       "      <td>0.009829</td>\n",
       "      <td>0.008086</td>\n",
       "    </tr>\n",
       "    <tr>\n",
       "      <th>1</th>\n",
       "      <td>0.004778</td>\n",
       "      <td>0.004608</td>\n",
       "      <td>0.004798</td>\n",
       "      <td>0.004352</td>\n",
       "    </tr>\n",
       "    <tr>\n",
       "      <th>2</th>\n",
       "      <td>0.011282</td>\n",
       "      <td>0.011545</td>\n",
       "      <td>0.010835</td>\n",
       "      <td>0.010757</td>\n",
       "    </tr>\n",
       "    <tr>\n",
       "      <th>3</th>\n",
       "      <td>0.013559</td>\n",
       "      <td>0.012310</td>\n",
       "      <td>0.010920</td>\n",
       "      <td>0.010578</td>\n",
       "    </tr>\n",
       "    <tr>\n",
       "      <th>4</th>\n",
       "      <td>0.029455</td>\n",
       "      <td>0.029159</td>\n",
       "      <td>0.028978</td>\n",
       "      <td>0.027812</td>\n",
       "    </tr>\n",
       "  </tbody>\n",
       "</table>\n",
       "</div>"
      ],
      "text/plain": [
       "   recursive     chain  chain_nomem  original\n",
       "0   0.014322  0.010649     0.009829  0.008086\n",
       "1   0.004778  0.004608     0.004798  0.004352\n",
       "2   0.011282  0.011545     0.010835  0.010757\n",
       "3   0.013559  0.012310     0.010920  0.010578\n",
       "4   0.029455  0.029159     0.028978  0.027812"
      ]
     },
     "execution_count": 7,
     "metadata": {},
     "output_type": "execute_result"
    }
   ],
   "source": [
    "df.head()"
   ]
  },
  {
   "cell_type": "code",
   "execution_count": 8,
   "metadata": {},
   "outputs": [
    {
     "data": {
      "text/plain": [
       "recursive      0.080130\n",
       "chain          0.061009\n",
       "chain_nomem    0.060359\n",
       "original       0.186873\n",
       "dtype: float64"
      ]
     },
     "execution_count": 8,
     "metadata": {},
     "output_type": "execute_result"
    }
   ],
   "source": [
    "df.mean()"
   ]
  },
  {
   "cell_type": "code",
   "execution_count": 9,
   "metadata": {},
   "outputs": [
    {
     "data": {
      "text/plain": [
       "recursive       93.912910\n",
       "chain           71.502365\n",
       "chain_nomem     70.740806\n",
       "original       219.015376\n",
       "dtype: float64"
      ]
     },
     "execution_count": 9,
     "metadata": {},
     "output_type": "execute_result"
    }
   ],
   "source": [
    "df.sum()"
   ]
  },
  {
   "cell_type": "code",
   "execution_count": 10,
   "metadata": {},
   "outputs": [],
   "source": [
    "from scipy import stats"
   ]
  },
  {
   "cell_type": "code",
   "execution_count": 11,
   "metadata": {},
   "outputs": [
    {
     "data": {
      "text/plain": [
       "Ttest_relResult(statistic=-12.846961209523942, pvalue=1.9544230003882432e-35)"
      ]
     },
     "execution_count": 11,
     "metadata": {},
     "output_type": "execute_result"
    }
   ],
   "source": [
    "stats.ttest_rel(df['recursive'], df['original'])"
   ]
  },
  {
   "cell_type": "code",
   "execution_count": 12,
   "metadata": {},
   "outputs": [
    {
     "data": {
      "text/plain": [
       "Ttest_relResult(statistic=-14.917203945476476, pvalue=3.3515738364617213e-46)"
      ]
     },
     "execution_count": 12,
     "metadata": {},
     "output_type": "execute_result"
    }
   ],
   "source": [
    "stats.ttest_rel(df['chain'], df['original'])"
   ]
  },
  {
   "cell_type": "code",
   "execution_count": 13,
   "metadata": {},
   "outputs": [
    {
     "data": {
      "text/plain": [
       "Ttest_relResult(statistic=6.358996893462328, pvalue=2.9050783090352536e-10)"
      ]
     },
     "execution_count": 13,
     "metadata": {},
     "output_type": "execute_result"
    }
   ],
   "source": [
    "stats.ttest_rel(df['chain'], df['chain_nomem'])"
   ]
  },
  {
   "cell_type": "markdown",
   "metadata": {},
   "source": [
    "## Example of typically long computations"
   ]
  },
  {
   "cell_type": "code",
   "execution_count": 14,
   "metadata": {},
   "outputs": [
    {
     "name": "stdout",
     "output_type": "stream",
     "text": [
      "2.87 s ± 135 ms per loop (mean ± std. dev. of 7 runs, 1 loop each)\n"
     ]
    }
   ],
   "source": [
    "%%timeit\n",
    "\n",
    "_ = hetmech.degree_weight.dwwc(hetmat, 'CbGeAeGaD', dense_threshold=0)"
   ]
  },
  {
   "cell_type": "code",
   "execution_count": 15,
   "metadata": {},
   "outputs": [
    {
     "name": "stdout",
     "output_type": "stream",
     "text": [
      "2.6 s ± 77.2 ms per loop (mean ± std. dev. of 7 runs, 1 loop each)\n"
     ]
    }
   ],
   "source": [
    "%%timeit\n",
    "\n",
    "_ = hetmech.degree_weight.dwwc(hetmat, 'CbGeAeGaD', dense_threshold=1)"
   ]
  },
  {
   "cell_type": "code",
   "execution_count": 16,
   "metadata": {},
   "outputs": [
    {
     "name": "stdout",
     "output_type": "stream",
     "text": [
      "2.06 s ± 8.11 ms per loop (mean ± std. dev. of 7 runs, 1 loop each)\n"
     ]
    }
   ],
   "source": [
    "%%timeit\n",
    "\n",
    "_ = hetmech.degree_weight.dwwc_recursive(hetmat, 'CbGeAeGaD', dense_threshold=0)"
   ]
  },
  {
   "cell_type": "code",
   "execution_count": 17,
   "metadata": {},
   "outputs": [
    {
     "name": "stdout",
     "output_type": "stream",
     "text": [
      "357 ms ± 4.24 ms per loop (mean ± std. dev. of 7 runs, 1 loop each)\n"
     ]
    }
   ],
   "source": [
    "%%timeit\n",
    "\n",
    "_ = hetmech.degree_weight.dwwc_recursive(hetmat, 'CbGeAeGaD', dense_threshold=1)"
   ]
  },
  {
   "cell_type": "code",
   "execution_count": 18,
   "metadata": {},
   "outputs": [
    {
     "name": "stdout",
     "output_type": "stream",
     "text": [
      "2.08 s ± 13.3 ms per loop (mean ± std. dev. of 7 runs, 1 loop each)\n"
     ]
    }
   ],
   "source": [
    "%%timeit\n",
    "\n",
    "_ = hetmech.degree_weight.dwwc_chain(hetmat, 'CbGeAeGaD', dense_threshold=0)"
   ]
  },
  {
   "cell_type": "code",
   "execution_count": 19,
   "metadata": {},
   "outputs": [
    {
     "name": "stdout",
     "output_type": "stream",
     "text": [
      "292 ms ± 706 µs per loop (mean ± std. dev. of 7 runs, 1 loop each)\n"
     ]
    }
   ],
   "source": [
    "%%timeit\n",
    "\n",
    "_ = hetmech.degree_weight.dwwc_chain(hetmat, 'CbGeAeGaD', dense_threshold=1)"
   ]
  },
  {
   "cell_type": "code",
   "execution_count": 20,
   "metadata": {},
   "outputs": [
    {
     "name": "stdout",
     "output_type": "stream",
     "text": [
      "2.12 s ± 91.4 ms per loop (mean ± std. dev. of 7 runs, 1 loop each)\n"
     ]
    }
   ],
   "source": [
    "%%timeit\n",
    "\n",
    "_ = hetmech.degree_weight.dwwc_chain_nomem(hetmat, 'CbGeAeGaD', dense_threshold=0)"
   ]
  },
  {
   "cell_type": "code",
   "execution_count": 21,
   "metadata": {},
   "outputs": [
    {
     "name": "stdout",
     "output_type": "stream",
     "text": [
      "292 ms ± 2.6 ms per loop (mean ± std. dev. of 7 runs, 1 loop each)\n"
     ]
    }
   ],
   "source": [
    "%%timeit\n",
    "\n",
    "_ = hetmech.degree_weight.dwwc_chain_nomem(hetmat, 'CbGeAeGaD', dense_threshold=1)"
   ]
  }
 ],
 "metadata": {
  "kernelspec": {
   "display_name": "Python 3",
   "language": "python",
   "name": "python3"
  },
  "language_info": {
   "codemirror_mode": {
    "name": "ipython",
    "version": 3
   },
   "file_extension": ".py",
   "mimetype": "text/x-python",
   "name": "python",
   "nbconvert_exporter": "python",
   "pygments_lexer": "ipython3",
   "version": "3.6.4"
  }
 },
 "nbformat": 4,
 "nbformat_minor": 2
}
