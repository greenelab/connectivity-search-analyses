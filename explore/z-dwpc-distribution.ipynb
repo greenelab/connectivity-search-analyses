{
 "cells": [
  {
   "cell_type": "code",
   "execution_count": 1,
   "metadata": {},
   "outputs": [
    {
     "name": "stdout",
     "output_type": "stream",
     "text": [
      "Requirement already satisfied: seaborn in /home/michael/.conda/envs/hetmech/lib/python3.6/site-packages\n",
      "\u001b[33mYou are using pip version 9.0.3, however version 10.0.1 is available.\n",
      "You should consider upgrading via the 'pip install --upgrade pip' command.\u001b[0m\n"
     ]
    }
   ],
   "source": [
    "!pip install seaborn"
   ]
  },
  {
   "cell_type": "code",
   "execution_count": 2,
   "metadata": {},
   "outputs": [],
   "source": [
    "import collections\n",
    "\n",
    "import numpy\n",
    "import pandas\n",
    "import seaborn as sns\n",
    "import scipy.stats\n",
    "\n",
    "from hetmech.hetmat import HetMat\n",
    "\n",
    "%matplotlib inline"
   ]
  },
  {
   "cell_type": "code",
   "execution_count": 3,
   "metadata": {},
   "outputs": [],
   "source": [
    "hetmat = HetMat('../data/hetionet-v1.0.hetmat/')"
   ]
  },
  {
   "cell_type": "code",
   "execution_count": 4,
   "metadata": {},
   "outputs": [],
   "source": [
    "select_metapaths = ['DaGiG', 'DaGbC', 'DtC', 'DuGcG', 'DdGcG', 'DdGeA']\n",
    "\n",
    "dwpc_path = hetmat.directory.joinpath('adjusted-path-counts', 'dwpc-0.5', 'adjusted-dwpcs')\n",
    "\n",
    "values_dict = {}\n",
    "for metapath in select_metapaths:\n",
    "    df = pandas.read_table(dwpc_path.joinpath(f'{metapath}.tsv'))\n",
    "    values_dict[metapath] = df.replace([numpy.inf, -numpy.inf], numpy.nan).dropna()['z-dwpc'].values"
   ]
  },
  {
   "cell_type": "code",
   "execution_count": 5,
   "metadata": {},
   "outputs": [],
   "source": [
    "def ks_norm_test(data, sided='less'):\n",
    "    \"\"\"\n",
    "    Perform a Kolmogorov-Smirnov test to compare the distribution of Z-DWPC values with\n",
    "    the standard normal distribution. KS statistic returned is equal to the the area\n",
    "    of the data PDF above the standard normal PDF that lies outside the intersection of\n",
    "    the two curves. For more information, see \n",
    "    https://en.wikipedia.org/wiki/Kolmogorov%E2%80%93Smirnov_test\n",
    "    \"\"\"\n",
    "    data = numpy.sort(numpy.asarray(data))\n",
    "    cdf = numpy.arange(0, len(data)) / len(data)\n",
    "    norm_cdf = scipy.stats.norm.cdf(data)\n",
    "    diff = norm_cdf - cdf\n",
    "\n",
    "    info = collections.OrderedDict({'z': data, 'data-cdf': cdf, 'norm-cdf': norm_cdf, 'ks': diff})\n",
    "    df = pandas.DataFrame.from_dict(info)\n",
    "    \n",
    "    if sided == 'two':\n",
    "        df['ks'] = abs(df['ks'])\n",
    "    elif sided == 'greater':\n",
    "        df['ks'] = -df['ks']\n",
    "        \n",
    "    ksstat = df.iloc[df['ks'].idxmax(axis=1)].to_dict()\n",
    "    \n",
    "    # Calculate p-value using the limiting value Kolmogorov-Smirnov distribution See: https://git.io/vhVpc\n",
    "    p = scipy.special.kolmogorov(ksstat['ks'] * numpy.sqrt(len(data)))\n",
    "    ksstat['p-value'] = p\n",
    "    \n",
    "    return ksstat"
   ]
  },
  {
   "cell_type": "code",
   "execution_count": 6,
   "metadata": {},
   "outputs": [
    {
     "data": {
      "text/plain": [
       "{'z': -0.409456099691775,\n",
       " 'data-cdf': 0.07338112905026603,\n",
       " 'norm-cdf': 0.34110248866673387,\n",
       " 'ks': 0.2677213596164678,\n",
       " 'p-value': 0.0}"
      ]
     },
     "execution_count": 6,
     "metadata": {},
     "output_type": "execute_result"
    }
   ],
   "source": [
    "ks_norm_test(values_dict['DdGcG'])"
   ]
  },
  {
   "cell_type": "markdown",
   "metadata": {},
   "source": [
    "This method should be compared with the built-in scipy method. Unlike that method, we return the Z-value of where PDFs intersect, or the coordinate where the KS statistic is found."
   ]
  },
  {
   "cell_type": "code",
   "execution_count": 7,
   "metadata": {},
   "outputs": [
    {
     "data": {
      "text/plain": [
       "KstestResult(statistic=0.2677213596164678, pvalue=0.0)"
      ]
     },
     "execution_count": 7,
     "metadata": {},
     "output_type": "execute_result"
    }
   ],
   "source": [
    "scipy.stats.kstest(values_dict['DdGcG'], 'norm', alternative='less')"
   ]
  },
  {
   "cell_type": "code",
   "execution_count": 8,
   "metadata": {},
   "outputs": [
    {
     "name": "stderr",
     "output_type": "stream",
     "text": [
      "/home/michael/.conda/envs/hetmech/lib/python3.6/site-packages/matplotlib/axes/_axes.py:6462: UserWarning: The 'normed' kwarg is deprecated, and has been replaced by the 'density' kwarg.\n",
      "  warnings.warn(\"The 'normed' kwarg is deprecated, and has been \"\n",
      "/home/michael/.conda/envs/hetmech/lib/python3.6/site-packages/matplotlib/axes/_axes.py:6462: UserWarning: The 'normed' kwarg is deprecated, and has been replaced by the 'density' kwarg.\n",
      "  warnings.warn(\"The 'normed' kwarg is deprecated, and has been \"\n",
      "/home/michael/.conda/envs/hetmech/lib/python3.6/site-packages/matplotlib/axes/_axes.py:6462: UserWarning: The 'normed' kwarg is deprecated, and has been replaced by the 'density' kwarg.\n",
      "  warnings.warn(\"The 'normed' kwarg is deprecated, and has been \"\n",
      "/home/michael/.conda/envs/hetmech/lib/python3.6/site-packages/statsmodels/nonparametric/kde.py:488: RuntimeWarning: invalid value encountered in true_divide\n",
      "  binned = fast_linbin(X, a, b, gridsize) / (delta * nobs)\n",
      "/home/michael/.conda/envs/hetmech/lib/python3.6/site-packages/statsmodels/nonparametric/kdetools.py:34: RuntimeWarning: invalid value encountered in double_scalars\n",
      "  FAC1 = 2*(np.pi*bw/RANGE)**2\n",
      "/home/michael/.conda/envs/hetmech/lib/python3.6/site-packages/numpy/core/_methods.py:26: RuntimeWarning: invalid value encountered in reduce\n",
      "  return umr_maximum(a, axis, None, out, keepdims)\n"
     ]
    },
    {
     "data": {
      "text/plain": [
       "<matplotlib.axes._subplots.AxesSubplot at 0x7fdcee224710>"
      ]
     },
     "execution_count": 8,
     "metadata": {},
     "output_type": "execute_result"
    },
    {
     "data": {
      "image/png": "[encoded data removed]",
      "text/plain": [
       "<Figure size 432x288 with 1 Axes>"
      ]
     },
     "metadata": {},
     "output_type": "display_data"
    }
   ],
   "source": [
    "draws = numpy.random.normal(0, numpy.sqrt(5), 100000)\n",
    "st_norm = numpy.random.normal(0, 1, 100000)\n",
    "x1 = 100 * [1.364]\n",
    "sns.distplot(st_norm)\n",
    "sns.distplot(draws)\n",
    "sns.distplot(x1)"
   ]
  },
  {
   "cell_type": "code",
   "execution_count": 9,
   "metadata": {},
   "outputs": [
    {
     "data": {
      "text/plain": [
       "KstestResult(statistic=0.18409389048597358, pvalue=0.0)"
      ]
     },
     "execution_count": 9,
     "metadata": {},
     "output_type": "execute_result"
    }
   ],
   "source": [
    "scipy.stats.kstest(draws, 'norm', alternative='less')"
   ]
  },
  {
   "cell_type": "markdown",
   "metadata": {},
   "source": [
    "### Explanation\n",
    "\n",
    "The KS statistic above is equal to the difference in areas to the right of the green line above. Since the orange distribution has a greater variance, it has a higher area beyond the intersection. The alternate hypothesis that the orange is 'less' than the blue means that the CDF of the orange distribution is below the CDF of the blue curve. In this case, this hypothesis is correct. Orange CDF < Blue CDF and Orange PDF > Blue PDF."
   ]
  }
 ],
 "metadata": {
  "kernelspec": {
   "display_name": "Python 3",
   "language": "python",
   "name": "python3"
  },
  "language_info": {
   "codemirror_mode": {
    "name": "ipython",
    "version": 3
   },
   "file_extension": ".py",
   "mimetype": "text/x-python",
   "name": "python",
   "nbconvert_exporter": "python",
   "pygments_lexer": "ipython3",
   "version": "3.6.4"
  }
 },
 "nbformat": 4,
 "nbformat_minor": 2
}
