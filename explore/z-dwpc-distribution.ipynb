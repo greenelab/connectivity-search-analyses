{
 "cells": [
  {
   "cell_type": "code",
   "execution_count": 1,
   "metadata": {},
   "outputs": [],
   "source": [
    "import collections\n",
    "\n",
    "import numpy\n",
    "import pandas\n",
    "import plotnine\n",
    "import scipy.stats\n",
    "\n",
    "from hetmech.hetmat import HetMat\n",
    "\n",
    "%matplotlib inline"
   ]
  },
  {
   "cell_type": "code",
   "execution_count": 2,
   "metadata": {},
   "outputs": [],
   "source": [
    "hetmat = HetMat('../data/hetionet-v1.0.hetmat/')"
   ]
  },
  {
   "cell_type": "code",
   "execution_count": 3,
   "metadata": {},
   "outputs": [],
   "source": [
    "select_metapaths = ['DaGiG', 'DaGbC', 'DtC', 'DuGcG', 'DdGcG', 'DdGeA']\n",
    "\n",
    "dwpc_path = hetmat.directory.joinpath('adjusted-path-counts', 'dwpc-0.5', 'adjusted-dwpcs')\n",
    "\n",
    "values_dict = {}\n",
    "for metapath in select_metapaths:\n",
    "    df = pandas.read_table(dwpc_path.joinpath(f'{metapath}.tsv'))\n",
    "    values_dict[metapath] = df.replace([numpy.inf, -numpy.inf], numpy.nan).dropna()['z-dwpc'].values"
   ]
  },
  {
   "cell_type": "code",
   "execution_count": 4,
   "metadata": {},
   "outputs": [],
   "source": [
    "def ks_norm_test(data, sided='less'):\n",
    "    \"\"\"\n",
    "    Perform a Kolmogorov-Smirnov test to compare the distribution of Z-DWPC values with\n",
    "    the standard normal distribution. KS statistic returned is equal to the the area\n",
    "    of the data PDF above the standard normal PDF that lies outside the intersection of\n",
    "    the two curves. For more information, see \n",
    "    https://en.wikipedia.org/wiki/Kolmogorov%E2%80%93Smirnov_test\n",
    "    \"\"\"\n",
    "    data = numpy.sort(numpy.asarray(data))\n",
    "    df = pandas.DataFrame.from_dict({'data': data})\n",
    "    cdf = numpy.arange(0, len(data)) / len(data)\n",
    "    norm_cdf = scipy.stats.norm.cdf(data)\n",
    "    diff = norm_cdf - cdf\n",
    "\n",
    "    info = collections.OrderedDict({'z': data, 'data-cdf': cdf, 'norm-cdf': norm_cdf, 'ks': diff})\n",
    "    df = pandas.DataFrame.from_dict(info)\n",
    "    \n",
    "    if sided == 'two':\n",
    "        df['ks'] = abs(df['ks'])\n",
    "    elif sided == 'greater':\n",
    "        df['ks'] = -df['ks']\n",
    "        \n",
    "    ksstat = df.iloc[df['ks'].idxmax(axis=1)].to_dict()\n",
    "    \n",
    "    # Calculate p-value using the limiting value Kolmogorov-Smirnov distribution See: https://git.io/vhVpc\n",
    "    p = scipy.special.kolmogorov(ksstat['ks'] * numpy.sqrt(len(data)))\n",
    "    ksstat['p-value'] = p\n",
    "    \n",
    "    return ksstat"
   ]
  },
  {
   "cell_type": "code",
   "execution_count": 5,
   "metadata": {},
   "outputs": [
    {
     "data": {
      "text/plain": [
       "{'z': -0.5301364755170619,\n",
       " 'data-cdf': 0.08915182640087713,\n",
       " 'norm-cdf': 0.298008655449538,\n",
       " 'ks': 0.20885682904866085,\n",
       " 'p-value': 0.0}"
      ]
     },
     "execution_count": 5,
     "metadata": {},
     "output_type": "execute_result"
    }
   ],
   "source": [
    "results = ks_norm_test(values_dict['DaGiG'])\n",
    "results"
   ]
  },
  {
   "cell_type": "code",
   "execution_count": 6,
   "metadata": {},
   "outputs": [],
   "source": [
    "x = numpy.linspace(-10,10,1000)\n",
    "y = scipy.stats.norm.pdf(x)\n",
    "st_norm = pandas.DataFrame([x, y]).T.rename(columns={0: 'x', 1: 'y'})"
   ]
  },
  {
   "cell_type": "code",
   "execution_count": 7,
   "metadata": {},
   "outputs": [
    {
     "data": {
      "image/png": "[encoded data removed]",
      "text/plain": [
       "<Figure size 640x480 with 1 Axes>"
      ]
     },
     "metadata": {},
     "output_type": "display_data"
    },
    {
     "data": {
      "text/plain": [
       "<ggplot: (-9223363242768005516)>"
      ]
     },
     "execution_count": 7,
     "metadata": {},
     "output_type": "execute_result"
    }
   ],
   "source": [
    "data = pandas.DataFrame.from_dict({'data': values_dict['DaGiG']})\n",
    "data = data.sample(n=10000)\n",
    "\n",
    "(plotnine.ggplot() \n",
    " + plotnine.geoms.geom_density(plotnine.aes('data'), data=data, alpha=0.2, color='r', fill='r')\n",
    " + plotnine.geom_area(plotnine.aes(x='x', y='y'), data=st_norm, alpha=0.2, color='b', fill='b')\n",
    " + plotnine.geoms.geom_vline(xintercept=results['z'])\n",
    ")"
   ]
  },
  {
   "cell_type": "markdown",
   "metadata": {},
   "source": [
    "This method should be compared with the built-in scipy method. Unlike that method, we return the Z-value of where PDFs intersect, or the coordinate where the KS statistic is found."
   ]
  },
  {
   "cell_type": "code",
   "execution_count": 13,
   "metadata": {},
   "outputs": [
    {
     "data": {
      "text/plain": [
       "KstestResult(statistic=0.20885682904866085, pvalue=0.0)"
      ]
     },
     "execution_count": 13,
     "metadata": {},
     "output_type": "execute_result"
    }
   ],
   "source": [
    "scipy.stats.kstest(values_dict['DaGiG'], 'norm', alternative='less')"
   ]
  },
  {
   "cell_type": "markdown",
   "metadata": {},
   "source": [
    "### Explanation\n",
    "\n",
    "The KS statistic above is equal to the difference in areas to the right of the green line above. Since the orange distribution has a greater variance, it has a higher area beyond the intersection. The alternate hypothesis that the orange is 'less' than the blue means that the CDF of the orange distribution is below the CDF of the blue curve. In this case, this hypothesis is correct. Orange CDF < Blue CDF and Orange PDF > Blue PDF."
   ]
  },
  {
   "cell_type": "code",
   "execution_count": 9,
   "metadata": {},
   "outputs": [],
   "source": [
    "draws = numpy.random.normal(0, numpy.sqrt(5), 100000)\n",
    "st_norm = numpy.random.normal(0, 1, 100000)\n",
    "\n",
    "data = pandas.DataFrame.from_dict({'draws': draws, 'st-norm': st_norm})"
   ]
  },
  {
   "cell_type": "code",
   "execution_count": 10,
   "metadata": {},
   "outputs": [
    {
     "data": {
      "text/plain": [
       "KstestResult(statistic=0.18701388566095634, pvalue=0.0)"
      ]
     },
     "execution_count": 10,
     "metadata": {},
     "output_type": "execute_result"
    }
   ],
   "source": [
    "scipy.stats.kstest(draws, 'norm', alternative='less')"
   ]
  },
  {
   "cell_type": "code",
   "execution_count": 11,
   "metadata": {},
   "outputs": [
    {
     "data": {
      "text/plain": [
       "{'z': 1.4499508394374097,\n",
       " 'data-cdf': 0.73945,\n",
       " 'norm-cdf': 0.9264638856609564,\n",
       " 'ks': 0.18701388566095634,\n",
       " 'p-value': 0.0}"
      ]
     },
     "execution_count": 11,
     "metadata": {},
     "output_type": "execute_result"
    }
   ],
   "source": [
    "results = ks_norm_test(data['draws'])\n",
    "results"
   ]
  },
  {
   "cell_type": "code",
   "execution_count": 12,
   "metadata": {},
   "outputs": [
    {
     "data": {
      "image/png": "[encoded data removed]",
      "text/plain": [
       "<Figure size 640x480 with 1 Axes>"
      ]
     },
     "metadata": {},
     "output_type": "display_data"
    },
    {
     "data": {
      "text/plain": [
       "<ggplot: (8794088522774)>"
      ]
     },
     "execution_count": 12,
     "metadata": {},
     "output_type": "execute_result"
    }
   ],
   "source": [
    "(plotnine.ggplot() \n",
    " + plotnine.geoms.geom_density(plotnine.aes('draws'), data=data, alpha=0.2, color='r', fill='r')\n",
    " + plotnine.geoms.geom_density(plotnine.aes('st-norm'), data=data, alpha=0.2, color='b', fill='b')\n",
    " + plotnine.geoms.geom_vline(xintercept=results['z'])\n",
    ")"
   ]
  }
 ],
 "metadata": {
  "kernelspec": {
   "display_name": "Python 3",
   "language": "python",
   "name": "python3"
  },
  "language_info": {
   "codemirror_mode": {
    "name": "ipython",
    "version": 3
   },
   "file_extension": ".py",
   "mimetype": "text/x-python",
   "name": "python",
   "nbconvert_exporter": "python",
   "pygments_lexer": "ipython3",
   "version": "3.6.4"
  }
 },
 "nbformat": 4,
 "nbformat_minor": 2
}
