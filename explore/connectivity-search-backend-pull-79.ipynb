{
 "metadata": {
  "language_info": {
   "codemirror_mode": {
    "name": "ipython",
    "version": 3
   },
   "file_extension": ".py",
   "mimetype": "text/x-python",
   "name": "python",
   "nbconvert_exporter": "python",
   "pygments_lexer": "ipython3",
   "version": "3.8.6-final"
  },
  "orig_nbformat": 2,
  "kernelspec": {
   "name": "python3",
   "display_name": "Python 3",
   "language": "python"
  }
 },
 "nbformat": 4,
 "nbformat_minor": 2,
 "cells": [
  {
   "source": [
    "# detect differences in path count table\n",
    "\n",
    "compare path count tables from\n",
    "\n",
    "- before: as of [connectivity-search-backend/pull/41](https://github.com/greenelab/connectivity-search-backend/pull/41#issuecomment-488054789)\n",
    "- after: as of [connectivity-search-backend/pull/79](https://github.com/greenelab/connectivity-search-backend/pull/79#issuecomment-759114378)"
   ],
   "cell_type": "markdown",
   "metadata": {}
  },
  {
   "cell_type": "code",
   "execution_count": 9,
   "metadata": {},
   "outputs": [],
   "source": [
    "import pandas\n",
    "import psycopg2"
   ]
  },
  {
   "cell_type": "code",
   "execution_count": 15,
   "metadata": {},
   "outputs": [],
   "source": [
    "sql = '''\\\n",
    "SELECT metapath_id, COUNT(*) AS path_count_rows\n",
    "FROM dj_hetmech_app_pathcount\n",
    "GROUP BY metapath_id\n",
    "'''\n",
    "\n",
    "con_before = psycopg2.connect(\n",
    "    host=\"search-db.het.io\",\n",
    "    port=5432,\n",
    "    dbname=\"connectivity_db\",\n",
    "    user=\"read_only_user\",\n",
    "    password=\"tm8ut9uzqx7628swwkb9\",\n",
    ")\n",
    "before_df = pandas.read_sql_query(con=con_before, sql=sql)\n",
    "\n",
    "con_after = psycopg2.connect(\n",
    "    host=\"localhost\",\n",
    "    port=5432,\n",
    "    dbname=\"connectivity_db\",\n",
    "    user=\"dj_hetmech\",\n",
    "    password=\"not_secure\",\n",
    ")\n",
    "after_df = pandas.read_sql_query(con=con_after, sql=sql)"
   ]
  },
  {
   "cell_type": "code",
   "execution_count": 27,
   "metadata": {},
   "outputs": [
    {
     "output_type": "execute_result",
     "data": {
      "text/plain": [
       "  metapath_id  path_count_rows\n",
       "0         AdG           102240\n",
       "1       AdGaD              203"
      ],
      "text/html": "<div>\n<style scoped>\n    .dataframe tbody tr th:only-of-type {\n        vertical-align: middle;\n    }\n\n    .dataframe tbody tr th {\n        vertical-align: top;\n    }\n\n    .dataframe thead th {\n        text-align: right;\n    }\n</style>\n<table border=\"1\" class=\"dataframe\">\n  <thead>\n    <tr style=\"text-align: right;\">\n      <th></th>\n      <th>metapath_id</th>\n      <th>path_count_rows</th>\n    </tr>\n  </thead>\n  <tbody>\n    <tr>\n      <th>0</th>\n      <td>AdG</td>\n      <td>102240</td>\n    </tr>\n    <tr>\n      <th>1</th>\n      <td>AdGaD</td>\n      <td>203</td>\n    </tr>\n  </tbody>\n</table>\n</div>"
     },
     "metadata": {},
     "execution_count": 27
    }
   ],
   "source": [
    "after_df.head(2)"
   ]
  },
  {
   "cell_type": "code",
   "execution_count": 28,
   "metadata": {},
   "outputs": [
    {
     "output_type": "execute_result",
     "data": {
      "text/plain": [
       "  metapath_id  path_count_rows\n",
       "0         AdG           102240\n",
       "1       AdGaD              203"
      ],
      "text/html": "<div>\n<style scoped>\n    .dataframe tbody tr th:only-of-type {\n        vertical-align: middle;\n    }\n\n    .dataframe tbody tr th {\n        vertical-align: top;\n    }\n\n    .dataframe thead th {\n        text-align: right;\n    }\n</style>\n<table border=\"1\" class=\"dataframe\">\n  <thead>\n    <tr style=\"text-align: right;\">\n      <th></th>\n      <th>metapath_id</th>\n      <th>path_count_rows</th>\n    </tr>\n  </thead>\n  <tbody>\n    <tr>\n      <th>0</th>\n      <td>AdG</td>\n      <td>102240</td>\n    </tr>\n    <tr>\n      <th>1</th>\n      <td>AdGaD</td>\n      <td>203</td>\n    </tr>\n  </tbody>\n</table>\n</div>"
     },
     "metadata": {},
     "execution_count": 28
    }
   ],
   "source": [
    "before_df.head(2)"
   ]
  },
  {
   "cell_type": "code",
   "execution_count": 41,
   "metadata": {},
   "outputs": [
    {
     "output_type": "execute_result",
     "data": {
      "text/plain": [
       "  metapath_id  path_count_rows_before  path_count_rows_after\n",
       "0         AdG                  102240                 102240\n",
       "1       AdGaD                     203                    203"
      ],
      "text/html": "<div>\n<style scoped>\n    .dataframe tbody tr th:only-of-type {\n        vertical-align: middle;\n    }\n\n    .dataframe tbody tr th {\n        vertical-align: top;\n    }\n\n    .dataframe thead th {\n        text-align: right;\n    }\n</style>\n<table border=\"1\" class=\"dataframe\">\n  <thead>\n    <tr style=\"text-align: right;\">\n      <th></th>\n      <th>metapath_id</th>\n      <th>path_count_rows_before</th>\n      <th>path_count_rows_after</th>\n    </tr>\n  </thead>\n  <tbody>\n    <tr>\n      <th>0</th>\n      <td>AdG</td>\n      <td>102240</td>\n      <td>102240</td>\n    </tr>\n    <tr>\n      <th>1</th>\n      <td>AdGaD</td>\n      <td>203</td>\n      <td>203</td>\n    </tr>\n  </tbody>\n</table>\n</div>"
     },
     "metadata": {},
     "execution_count": 41
    }
   ],
   "source": [
    "both_df = (\n",
    "    before_df\n",
    "    .merge(after_df, how=\"outer\", on=\"metapath_id\", suffixes=(\"_before\", \"_after\"))\n",
    "    .convert_dtypes()\n",
    ")\n",
    "both_df.head(2)"
   ]
  },
  {
   "cell_type": "code",
   "execution_count": 42,
   "metadata": {},
   "outputs": [
    {
     "output_type": "execute_result",
     "data": {
      "text/plain": [
       "path_count_rows_before    166199174\n",
       "path_count_rows_after     169602979\n",
       "dtype: int64"
      ]
     },
     "metadata": {},
     "execution_count": 42
    }
   ],
   "source": [
    "both_df.sum()"
   ]
  },
  {
   "cell_type": "code",
   "execution_count": 43,
   "metadata": {},
   "outputs": [
    {
     "output_type": "execute_result",
     "data": {
      "text/plain": [
       "    metapath_id  path_count_rows_before  path_count_rows_after\n",
       "637       CbGaD                    1791                  27498\n",
       "641     CbGaDrD                     192                  87203\n",
       "648     CbGbCpD                     333                  39723\n",
       "649     CbGbCtD                     689                  60363\n",
       "652     CbGcGaD                     132                  24363"
      ],
      "text/html": "<div>\n<style scoped>\n    .dataframe tbody tr th:only-of-type {\n        vertical-align: middle;\n    }\n\n    .dataframe tbody tr th {\n        vertical-align: top;\n    }\n\n    .dataframe thead th {\n        text-align: right;\n    }\n</style>\n<table border=\"1\" class=\"dataframe\">\n  <thead>\n    <tr style=\"text-align: right;\">\n      <th></th>\n      <th>metapath_id</th>\n      <th>path_count_rows_before</th>\n      <th>path_count_rows_after</th>\n    </tr>\n  </thead>\n  <tbody>\n    <tr>\n      <th>637</th>\n      <td>CbGaD</td>\n      <td>1791</td>\n      <td>27498</td>\n    </tr>\n    <tr>\n      <th>641</th>\n      <td>CbGaDrD</td>\n      <td>192</td>\n      <td>87203</td>\n    </tr>\n    <tr>\n      <th>648</th>\n      <td>CbGbCpD</td>\n      <td>333</td>\n      <td>39723</td>\n    </tr>\n    <tr>\n      <th>649</th>\n      <td>CbGbCtD</td>\n      <td>689</td>\n      <td>60363</td>\n    </tr>\n    <tr>\n      <th>652</th>\n      <td>CbGcGaD</td>\n      <td>132</td>\n      <td>24363</td>\n    </tr>\n  </tbody>\n</table>\n</div>"
     },
     "metadata": {},
     "execution_count": 43
    }
   ],
   "source": [
    "both_df.query(\"path_count_rows_before != path_count_rows_after\").head()"
   ]
  },
  {
   "cell_type": "code",
   "execution_count": 48,
   "metadata": {},
   "outputs": [
    {
     "output_type": "execute_result",
     "data": {
      "text/plain": [
       "132"
      ]
     },
     "metadata": {},
     "execution_count": 48
    }
   ],
   "source": [
    "len(both_df.query(\"path_count_rows_before != path_count_rows_after\").metapath_id)"
   ]
  },
  {
   "cell_type": "code",
   "execution_count": 44,
   "metadata": {},
   "outputs": [
    {
     "output_type": "execute_result",
     "data": {
      "text/plain": [
       "Empty DataFrame\n",
       "Columns: [metapath_id, path_count_rows_before, path_count_rows_after]\n",
       "Index: []"
      ],
      "text/html": "<div>\n<style scoped>\n    .dataframe tbody tr th:only-of-type {\n        vertical-align: middle;\n    }\n\n    .dataframe tbody tr th {\n        vertical-align: top;\n    }\n\n    .dataframe thead th {\n        text-align: right;\n    }\n</style>\n<table border=\"1\" class=\"dataframe\">\n  <thead>\n    <tr style=\"text-align: right;\">\n      <th></th>\n      <th>metapath_id</th>\n      <th>path_count_rows_before</th>\n      <th>path_count_rows_after</th>\n    </tr>\n  </thead>\n  <tbody>\n  </tbody>\n</table>\n</div>"
     },
     "metadata": {},
     "execution_count": 44
    }
   ],
   "source": [
    "both_df.query(\"path_count_rows_before > path_count_rows_after\")"
   ]
  }
 ]
}