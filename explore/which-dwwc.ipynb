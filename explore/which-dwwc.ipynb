{
 "cells": [
  {
   "cell_type": "markdown",
   "metadata": {},
   "source": [
    "# Which DWWC to use?\n",
    "\n",
    "`dwwc_recursive` with caching appears to be the fastest method for bulk DWWC computation. However, `dwpc` makes many `dwwc` calls, often on very short segments, for which it is not clear whether `dwwc_chain` or `dwwc_recursive` will be faster. To find out, we compute a number of DWPCs, using either `dwwc_chain` or `dwwc_recursive` as the DWWC function."
   ]
  },
  {
   "cell_type": "code",
   "execution_count": 1,
   "metadata": {},
   "outputs": [],
   "source": [
    "from hetmech.degree_weight import (\n",
    "    _dwpc_disjoint, _dwpc_short_repeat, _dwpc_general_case, _dwpc_baab, _dwpc_baba,\n",
    "    path_count_cache, categorize, get_segments, get_all_segments, dwwc, dwwc_chain, dwwc_recursive,\n",
    "    _dwpc_repeat_around\n",
    "\n",
    ")\n",
    "import hetmech.hetmat\n",
    "from hetmech.matrix import (\n",
    "    copy_array,\n",
    "    metaedge_to_adjacency_matrix,\n",
    "    normalize,\n",
    ")\n",
    "import functools\n",
    "import numpy as np\n",
    "import numpy \n",
    "import tqdm\n",
    "import time\n",
    "import pandas as pd\n",
    "from scipy import sparse"
   ]
  },
  {
   "cell_type": "code",
   "execution_count": 2,
   "metadata": {},
   "outputs": [],
   "source": [
    "hetmat = hetmech.hetmat.HetMat('../data/hetionet-v1.0.hetmat/')"
   ]
  },
  {
   "cell_type": "code",
   "execution_count": 3,
   "metadata": {},
   "outputs": [
    {
     "data": {
      "text/plain": [
       "1172"
      ]
     },
     "execution_count": 3,
     "metadata": {},
     "output_type": "execute_result"
    }
   ],
   "source": [
    "metapaths = list()\n",
    "for metapath in hetmat.metagraph.extract_metapaths('Compound', 'Disease', max_length=4):\n",
    "    if hetmech.degree_weight.categorize(metapath) in {'long_repeat', 'other'}:\n",
    "        continue\n",
    "    metapaths.append(metapath)\n",
    "len(metapaths)"
   ]
  },
  {
   "cell_type": "markdown",
   "metadata": {},
   "source": [
    "## Original DWWC computation times"
   ]
  },
  {
   "cell_type": "code",
   "execution_count": 4,
   "metadata": {},
   "outputs": [],
   "source": [
    "def category_to_function(category):\n",
    "    function_dictionary = {'no_repeats': dwwc,\n",
    "                           'disjoint': _dwpc_disjoint,\n",
    "                           'disjoint_groups': _dwpc_disjoint,\n",
    "                           'short_repeat': _dwpc_short_repeat,\n",
    "                           'long_repeat': _dwpc_general_case,\n",
    "                           'BAAB': _dwpc_baab,\n",
    "                           'BABA': _dwpc_baba,\n",
    "                           'repeat_around': _dwpc_repeat_around,\n",
    "                           'interior_complete_group': _dwpc_baba,\n",
    "                           'other': _dwpc_general_case}\n",
    "    return function_dictionary[category]\n",
    "\n",
    "@path_count_cache(metric='dwpc')\n",
    "def dwpc(graph, metapath, damping=0.5, dense_threshold=0, use_general=False,\n",
    "         dtype=numpy.float64):\n",
    "    category = categorize(metapath)\n",
    "    dwpc_function = category_to_function(category)\n",
    "    if category in ('long_repeat', 'other'):\n",
    "        if use_general:\n",
    "            row_names, col_names, dwpc_matrix = _dwpc_general_case(\n",
    "                graph, metapath, damping)\n",
    "        else:\n",
    "            raise NotImplementedError(\n",
    "                'Metapath category will use _dwpc_general_case')\n",
    "    else:\n",
    "        row_names, col_names, dwpc_matrix = dwpc_function(\n",
    "            graph, metapath, damping, dense_threshold=dense_threshold,\n",
    "            dtype=dtype)\n",
    "\n",
    "    return row_names, col_names, dwpc_matrix"
   ]
  },
  {
   "cell_type": "code",
   "execution_count": 5,
   "metadata": {},
   "outputs": [
    {
     "name": "stderr",
     "output_type": "stream",
     "text": [
      "100%|██████████| 1172/1172 [29:53<00:00,  1.53s/it]\n"
     ]
    }
   ],
   "source": [
    "hetmat = hetmech.hetmat.HetMat('../data/hetionet-v1.0.hetmat/')\n",
    "hetmat.path_counts_cache = hetmech.hetmat.PathCountPriorityCache(hetmat, allocate_GB=5)\n",
    "\n",
    "times = []\n",
    "for metapath in tqdm.tqdm(metapaths):\n",
    "    time1 = time.time()\n",
    "    dwpc(hetmat, metapath, dense_threshold=1)\n",
    "    time2 = time.time()\n",
    "    times.append([metapath, time2 - time1, 'recursive'])"
   ]
  },
  {
   "cell_type": "markdown",
   "metadata": {},
   "source": [
    "## Recursive DWWC computation times"
   ]
  },
  {
   "cell_type": "code",
   "execution_count": 6,
   "metadata": {},
   "outputs": [],
   "source": [
    "def category_to_function(category):\n",
    "    function_dictionary = {'no_repeats': dwwc_recursive,\n",
    "                           'disjoint': _dwpc_disjoint,\n",
    "                           'disjoint_groups': _dwpc_disjoint,\n",
    "                           'short_repeat': _dwpc_short_repeat,\n",
    "                           'long_repeat': _dwpc_general_case,\n",
    "                           'BAAB': _dwpc_baab,\n",
    "                           'BABA': _dwpc_baba,\n",
    "                           'repeat_around': _dwpc_repeat_around,\n",
    "                           'interior_complete_group': _dwpc_baba,\n",
    "                           'other': _dwpc_general_case}\n",
    "    return function_dictionary[category]\n",
    "\n",
    "@path_count_cache(metric='dwpc')\n",
    "def dwpc(graph, metapath, damping=0.5, dense_threshold=0, use_general=False,\n",
    "         dtype=numpy.float64):\n",
    "    category = categorize(metapath)\n",
    "    dwpc_function = category_to_function(category)\n",
    "    if category in ('long_repeat', 'other'):\n",
    "        if use_general:\n",
    "            row_names, col_names, dwpc_matrix = _dwpc_general_case(\n",
    "                graph, metapath, damping)\n",
    "        else:\n",
    "            raise NotImplementedError(\n",
    "                'Metapath category will use _dwpc_general_case')\n",
    "    else:\n",
    "        row_names, col_names, dwpc_matrix = dwpc_function(\n",
    "            graph, metapath, damping, dense_threshold=dense_threshold,\n",
    "            dtype=dtype)\n",
    "\n",
    "    return row_names, col_names, dwpc_matrix"
   ]
  },
  {
   "cell_type": "code",
   "execution_count": 7,
   "metadata": {},
   "outputs": [
    {
     "name": "stderr",
     "output_type": "stream",
     "text": [
      "100%|██████████| 1172/1172 [28:40<00:00,  1.47s/it]\n"
     ]
    }
   ],
   "source": [
    "hetmat_rec = hetmech.hetmat.HetMat('../data/hetionet-v1.0.hetmat/')\n",
    "hetmat_rec.path_counts_cache = hetmech.hetmat.PathCountPriorityCache(hetmat_rec, allocate_GB=5)\n",
    "\n",
    "times = []\n",
    "for metapath in tqdm.tqdm(metapaths):\n",
    "    time1 = time.time()\n",
    "    dwpc(hetmat_rec, metapath, dense_threshold=1)\n",
    "    time2 = time.time()\n",
    "    times.append([metapath, time2 - time1, 'recursive'])"
   ]
  },
  {
   "cell_type": "markdown",
   "metadata": {},
   "source": [
    "## Chain DWWC computation times"
   ]
  },
  {
   "cell_type": "code",
   "execution_count": 8,
   "metadata": {},
   "outputs": [],
   "source": [
    "def category_to_function(category):\n",
    "    function_dictionary = {'no_repeats': dwwc_chain,\n",
    "                           'disjoint': _dwpc_disjoint,\n",
    "                           'disjoint_groups': _dwpc_disjoint,\n",
    "                           'short_repeat': _dwpc_short_repeat,\n",
    "                           'long_repeat': _dwpc_general_case,\n",
    "                           'BAAB': _dwpc_baab,\n",
    "                           'BABA': _dwpc_baba,\n",
    "                           'repeat_around': _dwpc_repeat_around,\n",
    "                           'interior_complete_group': _dwpc_baba,\n",
    "                           'other': _dwpc_general_case}\n",
    "    return function_dictionary[category]\n",
    "\n",
    "@path_count_cache(metric='dwpc')\n",
    "def dwpc(graph, metapath, damping=0.5, dense_threshold=0, use_general=False,\n",
    "         dtype=numpy.float64):\n",
    "    category = categorize(metapath)\n",
    "    dwpc_function = category_to_function(category)\n",
    "    if category in ('long_repeat', 'other'):\n",
    "        if use_general:\n",
    "            row_names, col_names, dwpc_matrix = _dwpc_general_case(\n",
    "                graph, metapath, damping)\n",
    "        else:\n",
    "            raise NotImplementedError(\n",
    "                'Metapath category will use _dwpc_general_case')\n",
    "    else:\n",
    "        row_names, col_names, dwpc_matrix = dwpc_function(\n",
    "            graph, metapath, damping, dense_threshold=dense_threshold,\n",
    "            dtype=dtype)\n",
    "\n",
    "    return row_names, col_names, dwpc_matrix"
   ]
  },
  {
   "cell_type": "code",
   "execution_count": 9,
   "metadata": {},
   "outputs": [
    {
     "name": "stderr",
     "output_type": "stream",
     "text": [
      "100%|██████████| 1172/1172 [27:40<00:00,  1.42s/it]\n"
     ]
    }
   ],
   "source": [
    "hetmat_chain = hetmech.hetmat.HetMat('../data/hetionet-v1.0.hetmat/')\n",
    "hetmat_chain.path_counts_cache = hetmech.hetmat.PathCountPriorityCache(hetmat_chain, allocate_GB=5)\n",
    "\n",
    "for metapath in tqdm.tqdm(metapaths):\n",
    "    time1 = time.time()\n",
    "    dwpc(hetmat_chain, metapath, dense_threshold=1)\n",
    "    time2 = time.time()\n",
    "    times.append([metapath, time2 - time1, 'chain'])"
   ]
  },
  {
   "cell_type": "code",
   "execution_count": null,
   "metadata": {},
   "outputs": [],
   "source": [
    "times_df = pd.DataFrame(times, columns=['metapath', 'dwpc-time', 'dwwc-method'])\n",
    "times_df.head()"
   ]
  },
  {
   "cell_type": "markdown",
   "metadata": {},
   "source": [
    "## Baseline cache method using functools"
   ]
  },
  {
   "cell_type": "code",
   "execution_count": 4,
   "metadata": {},
   "outputs": [],
   "source": [
    "def category_to_function(category):\n",
    "    function_dictionary = {'no_repeats': dwwc_chain,\n",
    "                           'disjoint': _dwpc_disjoint,\n",
    "                           'disjoint_groups': _dwpc_disjoint,\n",
    "                           'short_repeat': _dwpc_short_repeat,\n",
    "                           'long_repeat': _dwpc_general_case,\n",
    "                           'BAAB': _dwpc_baab,\n",
    "                           'BABA': _dwpc_baba,\n",
    "                           'repeat_around': _dwpc_repeat_around,\n",
    "                           'interior_complete_group': _dwpc_baba,\n",
    "                           'other': _dwpc_general_case}\n",
    "    return function_dictionary[category]\n",
    "\n",
    "@functools.lru_cache(maxsize=128)\n",
    "def dwpc(graph, metapath, damping=0.5, dense_threshold=0, use_general=False,\n",
    "         dtype=numpy.float64):\n",
    "    category = categorize(metapath)\n",
    "    dwpc_function = category_to_function(category)\n",
    "    if category in ('long_repeat', 'other'):\n",
    "        if use_general:\n",
    "            row_names, col_names, dwpc_matrix = _dwpc_general_case(\n",
    "                graph, metapath, damping)\n",
    "        else:\n",
    "            raise NotImplementedError(\n",
    "                'Metapath category will use _dwpc_general_case')\n",
    "    else:\n",
    "        row_names, col_names, dwpc_matrix = dwpc_function(\n",
    "            graph, metapath, damping, dense_threshold=dense_threshold,\n",
    "            dtype=dtype)\n",
    "\n",
    "    return row_names, col_names, dwpc_matrix"
   ]
  },
  {
   "cell_type": "code",
   "execution_count": 5,
   "metadata": {},
   "outputs": [
    {
     "name": "stderr",
     "output_type": "stream",
     "text": [
      "100%|██████████| 1172/1172 [30:07<00:00,  1.54s/it]\n"
     ]
    }
   ],
   "source": [
    "hetmat = hetmech.hetmat.HetMat('../data/hetionet-v1.0.hetmat/')\n",
    "\n",
    "times=[]\n",
    "for metapath in tqdm.tqdm(metapaths):\n",
    "    time1 = time.time()\n",
    "    dwpc(hetmat, metapath, dense_threshold=1)\n",
    "    time2 = time.time()\n",
    "    times.append([metapath, time2 - time1, 'chain'])"
   ]
  },
  {
   "cell_type": "code",
   "execution_count": null,
   "metadata": {},
   "outputs": [],
   "source": []
  }
 ],
 "metadata": {
  "kernelspec": {
   "display_name": "Python 3",
   "language": "python",
   "name": "python3"
  },
  "language_info": {
   "codemirror_mode": {
    "name": "ipython",
    "version": 3
   },
   "file_extension": ".py",
   "mimetype": "text/x-python",
   "name": "python",
   "nbconvert_exporter": "python",
   "pygments_lexer": "ipython3",
   "version": "3.6.4"
  }
 },
 "nbformat": 4,
 "nbformat_minor": 2
}
