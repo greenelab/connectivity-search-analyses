{
 "cells": [
  {
   "cell_type": "code",
   "execution_count": 1,
   "metadata": {
    "collapsed": true
   },
   "outputs": [],
   "source": [
    "import numpy as np\n",
    "import numpy\n",
    "from scipy import sparse\n",
    "import functools, operator, collections, itertools, pandas as pd"
   ]
  },
  {
   "cell_type": "markdown",
   "metadata": {},
   "source": [
    "## Import both DWPC data-sets"
   ]
  },
  {
   "cell_type": "code",
   "execution_count": 2,
   "metadata": {
    "collapsed": true
   },
   "outputs": [],
   "source": [
    "rep_results = pd.DataFrame.from_csv('data/dwpc.tsv', sep='\\t')\n",
    "rep_results = rep_results.reset_index()\n",
    "\n",
    "rep_results = rep_results[rep_results['hetnet'] == 'rephetio-v2.0']\n",
    "del rep_results['hetnet']"
   ]
  },
  {
   "cell_type": "code",
   "execution_count": 3,
   "metadata": {
    "collapsed": true
   },
   "outputs": [],
   "source": [
    "dwpc_results = pd.DataFrame.from_csv('data/dwpc_data.tsv', sep='\\t')\n",
    "dwpc_results = dwpc_results.reset_index()"
   ]
  },
  {
   "cell_type": "markdown",
   "metadata": {},
   "source": [
    "###  Cut down the diseases and compounds "
   ]
  },
  {
   "cell_type": "code",
   "execution_count": 4,
   "metadata": {
    "collapsed": true
   },
   "outputs": [],
   "source": [
    "rep_compounds = set(list(rep_results['compound_id']))\n",
    "rep_diseases = set(list(rep_results['disease_id']))"
   ]
  },
  {
   "cell_type": "code",
   "execution_count": 5,
   "metadata": {
    "collapsed": true
   },
   "outputs": [],
   "source": [
    "dwpc_results = dwpc_results[[j in rep_compounds for j in dwpc_results['compound']]]\n",
    "dwpc_results = dwpc_results[[j in rep_diseases for j in dwpc_results['disease']]]"
   ]
  },
  {
   "cell_type": "code",
   "execution_count": 6,
   "metadata": {
    "collapsed": true
   },
   "outputs": [],
   "source": [
    "# Make all the rephetio tuples\n",
    "rep_pairs = list(zip(rep_results['compound_id'], rep_results['disease_id']))"
   ]
  },
  {
   "cell_type": "code",
   "execution_count": 7,
   "metadata": {
    "collapsed": true
   },
   "outputs": [],
   "source": [
    "# Designate the rows that are within rephetio pairs\n",
    "cond = []\n",
    "for row in dwpc_results.iterrows():\n",
    "    if (row[1][0], row[1][1]) in rep_pairs:\n",
    "        cond.append(True)\n",
    "    else:\n",
    "        cond.append(False)"
   ]
  },
  {
   "cell_type": "code",
   "execution_count": 8,
   "metadata": {
    "collapsed": true,
    "scrolled": true
   },
   "outputs": [],
   "source": [
    "dwpc_results = dwpc_results[cond]"
   ]
  },
  {
   "cell_type": "markdown",
   "metadata": {},
   "source": [
    "## Re-order the columns"
   ]
  },
  {
   "cell_type": "code",
   "execution_count": 9,
   "metadata": {
    "collapsed": true
   },
   "outputs": [],
   "source": [
    "header = list(dwpc_results)\n",
    "\n",
    "header = header[:2] + list(sorted(header[2:]))"
   ]
  },
  {
   "cell_type": "code",
   "execution_count": 10,
   "metadata": {
    "collapsed": true
   },
   "outputs": [],
   "source": [
    "dwpc_results = dwpc_results[header]"
   ]
  },
  {
   "cell_type": "code",
   "execution_count": 11,
   "metadata": {},
   "outputs": [
    {
     "data": {
      "text/html": [
       "<div>\n",
       "<style>\n",
       "    .dataframe thead tr:only-child th {\n",
       "        text-align: right;\n",
       "    }\n",
       "\n",
       "    .dataframe thead th {\n",
       "        text-align: left;\n",
       "    }\n",
       "\n",
       "    .dataframe tbody tr th {\n",
       "        vertical-align: top;\n",
       "    }\n",
       "</style>\n",
       "<table border=\"1\" class=\"dataframe\">\n",
       "  <thead>\n",
       "    <tr style=\"text-align: right;\">\n",
       "      <th></th>\n",
       "      <th>compound</th>\n",
       "      <th>disease</th>\n",
       "      <th>CbG&lt;rG&lt;rGaD</th>\n",
       "      <th>CbG&lt;rG&lt;rGdD</th>\n",
       "      <th>CbG&lt;rG&lt;rGuD</th>\n",
       "      <th>CbG&lt;rGaD</th>\n",
       "      <th>CbG&lt;rGaDrD</th>\n",
       "      <th>CbG&lt;rGbCpD</th>\n",
       "      <th>CbG&lt;rGbCtD</th>\n",
       "      <th>CbG&lt;rGcGaD</th>\n",
       "      <th>...</th>\n",
       "      <th>CuGuDpCpD</th>\n",
       "      <th>CuGuDpCtD</th>\n",
       "      <th>CuGuDpSpD</th>\n",
       "      <th>CuGuDrD</th>\n",
       "      <th>CuGuDrDrD</th>\n",
       "      <th>CuGuDtCpD</th>\n",
       "      <th>CuGuDtCtD</th>\n",
       "      <th>CuGuDuGaD</th>\n",
       "      <th>CuGuDuGdD</th>\n",
       "      <th>CuGuDuGuD</th>\n",
       "    </tr>\n",
       "  </thead>\n",
       "  <tbody>\n",
       "    <tr>\n",
       "      <th>9</th>\n",
       "      <td>DB00014</td>\n",
       "      <td>DOID:10283</td>\n",
       "      <td>0.0</td>\n",
       "      <td>0.0</td>\n",
       "      <td>0.0</td>\n",
       "      <td>0.0</td>\n",
       "      <td>0.0</td>\n",
       "      <td>0.0</td>\n",
       "      <td>0.0</td>\n",
       "      <td>0.0</td>\n",
       "      <td>...</td>\n",
       "      <td>0.0</td>\n",
       "      <td>0.0</td>\n",
       "      <td>0.000736</td>\n",
       "      <td>0.0</td>\n",
       "      <td>0.000000</td>\n",
       "      <td>0.002448</td>\n",
       "      <td>0.000273</td>\n",
       "      <td>0.001891</td>\n",
       "      <td>0.000000</td>\n",
       "      <td>0.000196</td>\n",
       "    </tr>\n",
       "    <tr>\n",
       "      <th>10</th>\n",
       "      <td>DB00014</td>\n",
       "      <td>DOID:10534</td>\n",
       "      <td>0.0</td>\n",
       "      <td>0.0</td>\n",
       "      <td>0.0</td>\n",
       "      <td>0.0</td>\n",
       "      <td>0.0</td>\n",
       "      <td>0.0</td>\n",
       "      <td>0.0</td>\n",
       "      <td>0.0</td>\n",
       "      <td>...</td>\n",
       "      <td>0.0</td>\n",
       "      <td>0.0</td>\n",
       "      <td>0.001628</td>\n",
       "      <td>0.0</td>\n",
       "      <td>0.001230</td>\n",
       "      <td>0.000000</td>\n",
       "      <td>0.000000</td>\n",
       "      <td>0.001286</td>\n",
       "      <td>0.000000</td>\n",
       "      <td>0.000000</td>\n",
       "    </tr>\n",
       "    <tr>\n",
       "      <th>35</th>\n",
       "      <td>DB00014</td>\n",
       "      <td>DOID:12236</td>\n",
       "      <td>0.0</td>\n",
       "      <td>0.0</td>\n",
       "      <td>0.0</td>\n",
       "      <td>0.0</td>\n",
       "      <td>0.0</td>\n",
       "      <td>0.0</td>\n",
       "      <td>0.0</td>\n",
       "      <td>0.0</td>\n",
       "      <td>...</td>\n",
       "      <td>0.0</td>\n",
       "      <td>0.0</td>\n",
       "      <td>0.000672</td>\n",
       "      <td>0.0</td>\n",
       "      <td>0.001609</td>\n",
       "      <td>0.000000</td>\n",
       "      <td>0.000000</td>\n",
       "      <td>0.000478</td>\n",
       "      <td>0.000000</td>\n",
       "      <td>0.000000</td>\n",
       "    </tr>\n",
       "    <tr>\n",
       "      <th>37</th>\n",
       "      <td>DB00014</td>\n",
       "      <td>DOID:12361</td>\n",
       "      <td>0.0</td>\n",
       "      <td>0.0</td>\n",
       "      <td>0.0</td>\n",
       "      <td>0.0</td>\n",
       "      <td>0.0</td>\n",
       "      <td>0.0</td>\n",
       "      <td>0.0</td>\n",
       "      <td>0.0</td>\n",
       "      <td>...</td>\n",
       "      <td>0.0</td>\n",
       "      <td>0.0</td>\n",
       "      <td>0.000814</td>\n",
       "      <td>0.0</td>\n",
       "      <td>0.000000</td>\n",
       "      <td>0.000000</td>\n",
       "      <td>0.000000</td>\n",
       "      <td>0.000417</td>\n",
       "      <td>0.000000</td>\n",
       "      <td>0.000000</td>\n",
       "    </tr>\n",
       "    <tr>\n",
       "      <th>58</th>\n",
       "      <td>DB00014</td>\n",
       "      <td>DOID:1612</td>\n",
       "      <td>0.0</td>\n",
       "      <td>0.0</td>\n",
       "      <td>0.0</td>\n",
       "      <td>0.0</td>\n",
       "      <td>0.0</td>\n",
       "      <td>0.0</td>\n",
       "      <td>0.0</td>\n",
       "      <td>0.0</td>\n",
       "      <td>...</td>\n",
       "      <td>0.0</td>\n",
       "      <td>0.0</td>\n",
       "      <td>0.000572</td>\n",
       "      <td>0.0</td>\n",
       "      <td>0.000784</td>\n",
       "      <td>0.001128</td>\n",
       "      <td>0.000000</td>\n",
       "      <td>0.002099</td>\n",
       "      <td>0.001107</td>\n",
       "      <td>0.001325</td>\n",
       "    </tr>\n",
       "  </tbody>\n",
       "</table>\n",
       "<p>5 rows × 1172 columns</p>\n",
       "</div>"
      ],
      "text/plain": [
       "   compound     disease  CbG<rG<rGaD  CbG<rG<rGdD  CbG<rG<rGuD  CbG<rGaD  \\\n",
       "9   DB00014  DOID:10283          0.0          0.0          0.0       0.0   \n",
       "10  DB00014  DOID:10534          0.0          0.0          0.0       0.0   \n",
       "35  DB00014  DOID:12236          0.0          0.0          0.0       0.0   \n",
       "37  DB00014  DOID:12361          0.0          0.0          0.0       0.0   \n",
       "58  DB00014   DOID:1612          0.0          0.0          0.0       0.0   \n",
       "\n",
       "    CbG<rGaDrD  CbG<rGbCpD  CbG<rGbCtD  CbG<rGcGaD    ...      CuGuDpCpD  \\\n",
       "9          0.0         0.0         0.0         0.0    ...            0.0   \n",
       "10         0.0         0.0         0.0         0.0    ...            0.0   \n",
       "35         0.0         0.0         0.0         0.0    ...            0.0   \n",
       "37         0.0         0.0         0.0         0.0    ...            0.0   \n",
       "58         0.0         0.0         0.0         0.0    ...            0.0   \n",
       "\n",
       "    CuGuDpCtD  CuGuDpSpD  CuGuDrD  CuGuDrDrD  CuGuDtCpD  CuGuDtCtD  CuGuDuGaD  \\\n",
       "9         0.0   0.000736      0.0   0.000000   0.002448   0.000273   0.001891   \n",
       "10        0.0   0.001628      0.0   0.001230   0.000000   0.000000   0.001286   \n",
       "35        0.0   0.000672      0.0   0.001609   0.000000   0.000000   0.000478   \n",
       "37        0.0   0.000814      0.0   0.000000   0.000000   0.000000   0.000417   \n",
       "58        0.0   0.000572      0.0   0.000784   0.001128   0.000000   0.002099   \n",
       "\n",
       "    CuGuDuGdD  CuGuDuGuD  \n",
       "9    0.000000   0.000196  \n",
       "10   0.000000   0.000000  \n",
       "35   0.000000   0.000000  \n",
       "37   0.000000   0.000000  \n",
       "58   0.001107   0.001325  \n",
       "\n",
       "[5 rows x 1172 columns]"
      ]
     },
     "execution_count": 11,
     "metadata": {},
     "output_type": "execute_result"
    }
   ],
   "source": [
    "dwpc_results.head()"
   ]
  },
  {
   "cell_type": "code",
   "execution_count": 12,
   "metadata": {},
   "outputs": [
    {
     "data": {
      "text/html": [
       "<div>\n",
       "<style>\n",
       "    .dataframe thead tr:only-child th {\n",
       "        text-align: right;\n",
       "    }\n",
       "\n",
       "    .dataframe thead th {\n",
       "        text-align: left;\n",
       "    }\n",
       "\n",
       "    .dataframe tbody tr th {\n",
       "        vertical-align: top;\n",
       "    }\n",
       "</style>\n",
       "<table border=\"1\" class=\"dataframe\">\n",
       "  <thead>\n",
       "    <tr style=\"text-align: right;\">\n",
       "      <th></th>\n",
       "      <th>compound_id</th>\n",
       "      <th>disease_id</th>\n",
       "      <th>CbG&lt;rG&lt;rGaD</th>\n",
       "      <th>CbG&lt;rG&lt;rGdD</th>\n",
       "      <th>CbG&lt;rG&lt;rGuD</th>\n",
       "      <th>CbG&lt;rGaD</th>\n",
       "      <th>CbG&lt;rGaDrD</th>\n",
       "      <th>CbG&lt;rGbCpD</th>\n",
       "      <th>CbG&lt;rGbCtD</th>\n",
       "      <th>CbG&lt;rGcGaD</th>\n",
       "      <th>...</th>\n",
       "      <th>CuGuDpCpD</th>\n",
       "      <th>CuGuDpCtD</th>\n",
       "      <th>CuGuDpSpD</th>\n",
       "      <th>CuGuDrD</th>\n",
       "      <th>CuGuDrDrD</th>\n",
       "      <th>CuGuDtCpD</th>\n",
       "      <th>CuGuDtCtD</th>\n",
       "      <th>CuGuDuGaD</th>\n",
       "      <th>CuGuDuGdD</th>\n",
       "      <th>CuGuDuGuD</th>\n",
       "    </tr>\n",
       "  </thead>\n",
       "  <tbody>\n",
       "    <tr>\n",
       "      <th>0</th>\n",
       "      <td>DB00014</td>\n",
       "      <td>DOID:10283</td>\n",
       "      <td>0.0</td>\n",
       "      <td>0.0</td>\n",
       "      <td>0.0</td>\n",
       "      <td>0.0</td>\n",
       "      <td>0.0</td>\n",
       "      <td>0.0</td>\n",
       "      <td>0.0</td>\n",
       "      <td>0.0</td>\n",
       "      <td>...</td>\n",
       "      <td>0.0</td>\n",
       "      <td>0.0</td>\n",
       "      <td>0.000736</td>\n",
       "      <td>0.0</td>\n",
       "      <td>0.000000</td>\n",
       "      <td>0.002449</td>\n",
       "      <td>0.000273</td>\n",
       "      <td>0.001891</td>\n",
       "      <td>0.000000</td>\n",
       "      <td>0.000196</td>\n",
       "    </tr>\n",
       "    <tr>\n",
       "      <th>1</th>\n",
       "      <td>DB00014</td>\n",
       "      <td>DOID:10534</td>\n",
       "      <td>0.0</td>\n",
       "      <td>0.0</td>\n",
       "      <td>0.0</td>\n",
       "      <td>0.0</td>\n",
       "      <td>0.0</td>\n",
       "      <td>0.0</td>\n",
       "      <td>0.0</td>\n",
       "      <td>0.0</td>\n",
       "      <td>...</td>\n",
       "      <td>0.0</td>\n",
       "      <td>0.0</td>\n",
       "      <td>0.001628</td>\n",
       "      <td>0.0</td>\n",
       "      <td>0.001230</td>\n",
       "      <td>0.000000</td>\n",
       "      <td>0.000000</td>\n",
       "      <td>0.001286</td>\n",
       "      <td>0.000000</td>\n",
       "      <td>0.000000</td>\n",
       "    </tr>\n",
       "    <tr>\n",
       "      <th>2</th>\n",
       "      <td>DB00014</td>\n",
       "      <td>DOID:12236</td>\n",
       "      <td>0.0</td>\n",
       "      <td>0.0</td>\n",
       "      <td>0.0</td>\n",
       "      <td>0.0</td>\n",
       "      <td>0.0</td>\n",
       "      <td>0.0</td>\n",
       "      <td>0.0</td>\n",
       "      <td>0.0</td>\n",
       "      <td>...</td>\n",
       "      <td>0.0</td>\n",
       "      <td>0.0</td>\n",
       "      <td>0.000672</td>\n",
       "      <td>0.0</td>\n",
       "      <td>0.001609</td>\n",
       "      <td>0.000000</td>\n",
       "      <td>0.000000</td>\n",
       "      <td>0.000478</td>\n",
       "      <td>0.000000</td>\n",
       "      <td>0.000000</td>\n",
       "    </tr>\n",
       "    <tr>\n",
       "      <th>3</th>\n",
       "      <td>DB00014</td>\n",
       "      <td>DOID:12361</td>\n",
       "      <td>0.0</td>\n",
       "      <td>0.0</td>\n",
       "      <td>0.0</td>\n",
       "      <td>0.0</td>\n",
       "      <td>0.0</td>\n",
       "      <td>0.0</td>\n",
       "      <td>0.0</td>\n",
       "      <td>0.0</td>\n",
       "      <td>...</td>\n",
       "      <td>0.0</td>\n",
       "      <td>0.0</td>\n",
       "      <td>0.000814</td>\n",
       "      <td>0.0</td>\n",
       "      <td>0.000000</td>\n",
       "      <td>0.000000</td>\n",
       "      <td>0.000000</td>\n",
       "      <td>0.000417</td>\n",
       "      <td>0.000000</td>\n",
       "      <td>0.000000</td>\n",
       "    </tr>\n",
       "    <tr>\n",
       "      <th>4</th>\n",
       "      <td>DB00014</td>\n",
       "      <td>DOID:1612</td>\n",
       "      <td>0.0</td>\n",
       "      <td>0.0</td>\n",
       "      <td>0.0</td>\n",
       "      <td>0.0</td>\n",
       "      <td>0.0</td>\n",
       "      <td>0.0</td>\n",
       "      <td>0.0</td>\n",
       "      <td>0.0</td>\n",
       "      <td>...</td>\n",
       "      <td>0.0</td>\n",
       "      <td>0.0</td>\n",
       "      <td>0.000572</td>\n",
       "      <td>0.0</td>\n",
       "      <td>0.000784</td>\n",
       "      <td>0.001128</td>\n",
       "      <td>0.000000</td>\n",
       "      <td>0.002099</td>\n",
       "      <td>0.001107</td>\n",
       "      <td>0.001325</td>\n",
       "    </tr>\n",
       "  </tbody>\n",
       "</table>\n",
       "<p>5 rows × 1208 columns</p>\n",
       "</div>"
      ],
      "text/plain": [
       "  compound_id  disease_id  CbG<rG<rGaD  CbG<rG<rGdD  CbG<rG<rGuD  CbG<rGaD  \\\n",
       "0     DB00014  DOID:10283          0.0          0.0          0.0       0.0   \n",
       "1     DB00014  DOID:10534          0.0          0.0          0.0       0.0   \n",
       "2     DB00014  DOID:12236          0.0          0.0          0.0       0.0   \n",
       "3     DB00014  DOID:12361          0.0          0.0          0.0       0.0   \n",
       "4     DB00014   DOID:1612          0.0          0.0          0.0       0.0   \n",
       "\n",
       "   CbG<rGaDrD  CbG<rGbCpD  CbG<rGbCtD  CbG<rGcGaD    ...      CuGuDpCpD  \\\n",
       "0         0.0         0.0         0.0         0.0    ...            0.0   \n",
       "1         0.0         0.0         0.0         0.0    ...            0.0   \n",
       "2         0.0         0.0         0.0         0.0    ...            0.0   \n",
       "3         0.0         0.0         0.0         0.0    ...            0.0   \n",
       "4         0.0         0.0         0.0         0.0    ...            0.0   \n",
       "\n",
       "   CuGuDpCtD  CuGuDpSpD  CuGuDrD  CuGuDrDrD  CuGuDtCpD  CuGuDtCtD  CuGuDuGaD  \\\n",
       "0        0.0   0.000736      0.0   0.000000   0.002449   0.000273   0.001891   \n",
       "1        0.0   0.001628      0.0   0.001230   0.000000   0.000000   0.001286   \n",
       "2        0.0   0.000672      0.0   0.001609   0.000000   0.000000   0.000478   \n",
       "3        0.0   0.000814      0.0   0.000000   0.000000   0.000000   0.000417   \n",
       "4        0.0   0.000572      0.0   0.000784   0.001128   0.000000   0.002099   \n",
       "\n",
       "   CuGuDuGdD  CuGuDuGuD  \n",
       "0   0.000000   0.000196  \n",
       "1   0.000000   0.000000  \n",
       "2   0.000000   0.000000  \n",
       "3   0.000000   0.000000  \n",
       "4   0.001107   0.001325  \n",
       "\n",
       "[5 rows x 1208 columns]"
      ]
     },
     "execution_count": 12,
     "metadata": {},
     "output_type": "execute_result"
    }
   ],
   "source": [
    "rep_results.head()"
   ]
  },
  {
   "cell_type": "markdown",
   "metadata": {},
   "source": [
    "# Comparison\n",
    "\n",
    "---"
   ]
  },
  {
   "cell_type": "markdown",
   "metadata": {},
   "source": [
    "## Import both DWPC data-sets"
   ]
  },
  {
   "cell_type": "code",
   "execution_count": 13,
   "metadata": {
    "collapsed": true
   },
   "outputs": [],
   "source": [
    "def get_both(path):\n",
    "    def order_df(df, idn):\n",
    "    # Create a new first column with pairs of compounds and diseases. \n",
    "        df_pairs = list(zip(df['compound' + idn*'_id'], df['disease' + idn*'_id']))\n",
    "        df['tuples'] = df_pairs\n",
    "\n",
    "        # Sort the columns with 'tuples' at the front\n",
    "        cols = list(reversed(sorted(list(df))))\n",
    "        df = df[cols]\n",
    "        del df['compound' + idn*'_id']\n",
    "        del df['disease' + idn*'_id']\n",
    "        return df\n",
    "\n",
    "    rep_results = pd.DataFrame.from_csv('data/dwpc.tsv', sep='\\t')\n",
    "    rep_results = rep_results.reset_index()\n",
    "\n",
    "    # Get only the rows from the correct hetnet then delete that column\n",
    "    rep_results = rep_results[rep_results['hetnet'] == 'rephetio-v2.0']\n",
    "    del rep_results['hetnet']\n",
    "\n",
    "    rep_results = order_df(rep_results, 1)\n",
    "\n",
    "    dwpc_results = pd.DataFrame.from_csv(path, sep='\\t')\n",
    "    dwpc_results = dwpc_results.reset_index()\n",
    "\n",
    "    dwpc_results = order_df(dwpc_results, 0)\n",
    "\n",
    "    dwpc_list = list(dwpc_results)\n",
    "    # Delete columns in rep_results\n",
    "    for i in list(rep_results):\n",
    "        if i not in dwpc_list:\n",
    "            del rep_results[i]\n",
    "\n",
    "    rep_list = list(rep_results['tuples'])\n",
    "    dwpc_results = dwpc_results[[i in rep_list for i in list(dwpc_results['tuples'])]]\n",
    "    \n",
    "    return rep_results, dwpc_results"
   ]
  },
  {
   "cell_type": "code",
   "execution_count": 14,
   "metadata": {
    "collapsed": true
   },
   "outputs": [],
   "source": [
    "def order_df(df, idn):\n",
    "# Create a new first column with pairs of compounds and diseases. \n",
    "    df_pairs = list(zip(df['compound' + idn*'_id'], df['disease' + idn*'_id']))\n",
    "    df['tuples'] = df_pairs\n",
    "\n",
    "    # Sort the columns with 'tuples' at the front\n",
    "    cols = list(reversed(sorted(list(df))))\n",
    "    df = df[cols]\n",
    "    del df['compound' + idn*'_id']\n",
    "    del df['disease' + idn*'_id']\n",
    "    return df"
   ]
  },
  {
   "cell_type": "code",
   "execution_count": 15,
   "metadata": {
    "scrolled": true
   },
   "outputs": [],
   "source": [
    "rep_results, dwpc_results = get_both('data/dwpc_data.tsv')"
   ]
  },
  {
   "cell_type": "code",
   "execution_count": 16,
   "metadata": {
    "collapsed": true
   },
   "outputs": [],
   "source": [
    "dwpc_results = dwpc_results.reset_index()"
   ]
  },
  {
   "cell_type": "markdown",
   "metadata": {},
   "source": [
    "Now that the two dataframes have identical rows and columns in exactly in the same order, subtract the two and find the largest number."
   ]
  },
  {
   "cell_type": "code",
   "execution_count": 17,
   "metadata": {},
   "outputs": [
    {
     "data": {
      "text/plain": [
       "5.000000000032756e-06"
      ]
     },
     "execution_count": 17,
     "metadata": {},
     "output_type": "execute_result"
    }
   ],
   "source": [
    "((rep_results.loc[:, 'CuGuCtDrD':'CbG<rG<rGaD'].sub(dwpc_results.loc[:, 'CuGuCtDrD':'CbG<rG<rGaD'])).max()).max()"
   ]
  },
  {
   "cell_type": "markdown",
   "metadata": {
    "collapsed": true
   },
   "source": [
    "This number is extremely small, so our new method has been successful for all metapaths!"
   ]
  }
 ],
 "metadata": {
  "kernelspec": {
   "display_name": "Python [conda env:hetmech]",
   "language": "python",
   "name": "conda-env-hetmech-py"
  },
  "language_info": {
   "codemirror_mode": {
    "name": "ipython",
    "version": 3
   },
   "file_extension": ".py",
   "mimetype": "text/x-python",
   "name": "python",
   "nbconvert_exporter": "python",
   "pygments_lexer": "ipython3",
   "version": "3.6.0"
  }
 },
 "nbformat": 4,
 "nbformat_minor": 2
}
